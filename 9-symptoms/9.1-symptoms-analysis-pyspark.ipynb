{
 "cells": [
  {
   "cell_type": "code",
   "execution_count": 1,
   "metadata": {},
   "outputs": [],
   "source": [
    "import pandas as pd\n",
    "import numpy as np\n",
    "import json\n",
    "import os\n",
    "import multiprocessing as mp\n",
    "from time import time\n",
    "import socket\n",
    "from pathlib import Path\n",
    "import re\n",
    "import unicodedata\n",
    "import sys\n",
    "\n",
    "import warnings\n",
    "warnings.filterwarnings('ignore')"
   ]
  },
  {
   "cell_type": "code",
   "execution_count": 2,
   "metadata": {},
   "outputs": [],
   "source": [
    "from pyspark.sql import SparkSession\n",
    "import pyspark.sql.functions as F\n",
    "from pyspark.sql.types import *\n",
    "from py4j.java_gateway import java_import\n",
    "from functools import reduce\n",
    "from pyspark.sql import DataFrame\n",
    "from pyspark import SparkContext"
   ]
  },
  {
   "cell_type": "markdown",
   "metadata": {},
   "source": [
    "# 0. Init"
   ]
  },
  {
   "cell_type": "code",
   "execution_count": 3,
   "metadata": {},
   "outputs": [],
   "source": [
    "memory = '10g'\n",
    "pyspark_submit_args = ' --driver-memory ' + memory + ' pyspark-shell'\n",
    "os.environ[\"PYSPARK_SUBMIT_ARGS\"] = pyspark_submit_args"
   ]
  },
  {
   "cell_type": "code",
   "execution_count": 4,
   "metadata": {},
   "outputs": [
    {
     "name": "stdout",
     "output_type": "stream",
     "text": [
      "Create Local SparkSession\n"
     ]
    }
   ],
   "source": [
    "try:\n",
    "    spark\n",
    "except NameError:\n",
    "    print('Create Local SparkSession')\n",
    "    spark=SparkSession.builder.config(\"spark.driver.host\", \"localhost\").appName(\"extract-timelines\").getOrCreate()\n",
    "    \n",
    "# IgnoreCorruptFiles\n",
    "spark.conf.set(\"spark.sql.files.ignoreCorruptFiles\", \"true\")\n",
    "spark.conf.set(\"spark.sql.execution.arrow.enabled\", \"true\")\n",
    "\n",
    "sc = spark.sparkContext"
   ]
  },
  {
   "cell_type": "code",
   "execution_count": 5,
   "metadata": {},
   "outputs": [],
   "source": [
    "# Paths to data\n",
    "path_to_data = \"../data/\"\n",
    "path_to_external_data = os.path.join(path_to_data, \"external-data/\")\n",
    "path_to_parquets = os.path.join(path_to_data,'chunks','IDF-departments-to-analyze')\n",
    "parquet_files = sorted([x for x in Path(path_to_parquets).glob(\"**/*.parquet\")])"
   ]
  },
  {
   "cell_type": "code",
   "execution_count": 6,
   "metadata": {},
   "outputs": [
    {
     "name": "stdout",
     "output_type": "stream",
     "text": [
      "List files to be processed...\n",
      "# Files: 16\n"
     ]
    }
   ],
   "source": [
    "print('List files to be processed...')\n",
    "\n",
    "fs=spark._jvm.org.apache.hadoop.fs.FileSystem.get(spark._jsc.hadoopConfiguration())\n",
    "list_status=fs.listStatus(spark._jvm.org.apache.hadoop.fs.Path(path_to_parquets))\n",
    "\n",
    "paths=[file.getPath().toString() for file in list_status]\n",
    "np.random.seed(0)\n",
    "paths=np.random.permutation(sorted(parquet_files))\n",
    "\n",
    "print('# Files:', len(paths))"
   ]
  },
  {
   "cell_type": "code",
   "execution_count": 7,
   "metadata": {},
   "outputs": [],
   "source": [
    "tweets=spark.read.option(\"encoding\", \"UTF-8\").parquet(os.path.join(path_to_data,'chunks','IDF-departments-to-analyze'))"
   ]
  },
  {
   "cell_type": "code",
   "execution_count": 8,
   "metadata": {},
   "outputs": [
    {
     "name": "stdout",
     "output_type": "stream",
     "text": [
      "Number of tweets : 29647175\n",
      "Number of unique users : 30651\n"
     ]
    }
   ],
   "source": [
    "print(\"Number of tweets : %d\" % tweets.count())\n",
    "print(\"Number of unique users : %d\" % tweets.select('user_id').distinct().count())"
   ]
  },
  {
   "cell_type": "markdown",
   "metadata": {},
   "source": [
    "# 1. Data cleaning"
   ]
  },
  {
   "cell_type": "code",
   "execution_count": 9,
   "metadata": {},
   "outputs": [],
   "source": [
    "# UNIDECODE : remove accents\n",
    "def make_trans():\n",
    "    matching_string = \"\"\n",
    "    replace_string = \"\"\n",
    "\n",
    "    for i in range(ord(\" \"), sys.maxunicode):\n",
    "        name = unicodedata.name(chr(i), \"\")\n",
    "        if \"WITH\" in name:\n",
    "            try:\n",
    "                base = unicodedata.lookup(name.split(\" WITH\")[0])\n",
    "                matching_string += chr(i)\n",
    "                replace_string += base\n",
    "            except KeyError:\n",
    "                pass\n",
    "\n",
    "    return matching_string, replace_string\n",
    "\n",
    "def clean_text(c):\n",
    "    matching_string, replace_string = make_trans()\n",
    "    return F.translate(\n",
    "        F.regexp_replace(c, \"\\p{M}\", \"\"), \n",
    "        matching_string, replace_string\n",
    "    ).alias(c)"
   ]
  },
  {
   "cell_type": "code",
   "execution_count": 10,
   "metadata": {},
   "outputs": [],
   "source": [
    "def clean_dataset(df):\n",
    "    \n",
    "    df=df.select(\n",
    "            'user_id',\n",
    "            F.date_format(F.col('created_at'),\"yyyy-MM-dd\").alias('day').cast(\"date\"),\n",
    "            F.lower(F.col('full_text')).alias('full_text'),\n",
    "            'lang',\n",
    "            'Department',\n",
    "            #'Code department'\n",
    "            )\n",
    "    \n",
    "    df = df.repartition(160)\n",
    "\n",
    "    # remove rt\n",
    "    df = df.filter(~ df.full_text.startswith('rt'))\n",
    "   \n",
    "    # remove user ids and urls\n",
    "    df = df.withColumn('full_text', F.regexp_replace('full_text', r'@[A-Za-z0-9-_]+','@mention'))\n",
    "    df = df.withColumn('full_text', F.regexp_replace('full_text', 'https?://[A-Za-z0-9./]+','<url>'))\n",
    "    \n",
    "    # language : french\n",
    "    df = df.filter(df.lang=='fr')\n",
    "    \n",
    "    return df"
   ]
  },
  {
   "cell_type": "code",
   "execution_count": 11,
   "metadata": {},
   "outputs": [],
   "source": [
    "tweets = clean_dataset(tweets)\n",
    "tweets = tweets.select('user_id', 'day', clean_text('full_text'), 'lang', 'Department')\n",
    "#tweets = tweets.select('user_id', 'day', clean_text('full_text'), 'lang', 'Department', 'Code department')"
   ]
  },
  {
   "cell_type": "code",
   "execution_count": 12,
   "metadata": {},
   "outputs": [],
   "source": [
    "# Cleaning: remove @mention [url] # and punctuation-smileys\n",
    "#tweets = tweets.withColumn('full_text', F.regexp_replace('full_text','@mention', ''))\n",
    "#tweets = tweets.withColumn('full_text', F.regexp_replace('full_text', '<url>', ''))\n",
    "#tweets = tweets.withColumn('full_text', F.regexp_replace('full_text', '#', ''))\n",
    "tweets = tweets.withColumn('full_text', F.regexp_replace('full_text', '[^\\sa-zA-Z0-9@]', ' '))\n",
    "\n",
    "# Remove heading and trailing whitespace\n",
    "tweets = tweets.withColumn('full_text', F.ltrim(tweets.full_text))\n",
    "tweets = tweets.withColumn('full_text', F.rtrim(tweets.full_text))"
   ]
  },
  {
   "cell_type": "markdown",
   "metadata": {},
   "source": [
    "# 2. Symptoms analysis"
   ]
  },
  {
   "cell_type": "code",
   "execution_count": 13,
   "metadata": {},
   "outputs": [],
   "source": [
    "tweets = tweets.withColumn('covid', F.col('full_text').rlike('covid|corona |coronavirus'))\n",
    "tweets = tweets.withColumn('confinement', F.col('full_text').rlike('confin|quarantaine'))\n",
    "tweets = tweets.withColumn('RestezChezVous', F.col('full_text').rlike('je reste chez moi|jerestechezmoi|restezchezvous|restez chez vous'))"
   ]
  },
  {
   "cell_type": "code",
   "execution_count": 14,
   "metadata": {},
   "outputs": [
    {
     "name": "stdout",
     "output_type": "stream",
     "text": [
      "Number of tweets mentioning COVID : 150280\n",
      "Number of tweets mentioning lockdown/quarantine : 158260\n"
     ]
    }
   ],
   "source": [
    "print(\"Number of tweets mentioning COVID : %d\" % tweets.filter(tweets.covid==1).count())\n",
    "print(\"Number of tweets mentioning lockdown/quarantine : %d\" % tweets.filter(tweets.confinement==1).count())"
   ]
  },
  {
   "cell_type": "code",
   "execution_count": 15,
   "metadata": {},
   "outputs": [],
   "source": [
    "symptoms_dict_fr = {'cough' : ['toux', 'tousse'],\n",
    "                   'sore_throat' : ['maux de gorge', 'mal de gorge', 'mal a la gorge'],\n",
    "                   'fever' : ['fievre', 'de la temperature'],\n",
    "                    #'mal de tête' : ['mal de tête','mal de crâne','mal à la tête','mal de tete','mal de crane','mal à la tete'],\n",
    "                   'loss_taste' : ['perte du gout', \"perte de lodorat\",\"perte de l odorat\",\"perdu l odorat\",\"perdu lodorat\",\n",
    "                                   \"perdu le gout\",\"plus de gout\",\"plus dodeur\",\"plus d odeur\"],\n",
    "                   'skin_symptom' : ['engelures'],\n",
    "                   'symptoms' : ['symptome'],\n",
    "                   'breathing_difficulties' : ['difficultes a respirer', 'difficultes respiratoires', 'difficulte a respirer',\n",
    "                                               'mal a respirer']\n",
    "                   #'hospitalisation' : ['hôpital','hopital','hospital','réanim','reanim']\n",
    "                   }\n",
    "\n",
    "for symptom in symptoms_dict_fr.keys():\n",
    "    tweets = tweets.withColumn(symptom, F.col('full_text').rlike(('|').join(symptoms_dict_fr.get(symptom))))\n",
    "tweets = tweets.withColumn('nb_symptoms', sum(tweets[c].cast('long') for c in list(symptoms_dict_fr.keys())))\n",
    "tweets = tweets.withColumn('contains_symptom', F.col('nb_symptoms')>=1)"
   ]
  },
  {
   "cell_type": "code",
   "execution_count": 16,
   "metadata": {
    "scrolled": true
   },
   "outputs": [
    {
     "name": "stdout",
     "output_type": "stream",
     "text": [
      "Number of tweets mentionning symptoms : 8506\n"
     ]
    }
   ],
   "source": [
    "print(\"Number of tweets mentionning symptoms : %d\" % tweets.filter(tweets.contains_symptom==1).count())"
   ]
  },
  {
   "cell_type": "code",
   "execution_count": 17,
   "metadata": {},
   "outputs": [],
   "source": [
    "tweets = tweets.withColumn('full_text2', F.regexp_replace('full_text','@mention', ''))"
   ]
  },
  {
   "cell_type": "code",
   "execution_count": 18,
   "metadata": {},
   "outputs": [],
   "source": [
    "# NEW FILTERS : if contains a pronum (marker of lived experience), or tweet startswith a symptom, \n",
    "# AND tweet does not contain hashtag\n",
    "\n",
    "# Indicators of feeling\n",
    "pronums = ['g','j a','j ai','jai','m a','m ai','je','me', 'mes', 'l a', 'l ai','mon','ma','son','sa','jsui','j sui','j suis','jtousse']\n",
    "\n",
    "tweets = tweets.withColumn('pronum', \n",
    "                           (F.col('full_text').rlike(' |'.join(['^'+s for s in pronums]))) |\n",
    "                          (F.col('full_text').rlike((' | ').join(pronums))))\n",
    "\n",
    "# Startswith symptom\n",
    "tweets = tweets.withColumn('full_text2', F.regexp_replace('full_text','@mention', ''))\n",
    "tweets = tweets.withColumn('full_text2', F.ltrim(tweets.full_text2)) \\\n",
    "                .withColumn('start_symptom', (F.col('full_text2').rlike('|'.join(['^'+s for s in list(symptoms_dict_fr.keys())]))))\n",
    "\n",
    "# Hashtags\n",
    "tweets = tweets.withColumn('hashtag', F.col('full_text').contains('#'))\n",
    "\n",
    "# Classif\n",
    "tweets = tweets.withColumn('has_symptom', ((F.col('pronum')==1) | (F.col('start_symptom')==1)) & \n",
    "                           (F.col('hashtag')==0) & (F.col('contains_symptom')==1))"
   ]
  },
  {
   "cell_type": "code",
   "execution_count": 19,
   "metadata": {},
   "outputs": [
    {
     "name": "stdout",
     "output_type": "stream",
     "text": [
      "Number of tweets of people having symptoms : 3941\n"
     ]
    }
   ],
   "source": [
    "print(\"Number of tweets of people having symptoms : %d\" % tweets.filter(tweets.has_symptom==1).count())"
   ]
  },
  {
   "cell_type": "code",
   "execution_count": 20,
   "metadata": {},
   "outputs": [
    {
     "name": "stdout",
     "output_type": "stream",
     "text": [
      "+----------------------------------------------------------------------------------------------------------------------------------------------------------------------------------------------------------------------------------------------------------------------+\n",
      "|full_text                                                                                                                                                                                                                                                             |\n",
      "+----------------------------------------------------------------------------------------------------------------------------------------------------------------------------------------------------------------------------------------------------------------------+\n",
      "|jarrete pas de tousser ca m empeche de dormir et j ai trop peur de de reveiller ma mere                                                                                                                                                                               |\n",
      "|@mention si j ai des symptomes j irai  pour l instant ras je vais bien                                                                                                                                                                                                |\n",
      "|technique pour eviter que les gens viennent s installer a cote de moi dans le ter \n",
      "tousser et me moucher en mode jean pierre peraut \n",
      " coronavirus pour ta place dans lbus                                                                                             |\n",
      "|oblige d alle travailler et je suis hallucine de voir le nombre de gens qui toussent dans leur mains    au mieux    parce que sinon c est a la facon des enculay    a l arrache sans se nous proteger    \n",
      " confinement  arretezdetrecon                               |\n",
      "|@mention son mari vient de me le dire il m  a invite a diner et en plus c est hyper epice j ai mal a la gorge                                                                                                                                                         |\n",
      "|@mention je suis un peu fievreux en ce moment  ca doit pas m aider                                                                                                                                                                                                    |\n",
      "|totalement d accord avec @mention au sujet du pr montagnier qui soutient une theorie complotiste ridicule et dangereuse   prixnobel ne veut pas dire omniscient  on touche le fond avec le delire sur la  5g  symptome de demence senile      url                     |\n",
      "|en meme temps  peut etre qu elle reste calme avec moi parce que je ne dis pas que le confinement est exagere parce que le coronavirus c est pas grave  apres tout plein de gens sont contamines mais ne developpent aucun symptome                                    |\n",
      "|ptdrr j ai une insuffisance respiratoire depuis 2 semaines hamdoulilah c est mon seul symptome                                                                                                                                                                        |\n",
      "|je me suis retrouvee chez le coiffeur a 4 dans un petit espace shampoing avec des vieilles qui toussent  le deconfinement est pas compris pour tous de la meme facon  je sais que j ai ete exposee  et me suis exposee  a un risque  quel degre de risque accepte t on|\n",
      "|@mention pas de formes graves     peut etre  en revanche au moins une forme longue de 3 semaines  sans appetit  avec de la fievre persistante   des orgelets a repetition  un moral au plus bas et une perte de poids importante pour son gabarit   parents inquiets  |\n",
      "|bon ben mes resultats de serologie covid viennent de tomber   je suis negative  alors que j ai ete en contact avec plein de cas  je preleve tous les matins en nasopharynge et que j avais eu de petits symptomes il y a un mois \n",
      "pas d immunite                      |\n",
      "|le 11 de poitoux  des podcasts de 11 min pour en savoir plus sur l election municipale et la ville que nous souhaitons construire avec vous  @mention @mention    je reponds a leurs questions sur le prochain episode diffuse a 11h ce matin    url                  |\n",
      "|@mention quelqu un a les symptomes du coronavirus   si oui une bonne toux dans sa tronche et le tour est joue                                                                                                                                                         |\n",
      "|c est a plus de 100km et je ne peux donc pas y retourner tout de suite     mais ces images de beaumont du ventoux  mon village  et des enfants de son ecole  en classe unique cc @mention @mention  font du bien   merci @mention @mention @mention @mention  url     |\n",
      "|@mention @mention donc 1ere fois oui positive\n",
      "2eme fois oui negative malgre les symptomes  l a refile a son copain  tres rapidement mal    re testee et positive   un bordel                                                                                          |\n",
      "|mes regles ultra douloureuses me donnent la nausee et de la fievre alors que je dois aller travailler  j ai du mal a me lever mais je dois depenser mes derniers euros dans des protections hygieniques qui coutent la peau du cul                                    |\n",
      "|2 enfants malades sur 3 ici    sos medecin appele a 12h00    il est 16 21   tjs personne  je viens de rappeler pas avant 2heures   rappel des symptomes   fievre ou   sensation    nez qui coule  toux    en gros le truc classique                                   |\n",
      "|j ai mal a la gorge                                                                                                                                                                                                                                                   |\n",
      "|oh non  est ce je m apprete vraiment a avoir une crise de toux dans un rer b bonde                                                                                                                                                                                    |\n",
      "+----------------------------------------------------------------------------------------------------------------------------------------------------------------------------------------------------------------------------------------------------------------------+\n",
      "only showing top 20 rows\n",
      "\n"
     ]
    }
   ],
   "source": [
    "tweets.filter(tweets.has_symptom==1).select('full_text').show(n=20, truncate=False)"
   ]
  }
 ],
 "metadata": {
  "kernelspec": {
   "display_name": "Python 3",
   "language": "python",
   "name": "python3"
  },
  "language_info": {
   "codemirror_mode": {
    "name": "ipython",
    "version": 3
   },
   "file_extension": ".py",
   "mimetype": "text/x-python",
   "name": "python",
   "nbconvert_exporter": "python",
   "pygments_lexer": "ipython3",
   "version": "3.7.7"
  }
 },
 "nbformat": 4,
 "nbformat_minor": 4
}
