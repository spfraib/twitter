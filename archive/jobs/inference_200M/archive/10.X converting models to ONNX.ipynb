{
 "cells": [
  {
   "cell_type": "code",
   "execution_count": 1,
   "metadata": {},
   "outputs": [],
   "source": [
    "import torch\n",
    "from transformers import BertConfig, BertTokenizer, BertTokenizerFast, BertForSequenceClassification\n",
    "import onnxruntime as ort\n",
    "from onnxruntime_tools import optimizer\n",
    "import argparse\n",
    "import pandas as pd\n",
    "import numpy as np\n",
    "from transformers.convert_graph_to_onnx import convert\n",
    "import os\n",
    "import time\n",
    "import torch.nn.functional as F\n",
    "import onnx"
   ]
  },
  {
   "cell_type": "code",
   "execution_count": 18,
   "metadata": {},
   "outputs": [],
   "source": [
    "from quantize import quantize, QuantizationMode"
   ]
  },
  {
   "cell_type": "code",
   "execution_count": 25,
   "metadata": {},
   "outputs": [
    {
     "name": "stdout",
     "output_type": "stream",
     "text": [
      "lost_job_1mo\n",
      "converting\n",
      "ONNX opset version set to: 11\n",
      "Loading pipeline (model: /scratch/da2734/twitter/jobs/onnx/results_simpletransformers_jun3_10Klabels_0_all_labels/lost_job_1mo/, tokenizer: DeepPavlov/bert-base-cased-conversational)\n",
      "PyTorch: 1.5.0+cu101\n",
      "optimizing\n",
      "Optimized model saved at : /scratch/da2734/twitter/jobs/onnx/results_simpletransformers_jun3_10Klabels_0_all_labels/lost_job_1mo/onnx/bert_optimized.onnx\n",
      "quantizing\n",
      "Quantized&optimized model saved at : /scratch/da2734/twitter/jobs/onnx/results_simpletransformers_jun3_10Klabels_0_all_labels/lost_job_1mo/onnx/bert_optimized_quantized.onnx\n"
     ]
    }
   ],
   "source": [
    "model_path = '/scratch/da2734/twitter/jobs/onnx/results_simpletransformers_jun3_10Klabels_0_all_labels/lost_job_1mo/'\n",
    "onnx_path = '/scratch/da2734/twitter/jobs/onnx/results_simpletransformers_jun3_10Klabels_0_all_labels/lost_job_1mo/onnx/'\n",
    "\n",
    "for label in [\"lost_job_1mo\",\"is_unemployed\", \"job_search\", \"is_hired_1mo\", \"job_offer\"]:\n",
    "\n",
    "    print(label)\n",
    "    model_path = '/scratch/da2734/twitter/jobs/onnx/results_simpletransformers_jun3_10Klabels_0_all_labels/{}/'.format(label)\n",
    "    onnx_path = '/scratch/da2734/twitter/jobs/onnx/results_simpletransformers_jun3_10Klabels_0_all_labels/{}/onnx/'.format(label)\n",
    "    os.makedirs(onnx_path)\n",
    "    \n",
    "    print('converting')\n",
    "    convert(framework=\"pt\", \n",
    "        model=model_path, \n",
    "        tokenizer=\"DeepPavlov/bert-base-cased-conversational\",\n",
    "        output=onnx_path+'converted.onnx', \n",
    "        opset=11)\n",
    "\n",
    "    print('optimizing')\n",
    "    # ONNX optimization\n",
    "    optimized_model = optimizer.optimize_model(onnx_path+'/converted.onnx',\n",
    "                                               model_type='bert', \n",
    "                                               num_heads=12, \n",
    "                                               hidden_size=768)\n",
    "\n",
    "    optimized_onnx_model_path = os.path.join(onnx_path, 'bert_optimized.onnx')\n",
    "    optimized_model.save_model_to_file(optimized_onnx_model_path)\n",
    "    print('Optimized model saved at :', optimized_onnx_model_path)\n",
    "\n",
    "    print('quantizing')    \n",
    "    # ONNX quantization\n",
    "    model = onnx.load(onnx_path+'/converted.onnx')\n",
    "    quantized_model = quantize(model, quantization_mode=QuantizationMode.IntegerOps, static=False)\n",
    "    optimized_quantized_onnx_model_path = os.path.join(os.path.dirname(optimized_onnx_model_path), 'bert_optimized_quantized.onnx')\n",
    "    onnx.save(quantized_model, optimized_quantized_onnx_model_path)\n",
    "    print('Quantized&optimized model saved at :', optimized_quantized_onnx_model_path)\n",
    "    \n",
    "    break"
   ]
  }
 ],
 "metadata": {
  "kernelspec": {
   "display_name": "Python 3",
   "language": "python",
   "name": "python3"
  },
  "language_info": {
   "codemirror_mode": {
    "name": "ipython",
    "version": 3
   },
   "file_extension": ".py",
   "mimetype": "text/x-python",
   "name": "python",
   "nbconvert_exporter": "python",
   "pygments_lexer": "ipython3",
   "version": "3.7.4"
  }
 },
 "nbformat": 4,
 "nbformat_minor": 4
}
