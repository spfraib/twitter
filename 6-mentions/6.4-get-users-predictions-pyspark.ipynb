{
 "cells": [
  {
   "cell_type": "code",
   "execution_count": 5,
   "metadata": {},
   "outputs": [],
   "source": [
    "import os\n",
    "import socket\n",
    "from timeit import default_timer as timer\n",
    "from pyspark.sql import SparkSession\n",
    "import pyspark.sql.functions as F\n",
    "from pyspark.ml.feature import QuantileDiscretizer\n",
    "try:\n",
    "    spark\n",
    "except NameError:\n",
    "    spark = SparkSession.builder.appName(\"\").getOrCreate()"
   ]
  },
  {
   "cell_type": "code",
   "execution_count": 20,
   "metadata": {},
   "outputs": [
    {
     "name": "stdout",
     "output_type": "stream",
     "text": [
      "Country: US\n",
      "Min. Account Creation: 365\n",
      "Min. Statuses Count: 100\n",
      "\n",
      "Labels:\n",
      " loss\n",
      "unemployed\n",
      "search\n",
      "hire\n",
      "offer\n",
      "\n",
      "Features:\n",
      " statuses_count\n",
      "account_age\n",
      "followers_count\n",
      "friends_count\n"
     ]
    }
   ],
   "source": [
    "country_code=\"US\"\n",
    "min_status=0\n",
    "min_age=0\n",
    "labels=['loss', 'unemployed', 'search', 'hire', 'offer']\n",
    "out_of_work = ['loss', 'unemployed', 'search']\n",
    "features=['statuses_count', 'account_age', 'followers_count', 'friends_count']\n",
    "path_to_data='/user/spf248/twitter/data'\n",
    "print('Country:',country_code)\n",
    "print('Min. Account Creation:',min_age)\n",
    "print('Min. Statuses Count:',min_status)\n",
    "print('\\nLabels:\\n','\\n'.join(labels))\n",
    "print('\\nFeatures:\\n','\\n'.join(features))"
   ]
  },
  {
   "cell_type": "code",
   "execution_count": null,
   "metadata": {},
   "outputs": [],
   "source": [
    "print('Load...')\n",
    "start = timer()\n",
    "predictions=spark.read.orc(os.path.join(path_to_data,'classification',country_code,'keywords'))\n",
    "users=spark.read.parquet(os.path.join(path_to_data,'classification',country_code,'users'))\n",
    "end = timer()\n",
    "print('Computing time (in sec.):', round(end - start))"
   ]
  },
  {
   "cell_type": "code",
   "execution_count": null,
   "metadata": {},
   "outputs": [],
   "source": [
    "print('Discretize...')\n",
    "start = timer()\n",
    "tmp=users.filter(users['account_age']>=min_age).filter(users['statuses_count']>=min_status)\n",
    "for feature in features:\n",
    "    qds = QuantileDiscretizer(numBuckets=2,inputCol=feature,outputCol=feature+'_quantile',relativeError=0.01)\n",
    "    bucketizer = qds.fit(tmp)\n",
    "    tmp = bucketizer.setHandleInvalid(\"skip\").transform(tmp)\n",
    "end = timer()\n",
    "print('Computing time (in sec.):', round(end - start))"
   ]
  },
  {
   "cell_type": "code",
   "execution_count": null,
   "metadata": {},
   "outputs": [],
   "source": [
    "print('Count users in each status...')\n",
    "start = timer()\n",
    "df=predictions.withColumn('out_of_work',(sum([predictions[col] for col in out_of_work])>0).cast(\"int\"))\n",
    "df=df.withColumn('year',F.year('created_at').cast(\"string\"))\n",
    "df=df.withColumn('month',F.month('created_at').cast(\"string\"))\n",
    "df=df.groupBy('year','month','user_location','user_id').max()\n",
    "df=df.toDF(*(col.replace('max(','').replace(')','') for col in df.columns))\n",
    "df=df.join(tmp.select(*['user_id','oldest_tweet']+[feature+'_quantile' for feature in features]),on='user_id')\n",
    "# col2func=dict((label,'sum') for label in labels+['out_of_work'])\n",
    "# col2func.update({'user_id':'count'})\n",
    "# df=df.groupby(['year','month','user_location']+[feature+'_quantile' for feature in features]).agg(col2func)\n",
    "# df=df.toDF(*(col.replace('count(','').replace('sum(','').replace(')','') for col in df.columns))\n",
    "df.write.mode(\"overwrite\").parquet(os.path.join(path_to_data,'classification',country_code,'users_predictions'))\n",
    "end = timer()\n",
    "print('Computing time (in sec.):', round(end - start))"
   ]
  }
 ],
 "metadata": {
  "kernelspec": {
   "display_name": "Python 3",
   "language": "python",
   "name": "python3"
  },
  "language_info": {
   "codemirror_mode": {
    "name": "ipython",
    "version": 3
   },
   "file_extension": ".py",
   "mimetype": "text/x-python",
   "name": "python",
   "nbconvert_exporter": "python",
   "pygments_lexer": "ipython3",
   "version": "3.7.7"
  }
 },
 "nbformat": 4,
 "nbformat_minor": 4
}
