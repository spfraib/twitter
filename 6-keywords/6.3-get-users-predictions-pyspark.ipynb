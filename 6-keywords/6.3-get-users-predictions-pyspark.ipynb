{
 "cells": [
  {
   "cell_type": "code",
   "execution_count": 5,
   "metadata": {},
   "outputs": [],
   "source": [
    "import os\n",
    "from timeit import default_timer as timer\n",
    "from pyspark.sql import SparkSession\n",
    "import pyspark.sql.functions as F\n",
    "from pyspark.ml.feature import QuantileDiscretizer\n",
    "try:\n",
    "    spark\n",
    "except NameError:\n",
    "    spark = SparkSession.builder.appName(\"\").getOrCreate()"
   ]
  },
  {
   "cell_type": "code",
   "execution_count": 1,
   "metadata": {},
   "outputs": [
    {
     "name": "stdout",
     "output_type": "stream",
     "text": [
      "Country: US\n",
      "Number of quantiles: 10\n",
      "Labels: loss, unemployed, search, hire, offer\n",
      "Features: statuses_per_day, account_age\n"
     ]
    }
   ],
   "source": [
    "country_code=\"US\"\n",
    "labels=['loss', 'unemployed', 'search', 'hire', 'offer']\n",
    "out_of_work = ['loss', 'unemployed', 'search']\n",
    "features=['statuses_per_day', 'account_age']\n",
    "n_quantiles=10\n",
    "path_to_data='/user/spf248/twitter/data'\n",
    "print('Country:',country_code)\n",
    "print('Number of quantiles:',n_quantiles)\n",
    "print('Labels:',', '.join(labels))\n",
    "print('Features:',', '.join(features))"
   ]
  },
  {
   "cell_type": "code",
   "execution_count": null,
   "metadata": {},
   "outputs": [],
   "source": [
    "print('Load...')\n",
    "start = timer()\n",
    "predictions=spark.read.orc(os.path.join(path_to_data,'classification',country_code,'keywords'))\n",
    "users=spark.read.parquet(os.path.join(path_to_data,'classification',country_code,'users'))\n",
    "end = timer()\n",
    "print('Computing time (in sec.):', round(end - start))"
   ]
  },
  {
   "cell_type": "code",
   "execution_count": null,
   "metadata": {},
   "outputs": [],
   "source": [
    "print('Discretize...')\n",
    "start = timer()\n",
    "tmp=users.select('user_id','statuses_count','account_age')\n",
    "tmp=tmp.withColumn('statuses_per_day',F.col('statuses_count')/F.col('account_age'))\n",
    "for feature in features:\n",
    "    qds=QuantileDiscretizer(numBuckets=n_quantiles,inputCol=feature,outputCol=feature+'_quantile',relativeError=0.01)\n",
    "    bucketizer=qds.fit(tmp)\n",
    "    tmp=bucketizer.setHandleInvalid(\"skip\").transform(tmp)\n",
    "end = timer()\n",
    "print('Computing time (in sec.):', round(end - start))"
   ]
  },
  {
   "cell_type": "code",
   "execution_count": null,
   "metadata": {},
   "outputs": [],
   "source": [
    "print('Count users in each status...')\n",
    "start = timer()\n",
    "df=predictions.withColumn('out_of_work',(sum([predictions[col] for col in out_of_work])>0).cast(\"int\"))\n",
    "df=df.withColumn('year',F.year('created_at').cast(\"string\"))\n",
    "df=df.withColumn('month',F.month('created_at').cast(\"string\"))\n",
    "df=df.groupBy('year','month','user_location','user_id').max()\n",
    "df=df.toDF(*(col.replace('max(','').replace(')','') for col in df.columns))\n",
    "df=df.join(tmp.select(*['user_id']+[feature+'_quantile' for feature in features]),on='user_id')\n",
    "col2func=dict((label,'sum') for label in labels+['out_of_work'])\n",
    "col2func.update({'user_id':'count'})\n",
    "df=df.groupby(['year','month','user_location']+[feature+'_quantile' for feature in features]).agg(col2func)\n",
    "df=df.toDF(*(col.replace('count(','').replace('sum(','').replace(')','') for col in df.columns))\n",
    "df.write.mode(\"overwrite\").parquet(os.path.join(path_to_data,'classification',country_code,'users_counts'))\n",
    "end = timer()\n",
    "print('Computing time (in sec.):', round(end - start))"
   ]
  }
 ],
 "metadata": {
  "kernelspec": {
   "display_name": "Python 3",
   "language": "python",
   "name": "python3"
  },
  "language_info": {
   "codemirror_mode": {
    "name": "ipython",
    "version": 3
   },
   "file_extension": ".py",
   "mimetype": "text/x-python",
   "name": "python",
   "nbconvert_exporter": "python",
   "pygments_lexer": "ipython3",
   "version": "3.7.7"
  }
 },
 "nbformat": 4,
 "nbformat_minor": 4
}
