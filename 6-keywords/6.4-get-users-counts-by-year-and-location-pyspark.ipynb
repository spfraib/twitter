{
 "cells": [
  {
   "cell_type": "code",
   "execution_count": 2,
   "metadata": {},
   "outputs": [],
   "source": [
    "import os\n",
    "from timeit import default_timer as timer\n",
    "from pyspark.sql import SparkSession\n",
    "try:\n",
    "    spark\n",
    "except NameError:\n",
    "    spark = SparkSession.builder.appName(\"\").getOrCreate()"
   ]
  },
  {
   "cell_type": "code",
   "execution_count": 1,
   "metadata": {},
   "outputs": [
    {
     "name": "stdout",
     "output_type": "stream",
     "text": [
      "Country: US\n"
     ]
    }
   ],
   "source": [
    "country_code=\"US\"\n",
    "path_to_data='/user/spf248/twitter/data'\n",
    "print('Country:',country_code)"
   ]
  },
  {
   "cell_type": "code",
   "execution_count": null,
   "metadata": {},
   "outputs": [],
   "source": [
    "print('Run...')\n",
    "start = timer()\n",
    "predictions=spark.read.orc(os.path.join(path_to_data,'classification',country_code,'keywords'))\n",
    "df=predictions.drop_duplicates(subset=['user_id','year','user_location']).select('year','user_location').groupby('year','user_location').count()\n",
    "df.write.mode(\"overwrite\").parquet(os.path.join(path_to_data,'classification',country_code,'users_counts'))\n",
    "end = timer()\n",
    "print('Computing time (in sec.):', round(end - start))"
   ]
  }
 ],
 "metadata": {
  "kernelspec": {
   "display_name": "Python 3",
   "language": "python",
   "name": "python3"
  },
  "language_info": {
   "codemirror_mode": {
    "name": "ipython",
    "version": 3
   },
   "file_extension": ".py",
   "mimetype": "text/x-python",
   "name": "python",
   "nbconvert_exporter": "python",
   "pygments_lexer": "ipython3",
   "version": "3.7.7"
  }
 },
 "nbformat": 4,
 "nbformat_minor": 4
}
