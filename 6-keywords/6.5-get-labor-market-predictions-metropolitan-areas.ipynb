{
 "cells": [
  {
   "cell_type": "code",
   "execution_count": 1,
   "metadata": {},
   "outputs": [],
   "source": [
    "%matplotlib inline\n",
    "import os\n",
    "from timeit import default_timer as timer\n",
    "from glob import glob\n",
    "import pandas as pd\n",
    "import pyarrow.parquet as pq\n",
    "from datetime import datetime\n",
    "import numpy as np\n",
    "import statsmodels.api as sm\n",
    "from stargazer.stargazer import Stargazer\n",
    "import matplotlib.pyplot as plt\n",
    "import seaborn as sns\n",
    "from IPython.core.display import HTML"
   ]
  },
  {
   "cell_type": "code",
   "execution_count": 2,
   "metadata": {},
   "outputs": [
    {
     "name": "stdout",
     "output_type": "stream",
     "text": [
      "Set up config\n",
      "Country: US\n",
      "End date: 01/01/2010\n",
      "End date: 06/01/2020\n",
      "Labels: loss, unemployed, search, hire, offer, out_of_work\n",
      "Features: statuses_per_day, account_age\n",
      "../../data\n"
     ]
    }
   ],
   "source": [
    "print('Set up config')\n",
    "country_code = \"US\"\n",
    "start_date='01/01/2010'\n",
    "end_date='06/01/2020'\n",
    "labels=['loss', 'unemployed', 'search', 'hire', 'offer', 'out_of_work']\n",
    "features=['statuses_per_day','account_age']\n",
    "if os.getenv('CLUSTER')=='PRINCE':\n",
    "    path_to_data='/scratch/spf248/twitter/data'\n",
    "else:\n",
    "    path_to_data='../../data'\n",
    "print('Country:', country_code)\n",
    "print('End date:', start_date)\n",
    "print('End date:', end_date)\n",
    "print('Labels:',', '.join(labels))\n",
    "print('Features:',', '.join(features))\n",
    "print(path_to_data)"
   ]
  },
  {
   "cell_type": "code",
   "execution_count": 3,
   "metadata": {},
   "outputs": [
    {
     "name": "stdout",
     "output_type": "stream",
     "text": [
      "Load\n",
      "Done in 7 sec\n"
     ]
    }
   ],
   "source": [
    "print('Load')\n",
    "start = timer()\n",
    "users_counts=pq.ParquetDataset(glob(os.path.join(path_to_data,'classification',country_code,'users_counts','*.parquet'))).read().to_pandas()\n",
    "unemployment_rates=pd.read_csv(os.path.join(path_to_data,'official','city',country_code,'time_series_unemployment_rate.csv'),index_col=0)\n",
    "user_location_2_geo_id=pd.read_csv(os.path.join(path_to_data,'official','city',country_code,'user_location_2_geo_id.csv'),index_col=0)\n",
    "print(\"Done in\", round(timer()-start), \"sec\")"
   ]
  },
  {
   "cell_type": "code",
   "execution_count": null,
   "metadata": {},
   "outputs": [],
   "source": [
    "df=users_counts.merge(user_location_2_geo_id)\n",
    "df.year=df.year.astype(int)\n",
    "df.month=df.month.astype(int)\n",
    "df=df.groupby(['year','month','geo_id','metro_area_name'],as_index=False)[labels+['user_id']].sum()\n",
    "df[labels]=df[labels].divide(df['user_id'],0)\n",
    "df=df.merge(unemployment_rates,on=['year','month','geo_id']).dropna()\n",
    "df['date'] = pd.to_datetime(df['year'].astype(str) + df['month'].astype(str), format='%Y%m') + pd.offsets.MonthEnd(0)\n",
    "df.drop(['year','month','geo_id'],1,inplace=True)\n",
    "df=df[(df['date']>=pd.to_datetime(start_date))&(df['date']<=pd.to_datetime(end_date))].copy()\n",
    "top_metro_areas=df.groupby('metro_area_name')['user_id'].sum().sort_values(ascending=False).index[:5]\n",
    "df=df.sort_values(by=['date','metro_area_name']).set_index(['date','metro_area_name'])"
   ]
  },
  {
   "cell_type": "code",
   "execution_count": null,
   "metadata": {
    "scrolled": false
   },
   "outputs": [],
   "source": [
    "label='out_of_work'\n",
    "colors = sns.color_palette(\"husl\", 22)\n",
    "for i,metro_area in enumerate(top_metro_areas):\n",
    "    fig,ax1=plt.subplots(figsize=(8,6))\n",
    "    ax2 = ax1.twinx()\n",
    "    ax1.plot(df.xs(metro_area,level='metro_area_name').index,df.xs(metro_area,level='metro_area_name')[label],linewidth=1,color=colors[2*i],linestyle='dashed')\n",
    "    ax2.plot(df.xs(metro_area,level='metro_area_name').index,df.xs(metro_area,level='metro_area_name')['unemployment_rate'],linewidth=1,color='k')\n",
    "    ax1.tick_params(which='both',direction='in',pad=3,color=colors[2*i])\n",
    "    ax2.tick_params(which='both',direction='in',pad=3,color='k')\n",
    "    ax1.locator_params(axis='y',nbins=8)\n",
    "    ax2.locator_params(axis='y',nbins=8)\n",
    "    ax1.set_xlabel('')\n",
    "    ax1.set_yticklabels(['{:,.3%}'.format(x) for x in ax1.get_yticks()],color=colors[2*i])\n",
    "    ax2.set_yticklabels(['{:,.1%}'.format(x) for x in ax2.get_yticks()],color='k')\n",
    "    ax1.set_ylabel('% users posting \"'+label+'\" terms',fontweight='bold',color=colors[2*i])\n",
    "    ax2.set_ylabel('Unemployment rate',fontweight='bold',color='k')\n",
    "    ax1.set_title(metro_area,fontweight='bold')\n",
    "    fig.autofmt_xdate()"
   ]
  }
 ],
 "metadata": {
  "kernelspec": {
   "display_name": "Python 3",
   "language": "python",
   "name": "python3"
  },
  "language_info": {
   "codemirror_mode": {
    "name": "ipython",
    "version": 3
   },
   "file_extension": ".py",
   "mimetype": "text/x-python",
   "name": "python",
   "nbconvert_exporter": "python",
   "pygments_lexer": "ipython3",
   "version": "3.7.7"
  }
 },
 "nbformat": 4,
 "nbformat_minor": 4
}
