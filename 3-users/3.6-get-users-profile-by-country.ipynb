{
 "cells": [
  {
   "cell_type": "code",
   "execution_count": 1,
   "metadata": {},
   "outputs": [],
   "source": [
    "import os\n",
    "import pandas as pd\n",
    "from pyspark.sql import SparkSession\n",
    "import pyspark.sql.functions as F\n",
    "from pyspark.sql.types import MapType, StringType, IntegerType, StructType, StructField, FloatType, ArrayType\n",
    "\n",
    "spark = SparkSession.builder.appName(\"\").getOrCreate()\n",
    "spark.conf.set('spark.sql.session.timeZone', 'UTC')"
   ]
  },
  {
   "cell_type": "code",
   "execution_count": 3,
   "metadata": {},
   "outputs": [],
   "source": [
    "path_to_data = '/user/spf248/twitter/data'"
   ]
  },
  {
   "cell_type": "code",
   "execution_count": null,
   "metadata": {},
   "outputs": [],
   "source": [
    "users = spark.read.json(os.path.join(path_to_data,'users','users-profile'))\n",
    "locations = spark.read.option('header','true').option('multiLine','true').csv(os.path.join(path_to_data,'locations','profiles','account-locations.csv'))"
   ]
  },
  {
   "cell_type": "code",
   "execution_count": null,
   "metadata": {},
   "outputs": [],
   "source": [
    "users = users.withColumnRenamed('location','user_location')\n",
    "users = users.withColumnRenamed('id_str','user_id')\n",
    "users = users.join(locations.select('user_location','country_short'),on='user_location')\n",
    "users = users.withColumnRenamed('country_short','country_code')\n",
    "users = users.withColumn('created_at', F.to_timestamp('created_at',\"EEE MMM dd HH:mm:ss ZZZZZ yyyy\"))"
   ]
  },
  {
   "cell_type": "code",
   "execution_count": null,
   "metadata": {},
   "outputs": [],
   "source": [
    "users.write.partitionBy(\"country_code\").mode(\"overwrite\").format(\"orc\").save(os.path.join(path_to_data,'users','by-country'))"
   ]
  }
 ],
 "metadata": {
  "kernelspec": {
   "display_name": "Python 3",
   "language": "python",
   "name": "python3"
  },
  "language_info": {
   "codemirror_mode": {
    "name": "ipython",
    "version": 3
   },
   "file_extension": ".py",
   "mimetype": "text/x-python",
   "name": "python",
   "nbconvert_exporter": "python",
   "pygments_lexer": "ipython3",
   "version": "3.7.7"
  }
 },
 "nbformat": 4,
 "nbformat_minor": 4
}
