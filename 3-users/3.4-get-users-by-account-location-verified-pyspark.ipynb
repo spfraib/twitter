{
 "cells": [
  {
   "cell_type": "code",
   "execution_count": null,
   "metadata": {},
   "outputs": [],
   "source": [
    "import os\n",
    "import sys\n",
    "import socket\n",
    "import re\n",
    "import numpy as np\n",
    "import string\n",
    "import warnings\n",
    "from timeit import default_timer as timer\n",
    "from datetime import datetime\n",
    "\n",
    "from pyspark.sql import SparkSession\n",
    "from pyspark.sql.functions import udf,desc,row_number,col,year,month,dayofmonth,dayofweek,to_timestamp,size,isnan\n",
    "import pyspark.sql.functions as F\n",
    "from pyspark.sql.types import MapType, StringType, IntegerType, StructType, StructField, FloatType, ArrayType"
   ]
  },
  {
   "cell_type": "code",
   "execution_count": null,
   "metadata": {},
   "outputs": [],
   "source": [
    "try:\n",
    "    spark\n",
    "except NameError:\n",
    "    if 'samuel' in socket.gethostname().lower():\n",
    "        print('Create Local SparkSession')\n",
    "        spark = SparkSession.builder.config(\n",
    "        \"spark.driver.host\", \"localhost\").appName(\n",
    "        \"get-verified-users-by-acccount-location\").getOrCreate()\n",
    "    else:\n",
    "        print('Create Cluster SparkSession')\n",
    "        spark = SparkSession.builder.appName(\n",
    "        \"get-verified-users-by-acccount-location\").getOrCreate()\n",
    "        \n",
    "# Local\n",
    "print('Hostname:', socket.gethostname())\n",
    "if  'samuel' in socket.gethostname().lower():\n",
    "    path_to_data='../../data/users'\n",
    "# Cluster\n",
    "else:\n",
    "    path_to_data='/user/spf248/twitter/data/users'"
   ]
  },
  {
   "cell_type": "code",
   "execution_count": null,
   "metadata": {},
   "outputs": [],
   "source": [
    "users_by_account_location=spark.read.json(os.path.join(path_to_data,'user-ids-by-account-location'))\n",
    "users_by_account_location.cache()"
   ]
  },
  {
   "cell_type": "code",
   "execution_count": null,
   "metadata": {},
   "outputs": [],
   "source": [
    "users_profile=spark.read.json(os.path.join(path_to_data,'users-profile'))\n",
    "users_profile.cache()"
   ]
  },
  {
   "cell_type": "code",
   "execution_count": null,
   "metadata": {},
   "outputs": [],
   "source": [
    "# Group users by location\n",
    "users_profile=users_profile.select(col('location').alias('user_location'),col('id_str').alias('verified_id'))\n",
    "users_profile=users_profile.groupby(\"user_location\").agg(F.collect_set(\"verified_id\").alias('verified_id'))"
   ]
  },
  {
   "cell_type": "code",
   "execution_count": null,
   "metadata": {},
   "outputs": [],
   "source": [
    "# Keep Verified Users At Identified Locations\n",
    "users=users_by_account_location.join(users_profile,on='user_location')\n",
    "\n",
    "# Keep Users Who Who Remained At Same Location Between Lookup And Sampling\n",
    "intersectCols=udf(lambda x, y: list(set(x).intersection(set(y))))\n",
    "users=users.withColumn(\"common_id\", intersectCols(col(\"user_id\"), col(\"verified_id\")))\n",
    "\n",
    "# Countr Users\n",
    "size_=udf(lambda xs: len(xs), IntegerType())\n",
    "users=users.withColumn('n_users',size_('user_id'))\n",
    "users=users.withColumn('n_verified',size_('verified_id'))\n",
    "users=users.withColumn('n_common',size_('common_id'))"
   ]
  },
  {
   "cell_type": "code",
   "execution_count": null,
   "metadata": {},
   "outputs": [],
   "source": [
    "print('# Locations:',users_by_account_location.count())\n",
    "print('# Locations with Verified Users:',users.count())"
   ]
  },
  {
   "cell_type": "code",
   "execution_count": null,
   "metadata": {},
   "outputs": [],
   "source": [
    "print('# Users:', \n",
    "users_by_account_location.withColumn('n_users',size_('user_id')).select('n_users').groupBy().sum().collect()[0][0])\n",
    "print('# Verified Users:', \n",
    "users_profile.withColumn('n_verified',size_('verified_id')).select('n_verified').groupBy().sum().collect()[0][0])\n",
    "print('# Verified Users at identified locations:', \n",
    "users.select('n_verified').groupBy().sum().rdd.map(lambda x:x).collect()[0][0])\n",
    "print('# Users who remained at identified locations:', \n",
    "users.select('n_common').groupBy().sum().rdd.map(lambda x:x).collect()[0][0])"
   ]
  },
  {
   "cell_type": "code",
   "execution_count": null,
   "metadata": {},
   "outputs": [],
   "source": [
    "users=users.selectExpr('user_location','common_id as user_id','n_common as n')\n",
    "users.coalesce(1).write.mode(\"overwrite\").json(path_to_data+'user-ids-by-account-location-verified')"
   ]
  },
  {
   "cell_type": "code",
   "execution_count": null,
   "metadata": {},
   "outputs": [],
   "source": [
    "# Locations: 39779\n",
    "# Locations with Verified Users: 39779\n",
    "# Users: 194595170\n",
    "# Verified Users at identified locations: 107325682\n",
    "# Users who remained at identified locations: 92088032"
   ]
  }
 ],
 "metadata": {
  "kernelspec": {
   "display_name": "Python 3",
   "language": "python",
   "name": "python3"
  },
  "language_info": {
   "codemirror_mode": {
    "name": "ipython",
    "version": 3
   },
   "file_extension": ".py",
   "mimetype": "text/x-python",
   "name": "python",
   "nbconvert_exporter": "python",
   "pygments_lexer": "ipython3",
   "version": "3.7.7"
  }
 },
 "nbformat": 4,
 "nbformat_minor": 2
}
