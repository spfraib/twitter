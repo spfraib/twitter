{
 "cells": [
  {
   "cell_type": "code",
   "execution_count": null,
   "metadata": {},
   "outputs": [],
   "source": [
    "import os\n",
    "import socket\n",
    "from timeit import default_timer as timer\n",
    "from pyspark.sql import SparkSession\n",
    "import pyspark.sql.functions as F\n",
    "try:\n",
    "    spark\n",
    "except NameError:\n",
    "    spark = SparkSession.builder.appName(\"\").getOrCreate()"
   ]
  },
  {
   "cell_type": "code",
   "execution_count": null,
   "metadata": {},
   "outputs": [],
   "source": [
    "country_code=\"US\"\n",
    "print('Country:',country_code)\n",
    "labels=['loss', 'unemployed', 'search', 'hire', 'offer']\n",
    "path_to_data='/user/spf248/twitter/data'"
   ]
  },
  {
   "cell_type": "code",
   "execution_count": null,
   "metadata": {},
   "outputs": [],
   "source": [
    "predictions=spark.read.orc(os.path.join(path_to_data,'classification',country_code,'keywords'))\n",
    "users_attributes=spark.read.orc(os.path.join(path_to_data,'users','by-country','country_code='+country_code))\n",
    "users_with_timeline=spark.read.parquet(os.path.join(path_to_data,'timelines','historical','most_recent_id',country_code))"
   ]
  },
  {
   "cell_type": "code",
   "execution_count": null,
   "metadata": {},
   "outputs": [],
   "source": [
    "users=users_attributes.join(users_with_timeline.select('user_id'),on='user_id')\n",
    "users=users.withColumn('account_age', F.datediff(F.current_date(), users['created_at']))\n",
    "users=users.drop('created_at')\n",
    "col2func=dict((label,'max') for label in labels)\n",
    "col2func.update({'created_at':'min'})\n",
    "predictions=predictions.groupby('user_id').agg(col2func)\n",
    "predictions=predictions.toDF(*(col.replace('max(', '').replace('min(', '').replace(')', '') for col in predictions.columns))\n",
    "predictions=predictions.withColumnRenamed('created_at','oldest_tweet')\n",
    "users=users.join(predictions,on='user_id')"
   ]
  },
  {
   "cell_type": "code",
   "execution_count": null,
   "metadata": {},
   "outputs": [],
   "source": [
    "users.write.mode(\"overwrite\").parquet(os.path.join(path_to_data,'classification',country_code,'users'))"
   ]
  }
 ],
 "metadata": {
  "kernelspec": {
   "display_name": "Python 3",
   "language": "python",
   "name": "python3"
  },
  "language_info": {
   "codemirror_mode": {
    "name": "ipython",
    "version": 3
   },
   "file_extension": ".py",
   "mimetype": "text/x-python",
   "name": "python",
   "nbconvert_exporter": "python",
   "pygments_lexer": "ipython3",
   "version": "3.7.7"
  }
 },
 "nbformat": 4,
 "nbformat_minor": 4
}
