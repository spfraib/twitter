{
 "cells": [
  {
   "cell_type": "code",
   "execution_count": 1,
   "metadata": {},
   "outputs": [],
   "source": [
    "import pandas as pd\n",
    "import numpy as np\n",
    "import os\n",
    "from sklearn.linear_model import LogisticRegression\n",
    "from ast import literal_eval\n",
    "from sklearn.metrics import classification_report, roc_curve, auc\n",
    "import gensim.downloader as api\n",
    "from sklearn.preprocessing import scale"
   ]
  },
  {
   "cell_type": "markdown",
   "metadata": {},
   "source": [
    "## Utils"
   ]
  },
  {
   "cell_type": "code",
   "execution_count": 2,
   "metadata": {},
   "outputs": [],
   "source": [
    "def get_w2v_general(tweet, size, vectors, aggregation='mean'):\n",
    "    vec = np.zeros(size).reshape((1, size))\n",
    "    count = 0.\n",
    "    for word in tweet.split():\n",
    "        try:\n",
    "            vec += vectors[word.lower()].reshape((1, size))\n",
    "            count += 1.\n",
    "        except KeyError:\n",
    "            continue\n",
    "    if aggregation == 'mean':\n",
    "        if count != 0:\n",
    "            vec /= count\n",
    "        return vec\n",
    "    elif aggregation == 'sum':\n",
    "        return vec"
   ]
  },
  {
   "cell_type": "code",
   "execution_count": 3,
   "metadata": {},
   "outputs": [],
   "source": [
    "def perf_measure(y_actual, y_hat):\n",
    "    TP = 0\n",
    "    FP = 0\n",
    "    TN = 0\n",
    "    FN = 0\n",
    "\n",
    "    for i in range(len(y_hat)): \n",
    "        if y_actual[i]==y_hat[i]==1:\n",
    "           TP += 1\n",
    "        if y_hat[i]==1 and y_actual[i]!=y_hat[i]:\n",
    "           FP += 1\n",
    "        if y_actual[i]==y_hat[i]==0:\n",
    "           TN += 1\n",
    "        if y_hat[i]==0 and y_actual[i]!=y_hat[i]:\n",
    "           FN += 1\n",
    "\n",
    "    return(TP, FP, TN, FN)"
   ]
  },
  {
   "cell_type": "markdown",
   "metadata": {},
   "source": [
    "## Logit + GloVe Twitter 200d on May5_7Klabels "
   ]
  },
  {
   "cell_type": "code",
   "execution_count": 4,
   "metadata": {},
   "outputs": [],
   "source": [
    "glove_twitter = api.load(\"glove-twitter-200\")"
   ]
  },
  {
   "cell_type": "markdown",
   "metadata": {},
   "source": [
    "### Without preprocessing"
   ]
  },
  {
   "cell_type": "code",
   "execution_count": 93,
   "metadata": {},
   "outputs": [
    {
     "name": "stdout",
     "output_type": "stream",
     "text": [
      "************ is_hired_1mo ************\n",
      "Precision:  0.8446601941747572\n",
      "Recall:  0.7631578947368421\n",
      "AUC:  0.8838133068520357\n",
      "************ is_unemployed ************\n",
      "Precision:  0.8051470588235294\n",
      "Recall:  0.8455598455598455\n",
      "AUC:  0.902046192659911\n",
      "************ job_offer ************\n",
      "Precision:  0.91796875\n",
      "Recall:  0.94\n",
      "AUC:  0.975321033210332\n",
      "************ job_search ************\n",
      "Precision:  0.7975460122699386\n",
      "Recall:  0.8125\n",
      "AUC:  0.8866776315789474\n",
      "************ lost_job_1mo ************\n",
      "Precision:  0.7857142857142857\n",
      "Recall:  0.7638888888888888\n",
      "AUC:  0.8674045138888888\n"
     ]
    }
   ],
   "source": [
    "path = \"/home/manuto/Documents/world_bank/bert_twitter_labor/code/twitter/data/may5_7Klabels/data_binary_pos_neg_balanced_removed_allzeros/preprocessed_glove\"\n",
    "for label in [\"is_hired_1mo\",\"is_unemployed\",\"job_offer\",\"job_search\",\"lost_job_1mo\"]:\n",
    "    print(\"************ {} ************\".format(label))\n",
    "    train_file_name = \"train_{}.csv\".format(label)\n",
    "    val_file_name = \"val_{}.csv\".format(label)\n",
    "    #download data\n",
    "    df_train = pd.read_csv(os.path.join(path, train_file_name))\n",
    "    df_val = pd.read_csv(os.path.join(path, val_file_name))\n",
    "    #create embeddings\n",
    "    train_vecs_glove_mean = scale(np.concatenate([get_w2v_general(z, 200, glove_twitter,'mean') for z in df_train[\"text\"]]))\n",
    "    validation_vecs_glove_mean = scale(np.concatenate([get_w2v_general(z, 200, glove_twitter,'mean') for z in df_val[\"text\"]]))\n",
    "    #train\n",
    "    clf = LogisticRegression(max_iter=1000)\n",
    "    clf.fit(train_vecs_glove_mean,df_train[\"class\"])\n",
    "    #evaluate\n",
    "    df_val[\"class_predict\"] = clf.predict(validation_vecs_glove_mean)\n",
    "    df_val[\"y_predict_proba\"] = clf.predict_proba(validation_vecs_glove_mean)[:, 1]\n",
    "    TP, FP, TN, FN = perf_measure(df_val[\"class\"], df_val[\"class_predict\"])\n",
    "    print(\"Precision: \", TP/(TP+FP))\n",
    "    print(\"Recall: \", TP/(TP+FN))\n",
    "    fpr, tpr, thresholds = roc_curve(df_val[\"class\"], df_val[\"y_predict_proba\"])\n",
    "    print(\"AUC: \", auc(fpr, tpr))"
   ]
  },
  {
   "cell_type": "markdown",
   "metadata": {},
   "source": [
    "### With preprocessing"
   ]
  },
  {
   "cell_type": "code",
   "execution_count": 94,
   "metadata": {},
   "outputs": [
    {
     "name": "stdout",
     "output_type": "stream",
     "text": [
      "************ is_hired_1mo ************\n",
      "Precision:  0.8446601941747572\n",
      "Recall:  0.7631578947368421\n",
      "AUC:  0.8838133068520357\n",
      "************ is_unemployed ************\n",
      "Precision:  0.8051470588235294\n",
      "Recall:  0.8455598455598455\n",
      "AUC:  0.902046192659911\n",
      "************ job_offer ************\n",
      "Precision:  0.91796875\n",
      "Recall:  0.94\n",
      "AUC:  0.975321033210332\n",
      "************ job_search ************\n",
      "Precision:  0.7975460122699386\n",
      "Recall:  0.8125\n",
      "AUC:  0.8866776315789474\n",
      "************ lost_job_1mo ************\n",
      "Precision:  0.7857142857142857\n",
      "Recall:  0.7638888888888888\n",
      "AUC:  0.8674045138888888\n"
     ]
    }
   ],
   "source": [
    "for label in [\"is_hired_1mo\",\"is_unemployed\",\"job_offer\",\"job_search\",\"lost_job_1mo\"]:\n",
    "    print(\"************ {} ************\".format(label))\n",
    "    \n",
    "    train_file_name = \"train_{}.csv\".format(label)\n",
    "    val_file_name = \"val_{}.csv\".format(label)\n",
    "    #download data\n",
    "    df_train = pd.read_csv(os.path.join(path, train_file_name))\n",
    "    df_val = pd.read_csv(os.path.join(path, val_file_name))\n",
    "    #create embeddings\n",
    "    train_vecs_glove_mean = scale(np.concatenate([get_w2v_general(z, 200, glove_twitter,'mean') for z in df_train[\"ProcessedText\"]]))\n",
    "    validation_vecs_glove_mean = scale(np.concatenate([get_w2v_general(z, 200, glove_twitter,'mean') for z in df_val[\"ProcessedText\"]]))\n",
    "    #train\n",
    "    clf = LogisticRegression(max_iter=1000)\n",
    "    clf.fit(train_vecs_glove_mean,df_train[\"class\"])\n",
    "    #evaluate\n",
    "    df_val[\"class_predict\"] = clf.predict(validation_vecs_glove_mean)\n",
    "    df_val[\"y_predict_proba\"] = clf.predict_proba(validation_vecs_glove_mean)[:, 1]\n",
    "    TP, FP, TN, FN = perf_measure(df_val[\"class\"], df_val[\"class_predict\"])\n",
    "    print(\"Precision: \", TP/(TP+FP))\n",
    "    print(\"Recall: \", TP/(TP+FN))\n",
    "    fpr, tpr, thresholds = roc_curve(df_val[\"class\"], df_val[\"y_predict_proba\"])\n",
    "    print(\"AUC: \", auc(fpr, tpr))"
   ]
  },
  {
   "cell_type": "markdown",
   "metadata": {},
   "source": [
    "## Logit + GloVe Twitter 200 on May20_9Klabels"
   ]
  },
  {
   "cell_type": "markdown",
   "metadata": {},
   "source": [
    "### Without preprocessing"
   ]
  },
  {
   "cell_type": "code",
   "execution_count": 95,
   "metadata": {},
   "outputs": [
    {
     "name": "stdout",
     "output_type": "stream",
     "text": [
      "************ lost_job_1mo ************\n",
      "Precision:  0.7814207650273224\n",
      "Recall:  0.7900552486187845\n",
      "AUC:  0.8616287417673316\n",
      "************ is_unemployed ************\n",
      "Precision:  0.7331606217616581\n",
      "Recall:  0.7628032345013477\n",
      "AUC:  0.8070274992346805\n",
      "************ job_search ************\n",
      "Precision:  0.75\n",
      "Recall:  0.7333333333333333\n",
      "AUC:  0.8286887835703001\n",
      "************ is_hired_1mo ************\n",
      "Precision:  0.8450704225352113\n",
      "Recall:  0.7741935483870968\n",
      "AUC:  0.879418446160836\n",
      "************ job_offer ************\n",
      "Precision:  0.9080779944289693\n",
      "Recall:  0.9131652661064426\n",
      "AUC:  0.9619925582173169\n"
     ]
    }
   ],
   "source": [
    "path = \"/home/manuto/Documents/world_bank/bert_twitter_labor/code/twitter/data/may20_9Klabels/data_binary_pos_neg_balanced/preprocessed_glove\"\n",
    "for label in [\"lost_job_1mo\",\"is_unemployed\",\"job_search\",\"is_hired_1mo\",\"job_offer\"]:\n",
    "    print(\"************ {} ************\".format(label))\n",
    "    \n",
    "    train_file_name = \"train_{}.csv\".format(label)\n",
    "    val_file_name = \"val_{}.csv\".format(label)\n",
    "    #download data\n",
    "    df_train = pd.read_csv(os.path.join(path, train_file_name))\n",
    "    df_val = pd.read_csv(os.path.join(path, val_file_name))\n",
    "    #create embeddings\n",
    "    train_vecs_glove_mean = scale(np.concatenate([get_w2v_general(z, 200, glove_twitter,'mean') for z in df_train[\"text\"]]))\n",
    "    validation_vecs_glove_mean = scale(np.concatenate([get_w2v_general(z, 200, glove_twitter,'mean') for z in df_val[\"text\"]]))\n",
    "    #train\n",
    "    clf = LogisticRegression(max_iter=1000)\n",
    "    clf.fit(train_vecs_glove_mean,df_train[\"class\"])\n",
    "    #evaluate\n",
    "    df_val[\"class_predict\"] = clf.predict(validation_vecs_glove_mean)\n",
    "    df_val[\"y_predict_proba\"] = clf.predict_proba(validation_vecs_glove_mean)[:, 1]\n",
    "    TP, FP, TN, FN = perf_measure(df_val[\"class\"], df_val[\"class_predict\"])\n",
    "    print(\"Precision: \", TP/(TP+FP))\n",
    "    print(\"Recall: \", TP/(TP+FN))\n",
    "    fpr, tpr, thresholds = roc_curve(df_val[\"class\"], df_val[\"y_predict_proba\"])\n",
    "    print(\"AUC: \", auc(fpr, tpr))"
   ]
  },
  {
   "cell_type": "markdown",
   "metadata": {},
   "source": [
    "### With preprocessing"
   ]
  },
  {
   "cell_type": "code",
   "execution_count": 96,
   "metadata": {},
   "outputs": [
    {
     "name": "stdout",
     "output_type": "stream",
     "text": [
      "************ lost_job_1mo ************\n",
      "Precision:  0.7814207650273224\n",
      "Recall:  0.7900552486187845\n",
      "AUC:  0.8616287417673316\n",
      "************ is_unemployed ************\n",
      "Precision:  0.7331606217616581\n",
      "Recall:  0.7628032345013477\n",
      "AUC:  0.8070274992346805\n",
      "************ job_search ************\n",
      "Precision:  0.75\n",
      "Recall:  0.7333333333333333\n",
      "AUC:  0.8286887835703001\n",
      "************ is_hired_1mo ************\n",
      "Precision:  0.8450704225352113\n",
      "Recall:  0.7741935483870968\n",
      "AUC:  0.879418446160836\n",
      "************ job_offer ************\n",
      "Precision:  0.9080779944289693\n",
      "Recall:  0.9131652661064426\n",
      "AUC:  0.9619925582173169\n"
     ]
    }
   ],
   "source": [
    "for label in [\"lost_job_1mo\",\"is_unemployed\",\"job_search\",\"is_hired_1mo\",\"job_offer\"]:\n",
    "    print(\"************ {} ************\".format(label))\n",
    "    \n",
    "    train_file_name = \"train_{}.csv\".format(label)\n",
    "    val_file_name = \"val_{}.csv\".format(label)\n",
    "    #download data\n",
    "    df_train = pd.read_csv(os.path.join(path, train_file_name))\n",
    "    df_val = pd.read_csv(os.path.join(path, val_file_name))\n",
    "    #create embeddings\n",
    "    train_vecs_glove_mean = scale(np.concatenate([get_w2v_general(z, 200, glove_twitter,'mean') for z in df_train[\"ProcessedText\"]]))\n",
    "    validation_vecs_glove_mean = scale(np.concatenate([get_w2v_general(z, 200, glove_twitter,'mean') for z in df_val[\"ProcessedText\"]]))\n",
    "    #train\n",
    "    clf = LogisticRegression(max_iter=1000)\n",
    "    clf.fit(train_vecs_glove_mean,df_train[\"class\"])\n",
    "    #evaluate\n",
    "    df_val[\"class_predict\"] = clf.predict(validation_vecs_glove_mean)\n",
    "    df_val[\"y_predict_proba\"] = clf.predict_proba(validation_vecs_glove_mean)[:, 1]\n",
    "    TP, FP, TN, FN = perf_measure(df_val[\"class\"], df_val[\"class_predict\"])\n",
    "    print(\"Precision: \", TP/(TP+FP))\n",
    "    print(\"Recall: \", TP/(TP+FN))\n",
    "    fpr, tpr, thresholds = roc_curve(df_val[\"class\"], df_val[\"y_predict_proba\"])\n",
    "    print(\"AUC: \", auc(fpr, tpr))"
   ]
  },
  {
   "cell_type": "markdown",
   "metadata": {},
   "source": [
    "## Logit + GloVe Wiki 300 on May5_7Klabels "
   ]
  },
  {
   "cell_type": "code",
   "execution_count": 97,
   "metadata": {},
   "outputs": [],
   "source": [
    "glove_wiki = api.load(\"glove-wiki-gigaword-300\")"
   ]
  },
  {
   "cell_type": "markdown",
   "metadata": {},
   "source": [
    "#### Without preprocessing"
   ]
  },
  {
   "cell_type": "code",
   "execution_count": 101,
   "metadata": {},
   "outputs": [
    {
     "name": "stdout",
     "output_type": "stream",
     "text": [
      "************ lost_job_1mo ************\n",
      "Precision:  0.8048780487804879\n",
      "Recall:  0.6875\n",
      "AUC:  0.8640407986111112\n",
      "************ is_unemployed ************\n",
      "Precision:  0.8120300751879699\n",
      "Recall:  0.833976833976834\n",
      "AUC:  0.9001087214083604\n",
      "************ job_search ************\n",
      "Precision:  0.7677419354838709\n",
      "Recall:  0.74375\n",
      "AUC:  0.8546052631578948\n",
      "************ is_hired_1mo ************\n",
      "Precision:  0.8207547169811321\n",
      "Recall:  0.7631578947368421\n",
      "AUC:  0.8729725256537569\n",
      "************ job_offer ************\n",
      "Precision:  0.9322709163346613\n",
      "Recall:  0.936\n",
      "AUC:  0.9803837638376384\n"
     ]
    }
   ],
   "source": [
    "path = \"/home/manuto/Documents/world_bank/bert_twitter_labor/code/twitter/data/may5_7Klabels/data_binary_pos_neg_balanced_removed_allzeros/preprocessed_glove\"\n",
    "for label in [\"lost_job_1mo\",\"is_unemployed\",\"job_search\",\"is_hired_1mo\",\"job_offer\"]:\n",
    "    print(\"************ {} ************\".format(label))\n",
    "    \n",
    "    train_file_name = \"train_{}.csv\".format(label)\n",
    "    val_file_name = \"val_{}.csv\".format(label)\n",
    "    #download data\n",
    "    df_train = pd.read_csv(os.path.join(path, train_file_name))\n",
    "    df_val = pd.read_csv(os.path.join(path, val_file_name))\n",
    "    #create embeddings\n",
    "    train_vecs_glove_mean = scale(np.concatenate([get_w2v_general(z, 300, glove_wiki,'mean') for z in df_train[\"text\"]]))\n",
    "    validation_vecs_glove_mean = scale(np.concatenate([get_w2v_general(z, 300, glove_wiki,'mean') for z in df_val[\"text\"]]))\n",
    "    #train\n",
    "    clf = LogisticRegression(max_iter=1000)\n",
    "    clf.fit(train_vecs_glove_mean,df_train[\"class\"])\n",
    "    #evaluate\n",
    "    df_val[\"class_predict\"] = clf.predict(validation_vecs_glove_mean)\n",
    "    df_val[\"y_predict_proba\"] = clf.predict_proba(validation_vecs_glove_mean)[:, 1]\n",
    "    TP, FP, TN, FN = perf_measure(df_val[\"class\"], df_val[\"class_predict\"])\n",
    "    print(\"Precision: \", TP/(TP+FP))\n",
    "    print(\"Recall: \", TP/(TP+FN))\n",
    "    fpr, tpr, thresholds = roc_curve(df_val[\"class\"], df_val[\"y_predict_proba\"])\n",
    "    print(\"AUC: \", auc(fpr, tpr))"
   ]
  },
  {
   "cell_type": "markdown",
   "metadata": {},
   "source": [
    "#### With preprocessing"
   ]
  },
  {
   "cell_type": "code",
   "execution_count": 102,
   "metadata": {},
   "outputs": [
    {
     "name": "stdout",
     "output_type": "stream",
     "text": [
      "************ lost_job_1mo ************\n",
      "Precision:  0.8048780487804879\n",
      "Recall:  0.6875\n",
      "AUC:  0.8640407986111112\n",
      "************ is_unemployed ************\n",
      "Precision:  0.8120300751879699\n",
      "Recall:  0.833976833976834\n",
      "AUC:  0.9001087214083604\n",
      "************ job_search ************\n",
      "Precision:  0.7677419354838709\n",
      "Recall:  0.74375\n",
      "AUC:  0.8546052631578948\n",
      "************ is_hired_1mo ************\n",
      "Precision:  0.8207547169811321\n",
      "Recall:  0.7631578947368421\n",
      "AUC:  0.8729725256537569\n",
      "************ job_offer ************\n",
      "Precision:  0.9322709163346613\n",
      "Recall:  0.936\n",
      "AUC:  0.9803837638376384\n"
     ]
    }
   ],
   "source": [
    "for label in [\"lost_job_1mo\",\"is_unemployed\",\"job_search\",\"is_hired_1mo\",\"job_offer\"]:\n",
    "    print(\"************ {} ************\".format(label))\n",
    "    \n",
    "    train_file_name = \"train_{}.csv\".format(label)\n",
    "    val_file_name = \"val_{}.csv\".format(label)\n",
    "    #download data\n",
    "    df_train = pd.read_csv(os.path.join(path, train_file_name))\n",
    "    df_val = pd.read_csv(os.path.join(path, val_file_name))\n",
    "    #create embeddings\n",
    "    train_vecs_glove_mean = scale(np.concatenate([get_w2v_general(z, 300, glove_wiki,'mean') for z in df_train[\"ProcessedText\"]]))\n",
    "    validation_vecs_glove_mean = scale(np.concatenate([get_w2v_general(z, 300, glove_wiki,'mean') for z in df_val[\"ProcessedText\"]]))\n",
    "    #train\n",
    "    clf = LogisticRegression(max_iter=1000)\n",
    "    clf.fit(train_vecs_glove_mean,df_train[\"class\"])\n",
    "    #evaluate\n",
    "    df_val[\"class_predict\"] = clf.predict(validation_vecs_glove_mean)\n",
    "    df_val[\"y_predict_proba\"] = clf.predict_proba(validation_vecs_glove_mean)[:, 1]\n",
    "    TP, FP, TN, FN = perf_measure(df_val[\"class\"], df_val[\"class_predict\"])\n",
    "    print(\"Precision: \", TP/(TP+FP))\n",
    "    print(\"Recall: \", TP/(TP+FN))\n",
    "    fpr, tpr, thresholds = roc_curve(df_val[\"class\"], df_val[\"y_predict_proba\"])\n",
    "    print(\"AUC: \", auc(fpr, tpr))"
   ]
  },
  {
   "cell_type": "markdown",
   "metadata": {},
   "source": [
    "## Logit Wiki + GloVe 300 on May20_9Klabels"
   ]
  },
  {
   "cell_type": "markdown",
   "metadata": {},
   "source": [
    "### Without preprocessing"
   ]
  },
  {
   "cell_type": "code",
   "execution_count": 104,
   "metadata": {},
   "outputs": [
    {
     "name": "stdout",
     "output_type": "stream",
     "text": [
      "************ lost_job_1mo ************\n",
      "Precision:  0.7965116279069767\n",
      "Recall:  0.7569060773480663\n",
      "AUC:  0.8564472328869744\n",
      "************ is_unemployed ************\n",
      "Precision:  0.7243243243243244\n",
      "Recall:  0.7223719676549866\n",
      "AUC:  0.8007854790899792\n",
      "************ job_search ************\n",
      "Precision:  0.7023255813953488\n",
      "Recall:  0.6711111111111111\n",
      "AUC:  0.774555028962612\n",
      "************ is_hired_1mo ************\n",
      "Precision:  0.8378378378378378\n",
      "Recall:  0.8\n",
      "AUC:  0.8891867333030441\n",
      "************ job_offer ************\n",
      "Precision:  0.8851540616246498\n",
      "Recall:  0.8851540616246498\n",
      "AUC:  0.9524687486935073\n"
     ]
    }
   ],
   "source": [
    "path = \"/home/manuto/Documents/world_bank/bert_twitter_labor/code/twitter/data/may20_9Klabels/data_binary_pos_neg_balanced/preprocessed_glove\"\n",
    "for label in [\"lost_job_1mo\",\"is_unemployed\",\"job_search\",\"is_hired_1mo\",\"job_offer\"]:\n",
    "    print(\"************ {} ************\".format(label))\n",
    "    \n",
    "    train_file_name = \"train_{}.csv\".format(label)\n",
    "    val_file_name = \"val_{}.csv\".format(label)\n",
    "    #download data\n",
    "    df_train = pd.read_csv(os.path.join(path, train_file_name))\n",
    "    df_val = pd.read_csv(os.path.join(path, val_file_name))\n",
    "    #create embeddings\n",
    "    train_vecs_glove_mean = scale(np.concatenate([get_w2v_general(z, 300, glove_wiki,'mean') for z in df_train[\"text\"]]))\n",
    "    validation_vecs_glove_mean = scale(np.concatenate([get_w2v_general(z, 300, glove_wiki,'mean') for z in df_val[\"text\"]]))\n",
    "    #train\n",
    "    clf = LogisticRegression(max_iter=1000)\n",
    "    clf.fit(train_vecs_glove_mean,df_train[\"class\"])\n",
    "    #evaluate\n",
    "    df_val[\"class_predict\"] = clf.predict(validation_vecs_glove_mean)\n",
    "    df_val[\"y_predict_proba\"] = clf.predict_proba(validation_vecs_glove_mean)[:, 1]\n",
    "    TP, FP, TN, FN = perf_measure(df_val[\"class\"], df_val[\"class_predict\"])\n",
    "    print(\"Precision: \", TP/(TP+FP))\n",
    "    print(\"Recall: \", TP/(TP+FN))\n",
    "    fpr, tpr, thresholds = roc_curve(df_val[\"class\"], df_val[\"y_predict_proba\"])\n",
    "    print(\"AUC: \", auc(fpr, tpr))"
   ]
  },
  {
   "cell_type": "markdown",
   "metadata": {},
   "source": [
    "### With preprocessing"
   ]
  },
  {
   "cell_type": "code",
   "execution_count": 105,
   "metadata": {},
   "outputs": [
    {
     "name": "stdout",
     "output_type": "stream",
     "text": [
      "************ lost_job_1mo ************\n",
      "Precision:  0.7965116279069767\n",
      "Recall:  0.7569060773480663\n",
      "AUC:  0.8564472328869744\n",
      "************ is_unemployed ************\n",
      "Precision:  0.7243243243243244\n",
      "Recall:  0.7223719676549866\n",
      "AUC:  0.8007854790899792\n",
      "************ job_search ************\n",
      "Precision:  0.7023255813953488\n",
      "Recall:  0.6711111111111111\n",
      "AUC:  0.774555028962612\n",
      "************ is_hired_1mo ************\n",
      "Precision:  0.8378378378378378\n",
      "Recall:  0.8\n",
      "AUC:  0.8891867333030441\n",
      "************ job_offer ************\n",
      "Precision:  0.8851540616246498\n",
      "Recall:  0.8851540616246498\n",
      "AUC:  0.9524687486935073\n"
     ]
    }
   ],
   "source": [
    "for label in [\"lost_job_1mo\",\"is_unemployed\",\"job_search\",\"is_hired_1mo\",\"job_offer\"]:\n",
    "    print(\"************ {} ************\".format(label))\n",
    "    \n",
    "    train_file_name = \"train_{}.csv\".format(label)\n",
    "    val_file_name = \"val_{}.csv\".format(label)\n",
    "    #download data\n",
    "    df_train = pd.read_csv(os.path.join(path, train_file_name))\n",
    "    df_val = pd.read_csv(os.path.join(path, val_file_name))\n",
    "    #create embeddings\n",
    "    train_vecs_glove_mean = scale(np.concatenate([get_w2v_general(z, 300, glove_wiki,'mean') for z in df_train[\"ProcessedText\"]]))\n",
    "    validation_vecs_glove_mean = scale(np.concatenate([get_w2v_general(z, 300, glove_wiki,'mean') for z in df_val[\"ProcessedText\"]]))\n",
    "    #train\n",
    "    clf = LogisticRegression(max_iter=1000)\n",
    "    clf.fit(train_vecs_glove_mean,df_train[\"class\"])\n",
    "    #evaluate\n",
    "    df_val[\"class_predict\"] = clf.predict(validation_vecs_glove_mean)\n",
    "    df_val[\"y_predict_proba\"] = clf.predict_proba(validation_vecs_glove_mean)[:, 1]\n",
    "    TP, FP, TN, FN = perf_measure(df_val[\"class\"], df_val[\"class_predict\"])\n",
    "    print(\"Precision: \", TP/(TP+FP))\n",
    "    print(\"Recall: \", TP/(TP+FN))\n",
    "    fpr, tpr, thresholds = roc_curve(df_val[\"class\"], df_val[\"y_predict_proba\"])\n",
    "    print(\"AUC: \", auc(fpr, tpr))"
   ]
  },
  {
   "cell_type": "code",
   "execution_count": null,
   "metadata": {},
   "outputs": [],
   "source": []
  }
 ],
 "metadata": {
  "kernelspec": {
   "display_name": "Python 3",
   "language": "python",
   "name": "python3"
  },
  "language_info": {
   "codemirror_mode": {
    "name": "ipython",
    "version": 3
   },
   "file_extension": ".py",
   "mimetype": "text/x-python",
   "name": "python",
   "nbconvert_exporter": "python",
   "pygments_lexer": "ipython3",
   "version": "3.7.4"
  }
 },
 "nbformat": 4,
 "nbformat_minor": 2
}
