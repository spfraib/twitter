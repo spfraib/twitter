{
 "cells": [
  {
   "cell_type": "code",
   "execution_count": 1,
   "metadata": {},
   "outputs": [],
   "source": [
    "import pandas as pd\n",
    "import numpy as np\n",
    "import os\n",
    "from sklearn.linear_model import LogisticRegression\n",
    "from ast import literal_eval\n",
    "from sklearn.metrics import classification_report\n",
    "import gensim.downloader as api\n",
    "from sklearn.preprocessing import scale"
   ]
  },
  {
   "cell_type": "markdown",
   "metadata": {},
   "source": [
    "## Utils"
   ]
  },
  {
   "cell_type": "code",
   "execution_count": 2,
   "metadata": {},
   "outputs": [],
   "source": [
    "def get_w2v_general(tweet, size, vectors, aggregation='mean'):\n",
    "    vec = np.zeros(size).reshape((1, size))\n",
    "    count = 0.\n",
    "    for word in tweet.split():\n",
    "        try:\n",
    "            vec += vectors[word].reshape((1, size))\n",
    "            count += 1.\n",
    "        except KeyError:\n",
    "            continue\n",
    "    if aggregation == 'mean':\n",
    "        if count != 0:\n",
    "            vec /= count\n",
    "        return vec\n",
    "    elif aggregation == 'sum':\n",
    "        return vec"
   ]
  },
  {
   "cell_type": "code",
   "execution_count": 3,
   "metadata": {},
   "outputs": [],
   "source": [
    "def perf_measure(y_actual, y_hat):\n",
    "    TP = 0\n",
    "    FP = 0\n",
    "    TN = 0\n",
    "    FN = 0\n",
    "\n",
    "    for i in range(len(y_hat)): \n",
    "        if y_actual[i]==y_hat[i]==1:\n",
    "           TP += 1\n",
    "        if y_hat[i]==1 and y_actual[i]!=y_hat[i]:\n",
    "           FP += 1\n",
    "        if y_actual[i]==y_hat[i]==0:\n",
    "           TN += 1\n",
    "        if y_hat[i]==0 and y_actual[i]!=y_hat[i]:\n",
    "           FN += 1\n",
    "\n",
    "    return(TP, FP, TN, FN)"
   ]
  },
  {
   "cell_type": "markdown",
   "metadata": {},
   "source": [
    "## Logit + GloVe Twitter 200d on May5_7Klabels "
   ]
  },
  {
   "cell_type": "code",
   "execution_count": 4,
   "metadata": {},
   "outputs": [],
   "source": [
    "glove_twitter = api.load(\"glove-twitter-200\")"
   ]
  },
  {
   "cell_type": "markdown",
   "metadata": {},
   "source": [
    "### Without preprocessing"
   ]
  },
  {
   "cell_type": "code",
   "execution_count": 5,
   "metadata": {},
   "outputs": [
    {
     "name": "stdout",
     "output_type": "stream",
     "text": [
      "************ is_hired_1mo ************\n",
      "Precision:  0.7678571428571429\n",
      "Recall:  0.7543859649122807\n",
      "************ is_unemployed ************\n",
      "Precision:  0.8113207547169812\n",
      "Recall:  0.8301158301158301\n",
      "************ job_offer ************\n",
      "Precision:  0.8918918918918919\n",
      "Recall:  0.924\n",
      "************ job_search ************\n",
      "Precision:  0.7662337662337663\n",
      "Recall:  0.7375\n",
      "************ lost_job_1mo ************\n",
      "Precision:  0.8181818181818182\n",
      "Recall:  0.75\n"
     ]
    }
   ],
   "source": [
    "path = \"/home/manuto/Documents/world_bank/bert_twitter_labor/code/twitter/data/may5_7Klabels/data_binary_pos_neg_balanced_removed_allzeros/preprocessed_glove\"\n",
    "for label in [\"is_hired_1mo\",\"is_unemployed\",\"job_offer\",\"job_search\",\"lost_job_1mo\"]:\n",
    "    print(\"************ {} ************\".format(label))\n",
    "    \n",
    "    train_file_name = \"preprocessed_train_{}.csv\".format(label)\n",
    "    val_file_name = \"preprocessed_val_{}.csv\".format(label)\n",
    "    #download data\n",
    "    df_train = pd.read_csv(os.path.join(path, train_file_name))\n",
    "    df_val = pd.read_csv(os.path.join(path, val_file_name))\n",
    "    #create embeddings\n",
    "    train_vecs_glove_mean = scale(np.concatenate([get_w2v_general(z, 200, glove_twitter,'mean') for z in df_train[\"text\"]]))\n",
    "    validation_vecs_glove_mean = scale(np.concatenate([get_w2v_general(z, 200, glove_twitter,'mean') for z in df_val[\"text\"]]))\n",
    "    #train\n",
    "    clf = LogisticRegression(max_iter=1000)\n",
    "    clf.fit(train_vecs_glove_mean,df_train[\"class\"])\n",
    "    #evaluate\n",
    "    df_val[\"class_predict\"] = clf.predict(validation_vecs_glove_mean)\n",
    "    TP, FP, TN, FN = perf_measure(df_val[\"class\"], df_val[\"class_predict\"])\n",
    "    print(\"Precision: \", TP/(TP+FP))\n",
    "    print(\"Recall: \", TP/(TP+FN))"
   ]
  },
  {
   "cell_type": "markdown",
   "metadata": {},
   "source": [
    "### With preprocessing"
   ]
  },
  {
   "cell_type": "code",
   "execution_count": 6,
   "metadata": {},
   "outputs": [
    {
     "name": "stdout",
     "output_type": "stream",
     "text": [
      "************ is_hired_1mo ************\n",
      "Precision:  0.8446601941747572\n",
      "Recall:  0.7631578947368421\n",
      "************ is_unemployed ************\n",
      "Precision:  0.8051470588235294\n",
      "Recall:  0.8455598455598455\n",
      "************ job_offer ************\n",
      "Precision:  0.91796875\n",
      "Recall:  0.94\n",
      "************ job_search ************\n",
      "Precision:  0.7975460122699386\n",
      "Recall:  0.8125\n",
      "************ lost_job_1mo ************\n",
      "Precision:  0.7857142857142857\n",
      "Recall:  0.7638888888888888\n"
     ]
    }
   ],
   "source": [
    "for label in [\"is_hired_1mo\",\"is_unemployed\",\"job_offer\",\"job_search\",\"lost_job_1mo\"]:\n",
    "    print(\"************ {} ************\".format(label))\n",
    "    \n",
    "    train_file_name = \"preprocessed_train_{}.csv\".format(label)\n",
    "    val_file_name = \"preprocessed_val_{}.csv\".format(label)\n",
    "    #download data\n",
    "    df_train = pd.read_csv(os.path.join(path, train_file_name))\n",
    "    df_val = pd.read_csv(os.path.join(path, val_file_name))\n",
    "    #create embeddings\n",
    "    train_vecs_glove_mean = scale(np.concatenate([get_w2v_general(z, 200, glove_twitter,'mean') for z in df_train[\"ProcessedText\"]]))\n",
    "    validation_vecs_glove_mean = scale(np.concatenate([get_w2v_general(z, 200, glove_twitter,'mean') for z in df_val[\"ProcessedText\"]]))\n",
    "    #train\n",
    "    clf = LogisticRegression(max_iter=1000)\n",
    "    clf.fit(train_vecs_glove_mean,df_train[\"class\"])\n",
    "    #evaluate\n",
    "    df_val[\"class_predict\"] = clf.predict(validation_vecs_glove_mean)\n",
    "    TP, FP, TN, FN = perf_measure(df_val[\"class\"], df_val[\"class_predict\"])\n",
    "    print(\"Precision: \", TP/(TP+FP))\n",
    "    print(\"Recall: \", TP/(TP+FN))"
   ]
  },
  {
   "cell_type": "markdown",
   "metadata": {},
   "source": [
    "## Logit + GloVe Twitter 200d on May11_9Klabels "
   ]
  },
  {
   "cell_type": "markdown",
   "metadata": {},
   "source": [
    "### Without preprocessing"
   ]
  },
  {
   "cell_type": "code",
   "execution_count": 7,
   "metadata": {},
   "outputs": [
    {
     "name": "stdout",
     "output_type": "stream",
     "text": [
      "************ is_hired_1mo ************\n"
     ]
    },
    {
     "ename": "FileNotFoundError",
     "evalue": "[Errno 2] File b'/home/manuto/Documents/world_bank/bert_twitter_labor/code/twitter/data/may11_9Klabels/data_binary_pos_neg_balanced_removed_allzeros/preprocessed_glove/preprocessed_train_is_hired_1mo.csv' does not exist: b'/home/manuto/Documents/world_bank/bert_twitter_labor/code/twitter/data/may11_9Klabels/data_binary_pos_neg_balanced_removed_allzeros/preprocessed_glove/preprocessed_train_is_hired_1mo.csv'",
     "output_type": "error",
     "traceback": [
      "\u001b[0;31m---------------------------------------------------------------------------\u001b[0m",
      "\u001b[0;31mFileNotFoundError\u001b[0m                         Traceback (most recent call last)",
      "\u001b[0;32m<ipython-input-7-921ca51cdbcf>\u001b[0m in \u001b[0;36m<module>\u001b[0;34m\u001b[0m\n\u001b[1;32m      6\u001b[0m     \u001b[0mval_file_name\u001b[0m \u001b[0;34m=\u001b[0m \u001b[0;34m\"preprocessed_val_{}.csv\"\u001b[0m\u001b[0;34m.\u001b[0m\u001b[0mformat\u001b[0m\u001b[0;34m(\u001b[0m\u001b[0mlabel\u001b[0m\u001b[0;34m)\u001b[0m\u001b[0;34m\u001b[0m\u001b[0;34m\u001b[0m\u001b[0m\n\u001b[1;32m      7\u001b[0m     \u001b[0;31m#download data\u001b[0m\u001b[0;34m\u001b[0m\u001b[0;34m\u001b[0m\u001b[0;34m\u001b[0m\u001b[0m\n\u001b[0;32m----> 8\u001b[0;31m     \u001b[0mdf_train\u001b[0m \u001b[0;34m=\u001b[0m \u001b[0mpd\u001b[0m\u001b[0;34m.\u001b[0m\u001b[0mread_csv\u001b[0m\u001b[0;34m(\u001b[0m\u001b[0mos\u001b[0m\u001b[0;34m.\u001b[0m\u001b[0mpath\u001b[0m\u001b[0;34m.\u001b[0m\u001b[0mjoin\u001b[0m\u001b[0;34m(\u001b[0m\u001b[0mpath\u001b[0m\u001b[0;34m,\u001b[0m \u001b[0mtrain_file_name\u001b[0m\u001b[0;34m)\u001b[0m\u001b[0;34m)\u001b[0m\u001b[0;34m\u001b[0m\u001b[0;34m\u001b[0m\u001b[0m\n\u001b[0m\u001b[1;32m      9\u001b[0m     \u001b[0mdf_val\u001b[0m \u001b[0;34m=\u001b[0m \u001b[0mpd\u001b[0m\u001b[0;34m.\u001b[0m\u001b[0mread_csv\u001b[0m\u001b[0;34m(\u001b[0m\u001b[0mos\u001b[0m\u001b[0;34m.\u001b[0m\u001b[0mpath\u001b[0m\u001b[0;34m.\u001b[0m\u001b[0mjoin\u001b[0m\u001b[0;34m(\u001b[0m\u001b[0mpath\u001b[0m\u001b[0;34m,\u001b[0m \u001b[0mval_file_name\u001b[0m\u001b[0;34m)\u001b[0m\u001b[0;34m)\u001b[0m\u001b[0;34m\u001b[0m\u001b[0;34m\u001b[0m\u001b[0m\n\u001b[1;32m     10\u001b[0m     \u001b[0;31m#create embeddings\u001b[0m\u001b[0;34m\u001b[0m\u001b[0;34m\u001b[0m\u001b[0;34m\u001b[0m\u001b[0m\n",
      "\u001b[0;32m~/anaconda3/lib/python3.7/site-packages/pandas/io/parsers.py\u001b[0m in \u001b[0;36mparser_f\u001b[0;34m(filepath_or_buffer, sep, delimiter, header, names, index_col, usecols, squeeze, prefix, mangle_dupe_cols, dtype, engine, converters, true_values, false_values, skipinitialspace, skiprows, skipfooter, nrows, na_values, keep_default_na, na_filter, verbose, skip_blank_lines, parse_dates, infer_datetime_format, keep_date_col, date_parser, dayfirst, cache_dates, iterator, chunksize, compression, thousands, decimal, lineterminator, quotechar, quoting, doublequote, escapechar, comment, encoding, dialect, error_bad_lines, warn_bad_lines, delim_whitespace, low_memory, memory_map, float_precision)\u001b[0m\n\u001b[1;32m    683\u001b[0m         )\n\u001b[1;32m    684\u001b[0m \u001b[0;34m\u001b[0m\u001b[0m\n\u001b[0;32m--> 685\u001b[0;31m         \u001b[0;32mreturn\u001b[0m \u001b[0m_read\u001b[0m\u001b[0;34m(\u001b[0m\u001b[0mfilepath_or_buffer\u001b[0m\u001b[0;34m,\u001b[0m \u001b[0mkwds\u001b[0m\u001b[0;34m)\u001b[0m\u001b[0;34m\u001b[0m\u001b[0;34m\u001b[0m\u001b[0m\n\u001b[0m\u001b[1;32m    686\u001b[0m \u001b[0;34m\u001b[0m\u001b[0m\n\u001b[1;32m    687\u001b[0m     \u001b[0mparser_f\u001b[0m\u001b[0;34m.\u001b[0m\u001b[0m__name__\u001b[0m \u001b[0;34m=\u001b[0m \u001b[0mname\u001b[0m\u001b[0;34m\u001b[0m\u001b[0;34m\u001b[0m\u001b[0m\n",
      "\u001b[0;32m~/anaconda3/lib/python3.7/site-packages/pandas/io/parsers.py\u001b[0m in \u001b[0;36m_read\u001b[0;34m(filepath_or_buffer, kwds)\u001b[0m\n\u001b[1;32m    455\u001b[0m \u001b[0;34m\u001b[0m\u001b[0m\n\u001b[1;32m    456\u001b[0m     \u001b[0;31m# Create the parser.\u001b[0m\u001b[0;34m\u001b[0m\u001b[0;34m\u001b[0m\u001b[0;34m\u001b[0m\u001b[0m\n\u001b[0;32m--> 457\u001b[0;31m     \u001b[0mparser\u001b[0m \u001b[0;34m=\u001b[0m \u001b[0mTextFileReader\u001b[0m\u001b[0;34m(\u001b[0m\u001b[0mfp_or_buf\u001b[0m\u001b[0;34m,\u001b[0m \u001b[0;34m**\u001b[0m\u001b[0mkwds\u001b[0m\u001b[0;34m)\u001b[0m\u001b[0;34m\u001b[0m\u001b[0;34m\u001b[0m\u001b[0m\n\u001b[0m\u001b[1;32m    458\u001b[0m \u001b[0;34m\u001b[0m\u001b[0m\n\u001b[1;32m    459\u001b[0m     \u001b[0;32mif\u001b[0m \u001b[0mchunksize\u001b[0m \u001b[0;32mor\u001b[0m \u001b[0miterator\u001b[0m\u001b[0;34m:\u001b[0m\u001b[0;34m\u001b[0m\u001b[0;34m\u001b[0m\u001b[0m\n",
      "\u001b[0;32m~/anaconda3/lib/python3.7/site-packages/pandas/io/parsers.py\u001b[0m in \u001b[0;36m__init__\u001b[0;34m(self, f, engine, **kwds)\u001b[0m\n\u001b[1;32m    893\u001b[0m             \u001b[0mself\u001b[0m\u001b[0;34m.\u001b[0m\u001b[0moptions\u001b[0m\u001b[0;34m[\u001b[0m\u001b[0;34m\"has_index_names\"\u001b[0m\u001b[0;34m]\u001b[0m \u001b[0;34m=\u001b[0m \u001b[0mkwds\u001b[0m\u001b[0;34m[\u001b[0m\u001b[0;34m\"has_index_names\"\u001b[0m\u001b[0;34m]\u001b[0m\u001b[0;34m\u001b[0m\u001b[0;34m\u001b[0m\u001b[0m\n\u001b[1;32m    894\u001b[0m \u001b[0;34m\u001b[0m\u001b[0m\n\u001b[0;32m--> 895\u001b[0;31m         \u001b[0mself\u001b[0m\u001b[0;34m.\u001b[0m\u001b[0m_make_engine\u001b[0m\u001b[0;34m(\u001b[0m\u001b[0mself\u001b[0m\u001b[0;34m.\u001b[0m\u001b[0mengine\u001b[0m\u001b[0;34m)\u001b[0m\u001b[0;34m\u001b[0m\u001b[0;34m\u001b[0m\u001b[0m\n\u001b[0m\u001b[1;32m    896\u001b[0m \u001b[0;34m\u001b[0m\u001b[0m\n\u001b[1;32m    897\u001b[0m     \u001b[0;32mdef\u001b[0m \u001b[0mclose\u001b[0m\u001b[0;34m(\u001b[0m\u001b[0mself\u001b[0m\u001b[0;34m)\u001b[0m\u001b[0;34m:\u001b[0m\u001b[0;34m\u001b[0m\u001b[0;34m\u001b[0m\u001b[0m\n",
      "\u001b[0;32m~/anaconda3/lib/python3.7/site-packages/pandas/io/parsers.py\u001b[0m in \u001b[0;36m_make_engine\u001b[0;34m(self, engine)\u001b[0m\n\u001b[1;32m   1133\u001b[0m     \u001b[0;32mdef\u001b[0m \u001b[0m_make_engine\u001b[0m\u001b[0;34m(\u001b[0m\u001b[0mself\u001b[0m\u001b[0;34m,\u001b[0m \u001b[0mengine\u001b[0m\u001b[0;34m=\u001b[0m\u001b[0;34m\"c\"\u001b[0m\u001b[0;34m)\u001b[0m\u001b[0;34m:\u001b[0m\u001b[0;34m\u001b[0m\u001b[0;34m\u001b[0m\u001b[0m\n\u001b[1;32m   1134\u001b[0m         \u001b[0;32mif\u001b[0m \u001b[0mengine\u001b[0m \u001b[0;34m==\u001b[0m \u001b[0;34m\"c\"\u001b[0m\u001b[0;34m:\u001b[0m\u001b[0;34m\u001b[0m\u001b[0;34m\u001b[0m\u001b[0m\n\u001b[0;32m-> 1135\u001b[0;31m             \u001b[0mself\u001b[0m\u001b[0;34m.\u001b[0m\u001b[0m_engine\u001b[0m \u001b[0;34m=\u001b[0m \u001b[0mCParserWrapper\u001b[0m\u001b[0;34m(\u001b[0m\u001b[0mself\u001b[0m\u001b[0;34m.\u001b[0m\u001b[0mf\u001b[0m\u001b[0;34m,\u001b[0m \u001b[0;34m**\u001b[0m\u001b[0mself\u001b[0m\u001b[0;34m.\u001b[0m\u001b[0moptions\u001b[0m\u001b[0;34m)\u001b[0m\u001b[0;34m\u001b[0m\u001b[0;34m\u001b[0m\u001b[0m\n\u001b[0m\u001b[1;32m   1136\u001b[0m         \u001b[0;32melse\u001b[0m\u001b[0;34m:\u001b[0m\u001b[0;34m\u001b[0m\u001b[0;34m\u001b[0m\u001b[0m\n\u001b[1;32m   1137\u001b[0m             \u001b[0;32mif\u001b[0m \u001b[0mengine\u001b[0m \u001b[0;34m==\u001b[0m \u001b[0;34m\"python\"\u001b[0m\u001b[0;34m:\u001b[0m\u001b[0;34m\u001b[0m\u001b[0;34m\u001b[0m\u001b[0m\n",
      "\u001b[0;32m~/anaconda3/lib/python3.7/site-packages/pandas/io/parsers.py\u001b[0m in \u001b[0;36m__init__\u001b[0;34m(self, src, **kwds)\u001b[0m\n\u001b[1;32m   1915\u001b[0m         \u001b[0mkwds\u001b[0m\u001b[0;34m[\u001b[0m\u001b[0;34m\"usecols\"\u001b[0m\u001b[0;34m]\u001b[0m \u001b[0;34m=\u001b[0m \u001b[0mself\u001b[0m\u001b[0;34m.\u001b[0m\u001b[0musecols\u001b[0m\u001b[0;34m\u001b[0m\u001b[0;34m\u001b[0m\u001b[0m\n\u001b[1;32m   1916\u001b[0m \u001b[0;34m\u001b[0m\u001b[0m\n\u001b[0;32m-> 1917\u001b[0;31m         \u001b[0mself\u001b[0m\u001b[0;34m.\u001b[0m\u001b[0m_reader\u001b[0m \u001b[0;34m=\u001b[0m \u001b[0mparsers\u001b[0m\u001b[0;34m.\u001b[0m\u001b[0mTextReader\u001b[0m\u001b[0;34m(\u001b[0m\u001b[0msrc\u001b[0m\u001b[0;34m,\u001b[0m \u001b[0;34m**\u001b[0m\u001b[0mkwds\u001b[0m\u001b[0;34m)\u001b[0m\u001b[0;34m\u001b[0m\u001b[0;34m\u001b[0m\u001b[0m\n\u001b[0m\u001b[1;32m   1918\u001b[0m         \u001b[0mself\u001b[0m\u001b[0;34m.\u001b[0m\u001b[0munnamed_cols\u001b[0m \u001b[0;34m=\u001b[0m \u001b[0mself\u001b[0m\u001b[0;34m.\u001b[0m\u001b[0m_reader\u001b[0m\u001b[0;34m.\u001b[0m\u001b[0munnamed_cols\u001b[0m\u001b[0;34m\u001b[0m\u001b[0;34m\u001b[0m\u001b[0m\n\u001b[1;32m   1919\u001b[0m \u001b[0;34m\u001b[0m\u001b[0m\n",
      "\u001b[0;32mpandas/_libs/parsers.pyx\u001b[0m in \u001b[0;36mpandas._libs.parsers.TextReader.__cinit__\u001b[0;34m()\u001b[0m\n",
      "\u001b[0;32mpandas/_libs/parsers.pyx\u001b[0m in \u001b[0;36mpandas._libs.parsers.TextReader._setup_parser_source\u001b[0;34m()\u001b[0m\n",
      "\u001b[0;31mFileNotFoundError\u001b[0m: [Errno 2] File b'/home/manuto/Documents/world_bank/bert_twitter_labor/code/twitter/data/may11_9Klabels/data_binary_pos_neg_balanced_removed_allzeros/preprocessed_glove/preprocessed_train_is_hired_1mo.csv' does not exist: b'/home/manuto/Documents/world_bank/bert_twitter_labor/code/twitter/data/may11_9Klabels/data_binary_pos_neg_balanced_removed_allzeros/preprocessed_glove/preprocessed_train_is_hired_1mo.csv'"
     ]
    }
   ],
   "source": [
    "path = \"/home/manuto/Documents/world_bank/bert_twitter_labor/code/twitter/data/may11_9Klabels/data_binary_pos_neg_balanced_removed_allzeros/preprocessed_glove\"\n",
    "for label in [\"is_hired_1mo\",\"is_unemployed\",\"job_offer\",\"job_search\",\"lost_job_1mo\"]:\n",
    "    print(\"************ {} ************\".format(label))\n",
    "    \n",
    "    train_file_name = \"preprocessed_train_{}.csv\".format(label)\n",
    "    val_file_name = \"preprocessed_val_{}.csv\".format(label)\n",
    "    #download data\n",
    "    df_train = pd.read_csv(os.path.join(path, train_file_name))\n",
    "    df_val = pd.read_csv(os.path.join(path, val_file_name))\n",
    "    #create embeddings\n",
    "    train_vecs_glove_mean = scale(np.concatenate([get_w2v_general(z, 200, glove_twitter,'mean') for z in df_train[\"text\"]]))\n",
    "    validation_vecs_glove_mean = scale(np.concatenate([get_w2v_general(z, 200, glove_twitter,'mean') for z in df_val[\"text\"]]))\n",
    "    #train\n",
    "    clf = LogisticRegression(max_iter=1000)\n",
    "    clf.fit(train_vecs_glove_mean,df_train[\"class\"])\n",
    "    #evaluate\n",
    "    df_val[\"class_predict\"] = clf.predict(validation_vecs_glove_mean)\n",
    "    TP, FP, TN, FN = perf_measure(df_val[\"class\"], df_val[\"class_predict\"])\n",
    "    print(\"Precision: \", TP/(TP+FP))\n",
    "    print(\"Recall: \", TP/(TP+FN))"
   ]
  },
  {
   "cell_type": "markdown",
   "metadata": {},
   "source": [
    "### With preprocessing"
   ]
  },
  {
   "cell_type": "code",
   "execution_count": null,
   "metadata": {},
   "outputs": [],
   "source": [
    "for label in [\"is_hired_1mo\",\"is_unemployed\",\"job_offer\",\"job_search\",\"lost_job_1mo\"]:\n",
    "    print(\"************ {} ************\".format(label))\n",
    "    \n",
    "    train_file_name = \"preprocessed_train_{}.csv\".format(label)\n",
    "    val_file_name = \"preprocessed_val_{}.csv\".format(label)\n",
    "    #download data\n",
    "    df_train = pd.read_csv(os.path.join(path, train_file_name))\n",
    "    df_val = pd.read_csv(os.path.join(path, val_file_name))\n",
    "    #create embeddings\n",
    "    train_vecs_glove_mean = scale(np.concatenate([get_w2v_general(z, 200, glove_twitter,'mean') for z in df_train[\"ProcessedText\"]]))\n",
    "    validation_vecs_glove_mean = scale(np.concatenate([get_w2v_general(z, 200, glove_twitter,'mean') for z in df_val[\"ProcessedText\"]]))\n",
    "    #train\n",
    "    clf = LogisticRegression(max_iter=1000)\n",
    "    clf.fit(train_vecs_glove_mean,df_train[\"class\"])\n",
    "    #evaluate\n",
    "    df_val[\"class_predict\"] = clf.predict(validation_vecs_glove_mean)\n",
    "    TP, FP, TN, FN = perf_measure(df_val[\"class\"], df_val[\"class_predict\"])\n",
    "    print(\"Precision: \", TP/(TP+FP))\n",
    "    print(\"Recall: \", TP/(TP+FN))"
   ]
  },
  {
   "cell_type": "markdown",
   "metadata": {},
   "source": [
    "## Logit + GloVe Wiki 300 on May5_7Klabels "
   ]
  },
  {
   "cell_type": "code",
   "execution_count": null,
   "metadata": {},
   "outputs": [],
   "source": [
    "glove_wiki = api.load(\"glove-wiki-gigaword-300\")"
   ]
  },
  {
   "cell_type": "markdown",
   "metadata": {},
   "source": [
    "#### Without preprocessing"
   ]
  },
  {
   "cell_type": "code",
   "execution_count": null,
   "metadata": {},
   "outputs": [],
   "source": [
    "path = \"/home/manuto/Documents/world_bank/bert_twitter_labor/code/twitter/data/may5_7Klabels/data_binary_pos_neg_balanced_removed_allzeros/preprocessed_glove\"\n",
    "for label in [\"is_hired_1mo\",\"is_unemployed\",\"job_offer\",\"job_search\",\"lost_job_1mo\"]:\n",
    "    print(\"************ {} ************\".format(label))\n",
    "    \n",
    "    train_file_name = \"preprocessed_train_{}.csv\".format(label)\n",
    "    val_file_name = \"preprocessed_val_{}.csv\".format(label)\n",
    "    #download data\n",
    "    df_train = pd.read_csv(os.path.join(path, train_file_name))\n",
    "    df_val = pd.read_csv(os.path.join(path, val_file_name))\n",
    "    #create embeddings\n",
    "    train_vecs_glove_mean = scale(np.concatenate([get_w2v_general(z, 300, glove_wiki,'mean') for z in df_train[\"text\"]]))\n",
    "    validation_vecs_glove_mean = scale(np.concatenate([get_w2v_general(z, 300, glove_wiki,'mean') for z in df_val[\"text\"]]))\n",
    "    #train\n",
    "    clf = LogisticRegression(max_iter=1000)\n",
    "    clf.fit(train_vecs_glove_mean,df_train[\"class\"])\n",
    "    #evaluate\n",
    "    df_val[\"class_predict\"] = clf.predict(validation_vecs_glove_mean)\n",
    "    TP, FP, TN, FN = perf_measure(df_val[\"class\"], df_val[\"class_predict\"])\n",
    "    print(\"Precision: \", TP/(TP+FP))\n",
    "    print(\"Recall: \", TP/(TP+FN))"
   ]
  },
  {
   "cell_type": "markdown",
   "metadata": {},
   "source": [
    "#### With preprocessing"
   ]
  },
  {
   "cell_type": "code",
   "execution_count": null,
   "metadata": {},
   "outputs": [],
   "source": [
    "for label in [\"is_hired_1mo\",\"is_unemployed\",\"job_offer\",\"job_search\",\"lost_job_1mo\"]:\n",
    "    print(\"************ {} ************\".format(label))\n",
    "    \n",
    "    train_file_name = \"preprocessed_train_{}.csv\".format(label)\n",
    "    val_file_name = \"preprocessed_val_{}.csv\".format(label)\n",
    "    #download data\n",
    "    df_train = pd.read_csv(os.path.join(path, train_file_name))\n",
    "    df_val = pd.read_csv(os.path.join(path, val_file_name))\n",
    "    #create embeddings\n",
    "    train_vecs_glove_mean = scale(np.concatenate([get_w2v_general(z, 300, glove_wiki,'mean') for z in df_train[\"ProcessedText\"]]))\n",
    "    validation_vecs_glove_mean = scale(np.concatenate([get_w2v_general(z, 300, glove_wiki,'mean') for z in df_val[\"ProcessedText\"]]))\n",
    "    #train\n",
    "    clf = LogisticRegression(max_iter=1000)\n",
    "    clf.fit(train_vecs_glove_mean,df_train[\"class\"])\n",
    "    #evaluate\n",
    "    df_val[\"class_predict\"] = clf.predict(validation_vecs_glove_mean)\n",
    "    TP, FP, TN, FN = perf_measure(df_val[\"class\"], df_val[\"class_predict\"])\n",
    "    print(\"Precision: \", TP/(TP+FP))\n",
    "    print(\"Recall: \", TP/(TP+FN))"
   ]
  },
  {
   "cell_type": "markdown",
   "metadata": {},
   "source": [
    "## Logit + GloVe Wiki 300 on May11_9Klabels "
   ]
  },
  {
   "cell_type": "markdown",
   "metadata": {},
   "source": [
    "### Without preprocessing"
   ]
  },
  {
   "cell_type": "code",
   "execution_count": null,
   "metadata": {},
   "outputs": [],
   "source": [
    "path = \"/home/manuto/Documents/world_bank/bert_twitter_labor/code/twitter/data/may11_9Klabels/data_binary_pos_neg_balanced_removed_allzeros/preprocessed_glove\"\n",
    "for label in [\"is_hired_1mo\",\"is_unemployed\",\"job_offer\",\"job_search\",\"lost_job_1mo\"]:\n",
    "    print(\"************ {} ************\".format(label))\n",
    "    \n",
    "    train_file_name = \"preprocessed_train_{}.csv\".format(label)\n",
    "    val_file_name = \"preprocessed_val_{}.csv\".format(label)\n",
    "    #download data\n",
    "    df_train = pd.read_csv(os.path.join(path, train_file_name))\n",
    "    df_val = pd.read_csv(os.path.join(path, val_file_name))\n",
    "    #create embeddings\n",
    "    train_vecs_glove_mean = scale(np.concatenate([get_w2v_general(z, 300, glove_wiki,'mean') for z in df_train[\"text\"]]))\n",
    "    validation_vecs_glove_mean = scale(np.concatenate([get_w2v_general(z, 300, glove_wiki,'mean') for z in df_val[\"text\"]]))\n",
    "    #train\n",
    "    clf = LogisticRegression(max_iter=1000)\n",
    "    clf.fit(train_vecs_glove_mean,df_train[\"class\"])\n",
    "    #evaluate\n",
    "    df_val[\"class_predict\"] = clf.predict(validation_vecs_glove_mean)\n",
    "    TP, FP, TN, FN = perf_measure(df_val[\"class\"], df_val[\"class_predict\"])\n",
    "    print(\"Precision: \", TP/(TP+FP))\n",
    "    print(\"Recall: \", TP/(TP+FN))"
   ]
  },
  {
   "cell_type": "markdown",
   "metadata": {},
   "source": [
    "### With preprocessing"
   ]
  },
  {
   "cell_type": "code",
   "execution_count": null,
   "metadata": {},
   "outputs": [],
   "source": [
    "for label in [\"is_hired_1mo\",\"is_unemployed\",\"job_offer\",\"job_search\",\"lost_job_1mo\"]:\n",
    "    print(\"************ {} ************\".format(label))\n",
    "    \n",
    "    train_file_name = \"preprocessed_train_{}.csv\".format(label)\n",
    "    val_file_name = \"preprocessed_val_{}.csv\".format(label)\n",
    "    #download data\n",
    "    df_train = pd.read_csv(os.path.join(path, train_file_name))\n",
    "    df_val = pd.read_csv(os.path.join(path, val_file_name))\n",
    "    #create embeddings\n",
    "    train_vecs_glove_mean = scale(np.concatenate([get_w2v_general(z, 300, glove_wiki,'mean') for z in df_train[\"ProcessedText\"]]))\n",
    "    validation_vecs_glove_mean = scale(np.concatenate([get_w2v_general(z, 300, glove_wiki,'mean') for z in df_val[\"ProcessedText\"]]))\n",
    "    #train\n",
    "    clf = LogisticRegression(max_iter=1000)\n",
    "    clf.fit(train_vecs_glove_mean,df_train[\"class\"])\n",
    "    #evaluate\n",
    "    df_val[\"class_predict\"] = clf.predict(validation_vecs_glove_mean)\n",
    "    TP, FP, TN, FN = perf_measure(df_val[\"class\"], df_val[\"class_predict\"])\n",
    "    print(\"Precision: \", TP/(TP+FP))\n",
    "    print(\"Recall: \", TP/(TP+FN))"
   ]
  },
  {
   "cell_type": "code",
   "execution_count": null,
   "metadata": {},
   "outputs": [],
   "source": []
  }
 ],
 "metadata": {
  "kernelspec": {
   "display_name": "Python 3",
   "language": "python",
   "name": "python3"
  },
  "language_info": {
   "codemirror_mode": {
    "name": "ipython",
    "version": 3
   },
   "file_extension": ".py",
   "mimetype": "text/x-python",
   "name": "python",
   "nbconvert_exporter": "python",
   "pygments_lexer": "ipython3",
   "version": "3.7.4"
  }
 },
 "nbformat": 4,
 "nbformat_minor": 2
}
