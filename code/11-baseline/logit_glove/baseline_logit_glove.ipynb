{
 "cells": [
  {
   "cell_type": "code",
   "execution_count": 1,
   "metadata": {},
   "outputs": [],
   "source": [
    "import pandas as pd\n",
    "import numpy as np\n",
    "import os\n",
    "from sklearn.linear_model import LogisticRegression\n",
    "from ast import literal_eval\n",
    "from sklearn.metrics import classification_report\n",
    "import gensim.downloader as api\n",
    "from sklearn.preprocessing import scale"
   ]
  },
  {
   "cell_type": "markdown",
   "metadata": {},
   "source": [
    "## Utils"
   ]
  },
  {
   "cell_type": "code",
   "execution_count": 2,
   "metadata": {},
   "outputs": [],
   "source": [
    "def get_w2v_general(tweet, size, vectors, aggregation='mean'):\n",
    "    vec = np.zeros(size).reshape((1, size))\n",
    "    count = 0.\n",
    "    for word in tweet.split():\n",
    "        try:\n",
    "            vec += vectors[word].reshape((1, size))\n",
    "            count += 1.\n",
    "        except KeyError:\n",
    "            continue\n",
    "    if aggregation == 'mean':\n",
    "        if count != 0:\n",
    "            vec /= count\n",
    "        return vec\n",
    "    elif aggregation == 'sum':\n",
    "        return vec"
   ]
  },
  {
   "cell_type": "code",
   "execution_count": 3,
   "metadata": {},
   "outputs": [],
   "source": [
    "def perf_measure(y_actual, y_hat):\n",
    "    TP = 0\n",
    "    FP = 0\n",
    "    TN = 0\n",
    "    FN = 0\n",
    "\n",
    "    for i in range(len(y_hat)): \n",
    "        if y_actual[i]==y_hat[i]==1:\n",
    "           TP += 1\n",
    "        if y_hat[i]==1 and y_actual[i]!=y_hat[i]:\n",
    "           FP += 1\n",
    "        if y_actual[i]==y_hat[i]==0:\n",
    "           TN += 1\n",
    "        if y_hat[i]==0 and y_actual[i]!=y_hat[i]:\n",
    "           FN += 1\n",
    "\n",
    "    return(TP, FP, TN, FN)"
   ]
  },
  {
   "cell_type": "markdown",
   "metadata": {},
   "source": [
    "## Logit + GloVe Twitter 200d on May5_7Klabels "
   ]
  },
  {
   "cell_type": "code",
   "execution_count": 4,
   "metadata": {},
   "outputs": [],
   "source": [
    "glove_twitter = api.load(\"glove-twitter-200\")"
   ]
  },
  {
   "cell_type": "markdown",
   "metadata": {},
   "source": [
    "### Without preprocessing"
   ]
  },
  {
   "cell_type": "code",
   "execution_count": 5,
   "metadata": {},
   "outputs": [
    {
     "name": "stdout",
     "output_type": "stream",
     "text": [
      "************ is_hired_1mo ************\n",
      "Precision:  0.7678571428571429\n",
      "Recall:  0.7543859649122807\n",
      "************ is_unemployed ************\n",
      "Precision:  0.8113207547169812\n",
      "Recall:  0.8301158301158301\n",
      "************ job_offer ************\n",
      "Precision:  0.8918918918918919\n",
      "Recall:  0.924\n",
      "************ job_search ************\n",
      "Precision:  0.7662337662337663\n",
      "Recall:  0.7375\n",
      "************ lost_job_1mo ************\n",
      "Precision:  0.8181818181818182\n",
      "Recall:  0.75\n"
     ]
    }
   ],
   "source": [
    "path = \"/home/manuto/Documents/world_bank/bert_twitter_labor/code/twitter/data/may5_7Klabels/data_binary_pos_neg_balanced_removed_allzeros/preprocessed_glove\"\n",
    "for label in [\"is_hired_1mo\",\"is_unemployed\",\"job_offer\",\"job_search\",\"lost_job_1mo\"]:\n",
    "    print(\"************ {} ************\".format(label))\n",
    "    \n",
    "    train_file_name = \"preprocessed_train_{}.csv\".format(label)\n",
    "    val_file_name = \"preprocessed_val_{}.csv\".format(label)\n",
    "    #download data\n",
    "    df_train = pd.read_csv(os.path.join(path, train_file_name))\n",
    "    df_val = pd.read_csv(os.path.join(path, val_file_name))\n",
    "    #create embeddings\n",
    "    train_vecs_glove_mean = scale(np.concatenate([get_w2v_general(z, 200, glove_twitter,'mean') for z in df_train[\"text\"]]))\n",
    "    validation_vecs_glove_mean = scale(np.concatenate([get_w2v_general(z, 200, glove_twitter,'mean') for z in df_val[\"text\"]]))\n",
    "    #train\n",
    "    clf = LogisticRegression(max_iter=1000)\n",
    "    clf.fit(train_vecs_glove_mean,df_train[\"class\"])\n",
    "    #evaluate\n",
    "    df_val[\"class_predict\"] = clf.predict(validation_vecs_glove_mean)\n",
    "    TP, FP, TN, FN = perf_measure(df_val[\"class\"], df_val[\"class_predict\"])\n",
    "    print(\"Precision: \", TP/(TP+FP))\n",
    "    print(\"Recall: \", TP/(TP+FN))"
   ]
  },
  {
   "cell_type": "markdown",
   "metadata": {},
   "source": [
    "### With preprocessing"
   ]
  },
  {
   "cell_type": "code",
   "execution_count": 6,
   "metadata": {},
   "outputs": [
    {
     "name": "stdout",
     "output_type": "stream",
     "text": [
      "************ is_hired_1mo ************\n",
      "Precision:  0.8446601941747572\n",
      "Recall:  0.7631578947368421\n",
      "************ is_unemployed ************\n",
      "Precision:  0.8051470588235294\n",
      "Recall:  0.8455598455598455\n",
      "************ job_offer ************\n",
      "Precision:  0.91796875\n",
      "Recall:  0.94\n",
      "************ job_search ************\n",
      "Precision:  0.7975460122699386\n",
      "Recall:  0.8125\n",
      "************ lost_job_1mo ************\n",
      "Precision:  0.7857142857142857\n",
      "Recall:  0.7638888888888888\n"
     ]
    }
   ],
   "source": [
    "for label in [\"is_hired_1mo\",\"is_unemployed\",\"job_offer\",\"job_search\",\"lost_job_1mo\"]:\n",
    "    print(\"************ {} ************\".format(label))\n",
    "    \n",
    "    train_file_name = \"preprocessed_train_{}.csv\".format(label)\n",
    "    val_file_name = \"preprocessed_val_{}.csv\".format(label)\n",
    "    #download data\n",
    "    df_train = pd.read_csv(os.path.join(path, train_file_name))\n",
    "    df_val = pd.read_csv(os.path.join(path, val_file_name))\n",
    "    #create embeddings\n",
    "    train_vecs_glove_mean = scale(np.concatenate([get_w2v_general(z, 200, glove_twitter,'mean') for z in df_train[\"ProcessedText\"]]))\n",
    "    validation_vecs_glove_mean = scale(np.concatenate([get_w2v_general(z, 200, glove_twitter,'mean') for z in df_val[\"ProcessedText\"]]))\n",
    "    #train\n",
    "    clf = LogisticRegression(max_iter=1000)\n",
    "    clf.fit(train_vecs_glove_mean,df_train[\"class\"])\n",
    "    #evaluate\n",
    "    df_val[\"class_predict\"] = clf.predict(validation_vecs_glove_mean)\n",
    "    TP, FP, TN, FN = perf_measure(df_val[\"class\"], df_val[\"class_predict\"])\n",
    "    print(\"Precision: \", TP/(TP+FP))\n",
    "    print(\"Recall: \", TP/(TP+FN))"
   ]
  },
  {
   "cell_type": "markdown",
   "metadata": {},
   "source": [
    "## Logit + GloVe Twitter 200d on May11_9Klabels "
   ]
  },
  {
   "cell_type": "markdown",
   "metadata": {},
   "source": [
    "### Without preprocessing"
   ]
  },
  {
   "cell_type": "code",
   "execution_count": 8,
   "metadata": {},
   "outputs": [
    {
     "name": "stdout",
     "output_type": "stream",
     "text": [
      "************ is_hired_1mo ************\n",
      "Precision:  0.7961783439490446\n",
      "Recall:  0.8064516129032258\n",
      "************ is_unemployed ************\n",
      "Precision:  0.8412698412698413\n",
      "Recall:  0.8571428571428571\n",
      "************ job_offer ************\n",
      "Precision:  0.9051724137931034\n",
      "Recall:  0.8823529411764706\n",
      "************ job_search ************\n",
      "Precision:  0.7216981132075472\n",
      "Recall:  0.68\n",
      "************ lost_job_1mo ************\n",
      "Precision:  0.8333333333333334\n",
      "Recall:  0.7734806629834254\n"
     ]
    }
   ],
   "source": [
    "path = \"/home/manuto/Documents/world_bank/bert_twitter_labor/code/twitter/data/may11_9Klabels/data_binary_pos_neg_balanced_removed_allzeros_BAD/preprocessed_glove\"\n",
    "for label in [\"is_hired_1mo\",\"is_unemployed\",\"job_offer\",\"job_search\",\"lost_job_1mo\"]:\n",
    "    print(\"************ {} ************\".format(label))\n",
    "    \n",
    "    train_file_name = \"preprocessed_train_{}.csv\".format(label)\n",
    "    val_file_name = \"preprocessed_val_{}.csv\".format(label)\n",
    "    #download data\n",
    "    df_train = pd.read_csv(os.path.join(path, train_file_name))\n",
    "    df_val = pd.read_csv(os.path.join(path, val_file_name))\n",
    "    #create embeddings\n",
    "    train_vecs_glove_mean = scale(np.concatenate([get_w2v_general(z, 200, glove_twitter,'mean') for z in df_train[\"text\"]]))\n",
    "    validation_vecs_glove_mean = scale(np.concatenate([get_w2v_general(z, 200, glove_twitter,'mean') for z in df_val[\"text\"]]))\n",
    "    #train\n",
    "    clf = LogisticRegression(max_iter=1000)\n",
    "    clf.fit(train_vecs_glove_mean,df_train[\"class\"])\n",
    "    #evaluate\n",
    "    df_val[\"class_predict\"] = clf.predict(validation_vecs_glove_mean)\n",
    "    TP, FP, TN, FN = perf_measure(df_val[\"class\"], df_val[\"class_predict\"])\n",
    "    print(\"Precision: \", TP/(TP+FP))\n",
    "    print(\"Recall: \", TP/(TP+FN))"
   ]
  },
  {
   "cell_type": "markdown",
   "metadata": {},
   "source": [
    "### With preprocessing"
   ]
  },
  {
   "cell_type": "code",
   "execution_count": 9,
   "metadata": {},
   "outputs": [
    {
     "name": "stdout",
     "output_type": "stream",
     "text": [
      "************ is_hired_1mo ************\n",
      "Precision:  0.8732394366197183\n",
      "Recall:  0.8\n",
      "************ is_unemployed ************\n",
      "Precision:  0.8198433420365535\n",
      "Recall:  0.8463611859838275\n",
      "************ job_offer ************\n",
      "Precision:  0.9346590909090909\n",
      "Recall:  0.9215686274509803\n",
      "************ job_search ************\n",
      "Precision:  0.7405660377358491\n",
      "Recall:  0.6977777777777778\n",
      "************ lost_job_1mo ************\n",
      "Precision:  0.8268156424581006\n",
      "Recall:  0.8176795580110497\n"
     ]
    }
   ],
   "source": [
    "for label in [\"is_hired_1mo\",\"is_unemployed\",\"job_offer\",\"job_search\",\"lost_job_1mo\"]:\n",
    "    print(\"************ {} ************\".format(label))\n",
    "    \n",
    "    train_file_name = \"preprocessed_train_{}.csv\".format(label)\n",
    "    val_file_name = \"preprocessed_val_{}.csv\".format(label)\n",
    "    #download data\n",
    "    df_train = pd.read_csv(os.path.join(path, train_file_name))\n",
    "    df_val = pd.read_csv(os.path.join(path, val_file_name))\n",
    "    #create embeddings\n",
    "    train_vecs_glove_mean = scale(np.concatenate([get_w2v_general(z, 200, glove_twitter,'mean') for z in df_train[\"ProcessedText\"]]))\n",
    "    validation_vecs_glove_mean = scale(np.concatenate([get_w2v_general(z, 200, glove_twitter,'mean') for z in df_val[\"ProcessedText\"]]))\n",
    "    #train\n",
    "    clf = LogisticRegression(max_iter=1000)\n",
    "    clf.fit(train_vecs_glove_mean,df_train[\"class\"])\n",
    "    #evaluate\n",
    "    df_val[\"class_predict\"] = clf.predict(validation_vecs_glove_mean)\n",
    "    TP, FP, TN, FN = perf_measure(df_val[\"class\"], df_val[\"class_predict\"])\n",
    "    print(\"Precision: \", TP/(TP+FP))\n",
    "    print(\"Recall: \", TP/(TP+FN))"
   ]
  },
  {
   "cell_type": "markdown",
   "metadata": {},
   "source": [
    "## Logit + GloVe Wiki 300 on May5_7Klabels "
   ]
  },
  {
   "cell_type": "code",
   "execution_count": 10,
   "metadata": {},
   "outputs": [],
   "source": [
    "glove_wiki = api.load(\"glove-wiki-gigaword-300\")"
   ]
  },
  {
   "cell_type": "markdown",
   "metadata": {},
   "source": [
    "#### Without preprocessing"
   ]
  },
  {
   "cell_type": "code",
   "execution_count": 11,
   "metadata": {},
   "outputs": [
    {
     "name": "stdout",
     "output_type": "stream",
     "text": [
      "************ is_hired_1mo ************\n",
      "Precision:  0.7407407407407407\n",
      "Recall:  0.7017543859649122\n",
      "************ is_unemployed ************\n",
      "Precision:  0.8157894736842105\n",
      "Recall:  0.8378378378378378\n",
      "************ job_offer ************\n",
      "Precision:  0.8928571428571429\n",
      "Recall:  0.9\n",
      "************ job_search ************\n",
      "Precision:  0.8013698630136986\n",
      "Recall:  0.73125\n",
      "************ lost_job_1mo ************\n",
      "Precision:  0.84\n",
      "Recall:  0.7291666666666666\n"
     ]
    }
   ],
   "source": [
    "path = \"/home/manuto/Documents/world_bank/bert_twitter_labor/code/twitter/data/may5_7Klabels/data_binary_pos_neg_balanced_removed_allzeros/preprocessed_glove\"\n",
    "for label in [\"is_hired_1mo\",\"is_unemployed\",\"job_offer\",\"job_search\",\"lost_job_1mo\"]:\n",
    "    print(\"************ {} ************\".format(label))\n",
    "    \n",
    "    train_file_name = \"preprocessed_train_{}.csv\".format(label)\n",
    "    val_file_name = \"preprocessed_val_{}.csv\".format(label)\n",
    "    #download data\n",
    "    df_train = pd.read_csv(os.path.join(path, train_file_name))\n",
    "    df_val = pd.read_csv(os.path.join(path, val_file_name))\n",
    "    #create embeddings\n",
    "    train_vecs_glove_mean = scale(np.concatenate([get_w2v_general(z, 300, glove_wiki,'mean') for z in df_train[\"text\"]]))\n",
    "    validation_vecs_glove_mean = scale(np.concatenate([get_w2v_general(z, 300, glove_wiki,'mean') for z in df_val[\"text\"]]))\n",
    "    #train\n",
    "    clf = LogisticRegression(max_iter=1000)\n",
    "    clf.fit(train_vecs_glove_mean,df_train[\"class\"])\n",
    "    #evaluate\n",
    "    df_val[\"class_predict\"] = clf.predict(validation_vecs_glove_mean)\n",
    "    TP, FP, TN, FN = perf_measure(df_val[\"class\"], df_val[\"class_predict\"])\n",
    "    print(\"Precision: \", TP/(TP+FP))\n",
    "    print(\"Recall: \", TP/(TP+FN))"
   ]
  },
  {
   "cell_type": "markdown",
   "metadata": {},
   "source": [
    "#### With preprocessing"
   ]
  },
  {
   "cell_type": "code",
   "execution_count": 12,
   "metadata": {},
   "outputs": [
    {
     "name": "stdout",
     "output_type": "stream",
     "text": [
      "************ is_hired_1mo ************\n",
      "Precision:  0.8207547169811321\n",
      "Recall:  0.7631578947368421\n",
      "************ is_unemployed ************\n",
      "Precision:  0.8120300751879699\n",
      "Recall:  0.833976833976834\n",
      "************ job_offer ************\n",
      "Precision:  0.9322709163346613\n",
      "Recall:  0.936\n",
      "************ job_search ************\n",
      "Precision:  0.7677419354838709\n",
      "Recall:  0.74375\n",
      "************ lost_job_1mo ************\n",
      "Precision:  0.8048780487804879\n",
      "Recall:  0.6875\n"
     ]
    }
   ],
   "source": [
    "for label in [\"is_hired_1mo\",\"is_unemployed\",\"job_offer\",\"job_search\",\"lost_job_1mo\"]:\n",
    "    print(\"************ {} ************\".format(label))\n",
    "    \n",
    "    train_file_name = \"preprocessed_train_{}.csv\".format(label)\n",
    "    val_file_name = \"preprocessed_val_{}.csv\".format(label)\n",
    "    #download data\n",
    "    df_train = pd.read_csv(os.path.join(path, train_file_name))\n",
    "    df_val = pd.read_csv(os.path.join(path, val_file_name))\n",
    "    #create embeddings\n",
    "    train_vecs_glove_mean = scale(np.concatenate([get_w2v_general(z, 300, glove_wiki,'mean') for z in df_train[\"ProcessedText\"]]))\n",
    "    validation_vecs_glove_mean = scale(np.concatenate([get_w2v_general(z, 300, glove_wiki,'mean') for z in df_val[\"ProcessedText\"]]))\n",
    "    #train\n",
    "    clf = LogisticRegression(max_iter=1000)\n",
    "    clf.fit(train_vecs_glove_mean,df_train[\"class\"])\n",
    "    #evaluate\n",
    "    df_val[\"class_predict\"] = clf.predict(validation_vecs_glove_mean)\n",
    "    TP, FP, TN, FN = perf_measure(df_val[\"class\"], df_val[\"class_predict\"])\n",
    "    print(\"Precision: \", TP/(TP+FP))\n",
    "    print(\"Recall: \", TP/(TP+FN))"
   ]
  },
  {
   "cell_type": "markdown",
   "metadata": {},
   "source": [
    "## Logit + GloVe Wiki 300 on May11_9Klabels "
   ]
  },
  {
   "cell_type": "markdown",
   "metadata": {},
   "source": [
    "### Without preprocessing"
   ]
  },
  {
   "cell_type": "code",
   "execution_count": 13,
   "metadata": {},
   "outputs": [
    {
     "name": "stdout",
     "output_type": "stream",
     "text": [
      "************ is_hired_1mo ************\n",
      "Precision:  0.7880794701986755\n",
      "Recall:  0.7677419354838709\n",
      "************ is_unemployed ************\n",
      "Precision:  0.8282548476454293\n",
      "Recall:  0.8059299191374663\n",
      "************ job_offer ************\n",
      "Precision:  0.9048991354466859\n",
      "Recall:  0.8795518207282913\n",
      "************ job_search ************\n",
      "Precision:  0.7407407407407407\n",
      "Recall:  0.7111111111111111\n",
      "************ lost_job_1mo ************\n",
      "Precision:  0.8106508875739645\n",
      "Recall:  0.7569060773480663\n"
     ]
    }
   ],
   "source": [
    "path = \"/home/manuto/Documents/world_bank/bert_twitter_labor/code/twitter/data/may11_9Klabels/data_binary_pos_neg_balanced_removed_allzeros_BAD/preprocessed_glove\"\n",
    "for label in [\"is_hired_1mo\",\"is_unemployed\",\"job_offer\",\"job_search\",\"lost_job_1mo\"]:\n",
    "    print(\"************ {} ************\".format(label))\n",
    "    \n",
    "    train_file_name = \"preprocessed_train_{}.csv\".format(label)\n",
    "    val_file_name = \"preprocessed_val_{}.csv\".format(label)\n",
    "    #download data\n",
    "    df_train = pd.read_csv(os.path.join(path, train_file_name))\n",
    "    df_val = pd.read_csv(os.path.join(path, val_file_name))\n",
    "    #create embeddings\n",
    "    train_vecs_glove_mean = scale(np.concatenate([get_w2v_general(z, 300, glove_wiki,'mean') for z in df_train[\"text\"]]))\n",
    "    validation_vecs_glove_mean = scale(np.concatenate([get_w2v_general(z, 300, glove_wiki,'mean') for z in df_val[\"text\"]]))\n",
    "    #train\n",
    "    clf = LogisticRegression(max_iter=1000)\n",
    "    clf.fit(train_vecs_glove_mean,df_train[\"class\"])\n",
    "    #evaluate\n",
    "    df_val[\"class_predict\"] = clf.predict(validation_vecs_glove_mean)\n",
    "    TP, FP, TN, FN = perf_measure(df_val[\"class\"], df_val[\"class_predict\"])\n",
    "    print(\"Precision: \", TP/(TP+FP))\n",
    "    print(\"Recall: \", TP/(TP+FN))"
   ]
  },
  {
   "cell_type": "markdown",
   "metadata": {},
   "source": [
    "### With preprocessing"
   ]
  },
  {
   "cell_type": "code",
   "execution_count": 14,
   "metadata": {},
   "outputs": [
    {
     "name": "stdout",
     "output_type": "stream",
     "text": [
      "************ is_hired_1mo ************\n",
      "Precision:  0.8355263157894737\n",
      "Recall:  0.8193548387096774\n",
      "************ is_unemployed ************\n",
      "Precision:  0.8218085106382979\n",
      "Recall:  0.8328840970350404\n",
      "************ job_offer ************\n",
      "Precision:  0.9307479224376731\n",
      "Recall:  0.9411764705882353\n",
      "************ job_search ************\n",
      "Precision:  0.7511961722488039\n",
      "Recall:  0.6977777777777778\n",
      "************ lost_job_1mo ************\n",
      "Precision:  0.8034682080924855\n",
      "Recall:  0.7679558011049724\n"
     ]
    }
   ],
   "source": [
    "for label in [\"is_hired_1mo\",\"is_unemployed\",\"job_offer\",\"job_search\",\"lost_job_1mo\"]:\n",
    "    print(\"************ {} ************\".format(label))\n",
    "    \n",
    "    train_file_name = \"preprocessed_train_{}.csv\".format(label)\n",
    "    val_file_name = \"preprocessed_val_{}.csv\".format(label)\n",
    "    #download data\n",
    "    df_train = pd.read_csv(os.path.join(path, train_file_name))\n",
    "    df_val = pd.read_csv(os.path.join(path, val_file_name))\n",
    "    #create embeddings\n",
    "    train_vecs_glove_mean = scale(np.concatenate([get_w2v_general(z, 300, glove_wiki,'mean') for z in df_train[\"ProcessedText\"]]))\n",
    "    validation_vecs_glove_mean = scale(np.concatenate([get_w2v_general(z, 300, glove_wiki,'mean') for z in df_val[\"ProcessedText\"]]))\n",
    "    #train\n",
    "    clf = LogisticRegression(max_iter=1000)\n",
    "    clf.fit(train_vecs_glove_mean,df_train[\"class\"])\n",
    "    #evaluate\n",
    "    df_val[\"class_predict\"] = clf.predict(validation_vecs_glove_mean)\n",
    "    TP, FP, TN, FN = perf_measure(df_val[\"class\"], df_val[\"class_predict\"])\n",
    "    print(\"Precision: \", TP/(TP+FP))\n",
    "    print(\"Recall: \", TP/(TP+FN))"
   ]
  },
  {
   "cell_type": "code",
   "execution_count": null,
   "metadata": {},
   "outputs": [],
   "source": []
  }
 ],
 "metadata": {
  "kernelspec": {
   "display_name": "Python 3",
   "language": "python",
   "name": "python3"
  },
  "language_info": {
   "codemirror_mode": {
    "name": "ipython",
    "version": 3
   },
   "file_extension": ".py",
   "mimetype": "text/x-python",
   "name": "python",
   "nbconvert_exporter": "python",
   "pygments_lexer": "ipython3",
   "version": "3.7.4"
  }
 },
 "nbformat": 4,
 "nbformat_minor": 2
}
