{
 "cells": [
  {
   "cell_type": "code",
   "execution_count": 37,
   "metadata": {},
   "outputs": [],
   "source": [
    "import pandas as pd"
   ]
  },
  {
   "cell_type": "code",
   "execution_count": 38,
   "metadata": {},
   "outputs": [],
   "source": [
    "def convert_labels_to_int(label):\n",
    "    if label == 'yes':\n",
    "        return 1\n",
    "    elif label == 'no':\n",
    "        return 0"
   ]
  },
  {
   "cell_type": "code",
   "execution_count": 39,
   "metadata": {},
   "outputs": [
    {
     "name": "stdout",
     "output_type": "stream",
     "text": [
      "9746\n"
     ]
    }
   ],
   "source": [
    "all_data_df = pd.read_pickle('/home/manuto/Documents/world_bank/bert_twitter_labor/code/twitter/data/jun3_10Klabels/labels.pkl')\n",
    "print(all_data_df.shape[0])\n",
    "all_data_df.columns = ['tweet_id', 'text', 'is_unemployed', 'lost_job_1mo', 'job_search', 'is_hired_1mo','job_offer']\n",
    "all_data_df = all_data_df[['tweet_id', 'text', 'lost_job_1mo', 'is_unemployed', 'job_search', 'is_hired_1mo', 'job_offer']]\n",
    "# convert labels to int\n",
    "for label in ['is_unemployed', 'lost_job_1mo', 'job_search', 'is_hired_1mo', 'job_offer']:\n",
    "    all_data_df[label] = all_data_df[label].apply(convert_labels_to_int)\n",
    "    all_data_df = all_data_df[all_data_df[label].notna()].reset_index(drop=True)\n",
    "# train/test split\n",
    "train_df = all_data_df.sample(frac=0.7, random_state=0)\n",
    "eval_df = all_data_df.drop(train_df.index)\n",
    "# create eval and holdout set\n",
    "#eval_df = intermediary_df.sample(frac=0.5, random_state=0)\n",
    "#holdout_df = intermediary_df.drop(eval_df.index)\n",
    "\n",
    "train_df = train_df.reset_index(drop=True)\n",
    "eval_df = eval_df.reset_index(drop=True)\n",
    "#holdout_df = holdout_df.reset_index(drop=True)"
   ]
  },
  {
   "cell_type": "code",
   "execution_count": 40,
   "metadata": {},
   "outputs": [
    {
     "data": {
      "text/html": [
       "<div>\n",
       "<style scoped>\n",
       "    .dataframe tbody tr th:only-of-type {\n",
       "        vertical-align: middle;\n",
       "    }\n",
       "\n",
       "    .dataframe tbody tr th {\n",
       "        vertical-align: top;\n",
       "    }\n",
       "\n",
       "    .dataframe thead th {\n",
       "        text-align: right;\n",
       "    }\n",
       "</style>\n",
       "<table border=\"1\" class=\"dataframe\">\n",
       "  <thead>\n",
       "    <tr style=\"text-align: right;\">\n",
       "      <th></th>\n",
       "      <th>tweet_id</th>\n",
       "      <th>text</th>\n",
       "      <th>lost_job_1mo</th>\n",
       "      <th>is_unemployed</th>\n",
       "      <th>job_search</th>\n",
       "      <th>is_hired_1mo</th>\n",
       "      <th>job_offer</th>\n",
       "    </tr>\n",
       "  </thead>\n",
       "  <tbody>\n",
       "    <tr>\n",
       "      <th>0</th>\n",
       "      <td>370566045490098176</td>\n",
       "      <td>I'm am currently lolling for a new job in eith...</td>\n",
       "      <td>0.0</td>\n",
       "      <td>0.0</td>\n",
       "      <td>1.0</td>\n",
       "      <td>0.0</td>\n",
       "      <td>0.0</td>\n",
       "    </tr>\n",
       "    <tr>\n",
       "      <th>1</th>\n",
       "      <td>373883790344880128</td>\n",
       "      <td>Can a NFL player who gets laid off file for Un...</td>\n",
       "      <td>0.0</td>\n",
       "      <td>0.0</td>\n",
       "      <td>0.0</td>\n",
       "      <td>0.0</td>\n",
       "      <td>0.0</td>\n",
       "    </tr>\n",
       "    <tr>\n",
       "      <th>2</th>\n",
       "      <td>403659108471275520</td>\n",
       "      <td>My new job just called me cause they haven't h...</td>\n",
       "      <td>0.0</td>\n",
       "      <td>0.0</td>\n",
       "      <td>0.0</td>\n",
       "      <td>0.0</td>\n",
       "      <td>0.0</td>\n",
       "    </tr>\n",
       "    <tr>\n",
       "      <th>3</th>\n",
       "      <td>287191263659319297</td>\n",
       "      <td>Unemployed? Buy An iPhone: By Reuven Gorsht, V...</td>\n",
       "      <td>0.0</td>\n",
       "      <td>0.0</td>\n",
       "      <td>0.0</td>\n",
       "      <td>0.0</td>\n",
       "      <td>0.0</td>\n",
       "    </tr>\n",
       "    <tr>\n",
       "      <th>4</th>\n",
       "      <td>735182613237768192</td>\n",
       "      <td>I thought it was gunna get worse before it got...</td>\n",
       "      <td>1.0</td>\n",
       "      <td>1.0</td>\n",
       "      <td>0.0</td>\n",
       "      <td>0.0</td>\n",
       "      <td>0.0</td>\n",
       "    </tr>\n",
       "  </tbody>\n",
       "</table>\n",
       "</div>"
      ],
      "text/plain": [
       "             tweet_id                                               text  \\\n",
       "0  370566045490098176  I'm am currently lolling for a new job in eith...   \n",
       "1  373883790344880128  Can a NFL player who gets laid off file for Un...   \n",
       "2  403659108471275520  My new job just called me cause they haven't h...   \n",
       "3  287191263659319297  Unemployed? Buy An iPhone: By Reuven Gorsht, V...   \n",
       "4  735182613237768192  I thought it was gunna get worse before it got...   \n",
       "\n",
       "   lost_job_1mo  is_unemployed  job_search  is_hired_1mo  job_offer  \n",
       "0           0.0            0.0         1.0           0.0        0.0  \n",
       "1           0.0            0.0         0.0           0.0        0.0  \n",
       "2           0.0            0.0         0.0           0.0        0.0  \n",
       "3           0.0            0.0         0.0           0.0        0.0  \n",
       "4           1.0            1.0         0.0           0.0        0.0  "
      ]
     },
     "execution_count": 40,
     "metadata": {},
     "output_type": "execute_result"
    }
   ],
   "source": [
    "train_df.head()"
   ]
  },
  {
   "cell_type": "code",
   "execution_count": 41,
   "metadata": {},
   "outputs": [
    {
     "data": {
      "text/html": [
       "<div>\n",
       "<style scoped>\n",
       "    .dataframe tbody tr th:only-of-type {\n",
       "        vertical-align: middle;\n",
       "    }\n",
       "\n",
       "    .dataframe tbody tr th {\n",
       "        vertical-align: top;\n",
       "    }\n",
       "\n",
       "    .dataframe thead th {\n",
       "        text-align: right;\n",
       "    }\n",
       "</style>\n",
       "<table border=\"1\" class=\"dataframe\">\n",
       "  <thead>\n",
       "    <tr style=\"text-align: right;\">\n",
       "      <th></th>\n",
       "      <th>tweet_id</th>\n",
       "      <th>text</th>\n",
       "      <th>lost_job_1mo</th>\n",
       "      <th>is_unemployed</th>\n",
       "      <th>job_search</th>\n",
       "      <th>is_hired_1mo</th>\n",
       "      <th>job_offer</th>\n",
       "    </tr>\n",
       "  </thead>\n",
       "  <tbody>\n",
       "    <tr>\n",
       "      <th>0</th>\n",
       "      <td>470867540739383296</td>\n",
       "      <td>Is it true? 47% of Unemployed Americans Have J...</td>\n",
       "      <td>0.0</td>\n",
       "      <td>0.0</td>\n",
       "      <td>0.0</td>\n",
       "      <td>0.0</td>\n",
       "      <td>0.0</td>\n",
       "    </tr>\n",
       "    <tr>\n",
       "      <th>1</th>\n",
       "      <td>727874210375344128</td>\n",
       "      <td>baby I'm a boss and ya man unemployed</td>\n",
       "      <td>0.0</td>\n",
       "      <td>1.0</td>\n",
       "      <td>0.0</td>\n",
       "      <td>0.0</td>\n",
       "      <td>0.0</td>\n",
       "    </tr>\n",
       "    <tr>\n",
       "      <th>2</th>\n",
       "      <td>722397405702942720</td>\n",
       "      <td>Baby I'm a boss and ya man unemployed</td>\n",
       "      <td>0.0</td>\n",
       "      <td>0.0</td>\n",
       "      <td>0.0</td>\n",
       "      <td>0.0</td>\n",
       "      <td>0.0</td>\n",
       "    </tr>\n",
       "    <tr>\n",
       "      <th>3</th>\n",
       "      <td>329054045752942592</td>\n",
       "      <td>Girl you know I'm unemployed trynna be fancy</td>\n",
       "      <td>0.0</td>\n",
       "      <td>1.0</td>\n",
       "      <td>0.0</td>\n",
       "      <td>0.0</td>\n",
       "      <td>0.0</td>\n",
       "    </tr>\n",
       "    <tr>\n",
       "      <th>4</th>\n",
       "      <td>292521070685208576</td>\n",
       "      <td>If a girl tells me that she is a socialite, is...</td>\n",
       "      <td>0.0</td>\n",
       "      <td>0.0</td>\n",
       "      <td>0.0</td>\n",
       "      <td>0.0</td>\n",
       "      <td>0.0</td>\n",
       "    </tr>\n",
       "  </tbody>\n",
       "</table>\n",
       "</div>"
      ],
      "text/plain": [
       "             tweet_id                                               text  \\\n",
       "0  470867540739383296  Is it true? 47% of Unemployed Americans Have J...   \n",
       "1  727874210375344128              baby I'm a boss and ya man unemployed   \n",
       "2  722397405702942720              Baby I'm a boss and ya man unemployed   \n",
       "3  329054045752942592       Girl you know I'm unemployed trynna be fancy   \n",
       "4  292521070685208576  If a girl tells me that she is a socialite, is...   \n",
       "\n",
       "   lost_job_1mo  is_unemployed  job_search  is_hired_1mo  job_offer  \n",
       "0           0.0            0.0         0.0           0.0        0.0  \n",
       "1           0.0            1.0         0.0           0.0        0.0  \n",
       "2           0.0            0.0         0.0           0.0        0.0  \n",
       "3           0.0            1.0         0.0           0.0        0.0  \n",
       "4           0.0            0.0         0.0           0.0        0.0  "
      ]
     },
     "execution_count": 41,
     "metadata": {},
     "output_type": "execute_result"
    }
   ],
   "source": [
    "eval_df.head()"
   ]
  },
  {
   "cell_type": "code",
   "execution_count": 42,
   "metadata": {},
   "outputs": [
    {
     "name": "stdout",
     "output_type": "stream",
     "text": [
      "is_unemployed\n",
      "lost_job_1mo\n",
      "job_search\n",
      "is_hired_1mo\n",
      "job_offer\n"
     ]
    }
   ],
   "source": [
    "for label in ['is_unemployed', 'lost_job_1mo', 'job_search', 'is_hired_1mo', 'job_offer']:\n",
    "    print(label)\n",
    "    saved_train_df = train_df[['text', label]]\n",
    "    saved_eval_df = eval_df[['text', label]]\n",
    "    #saved_holdout_df = holdout_df[['text',label]]\n",
    "    saved_train_df.columns = ['text','class']\n",
    "    saved_eval_df.columns = ['text', 'class']\n",
    "    #saved_holdout_df.columns = ['text', 'class']    \n",
    "    saved_train_df.to_csv('/home/manuto/Documents/world_bank/bert_twitter_labor/code/twitter/data/jun3_10Klabels/data_binary_pos_neg_unbalanced/train_{}.csv'.format(label), index=False)\n",
    "    saved_eval_df.to_csv('/home/manuto/Documents/world_bank/bert_twitter_labor/code/twitter/data/jun3_10Klabels/data_binary_pos_neg_unbalanced/val_{}.csv'.format(label),index=False)\n",
    "    #saved_holdout_df.to_csv('/home/manuto/Documents/world_bank/bert_twitter_labor/code/twitter/data/jun3_10Klabels/holdout_iter0/holdout_{}.csv'.format(label), index=False)"
   ]
  },
  {
   "cell_type": "code",
   "execution_count": 28,
   "metadata": {},
   "outputs": [
    {
     "data": {
      "text/html": [
       "<div>\n",
       "<style scoped>\n",
       "    .dataframe tbody tr th:only-of-type {\n",
       "        vertical-align: middle;\n",
       "    }\n",
       "\n",
       "    .dataframe tbody tr th {\n",
       "        vertical-align: top;\n",
       "    }\n",
       "\n",
       "    .dataframe thead th {\n",
       "        text-align: right;\n",
       "    }\n",
       "</style>\n",
       "<table border=\"1\" class=\"dataframe\">\n",
       "  <thead>\n",
       "    <tr style=\"text-align: right;\">\n",
       "      <th></th>\n",
       "      <th>text</th>\n",
       "      <th>class</th>\n",
       "    </tr>\n",
       "  </thead>\n",
       "  <tbody>\n",
       "    <tr>\n",
       "      <th>0</th>\n",
       "      <td>I'm am currently lolling for a new job in eith...</td>\n",
       "      <td>0.0</td>\n",
       "    </tr>\n",
       "    <tr>\n",
       "      <th>1</th>\n",
       "      <td>Can a NFL player who gets laid off file for Un...</td>\n",
       "      <td>0.0</td>\n",
       "    </tr>\n",
       "    <tr>\n",
       "      <th>2</th>\n",
       "      <td>My new job just called me cause they haven't h...</td>\n",
       "      <td>0.0</td>\n",
       "    </tr>\n",
       "    <tr>\n",
       "      <th>3</th>\n",
       "      <td>Unemployed? Buy An iPhone: By Reuven Gorsht, V...</td>\n",
       "      <td>0.0</td>\n",
       "    </tr>\n",
       "    <tr>\n",
       "      <th>4</th>\n",
       "      <td>I thought it was gunna get worse before it got...</td>\n",
       "      <td>1.0</td>\n",
       "    </tr>\n",
       "  </tbody>\n",
       "</table>\n",
       "</div>"
      ],
      "text/plain": [
       "                                                text  class\n",
       "0  I'm am currently lolling for a new job in eith...    0.0\n",
       "1  Can a NFL player who gets laid off file for Un...    0.0\n",
       "2  My new job just called me cause they haven't h...    0.0\n",
       "3  Unemployed? Buy An iPhone: By Reuven Gorsht, V...    0.0\n",
       "4  I thought it was gunna get worse before it got...    1.0"
      ]
     },
     "execution_count": 28,
     "metadata": {},
     "output_type": "execute_result"
    }
   ],
   "source": [
    "eval_df = pd.read_csv('/home/manuto/Documents/world_bank/bert_twitter_labor/code/twitter/data/jun3_10Klabels/data_binary_pos_neg_unbalanced/train_is_unemployed.csv', lineterminator='\\n')\n",
    "eval_df.head()"
   ]
  },
  {
   "cell_type": "code",
   "execution_count": 30,
   "metadata": {},
   "outputs": [
    {
     "data": {
      "text/html": [
       "<div>\n",
       "<style scoped>\n",
       "    .dataframe tbody tr th:only-of-type {\n",
       "        vertical-align: middle;\n",
       "    }\n",
       "\n",
       "    .dataframe tbody tr th {\n",
       "        vertical-align: top;\n",
       "    }\n",
       "\n",
       "    .dataframe thead th {\n",
       "        text-align: right;\n",
       "    }\n",
       "</style>\n",
       "<table border=\"1\" class=\"dataframe\">\n",
       "  <thead>\n",
       "    <tr style=\"text-align: right;\">\n",
       "      <th></th>\n",
       "      <th>text</th>\n",
       "      <th>class</th>\n",
       "    </tr>\n",
       "  </thead>\n",
       "  <tbody>\n",
       "    <tr>\n",
       "      <th>0</th>\n",
       "      <td>Looking to switch careers? Or just simply need...</td>\n",
       "      <td>0.0</td>\n",
       "    </tr>\n",
       "    <tr>\n",
       "      <th>1</th>\n",
       "      <td>So I was working third shift last week now I'm...</td>\n",
       "      <td>0.0</td>\n",
       "    </tr>\n",
       "    <tr>\n",
       "      <th>2</th>\n",
       "      <td>Quintiles posted a job you might be interested...</td>\n",
       "      <td>0.0</td>\n",
       "    </tr>\n",
       "    <tr>\n",
       "      <th>3</th>\n",
       "      <td>I am looking for FOUR new It Works #business p...</td>\n",
       "      <td>0.0</td>\n",
       "    </tr>\n",
       "    <tr>\n",
       "      <th>4</th>\n",
       "      <td>I quit my job yesterday and start my new job o...</td>\n",
       "      <td>1.0</td>\n",
       "    </tr>\n",
       "  </tbody>\n",
       "</table>\n",
       "</div>"
      ],
      "text/plain": [
       "                                                text  class\n",
       "0  Looking to switch careers? Or just simply need...    0.0\n",
       "1  So I was working third shift last week now I'm...    0.0\n",
       "2  Quintiles posted a job you might be interested...    0.0\n",
       "3  I am looking for FOUR new It Works #business p...    0.0\n",
       "4  I quit my job yesterday and start my new job o...    1.0"
      ]
     },
     "execution_count": 30,
     "metadata": {},
     "output_type": "execute_result"
    }
   ],
   "source": [
    "eval_df = pd.read_csv('/home/manuto/Documents/world_bank/bert_twitter_labor/code/twitter/data/jun3_10Klabels/data_binary_pos_neg_unbalanced/val_is_unemployed.csv', lineterminator='\\n')\n",
    "eval_df.head()"
   ]
  },
  {
   "cell_type": "code",
   "execution_count": 31,
   "metadata": {},
   "outputs": [
    {
     "data": {
      "text/plain": [
       "(1432, 2)"
      ]
     },
     "execution_count": 31,
     "metadata": {},
     "output_type": "execute_result"
    }
   ],
   "source": [
    "eval_df.shape"
   ]
  },
  {
   "cell_type": "code",
   "execution_count": null,
   "metadata": {},
   "outputs": [],
   "source": []
  }
 ],
 "metadata": {
  "kernelspec": {
   "display_name": "Python 3",
   "language": "python",
   "name": "python3"
  },
  "language_info": {
   "codemirror_mode": {
    "name": "ipython",
    "version": 3
   },
   "file_extension": ".py",
   "mimetype": "text/x-python",
   "name": "python",
   "nbconvert_exporter": "python",
   "pygments_lexer": "ipython3",
   "version": "3.7.4"
  }
 },
 "nbformat": 4,
 "nbformat_minor": 2
}
