{
 "cells": [
  {
   "cell_type": "code",
   "execution_count": 5,
   "metadata": {
    "code_folding": [
     0
    ],
    "scrolled": false
   },
   "outputs": [
    {
     "name": "stdout",
     "output_type": "stream",
     "text": [
      "03/20/2020 18:57:52 - INFO - transformers.tokenization_utils -   loading file https://s3.amazonaws.com/models.huggingface.co/bert/bert-base-uncased-vocab.txt from cache at /home/da2734/.cache/torch/transformers/26bc1ad6c0ac742e9b52263248f6d0f00068293b33709fae12320c0e35ccfbbb.542ce4285a40d23a559526243235df47c5f75c197f04f37d1a0c124c32c9a084\n",
      "03/20/2020 18:57:52 - INFO - root -   Loading features from cached file ../mturk_mar6/data/cache/cached_bert_train_multi_label_512_train.csv\n"
     ]
    },
    {
     "name": "stderr",
     "output_type": "stream",
     "text": [
      "/home/da2734/miniconda3/envs/worldbank/lib/python3.7/site-packages/ipykernel_launcher.py:32: FutureWarning: Passing a negative integer is deprecated in version 1.0 and will not be supported in future version. Instead, use None to not limit the column width.\n"
     ]
    },
    {
     "name": "stdout",
     "output_type": "stream",
     "text": [
      "03/20/2020 18:57:52 - INFO - root -   Loading features from cached file ../mturk_mar6/data/cache/cached_bert_dev_multi_label_512_val.csv\n",
      "num_labels 5\n",
      "03/20/2020 18:57:52 - INFO - transformers.configuration_utils -   loading configuration file ../mturk_mar6/output_100/model_out/config.json\n",
      "03/20/2020 18:57:52 - INFO - transformers.configuration_utils -   Model config {\n",
      "  \"architectures\": [\n",
      "    \"BertForMultiLabelSequenceClassification\"\n",
      "  ],\n",
      "  \"attention_probs_dropout_prob\": 0.1,\n",
      "  \"bos_token_id\": 0,\n",
      "  \"do_sample\": false,\n",
      "  \"eos_token_ids\": 0,\n",
      "  \"finetuning_task\": null,\n",
      "  \"hidden_act\": \"gelu\",\n",
      "  \"hidden_dropout_prob\": 0.1,\n",
      "  \"hidden_size\": 768,\n",
      "  \"id2label\": {\n",
      "    \"0\": \"LABEL_0\",\n",
      "    \"1\": \"LABEL_1\"\n",
      "  },\n",
      "  \"initializer_range\": 0.02,\n",
      "  \"intermediate_size\": 3072,\n",
      "  \"is_decoder\": false,\n",
      "  \"label2id\": {\n",
      "    \"LABEL_0\": 0,\n",
      "    \"LABEL_1\": 1\n",
      "  },\n",
      "  \"layer_norm_eps\": 1e-12,\n",
      "  \"length_penalty\": 1.0,\n",
      "  \"max_length\": 20,\n",
      "  \"max_position_embeddings\": 512,\n",
      "  \"model_type\": \"bert\",\n",
      "  \"num_attention_heads\": 12,\n",
      "  \"num_beams\": 1,\n",
      "  \"num_hidden_layers\": 12,\n",
      "  \"num_labels\": 5,\n",
      "  \"num_return_sequences\": 1,\n",
      "  \"output_attentions\": false,\n",
      "  \"output_hidden_states\": false,\n",
      "  \"output_past\": true,\n",
      "  \"pad_token_id\": 0,\n",
      "  \"pruned_heads\": {},\n",
      "  \"repetition_penalty\": 1.0,\n",
      "  \"temperature\": 1.0,\n",
      "  \"top_k\": 50,\n",
      "  \"top_p\": 1.0,\n",
      "  \"torchscript\": false,\n",
      "  \"type_vocab_size\": 2,\n",
      "  \"use_bfloat16\": false,\n",
      "  \"vocab_size\": 30522\n",
      "}\n",
      "\n",
      "../mturk_mar6/output_100/model_out/\n",
      "<class 'str'>\n",
      "03/20/2020 18:57:52 - INFO - transformers.modeling_utils -   loading weights file ../mturk_mar6/output_100/model_out/pytorch_model.bin\n",
      "time taken to load all this stuff: 8.446853160858154 seconds\n"
     ]
    }
   ],
   "source": [
    "#gets all this setup\n",
    "import time\n",
    "start_time = time.time()\n",
    "from transformers import BertTokenizer\n",
    "from pathlib import Path\n",
    "import torch\n",
    "\n",
    "from box import Box\n",
    "import pandas as pd\n",
    "import collections\n",
    "import os\n",
    "from tqdm import tqdm, trange\n",
    "import sys\n",
    "import random\n",
    "import numpy as np\n",
    "# import apex\n",
    "from sklearn.model_selection import train_test_split\n",
    "\n",
    "import datetime\n",
    "\n",
    "import sys\n",
    "sys.path.append('../')\n",
    "\n",
    "from fast_bert.modeling import BertForMultiLabelSequenceClassification\n",
    "from fast_bert.data_cls import BertDataBunch, InputExample, InputFeatures, MultiLabelTextProcessor, convert_examples_to_features\n",
    "from fast_bert.learner_cls import BertLearner\n",
    "# from fast_bert.metrics import accuracy_multilabel, accuracy_thresh, fbeta, roc_auc, accuracy\n",
    "from fast_bert.metrics import *\n",
    "\n",
    "torch.cuda.empty_cache()\n",
    "\n",
    "pd.set_option('display.max_colwidth', -1)\n",
    "run_start_time = datetime.datetime.today().strftime('%Y-%m-%d_%H-%M-%S')\n",
    "\n",
    "# LOG_PATH=Path('/scratch/da2734/twitter/sana/log/')\n",
    "# DATA_PATH=Path('/scratch/da2734/twitter/sana/data')\n",
    "# LABEL_PATH=Path('/scratch/da2734/twitter/sana/data/')\n",
    "# OUTPUT_PATH=Path('/scratch/da2734/twitter/sana/output/')\n",
    "LOG_PATH=Path('../mturk_mar6/log/')\n",
    "DATA_PATH=Path('../mturk_mar6/data')\n",
    "LABEL_PATH=Path('../mturk_mar6/data/')\n",
    "OUTPUT_PATH=Path('../mturk_mar6/output_100')\n",
    "FINETUNED_PATH = None\n",
    "\n",
    "args = Box({\n",
    "    \"run_text\": \"multilabel toxic comments with freezable layers\",\n",
    "    \"train_size\": -1,\n",
    "    \"val_size\": -1,\n",
    "    \"log_path\": LOG_PATH,\n",
    "    \"full_data_dir\": DATA_PATH,\n",
    "    \"data_dir\": DATA_PATH,\n",
    "    \"task_name\": \"labor_market_classification\",\n",
    "    \"no_cuda\": False,\n",
    "#     \"bert_model\": BERT_PRETRAINED_PATH,\n",
    "    \"output_dir\": OUTPUT_PATH,\n",
    "    \"max_seq_length\": 512,\n",
    "    \"do_train\": True,\n",
    "    \"do_eval\": True,\n",
    "    \"do_lower_case\": True,\n",
    "    \"train_batch_size\": 8,\n",
    "    \"eval_batch_size\": 200,\n",
    "    \"learning_rate\": 5e-5,\n",
    "    \"num_train_epochs\": 6,\n",
    "    \"warmup_proportion\": 0.0,\n",
    "    \"no_cuda\": False,\n",
    "    \"local_rank\": -1,\n",
    "    \"seed\": 42,\n",
    "    \"gradient_accumulation_steps\": 1,\n",
    "    \"optimize_on_cpu\": False,\n",
    "    \"fp16\": False,\n",
    "    \"fp16_opt_level\": \"O1\",\n",
    "    \"weight_decay\": 0.0,\n",
    "    \"adam_epsilon\": 1e-8,\n",
    "    \"max_grad_norm\": 1.0,\n",
    "    \"max_steps\": -1,\n",
    "    \"warmup_steps\": 500,\n",
    "    \"logging_steps\": 50,\n",
    "    \"eval_all_checkpoints\": True,\n",
    "    \"overwrite_output_dir\": True,\n",
    "    \"overwrite_cache\": False,\n",
    "    \"seed\": 42,\n",
    "    \"loss_scale\": 128,\n",
    "    \"task_name\": 'intent',\n",
    "    \"model_name\": 'bert-base-uncased',\n",
    "    \"model_type\": 'bert'\n",
    "})\n",
    "\n",
    "import logging\n",
    "\n",
    "logfile = str(LOG_PATH/'log-{}-{}.txt'.format(run_start_time, args[\"run_text\"]))\n",
    "\n",
    "logging.basicConfig(\n",
    "    level=logging.INFO,\n",
    "    format='%(asctime)s - %(levelname)s - %(name)s -   %(message)s',\n",
    "    datefmt='%m/%d/%Y %H:%M:%S',\n",
    "    handlers=[\n",
    "        logging.FileHandler(logfile),\n",
    "        logging.StreamHandler(sys.stdout)\n",
    "    ])\n",
    "\n",
    "logger = logging.getLogger()\n",
    "\n",
    "# logger.info(args)\n",
    "\n",
    "device = torch.device('cuda')\n",
    "if torch.cuda.device_count() > 1:\n",
    "    args.multi_gpu = True\n",
    "else:\n",
    "    args.multi_gpu = False\n",
    "\n",
    "label_cols = [\"job_loss\",\"is_unemployed\",\"job_search\",\"is_hired\",\"job_offer\"]\n",
    "\n",
    "# databunch defined here https://github.com/kaushaltrivedi/fast-bert/blob/master/fast_bert/data_cls.py\n",
    "databunch = BertDataBunch(\n",
    "                        args['data_dir'], \n",
    "                        LABEL_PATH, \n",
    "                        args.model_name, \n",
    "                        train_file='train.csv', \n",
    "                        val_file='val.csv',\n",
    "                        # test_data='test.csv',\n",
    "                        text_col=\"text\", #this is the name of the column in the train file that containts the tweet text\n",
    "                        label_col=label_cols,\n",
    "                        batch_size_per_gpu=args['train_batch_size'], \n",
    "                        max_seq_length=args['max_seq_length'], \n",
    "                        multi_gpu=args.multi_gpu, \n",
    "                        multi_label=True, \n",
    "                        model_type=args.model_type)\n",
    "\n",
    "num_labels = len(databunch.labels)\n",
    "print('num_labels', num_labels)\n",
    "\n",
    "# print('__Python VERSION:', sys.version)\n",
    "# print('__pyTorch VERSION:', torch.__version__)\n",
    "# print('__CUDA VERSION')\n",
    "# print('__CUDNN VERSION:', torch.backends.cudnn.version())\n",
    "# print('__Number CUDA Devices:', torch.cuda.device_count())\n",
    "# print('__Devices')\n",
    "# print('Active CUDA Device: GPU', torch.cuda.current_device())\n",
    "\n",
    "# print ('Available devices ', torch.cuda.device_count())\n",
    "# print ('Current cuda device ', torch.cuda.current_device)\n",
    "\n",
    "# metrics defined: https://github.com/kaushaltrivedi/fast-bert/blob/d89e2aa01d948d6d3cdea7ad106bf5792fea7dfa/fast_bert/metrics.py\n",
    "metrics = []\n",
    "metrics.append({'name': 'accuracy_thresh', 'function': accuracy_thresh})\n",
    "metrics.append({'name': 'roc_auc', 'function': roc_auc})\n",
    "metrics.append({'name': 'roc_auc_save_to_plot', 'function': roc_auc_save_to_plot})\n",
    "metrics.append({'name': 'fbeta', 'function': fbeta})\n",
    "metrics.append({'name': 'accuracy', 'function': accuracy})\n",
    "metrics.append({'name': 'accuracy_multilabel', 'function': accuracy_multilabel})\n",
    "\n",
    "\n",
    "learner = BertLearner.from_pretrained_model(\n",
    "                                            databunch, \n",
    "                                            pretrained_path='../mturk_mar6/output_100/model_out/', \n",
    "                                            metrics=metrics, \n",
    "                                            device=device, \n",
    "                                            logger=logger, \n",
    "                                            output_dir=args.output_dir, \n",
    "                                            finetuned_wgts_path=FINETUNED_PATH, \n",
    "                                            warmup_steps=args.warmup_steps,\n",
    "                                            multi_gpu=args.multi_gpu, \n",
    "                                            is_fp16=args.fp16, \n",
    "                                            multi_label=True, \n",
    "                                            logging_steps=0)\n",
    "\n",
    "print('time taken to load all this stuff:', str(time.time() - start_time), 'seconds')\n",
    "\n"
   ]
  },
  {
   "cell_type": "code",
   "execution_count": 2,
   "metadata": {
    "collapsed": true,
    "scrolled": true
   },
   "outputs": [],
   "source": [
    "# from fast_bert.metrics import *\n",
    "# learner.validate()"
   ]
  },
  {
   "cell_type": "code",
   "execution_count": 12,
   "metadata": {},
   "outputs": [
    {
     "name": "stdout",
     "output_type": "stream",
     "text": [
      "(737, 7)\n",
      "737\n",
      "03/20/2020 19:06:18 - INFO - root -   Writing example 0 of 737\n"
     ]
    }
   ],
   "source": [
    "val = pd.read_csv('../mturk_mar6/data/val.csv')\n",
    "print(val.shape)\n",
    "# start_time = time.time()\n",
    "texts = val['text'].values.tolist()\n",
    "print(len(texts))\n",
    "# print('time taken:', str(time.time() - start_time), 'seconds')\n",
    "predictions = learner.predict_batch(texts)\n",
    "# predictions.head()\n",
    "# predictions_df = pd.DataFrame(predictions)\n"
   ]
  },
  {
   "cell_type": "code",
   "execution_count": 16,
   "metadata": {
    "collapsed": true
   },
   "outputs": [],
   "source": [
    "prediction_df = pd.DataFrame(\n",
    "[dict(prediction) for prediction in predictions],\n",
    "index=val.id).rename(columns={\n",
    "'is_unemployed':'is_unemployed_model',\n",
    "'job_search':'job_search_model',\n",
    "'is_hired_1mo':'is_hired_1mo_model',\n",
    "'lost_job_1mo':'lost_job_1mo_model',\n",
    "'job_offer\"':'job_offer_model',\n",
    "})\n",
    "\n",
    "# prediction_df"
   ]
  },
  {
   "cell_type": "code",
   "execution_count": 17,
   "metadata": {
    "collapsed": true
   },
   "outputs": [],
   "source": [
    "merged = prediction_df.merge(val, on='id')\n",
    "# merged"
   ]
  },
  {
   "cell_type": "code",
   "execution_count": 18,
   "metadata": {},
   "outputs": [
    {
     "name": "stdout",
     "output_type": "stream",
     "text": [
      "is_unemployed filtered time taken: 351.9320418834686 seconds\n",
      "03/20/2020 19:06:41 - WARNING - matplotlib.legend -   No handles with labels found to put in legend.\n",
      "lost_job_1mo filtered time taken: 352.35536766052246 seconds\n",
      "03/20/2020 19:06:42 - WARNING - matplotlib.legend -   No handles with labels found to put in legend.\n",
      "job_search filtered time taken: 352.7885615825653 seconds\n",
      "03/20/2020 19:06:42 - WARNING - matplotlib.legend -   No handles with labels found to put in legend.\n",
      "is_hired_1mo filtered time taken: 353.206303358078 seconds\n",
      "03/20/2020 19:06:42 - WARNING - matplotlib.legend -   No handles with labels found to put in legend.\n",
      "job_offer filtered time taken: 353.6353874206543 seconds\n",
      "03/20/2020 19:06:43 - WARNING - matplotlib.legend -   No handles with labels found to put in legend.\n"
     ]
    },
    {
     "data": {
      "image/png": "[encoded data removed]",
      "text/plain": [
       "<Figure size 432x288 with 1 Axes>"
      ]
     },
     "metadata": {
      "needs_background": "light"
     },
     "output_type": "display_data"
    },
    {
     "data": {
      "image/png": "[encoded data removed]",
      "text/plain": [
       "<Figure size 432x288 with 1 Axes>"
      ]
     },
     "metadata": {
      "needs_background": "light"
     },
     "output_type": "display_data"
    },
    {
     "data": {
      "image/png": "[encoded data removed]",
      "text/plain": [
       "<Figure size 432x288 with 1 Axes>"
      ]
     },
     "metadata": {
      "needs_background": "light"
     },
     "output_type": "display_data"
    },
    {
     "data": {
      "image/png": "[encoded data removed]",
      "text/plain": [
       "<Figure size 432x288 with 1 Axes>"
      ]
     },
     "metadata": {
      "needs_background": "light"
     },
     "output_type": "display_data"
    },
    {
     "data": {
      "image/png": "[encoded data removed]",
      "text/plain": [
       "<Figure size 432x288 with 1 Axes>"
      ]
     },
     "metadata": {
      "needs_background": "light"
     },
     "output_type": "display_data"
    }
   ],
   "source": [
    "import matplotlib.pyplot as plt\n",
    "columns = ['is_unemployed', 'lost_job_1mo', 'job_search',\n",
    "       'is_hired_1mo', 'job_offer']\n",
    "for column in columns:\n",
    "#     start_time = time.time()\n",
    "#     all_filtered_boundary = merged_filtered.loc[(merged_filtered[column] >= threshold - boundary_width) &\n",
    "#                                                 (merged_filtered[column] <= threshold + boundary_width)]\n",
    "#     all_filtered_boundary.to_csv('../mturk_mar6/boundary/filtered_{}.csv'.format(column))\n",
    "    # print(all_filtered_boundary['text'])\n",
    "    print(column, 'filtered time taken:', str(time.time() - start_time), 'seconds')\n",
    "\n",
    "#     start_time = time.time()\n",
    "    fig = plt.figure()\n",
    "    ax = plt.subplot(111)\n",
    "    plt.hist(merged[column], bins=20, density = True, color = 'green', alpha = 0.2)\n",
    "    plt.hist(merged[column+'_model'], bins=20, density = True, color = 'red', alpha = 0.2)\n",
    "    ax.set_yscale('log')\n",
    "\n",
    "    # plt..yscale(value)\n",
    "    plt.title(column)\n",
    "    ax.legend()\n",
    "    #plt.show()\n",
    "    plt.savefig('../mturk_mar6/boundary_debug/val_{}.png'.format(column))\n",
    "\n",
    "#     print(column, 'plot filtered time taken:', str(time.time() - start_time), 'seconds')"
   ]
  },
  {
   "cell_type": "code",
   "execution_count": 8,
   "metadata": {},
   "outputs": [
    {
     "name": "stdout",
     "output_type": "stream",
     "text": [
      "(2948, 7)\n",
      "2948\n",
      "03/20/2020 19:00:49 - INFO - root -   Writing example 0 of 2948\n",
      "time taken: 35.383573055267334 seconds\n",
      "    is_unemployed_model  lost_job_1mo_model  is_hired_1mo_model  \\\n",
      "id                                                                \n",
      "0   0.690737             0.494194            0.256262             \n",
      "1   0.610261             0.429157            0.204824             \n",
      "2   0.651600             0.435135            0.225976             \n",
      "3   0.262028             0.172028            0.082052             \n",
      "4   0.598824             0.580993            0.369377             \n",
      "\n",
      "    job_search_model  job_offer_model  \n",
      "id                                     \n",
      "0   0.246235          0.040954         \n",
      "1   0.249051          0.038123         \n",
      "2   0.228218          0.036969         \n",
      "3   0.101327          0.018532         \n",
      "4   0.281013          0.051514         \n"
     ]
    }
   ],
   "source": [
    "import pandas as pd\n",
    "train = pd.read_csv('../mturk_mar6/data/train.csv', sep=',', lineterminator='\\n')\n",
    "print(train.shape)\n",
    "# start_time = time.time()\n",
    "texts = train['text'].values.tolist()\n",
    "print(len(texts))\n",
    "\n",
    "import time\n",
    "start_time = time.time()\n",
    "predictions = learner.predict_batch(texts)\n",
    "print('time taken:', str(time.time() - start_time), 'seconds')\n",
    "\n",
    "# predictions.head()\n",
    "# predictions_df = pd.DataFrame(predictions)\n",
    "\n",
    "prediction_df = pd.DataFrame(\n",
    "[dict(prediction) for prediction in predictions],\n",
    "index=train.id).rename(columns={\n",
    "'is_unemployed':'is_unemployed_model',\n",
    "'job_search':'job_search_model',\n",
    "'is_hired_1mo':'is_hired_1mo_model',\n",
    "'lost_job_1mo':'lost_job_1mo_model',\n",
    "'job_offer\"':'job_offer_model',\n",
    "})\n",
    "\n",
    "print(prediction_df.head())\n",
    "\n",
    "merged = prediction_df.merge(train, on='id')\n"
   ]
  },
  {
   "cell_type": "code",
   "execution_count": 19,
   "metadata": {
    "scrolled": false
   },
   "outputs": [
    {
     "name": "stdout",
     "output_type": "stream",
     "text": [
      "is_unemployed filtered time taken: 2227.143659591675 seconds\n",
      "03/20/2020 19:37:56 - WARNING - matplotlib.legend -   No handles with labels found to put in legend.\n",
      "lost_job_1mo filtered time taken: 2227.192047357559 seconds\n",
      "03/20/2020 19:37:56 - WARNING - matplotlib.legend -   No handles with labels found to put in legend.\n",
      "job_search filtered time taken: 2227.2286310195923 seconds\n",
      "03/20/2020 19:37:56 - WARNING - matplotlib.legend -   No handles with labels found to put in legend.\n",
      "is_hired_1mo filtered time taken: 2227.2633378505707 seconds\n",
      "03/20/2020 19:37:56 - WARNING - matplotlib.legend -   No handles with labels found to put in legend.\n",
      "job_offer filtered time taken: 2227.2993264198303 seconds\n",
      "03/20/2020 19:37:56 - WARNING - matplotlib.legend -   No handles with labels found to put in legend.\n"
     ]
    },
    {
     "data": {
      "image/png": "[encoded data removed]",
      "text/plain": [
       "<Figure size 432x288 with 1 Axes>"
      ]
     },
     "metadata": {
      "needs_background": "light"
     },
     "output_type": "display_data"
    },
    {
     "data": {
      "image/png": "[encoded data removed]",
      "text/plain": [
       "<Figure size 432x288 with 1 Axes>"
      ]
     },
     "metadata": {
      "needs_background": "light"
     },
     "output_type": "display_data"
    },
    {
     "data": {
      "image/png": "[encoded data removed]",
      "text/plain": [
       "<Figure size 432x288 with 1 Axes>"
      ]
     },
     "metadata": {
      "needs_background": "light"
     },
     "output_type": "display_data"
    },
    {
     "data": {
      "image/png": "[encoded data removed]",
      "text/plain": [
       "<Figure size 432x288 with 1 Axes>"
      ]
     },
     "metadata": {
      "needs_background": "light"
     },
     "output_type": "display_data"
    },
    {
     "data": {
      "image/png": "[encoded data removed]",
      "text/plain": [
       "<Figure size 432x288 with 1 Axes>"
      ]
     },
     "metadata": {
      "needs_background": "light"
     },
     "output_type": "display_data"
    }
   ],
   "source": [
    "import matplotlib.pyplot as plt\n",
    "columns = ['is_unemployed', 'lost_job_1mo', 'job_search',\n",
    "       'is_hired_1mo', 'job_offer']\n",
    "for column in columns:\n",
    "#     start_time = time.time()\n",
    "#     all_filtered_boundary = merged_filtered.loc[(merged_filtered[column] >= threshold - boundary_width) &\n",
    "#                                                 (merged_filtered[column] <= threshold + boundary_width)]\n",
    "#     all_filtered_boundary.to_csv('../mturk_mar6/boundary/filtered_{}.csv'.format(column))\n",
    "    # print(all_filtered_boundary['text'])\n",
    "    print(column, 'filtered time taken:', str(time.time() - start_time), 'seconds')\n",
    "\n",
    "#     start_time = time.time()\n",
    "    fig = plt.figure()\n",
    "    ax = plt.subplot(111)\n",
    "    plt.hist(merged[column], bins=20, density = True, color = 'green', alpha = 0.2)\n",
    "    plt.hist(merged[column+'_model'], bins=20, density = True, color = 'red', alpha = 0.2)\n",
    "#     ax.set_yscale('log')\n",
    "\n",
    "    # plt..yscale(value)\n",
    "    plt.title(column)\n",
    "    ax.legend()\n",
    "    #plt.show()\n",
    "#     plt.savefig('../mturk_mar6/boundary_debug/train_{}.png'.format(column))\n",
    "\n",
    "#     print(column, 'plot filtered time taken:', str(time.time() - start_time), 'seconds')"
   ]
  }
 ],
 "metadata": {
  "kernelspec": {
   "display_name": "Python 3",
   "language": "python",
   "name": "python3"
  },
  "language_info": {
   "codemirror_mode": {
    "name": "ipython",
    "version": 3
   },
   "file_extension": ".py",
   "mimetype": "text/x-python",
   "name": "python",
   "nbconvert_exporter": "python",
   "pygments_lexer": "ipython3",
   "version": "3.7.4"
  }
 },
 "nbformat": 4,
 "nbformat_minor": 2
}
