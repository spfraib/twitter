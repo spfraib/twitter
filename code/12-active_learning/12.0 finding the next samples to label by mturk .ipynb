{
 "cells": [
  {
   "cell_type": "markdown",
   "metadata": {},
   "source": [
    "## make sure you have all libraries installed. \n",
    "use conda environment: /scratch/da2734/twitter/worldbank_twitter_environment.yml"
   ]
  },
  {
   "cell_type": "markdown",
   "metadata": {},
   "source": [
    "# loading random and filtered samples"
   ]
  },
  {
   "cell_type": "code",
   "execution_count": 1,
   "metadata": {},
   "outputs": [
    {
     "name": "stdout",
     "output_type": "stream",
     "text": [
      "time taken to load keyword filtered sample: 46.96626591682434 seconds\n",
      "(9215824, 11)\n"
     ]
    }
   ],
   "source": [
    "# filtered contains 0.8G of data!!\n",
    "import time\n",
    "start_time = time.time()\n",
    "import pyarrow.parquet as pq\n",
    "from glob import glob\n",
    "import os\n",
    "country_code = 'US'\n",
    "month = '2012-1'\n",
    "path_to_data = '/scratch/spf248/twitter/data/classification/US/filtered_10perct_sample//'\n",
    "tweets_filtered=pq.ParquetDataset(glob(os.path.join(path_to_data,                                           \n",
    "#                                            country_code,\n",
    "#                                            month,\n",
    "                                           '*.parquet'))).read().to_pandas()\n",
    "tweets_filtered['tweet_id'] = tweets_filtered['tweet_id'].astype(int)\n",
    "print('time taken to load keyword filtered sample:', str(time.time() - start_time), 'seconds')\n",
    "print(tweets_filtered.shape)"
   ]
  },
  {
   "cell_type": "code",
   "execution_count": 2,
   "metadata": {},
   "outputs": [
    {
     "name": "stdout",
     "output_type": "stream",
     "text": [
      "time taken to load random sample: 31.48525094985962 seconds\n",
      "(9468992, 11)\n"
     ]
    }
   ],
   "source": [
    "# random contains 0.8G of data!!\n",
    "import time\n",
    "start_time = time.time()\n",
    "import pyarrow.parquet as pq\n",
    "from glob import glob\n",
    "import os\n",
    "country_code = 'US'\n",
    "month = '2012-1'\n",
    "path_to_data = '/scratch/spf248/twitter/data/classification/US/random_10perct_sample/'\n",
    "tweets_random=pq.ParquetDataset(glob(os.path.join(path_to_data,                                           \n",
    "#                                            country_code,\n",
    "#                                            month,\n",
    "                                           '*.parquet'))).read().to_pandas()\n",
    "tweets_random['tweet_id'] = tweets_random['tweet_id'].astype(int)\n",
    "print('time taken to load random sample:', str(time.time() - start_time), 'seconds')\n",
    "print(tweets_random.shape)"
   ]
  },
  {
   "cell_type": "code",
   "execution_count": 11,
   "metadata": {
    "code_folding": [],
    "scrolled": false
   },
   "outputs": [
    {
     "name": "stdout",
     "output_type": "stream",
     "text": [
      "is_unemployed\n",
      "time taken to load filtered sample: 3.1735503673553467 seconds (9215824, 3)\n",
      "time taken to load random sample: 3.0406391620635986 seconds (9468992, 3)\n",
      "time taken to merge: 7.715102434158325 seconds (9215824, 13)\n",
      "time taken to merge: 7.726757526397705 seconds (9215824, 13)\n",
      "time taken to dump: 10.60324215888977 seconds\n",
      "is_unemployed\n",
      "is_unemployed\n",
      "filtered          neg_model  pos_model  \\\n",
      "5957351   0.050018   0.949982   \n",
      "7417734   0.050064   0.949936   \n",
      "1022274   0.050186   0.949814   \n",
      "7432444   0.050309   0.949691   \n",
      "4381332   0.050383   0.949617   \n",
      "\n",
      "                                                      text  \n",
      "5957351  People I went to high school with are getting ...  \n",
      "7417734  I'm officially unemployed. Lol what do i do no...  \n",
      "1022274  Being sick sucks... But hopefully by Thursday ...  \n",
      "7432444  BROWN RECLUSE IN THE BATHROOM AT WORK LET'S JU...  \n",
      "4381332     I'm unemployed after May 7th, Who wants me lol  \n",
      "time taken to save csv: 4.245320081710815 seconds\n",
      "is_unemployed\n",
      "random          neg_model  pos_model  \\\n",
      "7193448   0.049780   0.950220   \n",
      "4451332   0.049825   0.950175   \n",
      "526061    0.050310   0.949690   \n",
      "8085225   0.050315   0.949685   \n",
      "1619846   0.050459   0.949541   \n",
      "\n",
      "                                                      text  \n",
      "7193448                     Haha I'm indefinitely laid off  \n",
      "4451332  BROWN RECLUSE IN THE BATHROOM AT WORK LETS JUS...  \n",
      "526061   Buddy used to love me but now I'm an abused wife.  \n",
      "8085225  I'm paying rent they really expect me to go ho...  \n",
      "1619846  Fatemas mom texted me to tell me I'm ugly ... ...  \n",
      "time taken to save csv: 4.5869927406311035 seconds\n",
      "lost_job_1mo\n",
      "time taken to load filtered sample: 3.010563373565674 seconds (9215824, 3)\n",
      "time taken to load random sample: 3.016439914703369 seconds (9468992, 3)\n",
      "time taken to merge: 7.69608998298645 seconds (9215824, 13)\n",
      "time taken to merge: 7.840307235717773 seconds (9215824, 13)\n",
      "time taken to dump: 10.45723009109497 seconds\n",
      "lost_job_1mo\n",
      "lost_job_1mo\n",
      "filtered          neg_model  pos_model  \\\n",
      "2412751   0.032083   0.967917   \n",
      "254766    0.032953   0.967047   \n",
      "630889    0.033135   0.966865   \n",
      "6513608   0.033193   0.966807   \n",
      "1587100   0.033667   0.966333   \n",
      "\n",
      "                                                      text  \n",
      "2412751  I got broke up with while at work once. I just...  \n",
      "254766   Just got bitched out for giving a two weeks no...  \n",
      "630889                                   I just quit today  \n",
      "6513608        Just smashed my finger at work. Fuck today.  \n",
      "1587100  forgot to mention today was the last day at wo...  \n",
      "time taken to save csv: 4.303226947784424 seconds\n",
      "lost_job_1mo\n",
      "random          neg_model  pos_model  \\\n",
      "1175656   0.033700   0.966300   \n",
      "7198132   0.033712   0.966288   \n",
      "6892941   0.034077   0.965923   \n",
      "2551300   0.034102   0.965898   \n",
      "2549990   0.034460   0.965540   \n",
      "\n",
      "                                                      text  \n",
      "1175656        I got cut off last night for no reason 😔😔😔😔  \n",
      "7198132  I got this candy and been over doin it lately....  \n",
      "6892941  really lost my fucking phone last night on som...  \n",
      "2551300  Pretty pissed I barely went fishing this summe...  \n",
      "2549990                  I just got dumped dude. Like idek  \n",
      "time taken to save csv: 4.45397686958313 seconds\n",
      "job_search\n",
      "time taken to load filtered sample: 3.0179967880249023 seconds (9215824, 3)\n",
      "time taken to load random sample: 3.0204861164093018 seconds (9468992, 3)\n",
      "time taken to merge: 7.79475474357605 seconds (9215824, 13)\n",
      "time taken to merge: 7.9507737159729 seconds (9215824, 13)\n",
      "time taken to dump: 10.206050157546997 seconds\n",
      "job_search\n",
      "job_search\n",
      "filtered          neg_model  pos_model  \\\n",
      "7042623   0.020523   0.979477   \n",
      "6394969   0.020832   0.979168   \n",
      "4658463   0.020903   0.979097   \n",
      "6043733   0.021144   0.978856   \n",
      "8506987   0.021156   0.978844   \n",
      "\n",
      "                                                      text  \n",
      "7042623  I'm not getting any hours at my current job. A...  \n",
      "6394969                    I need a second job who hiring?  \n",
      "4658463  I need a better job. Anyone know of places tha...  \n",
      "6043733                    I need another job, who hiring?  \n",
      "8506987      I need another job, anyone know of anything??  \n",
      "time taken to save csv: 4.199177980422974 seconds\n",
      "job_search\n",
      "random          neg_model  pos_model  \\\n",
      "2195629   0.021399   0.978601   \n",
      "4417204   0.022062   0.977938   \n",
      "4371169   0.022197   0.977803   \n",
      "2828092   0.022213   0.977787   \n",
      "5599152   0.022239   0.977761   \n",
      "\n",
      "                                                      text  \n",
      "2195629      Does anyone know a good place that is hiring?  \n",
      "4417204           anybody know any places that are hiring?  \n",
      "4371169         Does anyone know somehwere that is hiring?  \n",
      "2828092                  Anyone know a place thats hiring?  \n",
      "5599152  I miss having a job, does anyone know any rest...  \n",
      "time taken to save csv: 4.420762538909912 seconds\n",
      "is_hired_1mo\n",
      "time taken to load filtered sample: 15.753835678100586 seconds (9215824, 3)\n",
      "time taken to load random sample: 14.393177032470703 seconds (9468992, 3)\n",
      "time taken to merge: 7.833760499954224 seconds (9215824, 13)\n",
      "time taken to merge: 7.712017297744751 seconds (9215824, 13)\n",
      "time taken to dump: 10.107092142105103 seconds\n",
      "is_hired_1mo\n",
      "is_hired_1mo\n",
      "filtered          neg_model  pos_model  \\\n",
      "2494522   0.027621   0.972379   \n",
      "2252196   0.027719   0.972281   \n",
      "5546276   0.027742   0.972258   \n",
      "6420393   0.027745   0.972255   \n",
      "5789744   0.027852   0.972148   \n",
      "\n",
      "                                                      text  \n",
      "2494522  starting my job Monday, found out its not just...  \n",
      "2252196  Jus finished all this paperwork for this new j...  \n",
      "5546276  Bittersweet shift... losing my favorite manage...  \n",
      "6420393  Was late to my job interview (weather) got off...  \n",
      "5789744  Walk in my interview at 8 nd was hired at 803 ...  \n",
      "time taken to save csv: 4.222322463989258 seconds\n",
      "is_hired_1mo\n",
      "random          neg_model  pos_model  \\\n",
      "2680450   0.027930   0.972070   \n",
      "3200558   0.028463   0.971537   \n",
      "5063997   0.028726   0.971274   \n",
      "856004    0.028785   0.971215   \n",
      "5145477   0.029070   0.970930   \n",
      "\n",
      "                                                      text  \n",
      "2680450  I was so adult today. Got my new car registere...  \n",
      "3200558  Been reaping the benefits of being a salaried ...  \n",
      "5063997  So I picked up a shift tomorrow cause this tow...  \n",
      "856004   THIS IS MY #September11 #9/11 STORY On Septemb...  \n",
      "5145477  was supposed to start training as a bartender ...  \n",
      "time taken to save csv: 4.566498279571533 seconds\n",
      "job_offer\n",
      "time taken to load filtered sample: 12.531363248825073 seconds (9215824, 3)\n",
      "time taken to load random sample: 11.920775651931763 seconds (9468992, 3)\n",
      "time taken to merge: 7.551880121231079 seconds (9215824, 13)\n",
      "time taken to merge: 7.760059356689453 seconds (9215824, 13)\n",
      "time taken to dump: 10.420775413513184 seconds\n",
      "job_offer\n",
      "job_offer\n",
      "filtered          neg_model  pos_model  \\\n",
      "3058504   0.001706   0.998294   \n",
      "9023997   0.001707   0.998293   \n",
      "7756170   0.001708   0.998292   \n",
      "1244793   0.001711   0.998289   \n",
      "1710001   0.001711   0.998289   \n",
      "\n",
      "                                                      text  \n",
      "3058504  Looking for a #Senior #Manager - Finance - Str...  \n",
      "9023997  Looking for a #Senior #Associate, Financial So...  \n",
      "7756170  Looking for a #Security #Officer/SwingShift/Fu...  \n",
      "1244793  Looking for a #Senior #Field Engineer; Protect...  \n",
      "1710001  Looking for a #Marketing #Assistant - Marketin...  \n",
      "time taken to save csv: 4.197640895843506 seconds\n",
      "job_offer\n",
      "random          neg_model  pos_model  \\\n",
      "248826    0.001732   0.998268   \n",
      "2065562   0.001736   0.998264   \n",
      "8274479   0.001740   0.998259   \n",
      "4118394   0.001741   0.998259   \n",
      "6732867   0.001744   0.998256   \n",
      "\n",
      "                                                      text  \n",
      "248826   Looking for a #Intern: #Product Marketing Mana...  \n",
      "2065562  Want to develop #socialmedia campaign skills? ...  \n",
      "8274479  Organized? Dependable? Wiz w/numbers? Apply fo...  \n",
      "4118394  RT @TheSocialQuant: #Periscope #Marketing: The...  \n",
      "6732867  #Community &gt;&gt; Does Your Workforce Feel T...  \n",
      "time taken to save csv: 4.36971378326416 seconds\n"
     ]
    },
    {
     "data": {
      "image/png": "[encoded data removed]",
      "text/plain": [
       "<Figure size 432x288 with 1 Axes>"
      ]
     },
     "metadata": {
      "needs_background": "light"
     },
     "output_type": "display_data"
    },
    {
     "data": {
      "image/png": "[encoded data removed]",
      "text/plain": [
       "<Figure size 432x288 with 1 Axes>"
      ]
     },
     "metadata": {
      "needs_background": "light"
     },
     "output_type": "display_data"
    },
    {
     "data": {
      "image/png": "[encoded data removed]",
      "text/plain": [
       "<Figure size 432x288 with 1 Axes>"
      ]
     },
     "metadata": {
      "needs_background": "light"
     },
     "output_type": "display_data"
    },
    {
     "data": {
      "image/png": "[encoded data removed]",
      "text/plain": [
       "<Figure size 432x288 with 1 Axes>"
      ]
     },
     "metadata": {
      "needs_background": "light"
     },
     "output_type": "display_data"
    },
    {
     "data": {
      "image/png": "[encoded data removed]",
      "text/plain": [
       "<Figure size 432x288 with 1 Axes>"
      ]
     },
     "metadata": {
      "needs_background": "light"
     },
     "output_type": "display_data"
    },
    {
     "data": {
      "image/png": "[encoded data removed]",
      "text/plain": [
       "<Figure size 432x288 with 1 Axes>"
      ]
     },
     "metadata": {
      "needs_background": "light"
     },
     "output_type": "display_data"
    },
    {
     "data": {
      "image/png": "[encoded data removed]",
      "text/plain": [
       "<Figure size 432x288 with 1 Axes>"
      ]
     },
     "metadata": {
      "needs_background": "light"
     },
     "output_type": "display_data"
    },
    {
     "data": {
      "image/png": "[encoded data removed]",
      "text/plain": [
       "<Figure size 432x288 with 1 Axes>"
      ]
     },
     "metadata": {
      "needs_background": "light"
     },
     "output_type": "display_data"
    },
    {
     "data": {
      "image/png": "[encoded data removed]",
      "text/plain": [
       "<Figure size 432x288 with 1 Axes>"
      ]
     },
     "metadata": {
      "needs_background": "light"
     },
     "output_type": "display_data"
    },
    {
     "data": {
      "image/png": "[encoded data removed]",
      "text/plain": [
       "<Figure size 432x288 with 1 Axes>"
      ]
     },
     "metadata": {
      "needs_background": "light"
     },
     "output_type": "display_data"
    }
   ],
   "source": [
    "# all in one loop\n",
    "import glob\n",
    "import pandas as pd\n",
    "import time\n",
    "import pickle\n",
    "import matplotlib.pyplot as plt\n",
    "\n",
    "boundary = 0.725\n",
    "\n",
    "for column in [\"is_unemployed\", \"lost_job_1mo\", \"job_search\", \"is_hired_1mo\", \"job_offer\"]:\n",
    "    print(column)\n",
    "    start_time = time.time()\n",
    "    model_output_path = '/scratch/da2734/twitter/jobs/running_on_200Msamples/pred_output_10pct_sample/{}/'.format(column)\n",
    "    model_output_filtered = pd.concat([pd.read_csv(f) for f in glob.glob(model_output_path+'filtered*.csv')], ignore_index = True)\n",
    "    print('time taken to load filtered sample:', str(time.time() - start_time), 'seconds', model_output_filtered.shape)\n",
    "\n",
    "\n",
    "    start_time = time.time()\n",
    "    model_output_random = pd.concat([pd.read_csv(f) for f in glob.glob(model_output_path+'random*.csv')], ignore_index = True)\n",
    "    print('time taken to load random sample:', str(time.time() - start_time), 'seconds', model_output_random.shape)\n",
    "\n",
    "\n",
    "    start_time = time.time()\n",
    "    merged_filtered = pd.merge(model_output_filtered, tweets_filtered, how='inner', on = 'tweet_id')\n",
    "    print('time taken to merge:', str(time.time() - start_time), 'seconds', merged_filtered.shape)\n",
    "\n",
    "    start_time = time.time()\n",
    "    merged_random = pd.merge(model_output_random, tweets_random, how='inner', on = 'tweet_id')\n",
    "    print('time taken to merge:', str(time.time() - start_time), 'seconds', merged_filtered.shape)\n",
    "\n",
    "    start_time = time.time()\n",
    "    pickle.dump( merged_filtered, open( \"./pickles/{}_merged_filtered.pkl\".format(column), \"wb\" ) )\n",
    "    pickle.dump( merged_random, open( \"./pickles/{}_merged_random.pkl\".format(column), \"wb\" ) )\n",
    "    print('time taken to dump:', str(time.time() - start_time), 'seconds')\n",
    "\n",
    "    merged_filtered = merged_filtered[['neg_model', 'pos_model', 'text']]\n",
    "    merged_random   = merged_random[['neg_model', 'pos_model', 'text']]\n",
    "    \n",
    "    print(column)\n",
    "    fig = plt.figure()\n",
    "    ax = plt.subplot(111)\n",
    "    plt.hist(merged_filtered['pos_model'], bins=20, density = True, color = 'red', alpha = 0.2)\n",
    "    plt.title(column+' filtered')\n",
    "#     ax.set_yscale('log')\n",
    "    plt.xlim(0,1.1)\n",
    "    \n",
    "    fig = plt.figure()\n",
    "    ax = plt.subplot(111)\n",
    "    plt.hist(merged_random['pos_model'], bins=20, density = True, color = 'red', alpha = 0.2)\n",
    "    plt.title(column+' random')\n",
    "#     ax.set_yscale('log')\n",
    "    plt.xlim(0,1.1)\n",
    "    \n",
    "    print(column)\n",
    "    start_time = time.time()\n",
    "    sort_merged_filtered = merged_filtered.sort_values(by=['pos_model'], ascending=False)\n",
    "    sort_merged_filtered.head(500).to_csv('csv/filtered_{}_pos_500.csv'.format(column))\n",
    "    print('filtered', sort_merged_filtered.head())\n",
    "    \n",
    "#     sort_merged_filtered = merged_filtered.sort_values(by=['pos_model'], ascending=True)\n",
    "#     sort_merged_filtered.head(100).to_csv('csv/filtered_{}_neg_100.csv'.format(column))\n",
    "#     print(sort_merged_filtered.head())\n",
    "    print('time taken to save csv:', str(time.time() - start_time), 'seconds')\n",
    "\n",
    "    print(column)\n",
    "    start_time = time.time()\n",
    "    sort_merged_random = merged_random.sort_values(by=['pos_model'], ascending=False)\n",
    "    sort_merged_random.head(500).to_csv('csv/random_{}_pos_500.csv'.format(column))\n",
    "    print('random', sort_merged_random.head())\n",
    "    \n",
    "#     sort_merged_random = merged_random.sort_values(by=['pos_model'], ascending=True)\n",
    "#     sort_merged_random.head(100).to_csv('csv/random_{}_neg_100.csv'.format(column))\n",
    "#     print(sort_merged_random.head())\n",
    "    print('time taken to save csv:', str(time.time() - start_time), 'seconds')\n",
    "\n",
    "\n",
    "    #### boundary save \n",
    "    \n",
    "#     merged_filtered['dist_point{}'.format(boundary)] = abs(merged_filtered['pos_model'] - boundary)\n",
    "\n",
    "#     start_time = time.time()\n",
    "#     print(column, 'filtered subtraction time taken:', str(time.time() - start_time), 'seconds')\n",
    "\n",
    "#     start_time = time.time()\n",
    "#     merged_filtered = merged_filtered.sort_values(by=['dist_point{}'.format(boundary)], ascending=True)\n",
    "#     print(column, 'filtered sorting time taken:', str(time.time() - start_time), 'seconds')\n",
    "\n",
    "#     start_time = time.time()\n",
    "#     merged_filtered[:100].to_csv('csv/boundary_filtered_{}_point_{}.csv'.format(column, boundary))\n",
    "#     # print(all_filtered_boundary['text'])\n",
    "#     print(column, 'filtered write csv time taken:', str(time.time() - start_time), 'seconds')\n",
    "\n",
    "\n",
    "#     merged_random['dist_point{}'.format(boundary)] = abs(merged_random['pos_model'] - boundary)\n",
    "\n",
    "#     start_time = time.time()\n",
    "#     print(column, 'random subtraction time taken:', str(time.time() - start_time), 'seconds')\n",
    "\n",
    "#     start_time = time.time()\n",
    "#     merged_random = merged_random.sort_values(by=['dist_point{}'.format(boundary)], ascending=True)\n",
    "#     print(column, 'random sorting time taken:', str(time.time() - start_time), 'seconds')\n",
    "\n",
    "#     start_time = time.time()\n",
    "#     merged_random[:100].to_csv('csv/boundary_random_{}_point_{}.csv'.format(column, boundary))\n",
    "#     # print(all_random_boundary['text'])\n",
    "#     print(column, 'random write csv time taken:', str(time.time() - start_time), 'seconds')    \n",
    "    \n",
    "    \n",
    "#     break"
   ]
  },
  {
   "cell_type": "code",
   "execution_count": null,
   "metadata": {
    "code_folding": [
     0
    ],
    "scrolled": true
   },
   "outputs": [],
   "source": [
    "# entropy\n",
    "import glob\n",
    "import pandas as pd\n",
    "import time\n",
    "import pickle\n",
    "import matplotlib.pyplot as plt\n",
    "import numpy as np\n",
    "\n",
    "boundary = 0.5\n",
    "\n",
    "for column in [\"is_unemployed\", \"lost_job_1mo\", \"job_search\", \"is_hired_1mo\", \"job_offer\"]:\n",
    "    print(column)\n",
    "    start_time = time.time()\n",
    "    model_output_path = '/scratch/da2734/twitter/running_on_200Msamples/pred_output/{}/'.format(column)\n",
    "    model_output_filtered = pd.concat([pd.read_csv(f) for f in glob.glob(model_output_path+'filtered*.csv')], ignore_index = True)\n",
    "    print('time taken to load filtered sample:', str(time.time() - start_time), 'seconds', model_output_filtered.shape)\n",
    "\n",
    "\n",
    "    start_time = time.time()\n",
    "    model_output_random = pd.concat([pd.read_csv(f) for f in glob.glob(model_output_path+'random*.csv')], ignore_index = True)\n",
    "    print('time taken to load random sample:', str(time.time() - start_time), 'seconds', model_output_random.shape)\n",
    "\n",
    "\n",
    "    start_time = time.time()\n",
    "    merged_filtered = pd.merge(model_output_filtered, tweets_filtered, how='inner', on = 'tweet_id')\n",
    "    print('time taken to merge:', str(time.time() - start_time), 'seconds', merged_filtered.shape)\n",
    "\n",
    "    start_time = time.time()\n",
    "    merged_random = pd.merge(model_output_random, tweets_random, how='inner', on = 'tweet_id')\n",
    "    print('time taken to merge:', str(time.time() - start_time), 'seconds', merged_filtered.shape)\n",
    "\n",
    "    start_time = time.time()\n",
    "    pickle.dump( merged_filtered, open( \"./top_tweets/{}_merged_filtered.pkl\".format(column), \"wb\" ) )\n",
    "    pickle.dump( merged_random, open( \"./top_tweets/{}_merged_random.pkl\".format(column), \"wb\" ) )\n",
    "    print('time taken to dump:', str(time.time() - start_time), 'seconds')\n",
    "\n",
    "    merged_filtered = merged_filtered[['neg_model', 'pos_model', 'text']]\n",
    "    merged_random   = merged_random[['neg_model', 'pos_model', 'text']]\n",
    "    \n",
    "#     merged_random = merged_random[merged_random['pos_model'] > 0.5 ]\n",
    "\n",
    "    merged_filtered['entropy'] = - merged_filtered['pos_model']*(np.log(merged_filtered['pos_model']))\n",
    "    merged_random['entropy'] = - merged_random['pos_model']*(np.log(merged_random['pos_model']))\n",
    "    \n",
    "#     merged_filtered = merged_filtered[merged_filtered['pos_model'] > 0.5 ]\n",
    "\n",
    "    \n",
    "    print(column)\n",
    "    fig = plt.figure()\n",
    "    ax = plt.subplot(111)\n",
    "#     plt.hist(merged_filtered['pos_model'], bins=20, density = True, color = 'red', alpha = 0.2)\n",
    "    plt.hist(merged_filtered['entropy'], bins=20, density = True, color = 'red', alpha = 0.2)    \n",
    "    plt.title(column+' filtered')\n",
    "#     ax.set_yscale('log')\n",
    "#     plt.xlim(0,1.1)\n",
    "    \n",
    "    fig = plt.figure()\n",
    "    ax = plt.subplot(111)\n",
    "    plt.hist(merged_random['entropy'], bins=20, density = True, color = 'red', alpha = 0.2)\n",
    "#     plt.hist(merged_random['pos_model'], bins=20, density = True, color = 'red', alpha = 0.2)\n",
    "    plt.title(column+' random')\n",
    "#     ax.set_yscale('log')\n",
    "#     plt.xlim(0,1.1)\n",
    "    \n",
    "#     print(column)\n",
    "#     start_time = time.time()\n",
    "#     sort_merged_filtered = merged_filtered.sort_values(by=['pos_model'], ascending=False)\n",
    "#     sort_merged_filtered.head(100).to_csv('top_tweets/filtered_{}_pos_100.csv'.format(column))\n",
    "#     print(sort_merged_filtered.head())\n",
    "    \n",
    "#     sort_merged_filtered = merged_filtered.sort_values(by=['pos_model'], ascending=True)\n",
    "#     sort_merged_filtered.head(100).to_csv('top_tweets/filtered_{}_neg_100.csv'.format(column))\n",
    "#     print(sort_merged_filtered.head())\n",
    "#     print('time taken to save csv:', str(time.time() - start_time), 'seconds')\n",
    "\n",
    "#     print(column)\n",
    "#     start_time = time.time()\n",
    "#     sort_merged_random = merged_random.sort_values(by=['pos_model'], ascending=False)\n",
    "#     sort_merged_random.head(100).to_csv('top_tweets/random_{}_pos_100.csv'.format(column))\n",
    "#     print(sort_merged_random.head())\n",
    "    \n",
    "#     sort_merged_random = merged_random.sort_values(by=['pos_model'], ascending=True)\n",
    "#     sort_merged_random.head(100).to_csv('top_tweets/random_{}_neg_100.csv'.format(column))\n",
    "#     print(sort_merged_random.head())\n",
    "#     print('time taken to save csv:', str(time.time() - start_time), 'seconds')\n",
    "\n",
    "\n",
    "#     merged_filtered['dist_point5'] = abs(merged_filtered['pos_model'] - boundary)\n",
    "\n",
    "#     start_time = time.time()\n",
    "#     print(column, 'filtered subtraction time taken:', str(time.time() - start_time), 'seconds')\n",
    "\n",
    "#     start_time = time.time()\n",
    "#     merged_filtered = merged_filtered.sort_values(by=['dist_point5'], ascending=True)\n",
    "#     print(column, 'filtered sorting time taken:', str(time.time() - start_time), 'seconds')\n",
    "\n",
    "#     start_time = time.time()\n",
    "#     merged_filtered[:100].to_csv('top_tweets/filtered_{}_point5.csv'.format(column))\n",
    "#     # print(all_filtered_boundary['text'])\n",
    "#     print(column, 'filtered write csv time taken:', str(time.time() - start_time), 'seconds')\n",
    "\n",
    "\n",
    "#     merged_random['dist_point5'] = abs(merged_random['pos_model'] - boundary)\n",
    "\n",
    "#     start_time = time.time()\n",
    "#     print(column, 'random subtraction time taken:', str(time.time() - start_time), 'seconds')\n",
    "\n",
    "#     start_time = time.time()\n",
    "#     merged_random = merged_random.sort_values(by=['dist_point5'], ascending=True)\n",
    "#     print(column, 'random sorting time taken:', str(time.time() - start_time), 'seconds')\n",
    "\n",
    "#     start_time = time.time()\n",
    "#     merged_random[:100].to_csv('top_tweets/random_{}_point5.csv'.format(column))\n",
    "#     # print(all_random_boundary['text'])\n",
    "#     print(column, 'random write csv time taken:', str(time.time() - start_time), 'seconds')    \n",
    "    \n",
    "    \n",
    "#     break"
   ]
  }
 ],
 "metadata": {
  "kernelspec": {
   "display_name": "Python 3",
   "language": "python",
   "name": "python3"
  },
  "language_info": {
   "codemirror_mode": {
    "name": "ipython",
    "version": 3
   },
   "file_extension": ".py",
   "mimetype": "text/x-python",
   "name": "python",
   "nbconvert_exporter": "python",
   "pygments_lexer": "ipython3",
   "version": "3.7.4"
  }
 },
 "nbformat": 4,
 "nbformat_minor": 2
}
