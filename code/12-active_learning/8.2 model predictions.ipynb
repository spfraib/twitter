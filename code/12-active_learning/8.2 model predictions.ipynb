{
 "cells": [
  {
   "cell_type": "markdown",
   "metadata": {},
   "source": [
    "## make sure you have all libraries installed. \n",
    "use conda environment: /scratch/da2734/twitter/worldbank_twitter_environment.yml"
   ]
  },
  {
   "cell_type": "markdown",
   "metadata": {},
   "source": [
    "# loading random and filtered samples"
   ]
  },
  {
   "cell_type": "code",
   "execution_count": 1,
   "metadata": {},
   "outputs": [
    {
     "name": "stdout",
     "output_type": "stream",
     "text": [
      "time taken to load keyword filtered sample: 44.65053915977478 seconds\n",
      "(9215824, 11)\n"
     ]
    }
   ],
   "source": [
    "# filtered contains 0.8G of data!!\n",
    "import time\n",
    "start_time = time.time()\n",
    "import pyarrow.parquet as pq\n",
    "from glob import glob\n",
    "import os\n",
    "country_code = 'US'\n",
    "month = '2012-1'\n",
    "path_to_data = '/scratch/spf248/twitter/data/classification/US/filtered_10perct_sample//'\n",
    "tweets_filtered=pq.ParquetDataset(glob(os.path.join(path_to_data,                                           \n",
    "#                                            country_code,\n",
    "#                                            month,\n",
    "                                           '*.parquet'))).read().to_pandas()\n",
    "tweets_filtered['tweet_id'] = tweets_filtered['tweet_id'].astype(int)\n",
    "print('time taken to load keyword filtered sample:', str(time.time() - start_time), 'seconds')\n",
    "print(tweets_filtered.shape)"
   ]
  },
  {
   "cell_type": "code",
   "execution_count": 2,
   "metadata": {},
   "outputs": [
    {
     "name": "stdout",
     "output_type": "stream",
     "text": [
      "time taken to load random sample: 36.8915913105011 seconds\n",
      "(9468992, 11)\n"
     ]
    }
   ],
   "source": [
    "# random contains 0.8G of data!!\n",
    "import time\n",
    "start_time = time.time()\n",
    "import pyarrow.parquet as pq\n",
    "from glob import glob\n",
    "import os\n",
    "country_code = 'US'\n",
    "month = '2012-1'\n",
    "path_to_data = '/scratch/spf248/twitter/data/classification/US/random_10perct_sample/'\n",
    "tweets_random=pq.ParquetDataset(glob(os.path.join(path_to_data,                                           \n",
    "#                                            country_code,\n",
    "#                                            month,\n",
    "                                           '*.parquet'))).read().to_pandas()\n",
    "tweets_random['tweet_id'] = tweets_random['tweet_id'].astype(int)\n",
    "print('time taken to load random sample:', str(time.time() - start_time), 'seconds')\n",
    "print(tweets_random.shape)"
   ]
  },
  {
   "cell_type": "code",
   "execution_count": 4,
   "metadata": {
    "code_folding": [],
    "scrolled": false
   },
   "outputs": [
    {
     "name": "stdout",
     "output_type": "stream",
     "text": [
      "is_unemployed\n",
      "time taken to load filtered sample: 0.22882080078125 seconds (440264, 3)\n",
      "time taken to load random sample: 0.24871277809143066 seconds (504964, 3)\n",
      "time taken to merge: 5.92163348197937 seconds (440264, 13)\n",
      "time taken to merge: 5.823861598968506 seconds (440264, 13)\n",
      "time taken to dump: 0.6184859275817871 seconds\n",
      "is_unemployed filtered subtraction time taken: 1.6689300537109375e-06 seconds\n",
      "is_unemployed filtered sorting time taken: 0.12904882431030273 seconds\n",
      "is_unemployed filtered write csv time taken: 0.02643561363220215 seconds\n",
      "is_unemployed random subtraction time taken: 1.430511474609375e-06 seconds\n",
      "is_unemployed random sorting time taken: 0.18461084365844727 seconds\n",
      "is_unemployed random write csv time taken: 0.0038814544677734375 seconds\n",
      "lost_job_1mo\n",
      "time taken to load filtered sample: 1.0465576648712158 seconds (528010, 3)\n",
      "time taken to load random sample: 1.3284051418304443 seconds (589139, 3)\n",
      "time taken to merge: 5.784589052200317 seconds (528010, 13)\n",
      "time taken to merge: 6.073479175567627 seconds (528010, 13)\n",
      "time taken to dump: 0.8123741149902344 seconds\n",
      "lost_job_1mo filtered subtraction time taken: 1.6689300537109375e-06 seconds\n",
      "lost_job_1mo filtered sorting time taken: 0.18133044242858887 seconds\n",
      "lost_job_1mo filtered write csv time taken: 0.012342453002929688 seconds\n",
      "lost_job_1mo random subtraction time taken: 1.1920928955078125e-06 seconds\n",
      "lost_job_1mo random sorting time taken: 0.20817780494689941 seconds\n",
      "lost_job_1mo random write csv time taken: 0.003744363784790039 seconds\n",
      "job_search\n",
      "time taken to load filtered sample: 15.285916566848755 seconds (9215824, 3)\n",
      "time taken to load random sample: 14.60016655921936 seconds (9468992, 3)\n",
      "time taken to merge: 8.583555459976196 seconds (9215824, 13)\n",
      "time taken to merge: 8.884696006774902 seconds (9215824, 13)\n",
      "time taken to dump: 13.81517767906189 seconds\n",
      "job_search filtered subtraction time taken: 2.86102294921875e-06 seconds\n",
      "job_search filtered sorting time taken: 5.6020495891571045 seconds\n",
      "job_search filtered write csv time taken: 0.006708621978759766 seconds\n",
      "job_search random subtraction time taken: 7.62939453125e-06 seconds\n",
      "job_search random sorting time taken: 6.0642805099487305 seconds\n",
      "job_search random write csv time taken: 0.004142284393310547 seconds\n",
      "is_hired_1mo\n",
      "time taken to load filtered sample: 0.753044843673706 seconds (489583, 3)\n",
      "time taken to load random sample: 0.7916431427001953 seconds (547629, 3)\n",
      "time taken to merge: 6.1400439739227295 seconds (489583, 13)\n",
      "time taken to merge: 6.155105352401733 seconds (489583, 13)\n",
      "time taken to dump: 0.7927119731903076 seconds\n",
      "is_hired_1mo filtered subtraction time taken: 1.6689300537109375e-06 seconds\n",
      "is_hired_1mo filtered sorting time taken: 0.14670157432556152 seconds\n",
      "is_hired_1mo filtered write csv time taken: 0.004113197326660156 seconds\n",
      "is_hired_1mo random subtraction time taken: 1.430511474609375e-06 seconds\n",
      "is_hired_1mo random sorting time taken: 0.169722318649292 seconds\n",
      "is_hired_1mo random write csv time taken: 0.003965139389038086 seconds\n",
      "job_offer\n",
      "time taken to load filtered sample: 0.8559648990631104 seconds (489583, 3)\n",
      "time taken to load random sample: 0.9069595336914062 seconds (547629, 3)\n",
      "time taken to merge: 5.839850187301636 seconds (489583, 13)\n",
      "time taken to merge: 5.996952772140503 seconds (489583, 13)\n",
      "time taken to dump: 0.6007232666015625 seconds\n",
      "job_offer filtered subtraction time taken: 1.9073486328125e-06 seconds\n",
      "job_offer filtered sorting time taken: 0.17329883575439453 seconds\n",
      "job_offer filtered write csv time taken: 0.0043337345123291016 seconds\n",
      "job_offer random subtraction time taken: 1.430511474609375e-06 seconds\n",
      "job_offer random sorting time taken: 0.1473407745361328 seconds\n",
      "job_offer random write csv time taken: 0.0038444995880126953 seconds\n"
     ]
    }
   ],
   "source": [
    "# all in one loop\n",
    "import glob\n",
    "import pandas as pd\n",
    "import time\n",
    "import pickle\n",
    "import matplotlib.pyplot as plt\n",
    "\n",
    "boundary = 0.725\n",
    "\n",
    "for column in [\"is_unemployed\", \"lost_job_1mo\", \"job_search\", \"is_hired_1mo\", \"job_offer\"]:\n",
    "    print(column)\n",
    "    start_time = time.time()\n",
    "    model_output_path = '/scratch/da2734/twitter/running_on_200Msamples/pred_output/{}/'.format(column)\n",
    "    model_output_filtered = pd.concat([pd.read_csv(f) for f in glob.glob(model_output_path+'filtered*.csv')], ignore_index = True)\n",
    "    print('time taken to load filtered sample:', str(time.time() - start_time), 'seconds', model_output_filtered.shape)\n",
    "\n",
    "\n",
    "    start_time = time.time()\n",
    "    model_output_random = pd.concat([pd.read_csv(f) for f in glob.glob(model_output_path+'random*.csv')], ignore_index = True)\n",
    "    print('time taken to load random sample:', str(time.time() - start_time), 'seconds', model_output_random.shape)\n",
    "\n",
    "\n",
    "    start_time = time.time()\n",
    "    merged_filtered = pd.merge(model_output_filtered, tweets_filtered, how='inner', on = 'tweet_id')\n",
    "    print('time taken to merge:', str(time.time() - start_time), 'seconds', merged_filtered.shape)\n",
    "\n",
    "    start_time = time.time()\n",
    "    merged_random = pd.merge(model_output_random, tweets_random, how='inner', on = 'tweet_id')\n",
    "    print('time taken to merge:', str(time.time() - start_time), 'seconds', merged_filtered.shape)\n",
    "\n",
    "    start_time = time.time()\n",
    "    pickle.dump( merged_filtered, open( \"./top_tweets/{}_merged_filtered.pkl\".format(column), \"wb\" ) )\n",
    "    pickle.dump( merged_random, open( \"./top_tweets/{}_merged_random.pkl\".format(column), \"wb\" ) )\n",
    "    print('time taken to dump:', str(time.time() - start_time), 'seconds')\n",
    "\n",
    "    merged_filtered = merged_filtered[['neg_model', 'pos_model', 'text']]\n",
    "    merged_random   = merged_random[['neg_model', 'pos_model', 'text']]\n",
    "    \n",
    "#     print(column)\n",
    "#     fig = plt.figure()\n",
    "#     ax = plt.subplot(111)\n",
    "#     plt.hist(merged_filtered['pos_model'], bins=20, density = True, color = 'red', alpha = 0.2)\n",
    "#     plt.title(column+' filtered')\n",
    "# #     ax.set_yscale('log')\n",
    "#     plt.xlim(0,1.1)\n",
    "    \n",
    "#     fig = plt.figure()\n",
    "#     ax = plt.subplot(111)\n",
    "#     plt.hist(merged_random['pos_model'], bins=20, density = True, color = 'red', alpha = 0.2)\n",
    "#     plt.title(column+' random')\n",
    "# #     ax.set_yscale('log')\n",
    "#     plt.xlim(0,1.1)\n",
    "    \n",
    "#     print(column)\n",
    "#     start_time = time.time()\n",
    "#     sort_merged_filtered = merged_filtered.sort_values(by=['pos_model'], ascending=False)\n",
    "#     sort_merged_filtered.head(100).to_csv('top_tweets/filtered_{}_pos_100.csv'.format(column))\n",
    "#     print(sort_merged_filtered.head())\n",
    "    \n",
    "#     sort_merged_filtered = merged_filtered.sort_values(by=['pos_model'], ascending=True)\n",
    "#     sort_merged_filtered.head(100).to_csv('top_tweets/filtered_{}_neg_100.csv'.format(column))\n",
    "#     print(sort_merged_filtered.head())\n",
    "#     print('time taken to save csv:', str(time.time() - start_time), 'seconds')\n",
    "\n",
    "#     print(column)\n",
    "#     start_time = time.time()\n",
    "#     sort_merged_random = merged_random.sort_values(by=['pos_model'], ascending=False)\n",
    "#     sort_merged_random.head(100).to_csv('top_tweets/random_{}_pos_100.csv'.format(column))\n",
    "#     print(sort_merged_random.head())\n",
    "    \n",
    "#     sort_merged_random = merged_random.sort_values(by=['pos_model'], ascending=True)\n",
    "#     sort_merged_random.head(100).to_csv('top_tweets/random_{}_neg_100.csv'.format(column))\n",
    "#     print(sort_merged_random.head())\n",
    "#     print('time taken to save csv:', str(time.time() - start_time), 'seconds')\n",
    "\n",
    "\n",
    "    merged_filtered['dist_point{}'.format(boundary)] = abs(merged_filtered['pos_model'] - boundary)\n",
    "\n",
    "    start_time = time.time()\n",
    "    print(column, 'filtered subtraction time taken:', str(time.time() - start_time), 'seconds')\n",
    "\n",
    "    start_time = time.time()\n",
    "    merged_filtered = merged_filtered.sort_values(by=['dist_point{}'.format(boundary)], ascending=True)\n",
    "    print(column, 'filtered sorting time taken:', str(time.time() - start_time), 'seconds')\n",
    "\n",
    "    start_time = time.time()\n",
    "    merged_filtered[:100].to_csv('top_tweets/filtered_{}_point_{}.csv'.format(column, boundary))\n",
    "    # print(all_filtered_boundary['text'])\n",
    "    print(column, 'filtered write csv time taken:', str(time.time() - start_time), 'seconds')\n",
    "\n",
    "\n",
    "    merged_random['dist_point{}'.format(boundary)] = abs(merged_random['pos_model'] - boundary)\n",
    "\n",
    "    start_time = time.time()\n",
    "    print(column, 'random subtraction time taken:', str(time.time() - start_time), 'seconds')\n",
    "\n",
    "    start_time = time.time()\n",
    "    merged_random = merged_random.sort_values(by=['dist_point{}'.format(boundary)], ascending=True)\n",
    "    print(column, 'random sorting time taken:', str(time.time() - start_time), 'seconds')\n",
    "\n",
    "    start_time = time.time()\n",
    "    merged_random[:100].to_csv('top_tweets/random_{}_point_{}.csv'.format(column, boundary))\n",
    "    # print(all_random_boundary['text'])\n",
    "    print(column, 'random write csv time taken:', str(time.time() - start_time), 'seconds')    \n",
    "    \n",
    "    \n",
    "#     break"
   ]
  },
  {
   "cell_type": "code",
   "execution_count": 4,
   "metadata": {
    "scrolled": false
   },
   "outputs": [
    {
     "name": "stdout",
     "output_type": "stream",
     "text": [
      "is_unemployed\n",
      "time taken to load filtered sample: 0.1852726936340332 seconds (440264, 3)\n",
      "time taken to load random sample: 0.18742775917053223 seconds (504964, 3)\n",
      "time taken to merge: 4.930733680725098 seconds (440264, 13)\n",
      "time taken to merge: 5.073297500610352 seconds (440264, 13)\n",
      "time taken to dump: 0.43390941619873047 seconds\n",
      "is_unemployed\n",
      "lost_job_1mo\n",
      "time taken to load filtered sample: 0.1674671173095703 seconds (528010, 3)\n",
      "time taken to load random sample: 0.17806339263916016 seconds (589139, 3)\n",
      "time taken to merge: 4.840052604675293 seconds (528010, 13)\n",
      "time taken to merge: 5.218229055404663 seconds (528010, 13)\n",
      "time taken to dump: 0.521223783493042 seconds\n",
      "lost_job_1mo\n",
      "job_search\n",
      "time taken to load filtered sample: 2.8843283653259277 seconds (9215824, 3)\n",
      "time taken to load random sample: 2.9363160133361816 seconds (9468992, 3)\n",
      "time taken to merge: 7.280039310455322 seconds (9215824, 13)\n",
      "time taken to merge: 7.229210376739502 seconds (9215824, 13)\n",
      "time taken to dump: 10.454752922058105 seconds\n",
      "job_search\n",
      "is_hired_1mo\n",
      "time taken to load filtered sample: 0.15924501419067383 seconds (489583, 3)\n",
      "time taken to load random sample: 0.1682143211364746 seconds (547629, 3)\n",
      "time taken to merge: 5.124178647994995 seconds (489583, 13)\n",
      "time taken to merge: 5.219033479690552 seconds (489583, 13)\n",
      "time taken to dump: 0.4985349178314209 seconds\n",
      "is_hired_1mo\n",
      "job_offer\n",
      "time taken to load filtered sample: 0.15816903114318848 seconds (489583, 3)\n",
      "time taken to load random sample: 0.16824030876159668 seconds (547629, 3)\n",
      "time taken to merge: 4.903955698013306 seconds (489583, 13)\n",
      "time taken to merge: 5.156630754470825 seconds (489583, 13)\n",
      "time taken to dump: 0.4826669692993164 seconds\n",
      "job_offer\n"
     ]
    },
    {
     "data": {
      "image/png": "[encoded data removed]",
      "text/plain": [
       "<Figure size 432x288 with 1 Axes>"
      ]
     },
     "metadata": {
      "needs_background": "light"
     },
     "output_type": "display_data"
    },
    {
     "data": {
      "image/png": "[encoded data removed]",
      "text/plain": [
       "<Figure size 432x288 with 1 Axes>"
      ]
     },
     "metadata": {
      "needs_background": "light"
     },
     "output_type": "display_data"
    },
    {
     "data": {
      "image/png": "[encoded data removed]",
      "text/plain": [
       "<Figure size 432x288 with 1 Axes>"
      ]
     },
     "metadata": {
      "needs_background": "light"
     },
     "output_type": "display_data"
    },
    {
     "data": {
      "image/png": "[encoded data removed]",
      "text/plain": [
       "<Figure size 432x288 with 1 Axes>"
      ]
     },
     "metadata": {
      "needs_background": "light"
     },
     "output_type": "display_data"
    },
    {
     "data": {
      "image/png": "[encoded data removed]",
      "text/plain": [
       "<Figure size 432x288 with 1 Axes>"
      ]
     },
     "metadata": {
      "needs_background": "light"
     },
     "output_type": "display_data"
    },
    {
     "data": {
      "image/png": "[encoded data removed]",
      "text/plain": [
       "<Figure size 432x288 with 1 Axes>"
      ]
     },
     "metadata": {
      "needs_background": "light"
     },
     "output_type": "display_data"
    },
    {
     "data": {
      "image/png": "[encoded data removed]",
      "text/plain": [
       "<Figure size 432x288 with 1 Axes>"
      ]
     },
     "metadata": {
      "needs_background": "light"
     },
     "output_type": "display_data"
    },
    {
     "data": {
      "image/png": "[encoded data removed]",
      "text/plain": [
       "<Figure size 432x288 with 1 Axes>"
      ]
     },
     "metadata": {
      "needs_background": "light"
     },
     "output_type": "display_data"
    },
    {
     "data": {
      "image/png": "[encoded data removed]",
      "text/plain": [
       "<Figure size 432x288 with 1 Axes>"
      ]
     },
     "metadata": {
      "needs_background": "light"
     },
     "output_type": "display_data"
    },
    {
     "data": {
      "image/png": "[encoded data removed]",
      "text/plain": [
       "<Figure size 432x288 with 1 Axes>"
      ]
     },
     "metadata": {
      "needs_background": "light"
     },
     "output_type": "display_data"
    }
   ],
   "source": [
    "# all in one loop\n",
    "import glob\n",
    "import pandas as pd\n",
    "import time\n",
    "import pickle\n",
    "import matplotlib.pyplot as plt\n",
    "\n",
    "boundary = 0.5\n",
    "\n",
    "for column in [\"is_unemployed\", \"lost_job_1mo\", \"job_search\", \"is_hired_1mo\", \"job_offer\"]:\n",
    "    print(column)\n",
    "    start_time = time.time()\n",
    "    model_output_path = '/scratch/da2734/twitter/running_on_200Msamples/pred_output/{}/'.format(column)\n",
    "    model_output_filtered = pd.concat([pd.read_csv(f) for f in glob.glob(model_output_path+'filtered*.csv')], ignore_index = True)\n",
    "    print('time taken to load filtered sample:', str(time.time() - start_time), 'seconds', model_output_filtered.shape)\n",
    "\n",
    "\n",
    "    start_time = time.time()\n",
    "    model_output_random = pd.concat([pd.read_csv(f) for f in glob.glob(model_output_path+'random*.csv')], ignore_index = True)\n",
    "    print('time taken to load random sample:', str(time.time() - start_time), 'seconds', model_output_random.shape)\n",
    "\n",
    "\n",
    "    start_time = time.time()\n",
    "    merged_filtered = pd.merge(model_output_filtered, tweets_filtered, how='inner', on = 'tweet_id')\n",
    "    print('time taken to merge:', str(time.time() - start_time), 'seconds', merged_filtered.shape)\n",
    "\n",
    "    start_time = time.time()\n",
    "    merged_random = pd.merge(model_output_random, tweets_random, how='inner', on = 'tweet_id')\n",
    "    print('time taken to merge:', str(time.time() - start_time), 'seconds', merged_filtered.shape)\n",
    "\n",
    "    start_time = time.time()\n",
    "    pickle.dump( merged_filtered, open( \"./top_tweets/{}_merged_filtered.pkl\".format(column), \"wb\" ) )\n",
    "    pickle.dump( merged_random, open( \"./top_tweets/{}_merged_random.pkl\".format(column), \"wb\" ) )\n",
    "    print('time taken to dump:', str(time.time() - start_time), 'seconds')\n",
    "\n",
    "    merged_filtered = merged_filtered[['neg_model', 'pos_model', 'text']]\n",
    "    merged_random   = merged_random[['neg_model', 'pos_model', 'text']]\n",
    "    \n",
    "    merged_random = merged_random[merged_random['pos_model'] > 0.5 ]\n",
    "    \n",
    "    merged_filtered = merged_filtered[merged_filtered['pos_model'] > 0.5 ]\n",
    "\n",
    "    \n",
    "    print(column)\n",
    "    fig = plt.figure()\n",
    "    ax = plt.subplot(111)\n",
    "    plt.hist(merged_filtered['pos_model'], bins=20, density = True, color = 'red', alpha = 0.2)\n",
    "    plt.title(column+' filtered')\n",
    "#     ax.set_yscale('log')\n",
    "    plt.xlim(0,1.1)\n",
    "    \n",
    "    fig = plt.figure()\n",
    "    ax = plt.subplot(111)\n",
    "    plt.hist(merged_random['pos_model'], bins=20, density = True, color = 'red', alpha = 0.2)\n",
    "    plt.title(column+' random')\n",
    "#     ax.set_yscale('log')\n",
    "    plt.xlim(0,1.1)\n",
    "    \n",
    "#     print(column)\n",
    "#     start_time = time.time()\n",
    "#     sort_merged_filtered = merged_filtered.sort_values(by=['pos_model'], ascending=False)\n",
    "#     sort_merged_filtered.head(100).to_csv('top_tweets/filtered_{}_pos_100.csv'.format(column))\n",
    "#     print(sort_merged_filtered.head())\n",
    "    \n",
    "#     sort_merged_filtered = merged_filtered.sort_values(by=['pos_model'], ascending=True)\n",
    "#     sort_merged_filtered.head(100).to_csv('top_tweets/filtered_{}_neg_100.csv'.format(column))\n",
    "#     print(sort_merged_filtered.head())\n",
    "#     print('time taken to save csv:', str(time.time() - start_time), 'seconds')\n",
    "\n",
    "#     print(column)\n",
    "#     start_time = time.time()\n",
    "#     sort_merged_random = merged_random.sort_values(by=['pos_model'], ascending=False)\n",
    "#     sort_merged_random.head(100).to_csv('top_tweets/random_{}_pos_100.csv'.format(column))\n",
    "#     print(sort_merged_random.head())\n",
    "    \n",
    "#     sort_merged_random = merged_random.sort_values(by=['pos_model'], ascending=True)\n",
    "#     sort_merged_random.head(100).to_csv('top_tweets/random_{}_neg_100.csv'.format(column))\n",
    "#     print(sort_merged_random.head())\n",
    "#     print('time taken to save csv:', str(time.time() - start_time), 'seconds')\n",
    "\n",
    "\n",
    "#     merged_filtered['dist_point5'] = abs(merged_filtered['pos_model'] - boundary)\n",
    "\n",
    "#     start_time = time.time()\n",
    "#     print(column, 'filtered subtraction time taken:', str(time.time() - start_time), 'seconds')\n",
    "\n",
    "#     start_time = time.time()\n",
    "#     merged_filtered = merged_filtered.sort_values(by=['dist_point5'], ascending=True)\n",
    "#     print(column, 'filtered sorting time taken:', str(time.time() - start_time), 'seconds')\n",
    "\n",
    "#     start_time = time.time()\n",
    "#     merged_filtered[:100].to_csv('top_tweets/filtered_{}_point5.csv'.format(column))\n",
    "#     # print(all_filtered_boundary['text'])\n",
    "#     print(column, 'filtered write csv time taken:', str(time.time() - start_time), 'seconds')\n",
    "\n",
    "\n",
    "#     merged_random['dist_point5'] = abs(merged_random['pos_model'] - boundary)\n",
    "\n",
    "#     start_time = time.time()\n",
    "#     print(column, 'random subtraction time taken:', str(time.time() - start_time), 'seconds')\n",
    "\n",
    "#     start_time = time.time()\n",
    "#     merged_random = merged_random.sort_values(by=['dist_point5'], ascending=True)\n",
    "#     print(column, 'random sorting time taken:', str(time.time() - start_time), 'seconds')\n",
    "\n",
    "#     start_time = time.time()\n",
    "#     merged_random[:100].to_csv('top_tweets/random_{}_point5.csv'.format(column))\n",
    "#     # print(all_random_boundary['text'])\n",
    "#     print(column, 'random write csv time taken:', str(time.time() - start_time), 'seconds')    \n",
    "    \n",
    "    \n",
    "#     break"
   ]
  },
  {
   "cell_type": "code",
   "execution_count": null,
   "metadata": {
    "code_folding": [
     0
    ],
    "scrolled": true
   },
   "outputs": [],
   "source": [
    "# entropy\n",
    "import glob\n",
    "import pandas as pd\n",
    "import time\n",
    "import pickle\n",
    "import matplotlib.pyplot as plt\n",
    "import numpy as np\n",
    "\n",
    "boundary = 0.5\n",
    "\n",
    "for column in [\"is_unemployed\", \"lost_job_1mo\", \"job_search\", \"is_hired_1mo\", \"job_offer\"]:\n",
    "    print(column)\n",
    "    start_time = time.time()\n",
    "    model_output_path = '/scratch/da2734/twitter/running_on_200Msamples/pred_output/{}/'.format(column)\n",
    "    model_output_filtered = pd.concat([pd.read_csv(f) for f in glob.glob(model_output_path+'filtered*.csv')], ignore_index = True)\n",
    "    print('time taken to load filtered sample:', str(time.time() - start_time), 'seconds', model_output_filtered.shape)\n",
    "\n",
    "\n",
    "    start_time = time.time()\n",
    "    model_output_random = pd.concat([pd.read_csv(f) for f in glob.glob(model_output_path+'random*.csv')], ignore_index = True)\n",
    "    print('time taken to load random sample:', str(time.time() - start_time), 'seconds', model_output_random.shape)\n",
    "\n",
    "\n",
    "    start_time = time.time()\n",
    "    merged_filtered = pd.merge(model_output_filtered, tweets_filtered, how='inner', on = 'tweet_id')\n",
    "    print('time taken to merge:', str(time.time() - start_time), 'seconds', merged_filtered.shape)\n",
    "\n",
    "    start_time = time.time()\n",
    "    merged_random = pd.merge(model_output_random, tweets_random, how='inner', on = 'tweet_id')\n",
    "    print('time taken to merge:', str(time.time() - start_time), 'seconds', merged_filtered.shape)\n",
    "\n",
    "    start_time = time.time()\n",
    "    pickle.dump( merged_filtered, open( \"./top_tweets/{}_merged_filtered.pkl\".format(column), \"wb\" ) )\n",
    "    pickle.dump( merged_random, open( \"./top_tweets/{}_merged_random.pkl\".format(column), \"wb\" ) )\n",
    "    print('time taken to dump:', str(time.time() - start_time), 'seconds')\n",
    "\n",
    "    merged_filtered = merged_filtered[['neg_model', 'pos_model', 'text']]\n",
    "    merged_random   = merged_random[['neg_model', 'pos_model', 'text']]\n",
    "    \n",
    "#     merged_random = merged_random[merged_random['pos_model'] > 0.5 ]\n",
    "\n",
    "    merged_filtered['entropy'] = - merged_filtered['pos_model']*(np.log(merged_filtered['pos_model']))\n",
    "    merged_random['entropy'] = - merged_random['pos_model']*(np.log(merged_random['pos_model']))\n",
    "    \n",
    "#     merged_filtered = merged_filtered[merged_filtered['pos_model'] > 0.5 ]\n",
    "\n",
    "    \n",
    "    print(column)\n",
    "    fig = plt.figure()\n",
    "    ax = plt.subplot(111)\n",
    "#     plt.hist(merged_filtered['pos_model'], bins=20, density = True, color = 'red', alpha = 0.2)\n",
    "    plt.hist(merged_filtered['entropy'], bins=20, density = True, color = 'red', alpha = 0.2)    \n",
    "    plt.title(column+' filtered')\n",
    "#     ax.set_yscale('log')\n",
    "#     plt.xlim(0,1.1)\n",
    "    \n",
    "    fig = plt.figure()\n",
    "    ax = plt.subplot(111)\n",
    "    plt.hist(merged_random['entropy'], bins=20, density = True, color = 'red', alpha = 0.2)\n",
    "#     plt.hist(merged_random['pos_model'], bins=20, density = True, color = 'red', alpha = 0.2)\n",
    "    plt.title(column+' random')\n",
    "#     ax.set_yscale('log')\n",
    "#     plt.xlim(0,1.1)\n",
    "    \n",
    "#     print(column)\n",
    "#     start_time = time.time()\n",
    "#     sort_merged_filtered = merged_filtered.sort_values(by=['pos_model'], ascending=False)\n",
    "#     sort_merged_filtered.head(100).to_csv('top_tweets/filtered_{}_pos_100.csv'.format(column))\n",
    "#     print(sort_merged_filtered.head())\n",
    "    \n",
    "#     sort_merged_filtered = merged_filtered.sort_values(by=['pos_model'], ascending=True)\n",
    "#     sort_merged_filtered.head(100).to_csv('top_tweets/filtered_{}_neg_100.csv'.format(column))\n",
    "#     print(sort_merged_filtered.head())\n",
    "#     print('time taken to save csv:', str(time.time() - start_time), 'seconds')\n",
    "\n",
    "#     print(column)\n",
    "#     start_time = time.time()\n",
    "#     sort_merged_random = merged_random.sort_values(by=['pos_model'], ascending=False)\n",
    "#     sort_merged_random.head(100).to_csv('top_tweets/random_{}_pos_100.csv'.format(column))\n",
    "#     print(sort_merged_random.head())\n",
    "    \n",
    "#     sort_merged_random = merged_random.sort_values(by=['pos_model'], ascending=True)\n",
    "#     sort_merged_random.head(100).to_csv('top_tweets/random_{}_neg_100.csv'.format(column))\n",
    "#     print(sort_merged_random.head())\n",
    "#     print('time taken to save csv:', str(time.time() - start_time), 'seconds')\n",
    "\n",
    "\n",
    "#     merged_filtered['dist_point5'] = abs(merged_filtered['pos_model'] - boundary)\n",
    "\n",
    "#     start_time = time.time()\n",
    "#     print(column, 'filtered subtraction time taken:', str(time.time() - start_time), 'seconds')\n",
    "\n",
    "#     start_time = time.time()\n",
    "#     merged_filtered = merged_filtered.sort_values(by=['dist_point5'], ascending=True)\n",
    "#     print(column, 'filtered sorting time taken:', str(time.time() - start_time), 'seconds')\n",
    "\n",
    "#     start_time = time.time()\n",
    "#     merged_filtered[:100].to_csv('top_tweets/filtered_{}_point5.csv'.format(column))\n",
    "#     # print(all_filtered_boundary['text'])\n",
    "#     print(column, 'filtered write csv time taken:', str(time.time() - start_time), 'seconds')\n",
    "\n",
    "\n",
    "#     merged_random['dist_point5'] = abs(merged_random['pos_model'] - boundary)\n",
    "\n",
    "#     start_time = time.time()\n",
    "#     print(column, 'random subtraction time taken:', str(time.time() - start_time), 'seconds')\n",
    "\n",
    "#     start_time = time.time()\n",
    "#     merged_random = merged_random.sort_values(by=['dist_point5'], ascending=True)\n",
    "#     print(column, 'random sorting time taken:', str(time.time() - start_time), 'seconds')\n",
    "\n",
    "#     start_time = time.time()\n",
    "#     merged_random[:100].to_csv('top_tweets/random_{}_point5.csv'.format(column))\n",
    "#     # print(all_random_boundary['text'])\n",
    "#     print(column, 'random write csv time taken:', str(time.time() - start_time), 'seconds')    \n",
    "    \n",
    "    \n",
    "#     break"
   ]
  }
 ],
 "metadata": {
  "kernelspec": {
   "display_name": "Python 3",
   "language": "python",
   "name": "python3"
  },
  "language_info": {
   "codemirror_mode": {
    "name": "ipython",
    "version": 3
   },
   "file_extension": ".py",
   "mimetype": "text/x-python",
   "name": "python",
   "nbconvert_exporter": "python",
   "pygments_lexer": "ipython3",
   "version": "3.7.6"
  }
 },
 "nbformat": 4,
 "nbformat_minor": 2
}
