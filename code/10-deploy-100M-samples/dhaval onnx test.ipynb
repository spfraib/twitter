{
 "cells": [
  {
   "cell_type": "code",
   "execution_count": 2,
   "metadata": {},
   "outputs": [],
   "source": [
    "import torch\n",
    "from transformers import BertConfig, BertTokenizer, BertForSequenceClassification\n",
    "import onnxruntime as ort\n",
    "from onnxruntime_tools import optimizer\n",
    "import argparse\n",
    "import pandas as pd\n",
    "import numpy as np\n",
    "# from transformers.convert_graph_to_onnx import convert\n",
    "import os\n",
    "import time\n",
    "import torch.nn.functional as F\n",
    "import onnx"
   ]
  },
  {
   "cell_type": "code",
   "execution_count": 6,
   "metadata": {},
   "outputs": [],
   "source": [
    "\n",
    "def preprocess(tokenizer, text):\n",
    "    max_seq_length = 128\n",
    "    tokens = tokenizer.tokenize(text)\n",
    "    tokens.insert(0, \"[CLS]\")\n",
    "    tokens.append(\"[SEP]\")\n",
    "    segment_ids = []\n",
    "    for i in range(len(tokens)):\n",
    "        segment_ids.append(0)\n",
    "    input_ids = tokenizer.convert_tokens_to_ids(tokens)\n",
    "    input_mask = [1] * len(input_ids)\n",
    "    while len(input_ids) < max_seq_length:\n",
    "        input_ids.append(0)\n",
    "        input_mask.append(0)\n",
    "        segment_ids.append(0)\n",
    "\n",
    "    input_ids = torch.tensor([input_ids], dtype=torch.long)\n",
    "    input_mask = torch.tensor([input_mask], dtype=torch.long)\n",
    "    segment_ids = torch.tensor([segment_ids], dtype=torch.long)\n",
    "\n",
    "    return input_ids, input_mask, segment_ids\n",
    "\n",
    "\n",
    "\n",
    "def convert_bert_to_onnx(text, model_dir, onnx_model_path):\n",
    "    config = BertConfig.from_pretrained(model_dir)\n",
    "    tokenizer = BertTokenizer.from_pretrained(model_dir)\n",
    "    model = BertForSequenceClassification.from_pretrained(model_dir, config=config)\n",
    "    model.to(\"cpu\")\n",
    "    input_ids, input_mask, segment_ids = preprocess(tokenizer, text)\n",
    "\n",
    "    dynamic_axes = {\n",
    "        'input_id': {0:'1',1:'128'},\n",
    "        'sequence_id': {0:'1',1:'128'},\n",
    "        'input_mask': {0:'1',1:'128'},\n",
    "        'output': {0:'1'},\n",
    "    }\n",
    "    print('starting export')\n",
    "    torch.onnx.export(model, (input_ids, input_mask, segment_ids), onnx_model_path,\n",
    "                      input_names=[\"input_ids\", \"input_mask\", \"segment_ids\"],\n",
    "                      output_names=[\"output\"], opset_version=10, do_constant_folding=True, dynamic_axes=dynamic_axes, verbose=False)\n",
    "\n",
    "    print(\"SST model convert to onnx format successfully\")\n"
   ]
  },
  {
   "cell_type": "code",
   "execution_count": 8,
   "metadata": {},
   "outputs": [
    {
     "data": {
      "text/plain": [
       "('/scratch/da2734/twitter/jobs/training_binary/simple_transformers_manu_bertbase/is_hired_1mo/',\n",
       " '/scratch/da2734/twitter/jobs/dhaval_test.onnx')"
      ]
     },
     "execution_count": 8,
     "metadata": {},
     "output_type": "execute_result"
    }
   ],
   "source": [
    "args ={ \n",
    "'eval_data_path': 'data/jun3_10Klabels/data_binary_pos_neg_balanced/val_is_hired_1mo.csv', \n",
    "'model_dir': '/scratch/da2734/twitter/jobs/training_binary/simple_transformers_manu_bertbase/is_hired_1mo/', \n",
    "'onnx_model_path': '/scratch/da2734/twitter/jobs/dhaval_test.onnx'\n",
    "}\n",
    "\n",
    "# args['model_dir']\n",
    "args['model_dir'], args['onnx_model_path']"
   ]
  },
  {
   "cell_type": "code",
   "execution_count": 9,
   "metadata": {},
   "outputs": [
    {
     "name": "stdout",
     "output_type": "stream",
     "text": [
      "starting export\n",
      "SST model convert to onnx format successfully\n"
     ]
    }
   ],
   "source": [
    "convert_bert_to_onnx('tick tock', args['model_dir'], args['onnx_model_path'])\n"
   ]
  }
 ],
 "metadata": {
  "kernelspec": {
   "display_name": "Python 3",
   "language": "python",
   "name": "python3"
  },
  "language_info": {
   "codemirror_mode": {
    "name": "ipython",
    "version": 3
   },
   "file_extension": ".py",
   "mimetype": "text/x-python",
   "name": "python",
   "nbconvert_exporter": "python",
   "pygments_lexer": "ipython3",
   "version": "3.7.4"
  }
 },
 "nbformat": 4,
 "nbformat_minor": 4
}
