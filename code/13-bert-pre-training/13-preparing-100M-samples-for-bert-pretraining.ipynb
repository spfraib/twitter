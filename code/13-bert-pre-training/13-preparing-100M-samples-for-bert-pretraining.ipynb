{
 "cells": [
  {
   "cell_type": "code",
   "execution_count": 1,
   "metadata": {},
   "outputs": [
    {
     "name": "stdout",
     "output_type": "stream",
     "text": [
      "time taken to load keyword filtered sample: 361.01983094215393 seconds\n",
      "(92121093, 11)\n"
     ]
    }
   ],
   "source": [
    "# filtered contains 0.8G of data!!\n",
    "import time\n",
    "start_time = time.time()\n",
    "import pyarrow.parquet as pq\n",
    "from glob import glob\n",
    "import os\n",
    "country_code = 'US'\n",
    "month = '2012-1'\n",
    "path_to_data = '/scratch/spf248/twitter/data/classification/US/filtered/'\n",
    "tweets_filtered=pq.ParquetDataset(glob(os.path.join(path_to_data,                                           \n",
    "#                                            country_code,\n",
    "#                                            month,\n",
    "                                           '*.parquet'))).read().to_pandas()\n",
    "# tweets_filtered['tweet_id'] = tweets_filtered['tweet_id'].astype(int)\n",
    "print('time taken to load keyword filtered sample:', str(time.time() - start_time), 'seconds')\n",
    "print(tweets_filtered.shape)"
   ]
  },
  {
   "cell_type": "code",
   "execution_count": 28,
   "metadata": {},
   "outputs": [
    {
     "name": "stdout",
     "output_type": "stream",
     "text": [
      "time taken to save keyword filtered sample: 272.77225947380066 seconds\n"
     ]
    }
   ],
   "source": [
    "# test = tweets_filtered['text'][:1000]\n",
    "# print(test.head())\n",
    "start_time = time.time()\n",
    "column_to_save = tweets_filtered['text']\n",
    "column_to_save.to_csv('tweets_filtered.txt', header=None, index=None, mode='a')\n",
    "print('time taken to save keyword filtered sample:', str(time.time() - start_time), 'seconds')\n"
   ]
  },
  {
   "cell_type": "code",
   "execution_count": null,
   "metadata": {},
   "outputs": [],
   "source": [
    "del tweets_filtered"
   ]
  },
  {
   "cell_type": "code",
   "execution_count": 1,
   "metadata": {},
   "outputs": [
    {
     "name": "stdout",
     "output_type": "stream",
     "text": [
      "time taken to load keyword filtered sample: 348.69759583473206 seconds\n",
      "(92114009, 11)\n"
     ]
    }
   ],
   "source": [
    "# filtered contains 0.8G of data!!\n",
    "import time\n",
    "start_time = time.time()\n",
    "import pyarrow.parquet as pq\n",
    "from glob import glob\n",
    "import os\n",
    "# country_code = 'US'\n",
    "# month = '2012-1'\n",
    "path_to_data = '/scratch/spf248/twitter/data/classification/US/random/'\n",
    "tweets_random=pq.ParquetDataset(glob(os.path.join(path_to_data,                                           \n",
    "#                                            country_code,\n",
    "#                                            month,\n",
    "                                           '*.parquet'))).read().to_pandas()\n",
    "# tweets_filtered['tweet_id'] = tweets_filtered['tweet_id'].astype(int)\n",
    "print('time taken to load keyword filtered sample:', str(time.time() - start_time), 'seconds')\n",
    "print(tweets_random.shape)"
   ]
  },
  {
   "cell_type": "code",
   "execution_count": null,
   "metadata": {},
   "outputs": [],
   "source": [
    "# test = tweets_filtered['text'][:1000]\n",
    "# print(test.head())\n",
    "start_time = time.time()\n",
    "column_to_save = tweets_random['text']\n",
    "column_to_save.to_csv('tweets_random.txt', header=None, index=None, mode='a')\n",
    "print('time taken to save keyword filtered sample:', str(time.time() - start_time), 'seconds')\n"
   ]
  }
 ],
 "metadata": {
  "kernelspec": {
   "display_name": "Python 3",
   "language": "python",
   "name": "python3"
  },
  "language_info": {
   "codemirror_mode": {
    "name": "ipython",
    "version": 3
   },
   "file_extension": ".py",
   "mimetype": "text/x-python",
   "name": "python",
   "nbconvert_exporter": "python",
   "pygments_lexer": "ipython3",
   "version": "3.7.4"
  }
 },
 "nbformat": 4,
 "nbformat_minor": 4
}
