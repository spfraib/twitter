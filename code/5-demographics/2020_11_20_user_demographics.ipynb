{
 "cells": [
  {
   "cell_type": "code",
   "execution_count": 43,
   "metadata": {},
   "outputs": [],
   "source": [
    "import pandas as pd\n",
    "import random\n",
    "from sklearn.metrics import precision_recall_fscore_support\n",
    "from sklearn.metrics import accuracy_score"
   ]
  },
  {
   "cell_type": "code",
   "execution_count": 44,
   "metadata": {},
   "outputs": [],
   "source": [
    "def turn_gender_to_nums(x):\n",
    "    if x == 'male':\n",
    "        return 1\n",
    "    elif x =='female':\n",
    "        return 0"
   ]
  },
  {
   "cell_type": "code",
   "execution_count": 45,
   "metadata": {},
   "outputs": [],
   "source": [
    "def turn_age_to_nums(x):\n",
    "    if x == '<=18':\n",
    "        return 1\n",
    "    elif x == '19-29':\n",
    "        return 2\n",
    "    elif x == '30-39':\n",
    "        return 3\n",
    "    elif x == '>=40':\n",
    "        return 4"
   ]
  },
  {
   "cell_type": "code",
   "execution_count": 46,
   "metadata": {},
   "outputs": [],
   "source": [
    "def turn_org_to_nums(x):\n",
    "    if x == 'non-org':\n",
    "        return 0\n",
    "    elif x == 'is-org':\n",
    "        return 1"
   ]
  },
  {
   "cell_type": "code",
   "execution_count": 47,
   "metadata": {},
   "outputs": [],
   "source": [
    "def fix_has_description(x):\n",
    "    if x == 9:\n",
    "        return 0\n",
    "    else:\n",
    "        return x"
   ]
  },
  {
   "cell_type": "code",
   "execution_count": 48,
   "metadata": {},
   "outputs": [],
   "source": [
    "def assigning_random_unsure_age(x):\n",
    "    if x == 5:\n",
    "        return random.randint(1,4)\n",
    "    else:\n",
    "        return x"
   ]
  },
  {
   "cell_type": "code",
   "execution_count": 49,
   "metadata": {},
   "outputs": [],
   "source": [
    "def assigning_random_unsure_gender(x):\n",
    "    if x == 2:\n",
    "        return random.randint(0,1)\n",
    "    else:\n",
    "        return x"
   ]
  },
  {
   "cell_type": "code",
   "execution_count": 50,
   "metadata": {},
   "outputs": [],
   "source": [
    "def output_results(country_code):\n",
    "    if country_code == \"US\":\n",
    "        df = pd.read_csv('/home/manuto/Downloads/merged_demographics (1).csv')\n",
    "        df.columns = ['id', 'name', 'screen_name', 'description', 'lang', 'img_path',\n",
    "       'gender_predicted', 'age_predicted', 'org_predicted', 'gender_true',\n",
    "       'age_true', 'org_true', 'has_picture', 'default_picture', 'has_description',\n",
    "       'real_name', 'real_picture', 'bot', 'last_active']\n",
    "    elif country_code == 'MX':\n",
    "        df = pd.read_excel('/home/manuto/Downloads/data_MX_users/demographics_labelling_MX_AM.xlsx')\n",
    "    \n",
    "    df['gender_predicted'] = df['gender_predicted'].apply(turn_gender_to_nums)\n",
    "    df['age_predicted'] = df['age_predicted'].apply(turn_age_to_nums)\n",
    "    df['org_predicted'] = df['org_predicted'].apply(turn_org_to_nums)\n",
    "    df['has_description'] = df['has_description'].apply(fix_has_description)\n",
    "    #Display share of bots and discard bots\n",
    "    print(f\"Share of bots: {df['bot'].value_counts(dropna=False, normalize=True)[1]}\")\n",
    "    df = df.loc[df['bot'] != 1].reset_index(drop=True)\n",
    "    # Org\n",
    "    print('**** ORG *****')\n",
    "    print(f\"Share of organizations (non-bot users): {df['org_true'].value_counts(dropna=False, normalize=True)[1]}\")\n",
    "    print('Precision/Recall/F1:')\n",
    "    print(precision_recall_fscore_support(df['org_true'], df['org_predicted'],average='macro'))\n",
    "    print('Accuracy')\n",
    "    print(accuracy_score(df['org_true'], df['org_predicted']))\n",
    "    # Real name/picture\n",
    "    df1 = df.loc[df['org_true'] == 0].reset_index(drop=True)\n",
    "    print(f\"Share of real name: {df1['real_name'].value_counts(dropna=False, normalize=True)[1]}\")\n",
    "    print(f\"Share of real picture: {df1['real_picture'].value_counts(dropna=False, normalize=True)[1]}\")\n",
    "    # Gender\n",
    "    print('**** GENDER ****')\n",
    "    print(f\"Share of unsure: {df1['gender_true'].value_counts(dropna=False, normalize=True)[2]}\")\n",
    "    print('Precision/Recall/F1 with unsure as extra class:')\n",
    "    print(precision_recall_fscore_support(df1['gender_true'], df1['gender_predicted'], average='macro'))\n",
    "    print('Accuracy with unsure as extra class')\n",
    "    print(accuracy_score(df1['gender_true'], df1['gender_predicted']))\n",
    "    df2 = df1.loc[df1['gender_true'] != 2].reset_index(drop=True)\n",
    "    df1['gender_true'] = df1['gender_true'].apply(assigning_random_unsure_gender)\n",
    "    print('Precision/Recall/F1 with unsure assigned randomly between male and female:')\n",
    "    print(precision_recall_fscore_support(df1['gender_true'], df1['gender_predicted'], average='macro'))\n",
    "    print('Accuracy with unsure assigned randomly between male and female:')\n",
    "    print(accuracy_score(df1['gender_true'], df1['gender_predicted']))\n",
    "    print('Precision/Recall/F1 without unsure:')\n",
    "    print(precision_recall_fscore_support(df2['gender_true'], df2['gender_predicted'], average='macro'))\n",
    "    print('Accuracy without unsure:')\n",
    "    print(accuracy_score(df2['gender_true'], df2['gender_predicted']))\n",
    "\n",
    "    # Age\n",
    "    print('**** AGE ****')\n",
    "    print(f\"Share of unsure: {df1['age_true'].value_counts(dropna=False, normalize=True)[2]}\")\n",
    "    print('Precision/Recall/F1 with unsure as extra class:')\n",
    "    print(precision_recall_fscore_support(df1['age_true'], df1['age_predicted'], average='macro')) \n",
    "    print('Accuracy with unsure as extra class:')\n",
    "    print(accuracy_score(df1['age_true'], df1['age_predicted'])) \n",
    "\n",
    "    df2 = df1.loc[df1['age_true'] != 5].reset_index(drop=True)\n",
    "    df1['age_true'] = df1['age_true'].apply(assigning_random_unsure_age)\n",
    "    print('Precision/Recall/F1 with unsure assigned randomly between all age classes:')\n",
    "    print(precision_recall_fscore_support(df1['age_true'], df1['age_predicted'], average='macro'))\n",
    "    print('Accuracy with unsure assigned randomly between all age classes:')\n",
    "    print(accuracy_score(df1['age_true'], df1['age_predicted']))\n",
    "    print('Precision/Recall/F1 without unsure:')\n",
    "    print(precision_recall_fscore_support(df2['age_true'], df2['age_predicted'], average='macro'))\n",
    "    print('Accuracy without unsure:')\n",
    "    print(accuracy_score(df2['age_true'], df2['age_predicted']))\n"
   ]
  },
  {
   "cell_type": "code",
   "execution_count": 40,
   "metadata": {},
   "outputs": [
    {
     "name": "stdout",
     "output_type": "stream",
     "text": [
      "Share of bots: 0.044\n",
      "**** ORG *****\n",
      "Share of organizations (non-bot users): 0.15481171548117154\n",
      "Precision/Recall/F1:\n",
      "(0.949626168224299, 0.8218490767995719, 0.8702698511166254, None)\n",
      "Accuracy\n",
      "0.9414225941422594\n",
      "Share of real name: 0.7821782178217822\n",
      "Share of real picture: 0.7326732673267327\n",
      "**** GENDER ****\n",
      "Share of unsure: 0.034653465346534656\n",
      "Precision/Recall/F1 with unsure as extra class:\n",
      "(0.6227785959744723, 0.6473024638912489, 0.6342682304946455, None)\n",
      "Accuracy with unsure as extra class\n",
      "0.9356435643564357\n",
      "Precision/Recall/F1 with unsure assigned randomly between male and female:\n",
      "(0.959548355424644, 0.9617243760481404, 0.9602557796360058, None)\n",
      "Accuracy with unsure assigned randomly between male and female:\n",
      "0.9603960396039604\n",
      "Precision/Recall/F1 without unsure:\n",
      "(0.9679717180244829, 0.9709536958368734, 0.9690476190476189, None)\n",
      "Accuracy without unsure:\n",
      "0.9692307692307692\n",
      "**** AGE ****\n",
      "Share of unsure: 0.31683168316831684\n",
      "Precision/Recall/F1 with unsure as extra class:\n",
      "(0.45176707834865437, 0.58328173374613, 0.505539476999169, None)\n",
      "Accuracy with unsure as extra class:\n",
      "0.5792079207920792\n",
      "Precision/Recall/F1 with unsure assigned randomly between all age classes:\n",
      "(0.6111999839108607, 0.6232461734693877, 0.6140788933767236, None)\n",
      "Accuracy with unsure assigned randomly between all age classes:\n",
      "0.6237623762376238\n",
      "Precision/Recall/F1 without unsure:\n",
      "(0.7194525482785095, 0.7291021671826625, 0.7235945400348953, None)\n",
      "Accuracy without unsure:\n",
      "0.73125\n"
     ]
    }
   ],
   "source": [
    "output_results('US')"
   ]
  },
  {
   "cell_type": "code",
   "execution_count": 42,
   "metadata": {},
   "outputs": [
    {
     "name": "stdout",
     "output_type": "stream",
     "text": [
      "Share of bots: 0.12\n",
      "**** ORG *****\n",
      "Share of organizations (non-bot users): 0.03409090909090909\n",
      "Precision/Recall/F1:\n",
      "(0.8274509803921568, 0.8274509803921568, 0.8274509803921568, None)\n",
      "Accuracy\n",
      "0.9772727272727273\n",
      "Share of real name: 0.7058823529411765\n",
      "Share of real picture: 0.7647058823529411\n",
      "**** GENDER ****\n",
      "Share of unsure: 0.058823529411764705\n",
      "Precision/Recall/F1 with unsure as extra class:\n",
      "(0.6119733924611973, 0.65, 0.630217519106408, None)\n",
      "Accuracy with unsure as extra class\n",
      "0.9176470588235294\n",
      "Precision/Recall/F1 with unsure assigned randomly between male and female:\n",
      "(0.9650776053215078, 0.964562569213732, 0.9646863315330287, None)\n",
      "Accuracy with unsure assigned randomly between male and female:\n",
      "0.9647058823529412\n",
      "Precision/Recall/F1 without unsure:\n",
      "(0.9761904761904762, 0.975, 0.9749843652282677, None)\n",
      "Accuracy without unsure:\n",
      "0.975\n",
      "**** AGE ****\n",
      "Share of unsure: 0.36470588235294116\n",
      "Precision/Recall/F1 with unsure as extra class:\n",
      "(0.28199966968082907, 0.3952601201771031, 0.31731540064873404, None)\n",
      "Accuracy with unsure as extra class:\n",
      "0.4588235294117647\n",
      "Precision/Recall/F1 with unsure assigned randomly between all age classes:\n",
      "(0.3680292332466245, 0.3946031746031746, 0.3708745328716754, None)\n",
      "Accuracy with unsure assigned randomly between all age classes:\n",
      "0.4823529411764706\n",
      "Precision/Recall/F1 without unsure:\n",
      "(0.42131415495259894, 0.4743121442125237, 0.4329189189189189, None)\n",
      "Accuracy without unsure:\n",
      "0.5652173913043478\n"
     ]
    }
   ],
   "source": [
    "output_results('MX')"
   ]
  },
  {
   "cell_type": "code",
   "execution_count": 72,
   "metadata": {},
   "outputs": [
    {
     "data": {
      "text/plain": [
       "1.0    0.782178\n",
       "0.0    0.217822\n",
       "Name: real_name, dtype: float64"
      ]
     },
     "execution_count": 72,
     "metadata": {},
     "output_type": "execute_result"
    }
   ],
   "source": [
    "df = pd.read_csv('/home/manuto/Downloads/merged_demographics (1).csv')\n",
    "df.columns = ['id', 'name', 'screen_name', 'description', 'lang', 'img_path',\n",
    "       'gender_predicted', 'age_predicted', 'org_predicted', 'gender_true',\n",
    "       'age_true', 'org_true', 'has_picture', 'default_picture', 'has_description',\n",
    "       'real_name', 'real_picture', 'bot', 'last_active']\n",
    "df = df.loc[df['bot'] != 1]\n",
    "df = df.loc[df['org_true'] == 0]\n",
    "df['real_name'].value_counts(dropna=False, normalize=True)"
   ]
  },
  {
   "cell_type": "code",
   "execution_count": 81,
   "metadata": {},
   "outputs": [
    {
     "data": {
      "text/plain": [
       "0.0    1.0\n",
       "Name: real_name, dtype: float64"
      ]
     },
     "execution_count": 81,
     "metadata": {},
     "output_type": "execute_result"
    }
   ],
   "source": [
    "df_gender_unsure = df.loc[df['gender_true']==2]\n",
    "df_gender_unsure['real_name'].value_counts(normalize=True, dropna=False)"
   ]
  },
  {
   "cell_type": "code",
   "execution_count": 82,
   "metadata": {},
   "outputs": [
    {
     "data": {
      "text/plain": [
       "0.0    1.0\n",
       "Name: real_picture, dtype: float64"
      ]
     },
     "execution_count": 82,
     "metadata": {},
     "output_type": "execute_result"
    }
   ],
   "source": [
    "df_gender_unsure['real_picture'].value_counts(normalize=True, dropna=False)"
   ]
  },
  {
   "cell_type": "code",
   "execution_count": 83,
   "metadata": {},
   "outputs": [
    {
     "data": {
      "text/plain": [
       "1.0    0.714286\n",
       "0.0    0.285714\n",
       "Name: real_name, dtype: float64"
      ]
     },
     "execution_count": 83,
     "metadata": {},
     "output_type": "execute_result"
    }
   ],
   "source": [
    "df_age_unsure = df.loc[df['age_true']==5]\n",
    "df_age_unsure['real_name'].value_counts(normalize=True)"
   ]
  },
  {
   "cell_type": "code",
   "execution_count": 75,
   "metadata": {},
   "outputs": [
    {
     "data": {
      "text/plain": [
       "0.0    0.880952\n",
       "1.0    0.119048\n",
       "Name: real_picture, dtype: float64"
      ]
     },
     "execution_count": 75,
     "metadata": {},
     "output_type": "execute_result"
    }
   ],
   "source": [
    "df_age_unsure['real_picture'].value_counts(normalize=True)"
   ]
  },
  {
   "cell_type": "code",
   "execution_count": 69,
   "metadata": {},
   "outputs": [
    {
     "data": {
      "text/plain": [
       "(202, 19)"
      ]
     },
     "execution_count": 69,
     "metadata": {},
     "output_type": "execute_result"
    }
   ],
   "source": [
    "df.shape"
   ]
  },
  {
   "cell_type": "code",
   "execution_count": 70,
   "metadata": {},
   "outputs": [
    {
     "data": {
      "text/plain": [
       "(18, 19)"
      ]
     },
     "execution_count": 70,
     "metadata": {},
     "output_type": "execute_result"
    }
   ],
   "source": [
    "df_real_name = df.loc[df['real_name']==0].reset_index(drop=True)\n",
    "df_both = df_real_name[df_real_name['real_picture']==0]\n",
    "df_both.shape"
   ]
  },
  {
   "cell_type": "markdown",
   "metadata": {},
   "source": [
    "# US"
   ]
  },
  {
   "cell_type": "code",
   "execution_count": 8,
   "metadata": {},
   "outputs": [
    {
     "data": {
      "text/plain": [
       "Index(['user_id', 'name', 'screen_name', 'description', 'lang', 'img_path',\n",
       "       'gender', 'age', 'org', 'gender_true', 'age_true', 'organization_true ',\n",
       "       'has_picture', 'default_picture', 'has_description', 'real_name',\n",
       "       'real_picture', 'bot', 'last_active'],\n",
       "      dtype='object')"
      ]
     },
     "execution_count": 8,
     "metadata": {},
     "output_type": "execute_result"
    }
   ],
   "source": [
    "df = pd.read_csv('/home/manuto/Downloads/merged_demographics (1).csv')\n",
    "df.columns"
   ]
  },
  {
   "cell_type": "code",
   "execution_count": 9,
   "metadata": {},
   "outputs": [
    {
     "data": {
      "text/plain": [
       "Index(['id', 'name', 'screen_name', 'description', 'lang', 'img_path',\n",
       "       'gender_predicted', 'age_predicted', 'org_predicted', 'gender_true',\n",
       "       'age_true', 'org_true', 'default_picture', 'has_description',\n",
       "       'real_name', 'real_picture', 'bot', 'last_active'],\n",
       "      dtype='object')"
      ]
     },
     "execution_count": 9,
     "metadata": {},
     "output_type": "execute_result"
    }
   ],
   "source": [
    "df = pd.read_excel('/home/manuto/Downloads/data_MX_users/demographics_labelling_MX_AM.xlsx', index=False)\n",
    "df.columns"
   ]
  },
  {
   "cell_type": "code",
   "execution_count": null,
   "metadata": {},
   "outputs": [],
   "source": []
  },
  {
   "cell_type": "code",
   "execution_count": 97,
   "metadata": {},
   "outputs": [],
   "source": [
    "df['gender'] = df['gender'].apply(turn_gender_to_nums)\n",
    "df['age'] = df['age'].apply(turn_age_to_nums)\n",
    "df['org'] = df['org'].apply(turn_org_to_nums)\n",
    "df['has_description'] = df['has_description'].apply(fix_has_description)"
   ]
  },
  {
   "cell_type": "code",
   "execution_count": 98,
   "metadata": {},
   "outputs": [
    {
     "data": {
      "text/plain": [
       "2020         0.404\n",
       "2018         0.216\n",
       "2019         0.120\n",
       "2013         0.072\n",
       "suspended    0.032\n",
       "2016         0.032\n",
       "2012         0.028\n",
       "2017         0.024\n",
       "not_exist    0.024\n",
       "2014         0.020\n",
       "2015         0.020\n",
       "2011         0.004\n",
       "2010         0.004\n",
       "Name: last_active, dtype: float64"
      ]
     },
     "execution_count": 98,
     "metadata": {},
     "output_type": "execute_result"
    }
   ],
   "source": [
    "df['last_active'].value_counts(dropna=False, normalize=True)"
   ]
  },
  {
   "cell_type": "code",
   "execution_count": 10,
   "metadata": {},
   "outputs": [
    {
     "data": {
      "text/plain": [
       "0.12"
      ]
     },
     "execution_count": 10,
     "metadata": {},
     "output_type": "execute_result"
    }
   ],
   "source": [
    "df['bot'].value_counts(dropna=False, normalize=True)[1]"
   ]
  },
  {
   "cell_type": "code",
   "execution_count": 100,
   "metadata": {},
   "outputs": [],
   "source": [
    "#discard bots\n",
    "df = df.loc[df['bot'] != 1]"
   ]
  },
  {
   "cell_type": "code",
   "execution_count": 101,
   "metadata": {},
   "outputs": [
    {
     "data": {
      "text/plain": [
       "0    0.845188\n",
       "1    0.154812\n",
       "Name: organization_true , dtype: float64"
      ]
     },
     "execution_count": 101,
     "metadata": {},
     "output_type": "execute_result"
    }
   ],
   "source": [
    "df['organization_true '].value_counts(dropna=False, normalize=True)"
   ]
  },
  {
   "cell_type": "code",
   "execution_count": 102,
   "metadata": {},
   "outputs": [
    {
     "data": {
      "text/plain": [
       "(0.949626168224299, 0.8218490767995719, 0.8702698511166254, None)"
      ]
     },
     "execution_count": 102,
     "metadata": {},
     "output_type": "execute_result"
    }
   ],
   "source": [
    "precision_recall_fscore_support(df['organization_true '], df['org'],average='macro')"
   ]
  },
  {
   "cell_type": "code",
   "execution_count": 103,
   "metadata": {},
   "outputs": [
    {
     "data": {
      "text/plain": [
       "(202, 19)"
      ]
     },
     "execution_count": 103,
     "metadata": {},
     "output_type": "execute_result"
    }
   ],
   "source": [
    "df1 = df.loc[df['organization_true '] == 0]\n",
    "df1.shape"
   ]
  },
  {
   "cell_type": "code",
   "execution_count": 104,
   "metadata": {},
   "outputs": [
    {
     "data": {
      "text/plain": [
       "1.0    0.782178\n",
       "0.0    0.217822\n",
       "Name: real_name, dtype: float64"
      ]
     },
     "execution_count": 104,
     "metadata": {},
     "output_type": "execute_result"
    }
   ],
   "source": [
    "df1['real_name'].value_counts(dropna=False,normalize=True)"
   ]
  },
  {
   "cell_type": "code",
   "execution_count": 105,
   "metadata": {},
   "outputs": [
    {
     "data": {
      "text/plain": [
       "1.0    0.732673\n",
       "0.0    0.267327\n",
       "Name: real_picture, dtype: float64"
      ]
     },
     "execution_count": 105,
     "metadata": {},
     "output_type": "execute_result"
    }
   ],
   "source": [
    "df1['real_picture'].value_counts(dropna=False, normalize=True)"
   ]
  },
  {
   "cell_type": "markdown",
   "metadata": {},
   "source": [
    "### Gender"
   ]
  },
  {
   "cell_type": "code",
   "execution_count": 106,
   "metadata": {},
   "outputs": [
    {
     "data": {
      "text/plain": [
       "0    0.529703\n",
       "1    0.435644\n",
       "2    0.034653\n",
       "Name: gender_true, dtype: float64"
      ]
     },
     "execution_count": 106,
     "metadata": {},
     "output_type": "execute_result"
    }
   ],
   "source": [
    "df1['gender_true'].value_counts(dropna=False, normalize=True)"
   ]
  },
  {
   "cell_type": "code",
   "execution_count": 107,
   "metadata": {},
   "outputs": [
    {
     "data": {
      "text/plain": [
       "(195,)"
      ]
     },
     "execution_count": 107,
     "metadata": {},
     "output_type": "execute_result"
    }
   ],
   "source": [
    "df2 = df1.loc[df1['gender_true']!=2]\n",
    "df2['gender_true'].shape"
   ]
  },
  {
   "cell_type": "code",
   "execution_count": 109,
   "metadata": {},
   "outputs": [
    {
     "data": {
      "text/plain": [
       "(0.9356435643564357, 0.9356435643564357, 0.9356435643564357, None)"
      ]
     },
     "execution_count": 109,
     "metadata": {},
     "output_type": "execute_result"
    }
   ],
   "source": [
    "precision_recall_fscore_support(df1['gender_true'], df1['gender'], average='micro')"
   ]
  },
  {
   "cell_type": "code",
   "execution_count": 54,
   "metadata": {},
   "outputs": [
    {
     "data": {
      "text/plain": [
       "(0.9679717180244829, 0.9709536958368734, 0.9690476190476189, None)"
      ]
     },
     "execution_count": 54,
     "metadata": {},
     "output_type": "execute_result"
    }
   ],
   "source": [
    "precision_recall_fscore_support(df2['gender_true'], df2['gender'], average='macro')"
   ]
  },
  {
   "cell_type": "code",
   "execution_count": 55,
   "metadata": {},
   "outputs": [
    {
     "data": {
      "text/plain": [
       "2    64\n",
       "5    42\n",
       "3    38\n",
       "1    34\n",
       "4    24\n",
       "Name: age_true, dtype: int64"
      ]
     },
     "execution_count": 55,
     "metadata": {},
     "output_type": "execute_result"
    }
   ],
   "source": [
    "df1['age_true'].value_counts(dropna=False)"
   ]
  },
  {
   "cell_type": "markdown",
   "metadata": {},
   "source": [
    "### Age"
   ]
  },
  {
   "cell_type": "code",
   "execution_count": 56,
   "metadata": {},
   "outputs": [
    {
     "data": {
      "text/plain": [
       "2    0.316832\n",
       "5    0.207921\n",
       "3    0.188119\n",
       "1    0.168317\n",
       "4    0.118812\n",
       "Name: age_true, dtype: float64"
      ]
     },
     "execution_count": 56,
     "metadata": {},
     "output_type": "execute_result"
    }
   ],
   "source": [
    "df1['age_true'].value_counts(dropna=False, normalize=True)"
   ]
  },
  {
   "cell_type": "code",
   "execution_count": null,
   "metadata": {},
   "outputs": [],
   "source": [
    "df3 = df1.loc[df1['age_true']!=5]\n",
    "df3.shape"
   ]
  },
  {
   "cell_type": "code",
   "execution_count": 50,
   "metadata": {},
   "outputs": [
    {
     "data": {
      "text/plain": [
       "(0.7194525482785095, 0.7291021671826625, 0.7235945400348953, None)"
      ]
     },
     "execution_count": 50,
     "metadata": {},
     "output_type": "execute_result"
    }
   ],
   "source": [
    "precision_recall_fscore_support(df3['age_true'], df3['age'], average='macro')"
   ]
  },
  {
   "cell_type": "code",
   "execution_count": 14,
   "metadata": {},
   "outputs": [
    {
     "data": {
      "text/plain": [
       "0    0.956\n",
       "1    0.044\n",
       "Name: default_picture, dtype: float64"
      ]
     },
     "execution_count": 14,
     "metadata": {},
     "output_type": "execute_result"
    }
   ],
   "source": [
    "df['default_picture'].value_counts(normalize=True)"
   ]
  },
  {
   "cell_type": "code",
   "execution_count": 15,
   "metadata": {},
   "outputs": [
    {
     "data": {
      "text/plain": [
       "1    0.744\n",
       "0    0.256\n",
       "Name: has_description, dtype: float64"
      ]
     },
     "execution_count": 15,
     "metadata": {},
     "output_type": "execute_result"
    }
   ],
   "source": [
    "df['has_description'].value_counts(normalize=True)"
   ]
  },
  {
   "cell_type": "code",
   "execution_count": 16,
   "metadata": {},
   "outputs": [
    {
     "data": {
      "text/plain": [
       "2    0.368\n",
       "0    0.328\n",
       "1    0.304\n",
       "Name: gender_true, dtype: float64"
      ]
     },
     "execution_count": 16,
     "metadata": {},
     "output_type": "execute_result"
    }
   ],
   "source": [
    "df['gender_true'].value_counts(dropna=False, normalize=True)"
   ]
  },
  {
   "cell_type": "code",
   "execution_count": 17,
   "metadata": {},
   "outputs": [
    {
     "data": {
      "text/plain": [
       "5    0.404\n",
       "2    0.244\n",
       "1    0.132\n",
       "3    0.116\n",
       "4    0.104\n",
       "Name: age_true, dtype: float64"
      ]
     },
     "execution_count": 17,
     "metadata": {},
     "output_type": "execute_result"
    }
   ],
   "source": [
    "df['age_true'].value_counts(dropna=False, normalize=True)"
   ]
  },
  {
   "cell_type": "code",
   "execution_count": 36,
   "metadata": {},
   "outputs": [
    {
     "data": {
      "text/plain": [
       "0    0.904\n",
       "1    0.096\n",
       "Name: organization_true , dtype: float64"
      ]
     },
     "execution_count": 36,
     "metadata": {},
     "output_type": "execute_result"
    }
   ],
   "source": [
    "df['organization_true '].value_counts(normalize=True, dropna=False)"
   ]
  },
  {
   "cell_type": "code",
   "execution_count": 35,
   "metadata": {},
   "outputs": [
    {
     "data": {
      "text/plain": [
       "0    225\n",
       "1     25\n",
       "Name: org, dtype: int64"
      ]
     },
     "execution_count": 35,
     "metadata": {},
     "output_type": "execute_result"
    }
   ],
   "source": [
    "df['org'].value_counts(dropna=False)"
   ]
  },
  {
   "cell_type": "code",
   "execution_count": 39,
   "metadata": {},
   "outputs": [
    {
     "name": "stdout",
     "output_type": "stream",
     "text": [
      "(250, 15)\n",
      "(250, 15)\n",
      "(250, 15)\n"
     ]
    }
   ],
   "source": [
    "df1 = df\n",
    "print(df1.shape)\n",
    "df1 = df1.loc[df1['gender_true'] != 2]\n",
    "print(df1.shape)\n",
    "df1 = df1.loc[df1['age_true'] != 5]\n",
    "df1 = df1.reset_index(drop=True)\n",
    "print(df1.shape)"
   ]
  },
  {
   "cell_type": "code",
   "execution_count": 40,
   "metadata": {},
   "outputs": [
    {
     "name": "stdout",
     "output_type": "stream",
     "text": [
      "Precision, Recall, F1\n",
      "***Gender***\n"
     ]
    },
    {
     "data": {
      "text/plain": [
       "(0.6892177589852009, 0.689801426643532, 0.6879201075475322, None)"
      ]
     },
     "execution_count": 40,
     "metadata": {},
     "output_type": "execute_result"
    }
   ],
   "source": [
    "print('Precision, Recall, F1')\n",
    "print('***Gender***')\n",
    "precision_recall_fscore_support(df1['gender_true'], df1['gender'], average='macro')"
   ]
  },
  {
   "cell_type": "code",
   "execution_count": 41,
   "metadata": {},
   "outputs": [
    {
     "data": {
      "text/plain": [
       "(0.5977213696713503, 0.6103625541125541, 0.6001684775911158, None)"
      ]
     },
     "execution_count": 41,
     "metadata": {},
     "output_type": "execute_result"
    }
   ],
   "source": [
    "precision_recall_fscore_support(df1['age_true'], df1['age'], average='macro')"
   ]
  },
  {
   "cell_type": "code",
   "execution_count": 42,
   "metadata": {},
   "outputs": [
    {
     "data": {
      "text/plain": [
       "(0.9133333333333333, 0.9286504424778761, 0.9208108964206525, None)"
      ]
     },
     "execution_count": 42,
     "metadata": {},
     "output_type": "execute_result"
    }
   ],
   "source": [
    "precision_recall_fscore_support(df1['organization_true '], df1['org'], average='macro')"
   ]
  },
  {
   "cell_type": "code",
   "execution_count": 45,
   "metadata": {},
   "outputs": [],
   "source": [
    "df['age_true'] = df['age_true'].apply(assigning_random_unsure_age)\n",
    "df['gender_true'] = df['gender_true'].apply(assigning_random_unsure_gender)"
   ]
  },
  {
   "cell_type": "code",
   "execution_count": 46,
   "metadata": {},
   "outputs": [
    {
     "data": {
      "text/plain": [
       "(250, 15)"
      ]
     },
     "execution_count": 46,
     "metadata": {},
     "output_type": "execute_result"
    }
   ],
   "source": [
    "df.shape"
   ]
  },
  {
   "cell_type": "code",
   "execution_count": 47,
   "metadata": {},
   "outputs": [
    {
     "data": {
      "text/plain": [
       "(0.6892177589852009, 0.689801426643532, 0.6879201075475322, None)"
      ]
     },
     "execution_count": 47,
     "metadata": {},
     "output_type": "execute_result"
    }
   ],
   "source": [
    "precision_recall_fscore_support(df['gender_true'], df['gender'], average='macro')"
   ]
  },
  {
   "cell_type": "code",
   "execution_count": 48,
   "metadata": {},
   "outputs": [
    {
     "data": {
      "text/plain": [
       "(0.5977213696713503, 0.6103625541125541, 0.6001684775911158, None)"
      ]
     },
     "execution_count": 48,
     "metadata": {},
     "output_type": "execute_result"
    }
   ],
   "source": [
    "precision_recall_fscore_support(df['age_true'], df['age'], average='macro')"
   ]
  },
  {
   "cell_type": "code",
   "execution_count": 50,
   "metadata": {},
   "outputs": [
    {
     "data": {
      "text/plain": [
       "243"
      ]
     },
     "execution_count": 50,
     "metadata": {},
     "output_type": "execute_result"
    }
   ],
   "source": [
    "df.loc[(df['organization_true '] == df['org'])].shape[0]"
   ]
  },
  {
   "cell_type": "code",
   "execution_count": 51,
   "metadata": {},
   "outputs": [
    {
     "data": {
      "text/plain": [
       "243"
      ]
     },
     "execution_count": 51,
     "metadata": {},
     "output_type": "execute_result"
    }
   ],
   "source": [
    "df1.loc[(df1['organization_true '] == df1['org'])].shape[0] "
   ]
  },
  {
   "cell_type": "code",
   "execution_count": 52,
   "metadata": {},
   "outputs": [
    {
     "data": {
      "text/plain": [
       "(250, 15)"
      ]
     },
     "execution_count": 52,
     "metadata": {},
     "output_type": "execute_result"
    }
   ],
   "source": [
    "df1.shape"
   ]
  },
  {
   "cell_type": "code",
   "execution_count": 53,
   "metadata": {},
   "outputs": [
    {
     "data": {
      "text/html": [
       "<div>\n",
       "<style scoped>\n",
       "    .dataframe tbody tr th:only-of-type {\n",
       "        vertical-align: middle;\n",
       "    }\n",
       "\n",
       "    .dataframe tbody tr th {\n",
       "        vertical-align: top;\n",
       "    }\n",
       "\n",
       "    .dataframe thead th {\n",
       "        text-align: right;\n",
       "    }\n",
       "</style>\n",
       "<table border=\"1\" class=\"dataframe\">\n",
       "  <thead>\n",
       "    <tr style=\"text-align: right;\">\n",
       "      <th></th>\n",
       "      <th>user_id</th>\n",
       "      <th>name</th>\n",
       "      <th>screen_name</th>\n",
       "      <th>description</th>\n",
       "      <th>lang</th>\n",
       "      <th>img_path</th>\n",
       "      <th>gender</th>\n",
       "      <th>age</th>\n",
       "      <th>org</th>\n",
       "      <th>gender_true</th>\n",
       "      <th>age_true</th>\n",
       "      <th>organization_true</th>\n",
       "      <th>has_picture</th>\n",
       "      <th>default_picture</th>\n",
       "      <th>has_description</th>\n",
       "    </tr>\n",
       "  </thead>\n",
       "  <tbody>\n",
       "    <tr>\n",
       "      <th>0</th>\n",
       "      <td>10000742.0</td>\n",
       "      <td>pwnerast</td>\n",
       "      <td>pwnerast</td>\n",
       "      <td>Bastard-coated bastard with bastard filling.</td>\n",
       "      <td>en</td>\n",
       "      <td>/scratch/spf248/twitter/data/classification/US...</td>\n",
       "      <td>1</td>\n",
       "      <td>1</td>\n",
       "      <td>0</td>\n",
       "      <td>1</td>\n",
       "      <td>3</td>\n",
       "      <td>0</td>\n",
       "      <td>1</td>\n",
       "      <td>0</td>\n",
       "      <td>1</td>\n",
       "    </tr>\n",
       "    <tr>\n",
       "      <th>1</th>\n",
       "      <td>10021742.0</td>\n",
       "      <td>John V. Smith</td>\n",
       "      <td>JohnVSmith</td>\n",
       "      <td>Editor at Moody’s Analytics</td>\n",
       "      <td>en</td>\n",
       "      <td>/scratch/spf248/twitter/data/classification/US...</td>\n",
       "      <td>1</td>\n",
       "      <td>4</td>\n",
       "      <td>0</td>\n",
       "      <td>1</td>\n",
       "      <td>4</td>\n",
       "      <td>0</td>\n",
       "      <td>1</td>\n",
       "      <td>0</td>\n",
       "      <td>1</td>\n",
       "    </tr>\n",
       "    <tr>\n",
       "      <th>2</th>\n",
       "      <td>10030272.0</td>\n",
       "      <td>Sarah</td>\n",
       "      <td>SarahInMI</td>\n",
       "      <td>Princess of almost everything.</td>\n",
       "      <td>en</td>\n",
       "      <td>/scratch/spf248/twitter/data/classification/US...</td>\n",
       "      <td>0</td>\n",
       "      <td>3</td>\n",
       "      <td>0</td>\n",
       "      <td>1</td>\n",
       "      <td>3</td>\n",
       "      <td>0</td>\n",
       "      <td>1</td>\n",
       "      <td>0</td>\n",
       "      <td>1</td>\n",
       "    </tr>\n",
       "    <tr>\n",
       "      <th>3</th>\n",
       "      <td>100030291.0</td>\n",
       "      <td>لessica</td>\n",
       "      <td>Jessiphor</td>\n",
       "      <td>Verified Beliebers  My huge inspiration follow...</td>\n",
       "      <td>en</td>\n",
       "      <td>/scratch/spf248/twitter/data/classification/US...</td>\n",
       "      <td>0</td>\n",
       "      <td>2</td>\n",
       "      <td>0</td>\n",
       "      <td>1</td>\n",
       "      <td>2</td>\n",
       "      <td>0</td>\n",
       "      <td>1</td>\n",
       "      <td>0</td>\n",
       "      <td>1</td>\n",
       "    </tr>\n",
       "    <tr>\n",
       "      <th>4</th>\n",
       "      <td>100058276.0</td>\n",
       "      <td>Food Lover</td>\n",
       "      <td>FoodPornDiary</td>\n",
       "      <td>I take photos of food on my phone and post it....</td>\n",
       "      <td>en</td>\n",
       "      <td>/scratch/spf248/twitter/data/classification/US...</td>\n",
       "      <td>0</td>\n",
       "      <td>2</td>\n",
       "      <td>0</td>\n",
       "      <td>0</td>\n",
       "      <td>2</td>\n",
       "      <td>0</td>\n",
       "      <td>1</td>\n",
       "      <td>0</td>\n",
       "      <td>1</td>\n",
       "    </tr>\n",
       "  </tbody>\n",
       "</table>\n",
       "</div>"
      ],
      "text/plain": [
       "       user_id           name    screen_name  \\\n",
       "0   10000742.0       pwnerast       pwnerast   \n",
       "1   10021742.0  John V. Smith     JohnVSmith   \n",
       "2   10030272.0          Sarah      SarahInMI   \n",
       "3  100030291.0        لessica      Jessiphor   \n",
       "4  100058276.0     Food Lover  FoodPornDiary   \n",
       "\n",
       "                                         description lang  \\\n",
       "0       Bastard-coated bastard with bastard filling.   en   \n",
       "1                        Editor at Moody’s Analytics   en   \n",
       "2                     Princess of almost everything.   en   \n",
       "3  Verified Beliebers  My huge inspiration follow...   en   \n",
       "4  I take photos of food on my phone and post it....   en   \n",
       "\n",
       "                                            img_path  gender  age  org  \\\n",
       "0  /scratch/spf248/twitter/data/classification/US...       1    1    0   \n",
       "1  /scratch/spf248/twitter/data/classification/US...       1    4    0   \n",
       "2  /scratch/spf248/twitter/data/classification/US...       0    3    0   \n",
       "3  /scratch/spf248/twitter/data/classification/US...       0    2    0   \n",
       "4  /scratch/spf248/twitter/data/classification/US...       0    2    0   \n",
       "\n",
       "   gender_true  age_true  organization_true   has_picture  default_picture  \\\n",
       "0            1         3                   0            1                0   \n",
       "1            1         4                   0            1                0   \n",
       "2            1         3                   0            1                0   \n",
       "3            1         2                   0            1                0   \n",
       "4            0         2                   0            1                0   \n",
       "\n",
       "   has_description  \n",
       "0                1  \n",
       "1                1  \n",
       "2                1  \n",
       "3                1  \n",
       "4                1  "
      ]
     },
     "execution_count": 53,
     "metadata": {},
     "output_type": "execute_result"
    }
   ],
   "source": [
    "df1.head()"
   ]
  },
  {
   "cell_type": "markdown",
   "metadata": {},
   "source": [
    "# MX"
   ]
  },
  {
   "cell_type": "code",
   "execution_count": 82,
   "metadata": {},
   "outputs": [
    {
     "data": {
      "text/html": [
       "<div>\n",
       "<style scoped>\n",
       "    .dataframe tbody tr th:only-of-type {\n",
       "        vertical-align: middle;\n",
       "    }\n",
       "\n",
       "    .dataframe tbody tr th {\n",
       "        vertical-align: top;\n",
       "    }\n",
       "\n",
       "    .dataframe thead th {\n",
       "        text-align: right;\n",
       "    }\n",
       "</style>\n",
       "<table border=\"1\" class=\"dataframe\">\n",
       "  <thead>\n",
       "    <tr style=\"text-align: right;\">\n",
       "      <th></th>\n",
       "      <th>Unnamed: 0</th>\n",
       "      <th>id</th>\n",
       "      <th>name</th>\n",
       "      <th>screen_name</th>\n",
       "      <th>description</th>\n",
       "      <th>lang</th>\n",
       "      <th>img_path</th>\n",
       "      <th>gender_predicted</th>\n",
       "      <th>age_predicted</th>\n",
       "      <th>org_predicted</th>\n",
       "      <th>gender_true</th>\n",
       "      <th>age_true</th>\n",
       "      <th>org_true</th>\n",
       "      <th>default_picture</th>\n",
       "      <th>has_description</th>\n",
       "      <th>real_name</th>\n",
       "      <th>real_picture</th>\n",
       "      <th>bot</th>\n",
       "      <th>last_active</th>\n",
       "    </tr>\n",
       "  </thead>\n",
       "  <tbody>\n",
       "    <tr>\n",
       "      <th>0</th>\n",
       "      <td>0</td>\n",
       "      <td>1039988180714512387</td>\n",
       "      <td>Edgar Millán</td>\n",
       "      <td>edgarmusical</td>\n",
       "      <td>Cantante y músico   https://t.co/PPPQQrURCc  h...</td>\n",
       "      <td>es</td>\n",
       "      <td>/scratch/spf248/twitter/data/classification/MX...</td>\n",
       "      <td>male</td>\n",
       "      <td>30-39</td>\n",
       "      <td>non-org</td>\n",
       "      <td>1.0</td>\n",
       "      <td>4.0</td>\n",
       "      <td>0.0</td>\n",
       "      <td>1.0</td>\n",
       "      <td>1</td>\n",
       "      <td>1.0</td>\n",
       "      <td>1.0</td>\n",
       "      <td>NaN</td>\n",
       "      <td>2020</td>\n",
       "    </tr>\n",
       "    <tr>\n",
       "      <th>1</th>\n",
       "      <td>1</td>\n",
       "      <td>1025551358</td>\n",
       "      <td>Alejandra Acosta</td>\n",
       "      <td>aleeacostarios</td>\n",
       "      <td>LTS | Gerente Compras FGA MX</td>\n",
       "      <td>es</td>\n",
       "      <td>/scratch/spf248/twitter/data/classification/MX...</td>\n",
       "      <td>female</td>\n",
       "      <td>19-29</td>\n",
       "      <td>non-org</td>\n",
       "      <td>0.0</td>\n",
       "      <td>3.0</td>\n",
       "      <td>0.0</td>\n",
       "      <td>1.0</td>\n",
       "      <td>1</td>\n",
       "      <td>1.0</td>\n",
       "      <td>1.0</td>\n",
       "      <td>NaN</td>\n",
       "      <td>2020</td>\n",
       "    </tr>\n",
       "    <tr>\n",
       "      <th>2</th>\n",
       "      <td>2</td>\n",
       "      <td>1007265070961721344</td>\n",
       "      <td>Yajayra Isabel Rios Tafolla.</td>\n",
       "      <td>YajayraIsabel</td>\n",
       "      <td>NaN</td>\n",
       "      <td>es</td>\n",
       "      <td>/scratch/spf248/twitter/data/classification/MX...</td>\n",
       "      <td>female</td>\n",
       "      <td>19-29</td>\n",
       "      <td>non-org</td>\n",
       "      <td>0.0</td>\n",
       "      <td>5.0</td>\n",
       "      <td>0.0</td>\n",
       "      <td>1.0</td>\n",
       "      <td>0</td>\n",
       "      <td>1.0</td>\n",
       "      <td>0.0</td>\n",
       "      <td>NaN</td>\n",
       "      <td>2018</td>\n",
       "    </tr>\n",
       "    <tr>\n",
       "      <th>3</th>\n",
       "      <td>3</td>\n",
       "      <td>1005151027</td>\n",
       "      <td>Mycke Acevedo</td>\n",
       "      <td>donpuri49</td>\n",
       "      <td>NaN</td>\n",
       "      <td>es</td>\n",
       "      <td>/scratch/spf248/twitter/data/classification/MX...</td>\n",
       "      <td>male</td>\n",
       "      <td>19-29</td>\n",
       "      <td>non-org</td>\n",
       "      <td>1.0</td>\n",
       "      <td>2.0</td>\n",
       "      <td>0.0</td>\n",
       "      <td>1.0</td>\n",
       "      <td>0</td>\n",
       "      <td>1.0</td>\n",
       "      <td>1.0</td>\n",
       "      <td>NaN</td>\n",
       "      <td>2016</td>\n",
       "    </tr>\n",
       "    <tr>\n",
       "      <th>4</th>\n",
       "      <td>4</td>\n",
       "      <td>1018154064</td>\n",
       "      <td>DJ FUNNY DEAD</td>\n",
       "      <td>DJFUNNYDEAD</td>\n",
       "      <td>NaN</td>\n",
       "      <td>es</td>\n",
       "      <td>/scratch/spf248/twitter/data/classification/MX...</td>\n",
       "      <td>male</td>\n",
       "      <td>30-39</td>\n",
       "      <td>non-org</td>\n",
       "      <td>2.0</td>\n",
       "      <td>2.0</td>\n",
       "      <td>0.0</td>\n",
       "      <td>1.0</td>\n",
       "      <td>0</td>\n",
       "      <td>0.0</td>\n",
       "      <td>0.0</td>\n",
       "      <td>NaN</td>\n",
       "      <td>2012</td>\n",
       "    </tr>\n",
       "  </tbody>\n",
       "</table>\n",
       "</div>"
      ],
      "text/plain": [
       "   Unnamed: 0                   id                          name  \\\n",
       "0           0  1039988180714512387                  Edgar Millán   \n",
       "1           1           1025551358              Alejandra Acosta   \n",
       "2           2  1007265070961721344  Yajayra Isabel Rios Tafolla.   \n",
       "3           3           1005151027                 Mycke Acevedo   \n",
       "4           4           1018154064                 DJ FUNNY DEAD   \n",
       "\n",
       "      screen_name                                        description lang  \\\n",
       "0    edgarmusical  Cantante y músico   https://t.co/PPPQQrURCc  h...   es   \n",
       "1  aleeacostarios                       LTS | Gerente Compras FGA MX   es   \n",
       "2   YajayraIsabel                                                NaN   es   \n",
       "3       donpuri49                                                NaN   es   \n",
       "4     DJFUNNYDEAD                                                NaN   es   \n",
       "\n",
       "                                            img_path gender_predicted  \\\n",
       "0  /scratch/spf248/twitter/data/classification/MX...             male   \n",
       "1  /scratch/spf248/twitter/data/classification/MX...           female   \n",
       "2  /scratch/spf248/twitter/data/classification/MX...           female   \n",
       "3  /scratch/spf248/twitter/data/classification/MX...             male   \n",
       "4  /scratch/spf248/twitter/data/classification/MX...             male   \n",
       "\n",
       "  age_predicted org_predicted  gender_true  age_true  org_true  \\\n",
       "0         30-39       non-org          1.0       4.0       0.0   \n",
       "1         19-29       non-org          0.0       3.0       0.0   \n",
       "2         19-29       non-org          0.0       5.0       0.0   \n",
       "3         19-29       non-org          1.0       2.0       0.0   \n",
       "4         30-39       non-org          2.0       2.0       0.0   \n",
       "\n",
       "   default_picture  has_description  real_name  real_picture  bot last_active  \n",
       "0              1.0                1        1.0           1.0  NaN        2020  \n",
       "1              1.0                1        1.0           1.0  NaN        2020  \n",
       "2              1.0                0        1.0           0.0  NaN        2018  \n",
       "3              1.0                0        1.0           1.0  NaN        2016  \n",
       "4              1.0                0        0.0           0.0  NaN        2012  "
      ]
     },
     "execution_count": 82,
     "metadata": {},
     "output_type": "execute_result"
    }
   ],
   "source": [
    "df = pd.read_excel('/home/manuto/Downloads/data_MX_users/demographics_labelling_MX_AM.xlsx', index=False)\n",
    "df.head()"
   ]
  },
  {
   "cell_type": "code",
   "execution_count": 83,
   "metadata": {},
   "outputs": [],
   "source": [
    "#discard bots\n",
    "df = df.loc[df['bot'] != 1].reset_index(drop=True)"
   ]
  },
  {
   "cell_type": "code",
   "execution_count": 84,
   "metadata": {},
   "outputs": [],
   "source": [
    "df['gender_predicted'] = df['gender_predicted'].apply(turn_gender_to_nums)\n",
    "df['age_predicted'] = df['age_predicted'].apply(turn_age_to_nums)\n",
    "df['org_predicted'] = df['org_predicted'].apply(turn_org_to_nums)\n",
    "df['has_description'] = df['has_description'].apply(fix_has_description)"
   ]
  },
  {
   "cell_type": "code",
   "execution_count": 85,
   "metadata": {},
   "outputs": [
    {
     "data": {
      "text/plain": [
       "2020                 31\n",
       "2019                 15\n",
       "2018                 15\n",
       "2013                 13\n",
       "2014                  3\n",
       "2012                  3\n",
       "2016                  3\n",
       "Account Protected     2\n",
       "2015                  2\n",
       "deleted               1\n",
       "Name: last_active, dtype: int64"
      ]
     },
     "execution_count": 85,
     "metadata": {},
     "output_type": "execute_result"
    }
   ],
   "source": [
    "df['last_active'].value_counts(dropna=False)"
   ]
  },
  {
   "cell_type": "code",
   "execution_count": 86,
   "metadata": {},
   "outputs": [
    {
     "data": {
      "text/plain": [
       "(88, 19)"
      ]
     },
     "execution_count": 86,
     "metadata": {},
     "output_type": "execute_result"
    }
   ],
   "source": [
    "df.shape"
   ]
  },
  {
   "cell_type": "code",
   "execution_count": 87,
   "metadata": {},
   "outputs": [
    {
     "data": {
      "text/plain": [
       "NaN    88\n",
       "Name: bot, dtype: int64"
      ]
     },
     "execution_count": 87,
     "metadata": {},
     "output_type": "execute_result"
    }
   ],
   "source": [
    "df['bot'].value_counts(dropna=False)"
   ]
  },
  {
   "cell_type": "code",
   "execution_count": 15,
   "metadata": {},
   "outputs": [],
   "source": [
    "#discard bots\n",
    "df = df.loc[df['bot'] != 1].reset_index(drop=True)"
   ]
  },
  {
   "cell_type": "markdown",
   "metadata": {},
   "source": [
    "## Org"
   ]
  },
  {
   "cell_type": "code",
   "execution_count": 89,
   "metadata": {},
   "outputs": [
    {
     "data": {
      "text/plain": [
       "0.0    0.965909\n",
       "1.0    0.034091\n",
       "Name: org_true, dtype: float64"
      ]
     },
     "execution_count": 89,
     "metadata": {},
     "output_type": "execute_result"
    }
   ],
   "source": [
    "df['org_true'].value_counts(dropna=False, normalize=True)"
   ]
  },
  {
   "cell_type": "code",
   "execution_count": null,
   "metadata": {},
   "outputs": [],
   "source": [
    "precision_recall_fscore_support(df['org_true'], df['org_predicted'],average='macro')"
   ]
  },
  {
   "cell_type": "markdown",
   "metadata": {},
   "source": [
    "## Gender"
   ]
  },
  {
   "cell_type": "code",
   "execution_count": 19,
   "metadata": {},
   "outputs": [
    {
     "data": {
      "text/plain": [
       "(85, 19)"
      ]
     },
     "execution_count": 19,
     "metadata": {},
     "output_type": "execute_result"
    }
   ],
   "source": [
    "df1 = df.loc[df['org_true'] == 0].reset_index(drop=True)\n",
    "df1.shape"
   ]
  },
  {
   "cell_type": "code",
   "execution_count": 90,
   "metadata": {},
   "outputs": [
    {
     "data": {
      "text/plain": [
       "0    0.529703\n",
       "1    0.435644\n",
       "2    0.034653\n",
       "Name: gender_true, dtype: float64"
      ]
     },
     "execution_count": 90,
     "metadata": {},
     "output_type": "execute_result"
    }
   ],
   "source": [
    "df1['gender_true'].value_counts(dropna=False, normalize=True)"
   ]
  },
  {
   "cell_type": "code",
   "execution_count": 91,
   "metadata": {},
   "outputs": [
    {
     "data": {
      "text/plain": [
       "2    0.316832\n",
       "5    0.207921\n",
       "3    0.188119\n",
       "1    0.168317\n",
       "4    0.118812\n",
       "Name: age_true, dtype: float64"
      ]
     },
     "execution_count": 91,
     "metadata": {},
     "output_type": "execute_result"
    }
   ],
   "source": [
    "df1['age_true'].value_counts(dropna=False, normalize=True)"
   ]
  },
  {
   "cell_type": "code",
   "execution_count": 21,
   "metadata": {},
   "outputs": [
    {
     "data": {
      "text/plain": [
       "1.0    0.705882\n",
       "0.0    0.294118\n",
       "Name: real_name, dtype: float64"
      ]
     },
     "execution_count": 21,
     "metadata": {},
     "output_type": "execute_result"
    }
   ],
   "source": [
    "df1['real_name'].value_counts(dropna=False, normalize=True)"
   ]
  },
  {
   "cell_type": "code",
   "execution_count": 22,
   "metadata": {},
   "outputs": [
    {
     "data": {
      "text/plain": [
       "1.0    0.764706\n",
       "0.0    0.235294\n",
       "Name: real_picture, dtype: float64"
      ]
     },
     "execution_count": 22,
     "metadata": {},
     "output_type": "execute_result"
    }
   ],
   "source": [
    "df1['real_picture'].value_counts(dropna=False, normalize=True)"
   ]
  },
  {
   "cell_type": "code",
   "execution_count": 25,
   "metadata": {},
   "outputs": [
    {
     "data": {
      "text/plain": [
       "(85, 19)"
      ]
     },
     "execution_count": 25,
     "metadata": {},
     "output_type": "execute_result"
    }
   ],
   "source": [
    "df1.shape"
   ]
  },
  {
   "cell_type": "code",
   "execution_count": 23,
   "metadata": {},
   "outputs": [
    {
     "data": {
      "text/plain": [
       "(80,)"
      ]
     },
     "execution_count": 23,
     "metadata": {},
     "output_type": "execute_result"
    }
   ],
   "source": [
    "df2 = df1.loc[df1['gender_true']!=2].reset_index(drop=True)\n",
    "df2['gender_true'].shape"
   ]
  },
  {
   "cell_type": "code",
   "execution_count": 27,
   "metadata": {},
   "outputs": [
    {
     "name": "stderr",
     "output_type": "stream",
     "text": [
      "/home/manuto/.local/lib/python3.8/site-packages/sklearn/metrics/_classification.py:1221: UndefinedMetricWarning: Precision and F-score are ill-defined and being set to 0.0 in labels with no predicted samples. Use `zero_division` parameter to control this behavior.\n",
      "  _warn_prf(average, modifier, msg_start, len(result))\n"
     ]
    },
    {
     "data": {
      "text/plain": [
       "(0.6119733924611973, 0.65, 0.630217519106408, None)"
      ]
     },
     "execution_count": 27,
     "metadata": {},
     "output_type": "execute_result"
    }
   ],
   "source": [
    "precision_recall_fscore_support(df1['gender_true'], df1['gender_predicted'], average='macro')"
   ]
  },
  {
   "cell_type": "code",
   "execution_count": 28,
   "metadata": {},
   "outputs": [
    {
     "data": {
      "text/plain": [
       "(0.9761904761904762, 0.975, 0.9749843652282677, None)"
      ]
     },
     "execution_count": 28,
     "metadata": {},
     "output_type": "execute_result"
    }
   ],
   "source": [
    "precision_recall_fscore_support(df2['gender_true'], df2['gender_predicted'], average='macro')"
   ]
  },
  {
   "cell_type": "markdown",
   "metadata": {},
   "source": [
    "## Age"
   ]
  },
  {
   "cell_type": "code",
   "execution_count": 26,
   "metadata": {},
   "outputs": [
    {
     "data": {
      "text/plain": [
       "(69, 19)"
      ]
     },
     "execution_count": 26,
     "metadata": {},
     "output_type": "execute_result"
    }
   ],
   "source": [
    "df3 = df1.loc[df1['age_true']!=5].reset_index(drop=True)\n",
    "df3.shape"
   ]
  },
  {
   "cell_type": "code",
   "execution_count": 29,
   "metadata": {},
   "outputs": [
    {
     "data": {
      "text/plain": [
       "(0.28199966968082907, 0.3952601201771031, 0.31731540064873404, None)"
      ]
     },
     "execution_count": 29,
     "metadata": {},
     "output_type": "execute_result"
    }
   ],
   "source": [
    "precision_recall_fscore_support(df1['age_true'], df1['age_predicted'], average='macro')"
   ]
  },
  {
   "cell_type": "code",
   "execution_count": null,
   "metadata": {},
   "outputs": [],
   "source": []
  }
 ],
 "metadata": {
  "kernelspec": {
   "display_name": "Python 3",
   "language": "python",
   "name": "python3"
  },
  "language_info": {
   "codemirror_mode": {
    "name": "ipython",
    "version": 3
   },
   "file_extension": ".py",
   "mimetype": "text/x-python",
   "name": "python",
   "nbconvert_exporter": "python",
   "pygments_lexer": "ipython3",
   "version": "3.8.5"
  }
 },
 "nbformat": 4,
 "nbformat_minor": 4
}
