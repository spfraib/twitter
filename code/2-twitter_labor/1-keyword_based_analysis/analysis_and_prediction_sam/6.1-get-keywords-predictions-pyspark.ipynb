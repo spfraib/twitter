{
 "cells": [
  {
   "cell_type": "code",
   "execution_count": 1,
   "metadata": {},
   "outputs": [],
   "source": [
    "import os\n",
    "import socket\n",
    "from timeit import default_timer as timer\n",
    "from pyspark.sql import SparkSession\n",
    "import pyspark.sql.functions as F\n",
    "try:\n",
    "    spark\n",
    "except NameError:\n",
    "    spark = SparkSession.builder.appName(\"\").getOrCreate()"
   ]
  },
  {
   "cell_type": "code",
   "execution_count": 5,
   "metadata": {},
   "outputs": [
    {
     "name": "stdout",
     "output_type": "stream",
     "text": [
      "Country: US\n",
      "Language: en\n"
     ]
    }
   ],
   "source": [
    "country_code=\"US\"\n",
    "language_code=\"en\"\n",
    "print('Country:',country_code)\n",
    "print('Language:',language_code)\n",
    "labels = ['loss', 'unemployed', 'search', 'hire', 'offer']\n",
    "path_to_data = '/user/spf248/twitter/data'\n",
    "path_to_keywords = os.path.join(path_to_data,'keywords','labor',country_code)\n",
    "path_to_predictions = os.path.join(path_to_data,'classification',country_code,'keywords')"
   ]
  },
  {
   "cell_type": "code",
   "execution_count": null,
   "metadata": {},
   "outputs": [],
   "source": [
    "hadoop = spark.sparkContext._jvm.org.apache.hadoop\n",
    "fs = hadoop.fs.FileSystem\n",
    "conf = hadoop.conf.Configuration() \n",
    "timeline_paths = hadoop.fs.Path(os.path.join(path_to_data,'timelines','*','extract',country_code,'*','*','*.snappy.orc'))\n",
    "timeline_paths = [ str(f.getPath()).replace('hdfs://dumbo','') for f in fs.get(conf).globStatus(timeline_paths) ]\n",
    "print('Files:', len(timeline_paths))"
   ]
  },
  {
   "cell_type": "code",
   "execution_count": null,
   "metadata": {},
   "outputs": [],
   "source": [
    "df=spark.read.orc(timeline_paths)\n",
    "df=df.drop_duplicates(subset=['tweet_id'])\n",
    "df=df.where(df.tweet_lang==language_code)\n",
    "df=df.where(~df.text.contains('RT @'))\n",
    "df=df.withColumn('text',F.lower(F.col('text')))\n",
    "df=df.withColumn('year',F.year('created_at').cast(\"string\"))\n",
    "df=df.withColumn('month',F.month('created_at').cast(\"string\"))\n",
    "print('Tweets:',df.count())\n",
    "print('Users:',df.select('user_id').distinct().count())"
   ]
  },
  {
   "cell_type": "code",
   "execution_count": null,
   "metadata": {},
   "outputs": [],
   "source": [
    "for label in labels:\n",
    "    targets=sorted(set(spark.read.csv(os.path.join(path_to_keywords,country_code+'-'+label+'.txt')).toPandas()['_c0']))\n",
    "    regex=\"|\".join([\"(\" + target.lower() + \")\" for target in targets])\n",
    "    df=df.withColumn(label,F.col('text').rlike(regex).cast(\"int\"))\n",
    "df=df.drop(*['text','tweet_lang','place_id','tweet_longitude','tweet_latitude'])"
   ]
  },
  {
   "cell_type": "code",
   "execution_count": null,
   "metadata": {},
   "outputs": [],
   "source": [
    "start = timer()\n",
    "df.write.partitionBy(\"year\", \"month\").mode(\"overwrite\").format(\"orc\").save(path_to_predictions)\n",
    "end = timer()\n",
    "print('DONE IN', round(end - start), 'SEC')"
   ]
  }
 ],
 "metadata": {
  "kernelspec": {
   "display_name": "Python 3",
   "language": "python",
   "name": "python3"
  },
  "language_info": {
   "codemirror_mode": {
    "name": "ipython",
    "version": 3
   },
   "file_extension": ".py",
   "mimetype": "text/x-python",
   "name": "python",
   "nbconvert_exporter": "python",
   "pygments_lexer": "ipython3",
   "version": "3.7.7"
  }
 },
 "nbformat": 4,
 "nbformat_minor": 4
}
