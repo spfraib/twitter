{
 "cells": [
  {
   "cell_type": "code",
   "execution_count": 1,
   "metadata": {},
   "outputs": [],
   "source": [
    "import pandas as pd\n",
    "import numpy as np\n",
    "from time import time\n",
    "import re\n",
    "import string\n",
    "import socket\n",
    "from glob import glob\n",
    "import os\n",
    "import pyarrow.parquet as pq\n",
    "import matplotlib.pyplot as plt\n",
    "from timeit import default_timer as timer\n",
    "import seaborn as sns"
   ]
  },
  {
   "cell_type": "code",
   "execution_count": 2,
   "metadata": {},
   "outputs": [
    {
     "name": "stdout",
     "output_type": "stream",
     "text": [
      "Country: US\n",
      "Hostname: Samuels-MBP.home\n",
      "Path to data: ../../data\n"
     ]
    }
   ],
   "source": [
    "country_code = \"US\"\n",
    "print('Country:', country_code)\n",
    "\n",
    "print('Hostname:', socket.gethostname())\n",
    "if 'samuel' in socket.gethostname().lower():\n",
    "    path_to_data='../../data'\n",
    "else:\n",
    "    path_to_data='/scratch/spf248/twitter/data'\n",
    "print('Path to data:',path_to_data) \n",
    "\n",
    "iterations=range(2)\n",
    "labels=['is_hired_1mo', 'is_unemployed', 'job_offer', 'job_search', 'lost_job_1mo']\n",
    "models=['GLOVE','BERT']"
   ]
  },
  {
   "cell_type": "code",
   "execution_count": 3,
   "metadata": {},
   "outputs": [
    {
     "name": "stdout",
     "output_type": "stream",
     "text": [
      "Extract labeled tweets:\n",
      "\n",
      "# labeled tweets: 13620\n"
     ]
    }
   ],
   "source": [
    "print('Extract labeled tweets:\\n')\n",
    "labeled_tweets=pd.read_pickle(os.path.join(path_to_data,'classification',country_code,'labeling','labels.pkl'))\n",
    "print('# labeled tweets:', labeled_tweets.shape[0])"
   ]
  },
  {
   "cell_type": "code",
   "execution_count": 4,
   "metadata": {},
   "outputs": [
    {
     "name": "stdout",
     "output_type": "stream",
     "text": [
      "Extension error: ../../data/classification/US/labeling/0/sampled/training/_SUCCESS\n",
      "# training tweets: 11724\n"
     ]
    }
   ],
   "source": [
    "training_files=glob(os.path.join(path_to_data,'classification',country_code,'labeling','*','sampled','training','*'))\n",
    "training_tweets=pd.DataFrame()\n",
    "for training_file in training_files:\n",
    "    if '.pkl' in training_file:\n",
    "        tmp=pd.read_pickle(training_file)\n",
    "    elif '.parquet' in training_file:\n",
    "        tmp=pd.read_parquet(training_file)\n",
    "    else:\n",
    "        print('Extension error:', training_file)\n",
    "    tmp.tweet_id=tmp.tweet_id.astype(str)\n",
    "    training_tweets=pd.concat([training_tweets,tmp])\n",
    "training_tweets=training_tweets.drop_duplicates('tweet_id')[['tweet_id','text']]\n",
    "print('# training tweets:', training_tweets.shape[0])"
   ]
  },
  {
   "cell_type": "code",
   "execution_count": 5,
   "metadata": {},
   "outputs": [
    {
     "name": "stdout",
     "output_type": "stream",
     "text": [
      "\n",
      "********* Iteration: 0 *********\n",
      "\n",
      "****** Model: GLOVE ******\n",
      "*** Label: is_hired_1mo ***\n",
      "# Tweets: 84\n",
      "*** Label: is_unemployed ***\n",
      "# Tweets: 95\n",
      "*** Label: job_offer ***\n",
      "# Tweets: 97\n",
      "*** Label: job_search ***\n",
      "# Tweets: 88\n",
      "*** Label: lost_job_1mo ***\n",
      "# Tweets: 92\n",
      "\n",
      "****** Model: BERT ******\n",
      "*** Label: is_hired_1mo ***\n",
      "# Tweets: 91\n",
      "*** Label: is_unemployed ***\n",
      "# Tweets: 89\n",
      "*** Label: job_offer ***\n",
      "# Tweets: 96\n",
      "*** Label: job_search ***\n",
      "# Tweets: 92\n",
      "*** Label: lost_job_1mo ***\n",
      "# Tweets: 91\n",
      "\n",
      "********* Iteration: 1 *********\n",
      "\n",
      "****** Model: GLOVE ******\n",
      "*** Label: is_hired_1mo ***\n",
      ">>>CHECK INPUT FILES<<<\n",
      "*** Label: is_unemployed ***\n",
      ">>>CHECK INPUT FILES<<<\n",
      "*** Label: job_offer ***\n",
      ">>>CHECK INPUT FILES<<<\n",
      "*** Label: job_search ***\n",
      ">>>CHECK INPUT FILES<<<\n",
      "*** Label: lost_job_1mo ***\n",
      ">>>CHECK INPUT FILES<<<\n",
      "\n",
      "****** Model: BERT ******\n",
      "*** Label: is_hired_1mo ***\n",
      "# Tweets: 70\n",
      "*** Label: is_unemployed ***\n",
      "# Tweets: 82\n",
      "*** Label: job_offer ***\n",
      "# Tweets: 95\n",
      "*** Label: job_search ***\n",
      "# Tweets: 92\n",
      "*** Label: lost_job_1mo ***\n",
      "# Tweets: 75\n"
     ]
    }
   ],
   "source": [
    "sample_files=glob(os.path.join(path_to_data,'classification',country_code,'labeling','*','sampled','evalproc','*'))\n",
    "precisions=[]\n",
    "for iteration in iterations:\n",
    "    print()\n",
    "    print('********* Iteration:',iteration,'*********')\n",
    "    for model in models:\n",
    "        print()\n",
    "        print('****** Model:',model,'******')\n",
    "        for label in labels:\n",
    "            print('*** Label:',label,'***')\n",
    "            f_tmp=[f for f in sample_files if label in f and model.lower() in f.lower() and 'it'+str(iteration) in f]\n",
    "            if len(f_tmp)!=1:\n",
    "                print('>>>CHECK INPUT FILES<<<')\n",
    "            else:\n",
    "                tmp=pd.read_pickle(f_tmp[0])[['tweet_id','text']]\n",
    "                tmp.tweet_id=tmp.tweet_id.astype(str)\n",
    "                tmp=tmp.merge(labeled_tweets[['tweet_id',label]],on='tweet_id')\n",
    "                tmp=tmp.drop_duplicates('tweet_id')\n",
    "                tmp=tmp[-tmp.tweet_id.isin(training_tweets.tweet_id)].copy()\n",
    "                tmp[label]=tmp[label].apply(lambda x:{'yes':1,'no':0,'unsure':np.nan}[x])\n",
    "                tmp.dropna(inplace=True)\n",
    "                tmp.reset_index(drop=True,inplace=True)\n",
    "                tmp.to_csv(os.path.join(path_to_data,'classification',country_code,'labeling',str(iteration),'labeled','evalproc','labels_iteration_'+str(iteration)+'_'+model+'_'+label+'.csv'),index=False)\n",
    "                print('# Tweets:', tmp.shape[0])\n",
    "                precisions.append([iteration,model,label,tmp[label].mean()])\n",
    "precisions=pd.DataFrame(precisions,columns=['Iteration','Model','Label','Precision'])"
   ]
  },
  {
   "cell_type": "code",
   "execution_count": 14,
   "metadata": {},
   "outputs": [
    {
     "name": "stdout",
     "output_type": "stream",
     "text": [
      "\n",
      "********* Iteration: 0 *********\n",
      "\n",
      "****** Model: GLOVE ******\n",
      "*** Label: is_hired_1mo ***\n",
      "*** Label: is_unemployed ***\n",
      "*** Label: job_offer ***\n",
      "*** Label: job_search ***\n",
      "*** Label: lost_job_1mo ***\n",
      "\n",
      "****** Model: BERT ******\n",
      "*** Label: is_hired_1mo ***\n",
      "*** Label: is_unemployed ***\n",
      "*** Label: job_offer ***\n",
      "*** Label: job_search ***\n",
      "*** Label: lost_job_1mo ***\n",
      "\n",
      "********* Iteration: 1 *********\n",
      "\n",
      "****** Model: GLOVE ******\n",
      "*** Label: is_hired_1mo ***\n",
      "*** Label: is_unemployed ***\n",
      "*** Label: job_offer ***\n",
      "*** Label: job_search ***\n",
      "*** Label: lost_job_1mo ***\n",
      "\n",
      "****** Model: BERT ******\n",
      "*** Label: is_hired_1mo ***\n",
      "*** Label: is_unemployed ***\n",
      "*** Label: job_offer ***\n",
      "*** Label: job_search ***\n",
      "*** Label: lost_job_1mo ***\n"
     ]
    }
   ],
   "source": [
    "labeled_files=glob(os.path.join(path_to_data,'classification',country_code,'labeling','*','labeled','evalproc','*'))\n",
    "precisions=[]\n",
    "for iteration in iterations:\n",
    "    print()\n",
    "    print('********* Iteration:',iteration,'*********')\n",
    "    for model in models:\n",
    "        print()\n",
    "        print('****** Model:',model,'******')\n",
    "        for label in labels:\n",
    "            print('*** Label:',label,'***')\n",
    "            f_tmp=[f for f in labeled_files if label in f and model.lower() in f.lower() and str(iteration)+'_' in f]\n",
    "            if len(f_tmp)!=1:\n",
    "                print('>>>CHECK INPUT FILES<<<')\n",
    "            tmp=pd.read_csv(f_tmp[0])\n",
    "            precisions.append([iteration,model,label,tmp[label].mean()])\n",
    "precisions=pd.DataFrame(precisions,columns=['Iteration','Model','Label','Precision'])\n",
    "precisions.to_csv(os.path.join(path_to_data,'classification',country_code,'precision_high_scored_tweets.csv'))"
   ]
  },
  {
   "cell_type": "code",
   "execution_count": 12,
   "metadata": {},
   "outputs": [
    {
     "data": {
      "text/plain": [
       "<seaborn.axisgrid.FacetGrid at 0x7f9194a793d0>"
      ]
     },
     "execution_count": 12,
     "metadata": {},
     "output_type": "execute_result"
    },
    {
     "data": {
      "image/png": "[encoded data removed]",
      "text/plain": [
       "<Figure size 933.625x432 with 2 Axes>"
      ]
     },
     "metadata": {
      "needs_background": "light"
     },
     "output_type": "display_data"
    }
   ],
   "source": [
    "g=sns.catplot(\n",
    "x=\"Label\", \n",
    "y=\"Precision\",\n",
    "hue=\"Model\",\n",
    "col=\"Iteration\",\n",
    "data=precisions, \n",
    "kind=\"bar\",\n",
    "saturation=.5,\n",
    "height=6, \n",
    "aspect=1,\n",
    "palette=\"coolwarm\",\n",
    "edgecolor='k');\n",
    "g.set_axis_labels(\"\", \"Precision on high-scored tweets\").despine(bottom=True)\n",
    "plt.savefig(os.path.join(path_to_data,'../fig','precision_top_tweets_random_sample.pdf'),bbox_inches='tight')"
   ]
  }
 ],
 "metadata": {
  "kernelspec": {
   "display_name": "Python 3",
   "language": "python",
   "name": "python3"
  },
  "language_info": {
   "codemirror_mode": {
    "name": "ipython",
    "version": 3
   },
   "file_extension": ".py",
   "mimetype": "text/x-python",
   "name": "python",
   "nbconvert_exporter": "python",
   "pygments_lexer": "ipython3",
   "version": "3.7.7"
  }
 },
 "nbformat": 4,
 "nbformat_minor": 4
}
