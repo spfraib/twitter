{
 "cells": [
  {
   "cell_type": "code",
   "execution_count": 1,
   "metadata": {
    "code_folding": [],
    "scrolled": false
   },
   "outputs": [
    {
     "name": "stdout",
     "output_type": "stream",
     "text": [
      "03/06/2020 21:04:41 - INFO - root -   {'run_text': 'multilabel toxic comments with freezable layers', 'train_size': -1, 'val_size': -1, 'log_path': PosixPath('/scratch/da2734/twitter/mturk_mar6/log'), 'full_data_dir': PosixPath('/scratch/da2734/twitter/mturk_mar6/data'), 'data_dir': PosixPath('/scratch/da2734/twitter/mturk_mar6/data'), 'task_name': 'intent', 'no_cuda': False, 'output_dir': PosixPath('/scratch/da2734/twitter/mturk_mar6/output_100'), 'max_seq_length': 512, 'do_train': True, 'do_eval': True, 'do_lower_case': True, 'train_batch_size': 8, 'eval_batch_size': 16, 'learning_rate': 5e-05, 'num_train_epochs': 10, 'warmup_proportion': 0.0, 'local_rank': -1, 'seed': 42, 'gradient_accumulation_steps': 1, 'optimize_on_cpu': False, 'fp16': False, 'fp16_opt_level': 'O1', 'weight_decay': 0.0, 'adam_epsilon': 1e-08, 'max_grad_norm': 1.0, 'max_steps': -1, 'warmup_steps': 500, 'logging_steps': 50, 'eval_all_checkpoints': True, 'overwrite_output_dir': True, 'overwrite_cache': False, 'loss_scale': 128, 'model_name': 'bert-base-uncased', 'model_type': 'bert'}\n"
     ]
    },
    {
     "name": "stderr",
     "output_type": "stream",
     "text": [
      "/home/da2734/miniconda3/envs/worldbank/lib/python3.7/site-packages/ipykernel_launcher.py:29: FutureWarning: Passing a negative integer is deprecated in version 1.0 and will not be supported in future version. Instead, use None to not limit the column width.\n"
     ]
    },
    {
     "name": "stdout",
     "output_type": "stream",
     "text": [
      "03/06/2020 21:04:42 - INFO - transformers.tokenization_utils -   loading file https://s3.amazonaws.com/models.huggingface.co/bert/bert-base-uncased-vocab.txt from cache at /home/da2734/.cache/torch/transformers/26bc1ad6c0ac742e9b52263248f6d0f00068293b33709fae12320c0e35ccfbbb.542ce4285a40d23a559526243235df47c5f75c197f04f37d1a0c124c32c9a084\n",
      "03/06/2020 21:04:42 - INFO - root -   Loading features from cached file /scratch/da2734/twitter/mturk_mar6/data/cache/cached_bert_train_multi_label_512_train.csv\n",
      "03/06/2020 21:04:42 - INFO - root -   Loading features from cached file /scratch/da2734/twitter/mturk_mar6/data/cache/cached_bert_dev_multi_label_512_val.csv\n",
      "num_labels 5\n",
      "time taken to load all this stuff: 217.17217087745667\n"
     ]
    }
   ],
   "source": [
    "#gets all this setup\n",
    "import time\n",
    "start_time = time.time()\n",
    "\n",
    "from transformers import BertTokenizer\n",
    "from pathlib import Path\n",
    "import torch\n",
    "\n",
    "from box import Box\n",
    "import pandas as pd\n",
    "import collections\n",
    "import os\n",
    "from tqdm import tqdm, trange\n",
    "import sys\n",
    "import random\n",
    "import numpy as np\n",
    "# import apex\n",
    "from sklearn.model_selection import train_test_split\n",
    "\n",
    "import datetime\n",
    "\n",
    "from fast_bert.modeling import BertForMultiLabelSequenceClassification\n",
    "from fast_bert.data_cls import BertDataBunch, InputExample, InputFeatures, MultiLabelTextProcessor, convert_examples_to_features\n",
    "from fast_bert.learner_cls import BertLearner\n",
    "from fast_bert.metrics import *\n",
    "\n",
    "torch.cuda.empty_cache()\n",
    "\n",
    "pd.set_option('display.max_colwidth', -1)\n",
    "run_start_time = datetime.datetime.today().strftime('%Y-%m-%d_%H-%M-%S')\n",
    "\n",
    "LOG_PATH=Path('/scratch/da2734/twitter/mturk_mar6/log/')\n",
    "DATA_PATH=Path('/scratch/da2734/twitter/mturk_mar6/data')\n",
    "LABEL_PATH=Path('/scratch/da2734/twitter/mturk_mar6/data/')\n",
    "OUTPUT_PATH=Path('/scratch/da2734/twitter/mturk_mar6/output_100')\n",
    "FINETUNED_PATH = None\n",
    "\n",
    "args = Box({\n",
    "    \"run_text\": \"multilabel toxic comments with freezable layers\",\n",
    "    \"train_size\": -1,\n",
    "    \"val_size\": -1,\n",
    "    \"log_path\": LOG_PATH,\n",
    "    \"full_data_dir\": DATA_PATH,\n",
    "    \"data_dir\": DATA_PATH,\n",
    "    \"task_name\": \"labor_market_classification\",\n",
    "    \"no_cuda\": False,\n",
    "#     \"bert_model\": BERT_PRETRAINED_PATH,\n",
    "    \"output_dir\": OUTPUT_PATH,\n",
    "    \"max_seq_length\": 512,\n",
    "    \"do_train\": True,\n",
    "    \"do_eval\": True,\n",
    "    \"do_lower_case\": True,\n",
    "    \"train_batch_size\": 8,\n",
    "    \"eval_batch_size\": 16,\n",
    "    \"learning_rate\": 5e-5,\n",
    "    \"num_train_epochs\": 10,\n",
    "    \"warmup_proportion\": 0.0,\n",
    "    \"no_cuda\": False,\n",
    "    \"local_rank\": -1,\n",
    "    \"seed\": 42,\n",
    "    \"gradient_accumulation_steps\": 1,\n",
    "    \"optimize_on_cpu\": False,\n",
    "    \"fp16\": False,\n",
    "    \"fp16_opt_level\": \"O1\",\n",
    "    \"weight_decay\": 0.0,\n",
    "    \"adam_epsilon\": 1e-8,\n",
    "    \"max_grad_norm\": 1.0,\n",
    "    \"max_steps\": -1,\n",
    "    \"warmup_steps\": 500,\n",
    "    \"logging_steps\": 50,\n",
    "    \"eval_all_checkpoints\": True,\n",
    "    \"overwrite_output_dir\": True,\n",
    "    \"overwrite_cache\": False,\n",
    "    \"seed\": 42,\n",
    "    \"loss_scale\": 128,\n",
    "    \"task_name\": 'intent',\n",
    "    \"model_name\": 'bert-base-uncased',\n",
    "    \"model_type\": 'bert'\n",
    "})\n",
    "\n",
    "import logging\n",
    "\n",
    "logfile = str(LOG_PATH/'log-{}-{}.txt'.format(run_start_time, args[\"run_text\"]))\n",
    "\n",
    "logging.basicConfig(\n",
    "    level=logging.INFO,\n",
    "    format='%(asctime)s - %(levelname)s - %(name)s -   %(message)s',\n",
    "    datefmt='%m/%d/%Y %H:%M:%S',\n",
    "    handlers=[\n",
    "        logging.FileHandler(logfile),\n",
    "        logging.StreamHandler(sys.stdout)\n",
    "    ])\n",
    "\n",
    "logger = logging.getLogger()\n",
    "\n",
    "logger.info(args)\n",
    "\n",
    "device = torch.device('cuda')\n",
    "if torch.cuda.device_count() > 1:\n",
    "    args.multi_gpu = True\n",
    "else:\n",
    "    args.multi_gpu = False\n",
    "\n",
    "# label_cols = [\"job_loss\",\"is_unemployed\",\"job_search\",\"is_hired\",\"job_offer\"]\n",
    "label_cols = [\"is_unemployed\", \"lost_job_1mo\", \"job_search\",\"is_hired_1mo\",\"job_offer\"]\n",
    "\n",
    "databunch = BertDataBunch(\n",
    "                        args['data_dir'], \n",
    "                        LABEL_PATH, \n",
    "                        args.model_name, \n",
    "                        train_file='train.csv', \n",
    "                        val_file='val.csv',\n",
    "                        # test_data='test.csv',\n",
    "                        text_col=\"text\", #this is the name of the column in the train file that containts the tweet text\n",
    "                        label_col=label_cols,\n",
    "                        batch_size_per_gpu=args['train_batch_size'], \n",
    "                        max_seq_length=args['max_seq_length'], \n",
    "                        multi_gpu=args.multi_gpu, \n",
    "                        multi_label=True, \n",
    "                        model_type=args.model_type)\n",
    "\n",
    "num_labels = len(databunch.labels)\n",
    "print('num_labels', num_labels)\n",
    "\n",
    "\n",
    "print('time taken to load all this stuff:', str(time.time() - start_time), 'seconds')"
   ]
  },
  {
   "cell_type": "code",
   "execution_count": 2,
   "metadata": {},
   "outputs": [
    {
     "data": {
      "text/plain": [
       "tensor([1., 0., 0., 0., 0.])"
      ]
     },
     "execution_count": 2,
     "metadata": {},
     "output_type": "execute_result"
    }
   ],
   "source": [
    "databunch.train_dl.dataset[2][3] # this train_dlgives us the training dataset for example 2's labels"
   ]
  },
  {
   "cell_type": "code",
   "execution_count": 2,
   "metadata": {},
   "outputs": [],
   "source": [
    "# metrics defined: https://github.com/kaushaltrivedi/fast-bert/blob/d89e2aa01d948d6d3cdea7ad106bf5792fea7dfa/fast_bert/metrics.py\n",
    "metrics = []\n",
    "metrics.append({'name': 'accuracy_thresh', 'function': accuracy_thresh})\n",
    "metrics.append({'name': 'roc_auc', 'function': roc_auc})\n",
    "metrics.append({'name': 'fbeta', 'function': fbeta})\n",
    "metrics.append({'name': 'accuracy', 'function': accuracy})\n",
    "metrics.append({'name': 'accuracy_multilabel', 'function': accuracy_multilabel})\n"
   ]
  },
  {
   "cell_type": "code",
   "execution_count": 3,
   "metadata": {
    "scrolled": false
   },
   "outputs": [
    {
     "name": "stdout",
     "output_type": "stream",
     "text": [
      "03/06/2020 21:05:02 - INFO - transformers.configuration_utils -   loading configuration file https://s3.amazonaws.com/models.huggingface.co/bert/bert-base-uncased-config.json from cache at /home/da2734/.cache/torch/transformers/4dad0251492946e18ac39290fcfe91b89d370fee250efe9521476438fe8ca185.8f56353af4a709bf5ff0fbc915d8f5b42bfff892cbb6ac98c3c45f481a03c685\n",
      "03/06/2020 21:05:02 - INFO - transformers.configuration_utils -   Model config BertConfig {\n",
      "  \"architectures\": [\n",
      "    \"BertForMaskedLM\"\n",
      "  ],\n",
      "  \"attention_probs_dropout_prob\": 0.1,\n",
      "  \"bos_token_id\": 0,\n",
      "  \"do_sample\": false,\n",
      "  \"eos_token_ids\": 0,\n",
      "  \"finetuning_task\": null,\n",
      "  \"hidden_act\": \"gelu\",\n",
      "  \"hidden_dropout_prob\": 0.1,\n",
      "  \"hidden_size\": 768,\n",
      "  \"id2label\": {\n",
      "    \"0\": \"LABEL_0\",\n",
      "    \"1\": \"LABEL_1\"\n",
      "  },\n",
      "  \"initializer_range\": 0.02,\n",
      "  \"intermediate_size\": 3072,\n",
      "  \"is_decoder\": false,\n",
      "  \"label2id\": {\n",
      "    \"LABEL_0\": 0,\n",
      "    \"LABEL_1\": 1\n",
      "  },\n",
      "  \"layer_norm_eps\": 1e-12,\n",
      "  \"length_penalty\": 1.0,\n",
      "  \"max_length\": 20,\n",
      "  \"max_position_embeddings\": 512,\n",
      "  \"model_type\": \"bert\",\n",
      "  \"num_attention_heads\": 12,\n",
      "  \"num_beams\": 1,\n",
      "  \"num_hidden_layers\": 12,\n",
      "  \"num_labels\": 5,\n",
      "  \"num_return_sequences\": 1,\n",
      "  \"output_attentions\": false,\n",
      "  \"output_hidden_states\": false,\n",
      "  \"output_past\": true,\n",
      "  \"pad_token_id\": 0,\n",
      "  \"pruned_heads\": {},\n",
      "  \"repetition_penalty\": 1.0,\n",
      "  \"temperature\": 1.0,\n",
      "  \"top_k\": 50,\n",
      "  \"top_p\": 1.0,\n",
      "  \"torchscript\": false,\n",
      "  \"type_vocab_size\": 2,\n",
      "  \"use_bfloat16\": false,\n",
      "  \"vocab_size\": 30522\n",
      "}\n",
      "\n",
      "bert-base-uncased\n",
      "<class 'str'>\n",
      "03/06/2020 21:05:02 - INFO - transformers.modeling_utils -   loading weights file https://s3.amazonaws.com/models.huggingface.co/bert/bert-base-uncased-pytorch_model.bin from cache at /home/da2734/.cache/torch/transformers/aa1ef1aede4482d0dbcd4d52baad8ae300e60902e88fcb0bebdec09afd232066.36ca03ab34a1a5d5fa7bc3d03d55c4fa650fed07220e2eeebc06ce58d0e9a157\n",
      "03/06/2020 21:05:06 - INFO - transformers.modeling_utils -   Weights of BertForMultiLabelSequenceClassification not initialized from pretrained model: ['classifier.weight', 'classifier.bias']\n",
      "03/06/2020 21:05:06 - INFO - transformers.modeling_utils -   Weights from pretrained model not used in BertForMultiLabelSequenceClassification: ['cls.predictions.bias', 'cls.predictions.transform.dense.weight', 'cls.predictions.transform.dense.bias', 'cls.predictions.decoder.weight', 'cls.seq_relationship.weight', 'cls.seq_relationship.bias', 'cls.predictions.transform.LayerNorm.weight', 'cls.predictions.transform.LayerNorm.bias']\n"
     ]
    }
   ],
   "source": [
    "learner = BertLearner.from_pretrained_model(\n",
    "                                            databunch, \n",
    "                                            pretrained_path=args.model_name, \n",
    "                                            metrics=metrics, \n",
    "                                            device=device, \n",
    "                                            logger=logger, \n",
    "                                            output_dir=args.output_dir, \n",
    "                                            finetuned_wgts_path=FINETUNED_PATH, \n",
    "                                            warmup_steps=args.warmup_steps,\n",
    "                                            multi_gpu=args.multi_gpu, \n",
    "                                            is_fp16=args.fp16, \n",
    "                                            multi_label=True, \n",
    "                                            logging_steps=0)"
   ]
  },
  {
   "cell_type": "code",
   "execution_count": 4,
   "metadata": {
    "scrolled": false
   },
   "outputs": [
    {
     "name": "stdout",
     "output_type": "stream",
     "text": [
      "03/06/2020 21:05:50 - INFO - root -   ***** Running training *****\n",
      "03/06/2020 21:05:50 - INFO - root -     Num examples = 2948\n",
      "03/06/2020 21:05:50 - INFO - root -     Num Epochs = 10\n",
      "03/06/2020 21:05:50 - INFO - root -     Total train batch size (w. parallel, distributed & accumulation) = 8\n",
      "03/06/2020 21:05:50 - INFO - root -     Gradient Accumulation steps = 1\n",
      "03/06/2020 21:05:50 - INFO - root -     Total optimization steps = 3690\n"
     ]
    },
    {
     "data": {
      "text/html": [],
      "text/plain": [
       "<IPython.core.display.HTML object>"
      ]
     },
     "metadata": {},
     "output_type": "display_data"
    },
    {
     "name": "stdout",
     "output_type": "stream",
     "text": [
      "03/06/2020 21:08:31 - INFO - root -   Running evaluation\n",
      "03/06/2020 21:08:31 - INFO - root -     Num examples = 737\n",
      "03/06/2020 21:08:31 - INFO - root -     Batch size = 16\n"
     ]
    },
    {
     "data": {
      "text/html": [
       "\n",
       "    <div>\n",
       "        <style>\n",
       "            /* Turns off some styling */\n",
       "            progress {\n",
       "                /* gets rid of default border in Firefox and Opera. */\n",
       "                border: none;\n",
       "                /* Needs to be in here for Safari polyfill so background images work as expected. */\n",
       "                background-size: auto;\n",
       "            }\n",
       "            .progress-bar-interrupted, .progress-bar-interrupted::-webkit-progress-bar {\n",
       "                background: #F44336;\n",
       "            }\n",
       "        </style>\n",
       "      <progress value='47' class='' max='47', style='width:300px; height:20px; vertical-align: middle;'></progress>\n",
       "      100.00% [47/47 00:11<00:00]\n",
       "    </div>\n",
       "    "
      ],
      "text/plain": [
       "<IPython.core.display.HTML object>"
      ]
     },
     "metadata": {},
     "output_type": "display_data"
    },
    {
     "name": "stdout",
     "output_type": "stream",
     "text": [
      "03/06/2020 21:08:42 - INFO - root -   eval_loss after epoch 1: 0.5329679757990735: \n",
      "03/06/2020 21:08:42 - INFO - root -   eval_accuracy_thresh after epoch 1: 0.8966078758239746: \n",
      "03/06/2020 21:08:42 - INFO - root -   eval_roc_auc after epoch 1: 0.556025306158764: \n",
      "03/06/2020 21:08:42 - INFO - root -   eval_fbeta after epoch 1: 0.24764427542686462: \n",
      "03/06/2020 21:08:42 - INFO - root -   eval_accuracy after epoch 1: 0.0: \n",
      "03/06/2020 21:08:42 - INFO - root -   eval_accuracy_multilabel after epoch 1: 0.12075983717774763: \n",
      "03/06/2020 21:08:42 - INFO - root -   lr after epoch 1: 3.69e-05\n",
      "03/06/2020 21:08:42 - INFO - root -   train_loss after epoch 1: 0.6337756782689392\n",
      "03/06/2020 21:08:42 - INFO - root -   \n",
      "\n"
     ]
    },
    {
     "name": "stderr",
     "output_type": "stream",
     "text": [
      "/home/da2734/miniconda3/envs/worldbank/lib/python3.7/site-packages/torch/optim/lr_scheduler.py:224: UserWarning: To get the last learning rate computed by the scheduler, please use `get_last_lr()`.\n",
      "  warnings.warn(\"To get the last learning rate computed by the scheduler, \"\n"
     ]
    },
    {
     "name": "stdout",
     "output_type": "stream",
     "text": [
      "03/06/2020 21:11:22 - INFO - root -   Running evaluation\n",
      "03/06/2020 21:11:22 - INFO - root -     Num examples = 737\n",
      "03/06/2020 21:11:22 - INFO - root -     Batch size = 16\n"
     ]
    },
    {
     "data": {
      "text/html": [
       "\n",
       "    <div>\n",
       "        <style>\n",
       "            /* Turns off some styling */\n",
       "            progress {\n",
       "                /* gets rid of default border in Firefox and Opera. */\n",
       "                border: none;\n",
       "                /* Needs to be in here for Safari polyfill so background images work as expected. */\n",
       "                background-size: auto;\n",
       "            }\n",
       "            .progress-bar-interrupted, .progress-bar-interrupted::-webkit-progress-bar {\n",
       "                background: #F44336;\n",
       "            }\n",
       "        </style>\n",
       "      <progress value='47' class='' max='47', style='width:300px; height:20px; vertical-align: middle;'></progress>\n",
       "      100.00% [47/47 00:10<00:00]\n",
       "    </div>\n",
       "    "
      ],
      "text/plain": [
       "<IPython.core.display.HTML object>"
      ]
     },
     "metadata": {},
     "output_type": "display_data"
    },
    {
     "name": "stdout",
     "output_type": "stream",
     "text": [
      "03/06/2020 21:11:33 - INFO - root -   eval_loss after epoch 2: 0.34493391945007: \n",
      "03/06/2020 21:11:33 - INFO - root -   eval_accuracy_thresh after epoch 2: 0.896879255771637: \n",
      "03/06/2020 21:11:33 - INFO - root -   eval_roc_auc after epoch 2: 0.6808255165138256: \n",
      "03/06/2020 21:11:33 - INFO - root -   eval_fbeta after epoch 2: 0.11397557705640793: \n",
      "03/06/2020 21:11:33 - INFO - root -   eval_accuracy after epoch 2: 0.0: \n",
      "03/06/2020 21:11:33 - INFO - root -   eval_accuracy_multilabel after epoch 2: 0.2225237449118046: \n",
      "03/06/2020 21:11:33 - INFO - root -   lr after epoch 2: 4.931641405405896e-05\n",
      "03/06/2020 21:11:33 - INFO - root -   train_loss after epoch 2: 0.43517155832229915\n",
      "03/06/2020 21:11:33 - INFO - root -   \n",
      "\n",
      "03/06/2020 21:14:13 - INFO - root -   Running evaluation\n",
      "03/06/2020 21:14:13 - INFO - root -     Num examples = 737\n",
      "03/06/2020 21:14:13 - INFO - root -     Batch size = 16\n"
     ]
    },
    {
     "data": {
      "text/html": [
       "\n",
       "    <div>\n",
       "        <style>\n",
       "            /* Turns off some styling */\n",
       "            progress {\n",
       "                /* gets rid of default border in Firefox and Opera. */\n",
       "                border: none;\n",
       "                /* Needs to be in here for Safari polyfill so background images work as expected. */\n",
       "                background-size: auto;\n",
       "            }\n",
       "            .progress-bar-interrupted, .progress-bar-interrupted::-webkit-progress-bar {\n",
       "                background: #F44336;\n",
       "            }\n",
       "        </style>\n",
       "      <progress value='47' class='' max='47', style='width:300px; height:20px; vertical-align: middle;'></progress>\n",
       "      100.00% [47/47 00:10<00:00]\n",
       "    </div>\n",
       "    "
      ],
      "text/plain": [
       "<IPython.core.display.HTML object>"
      ]
     },
     "metadata": {},
     "output_type": "display_data"
    },
    {
     "name": "stdout",
     "output_type": "stream",
     "text": [
      "03/06/2020 21:14:24 - INFO - root -   eval_loss after epoch 3: 0.2972912934232265: \n",
      "03/06/2020 21:14:24 - INFO - root -   eval_accuracy_thresh after epoch 3: 0.9088195562362671: \n",
      "03/06/2020 21:14:24 - INFO - root -   eval_roc_auc after epoch 3: 0.7865277433541146: \n",
      "03/06/2020 21:14:24 - INFO - root -   eval_fbeta after epoch 3: 0.1166892796754837: \n",
      "03/06/2020 21:14:24 - INFO - root -   eval_accuracy after epoch 3: 0.0: \n",
      "03/06/2020 21:14:24 - INFO - root -   eval_accuracy_multilabel after epoch 3: 0.6770691994572592: \n",
      "03/06/2020 21:14:24 - INFO - root -   lr after epoch 3: 4.566455127328748e-05\n",
      "03/06/2020 21:14:24 - INFO - root -   train_loss after epoch 3: 0.319216335045936\n",
      "03/06/2020 21:14:24 - INFO - root -   \n",
      "\n",
      "03/06/2020 21:17:03 - INFO - root -   Running evaluation\n",
      "03/06/2020 21:17:03 - INFO - root -     Num examples = 737\n",
      "03/06/2020 21:17:03 - INFO - root -     Batch size = 16\n"
     ]
    },
    {
     "data": {
      "text/html": [
       "\n",
       "    <div>\n",
       "        <style>\n",
       "            /* Turns off some styling */\n",
       "            progress {\n",
       "                /* gets rid of default border in Firefox and Opera. */\n",
       "                border: none;\n",
       "                /* Needs to be in here for Safari polyfill so background images work as expected. */\n",
       "                background-size: auto;\n",
       "            }\n",
       "            .progress-bar-interrupted, .progress-bar-interrupted::-webkit-progress-bar {\n",
       "                background: #F44336;\n",
       "            }\n",
       "        </style>\n",
       "      <progress value='47' class='' max='47', style='width:300px; height:20px; vertical-align: middle;'></progress>\n",
       "      100.00% [47/47 00:10<00:00]\n",
       "    </div>\n",
       "    "
      ],
      "text/plain": [
       "<IPython.core.display.HTML object>"
      ]
     },
     "metadata": {},
     "output_type": "display_data"
    },
    {
     "name": "stdout",
     "output_type": "stream",
     "text": [
      "03/06/2020 21:17:14 - INFO - root -   eval_loss after epoch 4: 0.27507450796188193: \n",
      "03/06/2020 21:17:14 - INFO - root -   eval_accuracy_thresh after epoch 4: 0.9115332961082458: \n",
      "03/06/2020 21:17:14 - INFO - root -   eval_roc_auc after epoch 4: 0.8401214149078824: \n",
      "03/06/2020 21:17:14 - INFO - root -   eval_fbeta after epoch 4: 0.11533243209123611: \n",
      "03/06/2020 21:17:14 - INFO - root -   eval_accuracy after epoch 4: 0.0: \n",
      "03/06/2020 21:17:14 - INFO - root -   eval_accuracy_multilabel after epoch 4: 0.7245590230664858: \n",
      "03/06/2020 21:17:14 - INFO - root -   lr after epoch 4: 3.931362928732317e-05\n",
      "03/06/2020 21:17:14 - INFO - root -   train_loss after epoch 4: 0.2773852293407368\n",
      "03/06/2020 21:17:14 - INFO - root -   \n",
      "\n",
      "03/06/2020 21:19:54 - INFO - root -   Running evaluation\n",
      "03/06/2020 21:19:54 - INFO - root -     Num examples = 737\n",
      "03/06/2020 21:19:54 - INFO - root -     Batch size = 16\n"
     ]
    },
    {
     "data": {
      "text/html": [
       "\n",
       "    <div>\n",
       "        <style>\n",
       "            /* Turns off some styling */\n",
       "            progress {\n",
       "                /* gets rid of default border in Firefox and Opera. */\n",
       "                border: none;\n",
       "                /* Needs to be in here for Safari polyfill so background images work as expected. */\n",
       "                background-size: auto;\n",
       "            }\n",
       "            .progress-bar-interrupted, .progress-bar-interrupted::-webkit-progress-bar {\n",
       "                background: #F44336;\n",
       "            }\n",
       "        </style>\n",
       "      <progress value='47' class='' max='47', style='width:300px; height:20px; vertical-align: middle;'></progress>\n",
       "      100.00% [47/47 00:10<00:00]\n",
       "    </div>\n",
       "    "
      ],
      "text/plain": [
       "<IPython.core.display.HTML object>"
      ]
     },
     "metadata": {},
     "output_type": "display_data"
    },
    {
     "name": "stdout",
     "output_type": "stream",
     "text": [
      "03/06/2020 21:20:05 - INFO - root -   eval_loss after epoch 5: 0.2626908423101648: \n",
      "03/06/2020 21:20:05 - INFO - root -   eval_accuracy_thresh after epoch 5: 0.9118046760559082: \n",
      "03/06/2020 21:20:05 - INFO - root -   eval_roc_auc after epoch 5: 0.8590779966063564: \n",
      "03/06/2020 21:20:05 - INFO - root -   eval_fbeta after epoch 5: 0.11961835622787476: \n",
      "03/06/2020 21:20:05 - INFO - root -   eval_accuracy after epoch 5: 0.0: \n",
      "03/06/2020 21:20:05 - INFO - root -   eval_accuracy_multilabel after epoch 5: 0.7340569877883311: \n",
      "03/06/2020 21:20:05 - INFO - root -   lr after epoch 5: 3.109316112168412e-05\n",
      "03/06/2020 21:20:05 - INFO - root -   train_loss after epoch 5: 0.2523988006399253\n",
      "03/06/2020 21:20:05 - INFO - root -   \n",
      "\n",
      "03/06/2020 21:22:45 - INFO - root -   Running evaluation\n",
      "03/06/2020 21:22:45 - INFO - root -     Num examples = 737\n",
      "03/06/2020 21:22:45 - INFO - root -     Batch size = 16\n"
     ]
    },
    {
     "data": {
      "text/html": [
       "\n",
       "    <div>\n",
       "        <style>\n",
       "            /* Turns off some styling */\n",
       "            progress {\n",
       "                /* gets rid of default border in Firefox and Opera. */\n",
       "                border: none;\n",
       "                /* Needs to be in here for Safari polyfill so background images work as expected. */\n",
       "                background-size: auto;\n",
       "            }\n",
       "            .progress-bar-interrupted, .progress-bar-interrupted::-webkit-progress-bar {\n",
       "                background: #F44336;\n",
       "            }\n",
       "        </style>\n",
       "      <progress value='47' class='' max='47', style='width:300px; height:20px; vertical-align: middle;'></progress>\n",
       "      100.00% [47/47 00:10<00:00]\n",
       "    </div>\n",
       "    "
      ],
      "text/plain": [
       "<IPython.core.display.HTML object>"
      ]
     },
     "metadata": {},
     "output_type": "display_data"
    },
    {
     "name": "stdout",
     "output_type": "stream",
     "text": [
      "03/06/2020 21:22:56 - INFO - root -   eval_loss after epoch 6: 0.2517178993909917: \n",
      "03/06/2020 21:22:56 - INFO - root -   eval_accuracy_thresh after epoch 6: 0.9120759963989258: \n",
      "03/06/2020 21:22:56 - INFO - root -   eval_roc_auc after epoch 6: 0.8769097189122546: \n",
      "03/06/2020 21:22:56 - INFO - root -   eval_fbeta after epoch 6: 0.16961245238780975: \n",
      "03/06/2020 21:22:56 - INFO - root -   eval_accuracy after epoch 6: 0.0: \n",
      "03/06/2020 21:22:56 - INFO - root -   eval_accuracy_multilabel after epoch 6: 0.7367706919945726: \n",
      "03/06/2020 21:22:56 - INFO - root -   lr after epoch 6: 2.20768468524104e-05\n",
      "03/06/2020 21:22:56 - INFO - root -   train_loss after epoch 6: 0.23377781900448527\n",
      "03/06/2020 21:22:56 - INFO - root -   \n",
      "\n",
      "03/06/2020 21:25:35 - INFO - root -   Running evaluation\n",
      "03/06/2020 21:25:35 - INFO - root -     Num examples = 737\n",
      "03/06/2020 21:25:35 - INFO - root -     Batch size = 16\n"
     ]
    },
    {
     "data": {
      "text/html": [
       "\n",
       "    <div>\n",
       "        <style>\n",
       "            /* Turns off some styling */\n",
       "            progress {\n",
       "                /* gets rid of default border in Firefox and Opera. */\n",
       "                border: none;\n",
       "                /* Needs to be in here for Safari polyfill so background images work as expected. */\n",
       "                background-size: auto;\n",
       "            }\n",
       "            .progress-bar-interrupted, .progress-bar-interrupted::-webkit-progress-bar {\n",
       "                background: #F44336;\n",
       "            }\n",
       "        </style>\n",
       "      <progress value='47' class='' max='47', style='width:300px; height:20px; vertical-align: middle;'></progress>\n",
       "      100.00% [47/47 00:10<00:00]\n",
       "    </div>\n",
       "    "
      ],
      "text/plain": [
       "<IPython.core.display.HTML object>"
      ]
     },
     "metadata": {},
     "output_type": "display_data"
    },
    {
     "name": "stdout",
     "output_type": "stream",
     "text": [
      "03/06/2020 21:25:46 - INFO - root -   eval_loss after epoch 7: 0.241286538224271: \n",
      "03/06/2020 21:25:46 - INFO - root -   eval_accuracy_thresh after epoch 7: 0.9134328961372375: \n",
      "03/06/2020 21:25:46 - INFO - root -   eval_roc_auc after epoch 7: 0.8882647613963509: \n",
      "03/06/2020 21:25:46 - INFO - root -   eval_fbeta after epoch 7: 0.180252805352211: \n",
      "03/06/2020 21:25:46 - INFO - root -   eval_accuracy after epoch 7: 0.0: \n",
      "03/06/2020 21:25:46 - INFO - root -   eval_accuracy_multilabel after epoch 7: 0.621438263229308: \n",
      "03/06/2020 21:25:46 - INFO - root -   lr after epoch 7: 1.3442334409213062e-05\n",
      "03/06/2020 21:25:46 - INFO - root -   train_loss after epoch 7: 0.21938050936069592\n",
      "03/06/2020 21:25:46 - INFO - root -   \n",
      "\n",
      "03/06/2020 21:28:26 - INFO - root -   Running evaluation\n",
      "03/06/2020 21:28:26 - INFO - root -     Num examples = 737\n",
      "03/06/2020 21:28:26 - INFO - root -     Batch size = 16\n"
     ]
    },
    {
     "data": {
      "text/html": [
       "\n",
       "    <div>\n",
       "        <style>\n",
       "            /* Turns off some styling */\n",
       "            progress {\n",
       "                /* gets rid of default border in Firefox and Opera. */\n",
       "                border: none;\n",
       "                /* Needs to be in here for Safari polyfill so background images work as expected. */\n",
       "                background-size: auto;\n",
       "            }\n",
       "            .progress-bar-interrupted, .progress-bar-interrupted::-webkit-progress-bar {\n",
       "                background: #F44336;\n",
       "            }\n",
       "        </style>\n",
       "      <progress value='47' class='' max='47', style='width:300px; height:20px; vertical-align: middle;'></progress>\n",
       "      100.00% [47/47 00:10<00:00]\n",
       "    </div>\n",
       "    "
      ],
      "text/plain": [
       "<IPython.core.display.HTML object>"
      ]
     },
     "metadata": {},
     "output_type": "display_data"
    },
    {
     "name": "stdout",
     "output_type": "stream",
     "text": [
      "03/06/2020 21:28:37 - INFO - root -   eval_loss after epoch 8: 0.2372553678269082: \n",
      "03/06/2020 21:28:37 - INFO - root -   eval_accuracy_thresh after epoch 8: 0.9161465764045715: \n",
      "03/06/2020 21:28:37 - INFO - root -   eval_roc_auc after epoch 8: 0.8925306476520943: \n",
      "03/06/2020 21:28:37 - INFO - root -   eval_fbeta after epoch 8: 0.19271020591259003: \n",
      "03/06/2020 21:28:37 - INFO - root -   eval_accuracy after epoch 8: 0.0: \n",
      "03/06/2020 21:28:37 - INFO - root -   eval_accuracy_multilabel after epoch 8: 0.6295793758480326: \n",
      "03/06/2020 21:28:37 - INFO - root -   lr after epoch 8: 6.317403436757782e-06\n",
      "03/06/2020 21:28:37 - INFO - root -   train_loss after epoch 8: 0.21028170064293594\n",
      "03/06/2020 21:28:37 - INFO - root -   \n",
      "\n",
      "03/06/2020 21:31:17 - INFO - root -   Running evaluation\n",
      "03/06/2020 21:31:17 - INFO - root -     Num examples = 737\n",
      "03/06/2020 21:31:17 - INFO - root -     Batch size = 16\n"
     ]
    },
    {
     "data": {
      "text/html": [
       "\n",
       "    <div>\n",
       "        <style>\n",
       "            /* Turns off some styling */\n",
       "            progress {\n",
       "                /* gets rid of default border in Firefox and Opera. */\n",
       "                border: none;\n",
       "                /* Needs to be in here for Safari polyfill so background images work as expected. */\n",
       "                background-size: auto;\n",
       "            }\n",
       "            .progress-bar-interrupted, .progress-bar-interrupted::-webkit-progress-bar {\n",
       "                background: #F44336;\n",
       "            }\n",
       "        </style>\n",
       "      <progress value='47' class='' max='47', style='width:300px; height:20px; vertical-align: middle;'></progress>\n",
       "      100.00% [47/47 00:10<00:00]\n",
       "    </div>\n",
       "    "
      ],
      "text/plain": [
       "<IPython.core.display.HTML object>"
      ]
     },
     "metadata": {},
     "output_type": "display_data"
    },
    {
     "name": "stdout",
     "output_type": "stream",
     "text": [
      "03/06/2020 21:31:28 - INFO - root -   eval_loss after epoch 9: 0.23567049760133663: \n",
      "03/06/2020 21:31:28 - INFO - root -   eval_accuracy_thresh after epoch 9: 0.9177747964859009: \n",
      "03/06/2020 21:31:28 - INFO - root -   eval_roc_auc after epoch 9: 0.893885880790325: \n",
      "03/06/2020 21:31:28 - INFO - root -   eval_fbeta after epoch 9: 0.1969798505306244: \n",
      "03/06/2020 21:31:28 - INFO - root -   eval_accuracy after epoch 9: 0.0: \n",
      "03/06/2020 21:31:28 - INFO - root -   eval_accuracy_multilabel after epoch 9: 0.6485753052917232: \n",
      "03/06/2020 21:31:28 - INFO - root -   lr after epoch 9: 1.6326626026727688e-06\n",
      "03/06/2020 21:31:28 - INFO - root -   train_loss after epoch 9: 0.2048721521042873\n",
      "03/06/2020 21:31:28 - INFO - root -   \n",
      "\n",
      "03/06/2020 21:34:08 - INFO - root -   Running evaluation\n",
      "03/06/2020 21:34:08 - INFO - root -     Num examples = 737\n",
      "03/06/2020 21:34:08 - INFO - root -     Batch size = 16\n"
     ]
    },
    {
     "data": {
      "text/html": [
       "\n",
       "    <div>\n",
       "        <style>\n",
       "            /* Turns off some styling */\n",
       "            progress {\n",
       "                /* gets rid of default border in Firefox and Opera. */\n",
       "                border: none;\n",
       "                /* Needs to be in here for Safari polyfill so background images work as expected. */\n",
       "                background-size: auto;\n",
       "            }\n",
       "            .progress-bar-interrupted, .progress-bar-interrupted::-webkit-progress-bar {\n",
       "                background: #F44336;\n",
       "            }\n",
       "        </style>\n",
       "      <progress value='47' class='' max='47', style='width:300px; height:20px; vertical-align: middle;'></progress>\n",
       "      100.00% [47/47 00:10<00:00]\n",
       "    </div>\n",
       "    "
      ],
      "text/plain": [
       "<IPython.core.display.HTML object>"
      ]
     },
     "metadata": {},
     "output_type": "display_data"
    },
    {
     "name": "stdout",
     "output_type": "stream",
     "text": [
      "03/06/2020 21:34:18 - INFO - root -   eval_loss after epoch 10: 0.23552671804073008: \n",
      "03/06/2020 21:34:18 - INFO - root -   eval_accuracy_thresh after epoch 10: 0.9175034165382385: \n",
      "03/06/2020 21:34:18 - INFO - root -   eval_roc_auc after epoch 10: 0.8943037311014089: \n",
      "03/06/2020 21:34:18 - INFO - root -   eval_fbeta after epoch 10: 0.1971413791179657: \n",
      "03/06/2020 21:34:18 - INFO - root -   eval_accuracy after epoch 10: 0.0: \n",
      "03/06/2020 21:34:18 - INFO - root -   eval_accuracy_multilabel after epoch 10: 0.6390773405698779: \n",
      "03/06/2020 21:34:18 - INFO - root -   lr after epoch 10: 0.0\n",
      "03/06/2020 21:34:18 - INFO - root -   train_loss after epoch 10: 0.2032173075246294\n",
      "03/06/2020 21:34:18 - INFO - root -   \n",
      "\n"
     ]
    },
    {
     "data": {
      "text/plain": [
       "(3690, 0.298947709025487)"
      ]
     },
     "execution_count": 4,
     "metadata": {},
     "output_type": "execute_result"
    }
   ],
   "source": [
    "learner.fit(args.num_train_epochs, args.learning_rate, validate=True) #this trains the model"
   ]
  },
  {
   "cell_type": "code",
   "execution_count": 5,
   "metadata": {},
   "outputs": [
    {
     "name": "stdout",
     "output_type": "stream",
     "text": [
      "03/06/2020 23:41:11 - INFO - root -   Running evaluation\n",
      "03/06/2020 23:41:11 - INFO - root -     Num examples = 737\n",
      "03/06/2020 23:41:11 - INFO - root -     Batch size = 16\n"
     ]
    },
    {
     "data": {
      "text/html": [
       "\n",
       "    <div>\n",
       "        <style>\n",
       "            /* Turns off some styling */\n",
       "            progress {\n",
       "                /* gets rid of default border in Firefox and Opera. */\n",
       "                border: none;\n",
       "                /* Needs to be in here for Safari polyfill so background images work as expected. */\n",
       "                background-size: auto;\n",
       "            }\n",
       "            .progress-bar-interrupted, .progress-bar-interrupted::-webkit-progress-bar {\n",
       "                background: #F44336;\n",
       "            }\n",
       "        </style>\n",
       "      <progress value='47' class='' max='47', style='width:300px; height:20px; vertical-align: middle;'></progress>\n",
       "      100.00% [47/47 00:10<00:00]\n",
       "    </div>\n",
       "    "
      ],
      "text/plain": [
       "<IPython.core.display.HTML object>"
      ]
     },
     "metadata": {},
     "output_type": "display_data"
    },
    {
     "data": {
      "text/plain": [
       "{'loss': 0.23552671804073008,\n",
       " 'accuracy_thresh': 0.9175034165382385,\n",
       " 'roc_auc': 0.8943037311014089,\n",
       " 'fbeta': 0.1971413791179657,\n",
       " 'accuracy': 0.0,\n",
       " 'accuracy_multilabel': 0.6390773405698779}"
      ]
     },
     "execution_count": 5,
     "metadata": {},
     "output_type": "execute_result"
    }
   ],
   "source": [
    "learner.validate()"
   ]
  },
  {
   "cell_type": "code",
   "execution_count": 6,
   "metadata": {},
   "outputs": [
    {
     "name": "stdout",
     "output_type": "stream",
     "text": [
      "03/06/2020 23:41:38 - INFO - transformers.configuration_utils -   Configuration saved in /scratch/da2734/twitter/mturk_mar6/output_100/model_out/config.json\n",
      "03/06/2020 23:41:41 - INFO - transformers.modeling_utils -   Model weights saved in /scratch/da2734/twitter/mturk_mar6/output_100/model_out/pytorch_model.bin\n"
     ]
    }
   ],
   "source": [
    "learner.save_model()"
   ]
  },
  {
   "cell_type": "code",
   "execution_count": 7,
   "metadata": {},
   "outputs": [
    {
     "name": "stdout",
     "output_type": "stream",
     "text": [
      "03/06/2020 23:41:52 - INFO - root -   Writing example 0 of 1\n",
      "[('is_hired_1mo', 0.35232582688331604), ('lost_job_1mo', 0.31937041878700256), ('is_unemployed', 0.31286755204200745), ('job_search', 0.23360265791416168), ('job_offer\"', 0.056336939334869385)]\n"
     ]
    }
   ],
   "source": [
    "texts = ['I just received a job offer']\n",
    "predictions = learner.predict_batch(texts)\n",
    "print(predictions[0])"
   ]
  }
 ],
 "metadata": {
  "kernelspec": {
   "display_name": "Python 3",
   "language": "python",
   "name": "python3"
  },
  "language_info": {
   "codemirror_mode": {
    "name": "ipython",
    "version": 3
   },
   "file_extension": ".py",
   "mimetype": "text/x-python",
   "name": "python",
   "nbconvert_exporter": "python",
   "pygments_lexer": "ipython3",
   "version": "3.7.6"
  }
 },
 "nbformat": 4,
 "nbformat_minor": 2
}
