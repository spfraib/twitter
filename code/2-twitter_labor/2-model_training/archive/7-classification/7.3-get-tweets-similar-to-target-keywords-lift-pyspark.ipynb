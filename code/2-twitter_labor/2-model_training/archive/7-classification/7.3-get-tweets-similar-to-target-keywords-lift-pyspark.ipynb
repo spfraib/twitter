{
 "cells": [
  {
   "cell_type": "code",
   "execution_count": null,
   "metadata": {},
   "outputs": [],
   "source": [
    "import os\n",
    "import matplotlib as mpl\n",
    "if os.environ.get('DISPLAY','') == '':\n",
    "    print('no display found. Using non-interactive Agg backend')\n",
    "    mpl.use('Agg')\n",
    "import sys\n",
    "import socket\n",
    "import re\n",
    "import numpy as np\n",
    "import string\n",
    "from timeit import default_timer as timer\n",
    "from datetime import datetime\n",
    "import pandas as pd\n",
    "import seaborn as sns\n",
    "import matplotlib.pyplot as plt\n",
    "\n",
    "from pyspark.sql import SparkSession\n",
    "from pyspark.sql.functions import udf,desc,row_number,col,year,month,dayofmonth,dayofweek,to_timestamp,size,isnan,lower,rand,lit,mean,stddev,count,sqrt,round\n",
    "import pyspark.sql.functions as F\n",
    "from pyspark.sql.functions import broadcast\n",
    "from pyspark.sql.types import MapType, StringType, IntegerType, StructType, StructField, FloatType, ArrayType"
   ]
  },
  {
   "cell_type": "code",
   "execution_count": null,
   "metadata": {},
   "outputs": [],
   "source": [
    "print('Hostname:', socket.gethostname())\n",
    "try:\n",
    "    spark\n",
    "except NameError:\n",
    "    if 'samuel' in socket.gethostname().lower():\n",
    "        print('Create Local SparkSession')\n",
    "        spark = SparkSession.builder.config(\n",
    "        \"spark.driver.host\", \"localhost\").appName(\n",
    "        \"sample-tweets-for-labeling\").getOrCreate()\n",
    "    else:\n",
    "        print('Create Cluster SparkSession')\n",
    "        spark = SparkSession.builder.appName(\n",
    "        \"sample-tweets-for-labeling\").getOrCreate()\n",
    "spark"
   ]
  },
  {
   "cell_type": "code",
   "execution_count": null,
   "metadata": {},
   "outputs": [],
   "source": [
    "country_code = \"US\"\n",
    "print('Country:', country_code)\n",
    "\n",
    "# Local\n",
    "if  'samuel' in socket.gethostname().lower():\n",
    "    path_to_data = os.path.join('../../data/classification',country_code)\n",
    "    path_to_fig = '../../fig'\n",
    "# Cluster\n",
    "else:\n",
    "    path_to_data = os.path.join('/user/spf248/twitter/data/classification',country_code)\n",
    "    path_to_fig = '/home/spf248/twitter/fig'\n",
    "print('Path to data:',path_to_data)"
   ]
  },
  {
   "cell_type": "code",
   "execution_count": null,
   "metadata": {},
   "outputs": [],
   "source": [
    "print('Import random tweets')\n",
    "random = spark.read.parquet(os.path.join(path_to_data,'random-scored'))\n",
    "random.cache()"
   ]
  },
  {
   "cell_type": "code",
   "execution_count": null,
   "metadata": {},
   "outputs": [],
   "source": [
    "keywords=sorted([keyword for keyword in random.columns \n",
    "                 if keyword not in ['tweet_id','text','keyword'] \n",
    "                 and 'target_' not in keyword])\n",
    "print('Keywords:\\n')\n",
    "print('\\n'.join(keywords))"
   ]
  },
  {
   "cell_type": "code",
   "execution_count": null,
   "metadata": {},
   "outputs": [],
   "source": [
    "targets=sorted([target for target in random.columns if 'target_' in target])\n",
    "print('Targets:\\n')\n",
    "print('\\n'.join(targets))"
   ]
  },
  {
   "cell_type": "code",
   "execution_count": null,
   "metadata": {},
   "outputs": [],
   "source": [
    "cutoffs=[50000,100000,200000]\n",
    "print('Cutoffs:\\n')\n",
    "print('\\n'.join([str(x) for x in cutoffs]))"
   ]
  },
  {
   "cell_type": "code",
   "execution_count": null,
   "metadata": {},
   "outputs": [],
   "source": [
    "print('COMPUTE BASE RATES')\n",
    "base_rates=random.select(*(mean(col(c).cast(\"int\")).alias(c) for c in keywords)).collect()[0].asDict()"
   ]
  },
  {
   "cell_type": "code",
   "execution_count": null,
   "metadata": {},
   "outputs": [],
   "source": [
    "print('COMPUTE LIFTS')\n",
    "\n",
    "lift={}\n",
    "\n",
    "for target in targets:\n",
    "    \n",
    "    print(target)\n",
    "    \n",
    "    random=random.orderBy(desc(target))\n",
    "\n",
    "    for cutoff in cutoffs:\n",
    "        \n",
    "        print(cutoff)\n",
    "        \n",
    "        label=target+'-cutoff_'+str(cutoff)\n",
    "        \n",
    "        lift[label+'-mean']=\\\n",
    "        random.limit(cutoff).select(*((mean(col(c).cast(\"int\"))).alias(c) \n",
    "        for c in keywords)).collect()[0].asDict()\n",
    "        \n",
    "        lift[label+'-serr']=\\\n",
    "        random.limit(cutoff).select(*((stddev(col(c).cast(\"int\"))/\\\n",
    "        sqrt(count(col(c).cast(\"int\")))).alias(c) for c in keywords)).collect()[0].asDict()\n",
    "        \n",
    "    print()\n",
    "    \n",
    "lift=pd.concat([pd.Series(lift[key])/pd.Series(base_rates) for key in lift],1,keys=lift.keys())\n",
    "lift.columns=pd.MultiIndex.from_product(\n",
    "[[target.replace('target_','') for target in targets],cutoffs,['mean','serr']],names=['target','cutoff','stat'])\n",
    "lift.index.name='keyword'"
   ]
  },
  {
   "cell_type": "code",
   "execution_count": null,
   "metadata": {
    "scrolled": false
   },
   "outputs": [],
   "source": [
    "width = 0.2\n",
    "\n",
    "for target in sorted(targets):\n",
    "\n",
    "    target=target.replace('target_','')\n",
    "    \n",
    "    with sns.axes_style(\"white\"):\n",
    "        sns.set_style(\"ticks\")\n",
    "        sns.set_context(\"talk\")\n",
    "\n",
    "        fig,ax = plt.subplots(nrows=1,ncols=1,figsize=(15,8))\n",
    "\n",
    "        for i,cutoff in enumerate(cutoffs):\n",
    "\n",
    "            y=lift.xs(target, level='target', axis=1).xs(cutoff, level='cutoff', axis=1)['mean']\n",
    "            yerr=lift.xs(target, level='target', axis=1).xs(cutoff, level='cutoff', axis=1)['serr']\n",
    "            x=np.arange(len(y))\n",
    "\n",
    "            bars=ax.bar(\n",
    "            x+i*width, \n",
    "            y, \n",
    "            width, \n",
    "            yerr=yerr,\n",
    "            color=sns.cubehelix_palette(len(cutoffs))[i],\n",
    "            error_kw=dict(ecolor='k', lw=1, capsize=1, capthick=1),\n",
    "            label='{:,}'.format(cutoff)+' tweets')\n",
    "\n",
    "        ax.legend(loc='best')    \n",
    "        plt.axhline(y=0, color='grey', linestyle='--', linewidth=1,)\n",
    "        ax.tick_params(which='both',direction='in',pad=3)\n",
    "        ax.locator_params(axis='y',nbins=5)\n",
    "        ax.set_title(target.replace('_',' ').capitalize(),fontweight='bold')\n",
    "        ax.set_xticks(range(len(keywords)))\n",
    "        ax.set_xticklabels([keyword.replace('_',' ') for keyword in keywords],rotation=30,ha='right')\n",
    "        ax.axhline(y=1, color='k', linestyle='--', linewidth=1, zorder=0)\n",
    "        plt.gca().set_ylim(bottom=0)\n",
    "        ax.set_ylabel('Lift Factor',fontweight='bold')\n",
    "        \n",
    "    plt.savefig(os.path.join(path_to_fig,'lift_'+target+'.pdf'),bbox_inches='tight')"
   ]
  }
 ],
 "metadata": {
  "kernelspec": {
   "display_name": "Python 3",
   "language": "python",
   "name": "python3"
  },
  "language_info": {
   "codemirror_mode": {
    "name": "ipython",
    "version": 3
   },
   "file_extension": ".py",
   "mimetype": "text/x-python",
   "name": "python",
   "nbconvert_exporter": "python",
   "pygments_lexer": "ipython3",
   "version": "3.7.4"
  }
 },
 "nbformat": 4,
 "nbformat_minor": 2
}
