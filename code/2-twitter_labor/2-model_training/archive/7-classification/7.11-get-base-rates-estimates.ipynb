{
 "cells": [
  {
   "cell_type": "code",
   "execution_count": 1,
   "metadata": {},
   "outputs": [],
   "source": [
    "import pandas as pd\n",
    "import numpy as np\n",
    "from time import time\n",
    "import re\n",
    "import string\n",
    "import socket\n",
    "from glob import glob\n",
    "import os\n",
    "import pyarrow.parquet as pq"
   ]
  },
  {
   "cell_type": "code",
   "execution_count": 2,
   "metadata": {},
   "outputs": [
    {
     "name": "stdout",
     "output_type": "stream",
     "text": [
      "Country: US\n",
      "Path to data: ../../data\n"
     ]
    }
   ],
   "source": [
    "country_code = \"US\"\n",
    "print('Country:', country_code)\n",
    "labels=['is_hired_1mo','is_unemployed','job_offer','job_search','lost_job_1mo']\n",
    "\n",
    "# Local\n",
    "if 'samuel' in socket.gethostname().lower():\n",
    "    path_to_data = '../../data'\n",
    "# Cluster\n",
    "else:\n",
    "    path_to_data = '/scratch/spf248/twitter/data'\n",
    "print('Path to data:',path_to_data) "
   ]
  },
  {
   "cell_type": "code",
   "execution_count": 3,
   "metadata": {},
   "outputs": [
    {
     "name": "stdout",
     "output_type": "stream",
     "text": [
      "Extract labeled tweets:\n",
      "\n",
      "# labeled tweets: 13045\n"
     ]
    }
   ],
   "source": [
    "print('Extract labeled tweets:\\n')\n",
    "labeled_tweets=pd.read_pickle(os.path.join(path_to_data,'classification',country_code,'labeling','labels.pkl'))\n",
    "print('# labeled tweets:', labeled_tweets.shape[0])"
   ]
  },
  {
   "cell_type": "code",
   "execution_count": 4,
   "metadata": {},
   "outputs": [
    {
     "data": {
      "text/html": [
       "<div>\n",
       "<style scoped>\n",
       "    .dataframe tbody tr th:only-of-type {\n",
       "        vertical-align: middle;\n",
       "    }\n",
       "\n",
       "    .dataframe tbody tr th {\n",
       "        vertical-align: top;\n",
       "    }\n",
       "\n",
       "    .dataframe thead th {\n",
       "        text-align: right;\n",
       "    }\n",
       "</style>\n",
       "<table border=\"1\" class=\"dataframe\">\n",
       "  <thead>\n",
       "    <tr style=\"text-align: right;\">\n",
       "      <th></th>\n",
       "      <th>tweet_id</th>\n",
       "      <th>text</th>\n",
       "      <th>is_unemployed</th>\n",
       "      <th>lost_job_1mo</th>\n",
       "      <th>job_search</th>\n",
       "      <th>is_hired_1mo</th>\n",
       "      <th>job_offer</th>\n",
       "    </tr>\n",
       "  </thead>\n",
       "  <tbody>\n",
       "    <tr>\n",
       "      <th>0</th>\n",
       "      <td>470867540739383296</td>\n",
       "      <td>Is it true? 47% of Unemployed Americans Have J...</td>\n",
       "      <td>no</td>\n",
       "      <td>no</td>\n",
       "      <td>no</td>\n",
       "      <td>no</td>\n",
       "      <td>no</td>\n",
       "    </tr>\n",
       "    <tr>\n",
       "      <th>1</th>\n",
       "      <td>360093342517837824</td>\n",
       "      <td>Unemployed, Under-Employed, Unhappily Employed...</td>\n",
       "      <td>no</td>\n",
       "      <td>no</td>\n",
       "      <td>no</td>\n",
       "      <td>no</td>\n",
       "      <td>yes</td>\n",
       "    </tr>\n",
       "    <tr>\n",
       "      <th>2</th>\n",
       "      <td>458751933139132417</td>\n",
       "      <td>Currently Unemployed and Looking to Expand you...</td>\n",
       "      <td>no</td>\n",
       "      <td>no</td>\n",
       "      <td>no</td>\n",
       "      <td>no</td>\n",
       "      <td>no</td>\n",
       "    </tr>\n",
       "    <tr>\n",
       "      <th>3</th>\n",
       "      <td>703677501579497472</td>\n",
       "      <td>Been unemployed for awhile? Contracting can he...</td>\n",
       "      <td>no</td>\n",
       "      <td>no</td>\n",
       "      <td>no</td>\n",
       "      <td>no</td>\n",
       "      <td>yes</td>\n",
       "    </tr>\n",
       "    <tr>\n",
       "      <th>4</th>\n",
       "      <td>375336349336739840</td>\n",
       "      <td>Unemployed, Under-Employed, Unhappily Employed...</td>\n",
       "      <td>no</td>\n",
       "      <td>no</td>\n",
       "      <td>no</td>\n",
       "      <td>no</td>\n",
       "      <td>yes</td>\n",
       "    </tr>\n",
       "  </tbody>\n",
       "</table>\n",
       "</div>"
      ],
      "text/plain": [
       "             tweet_id                                               text  \\\n",
       "0  470867540739383296  Is it true? 47% of Unemployed Americans Have J...   \n",
       "1  360093342517837824  Unemployed, Under-Employed, Unhappily Employed...   \n",
       "2  458751933139132417  Currently Unemployed and Looking to Expand you...   \n",
       "3  703677501579497472  Been unemployed for awhile? Contracting can he...   \n",
       "4  375336349336739840  Unemployed, Under-Employed, Unhappily Employed...   \n",
       "\n",
       "  is_unemployed lost_job_1mo job_search is_hired_1mo job_offer  \n",
       "0            no           no         no           no        no  \n",
       "1            no           no         no           no       yes  \n",
       "2            no           no         no           no        no  \n",
       "3            no           no         no           no       yes  \n",
       "4            no           no         no           no       yes  "
      ]
     },
     "execution_count": 4,
     "metadata": {},
     "output_type": "execute_result"
    }
   ],
   "source": [
    "labeled_tweets.head()"
   ]
  },
  {
   "cell_type": "code",
   "execution_count": 5,
   "metadata": {},
   "outputs": [
    {
     "name": "stdout",
     "output_type": "stream",
     "text": [
      "../../data/classification/US/labeling/0/sampled/training/_SUCCESS skipped\n",
      "# Input tweets: 9800\n"
     ]
    }
   ],
   "source": [
    "tweets=pd.DataFrame()\n",
    "sample_files=glob(os.path.join(path_to_data,'classification',country_code,'labeling','0','sampled','training','*'))\n",
    "for sample_file in sample_files:\n",
    "    if '.parquet' in sample_file:\n",
    "        tweets=pd.concat([tweets,pd.read_parquet(sample_file)])\n",
    "    else:\n",
    "        print(sample_file,'skipped')\n",
    "print('# Input tweets:',tweets.shape[0])"
   ]
  },
  {
   "cell_type": "code",
   "execution_count": 6,
   "metadata": {},
   "outputs": [],
   "source": [
    "df=tweets[tweets.target=='random'].drop(['target','text'],1).copy()\n",
    "df=df.merge(labeled_tweets.drop('text',1))\n",
    "df[labels]=df[labels].applymap(lambda x:{'yes':1,'no':0,'unsure':np.nan}[x])\n",
    "df=df.drop('tweet_id',1).groupby('keyword').agg(['count','sum']).stack(level=0)\n",
    "df=df['sum'].divide(df['count']).unstack()"
   ]
  },
  {
   "cell_type": "code",
   "execution_count": 7,
   "metadata": {},
   "outputs": [
    {
     "data": {
      "text/html": [
       "<div>\n",
       "<style scoped>\n",
       "    .dataframe tbody tr th:only-of-type {\n",
       "        vertical-align: middle;\n",
       "    }\n",
       "\n",
       "    .dataframe tbody tr th {\n",
       "        vertical-align: top;\n",
       "    }\n",
       "\n",
       "    .dataframe thead th {\n",
       "        text-align: right;\n",
       "    }\n",
       "</style>\n",
       "<table border=\"1\" class=\"dataframe\">\n",
       "  <thead>\n",
       "    <tr style=\"text-align: right;\">\n",
       "      <th></th>\n",
       "      <th>is_hired_1mo</th>\n",
       "      <th>is_unemployed</th>\n",
       "      <th>job_offer</th>\n",
       "      <th>job_search</th>\n",
       "      <th>lost_job_1mo</th>\n",
       "    </tr>\n",
       "    <tr>\n",
       "      <th>keyword</th>\n",
       "      <th></th>\n",
       "      <th></th>\n",
       "      <th></th>\n",
       "      <th></th>\n",
       "      <th></th>\n",
       "    </tr>\n",
       "  </thead>\n",
       "  <tbody>\n",
       "    <tr>\n",
       "      <th>fired</th>\n",
       "      <td>0.010000</td>\n",
       "      <td>0.050505</td>\n",
       "      <td>0.000000</td>\n",
       "      <td>0.000000</td>\n",
       "      <td>0.020000</td>\n",
       "    </tr>\n",
       "    <tr>\n",
       "      <th>hired</th>\n",
       "      <td>0.061224</td>\n",
       "      <td>0.010101</td>\n",
       "      <td>0.112245</td>\n",
       "      <td>0.010101</td>\n",
       "      <td>0.000000</td>\n",
       "    </tr>\n",
       "    <tr>\n",
       "      <th>job</th>\n",
       "      <td>0.000000</td>\n",
       "      <td>0.020000</td>\n",
       "      <td>0.390000</td>\n",
       "      <td>0.010000</td>\n",
       "      <td>0.000000</td>\n",
       "    </tr>\n",
       "    <tr>\n",
       "      <th>laid_off</th>\n",
       "      <td>0.000000</td>\n",
       "      <td>0.131313</td>\n",
       "      <td>0.040000</td>\n",
       "      <td>0.000000</td>\n",
       "      <td>0.030303</td>\n",
       "    </tr>\n",
       "    <tr>\n",
       "      <th>position</th>\n",
       "      <td>0.000000</td>\n",
       "      <td>0.000000</td>\n",
       "      <td>0.790000</td>\n",
       "      <td>0.010000</td>\n",
       "      <td>0.000000</td>\n",
       "    </tr>\n",
       "    <tr>\n",
       "      <th>quit</th>\n",
       "      <td>0.000000</td>\n",
       "      <td>0.030000</td>\n",
       "      <td>0.000000</td>\n",
       "      <td>0.010000</td>\n",
       "      <td>0.000000</td>\n",
       "    </tr>\n",
       "    <tr>\n",
       "      <th>unemployed</th>\n",
       "      <td>0.000000</td>\n",
       "      <td>0.230000</td>\n",
       "      <td>0.060000</td>\n",
       "      <td>0.060000</td>\n",
       "      <td>0.030000</td>\n",
       "    </tr>\n",
       "    <tr>\n",
       "      <th>work</th>\n",
       "      <td>0.000000</td>\n",
       "      <td>0.000000</td>\n",
       "      <td>0.000000</td>\n",
       "      <td>0.000000</td>\n",
       "      <td>0.000000</td>\n",
       "    </tr>\n",
       "  </tbody>\n",
       "</table>\n",
       "</div>"
      ],
      "text/plain": [
       "            is_hired_1mo  is_unemployed  job_offer  job_search  lost_job_1mo\n",
       "keyword                                                                     \n",
       "fired           0.010000       0.050505   0.000000    0.000000      0.020000\n",
       "hired           0.061224       0.010101   0.112245    0.010101      0.000000\n",
       "job             0.000000       0.020000   0.390000    0.010000      0.000000\n",
       "laid_off        0.000000       0.131313   0.040000    0.000000      0.030303\n",
       "position        0.000000       0.000000   0.790000    0.010000      0.000000\n",
       "quit            0.000000       0.030000   0.000000    0.010000      0.000000\n",
       "unemployed      0.000000       0.230000   0.060000    0.060000      0.030000\n",
       "work            0.000000       0.000000   0.000000    0.000000      0.000000"
      ]
     },
     "execution_count": 7,
     "metadata": {},
     "output_type": "execute_result"
    }
   ],
   "source": [
    "df"
   ]
  },
  {
   "cell_type": "code",
   "execution_count": 8,
   "metadata": {},
   "outputs": [],
   "source": [
    "base_rates_keywords=spark.read.option(\"header\", \"true\").csv(os.path.join(path_to_data,'classification',country_code,'base_rates_keywords')).toPandas()\n",
    "base_rates_keywords=base_rates_keywords.loc[0].astype(float).rename('pct_tweets')"
   ]
  },
  {
   "cell_type": "code",
   "execution_count": 9,
   "metadata": {},
   "outputs": [
    {
     "name": "stdout",
     "output_type": "stream",
     "text": [
      "% keywords:\n"
     ]
    },
    {
     "data": {
      "text/plain": [
       "fired         0.000617\n",
       "hired         0.000182\n",
       "job           0.012056\n",
       "laid_off      0.000013\n",
       "position      0.001112\n",
       "quit          0.002123\n",
       "unemployed    0.000061\n",
       "work          0.022954\n",
       "Name: pct_tweets, dtype: float64"
      ]
     },
     "execution_count": 9,
     "metadata": {},
     "output_type": "execute_result"
    }
   ],
   "source": [
    "print('% keywords:')\n",
    "base_rates_keywords"
   ]
  },
  {
   "cell_type": "code",
   "execution_count": 10,
   "metadata": {},
   "outputs": [
    {
     "name": "stdout",
     "output_type": "stream",
     "text": [
      "Lower bound base rates:\n"
     ]
    },
    {
     "data": {
      "text/plain": [
       "is_hired_1mo     0.000017\n",
       "is_unemployed    0.000353\n",
       "job_offer        0.005605\n",
       "job_search       0.000158\n",
       "lost_job_1mo     0.000015\n",
       "dtype: float64"
      ]
     },
     "execution_count": 10,
     "metadata": {},
     "output_type": "execute_result"
    }
   ],
   "source": [
    "print('Lower bound base rates:')\n",
    "base_rates=df.multiply(base_rates_keywords,0).sum()\n",
    "base_rates"
   ]
  },
  {
   "cell_type": "code",
   "execution_count": 11,
   "metadata": {},
   "outputs": [],
   "source": [
    "base_rates.to_csv(os.path.join(path_to_data,'classification',country_code,'base_rates.csv'),header=False)"
   ]
  }
 ],
 "metadata": {
  "kernelspec": {
   "display_name": "Python 3",
   "language": "python",
   "name": "python3"
  },
  "language_info": {
   "codemirror_mode": {
    "name": "ipython",
    "version": 3
   },
   "file_extension": ".py",
   "mimetype": "text/x-python",
   "name": "python",
   "nbconvert_exporter": "python",
   "pygments_lexer": "ipython3",
   "version": "3.7.7"
  }
 },
 "nbformat": 4,
 "nbformat_minor": 4
}
