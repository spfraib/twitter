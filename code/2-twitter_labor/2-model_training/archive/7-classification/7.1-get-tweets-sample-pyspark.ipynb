{
 "cells": [
  {
   "cell_type": "code",
   "execution_count": 1,
   "metadata": {},
   "outputs": [],
   "source": [
    "import os\n",
    "import sys\n",
    "import socket\n",
    "import re\n",
    "import numpy as np\n",
    "import string\n",
    "from timeit import default_timer as timer\n",
    "from datetime import datetime\n",
    "import pandas as pd\n",
    "\n",
    "from pyspark.sql import SparkSession\n",
    "from pyspark.sql.functions import udf,desc,row_number,col,year,month,dayofmonth,dayofweek,to_timestamp,size,isnan,lower\n",
    "import pyspark.sql.functions as F\n",
    "from pyspark.sql.types import MapType, StringType, IntegerType, StructType, StructField, FloatType, ArrayType"
   ]
  },
  {
   "cell_type": "code",
   "execution_count": 2,
   "metadata": {},
   "outputs": [
    {
     "name": "stdout",
     "output_type": "stream",
     "text": [
      "Hostname: Samuels-MacBook-Pro.local\n"
     ]
    }
   ],
   "source": [
    "print('Hostname:', socket.gethostname())\n",
    "try:\n",
    "    spark\n",
    "except NameError:\n",
    "    if 'samuel' in socket.gethostname().lower():\n",
    "        print('Create Local SparkSession')\n",
    "        spark = SparkSession.builder.config(\n",
    "        \"spark.driver.host\", \"localhost\").appName(\n",
    "        \"sample-tweets\").getOrCreate()\n",
    "    else:\n",
    "        print('Create Cluster SparkSession')\n",
    "        spark = SparkSession.builder.appName(\n",
    "        \"sample-tweets\").getOrCreate()"
   ]
  },
  {
   "cell_type": "code",
   "execution_count": 3,
   "metadata": {},
   "outputs": [
    {
     "name": "stdout",
     "output_type": "stream",
     "text": [
      "Country: US\n",
      "Language: en\n",
      "Keywords: work, hired, position, job, quit, unemployed, laid off, fired\n"
     ]
    }
   ],
   "source": [
    "country_code = \"US\"\n",
    "language_code = \"en\"\n",
    "print('Country:', country_code)\n",
    "print('Language:', language_code)\n",
    "\n",
    "# Local\n",
    "if  'samuel' in socket.gethostname().lower():\n",
    "    path_to_tweets='../../data/tweets/tweets-with-identified-location/extract/'+country_code+'/'\n",
    "    path_to_classification=os.path.join('../../data/classification',country_code)\n",
    "# Cluster\n",
    "else:\n",
    "    path_to_tweets='/user/spf248/twitter/data/decahose/parsed/tweets/tweets-with-identified-location/extract/'+country_code+'/'\n",
    "    path_to_classification=os.path.join('/user/spf248/twitter/data/classification',country_code)\n",
    "    \n",
    "keywords = {\n",
    "'en':frozenset(['job','position','work','fired','laid off','quit','unemployed','hired']),\n",
    "}[language_code]\n",
    "\n",
    "print(\"Keywords:\", ', '.join(keywords))"
   ]
  },
  {
   "cell_type": "code",
   "execution_count": 4,
   "metadata": {},
   "outputs": [
    {
     "name": "stdout",
     "output_type": "stream",
     "text": [
      "Import Dataset\n"
     ]
    }
   ],
   "source": [
    "print('Import Dataset')\n",
    "df = spark.read.parquet(path_to_tweets)\n",
    "df.cache()"
   ]
  },
  {
   "cell_type": "code",
   "execution_count": 5,
   "metadata": {},
   "outputs": [
    {
     "name": "stdout",
     "output_type": "stream",
     "text": [
      "# Tweets: 19540979\n",
      "% en tweets: 0.63\n"
     ]
    }
   ],
   "source": [
    "n_tweets = df.count()\n",
    "print('# Tweets:', n_tweets)\n",
    "print('%',language_code,'tweets:',round(df.where(df.tweet_lang==language_code).count()/n_tweets,2))"
   ]
  },
  {
   "cell_type": "code",
   "execution_count": 6,
   "metadata": {},
   "outputs": [
    {
     "name": "stdout",
     "output_type": "stream",
     "text": [
      "+----------+--------+\n",
      "|tweet_lang|   count|\n",
      "+----------+--------+\n",
      "|        en|12228481|\n",
      "|      null| 5319767|\n",
      "|       und|  811966|\n",
      "|        es|  271686|\n",
      "|        pt|  109743|\n",
      "|        tl|   82289|\n",
      "|        fr|   65623|\n",
      "|        in|   54376|\n",
      "|        de|   53839|\n",
      "|        ar|   50776|\n",
      "+----------+--------+\n",
      "only showing top 10 rows\n",
      "\n",
      "None\n"
     ]
    }
   ],
   "source": [
    "print(df.groupBy('tweet_lang').count().orderBy(desc('count')).show(10))"
   ]
  },
  {
   "cell_type": "code",
   "execution_count": 7,
   "metadata": {},
   "outputs": [],
   "source": [
    "# Select tweet columns\n",
    "df = df.select('tweet_id','text','tweet_lang')\n",
    "\n",
    "# Keep language-specific tweets\n",
    "df = df.where(df.tweet_lang==language_code).drop('tweet_lang')\n",
    "\n",
    "# Check keyword presence\n",
    "df = df.withColumn('text_lowercase', lower(col('text')))\n",
    "for keyword in sorted(keywords):\n",
    "    df = df.withColumn(keyword.replace(' ','_'), df.text_lowercase.contains(keyword))\n",
    "df = df.drop('text_lowercase')\n",
    "\n",
    "# Create keyword indicator\n",
    "df = df.withColumn('keyword', sum(df[keyword.replace(' ','_')].cast(\"int\") for keyword in keywords)>0)\n",
    "\n",
    "# Create sample of tweets matching at least one keyword\n",
    "df_filtered = df.filter(df.keyword==True)"
   ]
  },
  {
   "cell_type": "code",
   "execution_count": 8,
   "metadata": {},
   "outputs": [
    {
     "name": "stdout",
     "output_type": "stream",
     "text": [
      "Count Tweets\n",
      "# English Tweets: 12228481\n",
      "# English Tweets Matching Keyword: 458869 ( 3.75 % )\n"
     ]
    }
   ],
   "source": [
    "print('Count Tweets')\n",
    "n_filtered = df_filtered.count()\n",
    "n_lang = df.count()\n",
    "print('# English Tweets:', n_lang)\n",
    "print('# English Tweets Matching Keyword:', n_filtered, '(',round(n_filtered/n_lang*100,2),'% )')"
   ]
  },
  {
   "cell_type": "code",
   "execution_count": 9,
   "metadata": {},
   "outputs": [],
   "source": [
    "# Take a random sample of tweets of same size\n",
    "df_random = df.sample(False, n_filtered/n_lang, seed=0)"
   ]
  },
  {
   "cell_type": "code",
   "execution_count": 10,
   "metadata": {},
   "outputs": [
    {
     "name": "stdout",
     "output_type": "stream",
     "text": [
      "Save\n"
     ]
    }
   ],
   "source": [
    "print('Save')\n",
    "df_filtered.write.mode(\"overwrite\").parquet(os.path.join(path_to_classification,'filtered'))\n",
    "df_random.write.mode(\"overwrite\").parquet(os.path.join(path_to_classification,'random'))"
   ]
  },
  {
   "cell_type": "code",
   "execution_count": 15,
   "metadata": {},
   "outputs": [
    {
     "data": {
      "text/plain": [
       "0.28527833333333336"
      ]
     },
     "execution_count": 15,
     "metadata": {},
     "output_type": "execute_result"
    }
   ],
   "source": [
    "(1576858766494-1576857739492)/(3600*1000)"
   ]
  },
  {
   "cell_type": "markdown",
   "metadata": {},
   "source": [
    "Country: US\n",
    "\n",
    "Language: en\n",
    "\n",
    "Keywords: work, hired, position, job, quit, unemployed, laid off, fired\n",
    "\n",
    "Import Dataset\n",
    "\n",
    "N Tweets: 3908098415\n",
    "\n",
    "% en tweets: 0.63\n",
    "\n",
    "+----------+----------+\n",
    "|tweet_lang|     count|\n",
    "+----------+----------+\n",
    "|        en|2445518357|\n",
    "|      null|1064221347|\n",
    "|       und| 162239679|\n",
    "|        es|  54245897|\n",
    "|        pt|  21968344|\n",
    "|        tl|  16450819|\n",
    "|        fr|  13063923|\n",
    "|        in|  10866923|\n",
    "|        de|  10786388|\n",
    "|        ar|  10121259|\n",
    "+----------+----------+\n",
    "\n",
    "N English Tweets: 2445518357\n",
    "\n",
    "N English Tweets Matching Keyword: 92121093 ( 3.77 % )"
   ]
  }
 ],
 "metadata": {
  "kernelspec": {
   "display_name": "Python 3",
   "language": "python",
   "name": "python3"
  },
  "language_info": {
   "codemirror_mode": {
    "name": "ipython",
    "version": 3
   },
   "file_extension": ".py",
   "mimetype": "text/x-python",
   "name": "python",
   "nbconvert_exporter": "python",
   "pygments_lexer": "ipython3",
   "version": "3.7.7"
  }
 },
 "nbformat": 4,
 "nbformat_minor": 2
}
