{
 "cells": [
  {
   "cell_type": "code",
   "execution_count": 1,
   "metadata": {},
   "outputs": [],
   "source": [
    "import pandas as pd\n",
    "import numpy as np\n",
    "from time import time\n",
    "import re\n",
    "import string\n",
    "import socket"
   ]
  },
  {
   "cell_type": "code",
   "execution_count": 2,
   "metadata": {},
   "outputs": [
    {
     "name": "stdout",
     "output_type": "stream",
     "text": [
      "Country: US\n",
      "Path to data: ../../data/classification/US\n"
     ]
    }
   ],
   "source": [
    "country_code = \"US\"\n",
    "print('Country:', country_code)\n",
    "\n",
    "# Local\n",
    "if 'samuel' in socket.gethostname().lower():\n",
    "    path_to_data = os.path.join('../../data/classification',country_code)\n",
    "# Cluster\n",
    "else:\n",
    "    path_to_data = os.path.join('/scratch/spf248/twitter/data/classification',country_code)\n",
    "print('Path to data:',path_to_data)"
   ]
  },
  {
   "cell_type": "markdown",
   "metadata": {},
   "source": [
    "# Training Set"
   ]
  },
  {
   "cell_type": "code",
   "execution_count": 3,
   "metadata": {},
   "outputs": [],
   "source": [
    "xls = pd.ExcelFile(os.path.join(path_to_data,'tweets-labeled-sana.xlsx'))"
   ]
  },
  {
   "cell_type": "code",
   "execution_count": 4,
   "metadata": {},
   "outputs": [
    {
     "name": "stdout",
     "output_type": "stream",
     "text": [
      "# Tweets 1862\n"
     ]
    }
   ],
   "source": [
    "tweets = pd.DataFrame()\n",
    "\n",
    "question2label = {\n",
    "'1a - DOES THIS TWEET INDICATE THAT THE USER RECENTLY LOST OR LEFT A JOB? [Answer: YES/NO] (Example: I lost my job today — I was fired earlier this week — I recently got laid off — I just quit my job)':'job_loss',\n",
    "'2 - DOES THIS TWEET INDICATE THAT THE USER IS CURRENTLY UNEMPLOYED? [Answer: YES/NO] (Example: Now I am unemployed — I am currently not working)':'is_unemployed',\n",
    "'3a - DOES THIS TWEET INDICATE THAT THE USER IS SEARCHING FOR A JOB? [Answer: YES/NO] (Example: I am looking for a job — I am searching for a new position — Anyone hiring?)':'job_search',\n",
    "'4a - DOES THIS TWEET INDICATE THAT THE USER WAS RECENTLY HIRED? [Answer: YES/NO] (Example: I just found a job — I got hired today — I started working at my new position on Monday — Can’t wait to start my new job!)':'is_hired',\n",
    "'5 - DOES THIS TWEET CONTAIN A JOB OFFER? [Answer: YES/NO] (Example: Looking for a new position? — Here is a job opportunity you might be interested in)':'job_offer',\n",
    "}\n",
    "\n",
    "for sheet_name in xls.sheet_names:\n",
    "    \n",
    "    data = pd.read_excel(xls,sheet_name=sheet_name)\n",
    "    \n",
    "    # Drop Auxiliary Questions\n",
    "    data.drop([x for x in data if 'b - ' in x],1,inplace=True)\n",
    "    \n",
    "    data.rename(columns=question2label,inplace=True)\n",
    "    data.rename(columns=lambda x:x.lower(),inplace=True)\n",
    "    \n",
    "    data.dropna(inplace=True)\n",
    "    \n",
    "    tweets = pd.concat([tweets,data])\n",
    "    \n",
    "tweets = tweets.replace('No',0).replace('Yes',1)\n",
    "tweets.id = tweets.id.astype(str)\n",
    "tweets.set_index('id',inplace=True)\n",
    "print('# Tweets', tweets.shape[0])"
   ]
  },
  {
   "cell_type": "code",
   "execution_count": 5,
   "metadata": {},
   "outputs": [
    {
     "data": {
      "text/html": [
       "<div>\n",
       "<style scoped>\n",
       "    .dataframe tbody tr th:only-of-type {\n",
       "        vertical-align: middle;\n",
       "    }\n",
       "\n",
       "    .dataframe tbody tr th {\n",
       "        vertical-align: top;\n",
       "    }\n",
       "\n",
       "    .dataframe thead th {\n",
       "        text-align: right;\n",
       "    }\n",
       "</style>\n",
       "<table border=\"1\" class=\"dataframe\">\n",
       "  <thead>\n",
       "    <tr style=\"text-align: right;\">\n",
       "      <th></th>\n",
       "      <th>text</th>\n",
       "      <th>job_loss</th>\n",
       "      <th>is_unemployed</th>\n",
       "      <th>job_search</th>\n",
       "      <th>is_hired</th>\n",
       "      <th>job_offer</th>\n",
       "    </tr>\n",
       "    <tr>\n",
       "      <th>id</th>\n",
       "      <th></th>\n",
       "      <th></th>\n",
       "      <th></th>\n",
       "      <th></th>\n",
       "      <th></th>\n",
       "      <th></th>\n",
       "    </tr>\n",
       "  </thead>\n",
       "  <tbody>\n",
       "    <tr>\n",
       "      <td>348940747036323840</td>\n",
       "      <td>“@xolysha_: so you have a kid and unemployed #...</td>\n",
       "      <td>0</td>\n",
       "      <td>0</td>\n",
       "      <td>0</td>\n",
       "      <td>0</td>\n",
       "      <td>0</td>\n",
       "    </tr>\n",
       "    <tr>\n",
       "      <td>430590411212476417</td>\n",
       "      <td>wow being unemployed is almost worse than bein...</td>\n",
       "      <td>0</td>\n",
       "      <td>1</td>\n",
       "      <td>0</td>\n",
       "      <td>0</td>\n",
       "      <td>0</td>\n",
       "    </tr>\n",
       "    <tr>\n",
       "      <td>481577981207662593</td>\n",
       "      <td>come october, i'll either be studying medicine...</td>\n",
       "      <td>0</td>\n",
       "      <td>0</td>\n",
       "      <td>0</td>\n",
       "      <td>0</td>\n",
       "      <td>0</td>\n",
       "    </tr>\n",
       "    <tr>\n",
       "      <td>555815463335120896</td>\n",
       "      <td>@jadeemond_ oh haha cause code red at work mea...</td>\n",
       "      <td>0</td>\n",
       "      <td>0</td>\n",
       "      <td>0</td>\n",
       "      <td>0</td>\n",
       "      <td>0</td>\n",
       "    </tr>\n",
       "    <tr>\n",
       "      <td>116942703002001408</td>\n",
       "      <td>@eonline levi and palin bunch need to go away!...</td>\n",
       "      <td>0</td>\n",
       "      <td>0</td>\n",
       "      <td>0</td>\n",
       "      <td>0</td>\n",
       "      <td>0</td>\n",
       "    </tr>\n",
       "  </tbody>\n",
       "</table>\n",
       "</div>"
      ],
      "text/plain": [
       "                                                                 text  \\\n",
       "id                                                                      \n",
       "348940747036323840  “@xolysha_: so you have a kid and unemployed #...   \n",
       "430590411212476417  wow being unemployed is almost worse than bein...   \n",
       "481577981207662593  come october, i'll either be studying medicine...   \n",
       "555815463335120896  @jadeemond_ oh haha cause code red at work mea...   \n",
       "116942703002001408  @eonline levi and palin bunch need to go away!...   \n",
       "\n",
       "                    job_loss  is_unemployed  job_search  is_hired  job_offer  \n",
       "id                                                                            \n",
       "348940747036323840         0              0           0         0          0  \n",
       "430590411212476417         0              1           0         0          0  \n",
       "481577981207662593         0              0           0         0          0  \n",
       "555815463335120896         0              0           0         0          0  \n",
       "116942703002001408         0              0           0         0          0  "
      ]
     },
     "execution_count": 5,
     "metadata": {},
     "output_type": "execute_result"
    }
   ],
   "source": [
    "tweets.head()"
   ]
  },
  {
   "cell_type": "code",
   "execution_count": 6,
   "metadata": {},
   "outputs": [
    {
     "data": {
      "text/plain": [
       "job_loss         0.118153\n",
       "is_unemployed    0.211600\n",
       "job_search       0.136412\n",
       "is_hired         0.114930\n",
       "job_offer        0.138561\n",
       "dtype: float64"
      ]
     },
     "execution_count": 6,
     "metadata": {},
     "output_type": "execute_result"
    }
   ],
   "source": [
    "tweets.mean()"
   ]
  },
  {
   "cell_type": "code",
   "execution_count": 7,
   "metadata": {},
   "outputs": [
    {
     "name": "stdout",
     "output_type": "stream",
     "text": [
      "# Training Examples: 1303\n",
      "# Test Examples: 559\n"
     ]
    }
   ],
   "source": [
    "train = tweets.sample(frac=0.7,random_state=0)\n",
    "dev = tweets.drop(train.index)\n",
    "\n",
    "print('# Training Examples:', train.shape[0])\n",
    "print('# Test Examples:', dev.shape[0])"
   ]
  },
  {
   "cell_type": "code",
   "execution_count": 8,
   "metadata": {},
   "outputs": [
    {
     "name": "stdout",
     "output_type": "stream",
     "text": [
      "job_loss\n",
      "is_unemployed\n",
      "job_search\n",
      "is_hired\n",
      "job_offer\n"
     ]
    }
   ],
   "source": [
    "train.to_csv(os.path.join(path_to_data,'train.tsv'),sep='\\t')\n",
    "dev.to_csv(os.path.join(path_to_data,'dev.tsv'),sep='\\t')\n",
    "with open(os.path.join(path_to_data,'labels'), 'w') as f:\n",
    "    for label in list(question2label.values()):\n",
    "        print(label)\n",
    "        f.write(\"%s\\n\" % label)"
   ]
  }
 ],
 "metadata": {
  "kernelspec": {
   "display_name": "Python 3",
   "language": "python",
   "name": "python3"
  },
  "language_info": {
   "codemirror_mode": {
    "name": "ipython",
    "version": 3
   },
   "file_extension": ".py",
   "mimetype": "text/x-python",
   "name": "python",
   "nbconvert_exporter": "python",
   "pygments_lexer": "ipython3",
   "version": "3.7.4"
  }
 },
 "nbformat": 4,
 "nbformat_minor": 2
}
