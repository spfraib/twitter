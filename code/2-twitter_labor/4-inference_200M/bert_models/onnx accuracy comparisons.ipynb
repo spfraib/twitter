{
 "cells": [
  {
   "cell_type": "code",
   "execution_count": 11,
   "id": "82c52205",
   "metadata": {},
   "outputs": [],
   "source": [
    "import pandas as pd\n",
    "import scipy.stats\n",
    "import numpy as np\n",
    "import matplotlib.pyplot as plt\n",
    "\n"
   ]
  },
  {
   "cell_type": "code",
   "execution_count": 3,
   "id": "6007fa8d",
   "metadata": {},
   "outputs": [
    {
     "data": {
      "text/html": [
       "<div>\n",
       "<style scoped>\n",
       "    .dataframe tbody tr th:only-of-type {\n",
       "        vertical-align: middle;\n",
       "    }\n",
       "\n",
       "    .dataframe tbody tr th {\n",
       "        vertical-align: top;\n",
       "    }\n",
       "\n",
       "    .dataframe thead th {\n",
       "        text-align: right;\n",
       "    }\n",
       "</style>\n",
       "<table border=\"1\" class=\"dataframe\">\n",
       "  <thead>\n",
       "    <tr style=\"text-align: right;\">\n",
       "      <th></th>\n",
       "      <th>tweet_id</th>\n",
       "      <th>text</th>\n",
       "      <th>manu score</th>\n",
       "      <th>rank</th>\n",
       "      <th>point</th>\n",
       "      <th>class</th>\n",
       "      <th>standard replication (just using Manu's code on converted-optimized-quantized.onnx)</th>\n",
       "      <th>converted.onnx bs 1</th>\n",
       "      <th>converted.onnx bs 2</th>\n",
       "      <th>converted.onnx bs 10</th>\n",
       "      <th>pytorch</th>\n",
       "      <th>Unnamed: 11</th>\n",
       "      <th>Unnamed: 12</th>\n",
       "      <th>Unnamed: 13</th>\n",
       "      <th>Unnamed: 14</th>\n",
       "      <th>Unnamed: 15</th>\n",
       "      <th>Unnamed: 16</th>\n",
       "      <th>Unnamed: 17</th>\n",
       "    </tr>\n",
       "  </thead>\n",
       "  <tbody>\n",
       "    <tr>\n",
       "      <th>0</th>\n",
       "      <td>2.850000e+17</td>\n",
       "      <td>Need a job, if anyone knows a place that's hir...</td>\n",
       "      <td>0.996547</td>\n",
       "      <td>1</td>\n",
       "      <td>0</td>\n",
       "      <td>1</td>\n",
       "      <td>0.887990</td>\n",
       "      <td>0.996501</td>\n",
       "      <td>0.996501</td>\n",
       "      <td>&lt;- same as</td>\n",
       "      <td>0.996501</td>\n",
       "      <td>NaN</td>\n",
       "      <td>NaN</td>\n",
       "      <td>NaN</td>\n",
       "      <td>NaN</td>\n",
       "      <td>NaN</td>\n",
       "      <td>NaN</td>\n",
       "      <td>NaN</td>\n",
       "    </tr>\n",
       "    <tr>\n",
       "      <th>1</th>\n",
       "      <td>4.888710e+09</td>\n",
       "      <td>It is really starting to look like I need a se...</td>\n",
       "      <td>0.996467</td>\n",
       "      <td>2</td>\n",
       "      <td>0</td>\n",
       "      <td>1</td>\n",
       "      <td>0.994872</td>\n",
       "      <td>0.996441</td>\n",
       "      <td>0.996441</td>\n",
       "      <td>NaN</td>\n",
       "      <td>0.996441</td>\n",
       "      <td>NaN</td>\n",
       "      <td>NaN</td>\n",
       "      <td>NaN</td>\n",
       "      <td>NaN</td>\n",
       "      <td>NaN</td>\n",
       "      <td>NaN</td>\n",
       "      <td>NaN</td>\n",
       "    </tr>\n",
       "    <tr>\n",
       "      <th>2</th>\n",
       "      <td>2.450000e+17</td>\n",
       "      <td>Thinking its time for a job...anyone know of a...</td>\n",
       "      <td>0.996457</td>\n",
       "      <td>3</td>\n",
       "      <td>0</td>\n",
       "      <td>1</td>\n",
       "      <td>0.364980</td>\n",
       "      <td>0.996368</td>\n",
       "      <td>0.996368</td>\n",
       "      <td>NaN</td>\n",
       "      <td>0.996368</td>\n",
       "      <td>NaN</td>\n",
       "      <td>NaN</td>\n",
       "      <td>NaN</td>\n",
       "      <td>NaN</td>\n",
       "      <td>NaN</td>\n",
       "      <td>NaN</td>\n",
       "      <td>NaN</td>\n",
       "    </tr>\n",
       "    <tr>\n",
       "      <th>3</th>\n",
       "      <td>5.750000e+17</td>\n",
       "      <td>I really need a job. If anyone knows of any go...</td>\n",
       "      <td>0.996452</td>\n",
       "      <td>4</td>\n",
       "      <td>0</td>\n",
       "      <td>1</td>\n",
       "      <td>0.985297</td>\n",
       "      <td>0.996471</td>\n",
       "      <td>0.996471</td>\n",
       "      <td>NaN</td>\n",
       "      <td>0.996471</td>\n",
       "      <td>NaN</td>\n",
       "      <td>NaN</td>\n",
       "      <td>NaN</td>\n",
       "      <td>NaN</td>\n",
       "      <td>NaN</td>\n",
       "      <td>NaN</td>\n",
       "      <td>NaN</td>\n",
       "    </tr>\n",
       "    <tr>\n",
       "      <th>4</th>\n",
       "      <td>8.610000e+17</td>\n",
       "      <td>Looking for a job if anyone knows a place hiri...</td>\n",
       "      <td>0.996446</td>\n",
       "      <td>5</td>\n",
       "      <td>0</td>\n",
       "      <td>1</td>\n",
       "      <td>0.964074</td>\n",
       "      <td>0.996481</td>\n",
       "      <td>0.996481</td>\n",
       "      <td>NaN</td>\n",
       "      <td>0.996481</td>\n",
       "      <td>NaN</td>\n",
       "      <td>NaN</td>\n",
       "      <td>NaN</td>\n",
       "      <td>NaN</td>\n",
       "      <td>NaN</td>\n",
       "      <td>NaN</td>\n",
       "      <td>NaN</td>\n",
       "    </tr>\n",
       "  </tbody>\n",
       "</table>\n",
       "</div>"
      ],
      "text/plain": [
       "       tweet_id                                               text  \\\n",
       "0  2.850000e+17  Need a job, if anyone knows a place that's hir...   \n",
       "1  4.888710e+09  It is really starting to look like I need a se...   \n",
       "2  2.450000e+17  Thinking its time for a job...anyone know of a...   \n",
       "3  5.750000e+17  I really need a job. If anyone knows of any go...   \n",
       "4  8.610000e+17  Looking for a job if anyone knows a place hiri...   \n",
       "\n",
       "   manu score  rank  point  class  \\\n",
       "0    0.996547     1      0      1   \n",
       "1    0.996467     2      0      1   \n",
       "2    0.996457     3      0      1   \n",
       "3    0.996452     4      0      1   \n",
       "4    0.996446     5      0      1   \n",
       "\n",
       "   standard replication (just using Manu's code on converted-optimized-quantized.onnx)  \\\n",
       "0                                           0.887990                                     \n",
       "1                                           0.994872                                     \n",
       "2                                           0.364980                                     \n",
       "3                                           0.985297                                     \n",
       "4                                           0.964074                                     \n",
       "\n",
       "   converted.onnx bs 1  converted.onnx bs 2 converted.onnx bs 10   pytorch  \\\n",
       "0             0.996501             0.996501           <- same as  0.996501   \n",
       "1             0.996441             0.996441                  NaN  0.996441   \n",
       "2             0.996368             0.996368                  NaN  0.996368   \n",
       "3             0.996471             0.996471                  NaN  0.996471   \n",
       "4             0.996481             0.996481                  NaN  0.996481   \n",
       "\n",
       "   Unnamed: 11  Unnamed: 12  Unnamed: 13  Unnamed: 14  Unnamed: 15  \\\n",
       "0          NaN          NaN          NaN          NaN          NaN   \n",
       "1          NaN          NaN          NaN          NaN          NaN   \n",
       "2          NaN          NaN          NaN          NaN          NaN   \n",
       "3          NaN          NaN          NaN          NaN          NaN   \n",
       "4          NaN          NaN          NaN          NaN          NaN   \n",
       "\n",
       "   Unnamed: 16  Unnamed: 17  \n",
       "0          NaN          NaN  \n",
       "1          NaN          NaN  \n",
       "2          NaN          NaN  \n",
       "3          NaN          NaN  \n",
       "4          NaN          NaN  "
      ]
     },
     "execution_count": 3,
     "metadata": {},
     "output_type": "execute_result"
    }
   ],
   "source": [
    "df = pd.read_csv('job_search.csv')\n",
    "df.head()"
   ]
  },
  {
   "cell_type": "code",
   "execution_count": 5,
   "id": "946c4f49",
   "metadata": {},
   "outputs": [
    {
     "data": {
      "text/plain": [
       "Index(['tweet_id', 'text', 'manu score', 'rank', 'point', 'class',\n",
       "       'standard replication (just using Manu's code on converted-optimized-quantized.onnx)',\n",
       "       'converted.onnx bs 1', 'converted.onnx bs 2', 'converted.onnx bs 10',\n",
       "       'pytorch', 'Unnamed: 11', 'Unnamed: 12', 'Unnamed: 13', 'Unnamed: 14',\n",
       "       'Unnamed: 15', 'Unnamed: 16', 'Unnamed: 17'],\n",
       "      dtype='object')"
      ]
     },
     "execution_count": 5,
     "metadata": {},
     "output_type": "execute_result"
    }
   ],
   "source": [
    "df.columns"
   ]
  },
  {
   "cell_type": "code",
   "execution_count": 7,
   "id": "a1e09284",
   "metadata": {},
   "outputs": [
    {
     "data": {
      "text/plain": [
       "SpearmanrResult(correlation=0.988194746885905, pvalue=8.29106159882769e-139)"
      ]
     },
     "execution_count": 7,
     "metadata": {},
     "output_type": "execute_result"
    }
   ],
   "source": [
    "# pytorch vs manu's scores:\n",
    "scipy.stats.spearmanr(\n",
    "    df['manu score'],\n",
    "    df['pytorch']\n",
    ")"
   ]
  },
  {
   "cell_type": "code",
   "execution_count": 8,
   "id": "3e69e8b5",
   "metadata": {},
   "outputs": [
    {
     "data": {
      "text/plain": [
       "SpearmanrResult(correlation=0.6859323214393038, pvalue=5.676130868542465e-25)"
      ]
     },
     "execution_count": 8,
     "metadata": {},
     "output_type": "execute_result"
    }
   ],
   "source": [
    "# dhaval replication\n",
    "scipy.stats.spearmanr(\n",
    "    df['manu score'],\n",
    "    df[\"standard replication (just using Manu's code on converted-optimized-quantized.onnx)\"]\n",
    ")"
   ]
  },
  {
   "cell_type": "code",
   "execution_count": 12,
   "id": "1f909a04",
   "metadata": {},
   "outputs": [
    {
     "data": {
      "text/plain": [
       "<matplotlib.collections.PathCollection at 0x7f84a0715b50>"
      ]
     },
     "execution_count": 12,
     "metadata": {},
     "output_type": "execute_result"
    },
    {
     "data": {
      "image/png": "[encoded data removed]",
      "text/plain": [
       "<Figure size 432x288 with 1 Axes>"
      ]
     },
     "metadata": {
      "needs_background": "light"
     },
     "output_type": "display_data"
    }
   ],
   "source": [
    "plt.scatter(\n",
    "        df['manu score'],\n",
    "        df['pytorch']\n",
    "            )\n"
   ]
  }
 ],
 "metadata": {
  "kernelspec": {
   "display_name": "Python 3",
   "language": "python",
   "name": "python3"
  },
  "language_info": {
   "codemirror_mode": {
    "name": "ipython",
    "version": 3
   },
   "file_extension": ".py",
   "mimetype": "text/x-python",
   "name": "python",
   "nbconvert_exporter": "python",
   "pygments_lexer": "ipython3",
   "version": "3.7.6"
  }
 },
 "nbformat": 4,
 "nbformat_minor": 5
}
