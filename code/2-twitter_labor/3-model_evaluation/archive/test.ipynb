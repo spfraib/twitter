{
 "cells": [
  {
   "cell_type": "code",
   "execution_count": 17,
   "metadata": {},
   "outputs": [],
   "source": [
    "import os\n",
    "import numpy as np\n",
    "from sklearn import metrics\n",
    "from simpletransformers.classification import ClassificationModel\n",
    "import pandas as pd\n",
    "from scipy.special import softmax"
   ]
  },
  {
   "cell_type": "code",
   "execution_count": 18,
   "metadata": {},
   "outputs": [],
   "source": [
    "path_model = '/home/manuto/results_simpletransformers_bert-base-uncased_may5_7Klabels_0/bert-base-uncased_may5_7Klabels_is_hired_1mo/models/checkpoint-111-epoch-1'\n",
    "path_eval_data = '/home/manuto/twitter/data/may5_7Klabels/data_binary_pos_neg_balanced_removed_allzeros/val_is_hired_1mo.csv'"
   ]
  },
  {
   "cell_type": "code",
   "execution_count": 19,
   "metadata": {},
   "outputs": [
    {
     "name": "stdout",
     "output_type": "stream",
     "text": [
      "/home/manuto/twitter/data/may5_7Klabels/data_binary_pos_neg_balanced_removed_allzeros/val_is_hired_1mo.csv\n"
     ]
    },
    {
     "data": {
      "application/vnd.jupyter.widget-view+json": {
       "model_id": "222d62d5e1034fe78bf8b9effb3b3405",
       "version_major": 2,
       "version_minor": 0
      },
      "text/html": [
       "<p>Failed to display Jupyter Widget of type <code>HBox</code>.</p>\n",
       "<p>\n",
       "  If you're reading this message in the Jupyter Notebook or JupyterLab Notebook, it may mean\n",
       "  that the widgets JavaScript is still loading. If this message persists, it\n",
       "  likely means that the widgets JavaScript library is either not installed or\n",
       "  not enabled. See the <a href=\"https://ipywidgets.readthedocs.io/en/stable/user_install.html\">Jupyter\n",
       "  Widgets Documentation</a> for setup instructions.\n",
       "</p>\n",
       "<p>\n",
       "  If you're reading this message in another frontend (for example, a static\n",
       "  rendering on GitHub or <a href=\"https://nbviewer.jupyter.org/\">NBViewer</a>),\n",
       "  it may mean that your frontend doesn't currently support widgets.\n",
       "</p>\n"
      ],
      "text/plain": [
       "HBox(children=(FloatProgress(value=0.0, max=220.0), HTML(value='')))"
      ]
     },
     "metadata": {},
     "output_type": "display_data"
    },
    {
     "name": "stdout",
     "output_type": "stream",
     "text": [
      "\n"
     ]
    },
    {
     "data": {
      "application/vnd.jupyter.widget-view+json": {
       "model_id": "06fe60b1e1d0462bb4fa67a13319f14f",
       "version_major": 2,
       "version_minor": 0
      },
      "text/html": [
       "<p>Failed to display Jupyter Widget of type <code>HBox</code>.</p>\n",
       "<p>\n",
       "  If you're reading this message in the Jupyter Notebook or JupyterLab Notebook, it may mean\n",
       "  that the widgets JavaScript is still loading. If this message persists, it\n",
       "  likely means that the widgets JavaScript library is either not installed or\n",
       "  not enabled. See the <a href=\"https://ipywidgets.readthedocs.io/en/stable/user_install.html\">Jupyter\n",
       "  Widgets Documentation</a> for setup instructions.\n",
       "</p>\n",
       "<p>\n",
       "  If you're reading this message in another frontend (for example, a static\n",
       "  rendering on GitHub or <a href=\"https://nbviewer.jupyter.org/\">NBViewer</a>),\n",
       "  it may mean that your frontend doesn't currently support widgets.\n",
       "</p>\n"
      ],
      "text/plain": [
       "HBox(children=(FloatProgress(value=0.0, max=28.0), HTML(value='')))"
      ]
     },
     "metadata": {},
     "output_type": "display_data"
    },
    {
     "name": "stdout",
     "output_type": "stream",
     "text": [
      "\n"
     ]
    },
    {
     "data": {
      "text/html": [
       "<div>\n",
       "<style scoped>\n",
       "    .dataframe tbody tr th:only-of-type {\n",
       "        vertical-align: middle;\n",
       "    }\n",
       "\n",
       "    .dataframe tbody tr th {\n",
       "        vertical-align: top;\n",
       "    }\n",
       "\n",
       "    .dataframe thead th {\n",
       "        text-align: right;\n",
       "    }\n",
       "</style>\n",
       "<table border=\"1\" class=\"dataframe\">\n",
       "  <thead>\n",
       "    <tr style=\"text-align: right;\">\n",
       "      <th></th>\n",
       "      <th>text</th>\n",
       "      <th>labels</th>\n",
       "      <th>y_pred_proba</th>\n",
       "    </tr>\n",
       "  </thead>\n",
       "  <tbody>\n",
       "    <tr>\n",
       "      <th>0</th>\n",
       "      <td>@jonniker Quinn was self employed and is now l...</td>\n",
       "      <td>0</td>\n",
       "      <td>0.034043</td>\n",
       "    </tr>\n",
       "    <tr>\n",
       "      <th>1</th>\n",
       "      <td>whats funny is the job i had today wasnt even ...</td>\n",
       "      <td>1</td>\n",
       "      <td>0.786425</td>\n",
       "    </tr>\n",
       "    <tr>\n",
       "      <th>2</th>\n",
       "      <td>I have been working for 4 days but my dependen...</td>\n",
       "      <td>1</td>\n",
       "      <td>0.051963</td>\n",
       "    </tr>\n",
       "    <tr>\n",
       "      <th>3</th>\n",
       "      <td>Yesterday I got a job and today I got a call f...</td>\n",
       "      <td>1</td>\n",
       "      <td>0.708000</td>\n",
       "    </tr>\n",
       "    <tr>\n",
       "      <th>4</th>\n",
       "      <td>Crazy how I lost my job then got a different p...</td>\n",
       "      <td>1</td>\n",
       "      <td>0.756090</td>\n",
       "    </tr>\n",
       "  </tbody>\n",
       "</table>\n",
       "</div>"
      ],
      "text/plain": [
       "                                                text  labels  y_pred_proba\n",
       "0  @jonniker Quinn was self employed and is now l...       0      0.034043\n",
       "1  whats funny is the job i had today wasnt even ...       1      0.786425\n",
       "2  I have been working for 4 days but my dependen...       1      0.051963\n",
       "3  Yesterday I got a job and today I got a call f...       1      0.708000\n",
       "4  Crazy how I lost my job then got a different p...       1      0.756090"
      ]
     },
     "execution_count": 19,
     "metadata": {},
     "output_type": "execute_result"
    }
   ],
   "source": [
    "model = ClassificationModel('bert', path_model, args={'evaluate_during_training': True, 'evaluate_during_training_verbose': True, 'num_train_epochs': 20})\n",
    "print(path_eval_data)\n",
    "eval_df = pd.read_csv(path_eval_data)\n",
    "eval_df.columns = [\"id\", \"text\", \"labels\"]\n",
    "eval_df = eval_df[[\"text\",\"labels\"]]\n",
    "result, model_outputs, wrong_predictions = model.eval_model(eval_df)\n",
    "probabilities = np.array([softmax(element) for element in model_outputs])\n",
    "y_pred = np.array([element[1] for element in probabilities])\n",
    "eval_df[\"y_pred_proba\"] = y_pred\n",
    "eval_df.head()"
   ]
  },
  {
   "cell_type": "code",
   "execution_count": 20,
   "metadata": {},
   "outputs": [],
   "source": [
    "def create_predict_label_from_proba(x):\n",
    "    if x > 0.5:\n",
    "        return 1\n",
    "    else:\n",
    "        return 0"
   ]
  },
  {
   "cell_type": "code",
   "execution_count": 21,
   "metadata": {},
   "outputs": [
    {
     "data": {
      "text/html": [
       "<div>\n",
       "<style scoped>\n",
       "    .dataframe tbody tr th:only-of-type {\n",
       "        vertical-align: middle;\n",
       "    }\n",
       "\n",
       "    .dataframe tbody tr th {\n",
       "        vertical-align: top;\n",
       "    }\n",
       "\n",
       "    .dataframe thead th {\n",
       "        text-align: right;\n",
       "    }\n",
       "</style>\n",
       "<table border=\"1\" class=\"dataframe\">\n",
       "  <thead>\n",
       "    <tr style=\"text-align: right;\">\n",
       "      <th></th>\n",
       "      <th>text</th>\n",
       "      <th>labels</th>\n",
       "      <th>y_pred_proba</th>\n",
       "      <th>y_pred</th>\n",
       "    </tr>\n",
       "  </thead>\n",
       "  <tbody>\n",
       "    <tr>\n",
       "      <th>0</th>\n",
       "      <td>@jonniker Quinn was self employed and is now l...</td>\n",
       "      <td>0</td>\n",
       "      <td>0.034043</td>\n",
       "      <td>0</td>\n",
       "    </tr>\n",
       "    <tr>\n",
       "      <th>1</th>\n",
       "      <td>whats funny is the job i had today wasnt even ...</td>\n",
       "      <td>1</td>\n",
       "      <td>0.786425</td>\n",
       "      <td>1</td>\n",
       "    </tr>\n",
       "    <tr>\n",
       "      <th>2</th>\n",
       "      <td>I have been working for 4 days but my dependen...</td>\n",
       "      <td>1</td>\n",
       "      <td>0.051963</td>\n",
       "      <td>0</td>\n",
       "    </tr>\n",
       "    <tr>\n",
       "      <th>3</th>\n",
       "      <td>Yesterday I got a job and today I got a call f...</td>\n",
       "      <td>1</td>\n",
       "      <td>0.708000</td>\n",
       "      <td>1</td>\n",
       "    </tr>\n",
       "    <tr>\n",
       "      <th>4</th>\n",
       "      <td>Crazy how I lost my job then got a different p...</td>\n",
       "      <td>1</td>\n",
       "      <td>0.756090</td>\n",
       "      <td>1</td>\n",
       "    </tr>\n",
       "  </tbody>\n",
       "</table>\n",
       "</div>"
      ],
      "text/plain": [
       "                                                text  labels  y_pred_proba  \\\n",
       "0  @jonniker Quinn was self employed and is now l...       0      0.034043   \n",
       "1  whats funny is the job i had today wasnt even ...       1      0.786425   \n",
       "2  I have been working for 4 days but my dependen...       1      0.051963   \n",
       "3  Yesterday I got a job and today I got a call f...       1      0.708000   \n",
       "4  Crazy how I lost my job then got a different p...       1      0.756090   \n",
       "\n",
       "   y_pred  \n",
       "0       0  \n",
       "1       1  \n",
       "2       0  \n",
       "3       1  \n",
       "4       1  "
      ]
     },
     "execution_count": 21,
     "metadata": {},
     "output_type": "execute_result"
    }
   ],
   "source": [
    "eval_df[\"y_pred\"] = eval_df[\"y_pred_proba\"].apply(create_predict_label_from_proba)\n",
    "eval_df.head()"
   ]
  },
  {
   "cell_type": "code",
   "execution_count": 23,
   "metadata": {},
   "outputs": [
    {
     "name": "stdout",
     "output_type": "stream",
     "text": [
      "*********** Results from test ***********\n",
      "TP:  94\n",
      "TN:  97\n",
      "FN:  20\n",
      "FP:  9\n",
      "Recall: 0.8245614035087719 Precision 0.912621359223301\n",
      "*********** Output results from simpletransformers ***********\n",
      "{'mcc': 0.7406677733546588, 'tp': 94, 'tn': 97, 'fp': 9, 'fn': 20, 'eval_loss': 0.38582159232880386}\n"
     ]
    }
   ],
   "source": [
    "TP = 0\n",
    "TN = 0\n",
    "FP = 0\n",
    "FN = 0\n",
    "for i in range(eval_df.shape[0]):\n",
    "    if eval_df[\"labels\"][i] == 1 and eval_df[\"y_pred\"][i] == 1:\n",
    "        TP = TP + 1\n",
    "    elif eval_df[\"labels\"][i] == 0 and eval_df[\"y_pred\"][i] == 0:\n",
    "        TN = TN + 1\n",
    "    elif eval_df[\"labels\"][i] == 1 and eval_df[\"y_pred\"][i] == 0:\n",
    "        FN = FN + 1\n",
    "    elif eval_df[\"labels\"][i] == 0 and eval_df[\"y_pred\"][i] == 1:\n",
    "        FP = FP + 1\n",
    "print(\"*********** Results from test ***********\")\n",
    "print(\"TP: \", TP)\n",
    "print(\"TN: \", TN)\n",
    "print(\"FN: \", FN)\n",
    "print(\"FP: \", FP)\n",
    "print('Recall:', str(TP/(TP+FN)),  'Precision', str(TP/(TP+FP)))\n",
    "print(\"*********** Output results from simpletransformers ***********\")\n",
    "print(result)"
   ]
  },
  {
   "cell_type": "code",
   "execution_count": 24,
   "metadata": {},
   "outputs": [
    {
     "data": {
      "text/html": [
       "<div>\n",
       "<style scoped>\n",
       "    .dataframe tbody tr th:only-of-type {\n",
       "        vertical-align: middle;\n",
       "    }\n",
       "\n",
       "    .dataframe tbody tr th {\n",
       "        vertical-align: top;\n",
       "    }\n",
       "\n",
       "    .dataframe thead th {\n",
       "        text-align: right;\n",
       "    }\n",
       "</style>\n",
       "<table border=\"1\" class=\"dataframe\">\n",
       "  <thead>\n",
       "    <tr style=\"text-align: right;\">\n",
       "      <th></th>\n",
       "      <th>pos</th>\n",
       "      <th>pos_model</th>\n",
       "      <th>neg_model</th>\n",
       "      <th>neg</th>\n",
       "    </tr>\n",
       "  </thead>\n",
       "  <tbody>\n",
       "    <tr>\n",
       "      <th>0</th>\n",
       "      <td>0</td>\n",
       "      <td>0.034043</td>\n",
       "      <td>0.965957</td>\n",
       "      <td>1</td>\n",
       "    </tr>\n",
       "    <tr>\n",
       "      <th>1</th>\n",
       "      <td>1</td>\n",
       "      <td>0.786425</td>\n",
       "      <td>0.213575</td>\n",
       "      <td>0</td>\n",
       "    </tr>\n",
       "    <tr>\n",
       "      <th>2</th>\n",
       "      <td>1</td>\n",
       "      <td>0.051963</td>\n",
       "      <td>0.948037</td>\n",
       "      <td>0</td>\n",
       "    </tr>\n",
       "    <tr>\n",
       "      <th>3</th>\n",
       "      <td>1</td>\n",
       "      <td>0.708000</td>\n",
       "      <td>0.292000</td>\n",
       "      <td>0</td>\n",
       "    </tr>\n",
       "    <tr>\n",
       "      <th>4</th>\n",
       "      <td>1</td>\n",
       "      <td>0.756090</td>\n",
       "      <td>0.243910</td>\n",
       "      <td>0</td>\n",
       "    </tr>\n",
       "  </tbody>\n",
       "</table>\n",
       "</div>"
      ],
      "text/plain": [
       "   pos  pos_model  neg_model  neg\n",
       "0    0   0.034043   0.965957    1\n",
       "1    1   0.786425   0.213575    0\n",
       "2    1   0.051963   0.948037    0\n",
       "3    1   0.708000   0.292000    0\n",
       "4    1   0.756090   0.243910    0"
      ]
     },
     "execution_count": 24,
     "metadata": {},
     "output_type": "execute_result"
    }
   ],
   "source": [
    "eval_df = eval_df[[\"labels\",\"y_pred_proba\"]]\n",
    "eval_df.columns = ['pos','pos_model']\n",
    "eval_df['neg_model'] = abs(1-eval_df['pos_model'])\n",
    "eval_df['neg'] = abs(1-eval_df['pos'])\n",
    "eval_df.head()"
   ]
  },
  {
   "cell_type": "code",
   "execution_count": 26,
   "metadata": {},
   "outputs": [
    {
     "name": "stdout",
     "output_type": "stream",
     "text": [
      "*********** Results from Dhaval's code ***********\n",
      "TP:  94\n",
      "TN:  9\n",
      "FN:  94\n",
      "FP:  9\n",
      "Recall: 0.5 Precision 0.912621359223301\n"
     ]
    }
   ],
   "source": [
    "threshold = 0.5\n",
    "TP = np.sum(eval_df.loc[eval_df['pos_model'] > threshold, 'pos'])\n",
    "FP = np.sum(eval_df.loc[eval_df['pos_model'] > threshold, 'neg'])\n",
    "TN = np.sum(eval_df.loc[eval_df['neg_model'] < threshold, 'neg'])\n",
    "FN = np.sum(eval_df.loc[eval_df['neg_model'] < threshold, 'pos'])  \n",
    "print(\"*********** Results from Dhaval's code ***********\")\n",
    "print(\"TP: \", TP)\n",
    "print(\"TN: \", TN)\n",
    "print(\"FN: \", FN)\n",
    "print(\"FP: \", FP)\n",
    "print('Recall:', str(TP/(TP+FN)),  'Precision', str(TP/(TP+FP)))"
   ]
  },
  {
   "cell_type": "code",
   "execution_count": 35,
   "metadata": {},
   "outputs": [
    {
     "data": {
      "text/plain": [
       "94"
      ]
     },
     "execution_count": 35,
     "metadata": {},
     "output_type": "execute_result"
    }
   ],
   "source": [
    "# TP: tout ceux qui sont predits positifs et qui le sont\n",
    "# Correct\n",
    "np.sum(eval_df.loc[eval_df['pos_model'] > threshold, 'pos'])"
   ]
  },
  {
   "cell_type": "code",
   "execution_count": 40,
   "metadata": {},
   "outputs": [
    {
     "data": {
      "text/plain": [
       "97"
      ]
     },
     "execution_count": 40,
     "metadata": {},
     "output_type": "execute_result"
    }
   ],
   "source": [
    "# TN: tout ceux qui sont predits negatifs et qui le sont. \n",
    "# Erreur: relation de supériorité dans le mauvais sens. Proba d'etre 0 doit etre > au threshold pour predire 0\n",
    "np.sum(eval_df.loc[eval_df['neg_model'] > threshold, 'neg'])"
   ]
  },
  {
   "cell_type": "code",
   "execution_count": 41,
   "metadata": {},
   "outputs": [
    {
     "data": {
      "text/plain": [
       "9"
      ]
     },
     "execution_count": 41,
     "metadata": {},
     "output_type": "execute_result"
    }
   ],
   "source": [
    "# FP: tout ceux qui sont predits positifs et qui ne le sont pas\n",
    "# Correct\n",
    "np.sum(eval_df.loc[eval_df['pos_model'] > threshold, 'neg'])"
   ]
  },
  {
   "cell_type": "code",
   "execution_count": 42,
   "metadata": {},
   "outputs": [
    {
     "data": {
      "text/plain": [
       "20"
      ]
     },
     "execution_count": 42,
     "metadata": {},
     "output_type": "execute_result"
    }
   ],
   "source": [
    "# FN: tout ceux qui sont predits negatifs et qui ne le sont pas\n",
    "# Meme erreur que plus haut, relation de superiorite dans le mauvais sens\n",
    "np.sum(eval_df.loc[eval_df['neg_model'] > threshold, 'pos'])"
   ]
  },
  {
   "cell_type": "code",
   "execution_count": null,
   "metadata": {},
   "outputs": [],
   "source": []
  }
 ],
 "metadata": {
  "kernelspec": {
   "display_name": "Python 3",
   "language": "python",
   "name": "python3"
  },
  "language_info": {
   "codemirror_mode": {
    "name": "ipython",
    "version": 3
   },
   "file_extension": ".py",
   "mimetype": "text/x-python",
   "name": "python",
   "nbconvert_exporter": "python",
   "pygments_lexer": "ipython3",
   "version": "3.6.4"
  }
 },
 "nbformat": 4,
 "nbformat_minor": 2
}
