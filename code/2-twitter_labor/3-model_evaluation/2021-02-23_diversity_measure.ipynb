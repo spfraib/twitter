{
 "cells": [
  {
   "cell_type": "code",
   "execution_count": 48,
   "metadata": {},
   "outputs": [],
   "source": [
    "from sentence_transformers import SentenceTransformer, util\n",
    "import pandas as pd\n",
    "import os\n",
    "from itertools import combinations\n",
    "import torch"
   ]
  },
  {
   "cell_type": "code",
   "execution_count": 49,
   "metadata": {},
   "outputs": [
    {
     "name": "stderr",
     "output_type": "stream",
     "text": [
      "100%|██████████| 1.31G/1.31G [00:48<00:00, 27.1MB/s]\n"
     ]
    }
   ],
   "source": [
    "model = SentenceTransformer('stsb-roberta-large')"
   ]
  },
  {
   "cell_type": "code",
   "execution_count": 7,
   "metadata": {},
   "outputs": [],
   "source": [
    "data_path = '/home/manuto/Documents/world_bank/bert_twitter_labor/twitter-labor-data/data/active_learning/evaluation_inference/US/iter_0-convbert-969622-evaluation'"
   ]
  },
  {
   "cell_type": "code",
   "execution_count": 10,
   "metadata": {},
   "outputs": [
    {
     "data": {
      "text/html": [
       "<div>\n",
       "<style scoped>\n",
       "    .dataframe tbody tr th:only-of-type {\n",
       "        vertical-align: middle;\n",
       "    }\n",
       "\n",
       "    .dataframe tbody tr th {\n",
       "        vertical-align: top;\n",
       "    }\n",
       "\n",
       "    .dataframe thead th {\n",
       "        text-align: right;\n",
       "    }\n",
       "</style>\n",
       "<table border=\"1\" class=\"dataframe\">\n",
       "  <thead>\n",
       "    <tr style=\"text-align: right;\">\n",
       "      <th></th>\n",
       "      <th>rank</th>\n",
       "      <th>tweet_id</th>\n",
       "      <th>text</th>\n",
       "      <th>score</th>\n",
       "      <th>point</th>\n",
       "      <th>class</th>\n",
       "    </tr>\n",
       "  </thead>\n",
       "  <tbody>\n",
       "    <tr>\n",
       "      <th>0</th>\n",
       "      <td>1</td>\n",
       "      <td>4.670323e+17</td>\n",
       "      <td>Got the job and I start tomorrow</td>\n",
       "      <td>0.974762</td>\n",
       "      <td>0</td>\n",
       "      <td>1</td>\n",
       "    </tr>\n",
       "    <tr>\n",
       "      <th>1</th>\n",
       "      <td>2</td>\n",
       "      <td>2.310183e+09</td>\n",
       "      <td>I don't have to work today or tomorrow!!!! Yay!</td>\n",
       "      <td>0.974679</td>\n",
       "      <td>0</td>\n",
       "      <td>0</td>\n",
       "    </tr>\n",
       "    <tr>\n",
       "      <th>2</th>\n",
       "      <td>3</td>\n",
       "      <td>3.952050e+17</td>\n",
       "      <td>I start a new school tomorrow.</td>\n",
       "      <td>0.974638</td>\n",
       "      <td>0</td>\n",
       "      <td>0</td>\n",
       "    </tr>\n",
       "    <tr>\n",
       "      <th>3</th>\n",
       "      <td>4</td>\n",
       "      <td>1.153144e+18</td>\n",
       "      <td>i start my first day tomorrow :,)</td>\n",
       "      <td>0.974602</td>\n",
       "      <td>0</td>\n",
       "      <td>1</td>\n",
       "    </tr>\n",
       "    <tr>\n",
       "      <th>4</th>\n",
       "      <td>5</td>\n",
       "      <td>2.480771e+17</td>\n",
       "      <td>So i start my new job tomorrow and im excited!</td>\n",
       "      <td>0.974597</td>\n",
       "      <td>0</td>\n",
       "      <td>1</td>\n",
       "    </tr>\n",
       "  </tbody>\n",
       "</table>\n",
       "</div>"
      ],
      "text/plain": [
       "   rank      tweet_id                                             text  \\\n",
       "0     1  4.670323e+17                 Got the job and I start tomorrow   \n",
       "1     2  2.310183e+09  I don't have to work today or tomorrow!!!! Yay!   \n",
       "2     3  3.952050e+17                   I start a new school tomorrow.   \n",
       "3     4  1.153144e+18                i start my first day tomorrow :,)   \n",
       "4     5  2.480771e+17   So i start my new job tomorrow and im excited!   \n",
       "\n",
       "      score  point  class  \n",
       "0  0.974762      0      1  \n",
       "1  0.974679      0      0  \n",
       "2  0.974638      0      0  \n",
       "3  0.974602      0      1  \n",
       "4  0.974597      0      1  "
      ]
     },
     "execution_count": 10,
     "metadata": {},
     "output_type": "execute_result"
    }
   ],
   "source": [
    "df = pd.read_csv(os.path.join(data_path, 'is_hired_1mo.csv'))\n",
    "df.head()"
   ]
  },
  {
   "cell_type": "code",
   "execution_count": 12,
   "metadata": {},
   "outputs": [
    {
     "data": {
      "text/html": [
       "<div>\n",
       "<style scoped>\n",
       "    .dataframe tbody tr th:only-of-type {\n",
       "        vertical-align: middle;\n",
       "    }\n",
       "\n",
       "    .dataframe tbody tr th {\n",
       "        vertical-align: top;\n",
       "    }\n",
       "\n",
       "    .dataframe thead th {\n",
       "        text-align: right;\n",
       "    }\n",
       "</style>\n",
       "<table border=\"1\" class=\"dataframe\">\n",
       "  <thead>\n",
       "    <tr style=\"text-align: right;\">\n",
       "      <th></th>\n",
       "      <th>rank</th>\n",
       "      <th>tweet_id</th>\n",
       "      <th>text</th>\n",
       "      <th>score</th>\n",
       "      <th>point</th>\n",
       "      <th>class</th>\n",
       "    </tr>\n",
       "  </thead>\n",
       "  <tbody>\n",
       "    <tr>\n",
       "      <th>0</th>\n",
       "      <td>1</td>\n",
       "      <td>4.670323e+17</td>\n",
       "      <td>Got the job and I start tomorrow</td>\n",
       "      <td>0.974762</td>\n",
       "      <td>0</td>\n",
       "      <td>1</td>\n",
       "    </tr>\n",
       "    <tr>\n",
       "      <th>1</th>\n",
       "      <td>4</td>\n",
       "      <td>1.153144e+18</td>\n",
       "      <td>i start my first day tomorrow :,)</td>\n",
       "      <td>0.974602</td>\n",
       "      <td>0</td>\n",
       "      <td>1</td>\n",
       "    </tr>\n",
       "    <tr>\n",
       "      <th>2</th>\n",
       "      <td>5</td>\n",
       "      <td>2.480771e+17</td>\n",
       "      <td>So i start my new job tomorrow and im excited!</td>\n",
       "      <td>0.974597</td>\n",
       "      <td>0</td>\n",
       "      <td>1</td>\n",
       "    </tr>\n",
       "    <tr>\n",
       "      <th>3</th>\n",
       "      <td>6</td>\n",
       "      <td>7.906059e+17</td>\n",
       "      <td>I just got hired at another place !</td>\n",
       "      <td>0.974584</td>\n",
       "      <td>0</td>\n",
       "      <td>1</td>\n",
       "    </tr>\n",
       "    <tr>\n",
       "      <th>4</th>\n",
       "      <td>7</td>\n",
       "      <td>7.400481e+17</td>\n",
       "      <td>I start my first day at work tomorrow 🤗</td>\n",
       "      <td>0.974469</td>\n",
       "      <td>0</td>\n",
       "      <td>1</td>\n",
       "    </tr>\n",
       "  </tbody>\n",
       "</table>\n",
       "</div>"
      ],
      "text/plain": [
       "   rank      tweet_id                                            text  \\\n",
       "0     1  4.670323e+17                Got the job and I start tomorrow   \n",
       "1     4  1.153144e+18               i start my first day tomorrow :,)   \n",
       "2     5  2.480771e+17  So i start my new job tomorrow and im excited!   \n",
       "3     6  7.906059e+17             I just got hired at another place !   \n",
       "4     7  7.400481e+17         I start my first day at work tomorrow 🤗   \n",
       "\n",
       "      score  point  class  \n",
       "0  0.974762      0      1  \n",
       "1  0.974602      0      1  \n",
       "2  0.974597      0      1  \n",
       "3  0.974584      0      1  \n",
       "4  0.974469      0      1  "
      ]
     },
     "execution_count": 12,
     "metadata": {},
     "output_type": "execute_result"
    }
   ],
   "source": [
    "positive_df = df.loc[df['class'] == 1].reset_index(drop=True)\n",
    "positive_df.head()"
   ]
  },
  {
   "cell_type": "code",
   "execution_count": 13,
   "metadata": {},
   "outputs": [],
   "source": [
    "positive_tweet_list = positive_df['text'].tolist()"
   ]
  },
  {
   "cell_type": "code",
   "execution_count": 30,
   "metadata": {},
   "outputs": [
    {
     "data": {
      "text/plain": [
       "1770"
      ]
     },
     "execution_count": 30,
     "metadata": {},
     "output_type": "execute_result"
    }
   ],
   "source": [
    "len(list(combinations(positive_tweet_list, 2)))"
   ]
  },
  {
   "cell_type": "code",
   "execution_count": 18,
   "metadata": {},
   "outputs": [],
   "source": [
    "embeddings = model.encode(positive_tweet_list, convert_to_tensor=True)"
   ]
  },
  {
   "cell_type": "code",
   "execution_count": 32,
   "metadata": {},
   "outputs": [
    {
     "data": {
      "text/plain": [
       "60"
      ]
     },
     "execution_count": 32,
     "metadata": {},
     "output_type": "execute_result"
    }
   ],
   "source": [
    "len(embeddings)"
   ]
  },
  {
   "cell_type": "code",
   "execution_count": 19,
   "metadata": {},
   "outputs": [],
   "source": [
    "cosine_scores = util.pytorch_cos_sim(embeddings, embeddings)"
   ]
  },
  {
   "cell_type": "code",
   "execution_count": 39,
   "metadata": {},
   "outputs": [
    {
     "data": {
      "text/plain": [
       "tensor([[1.0000, 0.5570, 0.8030,  ..., 0.2457, 0.4291, 0.3142],\n",
       "        [0.5570, 1.0000, 0.5373,  ..., 0.1175, 0.3942, 0.1655],\n",
       "        [0.8030, 0.5373, 1.0000,  ..., 0.3850, 0.4708, 0.4188],\n",
       "        ...,\n",
       "        [0.2457, 0.1175, 0.3850,  ..., 1.0000, 0.3000, 0.2572],\n",
       "        [0.4291, 0.3942, 0.4708,  ..., 0.3000, 1.0000, 0.2691],\n",
       "        [0.3142, 0.1655, 0.4188,  ..., 0.2572, 0.2691, 1.0000]])"
      ]
     },
     "execution_count": 39,
     "metadata": {},
     "output_type": "execute_result"
    }
   ],
   "source": [
    "cosine_scores"
   ]
  },
  {
   "cell_type": "code",
   "execution_count": 53,
   "metadata": {},
   "outputs": [
    {
     "data": {
      "text/plain": [
       "-0.4568512439727783"
      ]
     },
     "execution_count": 53,
     "metadata": {},
     "output_type": "execute_result"
    }
   ],
   "source": [
    "value = (-torch.sum(cosine_scores)/(len(positive_tweet_list)**2)).item()\n",
    "value"
   ]
  },
  {
   "cell_type": "code",
   "execution_count": 47,
   "metadata": {},
   "outputs": [
    {
     "name": "stdout",
     "output_type": "stream",
     "text": [
      "Start my new job today 💸💰 \t Start my new job today 😁🙌 \t Score: 0.9470\n",
      "\n",
      "\n",
      "I start my first day at work tomorrow 🤗 \t I start my first day at work tomorrow :) \t Score: 0.9459\n",
      "\n",
      "\n",
      "So i start my new job tomorrow and im excited! \t I start my new job tomorrow and I'm actually really excited \t Score: 0.9336\n",
      "\n",
      "\n",
      "I got the job and I start Monday :) \t Got the job! I start Monday! \t Score: 0.9203\n",
      "\n",
      "\n",
      "So i start my new job tomorrow and im excited! \t I start my new job today I’m so excited!!! \t Score: 0.9093\n",
      "\n",
      "\n",
      "I start my new job tomorrow and I'm actually really excited \t I start my new job today I’m so excited!!! \t Score: 0.9059\n",
      "\n",
      "\n",
      "Just got a new job!!!😁 \t I just got a new job 😍😍😍 \t Score: 0.9012\n",
      "\n",
      "\n",
      "I start my new job tomorrow and I'm actually really excited \t I start my new job tomorrow and I’m very excited and very scared ☺️😅 \t Score: 0.8960\n",
      "\n",
      "\n",
      "I start my new job tomorrow and I'm actually really excited \t I start my first job tomorrow I'm excited \t Score: 0.8922\n",
      "\n",
      "\n",
      "So i start my new job tomorrow and im excited! \t I start my new job tomorrow and I’m very excited and very scared ☺️😅 \t Score: 0.8906\n",
      "\n",
      "\n"
     ]
    }
   ],
   "source": [
    "#Find the pairs with the highest cosine similarity scores\n",
    "pairs = []\n",
    "for i in range(len(cosine_scores)-1):\n",
    "    for j in range(i+1, len(cosine_scores)):\n",
    "        pairs.append({'index': [i, j], 'score': cosine_scores[i][j]})\n",
    "\n",
    "#Sort scores in decreasing order\n",
    "pairs = sorted(pairs, key=lambda x: x['score'], reverse=True)\n",
    "\n",
    "for pair in pairs[0:10]:\n",
    "    i, j = pair['index']\n",
    "    print(\"{} \\t {} \\t Score: {:.4f}\".format(positive_tweet_list[i], positive_tweet_list[j], pair['score']))\n",
    "    print('\\n')"
   ]
  },
  {
   "cell_type": "code",
   "execution_count": null,
   "metadata": {},
   "outputs": [],
   "source": []
  }
 ],
 "metadata": {
  "kernelspec": {
   "display_name": "Python 3",
   "language": "python",
   "name": "python3"
  },
  "language_info": {
   "codemirror_mode": {
    "name": "ipython",
    "version": 3
   },
   "file_extension": ".py",
   "mimetype": "text/x-python",
   "name": "python",
   "nbconvert_exporter": "python",
   "pygments_lexer": "ipython3",
   "version": "3.8.5"
  }
 },
 "nbformat": 4,
 "nbformat_minor": 4
}
