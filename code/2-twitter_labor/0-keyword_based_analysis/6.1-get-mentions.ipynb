{
 "cells": [
  {
   "cell_type": "code",
   "execution_count": 2,
   "metadata": {},
   "outputs": [],
   "source": [
    "import pandas as pd"
   ]
  },
  {
   "cell_type": "code",
   "execution_count": 5,
   "metadata": {},
   "outputs": [],
   "source": [
    "pd.DataFrame(pd.Series([\n",
    "'I lost my job',\n",
    "'I have lost my job',\n",
    "\"I've lost my job\",\n",
    "'I was fired',\n",
    "'I got fired',\n",
    "'I have been fired',\n",
    "\"I've been fired\",\n",
    "'I was laid off',\n",
    "'I got laid off',\n",
    "'I have gotten laid off',\n",
    "\"I've gotten laid off\",\n",
    "'I have been laid off',\n",
    "\"I've been laid off\",\n",
    "'I am unemployed',\n",
    "\"I am looking for a job\",\n",
    "\"I'm looking for a job\",\n",
    "\"I am looking for a new job\",\n",
    "\"I'm looking for a new job\",\n",
    "'I am searching for a job',\n",
    "\"I'm searching for a job\",\n",
    "\"I am searching for a new job\",\n",
    "\"I'm searching for a new job\",\n",
    "'I need a job',\n",
    "'I need a new job',\n",
    "'I need help finding a job',\n",
    "'Who is hiring',\n",
    "'Who’s hiring',\n",
    "'Anyone hiring?',\n",
    "]).apply(lambda x:x.lower()).sort_values().rename('mention')).to_csv(\n",
    "'../../data/keywords/labor/lang/en',index=False)"
   ]
  },
  {
   "cell_type": "code",
   "execution_count": 71,
   "metadata": {},
   "outputs": [],
   "source": [
    "pd.DataFrame(pd.Series([\n",
    "'perdi mi trabajo',\n",
    "'perdi mi chamba',\n",
    "'me quede sin trabajo',\n",
    "'me quede sin chamba',\n",
    "'me corrieron',\n",
    "'renuncie',\n",
    "'sin empleo',\n",
    "'desempleados',\n",
    "'estoy desempleado',\n",
    "'me jubilaron',\n",
    "'busco trabajo',\n",
    "'estoy buscando trabajo',\n",
    "'busco chamba',\n",
    "'quiero trabajar',\n",
    "'contratame',\n",
    "'contratanme',\n",
    "'en busca de chamba',\n",
    "'en busca de trabajo',\n",
    "]).apply(lambda x:x.lower()).sort_values().rename('mention')).to_csv(\n",
    "'../../data/keywords/labor/lang/es',index=False)"
   ]
  },
  {
   "cell_type": "code",
   "execution_count": 72,
   "metadata": {},
   "outputs": [],
   "source": [
    "pd.DataFrame(pd.Series([\n",
    "'fiquei desempregado',\n",
    "'desempregado',\n",
    "'eu estou desempregado',\n",
    "'estou sem emprego',\n",
    "'perdi o trabalho',\n",
    "'perdi o trampo',\n",
    "'me demitiram',\n",
    "'fui mandado pra fora',\n",
    "'procuro um trabalho',\n",
    "'procuro um trampo',\n",
    "'estou na busca de um emprego',\n",
    "'procuro uma vaga de emprego',\n",
    "'estou a procura de uma vaga',\n",
    "'preciso de um emprego',\n",
    "]).apply(lambda x:x.lower()).sort_values().rename('mention')).to_csv(\n",
    "'../../data/keywords/labor/lang/br',index=False)"
   ]
  }
 ],
 "metadata": {
  "kernelspec": {
   "display_name": "Python 3",
   "language": "python",
   "name": "python3"
  },
  "language_info": {
   "codemirror_mode": {
    "name": "ipython",
    "version": 3
   },
   "file_extension": ".py",
   "mimetype": "text/x-python",
   "name": "python",
   "nbconvert_exporter": "python",
   "pygments_lexer": "ipython3",
   "version": "3.7.4"
  }
 },
 "nbformat": 4,
 "nbformat_minor": 2
}
