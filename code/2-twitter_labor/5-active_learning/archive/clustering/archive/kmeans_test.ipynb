{
 "cells": [
  {
   "cell_type": "code",
   "execution_count": 75,
   "metadata": {},
   "outputs": [],
   "source": [
    "from sentence_transformers import SentenceTransformer\n",
    "from sklearn.cluster import KMeans\n",
    "from argparse import Namespace\n",
    "from pathlib import Path\n",
    "import pandas as pd\n",
    "import pyarrow\n",
    "import os\n",
    "import matplotlib.pyplot as plt\n",
    "%matplotlib inline \n",
    "from collections import Counter\n",
    "from nltk import ngrams\n",
    "import string\n",
    "import re"
   ]
  },
  {
   "cell_type": "markdown",
   "metadata": {},
   "source": [
    "## Arguments"
   ]
  },
  {
   "cell_type": "code",
   "execution_count": 76,
   "metadata": {},
   "outputs": [],
   "source": [
    "args = Namespace()\n",
    "args.country_code='US'\n",
    "args.model_folder='iter_0-convbert-969622-evaluation'\n",
    "args.model_type='paraphrase-xlm-r-multilingual-v1'"
   ]
  },
  {
   "cell_type": "markdown",
   "metadata": {},
   "source": [
    "## Define base rates"
   ]
  },
  {
   "cell_type": "code",
   "execution_count": 77,
   "metadata": {},
   "outputs": [],
   "source": [
    "labels=['is_hired_1mo', 'is_unemployed', 'job_offer', 'job_search', 'lost_job_1mo']\n",
    "\n",
    "base_rates_old = {'US': [5.71e-5, 1.18e-5, 8.82e-4, 3.38e-5, 4.43e-6]}\n",
    "\n",
    "base_rates={'US':\n",
    "[5.97e-5, 3.03e-5,8.82e-4, 6.19e-5, 6.65e-6 ],\n",
    "#past values\n",
    "#6.91e-05,\n",
    "#1.18e-05,\n",
    "#2.28e-03,\n",
    "#3.51e-05,\n",
    "#5.44e-06],\n",
    "'MX': [2.73e-05, 1.11e-05, 1.77e-04, 8.36e-06, 1.64e-06],\n",
    "'BR': [7.52e-06, 1.51e-05, 1.43e-04, 2.86e-05, 3.6e-06]}\n",
    "\n",
    "N_random={'US':100002226, 'MX': 99998628, 'BR': 99984967 }\n",
    "\n",
    "\n",
    "base_ranks=[int(x*N_random[args.country_code]) for x in base_rates[args.country_code]]\n",
    "label2rank=dict(zip(labels,base_ranks))"
   ]
  },
  {
   "cell_type": "code",
   "execution_count": 78,
   "metadata": {},
   "outputs": [],
   "source": [
    "model = SentenceTransformer(args.model_type)"
   ]
  },
  {
   "cell_type": "markdown",
   "metadata": {},
   "source": [
    "## Utils"
   ]
  },
  {
   "cell_type": "code",
   "execution_count": 79,
   "metadata": {},
   "outputs": [
    {
     "ename": "KeyboardInterrupt",
     "evalue": "",
     "output_type": "error",
     "traceback": [
      "\u001b[0;31m---------------------------------------------------------------------------\u001b[0m",
      "\u001b[0;31mKeyboardInterrupt\u001b[0m                         Traceback (most recent call last)",
      "\u001b[0;32m<ipython-input-79-d54206f9ba3e>\u001b[0m in \u001b[0;36m<module>\u001b[0;34m\u001b[0m\n\u001b[1;32m      1\u001b[0m \u001b[0mrandom_set_dir\u001b[0m \u001b[0;34m=\u001b[0m \u001b[0mPath\u001b[0m\u001b[0;34m(\u001b[0m\u001b[0;34mf'/scratch/mt4493/twitter_labor/twitter-labor-data/data/random_samples/random_samples_splitted/{args.country_code}/evaluation'\u001b[0m\u001b[0;34m)\u001b[0m\u001b[0;34m\u001b[0m\u001b[0;34m\u001b[0m\u001b[0m\n\u001b[0;32m----> 2\u001b[0;31m text_df = pd.concat(\n\u001b[0m\u001b[1;32m      3\u001b[0m     \u001b[0mpd\u001b[0m\u001b[0;34m.\u001b[0m\u001b[0mread_parquet\u001b[0m\u001b[0;34m(\u001b[0m\u001b[0mparquet_file\u001b[0m\u001b[0;34m)\u001b[0m\u001b[0;34m\u001b[0m\u001b[0;34m\u001b[0m\u001b[0m\n\u001b[1;32m      4\u001b[0m     \u001b[0;32mfor\u001b[0m \u001b[0mparquet_file\u001b[0m \u001b[0;32min\u001b[0m \u001b[0mrandom_set_dir\u001b[0m\u001b[0;34m.\u001b[0m\u001b[0mglob\u001b[0m\u001b[0;34m(\u001b[0m\u001b[0;34m'*.parquet'\u001b[0m\u001b[0;34m)\u001b[0m\u001b[0;34m\u001b[0m\u001b[0;34m\u001b[0m\u001b[0m\n\u001b[1;32m      5\u001b[0m )\n",
      "\u001b[0;32m/scratch/mt4493/myjupyter/penv/lib/python3.8/site-packages/pandas/core/reshape/concat.py\u001b[0m in \u001b[0;36mconcat\u001b[0;34m(objs, axis, join, ignore_index, keys, levels, names, verify_integrity, sort, copy)\u001b[0m\n\u001b[1;32m    272\u001b[0m     \u001b[0mValueError\u001b[0m\u001b[0;34m:\u001b[0m \u001b[0mIndexes\u001b[0m \u001b[0mhave\u001b[0m \u001b[0moverlapping\u001b[0m \u001b[0mvalues\u001b[0m\u001b[0;34m:\u001b[0m \u001b[0;34m[\u001b[0m\u001b[0;34m'a'\u001b[0m\u001b[0;34m]\u001b[0m\u001b[0;34m\u001b[0m\u001b[0;34m\u001b[0m\u001b[0m\n\u001b[1;32m    273\u001b[0m     \"\"\"\n\u001b[0;32m--> 274\u001b[0;31m     op = _Concatenator(\n\u001b[0m\u001b[1;32m    275\u001b[0m         \u001b[0mobjs\u001b[0m\u001b[0;34m,\u001b[0m\u001b[0;34m\u001b[0m\u001b[0;34m\u001b[0m\u001b[0m\n\u001b[1;32m    276\u001b[0m         \u001b[0maxis\u001b[0m\u001b[0;34m=\u001b[0m\u001b[0maxis\u001b[0m\u001b[0;34m,\u001b[0m\u001b[0;34m\u001b[0m\u001b[0;34m\u001b[0m\u001b[0m\n",
      "\u001b[0;32m/scratch/mt4493/myjupyter/penv/lib/python3.8/site-packages/pandas/core/reshape/concat.py\u001b[0m in \u001b[0;36m__init__\u001b[0;34m(self, objs, axis, join, keys, levels, names, ignore_index, verify_integrity, copy, sort)\u001b[0m\n\u001b[1;32m    326\u001b[0m             \u001b[0mobjs\u001b[0m \u001b[0;34m=\u001b[0m \u001b[0;34m[\u001b[0m\u001b[0mobjs\u001b[0m\u001b[0;34m[\u001b[0m\u001b[0mk\u001b[0m\u001b[0;34m]\u001b[0m \u001b[0;32mfor\u001b[0m \u001b[0mk\u001b[0m \u001b[0;32min\u001b[0m \u001b[0mkeys\u001b[0m\u001b[0;34m]\u001b[0m\u001b[0;34m\u001b[0m\u001b[0;34m\u001b[0m\u001b[0m\n\u001b[1;32m    327\u001b[0m         \u001b[0;32melse\u001b[0m\u001b[0;34m:\u001b[0m\u001b[0;34m\u001b[0m\u001b[0;34m\u001b[0m\u001b[0m\n\u001b[0;32m--> 328\u001b[0;31m             \u001b[0mobjs\u001b[0m \u001b[0;34m=\u001b[0m \u001b[0mlist\u001b[0m\u001b[0;34m(\u001b[0m\u001b[0mobjs\u001b[0m\u001b[0;34m)\u001b[0m\u001b[0;34m\u001b[0m\u001b[0;34m\u001b[0m\u001b[0m\n\u001b[0m\u001b[1;32m    329\u001b[0m \u001b[0;34m\u001b[0m\u001b[0m\n\u001b[1;32m    330\u001b[0m         \u001b[0;32mif\u001b[0m \u001b[0mlen\u001b[0m\u001b[0;34m(\u001b[0m\u001b[0mobjs\u001b[0m\u001b[0;34m)\u001b[0m \u001b[0;34m==\u001b[0m \u001b[0;36m0\u001b[0m\u001b[0;34m:\u001b[0m\u001b[0;34m\u001b[0m\u001b[0;34m\u001b[0m\u001b[0m\n",
      "\u001b[0;32m<ipython-input-79-d54206f9ba3e>\u001b[0m in \u001b[0;36m<genexpr>\u001b[0;34m(.0)\u001b[0m\n\u001b[1;32m      1\u001b[0m \u001b[0mrandom_set_dir\u001b[0m \u001b[0;34m=\u001b[0m \u001b[0mPath\u001b[0m\u001b[0;34m(\u001b[0m\u001b[0;34mf'/scratch/mt4493/twitter_labor/twitter-labor-data/data/random_samples/random_samples_splitted/{args.country_code}/evaluation'\u001b[0m\u001b[0;34m)\u001b[0m\u001b[0;34m\u001b[0m\u001b[0;34m\u001b[0m\u001b[0m\n\u001b[1;32m      2\u001b[0m text_df = pd.concat(\n\u001b[0;32m----> 3\u001b[0;31m     \u001b[0mpd\u001b[0m\u001b[0;34m.\u001b[0m\u001b[0mread_parquet\u001b[0m\u001b[0;34m(\u001b[0m\u001b[0mparquet_file\u001b[0m\u001b[0;34m)\u001b[0m\u001b[0;34m\u001b[0m\u001b[0;34m\u001b[0m\u001b[0m\n\u001b[0m\u001b[1;32m      4\u001b[0m     \u001b[0;32mfor\u001b[0m \u001b[0mparquet_file\u001b[0m \u001b[0;32min\u001b[0m \u001b[0mrandom_set_dir\u001b[0m\u001b[0;34m.\u001b[0m\u001b[0mglob\u001b[0m\u001b[0;34m(\u001b[0m\u001b[0;34m'*.parquet'\u001b[0m\u001b[0;34m)\u001b[0m\u001b[0;34m\u001b[0m\u001b[0;34m\u001b[0m\u001b[0m\n\u001b[1;32m      5\u001b[0m )\n",
      "\u001b[0;32m/scratch/mt4493/myjupyter/penv/lib/python3.8/site-packages/pandas/io/parquet.py\u001b[0m in \u001b[0;36mread_parquet\u001b[0;34m(path, engine, columns, **kwargs)\u001b[0m\n\u001b[1;32m    315\u001b[0m     \"\"\"\n\u001b[1;32m    316\u001b[0m     \u001b[0mimpl\u001b[0m \u001b[0;34m=\u001b[0m \u001b[0mget_engine\u001b[0m\u001b[0;34m(\u001b[0m\u001b[0mengine\u001b[0m\u001b[0;34m)\u001b[0m\u001b[0;34m\u001b[0m\u001b[0;34m\u001b[0m\u001b[0m\n\u001b[0;32m--> 317\u001b[0;31m     \u001b[0;32mreturn\u001b[0m \u001b[0mimpl\u001b[0m\u001b[0;34m.\u001b[0m\u001b[0mread\u001b[0m\u001b[0;34m(\u001b[0m\u001b[0mpath\u001b[0m\u001b[0;34m,\u001b[0m \u001b[0mcolumns\u001b[0m\u001b[0;34m=\u001b[0m\u001b[0mcolumns\u001b[0m\u001b[0;34m,\u001b[0m \u001b[0;34m**\u001b[0m\u001b[0mkwargs\u001b[0m\u001b[0;34m)\u001b[0m\u001b[0;34m\u001b[0m\u001b[0;34m\u001b[0m\u001b[0m\n\u001b[0m",
      "\u001b[0;32m/scratch/mt4493/myjupyter/penv/lib/python3.8/site-packages/pandas/io/parquet.py\u001b[0m in \u001b[0;36mread\u001b[0;34m(self, path, columns, **kwargs)\u001b[0m\n\u001b[1;32m    139\u001b[0m \u001b[0;34m\u001b[0m\u001b[0m\n\u001b[1;32m    140\u001b[0m         \u001b[0mkwargs\u001b[0m\u001b[0;34m[\u001b[0m\u001b[0;34m\"use_pandas_metadata\"\u001b[0m\u001b[0;34m]\u001b[0m \u001b[0;34m=\u001b[0m \u001b[0;32mTrue\u001b[0m\u001b[0;34m\u001b[0m\u001b[0;34m\u001b[0m\u001b[0m\n\u001b[0;32m--> 141\u001b[0;31m         result = self.api.parquet.read_table(\n\u001b[0m\u001b[1;32m    142\u001b[0m             \u001b[0mpath\u001b[0m\u001b[0;34m,\u001b[0m \u001b[0mcolumns\u001b[0m\u001b[0;34m=\u001b[0m\u001b[0mcolumns\u001b[0m\u001b[0;34m,\u001b[0m \u001b[0mfilesystem\u001b[0m\u001b[0;34m=\u001b[0m\u001b[0mfs\u001b[0m\u001b[0;34m,\u001b[0m \u001b[0;34m**\u001b[0m\u001b[0mkwargs\u001b[0m\u001b[0;34m\u001b[0m\u001b[0;34m\u001b[0m\u001b[0m\n\u001b[1;32m    143\u001b[0m         ).to_pandas()\n",
      "\u001b[0;32m/scratch/mt4493/myjupyter/penv/lib/python3.8/site-packages/pyarrow/array.pxi\u001b[0m in \u001b[0;36mpyarrow.lib._PandasConvertible.to_pandas\u001b[0;34m()\u001b[0m\n",
      "\u001b[0;32m/scratch/mt4493/myjupyter/penv/lib/python3.8/site-packages/pyarrow/table.pxi\u001b[0m in \u001b[0;36mpyarrow.lib.Table._to_pandas\u001b[0;34m()\u001b[0m\n",
      "\u001b[0;32m/scratch/mt4493/myjupyter/penv/lib/python3.8/site-packages/pyarrow/pandas_compat.py\u001b[0m in \u001b[0;36mtable_to_blockmanager\u001b[0;34m(options, table, categories, ignore_metadata, types_mapper)\u001b[0m\n\u001b[1;32m    777\u001b[0m     \u001b[0m_check_data_column_metadata_consistency\u001b[0m\u001b[0;34m(\u001b[0m\u001b[0mall_columns\u001b[0m\u001b[0;34m)\u001b[0m\u001b[0;34m\u001b[0m\u001b[0;34m\u001b[0m\u001b[0m\n\u001b[1;32m    778\u001b[0m     \u001b[0mcolumns\u001b[0m \u001b[0;34m=\u001b[0m \u001b[0m_deserialize_column_index\u001b[0m\u001b[0;34m(\u001b[0m\u001b[0mtable\u001b[0m\u001b[0;34m,\u001b[0m \u001b[0mall_columns\u001b[0m\u001b[0;34m,\u001b[0m \u001b[0mcolumn_indexes\u001b[0m\u001b[0;34m)\u001b[0m\u001b[0;34m\u001b[0m\u001b[0;34m\u001b[0m\u001b[0m\n\u001b[0;32m--> 779\u001b[0;31m     \u001b[0mblocks\u001b[0m \u001b[0;34m=\u001b[0m \u001b[0m_table_to_blocks\u001b[0m\u001b[0;34m(\u001b[0m\u001b[0moptions\u001b[0m\u001b[0;34m,\u001b[0m \u001b[0mtable\u001b[0m\u001b[0;34m,\u001b[0m \u001b[0mcategories\u001b[0m\u001b[0;34m,\u001b[0m \u001b[0mext_columns_dtypes\u001b[0m\u001b[0;34m)\u001b[0m\u001b[0;34m\u001b[0m\u001b[0;34m\u001b[0m\u001b[0m\n\u001b[0m\u001b[1;32m    780\u001b[0m \u001b[0;34m\u001b[0m\u001b[0m\n\u001b[1;32m    781\u001b[0m     \u001b[0maxes\u001b[0m \u001b[0;34m=\u001b[0m \u001b[0;34m[\u001b[0m\u001b[0mcolumns\u001b[0m\u001b[0;34m,\u001b[0m \u001b[0mindex\u001b[0m\u001b[0;34m]\u001b[0m\u001b[0;34m\u001b[0m\u001b[0;34m\u001b[0m\u001b[0m\n",
      "\u001b[0;32m/scratch/mt4493/myjupyter/penv/lib/python3.8/site-packages/pyarrow/pandas_compat.py\u001b[0m in \u001b[0;36m_table_to_blocks\u001b[0;34m(options, block_table, categories, extension_columns)\u001b[0m\n\u001b[1;32m   1112\u001b[0m     \u001b[0;31m# Convert an arrow table to Block from the internal pandas API\u001b[0m\u001b[0;34m\u001b[0m\u001b[0;34m\u001b[0m\u001b[0;34m\u001b[0m\u001b[0m\n\u001b[1;32m   1113\u001b[0m     \u001b[0mcolumns\u001b[0m \u001b[0;34m=\u001b[0m \u001b[0mblock_table\u001b[0m\u001b[0;34m.\u001b[0m\u001b[0mcolumn_names\u001b[0m\u001b[0;34m\u001b[0m\u001b[0;34m\u001b[0m\u001b[0m\n\u001b[0;32m-> 1114\u001b[0;31m     result = pa.lib.table_to_blocks(options, block_table, categories,\n\u001b[0m\u001b[1;32m   1115\u001b[0m                                     list(extension_columns.keys()))\n\u001b[1;32m   1116\u001b[0m     return [_reconstruct_block(item, columns, extension_columns)\n",
      "\u001b[0;31mKeyboardInterrupt\u001b[0m: "
     ]
    }
   ],
   "source": [
    "random_set_dir = Path(f'/scratch/mt4493/twitter_labor/twitter-labor-data/data/random_samples/random_samples_splitted/{args.country_code}/evaluation')\n",
    "text_df = pd.concat(\n",
    "    pd.read_parquet(parquet_file)\n",
    "    for parquet_file in random_set_dir.glob('*.parquet')\n",
    ")"
   ]
  },
  {
   "cell_type": "code",
   "execution_count": 80,
   "metadata": {},
   "outputs": [],
   "source": [
    "scores_folder = f'/scratch/mt4493/twitter_labor/twitter-labor-data/data/inference/{args.country_code}/{args.model_folder}/output'"
   ]
  },
  {
   "cell_type": "code",
   "execution_count": 81,
   "metadata": {},
   "outputs": [],
   "source": [
    "def load_scores(label):\n",
    "    scores_dir = Path(os.path.join(scores_folder, label))\n",
    "    scores_df = pd.concat(\n",
    "    pd.read_parquet(parquet_file)\n",
    "    for parquet_file in scores_dir.glob('*.parquet')\n",
    "    )\n",
    "    return scores_df"
   ]
  },
  {
   "cell_type": "code",
   "execution_count": 82,
   "metadata": {},
   "outputs": [],
   "source": [
    "def get_elbow_graph(embeddings):\n",
    "    distortions = []\n",
    "    K = range(1,10)\n",
    "    for k in K:\n",
    "        kmeanModel = KMeans(n_clusters=k)\n",
    "        kmeanModel.fit(embeddings)\n",
    "        distortions.append(kmeanModel.inertia_)\n",
    "    plt.figure(figsize=(16,8))\n",
    "    plt.plot(K, distortions, 'bx-')\n",
    "    plt.xlabel('k')\n",
    "    plt.ylabel('Distortion')\n",
    "    plt.title('The Elbow Method showing the optimal k')\n",
    "    plt.show()"
   ]
  },
  {
   "cell_type": "code",
   "execution_count": 101,
   "metadata": {},
   "outputs": [],
   "source": [
    "def perform_k_means(embeddings, num_clusters, corpus_df):\n",
    "    clustering_model = KMeans(n_clusters=num_clusters)\n",
    "    clustering_model.fit(embeddings)\n",
    "    cluster_assignment = clustering_model.labels_\n",
    "    clustered_sentences = [[] for i in range(num_clusters)]\n",
    "    for sentence_id, cluster_id in enumerate(cluster_assignment):\n",
    "        clustered_sentences[cluster_id].append(corpus_df['text'].tolist()[sentence_id])\n",
    "    return clustered_sentences, cluster_assignment"
   ]
  },
  {
   "cell_type": "code",
   "execution_count": 84,
   "metadata": {},
   "outputs": [],
   "source": [
    "def get_most_common_ngrams(tweet_list, n, topk):\n",
    "    tweet_str = \" \".join(tweet_list)\n",
    "    for character in string.punctuation:\n",
    "        tweet_str = tweet_str.replace(character, \" \")\n",
    "    tweet_str = tweet_str.lower()\n",
    "    tweet_str = re.sub('http\\S+', ' ', tweet_str)\n",
    "    ngram_counts = Counter(ngrams(tweet_str.split(), n))\n",
    "    return ngram_counts.most_common(topk)"
   ]
  },
  {
   "cell_type": "code",
   "execution_count": 85,
   "metadata": {},
   "outputs": [],
   "source": [
    "def clean_tweets(tweet_list):\n",
    "    return [re.sub('http\\S+', ' ', tweet_str) for tweet_str in tweet_list]        "
   ]
  },
  {
   "cell_type": "code",
   "execution_count": 86,
   "metadata": {},
   "outputs": [],
   "source": [
    "def merge_df_top_tweets(text_df, scores_df, label):\n",
    "    merged_df = scores_df.merge(text_df, on=\"tweet_id\", how='inner')\n",
    "    merged_df['rank'] = merged_df['score'].rank(method='dense', ascending=False)\n",
    "    merged_df = merged_df.loc[merged_df['rank']<label2rank['lost_job_1mo']]\n",
    "    return merged_df"
   ]
  },
  {
   "cell_type": "code",
   "execution_count": null,
   "metadata": {},
   "outputs": [],
   "source": [
    "folder_path = '/scratch/mt4493/twitter_labor/twitter-labor-data/data/top_tweets'\n",
    "output_path = os.path.join(folder_path, args.country_code, args.model_folder)\n",
    "for label in labels:\n",
    "    print(label)\n",
    "    scores_df = load_scores(label)\n",
    "    merged_df = merge_df_top_tweets(text_df, scores_df, label)\n",
    "    if not os.path.exists(output_path):\n",
    "        os.makedirs(output_path)\n",
    "    merged_df.to_parquet(os.path.join(output_path, f'{label}.parquet'), index=False)"
   ]
  },
  {
   "cell_type": "markdown",
   "metadata": {},
   "source": [
    "# lost_job_1mo"
   ]
  },
  {
   "cell_type": "code",
   "execution_count": 87,
   "metadata": {},
   "outputs": [],
   "source": [
    "merged_df = pd.read_parquet(os.path.join(output_path, 'lost_job_1mo.parquet'))"
   ]
  },
  {
   "cell_type": "code",
   "execution_count": 88,
   "metadata": {},
   "outputs": [
    {
     "name": "stdout",
     "output_type": "stream",
     "text": [
      "665\n"
     ]
    }
   ],
   "source": [
    "print(label2rank['lost_job_1mo'])"
   ]
  },
  {
   "cell_type": "code",
   "execution_count": 89,
   "metadata": {},
   "outputs": [
    {
     "data": {
      "application/vnd.jupyter.widget-view+json": {
       "model_id": "d17df3ce8cc34fe08c0e53fb7c653d3f",
       "version_major": 2,
       "version_minor": 0
      },
      "text/plain": [
       "HBox(children=(FloatProgress(value=0.0, description='Batches', max=22.0, style=ProgressStyle(description_width…"
      ]
     },
     "metadata": {},
     "output_type": "display_data"
    },
    {
     "name": "stdout",
     "output_type": "stream",
     "text": [
      "\n"
     ]
    }
   ],
   "source": [
    "text_list = clean_tweets(merged_df['text'].tolist())\n",
    "corpus_embeddings = model.encode(text_list, show_progress_bar=True, convert_to_numpy=True)"
   ]
  },
  {
   "cell_type": "code",
   "execution_count": 90,
   "metadata": {},
   "outputs": [
    {
     "data": {
      "image/png": "[encoded data removed]",
      "text/plain": [
       "<Figure size 1152x576 with 1 Axes>"
      ]
     },
     "metadata": {
      "needs_background": "light"
     },
     "output_type": "display_data"
    }
   ],
   "source": [
    "get_elbow_graph(corpus_embeddings)"
   ]
  },
  {
   "cell_type": "code",
   "execution_count": 103,
   "metadata": {},
   "outputs": [],
   "source": [
    "cluster_tweets, merged_df['cluster'] = perform_k_means(corpus_embeddings, num_clusters=4, corpus_df=merged_df)\n",
    "cluster_1_tweets_list = cluster_tweets[0]\n",
    "cluster_2_tweets_list = cluster_tweets[1]\n",
    "cluster_3_tweets_list = cluster_tweets[2]\n",
    "cluster_4_tweets_list = cluster_tweets[3]\n"
   ]
  },
  {
   "cell_type": "code",
   "execution_count": 104,
   "metadata": {},
   "outputs": [
    {
     "data": {
      "text/html": [
       "<div>\n",
       "<style scoped>\n",
       "    .dataframe tbody tr th:only-of-type {\n",
       "        vertical-align: middle;\n",
       "    }\n",
       "\n",
       "    .dataframe tbody tr th {\n",
       "        vertical-align: top;\n",
       "    }\n",
       "\n",
       "    .dataframe thead th {\n",
       "        text-align: right;\n",
       "    }\n",
       "</style>\n",
       "<table border=\"1\" class=\"dataframe\">\n",
       "  <thead>\n",
       "    <tr style=\"text-align: right;\">\n",
       "      <th></th>\n",
       "      <th>cluster</th>\n",
       "      <th>score</th>\n",
       "    </tr>\n",
       "  </thead>\n",
       "  <tbody>\n",
       "    <tr>\n",
       "      <th>0</th>\n",
       "      <td>0</td>\n",
       "      <td>0.994957</td>\n",
       "    </tr>\n",
       "    <tr>\n",
       "      <th>1</th>\n",
       "      <td>1</td>\n",
       "      <td>0.995086</td>\n",
       "    </tr>\n",
       "    <tr>\n",
       "      <th>2</th>\n",
       "      <td>2</td>\n",
       "      <td>0.995022</td>\n",
       "    </tr>\n",
       "    <tr>\n",
       "      <th>3</th>\n",
       "      <td>3</td>\n",
       "      <td>0.995087</td>\n",
       "    </tr>\n",
       "  </tbody>\n",
       "</table>\n",
       "</div>"
      ],
      "text/plain": [
       "   cluster     score\n",
       "0        0  0.994957\n",
       "1        1  0.995086\n",
       "2        2  0.995022\n",
       "3        3  0.995087"
      ]
     },
     "execution_count": 104,
     "metadata": {},
     "output_type": "execute_result"
    }
   ],
   "source": [
    "merged_df.groupby('cluster', as_index=False)['score'].mean()"
   ]
  },
  {
   "cell_type": "code",
   "execution_count": 66,
   "metadata": {},
   "outputs": [
    {
     "data": {
      "text/plain": [
       "['Got kicked off the beach yesterday time for round two 😂😂',\n",
       " 'Got really sick today. My mom, second mom and boyfriend helped me get through the day. Love them all.',\n",
       " \"Got flipped off this morning. Obviously it's going to be a good day.\",\n",
       " '@Greasy_Panic Glad it wasn’t just Me. Got booted off my PS4 last night . And internet hasn’t worked since',\n",
       " 'So I just got fired LMFAOO',\n",
       " \"Got laid off today. Next Friday will be my last day.  I'm sad & very stressed, but the xanax & ice cream are making me feel a little better.\",\n",
       " 'I got caught in the rain yesterday. It was such a bummer.',\n",
       " 'Got pulled over today, cop let me off with a warning.  Cool.',\n",
       " 'Wow I got fried today',\n",
       " 'I got in a car wreck today. Great. https://t.co/MqSJXa4oud',\n",
       " \"I got let go today and I'm really sad now\",\n",
       " 'I got laid today https://t.co/FZXIKzKtbN',\n",
       " 'I literally jumped ship yesterday.',\n",
       " \"I got laid last night. And I get some tomorrow because it's my birthday. Damn.\",\n",
       " 'Apparently I got hacked last week. Thanks to those who let me know. Sorry to those who got PMs from me.',\n",
       " 'Got stoned today',\n",
       " 'Really proud of myself. Actually got out and ran yesterday.',\n",
       " 'Yeah well I just got fired... So today just got even worse.',\n",
       " 'Well. Just got laid off. Anyone want to hire a former IGN editor?',\n",
       " 'Got in a wreck today. Cars gone.',\n",
       " 'I got divorced today, thankfully my ex can start dating.  Oh...wait....',\n",
       " 'Jumped off a cliff yesterday. 😊 #Drugs',\n",
       " 'i got ditched today wow',\n",
       " 'Just got laid off. Time to buy and play #starcraft2. #copingthrugaming',\n",
       " 'I got called off work today, not happy! :/',\n",
       " 'I Got Hurt Last Night...Ugh ;-/ #FML!!!!',\n",
       " '@jailedsparkle Not funny considering I just got fired yesterday.',\n",
       " \"I got kicked out of a bar last night. It shouldn't be too hard to redeem myself tonight right?\",\n",
       " \"I just got kicked out of my house. So I'll try to upload videos every now and then. But when I move I'll upload every other day. 💯👌\",\n",
       " 'So I got fired today...😒',\n",
       " \"Just got banned from Facebook again. They’re treating me like I'm John Gotti... One false move and I'm behind bars!\",\n",
       " 'I just got sunburned last week and here I go again',\n",
       " '@mallory1712 Got laid off today. I’m right there with ya.',\n",
       " \"Just got dumped. Going out tonight. I'm wearing #velour pants and my #toystory sweat shirt with a #snapback. http://t.co/lSBZz6DH\",\n",
       " 'Just got called off tmr morning 😴😍 https://t.co/jVLM1VBZng',\n",
       " \"I got killed today, I'm not here for a haircut though\",\n",
       " 'I got kicked out the house today.. Never thought I see this day coming',\n",
       " 'Guess I got sent off today',\n",
       " \"It's been a while since that happened, so I really got to me today.\",\n",
       " 'I broke my bank account today.',\n",
       " \"@KevinHart4real I want to see you do your thing at The Paramount in LI but I got fired yesterday and I don't have $$$ 😔\",\n",
       " 'Got called off today 💯',\n",
       " 'I got fired yesterday. Today, I learned to paint.:  http://bit.ly/gRXGHP #pic',\n",
       " 'got pulled over again today. i love my life.',\n",
       " 'I finally got laid tonight! #laid #lucky https://t.co/Is3ivYZHsg',\n",
       " 'I got hurt tonight.',\n",
       " '@DannyClayton Was not me... But I was cutting it way too close. Just signed off yesterday!',\n",
       " 'We got sent off today',\n",
       " \"I got laid off today so the best news I've heard was @eddiehermida taking over vocals for @suicidesilence best of luck brother Cali Love\",\n",
       " \"Actually got blown off tonight. Never happened before. I'll drink to that\",\n",
       " 'I got ripped off today ... twice.',\n",
       " 'Definitely getting fired today. #MyLife',\n",
       " 'Got a little carried away last night.\\ue047',\n",
       " 'Well I think I got fired today',\n",
       " 'I got hit in the head today, and I went to the hospital',\n",
       " 'I got fired today, and I’m genuinely ecstatic about it.\\n\\nThere’s nothing like some adversity to spice up your comeback story.\\n\\n#OwnYourLife #PositivityWins #Optimism #Mindset #PMA @garyvee',\n",
       " 'I got doused in gasoline today.',\n",
       " \"I got laid off yesterday... not really sure how to be right now. sooo here's a watercolor wander babe. \\n#drawmore #artistsontwitter https://t.co/1EHOHc3Y25\",\n",
       " '@BC_265 @amazon i would use it on food for me and my dog. just got laid off from work today. i dont have a confirmed return date yet.',\n",
       " \"Got thrown off a motorcycle yesterday and now I'm in so much pain\",\n",
       " \"I got cut twice today! :'(\",\n",
       " 'So yeah I got jumped today guys &amp; it hurt.',\n",
       " 'I got pulled over today so that’s a first.',\n",
       " 'Got jumped today. 3 on 1.',\n",
       " 'I got laid off yesterday and flights are real cheap bc corona virus and I just renewed my passport....... where we goin',\n",
       " \"@brdthompson That's always good to hear. :) And I got out yesterday.\",\n",
       " 'Welp, got pulled over today. #living',\n",
       " 'So I got disowned today wbu😂😅',\n",
       " 'I just got malled today...haha get it?',\n",
       " 'Wow! Got dumped this week. Bummer...life goes on...',\n",
       " 'Just got fired for the first time ever...',\n",
       " 'Got called off today 😴🙌',\n",
       " 'I became broke today 🙃💗',\n",
       " 'I just got laid off for the first time! #laidoff #nojob',\n",
       " 'I got cursed out last night.',\n",
       " \"Just got called off and I don't think I've ever been so excited to sleep more.\",\n",
       " '@swaveyvicc @queermurphys Same I got dumped yesterday',\n",
       " \"Really got sidetracked today. I hope i'll be more focused tomorrow.\",\n",
       " 'So I got banned from havertown chipotle today',\n",
       " \"well just got dumped today thak u so much made my night :'( #mixedemotions\",\n",
       " 'So I got arrested last night? Wtf.',\n",
       " '@ClayTravisBGID @CourtneyCummz I just got fired.',\n",
       " 'So I got pulled over tonight!',\n",
       " 'Got shut out this morning.',\n",
       " '@JanaeDevean I feel you bro, I got laid off last month. Company shutdown  I been there 13 years.',\n",
       " \"I broke my finger yesterday. On the other hand, I'm ok.\",\n",
       " \"Apparently I got fired today. Huh, that's unfortunate. #Fired http://t.co/5Wg3qA7len\",\n",
       " 'Got put on some meds today. & got my blood drawn... ohh shitttt!',\n",
       " 'It hit me today .....',\n",
       " \"Got called off work today. So nice to just relax in the morning. Guess I could get up and get dressed. I'm thinking it's sweatpants day!\",\n",
       " 'I got fired from Rite Aid today....',\n",
       " 'I just got sick overnight. Okay.',\n",
       " 'I got hurt bad yesterday',\n",
       " 'Tim Tebow is out of a job, and so am I. Got laid off yesterday :/ #godhasaplan',\n",
       " 'I got locked out today!!',\n",
       " 'Got called off this morning. One less double I have to work this week wooohooo',\n",
       " 'I got my heart broke today for the first time in my life...',\n",
       " 'Got blindsided today. Smart people telling me to breathe, pray and refocus. Smart, smart people...',\n",
       " 'I got fired today, yay me. http://t.co/GH0YBLankg',\n",
       " 'Just got called out again. #RigLife',\n",
       " 'Got arrested today. :-(',\n",
       " 'I got cleared today!!!! No more physical therapy!!!!!!!',\n",
       " \"Yo I swear I'm done wit niggas frfr ! Im chillin . I just got pissed off at 4 in the morning . 😔\",\n",
       " 'I got fatter this weekend.',\n",
       " 'I got hit today and my car got pretty messed up! Thank for being here for me @LanceB0909 @aleexismoniquee and Kamryn https://t.co/LEeAvwXOmH',\n",
       " \"Truthful Tuesday I don't give a shit about your problems dude! I got laid last night!\",\n",
       " \"Basically what I'm saying is that I'm an idiot and totally got burnt today and I'm really mad at myself for it.\",\n",
       " \"Just got suspended again. I'm apparently supposed to be okay with gay porn on my feed. #Twitter takes their side when I defend my stance.\",\n",
       " \"Got fired this week from my Christianity Today blogging gig. Here's the scoop. Good times. http://t.co/fq9D4No\",\n",
       " 'Just got fired. Best day of my life.',\n",
       " 'I got called off today god is so good',\n",
       " \"My feelings got hurt today. That's rare. I had to leave work.\",\n",
       " \"It really hit me yesterday that I'm leaving.\",\n",
       " 'Got called off work today! Wooooo! Oh my god, yay! Yay! Yay! #firstdayoffinmonths #neverbeensoexcited',\n",
       " 'Got dumped today so if anyone wants to take me to @awonderland tonight',\n",
       " 'i got arrested yesterday 😞 worse experience ever. its so bad.',\n",
       " \"@bkt_legitly I got let go today. Let's burn it all down\",\n",
       " 'I got dumped yesterday but I still love myself so there we go',\n",
       " \"I got fired yesterday, from one of my jobs.. I've never been fired. I think I was a little too excited about it though.\",\n",
       " \"I honestly just got dumped Monday and @Scottie_Martin 's tweets can make me smile! And feel better\\n\\n-Erin\",\n",
       " \"I got fried out at the beach today and I'm pretty sure everyone thinks that I have a baby now...\",\n",
       " 'I got sick out of nowhere today.',\n",
       " 'I just got dumped and today fucking sucks so if anyone wants to send me pics of their animals i’d greatly appreciate it.',\n",
       " 'I got fired from my Job today!!! #Random',\n",
       " 'I broke my bones today',\n",
       " \"So last week, I got laid off. Sucks, right? Luckily, I've still got health insurance for a little while, which is nice. But not for long!\",\n",
       " \"@franhealy Stressed out. I got laid off yesterday and I'm worried about my coworkers still working.\",\n",
       " 'I would like to thank the followers I have on my humble account. I just got out of Twitter jail today and was suspended for 14 days. Twitter said I was labeled as spam by accident. Imagine that.  Please consider building up my followers if you like my content. Thanks!',\n",
       " 'Got called off work tonight. First day off in a week. Beautiful. #waitresslife',\n",
       " 'Just kind of really pissed off today. Sorry everyone who has to see me.',\n",
       " 'Thanks everyone. I got discharged yesterday from the hospital, now I just have to be careful with things.',\n",
       " 'So I just got banned from one of the racing tracks...',\n",
       " 'got fired yesterday. u.u',\n",
       " \"Lol I got carded yesterday. The lady didn't think I was 18, I'm actually 21...\",\n",
       " 'Got dumped today. then I come home and my grandma ssks: \"how was your day?\" https://t.co/xOqh3rZBqR',\n",
       " 'I got cleared to work yesterday! S/O to my doctor he a real one! Thank God above all else, from me and my bank account!!',\n",
       " 'lost my job yesterday. Anyone who wants to party hit me up tonight ill buy',\n",
       " 'I got pulled over today, scary shit.',\n",
       " 'Just got fired 🙃🙃🙃🙃🙃🙃🙃🙃🙃🙃🙃🙃🙃🙃🙃🙃🙃🙃🙃🙃🙃🙃🙃😂😂😂😂😂😂😂😂😂😂😂😂😂😂',\n",
       " \"@JD_2020 ooh. I'd like one ..got laid off last Friday now I have no hope ....\",\n",
       " '@_prettySTyLiSt_ nigga I got fired last week..smh',\n",
       " 'I got fired from my job as a beekeeper today.',\n",
       " 'I got fired on Thursday 😂 https://t.co/TDBxG4vrNL',\n",
       " 'I got fucking hammered last night.',\n",
       " \"@HallettKellen7 @madykloppel I mean, just got suspended last week. but besides that 😂 it's all good down here\",\n",
       " \"I got fired today at my night job!!!! Yes... Now I can sleep at night... Thank you attractive stinky girl!!! You're awesome!!!\\n\\nI'm all honesty, I couldn't keep doing 17 hour days like this... Thank Jesus.\",\n",
       " 'I took off today, just b/c...',\n",
       " \"Got discharged yesterday and here it is after 2 am and I'm back up Hopkins @ Johns Hopkins ER https://t.co/85jI2CRIG1\",\n",
       " 'Just got up, long night in tha lab...boy i got fucked up last night smh',\n",
       " 'Storms clogging Philly airport. On the plane for almost two hours. Just got cancelled. Not the start to the weekend I was hoping for.',\n",
       " \"Whoa! It just hit me. I'm not trying to stay at home today.\",\n",
       " 'Got over served last night.',\n",
       " 'bitch I got laid off yesterday 😭😂 https://t.co/kQvn77rp4Z',\n",
       " 'It just hit me that I have to go to school today.',\n",
       " 'Bruise on my back and bump on my head..I seriously think I got jumped last night? #lolwtf',\n",
       " 'I got punched today',\n",
       " \"I got hit in the nose today. And I just want to say, it was probably the worst thing I've ever felt in my life.\",\n",
       " 'had to take off work today. Lost my voice. Feel like crap...',\n",
       " \"I really got brushed off today after checking on someone to see if they're ok and healthy.... like really\",\n",
       " 'i got cleared today and i don’t think i’ve ever been so ready to go to athletics',\n",
       " 'Just got sent home from work today. Ear infections.',\n",
       " 'I just got laid off so why not #EsuranceSave30',\n",
       " 'Totally got pulled over last night.',\n",
       " \"Went broke today.. I'll get my money back if I have too\",\n",
       " 'Just got called off tonight , 4 day weekend , whatttttup .',\n",
       " 'Well, just got fired from Bellicose. Who really wants to be in a Tool wannabe band anyway. I already have... http://fb.me/ug6ZQWHz',\n",
       " \"I on my back to the hospital today. They didn't keep me yesterday so I just got to turn in paperwork. Yesterday I was accuseed of posting bad things about somebody on Facebook. If I got shit to talk I private... https://t.co/FKuozidcrh\",\n",
       " 'Me getting fired yesterday really put things in perspective for me',\n",
       " 'Just got hit. Sweet, a car accident too. This day blows chunks.',\n",
       " \"Today has been a day, y'all. \\nDidn't sleep much last night. Got pissed off first thing today. Got over it. Was actually productive and cleaned out my cabinet and refrigerator. Hung out with my 12 year old sister. Just an odd, random day.\",\n",
       " 'I got fired from my job yesterday... Damnit all..',\n",
       " 'Yes, I got hit today. #JTHBP',\n",
       " 'Just got fired. #bestdayever \\\\m/😝',\n",
       " 'I got rid of Facebook today. Just over it. Have been for a while.',\n",
       " 'got sent home today. I hate being sick 😩',\n",
       " 'Got jumped last night, so Facebook message me cause I have no phone',\n",
       " 'Just got called off of work today so someone do something with me!!!',\n",
       " '@addigardner I actually got fired today?? Idk if this tweet had anything to do with it.',\n",
       " \"I've already called Holly 3 times today and I just got out of school...\",\n",
       " \"@vincenzonibali I'm going through a divorce that has just left me so heartbroken and I got laid off last week.May I get one of your jerseys\",\n",
       " 'dam I got broke last night lmao',\n",
       " 'So I just got pulled over for the first time tonight. It was soooo scary, and wasnt even my fault. :(',\n",
       " 'I got burnt today....how?',\n",
       " 'I got punched in the face yesterday.',\n",
       " 'I just got shoot out last night! -dex']"
      ]
     },
     "execution_count": 66,
     "metadata": {},
     "output_type": "execute_result"
    }
   ],
   "source": [
    "cluster_1_tweets_list"
   ]
  },
  {
   "cell_type": "code",
   "execution_count": 106,
   "metadata": {},
   "outputs": [
    {
     "data": {
      "text/plain": [
       "[(('lost', 'my'), 57),\n",
       " (('just', 'lost'), 47),\n",
       " (('i', 'lost'), 32),\n",
       " (('i', 'just'), 27),\n",
       " (('lost', 'power'), 23),\n",
       " (('got', 'lost'), 22),\n",
       " (('last', 'night'), 18),\n",
       " (('t', 'co'), 15),\n",
       " (('my', 'phone'), 14),\n",
       " (('just', 'got'), 13),\n",
       " (('today', 'i'), 11),\n",
       " (('lost', 'it'), 9),\n",
       " (('i', 'got'), 8),\n",
       " (('my', 'job'), 7),\n",
       " (('so', 'i'), 7),\n",
       " (('lost', 'in'), 7),\n",
       " (('i', 'm'), 7),\n",
       " (('my', 'voice'), 6),\n",
       " (('lost', 'today'), 6),\n",
       " (('my', 'wallet'), 5)]"
      ]
     },
     "execution_count": 106,
     "metadata": {},
     "output_type": "execute_result"
    }
   ],
   "source": [
    "get_most_common_ngrams(cluster_1_tweets_list, n=2, topk=20)"
   ]
  },
  {
   "cell_type": "code",
   "execution_count": 107,
   "metadata": {},
   "outputs": [
    {
     "data": {
      "text/plain": [
       "[(('i', 'got'), 83),\n",
       " (('just', 'got'), 42),\n",
       " (('got', 'fired'), 26),\n",
       " (('got', 'laid'), 22),\n",
       " (('i', 'm'), 22),\n",
       " (('i', 'just'), 21),\n",
       " (('last', 'night'), 19),\n",
       " (('laid', 'off'), 17),\n",
       " (('today', 'i'), 16),\n",
       " (('and', 'i'), 16),\n",
       " (('t', 'co'), 15),\n",
       " (('off', 'today'), 12),\n",
       " (('got', 'called'), 12),\n",
       " (('called', 'off'), 12),\n",
       " (('today', 'and'), 10),\n",
       " (('so', 'i'), 10),\n",
       " (('got', 'dumped'), 9),\n",
       " (('got', 'pulled'), 8),\n",
       " (('pulled', 'over'), 8),\n",
       " (('out', 'of'), 8)]"
      ]
     },
     "execution_count": 107,
     "metadata": {},
     "output_type": "execute_result"
    }
   ],
   "source": [
    "get_most_common_ngrams(cluster_2_tweets_list, n=2, topk=20)"
   ]
  },
  {
   "cell_type": "code",
   "execution_count": 108,
   "metadata": {},
   "outputs": [
    {
     "data": {
      "text/plain": [
       "[(('just', 'got'), 154),\n",
       " (('out', 'of'), 126),\n",
       " (('got', 'out'), 79),\n",
       " (('got', 'kicked'), 54),\n",
       " (('kicked', 'out'), 52),\n",
       " (('i', 'just'), 31),\n",
       " (('of', 'the'), 26),\n",
       " (('of', 'my'), 17),\n",
       " (('i', 'got'), 16),\n",
       " (('of', 'school'), 11),\n",
       " (('t', 'co'), 11),\n",
       " (('got', 'home'), 10),\n",
       " (('locked', 'out'), 10),\n",
       " (('my', 'house'), 10),\n",
       " (('the', 'hospital'), 10),\n",
       " (('of', 'bed'), 10),\n",
       " (('got', 'locked'), 9),\n",
       " (('i', 'm'), 9),\n",
       " (('last', 'night'), 8),\n",
       " (('of', 'a'), 7)]"
      ]
     },
     "execution_count": 108,
     "metadata": {},
     "output_type": "execute_result"
    }
   ],
   "source": [
    "get_most_common_ngrams(cluster_3_tweets_list, n=2, topk=20)"
   ]
  },
  {
   "cell_type": "code",
   "execution_count": 109,
   "metadata": {},
   "outputs": [
    {
     "data": {
      "text/plain": [
       "[(('just', 'got'), 168),\n",
       " (('i', 'just'), 89),\n",
       " (('got', 'pulled'), 25),\n",
       " (('pulled', 'over'), 25),\n",
       " (('got', 'pissed'), 22),\n",
       " (('pissed', 'off'), 18),\n",
       " (('got', 'fired'), 11),\n",
       " (('t', 'co'), 10),\n",
       " (('got', 'dumped'), 10),\n",
       " (('the', 'fuck'), 7),\n",
       " (('just', 'fell'), 7),\n",
       " (('got', 'laid'), 6),\n",
       " (('no', 'reason'), 5),\n",
       " (('fell', 'out'), 5),\n",
       " (('got', 'hit'), 5),\n",
       " (('out', 'of'), 4),\n",
       " (('and', 'i'), 4),\n",
       " (('well', 'i'), 4),\n",
       " (('i', 'm'), 4),\n",
       " (('for', 'the'), 4)]"
      ]
     },
     "execution_count": 109,
     "metadata": {},
     "output_type": "execute_result"
    }
   ],
   "source": [
    "get_most_common_ngrams(cluster_4_tweets_list, n=2, topk=20)"
   ]
  },
  {
   "cell_type": "code",
   "execution_count": 26,
   "metadata": {},
   "outputs": [],
   "source": [
    "list_1=get_most_common_ngrams(cluster_1_tweets_list, n=4, topk=20)"
   ]
  },
  {
   "cell_type": "code",
   "execution_count": 27,
   "metadata": {},
   "outputs": [],
   "source": [
    "list_2=get_most_common_ngrams(cluster_2_tweets_list, n=4, topk=20)"
   ]
  },
  {
   "cell_type": "code",
   "execution_count": 28,
   "metadata": {},
   "outputs": [
    {
     "data": {
      "text/plain": [
       "('i', 'got')"
      ]
     },
     "execution_count": 28,
     "metadata": {},
     "output_type": "execute_result"
    }
   ],
   "source": [
    "get_most_common_ngrams(cluster_2_tweets_list, n=2, topk=20)[0][0]"
   ]
  },
  {
   "cell_type": "code",
   "execution_count": 29,
   "metadata": {},
   "outputs": [],
   "source": [
    "def difference_ngrams(list_1, list_2, n):\n",
    "    if len(list_1) == len(list_2):\n",
    "        list_ngram_1 = list()\n",
    "        list_ngram_2 = list()\n",
    "        for ngram_block in list_1:\n",
    "            list_ngram_1.append(ngram_block[0])\n",
    "        for ngram_block in list_2:\n",
    "            list_ngram_2.append(ngram_block[0])\n",
    "        inter_list = list(set(list_ngram_1).intersection(list_ngram_2))\n",
    "        print(f'{str(100*len(inter_list)/len(list_ngram_1))}% of {str(n)}-grams in common')\n",
    "        print(f'*******{str(n)} grams in common:*******', *inter_list, sep='\\n')\n",
    "        print(f'*******{str(n)} grams specific to cluster 1:*******', *[ngram for ngram in list_ngram_1 if ngram not in inter_list], sep='\\n')\n",
    "        print(f'*******{str(n)} grams specific to cluster 2:*******', *[ngram for ngram in list_ngram_2 if ngram not in inter_list], sep='\\n')\n"
   ]
  },
  {
   "cell_type": "markdown",
   "metadata": {},
   "source": [
    "## is_hired_1mo:"
   ]
  },
  {
   "cell_type": "code",
   "execution_count": 131,
   "metadata": {},
   "outputs": [],
   "source": [
    "merged_df = pd.read_parquet(os.path.join(output_path, 'is_hired_1mo.parquet'))"
   ]
  },
  {
   "cell_type": "code",
   "execution_count": 132,
   "metadata": {},
   "outputs": [
    {
     "name": "stdout",
     "output_type": "stream",
     "text": [
      "5970\n"
     ]
    }
   ],
   "source": [
    "print(label2rank['is_hired_1mo'])"
   ]
  },
  {
   "cell_type": "code",
   "execution_count": 133,
   "metadata": {},
   "outputs": [
    {
     "data": {
      "application/vnd.jupyter.widget-view+json": {
       "model_id": "d737ff65a59d42efb0048db300e4f7de",
       "version_major": 2,
       "version_minor": 0
      },
      "text/plain": [
       "HBox(children=(FloatProgress(value=0.0, description='Batches', max=25.0, style=ProgressStyle(description_width…"
      ]
     },
     "metadata": {},
     "output_type": "display_data"
    },
    {
     "name": "stdout",
     "output_type": "stream",
     "text": [
      "\n"
     ]
    }
   ],
   "source": [
    "text_list = clean_tweets(merged_df['text'].tolist())\n",
    "corpus_embeddings = model.encode(text_list, show_progress_bar=True, convert_to_numpy=True)"
   ]
  },
  {
   "cell_type": "code",
   "execution_count": 134,
   "metadata": {},
   "outputs": [
    {
     "data": {
      "image/png": "[encoded data removed]",
      "text/plain": [
       "<Figure size 1152x576 with 1 Axes>"
      ]
     },
     "metadata": {
      "needs_background": "light"
     },
     "output_type": "display_data"
    }
   ],
   "source": [
    "get_elbow_graph(corpus_embeddings)"
   ]
  },
  {
   "cell_type": "code",
   "execution_count": 135,
   "metadata": {},
   "outputs": [],
   "source": [
    "cluster_tweets, merged_df['cluster'] = perform_k_means(corpus_embeddings, num_clusters=2, corpus_df=merged_df)\n",
    "cluster_1_tweets_list = cluster_tweets[0]\n",
    "cluster_2_tweets_list = cluster_tweets[1]\n",
    "# cluster_3_tweets_list = cluster_tweets[2]\n",
    "# cluster_4_tweets_list = cluster_tweets[3]"
   ]
  },
  {
   "cell_type": "code",
   "execution_count": 136,
   "metadata": {},
   "outputs": [
    {
     "data": {
      "text/html": [
       "<div>\n",
       "<style scoped>\n",
       "    .dataframe tbody tr th:only-of-type {\n",
       "        vertical-align: middle;\n",
       "    }\n",
       "\n",
       "    .dataframe tbody tr th {\n",
       "        vertical-align: top;\n",
       "    }\n",
       "\n",
       "    .dataframe thead th {\n",
       "        text-align: right;\n",
       "    }\n",
       "</style>\n",
       "<table border=\"1\" class=\"dataframe\">\n",
       "  <thead>\n",
       "    <tr style=\"text-align: right;\">\n",
       "      <th></th>\n",
       "      <th>cluster</th>\n",
       "      <th>score</th>\n",
       "    </tr>\n",
       "  </thead>\n",
       "  <tbody>\n",
       "    <tr>\n",
       "      <th>0</th>\n",
       "      <td>0</td>\n",
       "      <td>0.973546</td>\n",
       "    </tr>\n",
       "    <tr>\n",
       "      <th>1</th>\n",
       "      <td>1</td>\n",
       "      <td>0.973498</td>\n",
       "    </tr>\n",
       "  </tbody>\n",
       "</table>\n",
       "</div>"
      ],
      "text/plain": [
       "   cluster     score\n",
       "0        0  0.973546\n",
       "1        1  0.973498"
      ]
     },
     "execution_count": 136,
     "metadata": {},
     "output_type": "execute_result"
    }
   ],
   "source": [
    "merged_df.groupby('cluster', as_index=False)['score'].mean()"
   ]
  },
  {
   "cell_type": "code",
   "execution_count": 137,
   "metadata": {},
   "outputs": [
    {
     "data": {
      "text/plain": [
       "[(('my', 'new', 'job'), 294),\n",
       " (('start', 'my', 'new'), 228),\n",
       " (('i', 'start', 'my'), 130),\n",
       " (('new', 'job', 'tomorrow'), 103),\n",
       " (('new', 'job', 'today'), 57),\n",
       " (('to', 'start', 'my'), 54),\n",
       " (('my', 'first', 'day'), 33),\n",
       " (('new', 'job', 'on'), 31),\n",
       " (('a', 'new', 'job'), 26),\n",
       " (('wait', 'to', 'start'), 25),\n",
       " (('got', 'the', 'job'), 23),\n",
       " (('starting', 'my', 'new'), 23),\n",
       " (('can', 't', 'wait'), 22),\n",
       " (('first', 'day', 'of'), 22),\n",
       " (('first', 'day', 'at'), 20),\n",
       " (('at', 'my', 'new'), 20),\n",
       " (('start', 'my', 'first'), 20),\n",
       " (('t', 'wait', 'to'), 19),\n",
       " (('excited', 'to', 'start'), 19),\n",
       " (('job', 'on', 'monday'), 18)]"
      ]
     },
     "execution_count": 137,
     "metadata": {},
     "output_type": "execute_result"
    }
   ],
   "source": [
    "get_most_common_ngrams(cluster_1_tweets_list, n=3, topk=20)"
   ]
  },
  {
   "cell_type": "code",
   "execution_count": 138,
   "metadata": {},
   "outputs": [
    {
     "data": {
      "text/plain": [
       "[(('got', 'the', 'job'), 124),\n",
       " (('i', 'got', 'the'), 83),\n",
       " (('a', 'new', 'job'), 45),\n",
       " (('got', 'a', 'new'), 43),\n",
       " (('just', 'got', 'hired'), 25),\n",
       " (('got', 'a', 'job'), 25),\n",
       " (('i', 'got', 'a'), 24),\n",
       " (('just', 'got', 'a'), 22),\n",
       " (('got', 'hired', 'at'), 18),\n",
       " (('i', 'just', 'got'), 18),\n",
       " (('yay', 'i', 'got'), 14),\n",
       " (('job', 'i', 'got'), 14),\n",
       " (('i', 'got', 'hired'), 12),\n",
       " (('the', 'job', 'i'), 12),\n",
       " (('got', 'hired', 'on'), 11),\n",
       " (('hired', 'on', 'the'), 11),\n",
       " (('new', 'job', 'today'), 8),\n",
       " (('on', 'the', 'spot'), 8),\n",
       " (('the', 'job', 'yay'), 7),\n",
       " (('finally', 'got', 'a'), 7)]"
      ]
     },
     "execution_count": 138,
     "metadata": {},
     "output_type": "execute_result"
    }
   ],
   "source": [
    "get_most_common_ngrams(cluster_2_tweets_list, n=3, topk=20)"
   ]
  },
  {
   "cell_type": "markdown",
   "metadata": {},
   "source": [
    "## is_unemployed"
   ]
  },
  {
   "cell_type": "code",
   "execution_count": 139,
   "metadata": {},
   "outputs": [],
   "source": [
    "merged_df = pd.read_parquet(os.path.join(output_path, 'is_unemployed.parquet'))"
   ]
  },
  {
   "cell_type": "code",
   "execution_count": 140,
   "metadata": {},
   "outputs": [
    {
     "name": "stdout",
     "output_type": "stream",
     "text": [
      "3030\n"
     ]
    }
   ],
   "source": [
    "print(label2rank['is_unemployed'])"
   ]
  },
  {
   "cell_type": "code",
   "execution_count": 141,
   "metadata": {},
   "outputs": [
    {
     "data": {
      "application/vnd.jupyter.widget-view+json": {
       "model_id": "ecce6ff394c04280ab46efaac282c142",
       "version_major": 2,
       "version_minor": 0
      },
      "text/plain": [
       "HBox(children=(FloatProgress(value=0.0, description='Batches', max=24.0, style=ProgressStyle(description_width…"
      ]
     },
     "metadata": {},
     "output_type": "display_data"
    },
    {
     "name": "stdout",
     "output_type": "stream",
     "text": [
      "\n"
     ]
    }
   ],
   "source": [
    "text_list = clean_tweets(merged_df['text'].tolist())\n",
    "corpus_embeddings = model.encode(text_list, show_progress_bar=True, convert_to_numpy=True)"
   ]
  },
  {
   "cell_type": "code",
   "execution_count": 142,
   "metadata": {},
   "outputs": [
    {
     "data": {
      "image/png": "[encoded data removed]",
      "text/plain": [
       "<Figure size 1152x576 with 1 Axes>"
      ]
     },
     "metadata": {
      "needs_background": "light"
     },
     "output_type": "display_data"
    }
   ],
   "source": [
    "get_elbow_graph(corpus_embeddings)"
   ]
  },
  {
   "cell_type": "code",
   "execution_count": 143,
   "metadata": {},
   "outputs": [],
   "source": [
    "cluster_tweets, merged_df['cluster'] = perform_k_means(corpus_embeddings, num_clusters=2, corpus_df=merged_df)\n",
    "cluster_1_tweets_list = cluster_tweets[0]\n",
    "cluster_2_tweets_list = cluster_tweets[1]\n",
    "# cluster_3_tweets_list = cluster_tweets[2]\n",
    "# cluster_4_tweets_list = cluster_tweets[3]"
   ]
  },
  {
   "cell_type": "code",
   "execution_count": 144,
   "metadata": {},
   "outputs": [
    {
     "data": {
      "text/html": [
       "<div>\n",
       "<style scoped>\n",
       "    .dataframe tbody tr th:only-of-type {\n",
       "        vertical-align: middle;\n",
       "    }\n",
       "\n",
       "    .dataframe tbody tr th {\n",
       "        vertical-align: top;\n",
       "    }\n",
       "\n",
       "    .dataframe thead th {\n",
       "        text-align: right;\n",
       "    }\n",
       "</style>\n",
       "<table border=\"1\" class=\"dataframe\">\n",
       "  <thead>\n",
       "    <tr style=\"text-align: right;\">\n",
       "      <th></th>\n",
       "      <th>cluster</th>\n",
       "      <th>score</th>\n",
       "    </tr>\n",
       "  </thead>\n",
       "  <tbody>\n",
       "    <tr>\n",
       "      <th>0</th>\n",
       "      <td>0</td>\n",
       "      <td>0.988563</td>\n",
       "    </tr>\n",
       "    <tr>\n",
       "      <th>1</th>\n",
       "      <td>1</td>\n",
       "      <td>0.988607</td>\n",
       "    </tr>\n",
       "  </tbody>\n",
       "</table>\n",
       "</div>"
      ],
      "text/plain": [
       "   cluster     score\n",
       "0        0  0.988563\n",
       "1        1  0.988607"
      ]
     },
     "execution_count": 144,
     "metadata": {},
     "output_type": "execute_result"
    }
   ],
   "source": [
    "merged_df.groupby('cluster', as_index=False)['score'].mean()"
   ]
  },
  {
   "cell_type": "code",
   "execution_count": 145,
   "metadata": {},
   "outputs": [
    {
     "data": {
      "text/plain": [
       "[(('i', 've', 'lost'), 78),\n",
       " (('ve', 'lost', 'my'), 44),\n",
       " (('i', 'lost', 'my'), 43),\n",
       " (('i', 'm', 'lost'), 29),\n",
       " (('lost', 'my', 'voice'), 27),\n",
       " (('i', 'just', 'lost'), 23),\n",
       " (('i', 'm', 'losing'), 22),\n",
       " (('m', 'losing', 'my'), 20),\n",
       " (('losing', 'my', 'voice'), 18),\n",
       " (('lost', 'my', 'phone'), 14),\n",
       " (('i', 've', 'been'), 12),\n",
       " (('just', 'lost', 'my'), 12),\n",
       " (('lost', 'my', 'mind'), 11),\n",
       " (('my', 'voice', 'i'), 10),\n",
       " (('losing', 'my', 'mind'), 10),\n",
       " (('im', 'losing', 'my'), 10),\n",
       " (('i', 'have', 'lost'), 9),\n",
       " (('lost', 'the', 'game'), 9),\n",
       " (('i', 'don', 't'), 9),\n",
       " (('just', 'lost', 'the'), 8)]"
      ]
     },
     "execution_count": 145,
     "metadata": {},
     "output_type": "execute_result"
    }
   ],
   "source": [
    "get_most_common_ngrams(cluster_1_tweets_list, n=3, topk=20)"
   ]
  },
  {
   "cell_type": "code",
   "execution_count": 146,
   "metadata": {},
   "outputs": [
    {
     "data": {
      "text/plain": [
       "[(('i', 'need', 'a'), 61),\n",
       " (('i', 'have', 'a'), 31),\n",
       " (('i', 'm', 'in'), 31),\n",
       " (('need', 'a', 'job'), 30),\n",
       " (('i', 've', 'been'), 26),\n",
       " (('i', 'need', 'to'), 23),\n",
       " (('i', 'm', 'having'), 22),\n",
       " (('need', 'a', 'drink'), 20),\n",
       " (('and', 'i', 'm'), 20),\n",
       " (('in', 'need', 'of'), 16),\n",
       " (('right', 'now', 'i'), 15),\n",
       " (('have', 'a', 'headache'), 15),\n",
       " (('need', 'of', 'a'), 15),\n",
       " (('i', 'haven', 't'), 14),\n",
       " (('m', 'having', 'a'), 13),\n",
       " (('m', 'in', 'a'), 13),\n",
       " (('now', 'i', 'm'), 12),\n",
       " (('i', 'can', 't'), 11),\n",
       " (('m', 'in', 'need'), 11),\n",
       " (('i', 'need', 'food'), 9)]"
      ]
     },
     "execution_count": 146,
     "metadata": {},
     "output_type": "execute_result"
    }
   ],
   "source": [
    "get_most_common_ngrams(cluster_2_tweets_list, n=3, topk=20)"
   ]
  },
  {
   "cell_type": "markdown",
   "metadata": {},
   "source": [
    "## job_search:"
   ]
  },
  {
   "cell_type": "code",
   "execution_count": 147,
   "metadata": {},
   "outputs": [],
   "source": [
    "merged_df = pd.read_parquet(os.path.join(output_path, 'job_search.parquet'))"
   ]
  },
  {
   "cell_type": "code",
   "execution_count": 148,
   "metadata": {},
   "outputs": [
    {
     "name": "stdout",
     "output_type": "stream",
     "text": [
      "6190\n"
     ]
    }
   ],
   "source": [
    "print(label2rank['job_search'])"
   ]
  },
  {
   "cell_type": "code",
   "execution_count": 149,
   "metadata": {},
   "outputs": [
    {
     "data": {
      "application/vnd.jupyter.widget-view+json": {
       "model_id": "aa705302cf9c4031ad95ab7644c3f545",
       "version_major": 2,
       "version_minor": 0
      },
      "text/plain": [
       "HBox(children=(FloatProgress(value=0.0, description='Batches', max=34.0, style=ProgressStyle(description_width…"
      ]
     },
     "metadata": {},
     "output_type": "display_data"
    },
    {
     "name": "stdout",
     "output_type": "stream",
     "text": [
      "\n"
     ]
    }
   ],
   "source": [
    "text_list = clean_tweets(merged_df['text'].tolist())\n",
    "corpus_embeddings = model.encode(text_list, show_progress_bar=True, convert_to_numpy=True)"
   ]
  },
  {
   "cell_type": "code",
   "execution_count": 150,
   "metadata": {},
   "outputs": [
    {
     "data": {
      "image/png": "[encoded data removed]",
      "text/plain": [
       "<Figure size 1152x576 with 1 Axes>"
      ]
     },
     "metadata": {
      "needs_background": "light"
     },
     "output_type": "display_data"
    }
   ],
   "source": [
    "get_elbow_graph(corpus_embeddings)"
   ]
  },
  {
   "cell_type": "code",
   "execution_count": 151,
   "metadata": {},
   "outputs": [],
   "source": [
    "cluster_tweets, merged_df['cluster'] = perform_k_means(corpus_embeddings, num_clusters=2, corpus_df=merged_df)\n",
    "cluster_1_tweets_list = cluster_tweets[0]\n",
    "cluster_2_tweets_list = cluster_tweets[1]\n",
    "# cluster_3_tweets_list = cluster_tweets[2]\n",
    "# cluster_4_tweets_list = cluster_tweets[3]"
   ]
  },
  {
   "cell_type": "code",
   "execution_count": 152,
   "metadata": {},
   "outputs": [
    {
     "data": {
      "text/html": [
       "<div>\n",
       "<style scoped>\n",
       "    .dataframe tbody tr th:only-of-type {\n",
       "        vertical-align: middle;\n",
       "    }\n",
       "\n",
       "    .dataframe tbody tr th {\n",
       "        vertical-align: top;\n",
       "    }\n",
       "\n",
       "    .dataframe thead th {\n",
       "        text-align: right;\n",
       "    }\n",
       "</style>\n",
       "<table border=\"1\" class=\"dataframe\">\n",
       "  <thead>\n",
       "    <tr style=\"text-align: right;\">\n",
       "      <th></th>\n",
       "      <th>cluster</th>\n",
       "      <th>score</th>\n",
       "    </tr>\n",
       "  </thead>\n",
       "  <tbody>\n",
       "    <tr>\n",
       "      <th>0</th>\n",
       "      <td>0</td>\n",
       "      <td>0.997854</td>\n",
       "    </tr>\n",
       "    <tr>\n",
       "      <th>1</th>\n",
       "      <td>1</td>\n",
       "      <td>0.997852</td>\n",
       "    </tr>\n",
       "  </tbody>\n",
       "</table>\n",
       "</div>"
      ],
      "text/plain": [
       "   cluster     score\n",
       "0        0  0.997854\n",
       "1        1  0.997852"
      ]
     },
     "execution_count": 152,
     "metadata": {},
     "output_type": "execute_result"
    }
   ],
   "source": [
    "merged_df.groupby('cluster', as_index=False)['score'].mean()"
   ]
  },
  {
   "cell_type": "code",
   "execution_count": 153,
   "metadata": {},
   "outputs": [
    {
     "data": {
      "text/plain": [
       "[(('i', 'need', 'a'), 158),\n",
       " (('need', 'a', 'job'), 90),\n",
       " (('a', 'new', 'job'), 51),\n",
       " (('hiring', 'i', 'need'), 48),\n",
       " (('need', 'a', 'new'), 41),\n",
       " (('looking', 'for', 'a'), 33),\n",
       " (('for', 'a', 'job'), 30),\n",
       " (('a', 'second', 'job'), 27),\n",
       " (('job', 'i', 'need'), 24),\n",
       " (('need', 'a', 'second'), 20),\n",
       " (('who', 's', 'hiring'), 19),\n",
       " (('i', 'need', 'to'), 18),\n",
       " (('anyone', 'know', 'of'), 18),\n",
       " (('a', 'job', 'i'), 15),\n",
       " (('know', 'of', 'any'), 14),\n",
       " (('let', 'me', 'know'), 14),\n",
       " (('job', 'anyone', 'know'), 13),\n",
       " (('if', 'anyone', 'knows'), 13),\n",
       " (('a', 'job', 'anyone'), 12),\n",
       " (('i', 'm', 'looking'), 12)]"
      ]
     },
     "execution_count": 153,
     "metadata": {},
     "output_type": "execute_result"
    }
   ],
   "source": [
    "get_most_common_ngrams(cluster_1_tweets_list, n=3, topk=20)"
   ]
  },
  {
   "cell_type": "code",
   "execution_count": 154,
   "metadata": {},
   "outputs": [
    {
     "data": {
      "text/plain": [
       "[(('i', 'need', 'a'), 500),\n",
       " (('need', 'a', 'job'), 230),\n",
       " (('a', 'new', 'job'), 219),\n",
       " (('need', 'a', 'new'), 201),\n",
       " (('job', 'i', 'need'), 129),\n",
       " (('i', 'need', 'to'), 101),\n",
       " (('a', 'second', 'job'), 63),\n",
       " (('need', 'another', 'job'), 63),\n",
       " (('i', 'need', 'another'), 62),\n",
       " (('need', 'a', 'second'), 60),\n",
       " (('need', 'to', 'find'), 60),\n",
       " (('a', 'job', 'i'), 58),\n",
       " (('new', 'job', 'i'), 55),\n",
       " (('to', 'find', 'a'), 42),\n",
       " (('job', 'asap', 'i'), 31),\n",
       " (('asap', 'i', 'need'), 29),\n",
       " (('need', 'to', 'get'), 28),\n",
       " (('a', 'job', 'asap'), 26),\n",
       " (('find', 'a', 'job'), 21),\n",
       " (('new', 'job', 'asap'), 20)]"
      ]
     },
     "execution_count": 154,
     "metadata": {},
     "output_type": "execute_result"
    }
   ],
   "source": [
    "get_most_common_ngrams(cluster_2_tweets_list, n=3, topk=20)"
   ]
  },
  {
   "cell_type": "markdown",
   "metadata": {},
   "source": [
    "## job_offer"
   ]
  },
  {
   "cell_type": "code",
   "execution_count": 155,
   "metadata": {},
   "outputs": [],
   "source": [
    "merged_df = pd.read_parquet(os.path.join(output_path, 'job_offer.parquet'))"
   ]
  },
  {
   "cell_type": "code",
   "execution_count": 156,
   "metadata": {},
   "outputs": [
    {
     "name": "stdout",
     "output_type": "stream",
     "text": [
      "88201\n"
     ]
    }
   ],
   "source": [
    "print(label2rank['job_offer'])"
   ]
  },
  {
   "cell_type": "code",
   "execution_count": 157,
   "metadata": {},
   "outputs": [
    {
     "data": {
      "application/vnd.jupyter.widget-view+json": {
       "model_id": "5a781311f29e4ea4951936141f145d64",
       "version_major": 2,
       "version_minor": 0
      },
      "text/plain": [
       "HBox(children=(FloatProgress(value=0.0, description='Batches', max=243.0, style=ProgressStyle(description_widt…"
      ]
     },
     "metadata": {},
     "output_type": "display_data"
    },
    {
     "name": "stdout",
     "output_type": "stream",
     "text": [
      "\n"
     ]
    }
   ],
   "source": [
    "text_list = clean_tweets(merged_df['text'].tolist())\n",
    "corpus_embeddings = model.encode(text_list, show_progress_bar=True, convert_to_numpy=True)"
   ]
  },
  {
   "cell_type": "code",
   "execution_count": 158,
   "metadata": {},
   "outputs": [
    {
     "data": {
      "image/png": "[encoded data removed]",
      "text/plain": [
       "<Figure size 1152x576 with 1 Axes>"
      ]
     },
     "metadata": {
      "needs_background": "light"
     },
     "output_type": "display_data"
    }
   ],
   "source": [
    "get_elbow_graph(corpus_embeddings)"
   ]
  },
  {
   "cell_type": "code",
   "execution_count": 159,
   "metadata": {},
   "outputs": [],
   "source": [
    "cluster_tweets, merged_df['cluster'] = perform_k_means(corpus_embeddings, num_clusters=4, corpus_df=merged_df)\n",
    "cluster_1_tweets_list = cluster_tweets[0]\n",
    "cluster_2_tweets_list = cluster_tweets[1]\n",
    "cluster_3_tweets_list = cluster_tweets[2]\n",
    "cluster_4_tweets_list = cluster_tweets[3]"
   ]
  },
  {
   "cell_type": "code",
   "execution_count": 160,
   "metadata": {},
   "outputs": [
    {
     "data": {
      "text/html": [
       "<div>\n",
       "<style scoped>\n",
       "    .dataframe tbody tr th:only-of-type {\n",
       "        vertical-align: middle;\n",
       "    }\n",
       "\n",
       "    .dataframe tbody tr th {\n",
       "        vertical-align: top;\n",
       "    }\n",
       "\n",
       "    .dataframe thead th {\n",
       "        text-align: right;\n",
       "    }\n",
       "</style>\n",
       "<table border=\"1\" class=\"dataframe\">\n",
       "  <thead>\n",
       "    <tr style=\"text-align: right;\">\n",
       "      <th></th>\n",
       "      <th>cluster</th>\n",
       "      <th>score</th>\n",
       "    </tr>\n",
       "  </thead>\n",
       "  <tbody>\n",
       "    <tr>\n",
       "      <th>0</th>\n",
       "      <td>0</td>\n",
       "      <td>0.997246</td>\n",
       "    </tr>\n",
       "    <tr>\n",
       "      <th>1</th>\n",
       "      <td>1</td>\n",
       "      <td>0.997235</td>\n",
       "    </tr>\n",
       "    <tr>\n",
       "      <th>2</th>\n",
       "      <td>2</td>\n",
       "      <td>0.997244</td>\n",
       "    </tr>\n",
       "    <tr>\n",
       "      <th>3</th>\n",
       "      <td>3</td>\n",
       "      <td>0.997240</td>\n",
       "    </tr>\n",
       "  </tbody>\n",
       "</table>\n",
       "</div>"
      ],
      "text/plain": [
       "   cluster     score\n",
       "0        0  0.997246\n",
       "1        1  0.997235\n",
       "2        2  0.997244\n",
       "3        3  0.997240"
      ]
     },
     "execution_count": 160,
     "metadata": {},
     "output_type": "execute_result"
    }
   ],
   "source": [
    "merged_df.groupby('cluster', as_index=False)['score'].mean()"
   ]
  },
  {
   "cell_type": "code",
   "execution_count": 161,
   "metadata": {},
   "outputs": [
    {
     "data": {
      "text/plain": [
       "[(('click', 'to', 'apply'), 1630),\n",
       " (('we', 're', 'hiring'), 1594),\n",
       " (('re', 'hiring', 'click'), 1562),\n",
       " (('hiring', 'click', 'to'), 1562),\n",
       " (('careerarc', 'we', 're'), 911),\n",
       " (('jobs', 'careerarc', 'we'), 856),\n",
       " (('job', 'jobs', 'careerarc'), 566),\n",
       " (('jobs', 'we', 're'), 420),\n",
       " (('job', 'jobs', 'we'), 283),\n",
       " (('http', 't', 'co'), 262),\n",
       " (('technician', 't', 'co'), 99),\n",
       " (('ca', 'job', 'jobs'), 93),\n",
       " (('job', 'we', 're'), 75),\n",
       " (('to', 'apply', 'pharmacy'), 70),\n",
       " (('apply', 'pharmacy', 'technician'), 69),\n",
       " (('see', 'our', 'latest'), 68),\n",
       " (('job', 'and', 'click'), 68),\n",
       " (('and', 'click', 'to'), 68),\n",
       " (('veterans', 'job', 'jobs'), 65),\n",
       " (('manager', 't', 'co'), 65)]"
      ]
     },
     "execution_count": 161,
     "metadata": {},
     "output_type": "execute_result"
    }
   ],
   "source": [
    "get_most_common_ngrams(cluster_1_tweets_list, n=3, topk=20)"
   ]
  },
  {
   "cell_type": "code",
   "execution_count": 162,
   "metadata": {},
   "outputs": [
    {
     "data": {
      "text/plain": [
       "[(('job', 'might', 'be'), 549),\n",
       " (('might', 'be', 'a'), 549),\n",
       " (('be', 'a', 'great'), 549),\n",
       " (('a', 'great', 'fit'), 549),\n",
       " (('great', 'fit', 'for'), 549),\n",
       " (('fit', 'for', 'you'), 549),\n",
       " (('hiring', 'careerarc', 'this'), 379),\n",
       " (('this', 'job', 'might'), 286),\n",
       " (('careerarc', 'this', 'job'), 195),\n",
       " (('hiring', 'this', 'job'), 89),\n",
       " (('http', 't', 'co'), 66),\n",
       " (('ca', 'hiring', 'careerarc'), 41),\n",
       " (('this', 'retail', 'job'), 38),\n",
       " (('retail', 'job', 'might'), 38),\n",
       " (('this', 'healthcare', 'job'), 36),\n",
       " (('healthcare', 'job', 'might'), 36),\n",
       " (('manager', 't', 'co'), 34),\n",
       " (('tx', 'hiring', 'careerarc'), 31),\n",
       " (('this', 'hospitality', 'job'), 29),\n",
       " (('hospitality', 'job', 'might'), 29)]"
      ]
     },
     "execution_count": 162,
     "metadata": {},
     "output_type": "execute_result"
    }
   ],
   "source": [
    "get_most_common_ngrams(cluster_2_tweets_list, n=3, topk=20)"
   ]
  },
  {
   "cell_type": "code",
   "execution_count": 163,
   "metadata": {},
   "outputs": [
    {
     "data": {
      "text/plain": [
       "[(('anyone', 'for', 'this'), 1179),\n",
       " (('for', 'this', 'job'), 1179),\n",
       " (('can', 'you', 'recommend'), 1177),\n",
       " (('you', 'recommend', 'anyone'), 1177),\n",
       " (('recommend', 'anyone', 'for'), 1177),\n",
       " (('careerarc', 'can', 'you'), 731),\n",
       " (('hiring', 'careerarc', 'can'), 730),\n",
       " (('hiring', 'can', 'you'), 409),\n",
       " (('http', 't', 'co'), 157),\n",
       " (('technician', 't', 'co'), 67),\n",
       " (('retail', 'hiring', 'careerarc'), 53),\n",
       " (('this', 'job', 'store'), 50),\n",
       " (('manager', 't', 'co'), 50),\n",
       " (('healthcare', 'hiring', 'careerarc'), 49),\n",
       " (('this', 'job', 'assistant'), 42),\n",
       " (('ca', 'hiring', 'careerarc'), 41),\n",
       " (('fl', 'hiring', 'careerarc'), 35),\n",
       " (('associate', 't', 'co'), 33),\n",
       " (('this', 'job', 'senior'), 33),\n",
       " (('this', 'job', 'pharmacy'), 32)]"
      ]
     },
     "execution_count": 163,
     "metadata": {},
     "output_type": "execute_result"
    }
   ],
   "source": [
    "get_most_common_ngrams(cluster_3_tweets_list, n=3, topk=20)"
   ]
  },
  {
   "cell_type": "code",
   "execution_count": 164,
   "metadata": {},
   "outputs": [
    {
     "data": {
      "text/plain": [
       "[(('http', 't', 'co'), 2808),\n",
       " (('jobs', 'hiring', 'careerarc'), 522),\n",
       " (('job', 'now', 'hiring'), 437),\n",
       " (('i', 'm', 'hiring'), 397),\n",
       " (('now', 'hiring', 'for'), 327),\n",
       " (('is', 'looking', 'for'), 275),\n",
       " (('job', 'jobs', 'hiring'), 232),\n",
       " (('ca', 'http', 't'), 211),\n",
       " (('ny', 'http', 't'), 208),\n",
       " (('job', 'i', 'm'), 207),\n",
       " (('new', 'york', 'ny'), 204),\n",
       " (('tx', 'http', 't'), 187),\n",
       " (('in', 'new', 'york'), 166),\n",
       " (('looking', 'for', 'a'), 163),\n",
       " (('we', 're', 'hiring'), 148),\n",
       " (('york', 'ny', 'http'), 141),\n",
       " (('fl', 'http', 't'), 141),\n",
       " (('job', 'looking', 'for'), 133),\n",
       " (('hiring', 'careerarc', 'now'), 115),\n",
       " (('careerarc', 'now', 'hiring'), 115)]"
      ]
     },
     "execution_count": 164,
     "metadata": {},
     "output_type": "execute_result"
    }
   ],
   "source": [
    "get_most_common_ngrams(cluster_4_tweets_list, n=3, topk=20)"
   ]
  },
  {
   "cell_type": "code",
   "execution_count": null,
   "metadata": {},
   "outputs": [],
   "source": []
  }
 ],
 "metadata": {
  "kernelspec": {
   "display_name": "Python 3",
   "language": "python",
   "name": "python3"
  },
  "language_info": {
   "codemirror_mode": {
    "name": "ipython",
    "version": 3
   },
   "file_extension": ".py",
   "mimetype": "text/x-python",
   "name": "python",
   "nbconvert_exporter": "python",
   "pygments_lexer": "ipython3",
   "version": "3.8.5"
  }
 },
 "nbformat": 4,
 "nbformat_minor": 4
}
