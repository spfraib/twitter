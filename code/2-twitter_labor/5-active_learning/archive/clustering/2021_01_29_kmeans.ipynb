{
 "cells": [
  {
   "cell_type": "code",
   "execution_count": 1,
   "metadata": {},
   "outputs": [
    {
     "name": "stderr",
     "output_type": "stream",
     "text": [
      "<ipython-input-1-e841c7a840bb>:16: TqdmDeprecationWarning: This function will be removed in tqdm==5.0.0\n",
      "Please use `tqdm.notebook.tqdm` instead of `tqdm.tqdm_notebook`\n",
      "  tqdm().pandas()\n"
     ]
    },
    {
     "data": {
      "application/vnd.jupyter.widget-view+json": {
       "model_id": "7379259acdc044ec908bd457d46c0b0f",
       "version_major": 2,
       "version_minor": 0
      },
      "text/plain": [
       "HBox(children=(FloatProgress(value=1.0, bar_style='info', max=1.0), HTML(value='')))"
      ]
     },
     "metadata": {},
     "output_type": "display_data"
    },
    {
     "name": "stderr",
     "output_type": "stream",
     "text": [
      "/home/manuto/.local/lib/python3.8/site-packages/tqdm/std.py:668: FutureWarning: The Panel class is removed from pandas. Accessing it from the top-level namespace will also be removed in the next version\n",
      "  from pandas import Panel\n"
     ]
    }
   ],
   "source": [
    "from sentence_transformers import SentenceTransformer\n",
    "from sklearn.cluster import KMeans\n",
    "from sklearn import metrics\n",
    "from argparse import Namespace\n",
    "from pathlib import Path\n",
    "import pandas as pd\n",
    "import pyarrow\n",
    "import os\n",
    "import matplotlib.pyplot as plt\n",
    "%matplotlib inline \n",
    "from collections import Counter\n",
    "from nltk import ngrams\n",
    "import string\n",
    "import re\n",
    "from tqdm import tqdm_notebook as tqdm\n",
    "tqdm().pandas()"
   ]
  },
  {
   "cell_type": "markdown",
   "metadata": {},
   "source": [
    "## Arguments"
   ]
  },
  {
   "cell_type": "code",
   "execution_count": 2,
   "metadata": {},
   "outputs": [],
   "source": [
    "args = Namespace()\n",
    "args.country_code='US'\n",
    "args.model_type='paraphrase-xlm-r-multilingual-v1'\n",
    "args.inference_folder = 'iter_0-convbert-test-48-10-900-1538433-new_samples'"
   ]
  },
  {
   "cell_type": "code",
   "execution_count": 3,
   "metadata": {},
   "outputs": [],
   "source": [
    "model = SentenceTransformer(args.model_type)"
   ]
  },
  {
   "cell_type": "markdown",
   "metadata": {},
   "source": [
    "## Utils"
   ]
  },
  {
   "cell_type": "code",
   "execution_count": 4,
   "metadata": {},
   "outputs": [],
   "source": [
    "def get_elbow_data(embeddings, k_max):\n",
    "    distortions = []\n",
    "    K = range(1,k_max)\n",
    "    for k in tqdm(K):\n",
    "        kmeanModel = KMeans(n_clusters=k)\n",
    "        kmeanModel.fit(embeddings)\n",
    "        distortions.append(kmeanModel.inertia_)\n",
    "    return distortions"
   ]
  },
  {
   "cell_type": "code",
   "execution_count": 5,
   "metadata": {},
   "outputs": [],
   "source": [
    "def get_elbow_graph(distortions, k_max):\n",
    "    K = range(1,k_max)\n",
    "    plt.figure(figsize=(16,8))\n",
    "    plt.plot(K, distortions, 'bx-')\n",
    "    plt.xlabel('k')\n",
    "    plt.ylabel('Distortion')\n",
    "    plt.title('The Elbow Method showing the optimal k')\n",
    "    plt.show()"
   ]
  },
  {
   "cell_type": "code",
   "execution_count": 6,
   "metadata": {},
   "outputs": [],
   "source": [
    "def perform_k_means(embeddings, num_clusters, corpus_df):\n",
    "    clustering_model = KMeans(n_clusters=num_clusters)\n",
    "    clustering_model.fit(embeddings)\n",
    "    cluster_assignment = clustering_model.labels_\n",
    "    clustered_sentences = [[] for i in range(num_clusters)]\n",
    "    for sentence_id, cluster_id in enumerate(cluster_assignment):\n",
    "        clustered_sentences[cluster_id].append(corpus_df['text'].tolist()[sentence_id])\n",
    "    return clustered_sentences, cluster_assignment"
   ]
  },
  {
   "cell_type": "code",
   "execution_count": 7,
   "metadata": {},
   "outputs": [],
   "source": [
    "def get_most_common_ngrams(tweet_list, n, topk):\n",
    "    tweet_str = \" \".join(tweet_list)\n",
    "    for character in string.punctuation:\n",
    "        tweet_str = tweet_str.replace(character, \" \")\n",
    "    tweet_str = tweet_str.lower()\n",
    "    tweet_str = re.sub('http\\S+', ' ', tweet_str)\n",
    "    ngram_counts = Counter(ngrams(tweet_str.split(), n))\n",
    "    return ngram_counts.most_common(topk)"
   ]
  },
  {
   "cell_type": "code",
   "execution_count": 8,
   "metadata": {},
   "outputs": [],
   "source": [
    "def clean_tweets(tweet_list):\n",
    "    return [re.sub('http\\S+', ' ', tweet_str) for tweet_str in tweet_list]        "
   ]
  },
  {
   "cell_type": "code",
   "execution_count": 9,
   "metadata": {},
   "outputs": [],
   "source": [
    "labor_data_path = '/home/manuto/Documents/world_bank/bert_twitter_labor/twitter-labor-data/data'\n",
    "data_path = f'{labor_data_path}/top_tweets/US/{args.inference_folder}'"
   ]
  },
  {
   "cell_type": "markdown",
   "metadata": {},
   "source": [
    "# lost_job_1mo"
   ]
  },
  {
   "cell_type": "code",
   "execution_count": 10,
   "metadata": {},
   "outputs": [],
   "source": [
    "merged_df = pd.read_parquet(os.path.join(data_path, 'lost_job_1mo', 'part-00000-ebff68f0-0d09-4ee8-9baf-973096aac49d-c000.snappy.parquet'))"
   ]
  },
  {
   "cell_type": "code",
   "execution_count": 11,
   "metadata": {},
   "outputs": [
    {
     "data": {
      "text/html": [
       "<div>\n",
       "<style scoped>\n",
       "    .dataframe tbody tr th:only-of-type {\n",
       "        vertical-align: middle;\n",
       "    }\n",
       "\n",
       "    .dataframe tbody tr th {\n",
       "        vertical-align: top;\n",
       "    }\n",
       "\n",
       "    .dataframe thead th {\n",
       "        text-align: right;\n",
       "    }\n",
       "</style>\n",
       "<table border=\"1\" class=\"dataframe\">\n",
       "  <thead>\n",
       "    <tr style=\"text-align: right;\">\n",
       "      <th></th>\n",
       "      <th>tweet_id</th>\n",
       "      <th>score</th>\n",
       "      <th>text</th>\n",
       "    </tr>\n",
       "  </thead>\n",
       "  <tbody>\n",
       "    <tr>\n",
       "      <th>0</th>\n",
       "      <td>478895917076996096</td>\n",
       "      <td>0.996264</td>\n",
       "      <td>Just got laid off yesterday</td>\n",
       "    </tr>\n",
       "    <tr>\n",
       "      <th>1</th>\n",
       "      <td>9304190585</td>\n",
       "      <td>0.996260</td>\n",
       "      <td>Got laid off today. One word: SUCK!</td>\n",
       "    </tr>\n",
       "    <tr>\n",
       "      <th>2</th>\n",
       "      <td>1213252097208147969</td>\n",
       "      <td>0.996126</td>\n",
       "      <td>Got jerked off today.</td>\n",
       "    </tr>\n",
       "    <tr>\n",
       "      <th>3</th>\n",
       "      <td>687510370458726401</td>\n",
       "      <td>0.996099</td>\n",
       "      <td>I was thrown away today, https://t.co/HX54RggMnd</td>\n",
       "    </tr>\n",
       "    <tr>\n",
       "      <th>4</th>\n",
       "      <td>1181783394549673985</td>\n",
       "      <td>0.996057</td>\n",
       "      <td>Just got pushed away. How’s y’alls day going 🎃</td>\n",
       "    </tr>\n",
       "  </tbody>\n",
       "</table>\n",
       "</div>"
      ],
      "text/plain": [
       "              tweet_id     score  \\\n",
       "0   478895917076996096  0.996264   \n",
       "1           9304190585  0.996260   \n",
       "2  1213252097208147969  0.996126   \n",
       "3   687510370458726401  0.996099   \n",
       "4  1181783394549673985  0.996057   \n",
       "\n",
       "                                               text  \n",
       "0                       Just got laid off yesterday  \n",
       "1               Got laid off today. One word: SUCK!  \n",
       "2                             Got jerked off today.  \n",
       "3  I was thrown away today, https://t.co/HX54RggMnd  \n",
       "4    Just got pushed away. How’s y’alls day going 🎃  "
      ]
     },
     "execution_count": 11,
     "metadata": {},
     "output_type": "execute_result"
    }
   ],
   "source": [
    "merged_df.head()"
   ]
  },
  {
   "cell_type": "code",
   "execution_count": 12,
   "metadata": {},
   "outputs": [
    {
     "data": {
      "application/vnd.jupyter.widget-view+json": {
       "model_id": "0d386b42c0024b0cbd1cc876d454c937",
       "version_major": 2,
       "version_minor": 0
      },
      "text/plain": [
       "HBox(children=(FloatProgress(value=0.0, description='Batches', max=64.0, style=ProgressStyle(description_width…"
      ]
     },
     "metadata": {},
     "output_type": "display_data"
    },
    {
     "name": "stdout",
     "output_type": "stream",
     "text": [
      "\n"
     ]
    }
   ],
   "source": [
    "text_list = clean_tweets(merged_df['text'].tolist())\n",
    "corpus_embeddings = model.encode(text_list, show_progress_bar=True, convert_to_numpy=True)"
   ]
  },
  {
   "cell_type": "code",
   "execution_count": 13,
   "metadata": {},
   "outputs": [
    {
     "name": "stderr",
     "output_type": "stream",
     "text": [
      "<ipython-input-4-6fdf21a060c6>:4: TqdmDeprecationWarning: This function will be removed in tqdm==5.0.0\n",
      "Please use `tqdm.notebook.tqdm` instead of `tqdm.tqdm_notebook`\n",
      "  for k in tqdm(K):\n"
     ]
    },
    {
     "data": {
      "application/vnd.jupyter.widget-view+json": {
       "model_id": "4c39fc89ad8841258c973a94a41504ec",
       "version_major": 2,
       "version_minor": 0
      },
      "text/plain": [
       "HBox(children=(FloatProgress(value=0.0, max=59.0), HTML(value='')))"
      ]
     },
     "metadata": {},
     "output_type": "display_data"
    },
    {
     "name": "stdout",
     "output_type": "stream",
     "text": [
      "\n"
     ]
    }
   ],
   "source": [
    "distortions = get_elbow_data(corpus_embeddings, 60)"
   ]
  },
  {
   "cell_type": "code",
   "execution_count": 14,
   "metadata": {},
   "outputs": [
    {
     "data": {
      "image/png": "[encoded data removed]",
      "text/plain": [
       "<Figure size 1152x576 with 1 Axes>"
      ]
     },
     "metadata": {
      "needs_background": "light"
     },
     "output_type": "display_data"
    }
   ],
   "source": [
    "get_elbow_graph(distortions, 60)"
   ]
  },
  {
   "cell_type": "code",
   "execution_count": null,
   "metadata": {},
   "outputs": [],
   "source": [
    "get_elbow_graph(corpus_embeddings)"
   ]
  },
  {
   "cell_type": "code",
   "execution_count": null,
   "metadata": {},
   "outputs": [],
   "source": [
    "cluster_tweets, merged_df['cluster'] = perform_k_means(corpus_embeddings, num_clusters=15, corpus_df=merged_df)\n"
   ]
  },
  {
   "cell_type": "code",
   "execution_count": null,
   "metadata": {},
   "outputs": [],
   "source": [
    "merged_df = merged_df.sort_values(by=['cluster'], ascending=True).reset_index(drop=True)\n",
    "merged_df.head()"
   ]
  },
  {
   "cell_type": "code",
   "execution_count": 23,
   "metadata": {},
   "outputs": [],
   "source": [
    "output_path = f'{labor_data_path}/evaluation_inference/clustering/US/{args.inference_folder}'\n",
    "if not os.path.exists(output_path):\n",
    "    os.makedirs(output_path)"
   ]
  },
  {
   "cell_type": "code",
   "execution_count": null,
   "metadata": {},
   "outputs": [],
   "source": [
    "merged_df.to_parquet(os.path.join(output_path, 'kmeans', 'lost_job_1mo.parquet'), index=False)"
   ]
  },
  {
   "cell_type": "code",
   "execution_count": null,
   "metadata": {},
   "outputs": [],
   "source": [
    "merged_df.groupby('cluster', as_index=False)['score'].mean()"
   ]
  },
  {
   "cell_type": "code",
   "execution_count": null,
   "metadata": {},
   "outputs": [],
   "source": [
    "list_1=get_most_common_ngrams(cluster_1_tweets_list, n=4, topk=20)"
   ]
  },
  {
   "cell_type": "code",
   "execution_count": null,
   "metadata": {},
   "outputs": [],
   "source": [
    "list_2=get_most_common_ngrams(cluster_2_tweets_list, n=4, topk=20)"
   ]
  },
  {
   "cell_type": "code",
   "execution_count": null,
   "metadata": {},
   "outputs": [],
   "source": [
    "get_most_common_ngrams(cluster_2_tweets_list, n=2, topk=20)[0][0]"
   ]
  },
  {
   "cell_type": "code",
   "execution_count": null,
   "metadata": {},
   "outputs": [],
   "source": [
    "def difference_ngrams(list_1, list_2, n):\n",
    "    if len(list_1) == len(list_2):\n",
    "        list_ngram_1 = list()\n",
    "        list_ngram_2 = list()\n",
    "        for ngram_block in list_1:\n",
    "            list_ngram_1.append(ngram_block[0])\n",
    "        for ngram_block in list_2:\n",
    "            list_ngram_2.append(ngram_block[0])\n",
    "        inter_list = list(set(list_ngram_1).intersection(list_ngram_2))\n",
    "        print(f'{str(100*len(inter_list)/len(list_ngram_1))}% of {str(n)}-grams in common')\n",
    "        print(f'*******{str(n)} grams in common:*******', *inter_list, sep='\\n')\n",
    "        print(f'*******{str(n)} grams specific to cluster 1:*******', *[ngram for ngram in list_ngram_1 if ngram not in inter_list], sep='\\n')\n",
    "        print(f'*******{str(n)} grams specific to cluster 2:*******', *[ngram for ngram in list_ngram_2 if ngram not in inter_list], sep='\\n')\n"
   ]
  },
  {
   "cell_type": "markdown",
   "metadata": {},
   "source": [
    "## is_hired_1mo:"
   ]
  },
  {
   "cell_type": "code",
   "execution_count": 11,
   "metadata": {},
   "outputs": [],
   "source": [
    "merged_df = pd.read_parquet(os.path.join(data_path, 'is_hired_1mo', 'part-00000-a198c90e-2bef-4416-abe2-1eaf85f7e391-c000.snappy.parquet'))"
   ]
  },
  {
   "cell_type": "code",
   "execution_count": 12,
   "metadata": {},
   "outputs": [
    {
     "data": {
      "application/vnd.jupyter.widget-view+json": {
       "model_id": "5a45248d46d8476d9c0651fe111db4a5",
       "version_major": 2,
       "version_minor": 0
      },
      "text/plain": [
       "HBox(children=(FloatProgress(value=0.0, description='Batches', max=948.0, style=ProgressStyle(description_widt…"
      ]
     },
     "metadata": {},
     "output_type": "display_data"
    },
    {
     "name": "stdout",
     "output_type": "stream",
     "text": [
      "\n"
     ]
    }
   ],
   "source": [
    "text_list = clean_tweets(merged_df['text'].tolist())\n",
    "corpus_embeddings = model.encode(text_list, show_progress_bar=True, convert_to_numpy=True)"
   ]
  },
  {
   "cell_type": "code",
   "execution_count": 23,
   "metadata": {},
   "outputs": [],
   "source": [
    "def calculate_silhouette_coeff(corpus_embeddings, n_clusters_max):\n",
    "    silhouette_score_dict = dict()\n",
    "    for n in range(2,n_clusters_max):\n",
    "        print(n)\n",
    "        kmeans_model = KMeans(n_clusters=n, random_state=1).fit(corpus_embeddings)\n",
    "        labels = kmeans_model.labels_\n",
    "        silhouette_score = metrics.silhouette_score(corpus_embeddings, labels, metric='euclidean')\n",
    "        silhouette_score_dict[n] = silhouette_score\n",
    "    return silhouette_score_dict"
   ]
  },
  {
   "cell_type": "code",
   "execution_count": 24,
   "metadata": {
    "scrolled": true
   },
   "outputs": [
    {
     "name": "stdout",
     "output_type": "stream",
     "text": [
      "2\n",
      "3\n",
      "4\n",
      "5\n",
      "6\n",
      "7\n",
      "8\n",
      "9\n",
      "10\n",
      "11\n",
      "12\n",
      "13\n",
      "14\n",
      "15\n",
      "16\n",
      "17\n",
      "18\n",
      "19\n",
      "20\n",
      "21\n",
      "22\n",
      "23\n",
      "24\n",
      "25\n",
      "26\n",
      "27\n",
      "28\n",
      "29\n",
      "30\n",
      "31\n",
      "32\n",
      "33\n",
      "34\n",
      "35\n",
      "36\n",
      "37\n",
      "38\n",
      "39\n",
      "40\n",
      "41\n",
      "42\n",
      "43\n",
      "44\n",
      "45\n",
      "46\n",
      "47\n",
      "48\n",
      "49\n",
      "50\n",
      "51\n",
      "52\n",
      "53\n",
      "54\n",
      "55\n",
      "56\n",
      "57\n",
      "58\n",
      "59\n"
     ]
    }
   ],
   "source": [
    "silhouette_score_dict = calculate_silhouette_coeff(corpus_embeddings, 60)"
   ]
  },
  {
   "cell_type": "code",
   "execution_count": 25,
   "metadata": {},
   "outputs": [
    {
     "data": {
      "text/plain": [
       "2"
      ]
     },
     "execution_count": 25,
     "metadata": {},
     "output_type": "execute_result"
    }
   ],
   "source": [
    "max(silhouette_score_dict, key=silhouette_score_dict.get)"
   ]
  },
  {
   "cell_type": "code",
   "execution_count": 26,
   "metadata": {
    "scrolled": true
   },
   "outputs": [
    {
     "data": {
      "text/plain": [
       "{2: 0.06646883,\n",
       " 3: 0.04937488,\n",
       " 4: 0.04293793,\n",
       " 5: 0.04543395,\n",
       " 6: 0.04541443,\n",
       " 7: 0.038987443,\n",
       " 8: 0.038778007,\n",
       " 9: 0.036777727,\n",
       " 10: 0.038017638,\n",
       " 11: 0.033817198,\n",
       " 12: 0.036907874,\n",
       " 13: 0.042861983,\n",
       " 14: 0.039188445,\n",
       " 15: 0.041425623,\n",
       " 16: 0.036309324,\n",
       " 17: 0.04199333,\n",
       " 18: 0.04373534,\n",
       " 19: 0.038691457,\n",
       " 20: 0.040262293,\n",
       " 21: 0.03919709,\n",
       " 22: 0.03792062,\n",
       " 23: 0.0387673,\n",
       " 24: 0.040683057,\n",
       " 25: 0.041066673,\n",
       " 26: 0.041632183,\n",
       " 27: 0.04236858,\n",
       " 28: 0.04204919,\n",
       " 29: 0.042527042,\n",
       " 30: 0.043047663,\n",
       " 31: 0.042652693,\n",
       " 32: 0.043910492,\n",
       " 33: 0.04029105,\n",
       " 34: 0.042590503,\n",
       " 35: 0.04350058,\n",
       " 36: 0.042455822,\n",
       " 37: 0.042100497,\n",
       " 38: 0.042044632,\n",
       " 39: 0.044794146,\n",
       " 40: 0.044057906,\n",
       " 41: 0.044506706,\n",
       " 42: 0.046019394,\n",
       " 43: 0.044095885,\n",
       " 44: 0.04494251,\n",
       " 45: 0.044559296,\n",
       " 46: 0.044199787,\n",
       " 47: 0.044860262,\n",
       " 48: 0.043408196,\n",
       " 49: 0.042325646,\n",
       " 50: 0.042700358,\n",
       " 51: 0.042872146,\n",
       " 52: 0.039588157,\n",
       " 53: 0.036898933,\n",
       " 54: 0.03621389,\n",
       " 55: 0.04038667,\n",
       " 56: 0.033565503,\n",
       " 57: 0.03823397,\n",
       " 58: 0.0360876,\n",
       " 59: 0.032292597}"
      ]
     },
     "execution_count": 26,
     "metadata": {},
     "output_type": "execute_result"
    }
   ],
   "source": [
    "silhouette_score_dict"
   ]
  },
  {
   "cell_type": "code",
   "execution_count": 16,
   "metadata": {},
   "outputs": [
    {
     "name": "stderr",
     "output_type": "stream",
     "text": [
      "<ipython-input-14-6fdf21a060c6>:4: TqdmDeprecationWarning: This function will be removed in tqdm==5.0.0\n",
      "Please use `tqdm.notebook.tqdm` instead of `tqdm.tqdm_notebook`\n",
      "  for k in tqdm(K):\n"
     ]
    },
    {
     "data": {
      "application/vnd.jupyter.widget-view+json": {
       "model_id": "68f4b0757fa6402eb4b34a1a1909f1ee",
       "version_major": 2,
       "version_minor": 0
      },
      "text/plain": [
       "HBox(children=(FloatProgress(value=0.0, max=59.0), HTML(value='')))"
      ]
     },
     "metadata": {},
     "output_type": "display_data"
    },
    {
     "name": "stdout",
     "output_type": "stream",
     "text": [
      "\n"
     ]
    }
   ],
   "source": [
    "distortions = get_elbow_data(corpus_embeddings, 60)"
   ]
  },
  {
   "cell_type": "code",
   "execution_count": 17,
   "metadata": {},
   "outputs": [
    {
     "data": {
      "image/png": "[encoded data removed]",
      "text/plain": [
       "<Figure size 1152x576 with 1 Axes>"
      ]
     },
     "metadata": {
      "needs_background": "light"
     },
     "output_type": "display_data"
    }
   ],
   "source": [
    "get_elbow_graph(distortions, 60)"
   ]
  },
  {
   "cell_type": "code",
   "execution_count": 18,
   "metadata": {},
   "outputs": [],
   "source": [
    "cluster_tweets, merged_df['cluster'] = perform_k_means(corpus_embeddings, num_clusters=15, corpus_df=merged_df)\n",
    "# cluster_1_tweets_list = cluster_tweets[0]\n",
    "# cluster_2_tweets_list = cluster_tweets[1]\n",
    "# cluster_3_tweets_list = cluster_tweets[2]\n",
    "# cluster_4_tweets_list = cluster_tweets[3]"
   ]
  },
  {
   "cell_type": "code",
   "execution_count": 21,
   "metadata": {},
   "outputs": [
    {
     "data": {
      "text/html": [
       "<div>\n",
       "<style scoped>\n",
       "    .dataframe tbody tr th:only-of-type {\n",
       "        vertical-align: middle;\n",
       "    }\n",
       "\n",
       "    .dataframe tbody tr th {\n",
       "        vertical-align: top;\n",
       "    }\n",
       "\n",
       "    .dataframe thead th {\n",
       "        text-align: right;\n",
       "    }\n",
       "</style>\n",
       "<table border=\"1\" class=\"dataframe\">\n",
       "  <thead>\n",
       "    <tr style=\"text-align: right;\">\n",
       "      <th></th>\n",
       "      <th>tweet_id</th>\n",
       "      <th>score</th>\n",
       "      <th>text</th>\n",
       "      <th>cluster</th>\n",
       "    </tr>\n",
       "  </thead>\n",
       "  <tbody>\n",
       "    <tr>\n",
       "      <th>0</th>\n",
       "      <td>1238987595088039936</td>\n",
       "      <td>0.966101</td>\n",
       "      <td>Last night... Great start to the new job https...</td>\n",
       "      <td>0</td>\n",
       "    </tr>\n",
       "    <tr>\n",
       "      <th>1</th>\n",
       "      <td>362359550206152705</td>\n",
       "      <td>0.970191</td>\n",
       "      <td>Got the job with Verizon start tomorrow at 1:0...</td>\n",
       "      <td>0</td>\n",
       "    </tr>\n",
       "    <tr>\n",
       "      <th>2</th>\n",
       "      <td>621755073312464896</td>\n",
       "      <td>0.971249</td>\n",
       "      <td>Start my new job Monday bartending two paychec...</td>\n",
       "      <td>0</td>\n",
       "    </tr>\n",
       "    <tr>\n",
       "      <th>3</th>\n",
       "      <td>587745572443951104</td>\n",
       "      <td>0.972267</td>\n",
       "      <td>Starting my awesome new job tomorrow! #tubecit...</td>\n",
       "      <td>0</td>\n",
       "    </tr>\n",
       "    <tr>\n",
       "      <th>4</th>\n",
       "      <td>1155160750773669891</td>\n",
       "      <td>0.972265</td>\n",
       "      <td>im so excited to start my new job. this change...</td>\n",
       "      <td>0</td>\n",
       "    </tr>\n",
       "  </tbody>\n",
       "</table>\n",
       "</div>"
      ],
      "text/plain": [
       "              tweet_id     score  \\\n",
       "0  1238987595088039936  0.966101   \n",
       "1   362359550206152705  0.970191   \n",
       "2   621755073312464896  0.971249   \n",
       "3   587745572443951104  0.972267   \n",
       "4  1155160750773669891  0.972265   \n",
       "\n",
       "                                                text  cluster  \n",
       "0  Last night... Great start to the new job https...        0  \n",
       "1  Got the job with Verizon start tomorrow at 1:0...        0  \n",
       "2  Start my new job Monday bartending two paychec...        0  \n",
       "3  Starting my awesome new job tomorrow! #tubecit...        0  \n",
       "4  im so excited to start my new job. this change...        0  "
      ]
     },
     "execution_count": 21,
     "metadata": {},
     "output_type": "execute_result"
    }
   ],
   "source": [
    "merged_df = merged_df.sort_values(by=['cluster'], ascending=True).reset_index(drop=True)\n",
    "merged_df.head()"
   ]
  },
  {
   "cell_type": "code",
   "execution_count": 24,
   "metadata": {},
   "outputs": [],
   "source": [
    "merged_df.to_parquet(os.path.join(output_path, 'kmeans', 'is_hired_1mo.parquet'), index=False)"
   ]
  },
  {
   "cell_type": "code",
   "execution_count": null,
   "metadata": {},
   "outputs": [],
   "source": [
    "merged_df.groupby('cluster', as_index=False)['score'].mean()"
   ]
  },
  {
   "cell_type": "code",
   "execution_count": null,
   "metadata": {},
   "outputs": [],
   "source": [
    "get_most_common_ngrams(cluster_1_tweets_list, n=3, topk=20)"
   ]
  },
  {
   "cell_type": "code",
   "execution_count": null,
   "metadata": {},
   "outputs": [],
   "source": [
    "get_most_common_ngrams(cluster_2_tweets_list, n=3, topk=20)"
   ]
  },
  {
   "cell_type": "markdown",
   "metadata": {},
   "source": [
    "## is_unemployed"
   ]
  },
  {
   "cell_type": "code",
   "execution_count": 10,
   "metadata": {},
   "outputs": [],
   "source": [
    "merged_df = pd.read_parquet(os.path.join(data_path, 'is_unemployed', 'part-00000-3e2a1206-25bd-4bc5-84ed-24d2b747deb5-c000.snappy.parquet'))"
   ]
  },
  {
   "cell_type": "code",
   "execution_count": 11,
   "metadata": {},
   "outputs": [
    {
     "data": {
      "application/vnd.jupyter.widget-view+json": {
       "model_id": "da77ab8075514abcafd0d938725d8a34",
       "version_major": 2,
       "version_minor": 0
      },
      "text/plain": [
       "HBox(children=(FloatProgress(value=0.0, description='Batches', max=676.0, style=ProgressStyle(description_widt…"
      ]
     },
     "metadata": {},
     "output_type": "display_data"
    },
    {
     "name": "stdout",
     "output_type": "stream",
     "text": [
      "\n"
     ]
    }
   ],
   "source": [
    "text_list = clean_tweets(merged_df['text'].tolist())\n",
    "corpus_embeddings = model.encode(text_list, show_progress_bar=True, convert_to_numpy=True)"
   ]
  },
  {
   "cell_type": "code",
   "execution_count": 12,
   "metadata": {},
   "outputs": [
    {
     "name": "stderr",
     "output_type": "stream",
     "text": [
      "<ipython-input-4-6fdf21a060c6>:4: TqdmDeprecationWarning: This function will be removed in tqdm==5.0.0\n",
      "Please use `tqdm.notebook.tqdm` instead of `tqdm.tqdm_notebook`\n",
      "  for k in tqdm(K):\n"
     ]
    },
    {
     "data": {
      "application/vnd.jupyter.widget-view+json": {
       "model_id": "50734f65942f489ea157299cbd96787b",
       "version_major": 2,
       "version_minor": 0
      },
      "text/plain": [
       "HBox(children=(FloatProgress(value=0.0, max=59.0), HTML(value='')))"
      ]
     },
     "metadata": {},
     "output_type": "display_data"
    },
    {
     "name": "stdout",
     "output_type": "stream",
     "text": [
      "\n"
     ]
    }
   ],
   "source": [
    "distortions = get_elbow_data(corpus_embeddings, 60)"
   ]
  },
  {
   "cell_type": "code",
   "execution_count": 13,
   "metadata": {},
   "outputs": [
    {
     "data": {
      "image/png": "[encoded data removed]",
      "text/plain": [
       "<Figure size 1152x576 with 1 Axes>"
      ]
     },
     "metadata": {
      "needs_background": "light"
     },
     "output_type": "display_data"
    }
   ],
   "source": [
    "get_elbow_graph(distortions, 60)"
   ]
  },
  {
   "cell_type": "code",
   "execution_count": 15,
   "metadata": {},
   "outputs": [],
   "source": [
    "cluster_tweets, merged_df['cluster'] = perform_k_means(corpus_embeddings, num_clusters=15, corpus_df=merged_df)\n",
    "# cluster_1_tweets_list = cluster_tweets[0]\n",
    "# cluster_2_tweets_list = cluster_tweets[1]\n",
    "# cluster_3_tweets_list = cluster_tweets[2]\n",
    "# cluster_4_tweets_list = cluster_tweets[3]"
   ]
  },
  {
   "cell_type": "code",
   "execution_count": 16,
   "metadata": {},
   "outputs": [
    {
     "data": {
      "text/html": [
       "<div>\n",
       "<style scoped>\n",
       "    .dataframe tbody tr th:only-of-type {\n",
       "        vertical-align: middle;\n",
       "    }\n",
       "\n",
       "    .dataframe tbody tr th {\n",
       "        vertical-align: top;\n",
       "    }\n",
       "\n",
       "    .dataframe thead th {\n",
       "        text-align: right;\n",
       "    }\n",
       "</style>\n",
       "<table border=\"1\" class=\"dataframe\">\n",
       "  <thead>\n",
       "    <tr style=\"text-align: right;\">\n",
       "      <th></th>\n",
       "      <th>tweet_id</th>\n",
       "      <th>score</th>\n",
       "      <th>text</th>\n",
       "      <th>cluster</th>\n",
       "    </tr>\n",
       "  </thead>\n",
       "  <tbody>\n",
       "    <tr>\n",
       "      <th>0</th>\n",
       "      <td>371758108613562369</td>\n",
       "      <td>0.987723</td>\n",
       "      <td>@jackienicholex DO NOT. SAY THAT. IM TERRIFIED...</td>\n",
       "      <td>0</td>\n",
       "    </tr>\n",
       "    <tr>\n",
       "      <th>1</th>\n",
       "      <td>482725203773251584</td>\n",
       "      <td>0.987295</td>\n",
       "      <td>Trying to go out !</td>\n",
       "      <td>0</td>\n",
       "    </tr>\n",
       "    <tr>\n",
       "      <th>2</th>\n",
       "      <td>297386182529142784</td>\n",
       "      <td>0.987513</td>\n",
       "      <td>oh, COME ON GUYS. i'm KIDDING. jesus christ.</td>\n",
       "      <td>0</td>\n",
       "    </tr>\n",
       "    <tr>\n",
       "      <th>3</th>\n",
       "      <td>276874384268988418</td>\n",
       "      <td>0.987294</td>\n",
       "      <td>\"You know you love me. XOXO Gossip Girl.\" IM O...</td>\n",
       "      <td>0</td>\n",
       "    </tr>\n",
       "    <tr>\n",
       "      <th>4</th>\n",
       "      <td>106928712175468544</td>\n",
       "      <td>0.987294</td>\n",
       "      <td>I LOVE PARTYING!!!! I AM ADDICTED!</td>\n",
       "      <td>0</td>\n",
       "    </tr>\n",
       "  </tbody>\n",
       "</table>\n",
       "</div>"
      ],
      "text/plain": [
       "             tweet_id     score  \\\n",
       "0  371758108613562369  0.987723   \n",
       "1  482725203773251584  0.987295   \n",
       "2  297386182529142784  0.987513   \n",
       "3  276874384268988418  0.987294   \n",
       "4  106928712175468544  0.987294   \n",
       "\n",
       "                                                text  cluster  \n",
       "0  @jackienicholex DO NOT. SAY THAT. IM TERRIFIED...        0  \n",
       "1                                 Trying to go out !        0  \n",
       "2       oh, COME ON GUYS. i'm KIDDING. jesus christ.        0  \n",
       "3  \"You know you love me. XOXO Gossip Girl.\" IM O...        0  \n",
       "4                 I LOVE PARTYING!!!! I AM ADDICTED!        0  "
      ]
     },
     "execution_count": 16,
     "metadata": {},
     "output_type": "execute_result"
    }
   ],
   "source": [
    "merged_df = merged_df.sort_values(by=['cluster'], ascending=True).reset_index(drop=True)\n",
    "merged_df.head()"
   ]
  },
  {
   "cell_type": "code",
   "execution_count": 18,
   "metadata": {},
   "outputs": [],
   "source": [
    "output_path = f'{labor_data_path}/evaluation_inference/clustering/US/{args.inference_folder}'\n",
    "if not os.path.exists(output_path):\n",
    "    os.makedirs(output_path)"
   ]
  },
  {
   "cell_type": "code",
   "execution_count": 19,
   "metadata": {},
   "outputs": [],
   "source": [
    "merged_df.to_parquet(os.path.join(output_path, 'kmeans', 'is_unemployed.parquet'), index=False)"
   ]
  },
  {
   "cell_type": "code",
   "execution_count": null,
   "metadata": {},
   "outputs": [],
   "source": [
    "merged_df.groupby('cluster', as_index=False)['score'].mean()"
   ]
  },
  {
   "cell_type": "code",
   "execution_count": null,
   "metadata": {},
   "outputs": [],
   "source": [
    "get_most_common_ngrams(cluster_1_tweets_list, n=3, topk=20)"
   ]
  },
  {
   "cell_type": "code",
   "execution_count": null,
   "metadata": {},
   "outputs": [],
   "source": [
    "get_most_common_ngrams(cluster_2_tweets_list, n=3, topk=20)"
   ]
  },
  {
   "cell_type": "markdown",
   "metadata": {},
   "source": [
    "## job_search:"
   ]
  },
  {
   "cell_type": "code",
   "execution_count": 30,
   "metadata": {},
   "outputs": [],
   "source": [
    "merged_df = pd.read_parquet(os.path.join(data_path, 'job_search', 'part-00000-03b5c308-528e-4697-93c0-40606690f546-c000.snappy.parquet'))"
   ]
  },
  {
   "cell_type": "code",
   "execution_count": 31,
   "metadata": {},
   "outputs": [
    {
     "data": {
      "application/vnd.jupyter.widget-view+json": {
       "model_id": "4a8f2e325266454793c6d1af993f29b4",
       "version_major": 2,
       "version_minor": 0
      },
      "text/plain": [
       "HBox(children=(FloatProgress(value=0.0, description='Batches', max=1499.0, style=ProgressStyle(description_wid…"
      ]
     },
     "metadata": {},
     "output_type": "display_data"
    },
    {
     "name": "stdout",
     "output_type": "stream",
     "text": [
      "\n"
     ]
    }
   ],
   "source": [
    "text_list = clean_tweets(merged_df['text'].tolist())\n",
    "corpus_embeddings = model.encode(text_list, show_progress_bar=True, convert_to_numpy=True)"
   ]
  },
  {
   "cell_type": "code",
   "execution_count": null,
   "metadata": {},
   "outputs": [],
   "source": [
    "silhouette_score_dict = calculate_silhouette_coeff(corpus_embeddings, 60)"
   ]
  },
  {
   "cell_type": "code",
   "execution_count": 22,
   "metadata": {},
   "outputs": [
    {
     "name": "stderr",
     "output_type": "stream",
     "text": [
      "<ipython-input-4-6fdf21a060c6>:4: TqdmDeprecationWarning: This function will be removed in tqdm==5.0.0\n",
      "Please use `tqdm.notebook.tqdm` instead of `tqdm.tqdm_notebook`\n",
      "  for k in tqdm(K):\n"
     ]
    },
    {
     "data": {
      "application/vnd.jupyter.widget-view+json": {
       "model_id": "9a347bc7921247278bbf5cc963e84ef1",
       "version_major": 2,
       "version_minor": 0
      },
      "text/plain": [
       "HBox(children=(FloatProgress(value=0.0, max=59.0), HTML(value='')))"
      ]
     },
     "metadata": {},
     "output_type": "display_data"
    },
    {
     "name": "stdout",
     "output_type": "stream",
     "text": [
      "\n"
     ]
    }
   ],
   "source": [
    "distortions = get_elbow_data(corpus_embeddings, 60)"
   ]
  },
  {
   "cell_type": "code",
   "execution_count": 23,
   "metadata": {},
   "outputs": [
    {
     "data": {
      "image/png": "[encoded data removed]",
      "text/plain": [
       "<Figure size 1152x576 with 1 Axes>"
      ]
     },
     "metadata": {
      "needs_background": "light"
     },
     "output_type": "display_data"
    }
   ],
   "source": [
    "get_elbow_graph(distortions, 60)"
   ]
  },
  {
   "cell_type": "code",
   "execution_count": 32,
   "metadata": {},
   "outputs": [],
   "source": [
    "cluster_tweets, merged_df['cluster'] = perform_k_means(corpus_embeddings, num_clusters=15, corpus_df=merged_df)\n",
    "# cluster_3_tweets_list = cluster_tweets[2]\n",
    "# cluster_4_tweets_list = cluster_tweets[3]"
   ]
  },
  {
   "cell_type": "code",
   "execution_count": 33,
   "metadata": {},
   "outputs": [
    {
     "data": {
      "text/html": [
       "<div>\n",
       "<style scoped>\n",
       "    .dataframe tbody tr th:only-of-type {\n",
       "        vertical-align: middle;\n",
       "    }\n",
       "\n",
       "    .dataframe tbody tr th {\n",
       "        vertical-align: top;\n",
       "    }\n",
       "\n",
       "    .dataframe thead th {\n",
       "        text-align: right;\n",
       "    }\n",
       "</style>\n",
       "<table border=\"1\" class=\"dataframe\">\n",
       "  <thead>\n",
       "    <tr style=\"text-align: right;\">\n",
       "      <th></th>\n",
       "      <th>tweet_id</th>\n",
       "      <th>score</th>\n",
       "      <th>text</th>\n",
       "      <th>cluster</th>\n",
       "    </tr>\n",
       "  </thead>\n",
       "  <tbody>\n",
       "    <tr>\n",
       "      <th>0</th>\n",
       "      <td>25159725561</td>\n",
       "      <td>0.997100</td>\n",
       "      <td>have a job interview tomorrow. just now realiz...</td>\n",
       "      <td>0</td>\n",
       "    </tr>\n",
       "    <tr>\n",
       "      <th>1</th>\n",
       "      <td>192333942337191938</td>\n",
       "      <td>0.997001</td>\n",
       "      <td>Interview Friday pray i get it</td>\n",
       "      <td>0</td>\n",
       "    </tr>\n",
       "    <tr>\n",
       "      <th>2</th>\n",
       "      <td>8322958336</td>\n",
       "      <td>0.997001</td>\n",
       "      <td>I got a job interview!</td>\n",
       "      <td>0</td>\n",
       "    </tr>\n",
       "    <tr>\n",
       "      <th>3</th>\n",
       "      <td>291262892647534593</td>\n",
       "      <td>0.997219</td>\n",
       "      <td>Interview ... Wish me luck 😳😁</td>\n",
       "      <td>0</td>\n",
       "    </tr>\n",
       "    <tr>\n",
       "      <th>4</th>\n",
       "      <td>636006642878967808</td>\n",
       "      <td>0.997141</td>\n",
       "      <td>Job interview tomorrow 😁😧☺️😱</td>\n",
       "      <td>0</td>\n",
       "    </tr>\n",
       "  </tbody>\n",
       "</table>\n",
       "</div>"
      ],
      "text/plain": [
       "             tweet_id     score  \\\n",
       "0         25159725561  0.997100   \n",
       "1  192333942337191938  0.997001   \n",
       "2          8322958336  0.997001   \n",
       "3  291262892647534593  0.997219   \n",
       "4  636006642878967808  0.997141   \n",
       "\n",
       "                                                text  cluster  \n",
       "0  have a job interview tomorrow. just now realiz...        0  \n",
       "1                     Interview Friday pray i get it        0  \n",
       "2                             I got a job interview!        0  \n",
       "3                      Interview ... Wish me luck 😳😁        0  \n",
       "4                       Job interview tomorrow 😁😧☺️😱        0  "
      ]
     },
     "execution_count": 33,
     "metadata": {},
     "output_type": "execute_result"
    }
   ],
   "source": [
    "merged_df = merged_df.sort_values(by=['cluster'], ascending=True).reset_index(drop=True)\n",
    "merged_df.head()"
   ]
  },
  {
   "cell_type": "code",
   "execution_count": 34,
   "metadata": {},
   "outputs": [],
   "source": [
    "output_path = f'{labor_data_path}/evaluation_inference/clustering/US/{args.inference_folder}'\n",
    "if not os.path.exists(output_path):\n",
    "    os.makedirs(output_path)"
   ]
  },
  {
   "cell_type": "code",
   "execution_count": 35,
   "metadata": {},
   "outputs": [],
   "source": [
    "merged_df.to_parquet(os.path.join(output_path, 'kmeans', 'job_search.parquet'), index=False)"
   ]
  },
  {
   "cell_type": "code",
   "execution_count": null,
   "metadata": {},
   "outputs": [],
   "source": [
    "merged_df.groupby('cluster', as_index=False)['score'].mean()"
   ]
  },
  {
   "cell_type": "code",
   "execution_count": null,
   "metadata": {},
   "outputs": [],
   "source": [
    "get_most_common_ngrams(cluster_1_tweets_list, n=3, topk=20)"
   ]
  },
  {
   "cell_type": "code",
   "execution_count": null,
   "metadata": {},
   "outputs": [],
   "source": [
    "get_most_common_ngrams(cluster_2_tweets_list, n=3, topk=20)"
   ]
  },
  {
   "cell_type": "markdown",
   "metadata": {},
   "source": [
    "## job_offer"
   ]
  },
  {
   "cell_type": "code",
   "execution_count": 22,
   "metadata": {},
   "outputs": [],
   "source": [
    "merged_df = pd.read_parquet(os.path.join(data_path, 'job_offer', 'part-00000-e0ac7335-f3ad-42b4-833f-7071588b5e65-c000.snappy.parquet'))"
   ]
  },
  {
   "cell_type": "code",
   "execution_count": 23,
   "metadata": {},
   "outputs": [
    {
     "data": {
      "application/vnd.jupyter.widget-view+json": {
       "model_id": "10fc95f559a348029f836a24c43b7cc8",
       "version_major": 2,
       "version_minor": 0
      },
      "text/plain": [
       "HBox(children=(FloatProgress(value=0.0, description='Batches', max=16827.0, style=ProgressStyle(description_wi…"
      ]
     },
     "metadata": {},
     "output_type": "display_data"
    },
    {
     "name": "stdout",
     "output_type": "stream",
     "text": [
      "\n"
     ]
    }
   ],
   "source": [
    "text_list = clean_tweets(merged_df['text'].tolist())\n",
    "corpus_embeddings = model.encode(text_list, show_progress_bar=True, convert_to_numpy=True)"
   ]
  },
  {
   "cell_type": "code",
   "execution_count": null,
   "metadata": {},
   "outputs": [
    {
     "name": "stderr",
     "output_type": "stream",
     "text": [
      "<ipython-input-16-6fdf21a060c6>:4: TqdmDeprecationWarning: This function will be removed in tqdm==5.0.0\n",
      "Please use `tqdm.notebook.tqdm` instead of `tqdm.tqdm_notebook`\n",
      "  for k in tqdm(K):\n"
     ]
    },
    {
     "data": {
      "application/vnd.jupyter.widget-view+json": {
       "model_id": "1a9f1a1cc35742a3a772eb73d5952206",
       "version_major": 2,
       "version_minor": 0
      },
      "text/plain": [
       "HBox(children=(FloatProgress(value=0.0, max=59.0), HTML(value='')))"
      ]
     },
     "metadata": {},
     "output_type": "display_data"
    },
    {
     "ename": "KeyboardInterrupt",
     "evalue": "",
     "output_type": "error",
     "traceback": [
      "\u001b[0;31m---------------------------------------------------------------------------\u001b[0m",
      "\u001b[0;31mKeyboardInterrupt\u001b[0m                         Traceback (most recent call last)",
      "\u001b[0;32m<__array_function__ internals>\u001b[0m in \u001b[0;36mwhere\u001b[0;34m(*args, **kwargs)\u001b[0m\n",
      "\u001b[0;31mKeyboardInterrupt\u001b[0m: "
     ]
    },
    {
     "name": "stderr",
     "output_type": "stream",
     "text": [
      "Exception ignored in: 'sklearn.cluster._k_means_fast._relocate_empty_clusters_dense'\n",
      "Traceback (most recent call last):\n",
      "  File \"<__array_function__ internals>\", line 2, in where\n",
      "KeyboardInterrupt: \n"
     ]
    },
    {
     "ename": "KeyboardInterrupt",
     "evalue": "",
     "output_type": "error",
     "traceback": [
      "\u001b[0;31m---------------------------------------------------------------------------\u001b[0m",
      "\u001b[0;31mKeyboardInterrupt\u001b[0m                         Traceback (most recent call last)",
      "\u001b[0;32m<__array_function__ internals>\u001b[0m in \u001b[0;36mwhere\u001b[0;34m(*args, **kwargs)\u001b[0m\n",
      "\u001b[0;31mKeyboardInterrupt\u001b[0m: "
     ]
    },
    {
     "name": "stderr",
     "output_type": "stream",
     "text": [
      "Exception ignored in: 'sklearn.cluster._k_means_fast._relocate_empty_clusters_dense'\n",
      "Traceback (most recent call last):\n",
      "  File \"<__array_function__ internals>\", line 2, in where\n",
      "KeyboardInterrupt: \n"
     ]
    },
    {
     "ename": "KeyboardInterrupt",
     "evalue": "",
     "output_type": "error",
     "traceback": [
      "\u001b[0;31m---------------------------------------------------------------------------\u001b[0m",
      "\u001b[0;31mKeyboardInterrupt\u001b[0m                         Traceback (most recent call last)",
      "\u001b[0;32m<__array_function__ internals>\u001b[0m in \u001b[0;36mwhere\u001b[0;34m(*args, **kwargs)\u001b[0m\n",
      "\u001b[0;31mKeyboardInterrupt\u001b[0m: "
     ]
    },
    {
     "name": "stderr",
     "output_type": "stream",
     "text": [
      "Exception ignored in: 'sklearn.cluster._k_means_fast._relocate_empty_clusters_dense'\n",
      "Traceback (most recent call last):\n",
      "  File \"<__array_function__ internals>\", line 2, in where\n",
      "KeyboardInterrupt: \n"
     ]
    },
    {
     "ename": "KeyboardInterrupt",
     "evalue": "",
     "output_type": "error",
     "traceback": [
      "\u001b[0;31m---------------------------------------------------------------------------\u001b[0m",
      "\u001b[0;31mKeyboardInterrupt\u001b[0m                         Traceback (most recent call last)",
      "\u001b[0;32m<__array_function__ internals>\u001b[0m in \u001b[0;36mwhere\u001b[0;34m(*args, **kwargs)\u001b[0m\n",
      "\u001b[0;31mKeyboardInterrupt\u001b[0m: "
     ]
    },
    {
     "name": "stderr",
     "output_type": "stream",
     "text": [
      "Exception ignored in: 'sklearn.cluster._k_means_fast._relocate_empty_clusters_dense'\n",
      "Traceback (most recent call last):\n",
      "  File \"<__array_function__ internals>\", line 2, in where\n",
      "KeyboardInterrupt: \n"
     ]
    }
   ],
   "source": [
    "distortions = get_elbow_data(corpus_embeddings, 60)"
   ]
  },
  {
   "cell_type": "code",
   "execution_count": null,
   "metadata": {},
   "outputs": [],
   "source": [
    "get_elbow_graph(corpus_embeddings)"
   ]
  },
  {
   "cell_type": "code",
   "execution_count": null,
   "metadata": {},
   "outputs": [],
   "source": [
    "cluster_tweets, merged_df['cluster'] = perform_k_means(corpus_embeddings, num_clusters=4, corpus_df=merged_df)\n",
    "cluster_1_tweets_list = cluster_tweets[0]\n",
    "cluster_2_tweets_list = cluster_tweets[1]\n",
    "cluster_3_tweets_list = cluster_tweets[2]\n",
    "cluster_4_tweets_list = cluster_tweets[3]"
   ]
  },
  {
   "cell_type": "code",
   "execution_count": null,
   "metadata": {},
   "outputs": [],
   "source": [
    "merged_df.groupby('cluster', as_index=False)['score'].mean()"
   ]
  },
  {
   "cell_type": "code",
   "execution_count": null,
   "metadata": {},
   "outputs": [],
   "source": [
    "get_most_common_ngrams(cluster_1_tweets_list, n=3, topk=20)"
   ]
  },
  {
   "cell_type": "code",
   "execution_count": null,
   "metadata": {},
   "outputs": [],
   "source": [
    "get_most_common_ngrams(cluster_2_tweets_list, n=3, topk=20)"
   ]
  },
  {
   "cell_type": "code",
   "execution_count": null,
   "metadata": {},
   "outputs": [],
   "source": [
    "get_most_common_ngrams(cluster_3_tweets_list, n=3, topk=20)"
   ]
  },
  {
   "cell_type": "code",
   "execution_count": null,
   "metadata": {},
   "outputs": [],
   "source": [
    "get_most_common_ngrams(cluster_4_tweets_list, n=3, topk=20)"
   ]
  },
  {
   "cell_type": "code",
   "execution_count": null,
   "metadata": {},
   "outputs": [],
   "source": []
  }
 ],
 "metadata": {
  "kernelspec": {
   "display_name": "Python 3",
   "language": "python",
   "name": "python3"
  },
  "language_info": {
   "codemirror_mode": {
    "name": "ipython",
    "version": 3
   },
   "file_extension": ".py",
   "mimetype": "text/x-python",
   "name": "python",
   "nbconvert_exporter": "python",
   "pygments_lexer": "ipython3",
   "version": "3.8.5"
  }
 },
 "nbformat": 4,
 "nbformat_minor": 4
}
