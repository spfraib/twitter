{
 "cells": [
  {
   "cell_type": "markdown",
   "metadata": {},
   "source": [
    "## make sure you have all libraries installed. \n",
    "use conda environment: /scratch/da2734/twitter/worldbank_twitter_environment.yml"
   ]
  },
  {
   "cell_type": "markdown",
   "metadata": {},
   "source": [
    "# loading random and filtered samples"
   ]
  },
  {
   "cell_type": "code",
   "execution_count": 1,
   "metadata": {},
   "outputs": [
    {
     "name": "stdout",
     "output_type": "stream",
     "text": [
      "time taken to load keyword filtered sample: 20.07100820541382 seconds\n",
      "(962156, 11)\n"
     ]
    }
   ],
   "source": [
    "# filtered contains 0.8G of data!!\n",
    "import time\n",
    "start_time = time.time()\n",
    "import pyarrow.parquet as pq\n",
    "from glob import glob\n",
    "import os\n",
    "country_code = 'US'\n",
    "month = '2012-1'\n",
    "path_to_data = '/scratch/spf248/twitter/data/classification/US/filtered_1perct_sample//'\n",
    "tweets_filtered=pq.ParquetDataset(glob(os.path.join(path_to_data,                                           \n",
    "#                                            country_code,\n",
    "#                                            month,\n",
    "                                           '*.parquet'))).read().to_pandas()\n",
    "tweets_filtered['tweet_id'] = tweets_filtered['tweet_id'].astype(int)\n",
    "print('time taken to load keyword filtered sample:', str(time.time() - start_time), 'seconds')\n",
    "print(tweets_filtered.shape)"
   ]
  },
  {
   "cell_type": "code",
   "execution_count": 20,
   "metadata": {},
   "outputs": [
    {
     "data": {
      "text/html": [
       "<div>\n",
       "<style scoped>\n",
       "    .dataframe tbody tr th:only-of-type {\n",
       "        vertical-align: middle;\n",
       "    }\n",
       "\n",
       "    .dataframe tbody tr th {\n",
       "        vertical-align: top;\n",
       "    }\n",
       "\n",
       "    .dataframe thead th {\n",
       "        text-align: right;\n",
       "    }\n",
       "</style>\n",
       "<table border=\"1\" class=\"dataframe\">\n",
       "  <thead>\n",
       "    <tr style=\"text-align: right;\">\n",
       "      <th></th>\n",
       "      <th>tweet_id</th>\n",
       "      <th>text</th>\n",
       "      <th>fired</th>\n",
       "      <th>hired</th>\n",
       "      <th>job</th>\n",
       "      <th>laid_off</th>\n",
       "      <th>position</th>\n",
       "      <th>quit</th>\n",
       "      <th>unemployed</th>\n",
       "      <th>work</th>\n",
       "      <th>keyword</th>\n",
       "    </tr>\n",
       "  </thead>\n",
       "  <tbody>\n",
       "    <tr>\n",
       "      <th>0</th>\n",
       "      <td>616605000421253120</td>\n",
       "      <td>We appreciate Rep. @PatTiberi ’s support of TP...</td>\n",
       "      <td>False</td>\n",
       "      <td>False</td>\n",
       "      <td>True</td>\n",
       "      <td>False</td>\n",
       "      <td>False</td>\n",
       "      <td>False</td>\n",
       "      <td>False</td>\n",
       "      <td>False</td>\n",
       "      <td>True</td>\n",
       "    </tr>\n",
       "    <tr>\n",
       "      <th>1</th>\n",
       "      <td>616605084319768577</td>\n",
       "      <td>@zgebler @Snapchat yeah I've been using it for...</td>\n",
       "      <td>False</td>\n",
       "      <td>False</td>\n",
       "      <td>False</td>\n",
       "      <td>False</td>\n",
       "      <td>False</td>\n",
       "      <td>False</td>\n",
       "      <td>False</td>\n",
       "      <td>True</td>\n",
       "      <td>True</td>\n",
       "    </tr>\n",
       "    <tr>\n",
       "      <th>2</th>\n",
       "      <td>616605474465652737</td>\n",
       "      <td>RT @JoshCountBands: If you broke , get a job 📝💰💸</td>\n",
       "      <td>False</td>\n",
       "      <td>False</td>\n",
       "      <td>True</td>\n",
       "      <td>False</td>\n",
       "      <td>False</td>\n",
       "      <td>False</td>\n",
       "      <td>False</td>\n",
       "      <td>False</td>\n",
       "      <td>True</td>\n",
       "    </tr>\n",
       "    <tr>\n",
       "      <th>3</th>\n",
       "      <td>616606581422223360</td>\n",
       "      <td>RT @ReutersBiz: June jobs report: Economy adds...</td>\n",
       "      <td>False</td>\n",
       "      <td>False</td>\n",
       "      <td>True</td>\n",
       "      <td>False</td>\n",
       "      <td>False</td>\n",
       "      <td>False</td>\n",
       "      <td>False</td>\n",
       "      <td>False</td>\n",
       "      <td>True</td>\n",
       "    </tr>\n",
       "    <tr>\n",
       "      <th>4</th>\n",
       "      <td>616607403853754373</td>\n",
       "      <td>Join the Starbucks team! See our latest #Busin...</td>\n",
       "      <td>False</td>\n",
       "      <td>False</td>\n",
       "      <td>True</td>\n",
       "      <td>False</td>\n",
       "      <td>False</td>\n",
       "      <td>False</td>\n",
       "      <td>False</td>\n",
       "      <td>False</td>\n",
       "      <td>True</td>\n",
       "    </tr>\n",
       "  </tbody>\n",
       "</table>\n",
       "</div>"
      ],
      "text/plain": [
       "             tweet_id                                               text  \\\n",
       "0  616605000421253120  We appreciate Rep. @PatTiberi ’s support of TP...   \n",
       "1  616605084319768577  @zgebler @Snapchat yeah I've been using it for...   \n",
       "2  616605474465652737   RT @JoshCountBands: If you broke , get a job 📝💰💸   \n",
       "3  616606581422223360  RT @ReutersBiz: June jobs report: Economy adds...   \n",
       "4  616607403853754373  Join the Starbucks team! See our latest #Busin...   \n",
       "\n",
       "   fired  hired    job  laid_off  position   quit  unemployed   work  keyword  \n",
       "0  False  False   True     False     False  False       False  False     True  \n",
       "1  False  False  False     False     False  False       False   True     True  \n",
       "2  False  False   True     False     False  False       False  False     True  \n",
       "3  False  False   True     False     False  False       False  False     True  \n",
       "4  False  False   True     False     False  False       False  False     True  "
      ]
     },
     "execution_count": 20,
     "metadata": {},
     "output_type": "execute_result"
    }
   ],
   "source": [
    "tweets_filtered.head()"
   ]
  },
  {
   "cell_type": "code",
   "execution_count": 2,
   "metadata": {},
   "outputs": [
    {
     "name": "stdout",
     "output_type": "stream",
     "text": [
      "time taken to load random sample: 3.4117417335510254 seconds\n",
      "(935202, 11)\n"
     ]
    }
   ],
   "source": [
    "# random contains 0.8G of data!!\n",
    "import time\n",
    "start_time = time.time()\n",
    "import pyarrow.parquet as pq\n",
    "from glob import glob\n",
    "import os\n",
    "country_code = 'US'\n",
    "month = '2012-1'\n",
    "path_to_data = '/scratch/spf248/twitter/data/classification/US/random_1perct_sample/'\n",
    "tweets_random=pq.ParquetDataset(glob(os.path.join(path_to_data,                                           \n",
    "#                                            country_code,\n",
    "#                                            month,\n",
    "                                           '*.parquet'))).read().to_pandas()\n",
    "tweets_random['tweet_id'] = tweets_random['tweet_id'].astype(int)\n",
    "print('time taken to load random sample:', str(time.time() - start_time), 'seconds')\n",
    "print(tweets_random.shape)"
   ]
  },
  {
   "cell_type": "code",
   "execution_count": 3,
   "metadata": {},
   "outputs": [],
   "source": [
    "boundary = {\n",
    "    'random':{\n",
    "        \"is_unemployed\": 0.8,\n",
    "         \"lost_job_1mo\": 0.85,\n",
    "         \"job_search\": 1.0,\n",
    "         \"is_hired_1mo\": 0.95,\n",
    "         \"job_offer\": 1.0}\n",
    "    ,\n",
    "    'filtered': {\n",
    "        \"is_unemployed\": 0.9,\n",
    "         \"lost_job_1mo\": 0.75,\n",
    "         \"job_search\": 0.85,\n",
    "         \"is_hired_1mo\": 0.95,\n",
    "         \"job_offer\": 1.0}\n",
    "}"
   ]
  },
  {
   "cell_type": "code",
   "execution_count": 4,
   "metadata": {
    "code_folding": [],
    "scrolled": false
   },
   "outputs": [
    {
     "name": "stdout",
     "output_type": "stream",
     "text": [
      "is_unemployed\n",
      "time taken to load filtered sample: 1.478482723236084 seconds (962156, 3)\n",
      "time taken to load random sample: 1.6519992351531982 seconds (935202, 3)\n",
      "time taken to merge: 0.5551207065582275 seconds (962156, 13)\n",
      "time taken to merge: 0.4480423927307129 seconds (962156, 13)\n",
      "time taken to dump: 1.0058796405792236 seconds\n",
      "is_unemployed\n",
      "is_unemployed\n",
      "is_unemployed filtered subtraction time taken: 9.5367431640625e-07 seconds\n",
      "is_unemployed filtered sorting time taken: 0.28853344917297363 seconds\n",
      "is_unemployed filtered write csv time taken: 0.04168415069580078 seconds\n",
      "is_unemployed random subtraction time taken: 9.5367431640625e-07 seconds\n",
      "is_unemployed random sorting time taken: 0.22008275985717773 seconds\n",
      "is_unemployed random write csv time taken: 0.005423545837402344 seconds\n",
      "lost_job_1mo\n",
      "time taken to load filtered sample: 1.2472269535064697 seconds (962156, 3)\n",
      "time taken to load random sample: 1.2288403511047363 seconds (935202, 3)\n",
      "time taken to merge: 0.4728693962097168 seconds (962156, 13)\n",
      "time taken to merge: 0.45259833335876465 seconds (962156, 13)\n",
      "time taken to dump: 0.8971719741821289 seconds\n",
      "lost_job_1mo\n",
      "lost_job_1mo\n",
      "lost_job_1mo filtered subtraction time taken: 9.5367431640625e-07 seconds\n",
      "lost_job_1mo filtered sorting time taken: 0.28833508491516113 seconds\n",
      "lost_job_1mo filtered write csv time taken: 0.005525350570678711 seconds\n",
      "lost_job_1mo random subtraction time taken: 7.152557373046875e-07 seconds\n",
      "lost_job_1mo random sorting time taken: 0.27178287506103516 seconds\n",
      "lost_job_1mo random write csv time taken: 0.006478071212768555 seconds\n",
      "job_search\n",
      "time taken to load filtered sample: 1.248483657836914 seconds (962156, 3)\n",
      "time taken to load random sample: 1.4092228412628174 seconds (935202, 3)\n",
      "time taken to merge: 0.4642918109893799 seconds (962156, 13)\n",
      "time taken to merge: 0.46678829193115234 seconds (962156, 13)\n",
      "time taken to dump: 0.8690612316131592 seconds\n",
      "job_search\n",
      "job_search\n",
      "job_search filtered subtraction time taken: 9.5367431640625e-07 seconds\n",
      "job_search filtered sorting time taken: 0.2897913455963135 seconds\n",
      "job_search filtered write csv time taken: 0.0345311164855957 seconds\n",
      "job_search random subtraction time taken: 1.1920928955078125e-06 seconds\n",
      "job_search random sorting time taken: 0.2797825336456299 seconds\n",
      "job_search random write csv time taken: 0.005451679229736328 seconds\n",
      "is_hired_1mo\n",
      "time taken to load filtered sample: 1.2229557037353516 seconds (962156, 3)\n",
      "time taken to load random sample: 1.086561918258667 seconds (935202, 3)\n",
      "time taken to merge: 0.4687376022338867 seconds (962156, 13)\n",
      "time taken to merge: 0.4399101734161377 seconds (962156, 13)\n",
      "time taken to dump: 0.8725011348724365 seconds\n",
      "is_hired_1mo\n",
      "is_hired_1mo\n",
      "is_hired_1mo filtered subtraction time taken: 9.5367431640625e-07 seconds\n",
      "is_hired_1mo filtered sorting time taken: 0.21212339401245117 seconds\n",
      "is_hired_1mo filtered write csv time taken: 0.00633692741394043 seconds\n",
      "is_hired_1mo random subtraction time taken: 9.5367431640625e-07 seconds\n",
      "is_hired_1mo random sorting time taken: 0.27936530113220215 seconds\n",
      "is_hired_1mo random write csv time taken: 0.005746126174926758 seconds\n",
      "job_offer\n",
      "time taken to load filtered sample: 1.090456485748291 seconds (962156, 3)\n",
      "time taken to load random sample: 1.3083138465881348 seconds (935202, 3)\n",
      "time taken to merge: 0.46672940254211426 seconds (962156, 13)\n",
      "time taken to merge: 0.45479488372802734 seconds (962156, 13)\n",
      "time taken to dump: 0.9169280529022217 seconds\n",
      "job_offer\n",
      "job_offer\n",
      "job_offer filtered subtraction time taken: 1.6689300537109375e-06 seconds\n",
      "job_offer filtered sorting time taken: 0.28255534172058105 seconds\n",
      "job_offer filtered write csv time taken: 0.005964517593383789 seconds\n",
      "job_offer random subtraction time taken: 7.152557373046875e-07 seconds\n",
      "job_offer random sorting time taken: 0.27616047859191895 seconds\n",
      "job_offer random write csv time taken: 0.020381927490234375 seconds\n"
     ]
    },
    {
     "data": {
      "image/png": "[encoded data removed]",
      "text/plain": [
       "<Figure size 432x288 with 1 Axes>"
      ]
     },
     "metadata": {
      "needs_background": "light"
     },
     "output_type": "display_data"
    },
    {
     "data": {
      "image/png": "[encoded data removed]",
      "text/plain": [
       "<Figure size 432x288 with 1 Axes>"
      ]
     },
     "metadata": {
      "needs_background": "light"
     },
     "output_type": "display_data"
    },
    {
     "data": {
      "image/png": "[encoded data removed]",
      "text/plain": [
       "<Figure size 432x288 with 1 Axes>"
      ]
     },
     "metadata": {
      "needs_background": "light"
     },
     "output_type": "display_data"
    },
    {
     "data": {
      "image/png": "[encoded data removed]",
      "text/plain": [
       "<Figure size 432x288 with 1 Axes>"
      ]
     },
     "metadata": {
      "needs_background": "light"
     },
     "output_type": "display_data"
    },
    {
     "data": {
      "image/png": "[encoded data removed]",
      "text/plain": [
       "<Figure size 432x288 with 1 Axes>"
      ]
     },
     "metadata": {
      "needs_background": "light"
     },
     "output_type": "display_data"
    },
    {
     "data": {
      "image/png": "[encoded data removed]",
      "text/plain": [
       "<Figure size 432x288 with 1 Axes>"
      ]
     },
     "metadata": {
      "needs_background": "light"
     },
     "output_type": "display_data"
    },
    {
     "data": {
      "image/png": "[encoded data removed]",
      "text/plain": [
       "<Figure size 432x288 with 1 Axes>"
      ]
     },
     "metadata": {
      "needs_background": "light"
     },
     "output_type": "display_data"
    },
    {
     "data": {
      "image/png": "[encoded data removed]",
      "text/plain": [
       "<Figure size 432x288 with 1 Axes>"
      ]
     },
     "metadata": {
      "needs_background": "light"
     },
     "output_type": "display_data"
    },
    {
     "data": {
      "image/png": "[encoded data removed]",
      "text/plain": [
       "<Figure size 432x288 with 1 Axes>"
      ]
     },
     "metadata": {
      "needs_background": "light"
     },
     "output_type": "display_data"
    },
    {
     "data": {
      "image/png": "[encoded data removed]",
      "text/plain": [
       "<Figure size 432x288 with 1 Axes>"
      ]
     },
     "metadata": {
      "needs_background": "light"
     },
     "output_type": "display_data"
    }
   ],
   "source": [
    "# all in one loop\n",
    "import glob\n",
    "import pandas as pd\n",
    "import time\n",
    "import pickle\n",
    "import matplotlib.pyplot as plt\n",
    "\n",
    "boundary_dict = {\n",
    "    'random':{\n",
    "        \"is_unemployed\": 0.9,\n",
    "         \"lost_job_1mo\": 0.85,\n",
    "         \"job_search\": 1.0,\n",
    "         \"is_hired_1mo\": 0.95,\n",
    "         \"job_offer\": 1.0\n",
    "    },\n",
    "    'filtered': {\n",
    "        \"is_unemployed\": 0.8,\n",
    "         \"lost_job_1mo\": 0.75,\n",
    "         \"job_search\": 0.85,\n",
    "         \"is_hired_1mo\": 0.95,\n",
    "         \"job_offer\": 1.0\n",
    "    }\n",
    "}\n",
    "\n",
    "all_tweets_for_sam = pd.DataFrame()\n",
    "\n",
    "for column in [\"is_unemployed\", \"lost_job_1mo\", \"job_search\", \"is_hired_1mo\", \"job_offer\"]:\n",
    "    print(column)\n",
    "    start_time = time.time()\n",
    "    model_output_path = '/scratch/da2734/twitter/jobs/running_on_200Msamples/pred_output_1pct_sample/{}/'.format(column)\n",
    "#     print(glob.glob(model_output_path+'filtered*.csv'))\n",
    "    model_output_filtered = pd.concat([pd.read_csv(f) for f in glob.glob(model_output_path+'filtered*.csv')], ignore_index = True)\n",
    "    print('time taken to load filtered sample:', str(time.time() - start_time), 'seconds', model_output_filtered.shape)\n",
    "\n",
    "    start_time = time.time()\n",
    "    model_output_random = pd.concat([pd.read_csv(f) for f in glob.glob(model_output_path+'random*.csv')], ignore_index = True)\n",
    "    print('time taken to load random sample:', str(time.time() - start_time), 'seconds', model_output_random.shape)\n",
    "\n",
    "\n",
    "    start_time = time.time()\n",
    "    merged_filtered = pd.merge(model_output_filtered, tweets_filtered, how='inner', on = 'tweet_id')\n",
    "    print('time taken to merge:', str(time.time() - start_time), 'seconds', merged_filtered.shape)\n",
    "\n",
    "    start_time = time.time()\n",
    "    merged_random = pd.merge(model_output_random, tweets_random, how='inner', on = 'tweet_id')\n",
    "    print('time taken to merge:', str(time.time() - start_time), 'seconds', merged_filtered.shape)\n",
    "\n",
    "    start_time = time.time()\n",
    "    pickle.dump( merged_filtered, open( \"./pickles/{}_merged_filtered_1pct.pkl\".format(column), \"wb\" ) )\n",
    "    pickle.dump( merged_random, open( \"./pickles/{}_merged_random_1pct.pkl\".format(column), \"wb\" ) )\n",
    "    print('time taken to dump:', str(time.time() - start_time), 'seconds')\n",
    "\n",
    "    merged_filtered = merged_filtered[['tweet_id', 'pos_model', 'text']]\n",
    "    merged_random   = merged_random[['tweet_id', 'pos_model', 'text']]\n",
    "    \n",
    "    print(column)\n",
    "    fig = plt.figure()\n",
    "    ax = plt.subplot(111)\n",
    "    plt.hist(merged_filtered['pos_model'], bins=20, density = True, color = 'red', alpha = 0.2)\n",
    "    plt.title(column+' filtered')\n",
    "#     ax.set_yscale('log')\n",
    "    plt.xlim(0,1.1)\n",
    "    \n",
    "    fig = plt.figure()\n",
    "    ax = plt.subplot(111)\n",
    "    plt.hist(merged_random['pos_model'], bins=20, density = True, color = 'red', alpha = 0.2)\n",
    "    plt.title(column+' random')\n",
    "#     ax.set_yscale('log')\n",
    "    plt.xlim(0,1.1)\n",
    "    \n",
    "    print(column)\n",
    "    start_time = time.time()\n",
    "    \n",
    "#     sort_merged_filtered = merged_filtered.sort_values(by=['pos_model'], ascending=False)\n",
    "#     sort_merged_filtered['tweet_id'] = sort_merged_filtered.index\n",
    "#     print('filtered', sort_merged_filtered[['pos_model', 'text']].head())\n",
    "#     sort_merged_filtered = sort_merged_filtered[['tweet_id', 'pos_model', 'text']]\n",
    "#     sort_merged_filtered.head(1000).to_csv('csv/filtered_{}_pos_1000.csv'.format(column), index = False)\n",
    "# #     print('filtered', sort_merged_filtered.head())\n",
    "\n",
    "# #     sort_merged_filtered = merged_filtered.sort_values(by=['pos_model'], ascending=True)\n",
    "# #     sort_merged_filtered.head(100).to_csv('csv/filtered_{}_neg_100.csv'.format(column))\n",
    "# #     print(sort_merged_filtered.head())\n",
    "#     print('time taken to save csv:', str(time.time() - start_time), 'seconds')\n",
    "\n",
    "#     print(column)\n",
    "#     start_time = time.time()\n",
    "#     sort_merged_random = merged_random.sort_values(by=['pos_model'], ascending=False)\n",
    "#     sort_merged_random['tweet_id'] = sort_merged_random.index\n",
    "#     print('random', sort_merged_random[['pos_model', 'text']].head())\n",
    "#     sort_merged_random = sort_merged_random[['tweet_id', 'pos_model', 'text']]\n",
    "#     sort_merged_random.head(1000).to_csv('csv/random_{}_pos_1000.csv'.format(column), index = False)\n",
    "\n",
    "    \n",
    "# #     sort_merged_random = merged_random.sort_values(by=['pos_model'], ascending=True)\n",
    "# #     sort_merged_random.head(100).to_csv('csv/random_{}_neg_100.csv'.format(column))\n",
    "# #     print(sort_merged_random.head())\n",
    "#     print('time taken to save csv:', str(time.time() - start_time), 'seconds')\n",
    "\n",
    "\n",
    "    ### boundary save \n",
    "    \n",
    "    boundary = boundary_dict['filtered'][column]\n",
    "    merged_filtered['dist_point{}'.format(boundary)] = abs(merged_filtered['pos_model'] - boundary)\n",
    "\n",
    "    start_time = time.time()\n",
    "    print(column, 'filtered subtraction time taken:', str(time.time() - start_time), 'seconds')\n",
    "\n",
    "    start_time = time.time()\n",
    "    merged_filtered = merged_filtered.sort_values(by=['dist_point{}'.format(boundary)], ascending=True)\n",
    "    print(column, 'filtered sorting time taken:', str(time.time() - start_time), 'seconds')\n",
    "\n",
    "    start_time = time.time()\n",
    "    merged_filtered[:500].to_csv('csv/final_boundary_filtered_{}_point_{}.csv'.format(column, boundary))\n",
    "    # print(all_filtered_boundary['text'])\n",
    "    print(column, 'filtered write csv time taken:', str(time.time() - start_time), 'seconds')\n",
    "\n",
    "    all_tweets_for_sam = pd.concat([all_tweets_for_sam, merged_filtered[:500]])\n",
    "    \n",
    "    boundary = boundary_dict['random'][column]\n",
    "    merged_random['dist_point{}'.format(boundary)] = abs(merged_random['pos_model'] - boundary)\n",
    "\n",
    "    start_time = time.time()\n",
    "    print(column, 'random subtraction time taken:', str(time.time() - start_time), 'seconds')\n",
    "\n",
    "    start_time = time.time()\n",
    "    merged_random = merged_random.sort_values(by=['dist_point{}'.format(boundary)], ascending=True)\n",
    "    print(column, 'random sorting time taken:', str(time.time() - start_time), 'seconds')\n",
    "\n",
    "    start_time = time.time()\n",
    "    merged_random[:500].to_csv('csv/final_boundary_random_{}_point_{}.csv'.format(column, boundary))\n",
    "    # print(all_random_boundary['text'])\n",
    "    print(column, 'random write csv time taken:', str(time.time() - start_time), 'seconds')   \n",
    "    \n",
    "    all_tweets_for_sam = pd.concat([all_tweets_for_sam, merged_random[:500]])\n",
    "    \n",
    "    \n",
    "#     break"
   ]
  },
  {
   "cell_type": "code",
   "execution_count": 17,
   "metadata": {},
   "outputs": [
    {
     "data": {
      "text/plain": [
       "(5000, 9)"
      ]
     },
     "execution_count": 17,
     "metadata": {},
     "output_type": "execute_result"
    }
   ],
   "source": [
    "all_tweets_for_sam.shape"
   ]
  },
  {
   "cell_type": "code",
   "execution_count": 5,
   "metadata": {},
   "outputs": [
    {
     "data": {
      "text/html": [
       "<div>\n",
       "<style scoped>\n",
       "    .dataframe tbody tr th:only-of-type {\n",
       "        vertical-align: middle;\n",
       "    }\n",
       "\n",
       "    .dataframe tbody tr th {\n",
       "        vertical-align: top;\n",
       "    }\n",
       "\n",
       "    .dataframe thead th {\n",
       "        text-align: right;\n",
       "    }\n",
       "</style>\n",
       "<table border=\"1\" class=\"dataframe\">\n",
       "  <thead>\n",
       "    <tr style=\"text-align: right;\">\n",
       "      <th></th>\n",
       "      <th>tweet_id</th>\n",
       "      <th>pos_model</th>\n",
       "      <th>text</th>\n",
       "      <th>dist_point0.8</th>\n",
       "      <th>dist_point0.9</th>\n",
       "      <th>dist_point0.75</th>\n",
       "      <th>dist_point0.85</th>\n",
       "      <th>dist_point1.0</th>\n",
       "      <th>dist_point0.95</th>\n",
       "    </tr>\n",
       "  </thead>\n",
       "  <tbody>\n",
       "    <tr>\n",
       "      <th>488872</th>\n",
       "      <td>396071239120609280</td>\n",
       "      <td>0.800011</td>\n",
       "      <td>😩 I'm lonely and I don't want to do homework</td>\n",
       "      <td>0.000011</td>\n",
       "      <td>NaN</td>\n",
       "      <td>NaN</td>\n",
       "      <td>NaN</td>\n",
       "      <td>NaN</td>\n",
       "      <td>NaN</td>\n",
       "    </tr>\n",
       "    <tr>\n",
       "      <th>534309</th>\n",
       "      <td>523327454367084544</td>\n",
       "      <td>0.800014</td>\n",
       "      <td>I Needa Find Myself A Job. Hate Being Broke 😒</td>\n",
       "      <td>0.000014</td>\n",
       "      <td>NaN</td>\n",
       "      <td>NaN</td>\n",
       "      <td>NaN</td>\n",
       "      <td>NaN</td>\n",
       "      <td>NaN</td>\n",
       "    </tr>\n",
       "    <tr>\n",
       "      <th>679729</th>\n",
       "      <td>372867011506110464</td>\n",
       "      <td>0.800034</td>\n",
       "      <td>lol if this doesn't work im dropping out</td>\n",
       "      <td>0.000034</td>\n",
       "      <td>NaN</td>\n",
       "      <td>NaN</td>\n",
       "      <td>NaN</td>\n",
       "      <td>NaN</td>\n",
       "      <td>NaN</td>\n",
       "    </tr>\n",
       "    <tr>\n",
       "      <th>499386</th>\n",
       "      <td>410549179786989569</td>\n",
       "      <td>0.799964</td>\n",
       "      <td>ugh dude i don't wanna work</td>\n",
       "      <td>0.000036</td>\n",
       "      <td>NaN</td>\n",
       "      <td>NaN</td>\n",
       "      <td>NaN</td>\n",
       "      <td>NaN</td>\n",
       "      <td>NaN</td>\n",
       "    </tr>\n",
       "    <tr>\n",
       "      <th>559529</th>\n",
       "      <td>378849057868771328</td>\n",
       "      <td>0.800086</td>\n",
       "      <td>So I just quit my job.</td>\n",
       "      <td>0.000086</td>\n",
       "      <td>NaN</td>\n",
       "      <td>NaN</td>\n",
       "      <td>NaN</td>\n",
       "      <td>NaN</td>\n",
       "      <td>NaN</td>\n",
       "    </tr>\n",
       "  </tbody>\n",
       "</table>\n",
       "</div>"
      ],
      "text/plain": [
       "                  tweet_id  pos_model  \\\n",
       "488872  396071239120609280   0.800011   \n",
       "534309  523327454367084544   0.800014   \n",
       "679729  372867011506110464   0.800034   \n",
       "499386  410549179786989569   0.799964   \n",
       "559529  378849057868771328   0.800086   \n",
       "\n",
       "                                                 text  dist_point0.8  \\\n",
       "488872   😩 I'm lonely and I don't want to do homework       0.000011   \n",
       "534309  I Needa Find Myself A Job. Hate Being Broke 😒       0.000014   \n",
       "679729       lol if this doesn't work im dropping out       0.000034   \n",
       "499386                    ugh dude i don't wanna work       0.000036   \n",
       "559529                         So I just quit my job.       0.000086   \n",
       "\n",
       "        dist_point0.9  dist_point0.75  dist_point0.85  dist_point1.0  \\\n",
       "488872            NaN             NaN             NaN            NaN   \n",
       "534309            NaN             NaN             NaN            NaN   \n",
       "679729            NaN             NaN             NaN            NaN   \n",
       "499386            NaN             NaN             NaN            NaN   \n",
       "559529            NaN             NaN             NaN            NaN   \n",
       "\n",
       "        dist_point0.95  \n",
       "488872             NaN  \n",
       "534309             NaN  \n",
       "679729             NaN  \n",
       "499386             NaN  \n",
       "559529             NaN  "
      ]
     },
     "execution_count": 5,
     "metadata": {},
     "output_type": "execute_result"
    }
   ],
   "source": [
    "all_tweets_for_sam.head()"
   ]
  },
  {
   "cell_type": "code",
   "execution_count": 6,
   "metadata": {},
   "outputs": [
    {
     "name": "stdout",
     "output_type": "stream",
     "text": [
      "(5000, 2)\n"
     ]
    },
    {
     "data": {
      "text/html": [
       "<div>\n",
       "<style scoped>\n",
       "    .dataframe tbody tr th:only-of-type {\n",
       "        vertical-align: middle;\n",
       "    }\n",
       "\n",
       "    .dataframe tbody tr th {\n",
       "        vertical-align: top;\n",
       "    }\n",
       "\n",
       "    .dataframe thead th {\n",
       "        text-align: right;\n",
       "    }\n",
       "</style>\n",
       "<table border=\"1\" class=\"dataframe\">\n",
       "  <thead>\n",
       "    <tr style=\"text-align: right;\">\n",
       "      <th></th>\n",
       "      <th>tweet_id</th>\n",
       "      <th>text</th>\n",
       "    </tr>\n",
       "  </thead>\n",
       "  <tbody>\n",
       "    <tr>\n",
       "      <th>488872</th>\n",
       "      <td>396071239120609280</td>\n",
       "      <td>😩 I'm lonely and I don't want to do homework</td>\n",
       "    </tr>\n",
       "    <tr>\n",
       "      <th>534309</th>\n",
       "      <td>523327454367084544</td>\n",
       "      <td>I Needa Find Myself A Job. Hate Being Broke 😒</td>\n",
       "    </tr>\n",
       "    <tr>\n",
       "      <th>679729</th>\n",
       "      <td>372867011506110464</td>\n",
       "      <td>lol if this doesn't work im dropping out</td>\n",
       "    </tr>\n",
       "    <tr>\n",
       "      <th>499386</th>\n",
       "      <td>410549179786989569</td>\n",
       "      <td>ugh dude i don't wanna work</td>\n",
       "    </tr>\n",
       "    <tr>\n",
       "      <th>559529</th>\n",
       "      <td>378849057868771328</td>\n",
       "      <td>So I just quit my job.</td>\n",
       "    </tr>\n",
       "  </tbody>\n",
       "</table>\n",
       "</div>"
      ],
      "text/plain": [
       "                  tweet_id                                           text\n",
       "488872  396071239120609280   😩 I'm lonely and I don't want to do homework\n",
       "534309  523327454367084544  I Needa Find Myself A Job. Hate Being Broke 😒\n",
       "679729  372867011506110464       lol if this doesn't work im dropping out\n",
       "499386  410549179786989569                    ugh dude i don't wanna work\n",
       "559529  378849057868771328                         So I just quit my job."
      ]
     },
     "execution_count": 6,
     "metadata": {},
     "output_type": "execute_result"
    }
   ],
   "source": [
    "# all_tweets_for_sam['tweet_id'] = all_tweets_for_sam.index\n",
    "all_tweets_for_sam = all_tweets_for_sam[['tweet_id', 'text']]\n",
    "print(all_tweets_for_sam.shape)\n",
    "all_tweets_for_sam.head()"
   ]
  },
  {
   "cell_type": "code",
   "execution_count": 7,
   "metadata": {},
   "outputs": [],
   "source": []
  },
  {
   "cell_type": "code",
   "execution_count": 8,
   "metadata": {},
   "outputs": [],
   "source": [
    "pickle.dump( all_tweets_for_sam, open( \"export/all_tweets_for_sam_iteration1.pickle\", \"wb\" ) )\n",
    "all_tweets_for_sam.to_parquet('export/all_tweets_for_sam_iteration1.parquet')\n",
    "all_tweets_for_sam.to_csv('export/all_tweets_for_sam_iteration1.csv', index = False)"
   ]
  },
  {
   "cell_type": "code",
   "execution_count": 9,
   "metadata": {
    "code_folding": [
     0
    ]
   },
   "outputs": [],
   "source": [
    "# entropy\n",
    "import glob\n",
    "import pandas as pd\n",
    "import time\n",
    "import pickle\n",
    "import matplotlib.pyplot as plt\n",
    "import numpy as np\n",
    "\n",
    "boundary = 0.5\n",
    "\n",
    "for column in [\"is_unemployed\", \"lost_job_1mo\", \"job_search\", \"is_hired_1mo\", \"job_offer\"]:\n",
    "    print(column)\n",
    "    start_time = time.time()\n",
    "    model_output_path = '/scratch/da2734/twitter/running_on_200Msamples/pred_output/{}/'.format(column)\n",
    "    model_output_filtered = pd.concat([pd.read_csv(f) for f in glob.glob(model_output_path+'filtered*.csv')], ignore_index = True)\n",
    "    print('time taken to load filtered sample:', str(time.time() - start_time), 'seconds', model_output_filtered.shape)\n",
    "\n",
    "\n",
    "    start_time = time.time()\n",
    "    model_output_random = pd.concat([pd.read_csv(f) for f in glob.glob(model_output_path+'random*.csv')], ignore_index = True)\n",
    "    print('time taken to load random sample:', str(time.time() - start_time), 'seconds', model_output_random.shape)\n",
    "\n",
    "\n",
    "    start_time = time.time()\n",
    "    merged_filtered = pd.merge(model_output_filtered, tweets_filtered, how='inner', on = 'tweet_id')\n",
    "    print('time taken to merge:', str(time.time() - start_time), 'seconds', merged_filtered.shape)\n",
    "\n",
    "    start_time = time.time()\n",
    "    merged_random = pd.merge(model_output_random, tweets_random, how='inner', on = 'tweet_id')\n",
    "    print('time taken to merge:', str(time.time() - start_time), 'seconds', merged_filtered.shape)\n",
    "\n",
    "    start_time = time.time()\n",
    "    pickle.dump( merged_filtered, open( \"./top_tweets/{}_merged_filtered.pkl\".format(column), \"wb\" ) )\n",
    "    pickle.dump( merged_random, open( \"./top_tweets/{}_merged_random.pkl\".format(column), \"wb\" ) )\n",
    "    print('time taken to dump:', str(time.time() - start_time), 'seconds')\n",
    "\n",
    "    merged_filtered = merged_filtered[['neg_model', 'pos_model', 'text']]\n",
    "    merged_random   = merged_random[['neg_model', 'pos_model', 'text']]\n",
    "    \n",
    "#     merged_random = merged_random[merged_random['pos_model'] > 0.5 ]\n",
    "\n",
    "    merged_filtered['entropy'] = - merged_filtered['pos_model']*(np.log(merged_filtered['pos_model']))\n",
    "    merged_random['entropy'] = - merged_random['pos_model']*(np.log(merged_random['pos_model']))\n",
    "    \n",
    "#     merged_filtered = merged_filtered[merged_filtered['pos_model'] > 0.5 ]\n",
    "\n",
    "    \n",
    "    print(column)\n",
    "    fig = plt.figure()\n",
    "    ax = plt.subplot(111)\n",
    "#     plt.hist(merged_filtered['pos_model'], bins=20, density = True, color = 'red', alpha = 0.2)\n",
    "    plt.hist(merged_filtered['entropy'], bins=20, density = True, color = 'red', alpha = 0.2)    \n",
    "    plt.title(column+' filtered')\n",
    "#     ax.set_yscale('log')\n",
    "#     plt.xlim(0,1.1)\n",
    "    \n",
    "    fig = plt.figure()\n",
    "    ax = plt.subplot(111)\n",
    "    plt.hist(merged_random['entropy'], bins=20, density = True, color = 'red', alpha = 0.2)\n",
    "#     plt.hist(merged_random['pos_model'], bins=20, density = True, color = 'red', alpha = 0.2)\n",
    "    plt.title(column+' random')\n",
    "#     ax.set_yscale('log')\n",
    "#     plt.xlim(0,1.1)\n",
    "    \n",
    "#     print(column)\n",
    "#     start_time = time.time()\n",
    "#     sort_merged_filtered = merged_filtered.sort_values(by=['pos_model'], ascending=False)\n",
    "#     sort_merged_filtered.head(100).to_csv('top_tweets/filtered_{}_pos_100.csv'.format(column))\n",
    "#     print(sort_merged_filtered.head())\n",
    "    \n",
    "#     sort_merged_filtered = merged_filtered.sort_values(by=['pos_model'], ascending=True)\n",
    "#     sort_merged_filtered.head(100).to_csv('top_tweets/filtered_{}_neg_100.csv'.format(column))\n",
    "#     print(sort_merged_filtered.head())\n",
    "#     print('time taken to save csv:', str(time.time() - start_time), 'seconds')\n",
    "\n",
    "#     print(column)\n",
    "#     start_time = time.time()\n",
    "#     sort_merged_random = merged_random.sort_values(by=['pos_model'], ascending=False)\n",
    "#     sort_merged_random.head(100).to_csv('top_tweets/random_{}_pos_100.csv'.format(column))\n",
    "#     print(sort_merged_random.head())\n",
    "    \n",
    "#     sort_merged_random = merged_random.sort_values(by=['pos_model'], ascending=True)\n",
    "#     sort_merged_random.head(100).to_csv('top_tweets/random_{}_neg_100.csv'.format(column))\n",
    "#     print(sort_merged_random.head())\n",
    "#     print('time taken to save csv:', str(time.time() - start_time), 'seconds')\n",
    "\n",
    "\n",
    "#     merged_filtered['dist_point5'] = abs(merged_filtered['pos_model'] - boundary)\n",
    "\n",
    "#     start_time = time.time()\n",
    "#     print(column, 'filtered subtraction time taken:', str(time.time() - start_time), 'seconds')\n",
    "\n",
    "#     start_time = time.time()\n",
    "#     merged_filtered = merged_filtered.sort_values(by=['dist_point5'], ascending=True)\n",
    "#     print(column, 'filtered sorting time taken:', str(time.time() - start_time), 'seconds')\n",
    "\n",
    "#     start_time = time.time()\n",
    "#     merged_filtered[:100].to_csv('top_tweets/filtered_{}_point5.csv'.format(column))\n",
    "#     # print(all_filtered_boundary['text'])\n",
    "#     print(column, 'filtered write csv time taken:', str(time.time() - start_time), 'seconds')\n",
    "\n",
    "\n",
    "#     merged_random['dist_point5'] = abs(merged_random['pos_model'] - boundary)\n",
    "\n",
    "#     start_time = time.time()\n",
    "#     print(column, 'random subtraction time taken:', str(time.time() - start_time), 'seconds')\n",
    "\n",
    "#     start_time = time.time()\n",
    "#     merged_random = merged_random.sort_values(by=['dist_point5'], ascending=True)\n",
    "#     print(column, 'random sorting time taken:', str(time.time() - start_time), 'seconds')\n",
    "\n",
    "#     start_time = time.time()\n",
    "#     merged_random[:100].to_csv('top_tweets/random_{}_point5.csv'.format(column))\n",
    "#     # print(all_random_boundary['text'])\n",
    "#     print(column, 'random write csv time taken:', str(time.time() - start_time), 'seconds')    \n",
    "    \n",
    "    \n",
    "#     break"
   ]
  }
 ],
 "metadata": {
  "kernelspec": {
   "display_name": "Python 3",
   "language": "python",
   "name": "python3"
  },
  "language_info": {
   "codemirror_mode": {
    "name": "ipython",
    "version": 3
   },
   "file_extension": ".py",
   "mimetype": "text/x-python",
   "name": "python",
   "nbconvert_exporter": "python",
   "pygments_lexer": "ipython3",
   "version": "3.7.4"
  }
 },
 "nbformat": 4,
 "nbformat_minor": 2
}
