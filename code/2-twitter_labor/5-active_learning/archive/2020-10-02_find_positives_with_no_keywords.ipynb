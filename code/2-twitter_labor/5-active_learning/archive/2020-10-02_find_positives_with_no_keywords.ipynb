{
 "cells": [
  {
   "cell_type": "code",
   "execution_count": 113,
   "metadata": {},
   "outputs": [],
   "source": [
    "import pandas as pd\n",
    "import os\n",
    "import re\n",
    "pd.options.display.max_colwidth = 100\n",
    "from nltk.stem.porter import PorterStemmer"
   ]
  },
  {
   "cell_type": "code",
   "execution_count": 114,
   "metadata": {},
   "outputs": [],
   "source": [
    "labels = ['is_hired_1mo', 'is_unemployed', 'job_offer', 'job_search', 'lost_job_1mo']"
   ]
  },
  {
   "cell_type": "code",
   "execution_count": 115,
   "metadata": {},
   "outputs": [
    {
     "data": {
      "text/plain": [
       "'workforc'"
      ]
     },
     "execution_count": 115,
     "metadata": {},
     "output_type": "execute_result"
    }
   ],
   "source": [
    "stemmer = PorterStemmer()\n",
    "stemmer.stem('workforce')"
   ]
  },
  {
   "cell_type": "code",
   "execution_count": 120,
   "metadata": {},
   "outputs": [],
   "source": [
    "def find_positives_without_keyword(x, stem):\n",
    "    keyword_list=['fired', 'hired', 'job', 'laid off', 'position', 'quit', 'unemployed']#, 'work']\n",
    "    x = x.replace(\"'\",\"\")\n",
    "    x_splitted = re.findall(r\"[\\w']+|[.,!?;]'\", x)\n",
    "    if stem:\n",
    "        stemmer = PorterStemmer()\n",
    "        x_splitted_stemmed = [stemmer.stem(word) for word in x_splitted]\n",
    "        keyword_list_stemmed = [stemmer.stem(word) for word in keyword_list]\n",
    "        cooccurences_list = list(set(x_splitted_stemmed) & set(keyword_list_stemmed))\n",
    "    else:\n",
    "        cooccurences_list = list(set(x_splitted) & set(keyword_list))\n",
    "    if len(cooccurences_list) == 0 and 'laid off' not in x:\n",
    "        return True\n",
    "    else:\n",
    "        return False"
   ]
  },
  {
   "cell_type": "code",
   "execution_count": 121,
   "metadata": {},
   "outputs": [
    {
     "name": "stderr",
     "output_type": "stream",
     "text": [
      "<ipython-input-121-9eafd42fba05>:5: SettingWithCopyWarning: \n",
      "A value is trying to be set on a copy of a slice from a DataFrame.\n",
      "Try using .loc[row_indexer,col_indexer] = value instead\n",
      "\n",
      "See the caveats in the documentation: https://pandas.pydata.org/pandas-docs/stable/user_guide/indexing.html#returning-a-view-versus-a-copy\n",
      "  df_positives['text'] = df_positives['text'].apply(str.lower)\n",
      "<ipython-input-121-9eafd42fba05>:6: SettingWithCopyWarning: \n",
      "A value is trying to be set on a copy of a slice from a DataFrame.\n",
      "Try using .loc[row_indexer,col_indexer] = value instead\n",
      "\n",
      "See the caveats in the documentation: https://pandas.pydata.org/pandas-docs/stable/user_guide/indexing.html#returning-a-view-versus-a-copy\n",
      "  df_positives['positive_without_keyword'] = df_positives['text'].apply(find_positives_without_keyword, stem=True)\n"
     ]
    },
    {
     "name": "stdout",
     "output_type": "stream",
     "text": [
      "is_hired_1mo: 6\n",
      "33                            work was amazing today put in 12 hours and got 3 leases today on my 3rd day!!\n",
      "333     came to a call center today to apply and i got in! training for 2 week at over 9$hr &amp; after ...\n",
      "694     got called from an extras service in california to work tomorrow and friday on a movie set. i wa...\n",
      "749                                my new boss is the nicest guy. actually looking forward to start working\n",
      "1006    so i recently started work for a pet boarding/doggie daycare and someone was really fucking happ...\n",
      "Name: text, dtype: object\n",
      "is_unemployed: 5\n",
      "525               i am currently working on disability benefits 2, man i hope it does not get flagged lmao.\n",
      "695                                                   i work at 7 and i'm currently still not at work lol 😂\n",
      "806                           \"some [jobless, washed up, angry] dutch guy\"\\n\\nftfy. https://t.co/vioymjt2mm\n",
      "1178    i am currently looking for work and/or looking for funding for my chatbot games startup. help / ...\n",
      "1507    a2: i'm currently not working but i am looking forward to use more of the suggested leanings lik...\n",
      "Name: text, dtype: object\n",
      "job_offer: 69\n",
      "15     looking for an extra income? join the claudiag growing network of skilled independent consultant...\n",
      "30     here is an opportunity waiting for someone like you to lend a helping hand -&gt; @nulyp national...\n",
      "39     if you are a data science specialist interested in working in a financial domain, here is an opp...\n",
      "151    looking for an amazing tv director that can anticipate the needs of a producer before they know ...\n",
      "192             a business opportunity you can work from home and get paid daily!!  http://t.co/pimk53yjfx\n",
      "Name: text, dtype: object\n",
      "job_search: 13\n",
      "11                      i am trying to figure out where else i would apply to work and it is #tough, gang.\n",
      "64                                anyone know a good website for resumes or someone know how to edit one??\n",
      "265                                   i am looking to start or work with a charity that helps foster kids.\n",
      "312    i am seeking employment with an agency who's ideology is about the well-being and care of the el...\n",
      "318    on friday, we learned of a reduction in workforce and now i am searching  for a new opportunity....\n",
      "Name: text, dtype: object\n",
      "lost_job_1mo: 0\n",
      "Series([], Name: text, dtype: object)\n"
     ]
    }
   ],
   "source": [
    "data_path = '/home/manuto/Documents/world_bank/bert_twitter_labor/twitter-labor-data/data/jul23_iter0/preprocessed'\n",
    "for column in labels:\n",
    "    df_train = pd.read_csv(os.path.join(data_path, f'train_{column}.csv'), lineterminator='\\n')\n",
    "    df_positives = df_train.loc[df_train['class']==1]\n",
    "    df_positives['text'] = df_positives['text'].apply(str.lower)\n",
    "    df_positives['positive_without_keyword'] = df_positives['text'].apply(find_positives_without_keyword, stem=True)\n",
    "    nb_positives_without_keywords = df_positives.loc[df_positives['positive_without_keyword']].shape[0]\n",
    "    print(f'{column}:', nb_positives_without_keywords)\n",
    "    print(df_positives.loc[df_positives['positive_without_keyword']]['text'].head())"
   ]
  },
  {
   "cell_type": "code",
   "execution_count": 112,
   "metadata": {},
   "outputs": [
    {
     "name": "stderr",
     "output_type": "stream",
     "text": [
      "<ipython-input-112-a79977a7a7f2>:4: SettingWithCopyWarning: \n",
      "A value is trying to be set on a copy of a slice from a DataFrame.\n",
      "Try using .loc[row_indexer,col_indexer] = value instead\n",
      "\n",
      "See the caveats in the documentation: https://pandas.pydata.org/pandas-docs/stable/user_guide/indexing.html#returning-a-view-versus-a-copy\n",
      "  df_positives['text'] = df_positives['text'].apply(str.lower)\n",
      "<ipython-input-112-a79977a7a7f2>:5: SettingWithCopyWarning: \n",
      "A value is trying to be set on a copy of a slice from a DataFrame.\n",
      "Try using .loc[row_indexer,col_indexer] = value instead\n",
      "\n",
      "See the caveats in the documentation: https://pandas.pydata.org/pandas-docs/stable/user_guide/indexing.html#returning-a-view-versus-a-copy\n",
      "  df_positives['positive_without_keyword'] = df_positives['text'].apply(find_positives_without_keyword, stem=True)\n"
     ]
    }
   ],
   "source": [
    "column = 'job_search'\n",
    "df_train = pd.read_csv(os.path.join(data_path, f'train_{column}.csv'), lineterminator='\\n')\n",
    "df_positives = df_train.loc[df_train['class']==1]\n",
    "df_positives['text'] = df_positives['text'].apply(str.lower)\n",
    "df_positives['positive_without_keyword'] = df_positives['text'].apply(find_positives_without_keyword, stem=True)\n",
    "nb_positives_without_keywords = df_positives.loc[df_positives['positive_without_keyword']].shape[0]\n",
    "df_positives.loc[df_positives['positive_without_keyword']].reset_index(drop=True).to_csv(os.path.join(data_path, 'positives_without_keywords_job_search.csv'), index=False)\n"
   ]
  },
  {
   "cell_type": "code",
   "execution_count": null,
   "metadata": {},
   "outputs": [],
   "source": []
  }
 ],
 "metadata": {
  "kernelspec": {
   "display_name": "Python 3",
   "language": "python",
   "name": "python3"
  },
  "language_info": {
   "codemirror_mode": {
    "name": "ipython",
    "version": 3
   },
   "file_extension": ".py",
   "mimetype": "text/x-python",
   "name": "python",
   "nbconvert_exporter": "python",
   "pygments_lexer": "ipython3",
   "version": "3.8.2"
  }
 },
 "nbformat": 4,
 "nbformat_minor": 4
}
