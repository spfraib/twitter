{
 "cells": [
  {
   "cell_type": "code",
   "execution_count": 3,
   "metadata": {},
   "outputs": [],
   "source": [
    "import pandas as pd\n",
    "import os"
   ]
  },
  {
   "cell_type": "code",
   "execution_count": 2,
   "metadata": {},
   "outputs": [],
   "source": [
    "path = '/home/manuto/Documents/world_bank/bert_twitter_labor/twitter-labor-data/data/train_test/US'"
   ]
  },
  {
   "cell_type": "code",
   "execution_count": 56,
   "metadata": {},
   "outputs": [],
   "source": [
    "folder_list = ['feb9_iter1', 'feb13_iter2', 'feb16_iter3']\n",
    "labels = ['is_unemployed', 'is_hired_1mo', 'lost_job_1mo', 'job_search', 'job_offer']\n",
    "results_dict = dict()\n",
    "for folder in folder_list:\n",
    "    path_raw = os.path.join(path, folder, 'raw', 'labels.parquet')\n",
    "    df = pd.read_parquet(path_raw)\n",
    "    df = df[labels]\n",
    "    df = df.apply(lambda x: x.value_counts(dropna=False)).T.stack()\n",
    "    df_dict = df.to_dict()\n",
    "    df_dict = {key: value for key,value in df_dict.items() if not key[1] == 'unsure'} \n",
    "    results_dict[folder] = df_dict"
   ]
  },
  {
   "cell_type": "code",
   "execution_count": 57,
   "metadata": {},
   "outputs": [
    {
     "data": {
      "text/plain": [
       "{'feb9_iter1': {('is_unemployed', 'no'): 485.0,\n",
       "  ('is_unemployed', 'yes'): 8.0,\n",
       "  ('is_hired_1mo', 'no'): 486.0,\n",
       "  ('is_hired_1mo', 'yes'): 5.0,\n",
       "  ('lost_job_1mo', 'no'): 491.0,\n",
       "  ('job_search', 'no'): 475.0,\n",
       "  ('job_search', 'yes'): 17.0,\n",
       "  ('job_offer', 'no'): 400.0,\n",
       "  ('job_offer', 'yes'): 92.0},\n",
       " 'feb13_iter2': {('is_unemployed', 'no'): 462.0,\n",
       "  ('is_unemployed', 'yes'): 23.0,\n",
       "  ('is_hired_1mo', 'no'): 477.0,\n",
       "  ('is_hired_1mo', 'yes'): 9.0,\n",
       "  ('lost_job_1mo', 'no'): 479.0,\n",
       "  ('lost_job_1mo', 'yes'): 7.0,\n",
       "  ('job_search', 'no'): 463.0,\n",
       "  ('job_search', 'yes'): 24.0,\n",
       "  ('job_offer', 'no'): 383.0,\n",
       "  ('job_offer', 'yes'): 104.0},\n",
       " 'feb16_iter3': {('is_unemployed', 'no'): 464.0,\n",
       "  ('is_unemployed', 'yes'): 14.0,\n",
       "  ('is_hired_1mo', 'no'): 465.0,\n",
       "  ('is_hired_1mo', 'yes'): 13.0,\n",
       "  ('lost_job_1mo', 'no'): 478.0,\n",
       "  ('lost_job_1mo', 'yes'): 1.0,\n",
       "  ('job_search', 'no'): 439.0,\n",
       "  ('job_search', 'yes'): 39.0,\n",
       "  ('job_offer', 'no'): 389.0,\n",
       "  ('job_offer', 'yes'): 89.0}}"
      ]
     },
     "execution_count": 57,
     "metadata": {},
     "output_type": "execute_result"
    }
   ],
   "source": [
    "results_dict"
   ]
  },
  {
   "cell_type": "code",
   "execution_count": 58,
   "metadata": {},
   "outputs": [
    {
     "data": {
      "text/html": [
       "<div>\n",
       "<style scoped>\n",
       "    .dataframe tbody tr th:only-of-type {\n",
       "        vertical-align: middle;\n",
       "    }\n",
       "\n",
       "    .dataframe tbody tr th {\n",
       "        vertical-align: top;\n",
       "    }\n",
       "\n",
       "    .dataframe thead th {\n",
       "        text-align: right;\n",
       "    }\n",
       "</style>\n",
       "<table border=\"1\" class=\"dataframe\">\n",
       "  <thead>\n",
       "    <tr style=\"text-align: right;\">\n",
       "      <th></th>\n",
       "      <th></th>\n",
       "      <th>feb9_iter1</th>\n",
       "      <th>feb13_iter2</th>\n",
       "      <th>feb16_iter3</th>\n",
       "    </tr>\n",
       "  </thead>\n",
       "  <tbody>\n",
       "    <tr>\n",
       "      <th rowspan=\"2\" valign=\"top\">is_unemployed</th>\n",
       "      <th>no</th>\n",
       "      <td>485.0</td>\n",
       "      <td>462.0</td>\n",
       "      <td>464.0</td>\n",
       "    </tr>\n",
       "    <tr>\n",
       "      <th>yes</th>\n",
       "      <td>8.0</td>\n",
       "      <td>23.0</td>\n",
       "      <td>14.0</td>\n",
       "    </tr>\n",
       "    <tr>\n",
       "      <th rowspan=\"2\" valign=\"top\">is_hired_1mo</th>\n",
       "      <th>no</th>\n",
       "      <td>486.0</td>\n",
       "      <td>477.0</td>\n",
       "      <td>465.0</td>\n",
       "    </tr>\n",
       "    <tr>\n",
       "      <th>yes</th>\n",
       "      <td>5.0</td>\n",
       "      <td>9.0</td>\n",
       "      <td>13.0</td>\n",
       "    </tr>\n",
       "    <tr>\n",
       "      <th>lost_job_1mo</th>\n",
       "      <th>no</th>\n",
       "      <td>491.0</td>\n",
       "      <td>479.0</td>\n",
       "      <td>478.0</td>\n",
       "    </tr>\n",
       "  </tbody>\n",
       "</table>\n",
       "</div>"
      ],
      "text/plain": [
       "                   feb9_iter1  feb13_iter2  feb16_iter3\n",
       "is_unemployed no        485.0        462.0        464.0\n",
       "              yes         8.0         23.0         14.0\n",
       "is_hired_1mo  no        486.0        477.0        465.0\n",
       "              yes         5.0          9.0         13.0\n",
       "lost_job_1mo  no        491.0        479.0        478.0"
      ]
     },
     "execution_count": 58,
     "metadata": {},
     "output_type": "execute_result"
    }
   ],
   "source": [
    "df = pd.DataFrame(data=results_dict)\n",
    "df.head()"
   ]
  },
  {
   "cell_type": "code",
   "execution_count": 44,
   "metadata": {},
   "outputs": [
    {
     "data": {
      "text/html": [
       "<div>\n",
       "<style scoped>\n",
       "    .dataframe tbody tr th:only-of-type {\n",
       "        vertical-align: middle;\n",
       "    }\n",
       "\n",
       "    .dataframe tbody tr th {\n",
       "        vertical-align: top;\n",
       "    }\n",
       "\n",
       "    .dataframe thead th {\n",
       "        text-align: right;\n",
       "    }\n",
       "</style>\n",
       "<table border=\"1\" class=\"dataframe\">\n",
       "  <thead>\n",
       "    <tr style=\"text-align: right;\">\n",
       "      <th></th>\n",
       "      <th></th>\n",
       "      <th>feb9_iter1</th>\n",
       "      <th>feb13_iter2</th>\n",
       "      <th>feb16_iter3</th>\n",
       "    </tr>\n",
       "  </thead>\n",
       "  <tbody>\n",
       "    <tr>\n",
       "      <th rowspan=\"2\" valign=\"top\">is_unemployed</th>\n",
       "      <th>no</th>\n",
       "      <td>0.984</td>\n",
       "      <td>0.949</td>\n",
       "      <td>0.969</td>\n",
       "    </tr>\n",
       "    <tr>\n",
       "      <th>yes</th>\n",
       "      <td>0.016</td>\n",
       "      <td>0.047</td>\n",
       "      <td>0.029</td>\n",
       "    </tr>\n",
       "    <tr>\n",
       "      <th rowspan=\"3\" valign=\"top\">is_hired_1mo</th>\n",
       "      <th>no</th>\n",
       "      <td>0.986</td>\n",
       "      <td>0.979</td>\n",
       "      <td>0.971</td>\n",
       "    </tr>\n",
       "    <tr>\n",
       "      <th>unsure</th>\n",
       "      <td>0.004</td>\n",
       "      <td>0.002</td>\n",
       "      <td>0.002</td>\n",
       "    </tr>\n",
       "    <tr>\n",
       "      <th>yes</th>\n",
       "      <td>0.010</td>\n",
       "      <td>0.018</td>\n",
       "      <td>0.027</td>\n",
       "    </tr>\n",
       "  </tbody>\n",
       "</table>\n",
       "</div>"
      ],
      "text/plain": [
       "                      feb9_iter1  feb13_iter2  feb16_iter3\n",
       "is_unemployed no           0.984        0.949        0.969\n",
       "              yes          0.016        0.047        0.029\n",
       "is_hired_1mo  no           0.986        0.979        0.971\n",
       "              unsure       0.004        0.002        0.002\n",
       "              yes          0.010        0.018        0.027"
      ]
     },
     "execution_count": 44,
     "metadata": {},
     "output_type": "execute_result"
    }
   ],
   "source": [
    "df = df.round(3)\n",
    "df.head()"
   ]
  },
  {
   "cell_type": "code",
   "execution_count": 59,
   "metadata": {},
   "outputs": [],
   "source": [
    "df.to_csv(os.path.join(path, 'share_positive_per_iteration.csv'))"
   ]
  },
  {
   "cell_type": "code",
   "execution_count": 60,
   "metadata": {},
   "outputs": [],
   "source": [
    "folder_list = ['feb9_iter1', 'feb13_iter2', 'feb16_iter3']\n",
    "labels = ['is_unemployed', 'is_hired_1mo', 'lost_job_1mo', 'job_search', 'job_offer']\n",
    "results_dict = dict()\n",
    "for folder in folder_list:\n",
    "    path_raw = os.path.join(path, folder, 'raw', 'all_labels_with_text.parquet')\n",
    "    df = pd.read_parquet(path_raw)\n",
    "    df = df[labels]\n",
    "    df = df.apply(lambda x: x.value_counts(dropna=False)).T.stack()\n",
    "    df_dict = df.to_dict()\n",
    "    df_dict = {key: value for key,value in df_dict.items() if not key[1] == 'unsure'} \n",
    "    results_dict[folder] = df_dict"
   ]
  },
  {
   "cell_type": "code",
   "execution_count": 63,
   "metadata": {},
   "outputs": [
    {
     "data": {
      "text/html": [
       "<div>\n",
       "<style scoped>\n",
       "    .dataframe tbody tr th:only-of-type {\n",
       "        vertical-align: middle;\n",
       "    }\n",
       "\n",
       "    .dataframe tbody tr th {\n",
       "        vertical-align: top;\n",
       "    }\n",
       "\n",
       "    .dataframe thead th {\n",
       "        text-align: right;\n",
       "    }\n",
       "</style>\n",
       "<table border=\"1\" class=\"dataframe\">\n",
       "  <thead>\n",
       "    <tr style=\"text-align: right;\">\n",
       "      <th></th>\n",
       "      <th></th>\n",
       "      <th>feb9_iter1</th>\n",
       "      <th>feb13_iter2</th>\n",
       "      <th>feb16_iter3</th>\n",
       "    </tr>\n",
       "  </thead>\n",
       "  <tbody>\n",
       "    <tr>\n",
       "      <th rowspan=\"2\" valign=\"top\">is_unemployed</th>\n",
       "      <th>no</th>\n",
       "      <td>4213</td>\n",
       "      <td>4675</td>\n",
       "      <td>5139</td>\n",
       "    </tr>\n",
       "    <tr>\n",
       "      <th>yes</th>\n",
       "      <td>818</td>\n",
       "      <td>841</td>\n",
       "      <td>855</td>\n",
       "    </tr>\n",
       "    <tr>\n",
       "      <th rowspan=\"2\" valign=\"top\">is_hired_1mo</th>\n",
       "      <th>no</th>\n",
       "      <td>4698</td>\n",
       "      <td>5175</td>\n",
       "      <td>5640</td>\n",
       "    </tr>\n",
       "    <tr>\n",
       "      <th>yes</th>\n",
       "      <td>341</td>\n",
       "      <td>350</td>\n",
       "      <td>363</td>\n",
       "    </tr>\n",
       "    <tr>\n",
       "      <th>lost_job_1mo</th>\n",
       "      <th>no</th>\n",
       "      <td>4764</td>\n",
       "      <td>5243</td>\n",
       "      <td>5721</td>\n",
       "    </tr>\n",
       "  </tbody>\n",
       "</table>\n",
       "</div>"
      ],
      "text/plain": [
       "                   feb9_iter1  feb13_iter2  feb16_iter3\n",
       "is_unemployed no         4213         4675         5139\n",
       "              yes         818          841          855\n",
       "is_hired_1mo  no         4698         5175         5640\n",
       "              yes         341          350          363\n",
       "lost_job_1mo  no         4764         5243         5721"
      ]
     },
     "execution_count": 63,
     "metadata": {},
     "output_type": "execute_result"
    }
   ],
   "source": [
    "df = pd.DataFrame(data=results_dict)\n",
    "df.head()"
   ]
  },
  {
   "cell_type": "code",
   "execution_count": 64,
   "metadata": {},
   "outputs": [],
   "source": [
    "df.to_csv(os.path.join(path, 'overall_share_positive_per_iteration.csv'))"
   ]
  },
  {
   "cell_type": "code",
   "execution_count": 25,
   "metadata": {},
   "outputs": [],
   "source": [
    "df = df[labels]\n",
    "df = df.apply(lambda x: x.value_counts()).T.stack()\n"
   ]
  },
  {
   "cell_type": "code",
   "execution_count": 29,
   "metadata": {},
   "outputs": [
    {
     "data": {
      "text/plain": [
       "{('is_unemployed', 'no'): 485.0,\n",
       " ('is_unemployed', 'yes'): 8.0,\n",
       " ('is_hired_1mo', 'no'): 486.0,\n",
       " ('is_hired_1mo', 'unsure'): 2.0,\n",
       " ('is_hired_1mo', 'yes'): 5.0,\n",
       " ('lost_job_1mo', 'no'): 491.0,\n",
       " ('lost_job_1mo', 'unsure'): 2.0,\n",
       " ('job_search', 'no'): 475.0,\n",
       " ('job_search', 'unsure'): 1.0,\n",
       " ('job_search', 'yes'): 17.0,\n",
       " ('job_offer', 'no'): 400.0,\n",
       " ('job_offer', 'unsure'): 1.0,\n",
       " ('job_offer', 'yes'): 92.0}"
      ]
     },
     "execution_count": 29,
     "metadata": {},
     "output_type": "execute_result"
    }
   ],
   "source": [
    "df.to_dict()"
   ]
  },
  {
   "cell_type": "code",
   "execution_count": 16,
   "metadata": {},
   "outputs": [],
   "source": [
    "path_raw = os.path.join(path, folder_list[1], 'raw', 'labels.parquet')\n",
    "df1 = pd.read_parquet(path_raw)\n",
    "df1 = df1[labels]\n",
    "df1 = df1.apply(lambda x: x.value_counts()).T.stack()\n",
    "#df1.columns = [folder_list[1]]"
   ]
  },
  {
   "cell_type": "code",
   "execution_count": 17,
   "metadata": {},
   "outputs": [
    {
     "data": {
      "text/plain": [
       "is_unemployed  no        462.0\n",
       "               unsure      2.0\n",
       "               yes        23.0\n",
       "is_hired_1mo   no        477.0\n",
       "               unsure      1.0\n",
       "dtype: float64"
      ]
     },
     "execution_count": 17,
     "metadata": {},
     "output_type": "execute_result"
    }
   ],
   "source": [
    "df1.head()"
   ]
  },
  {
   "cell_type": "code",
   "execution_count": null,
   "metadata": {},
   "outputs": [],
   "source": [
    ".to_csv(os.path.join(path, 'test.csv'))"
   ]
  }
 ],
 "metadata": {
  "kernelspec": {
   "display_name": "Python 3 (ipykernel)",
   "language": "python",
   "name": "python3"
  },
  "language_info": {
   "codemirror_mode": {
    "name": "ipython",
    "version": 3
   },
   "file_extension": ".py",
   "mimetype": "text/x-python",
   "name": "python",
   "nbconvert_exporter": "python",
   "pygments_lexer": "ipython3",
   "version": "3.8.10"
  }
 },
 "nbformat": 4,
 "nbformat_minor": 4
}
