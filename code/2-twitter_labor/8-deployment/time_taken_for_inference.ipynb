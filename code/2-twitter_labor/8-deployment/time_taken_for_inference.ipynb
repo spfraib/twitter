{
 "cells": [
  {
   "cell_type": "code",
   "execution_count": 1,
   "id": "bbabb74b",
   "metadata": {},
   "outputs": [
    {
     "data": {
      "text/html": [
       "<style>.container { width:100% !important; }</style>"
      ],
      "text/plain": [
       "<IPython.core.display.HTML object>"
      ]
     },
     "metadata": {},
     "output_type": "display_data"
    }
   ],
   "source": [
    "from IPython.core.display import display, HTML\n",
    "display(HTML(\"<style>.container { width:100% !important; }</style>\"))\n"
   ]
  },
  {
   "cell_type": "code",
   "execution_count": 2,
   "id": "5085576c",
   "metadata": {},
   "outputs": [],
   "source": [
    "import os\n",
    "from tqdm import tqdm\n"
   ]
  },
  {
   "cell_type": "markdown",
   "id": "0ee08642",
   "metadata": {},
   "source": [
    "# diagnosing using log files"
   ]
  },
  {
   "cell_type": "code",
   "execution_count": 26,
   "id": "1a2c0a3d",
   "metadata": {},
   "outputs": [
    {
     "name": "stderr",
     "output_type": "stream",
     "text": [
      "100%|██████████| 1951/1951 [00:14<00:00, 133.46it/s]\n"
     ]
    }
   ],
   "source": [
    "# oom_counter = 0\n",
    "\n",
    "full_loop_time_list = []\n",
    "per_tweet_time_list = []\n",
    "\n",
    "log_path = '/scratch/spf248/twitter/data/user_timeline/bert_inferrred/MX/iter_6-mexrun_5GB-7309008/logs/'\n",
    "for count, filename in enumerate(tqdm(os.listdir(log_path))):\n",
    "    if not filename.endswith('.log'): continue    \n",
    "#     print(filename)\n",
    "    \n",
    "    all_lines = open(os.path.join(log_path, filename)).readlines()\n",
    "    \n",
    "    for line in all_lines:\n",
    "        if 'full loop:' in line:\n",
    "#             print(filename, line)\n",
    "            full_loop, per_tweet = line.split(':')[1].split('seconds')\n",
    "            full_loop_time_list.append(float(full_loop)/60/60)\n",
    "            per_tweet_time_list.append(float(per_tweet))\n",
    "#             break #DEBUG\n",
    "#     break\n",
    "\n",
    "# print(oom_counter, count)"
   ]
  },
  {
   "cell_type": "code",
   "execution_count": 21,
   "id": "27fd81a6",
   "metadata": {},
   "outputs": [
    {
     "data": {
      "text/plain": [
       "(14832, 14832)"
      ]
     },
     "execution_count": 21,
     "metadata": {},
     "output_type": "execute_result"
    }
   ],
   "source": [
    "len(full_loop_time_list), len(per_tweet_time_list)"
   ]
  },
  {
   "cell_type": "code",
   "execution_count": 24,
   "id": "bfab37d7",
   "metadata": {},
   "outputs": [
    {
     "name": "stdout",
     "output_type": "stream",
     "text": [
      "Collecting matplotlib\n",
      "  Downloading matplotlib-3.3.4-cp36-cp36m-manylinux1_x86_64.whl (11.5 MB)\n",
      "\u001b[K     |################################| 11.5 MB 20.3 MB/s eta 0:00:01\n",
      "\u001b[?25hRequirement already satisfied: pyparsing!=2.0.4,!=2.1.2,!=2.1.6,>=2.0.3 in /scratch/spf248/twitter/virtualenvs/mexico_virtualenv/lib/python3.6/site-packages (from matplotlib) (2.4.7)\n",
      "Requirement already satisfied: python-dateutil>=2.1 in /scratch/spf248/twitter/virtualenvs/mexico_virtualenv/lib/python3.6/site-packages (from matplotlib) (2.8.1)\n",
      "Requirement already satisfied: numpy>=1.15 in /scratch/spf248/twitter/virtualenvs/mexico_virtualenv/lib/python3.6/site-packages (from matplotlib) (1.19.1)\n",
      "Collecting kiwisolver>=1.0.1\n",
      "  Downloading kiwisolver-1.3.1-cp36-cp36m-manylinux1_x86_64.whl (1.1 MB)\n",
      "\u001b[K     |################################| 1.1 MB 129.7 MB/s eta 0:00:01\n",
      "\u001b[?25hCollecting cycler>=0.10\n",
      "  Using cached cycler-0.10.0-py2.py3-none-any.whl (6.5 kB)\n",
      "Requirement already satisfied: pillow>=6.2.0 in /scratch/spf248/twitter/virtualenvs/mexico_virtualenv/lib/python3.6/site-packages (from matplotlib) (8.2.0)\n",
      "Requirement already satisfied: six in /scratch/spf248/twitter/virtualenvs/mexico_virtualenv/lib/python3.6/site-packages (from cycler>=0.10->matplotlib) (1.16.0)\n",
      "Installing collected packages: kiwisolver, cycler, matplotlib\n",
      "Successfully installed cycler-0.10.0 kiwisolver-1.3.1 matplotlib-3.3.4\n"
     ]
    }
   ],
   "source": [
    "!pip install matplotlib"
   ]
  },
  {
   "cell_type": "code",
   "execution_count": 29,
   "id": "fe8d41e0",
   "metadata": {},
   "outputs": [
    {
     "data": {
      "image/png": "[encoded data removed]",
      "text/plain": [
       "<Figure size 432x288 with 1 Axes>"
      ]
     },
     "metadata": {
      "needs_background": "light"
     },
     "output_type": "display_data"
    }
   ],
   "source": [
    "import matplotlib.pyplot as plt\n",
    "\n",
    "plt.hist(full_loop_time_list)\n",
    "plt.ylabel('Files')\n",
    "plt.xlabel('Hours')\n",
    "plt.show()"
   ]
  },
  {
   "cell_type": "code",
   "execution_count": 30,
   "id": "4d4937a7",
   "metadata": {},
   "outputs": [
    {
     "data": {
      "image/png": "[encoded data removed]",
      "text/plain": [
       "<Figure size 432x288 with 1 Axes>"
      ]
     },
     "metadata": {
      "needs_background": "light"
     },
     "output_type": "display_data"
    }
   ],
   "source": [
    "plt.hist(per_tweet_time_list)\n",
    "plt.ylabel('Files')\n",
    "plt.xlabel('Seconds')\n",
    "plt.show()"
   ]
  },
  {
   "cell_type": "code",
   "execution_count": 13,
   "id": "288020d4",
   "metadata": {},
   "outputs": [],
   "source": [
    "line = \"5131622666237.log full loop: 15737.617755651474 seconds 0.022992279849980656\"\n"
   ]
  },
  {
   "cell_type": "code",
   "execution_count": 23,
   "id": "825d4797",
   "metadata": {},
   "outputs": [
    {
     "name": "stdout",
     "output_type": "stream",
     "text": [
      "['6361622666239.log', '2661622666238.log', '1311622666234.log', '1421622666234.log', '10031622666244.log', '1391622666234.log', '1411622666234.log', '1291622666234.log', '1281622666234.log', '1271622666234.log', '1341622666234.log', '1381622666234.log', '1351622666234.log', '1331622666234.log', '4691622666237.log', '8051622666240.log', '1401622666234.log', '1321622666234.log', '1361622666234.log', '1301622666234.log', '4711622666237.log', '1371622666234.log']\n"
     ]
    }
   ],
   "source": [
    "print(not_done)"
   ]
  },
  {
   "cell_type": "code",
   "execution_count": 25,
   "id": "1077f3f4",
   "metadata": {},
   "outputs": [
    {
     "name": "stdout",
     "output_type": "stream",
     "text": [
      "22\n"
     ]
    }
   ],
   "source": [
    "print(len(not_done))"
   ]
  },
  {
   "cell_type": "code",
   "execution_count": null,
   "id": "1d335f49",
   "metadata": {},
   "outputs": [],
   "source": []
  },
  {
   "cell_type": "code",
   "execution_count": null,
   "id": "ebd15302",
   "metadata": {},
   "outputs": [],
   "source": []
  },
  {
   "cell_type": "code",
   "execution_count": null,
   "id": "8b005168",
   "metadata": {},
   "outputs": [],
   "source": []
  },
  {
   "cell_type": "code",
   "execution_count": null,
   "id": "47d454c1",
   "metadata": {},
   "outputs": [],
   "source": []
  },
  {
   "cell_type": "code",
   "execution_count": null,
   "id": "f09cd2f7",
   "metadata": {},
   "outputs": [],
   "source": []
  },
  {
   "cell_type": "code",
   "execution_count": null,
   "id": "781674b4",
   "metadata": {},
   "outputs": [],
   "source": []
  },
  {
   "cell_type": "code",
   "execution_count": null,
   "id": "8e8fd649",
   "metadata": {},
   "outputs": [],
   "source": []
  }
 ],
 "metadata": {
  "kernelspec": {
   "display_name": "Python 3",
   "language": "python",
   "name": "python3"
  },
  "language_info": {
   "codemirror_mode": {
    "name": "ipython",
    "version": 3
   },
   "file_extension": ".py",
   "mimetype": "text/x-python",
   "name": "python",
   "nbconvert_exporter": "python",
   "pygments_lexer": "ipython3",
   "version": "3.6.9"
  }
 },
 "nbformat": 4,
 "nbformat_minor": 5
}
