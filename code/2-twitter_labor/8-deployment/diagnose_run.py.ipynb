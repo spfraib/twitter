{
 "cells": [
  {
   "cell_type": "code",
   "execution_count": 20,
   "id": "bbabb74b",
   "metadata": {},
   "outputs": [
    {
     "data": {
      "text/html": [
       "<style>.container { width:100% !important; }</style>"
      ],
      "text/plain": [
       "<IPython.core.display.HTML object>"
      ]
     },
     "metadata": {},
     "output_type": "display_data"
    }
   ],
   "source": [
    "from IPython.core.display import display, HTML\n",
    "display(HTML(\"<style>.container { width:100% !important; }</style>\"))\n"
   ]
  },
  {
   "cell_type": "code",
   "execution_count": 12,
   "id": "5085576c",
   "metadata": {},
   "outputs": [],
   "source": [
    "import os\n",
    "from tqdm import tqdm\n"
   ]
  },
  {
   "cell_type": "code",
   "execution_count": 27,
   "id": "2670678a",
   "metadata": {
    "scrolled": false
   },
   "outputs": [
    {
     "name": "stderr",
     "output_type": "stream",
     "text": [
      "  4%|▍         | 86/1951 [00:00<00:00, 11595.41it/s]"
     ]
    },
    {
     "name": "stdout",
     "output_type": "stream",
     "text": [
      "jobarray_mx_inference_7219786.out running inference..\n",
      " ['pyenv activated\\n', '/scratch/spf248/twitter/code/twitter/code/2-twitter_labor/8-deployment\\n', 'running inference..\\n']\n",
      "74 86\n"
     ]
    },
    {
     "name": "stderr",
     "output_type": "stream",
     "text": [
      "\n"
     ]
    }
   ],
   "source": [
    "oom_counter = 0\n",
    "\n",
    "outfile_path = 'outfiles'\n",
    "for count, filename in enumerate(tqdm(os.listdir(outfile_path))):\n",
    "    if not filename.startswith('jobarray_mx_inference'): continue    \n",
    "#     print(filename)\n",
    "    \n",
    "    lines = open(os.path.join(outfile_path, filename)).readlines()\n",
    "\n",
    "    last_line = lines[-1]\n",
    "    if last_line != 'done\\n':\n",
    "        if 'oom-kill event(s)' in last_line:\n",
    "            oom_counter += 1\n",
    "        else:\n",
    "            print(filename, last_line, lines)            \n",
    "    \n",
    "            break #DEBUG\n",
    "\n",
    "print(oom_counter, count)"
   ]
  },
  {
   "cell_type": "code",
   "execution_count": 19,
   "id": "cf6c2886",
   "metadata": {},
   "outputs": [
    {
     "data": {
      "text/plain": [
       "1950"
      ]
     },
     "execution_count": 19,
     "metadata": {},
     "output_type": "execute_result"
    }
   ],
   "source": [
    "count"
   ]
  },
  {
   "cell_type": "code",
   "execution_count": 9,
   "id": "71baabb5",
   "metadata": {},
   "outputs": [
    {
     "data": {
      "text/plain": [
       "['pyenv activated\\n',\n",
       " '/scratch/spf248/twitter/code/twitter/code/2-twitter_labor/8-deployment\\n',\n",
       " 'running inference..\\n',\n",
       " 'done\\n']"
      ]
     },
     "execution_count": 9,
     "metadata": {},
     "output_type": "execute_result"
    }
   ],
   "source": [
    "lines"
   ]
  }
 ],
 "metadata": {
  "kernelspec": {
   "display_name": "Python 3",
   "language": "python",
   "name": "python3"
  },
  "language_info": {
   "codemirror_mode": {
    "name": "ipython",
    "version": 3
   },
   "file_extension": ".py",
   "mimetype": "text/x-python",
   "name": "python",
   "nbconvert_exporter": "python",
   "pygments_lexer": "ipython3",
   "version": "3.6.9"
  }
 },
 "nbformat": 4,
 "nbformat_minor": 5
}
