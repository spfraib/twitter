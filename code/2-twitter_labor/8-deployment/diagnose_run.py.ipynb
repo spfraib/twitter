{
 "cells": [
  {
   "cell_type": "code",
   "execution_count": 1,
   "id": "bbabb74b",
   "metadata": {},
   "outputs": [
    {
     "data": {
      "text/html": [
       "<style>.container { width:100% !important; }</style>"
      ],
      "text/plain": [
       "<IPython.core.display.HTML object>"
      ]
     },
     "metadata": {},
     "output_type": "display_data"
    }
   ],
   "source": [
    "from IPython.core.display import display, HTML\n",
    "display(HTML(\"<style>.container { width:100% !important; }</style>\"))\n"
   ]
  },
  {
   "cell_type": "code",
   "execution_count": 2,
   "id": "5085576c",
   "metadata": {},
   "outputs": [],
   "source": [
    "import os\n",
    "from tqdm import tqdm\n"
   ]
  },
  {
   "cell_type": "markdown",
   "id": "7973ccd4",
   "metadata": {},
   "source": [
    "# diagnosing using SLURM out files"
   ]
  },
  {
   "cell_type": "code",
   "execution_count": 6,
   "id": "2670678a",
   "metadata": {
    "scrolled": false
   },
   "outputs": [
    {
     "name": "stderr",
     "output_type": "stream",
     "text": [
      "100%|██████████| 1951/1951 [00:00<00:00, 20729.74it/s]"
     ]
    },
    {
     "name": "stdout",
     "output_type": "stream",
     "text": [
      ">>> jobarray_mx_inference_7310012.out slurmstepd: error: *** JOB 7310012 ON cs413 CANCELLED AT 2021-06-04T16:37:28 DUE TO TIME LIMIT ***\n",
      "\n",
      ">>> jobarray_mx_inference_7309140.out running inference..\n",
      "\n",
      ">>> jobarray_mx_inference_7309149.out running inference..\n",
      "\n",
      ">>> jobarray_mx_inference_7309138.out running inference..\n",
      "\n",
      ">>> jobarray_mx_inference_7309146.out running inference..\n",
      "\n",
      ">>> jobarray_mx_inference_7309645.out slurmstepd: error: *** JOB 7309645 ON cs303 CANCELLED AT 2021-06-04T16:37:28 DUE TO TIME LIMIT ***\n",
      "\n",
      ">>> jobarray_mx_inference_7309137.out running inference..\n",
      "\n",
      ">>> jobarray_mx_inference_7309147.out running inference..\n",
      "\n",
      ">>> jobarray_mx_inference_7309478.out slurmstepd: error: *** JOB 7309478 ON cs289 CANCELLED AT 2021-06-04T16:37:27 DUE TO TIME LIMIT ***\n",
      "\n",
      ">>> jobarray_mx_inference_7309151.out running inference..\n",
      "\n",
      ">>> jobarray_mx_inference_7309150.out running inference..\n",
      "\n",
      ">>> jobarray_mx_inference_7309480.out slurmstepd: error: *** JOB 7309480 ON cs289 CANCELLED AT 2021-06-04T16:37:27 DUE TO TIME LIMIT ***\n",
      "\n",
      ">>> jobarray_mx_inference_7309142.out running inference..\n",
      "\n",
      ">>> jobarray_mx_inference_7309144.out running inference..\n",
      "\n",
      ">>> jobarray_mx_inference_7309141.out running inference..\n",
      "\n",
      ">>> jobarray_mx_inference_7309143.out running inference..\n",
      "\n",
      ">>> jobarray_mx_inference_7309136.out running inference..\n",
      "\n",
      ">>> jobarray_mx_inference_7309275.out slurmstepd: error: *** JOB 7309275 ON cs517 CANCELLED AT 2021-06-04T16:37:27 DUE TO TIME LIMIT ***\n",
      "\n",
      ">>> jobarray_mx_inference_7309139.out running inference..\n",
      "\n",
      ">>> jobarray_mx_inference_7309814.out slurmstepd: error: *** JOB 7309814 ON cs328 CANCELLED AT 2021-06-04T16:37:28 DUE TO TIME LIMIT ***\n",
      "\n",
      ">>> jobarray_mx_inference_7309148.out running inference..\n",
      "\n",
      ">>> jobarray_mx_inference_7309145.out running inference..\n",
      "\n",
      "0 1950\n"
     ]
    },
    {
     "name": "stderr",
     "output_type": "stream",
     "text": [
      "\n"
     ]
    }
   ],
   "source": [
    "oom_counter = 0\n",
    "\n",
    "outfile_path = 'outfiles'\n",
    "for count, filename in enumerate(tqdm(os.listdir(outfile_path))):\n",
    "    if not filename.startswith('jobarray_mx_inference'): continue    \n",
    "#     print(filename)\n",
    "    \n",
    "    lines = open(os.path.join(outfile_path, filename)).readlines()\n",
    "\n",
    "    last_line = lines[-1]\n",
    "    if last_line != 'done\\n':\n",
    "        if 'oom-kill event(s)' in last_line:\n",
    "            oom_counter += 1\n",
    "        else:\n",
    "            print('>>>', filename, last_line)            \n",
    "    \n",
    "#             break #DEBUG\n",
    "\n",
    "print(oom_counter, count)"
   ]
  },
  {
   "cell_type": "code",
   "execution_count": 4,
   "id": "cf6c2886",
   "metadata": {},
   "outputs": [
    {
     "data": {
      "text/plain": [
       "1950"
      ]
     },
     "execution_count": 4,
     "metadata": {},
     "output_type": "execute_result"
    }
   ],
   "source": [
    "count"
   ]
  },
  {
   "cell_type": "code",
   "execution_count": 5,
   "id": "659cf32e",
   "metadata": {},
   "outputs": [
    {
     "data": {
      "text/plain": [
       "0"
      ]
     },
     "execution_count": 5,
     "metadata": {},
     "output_type": "execute_result"
    }
   ],
   "source": [
    "oom_counter"
   ]
  },
  {
   "cell_type": "code",
   "execution_count": 9,
   "id": "71baabb5",
   "metadata": {},
   "outputs": [
    {
     "data": {
      "text/plain": [
       "['pyenv activated\\n',\n",
       " '/scratch/spf248/twitter/code/twitter/code/2-twitter_labor/8-deployment\\n',\n",
       " 'running inference..\\n',\n",
       " 'done\\n']"
      ]
     },
     "execution_count": 9,
     "metadata": {},
     "output_type": "execute_result"
    }
   ],
   "source": [
    "lines"
   ]
  },
  {
   "cell_type": "markdown",
   "id": "0ee08642",
   "metadata": {},
   "source": [
    "# diagnosing using log files"
   ]
  },
  {
   "cell_type": "code",
   "execution_count": 27,
   "id": "1a2c0a3d",
   "metadata": {},
   "outputs": [
    {
     "name": "stderr",
     "output_type": "stream",
     "text": [
      "  5%|▍         | 96/1951 [00:00<00:06, 299.28it/s]"
     ]
    },
    {
     "name": "stdout",
     "output_type": "stream",
     "text": [
      "6361622666239.log slurmstepd: error: *** STEP 7309645.0 ON cs303 CANCELLED AT 2021-06-04T16:37:28 DUE TO TIME LIMIT ***\n",
      "\n",
      "2661622666238.log slurmstepd: error: *** STEP 7309275.0 ON cs517 CANCELLED AT 2021-06-04T16:37:27 DUE TO TIME LIMIT ***\n",
      "\n"
     ]
    },
    {
     "name": "stderr",
     "output_type": "stream",
     "text": [
      " 11%|█▏        | 224/1951 [00:00<00:06, 286.08it/s]"
     ]
    },
    {
     "name": "stdout",
     "output_type": "stream",
     "text": [
      "1311622666234.log [inference: 217400 out of 378681\n",
      "\n"
     ]
    },
    {
     "name": "stderr",
     "output_type": "stream",
     "text": [
      " 16%|█▌        | 315/1951 [00:01<00:05, 293.19it/s]"
     ]
    },
    {
     "name": "stdout",
     "output_type": "stream",
     "text": [
      "1421622666234.log [inference: 210300 out of 376726\n",
      "\n"
     ]
    },
    {
     "name": "stderr",
     "output_type": "stream",
     "text": [
      " 21%|██▏       | 419/1951 [00:01<00:04, 320.93it/s]"
     ]
    },
    {
     "name": "stdout",
     "output_type": "stream",
     "text": [
      "10031622666244.log srun: Job step aborted: Waiting up to 32 seconds for job step to finish.\n",
      "\n",
      "1391622666234.log [inference: 212600 out of 379172\n",
      "\n"
     ]
    },
    {
     "name": "stderr",
     "output_type": "stream",
     "text": [
      " 30%|███       | 591/1951 [00:01<00:04, 338.81it/s]"
     ]
    },
    {
     "name": "stdout",
     "output_type": "stream",
     "text": [
      "1411622666234.log [inference: 201600 out of 682816\n",
      "\n",
      "1291622666234.log [inference: 215700 out of 378055\n",
      "\n",
      "1281622666234.log [inference: 216400 out of 382609\n",
      "\n"
     ]
    },
    {
     "name": "stderr",
     "output_type": "stream",
     "text": [
      " 34%|███▍      | 662/1951 [00:02<00:03, 335.73it/s]"
     ]
    },
    {
     "name": "stdout",
     "output_type": "stream",
     "text": [
      "1271622666234.log [inference: 217100 out of 379269\n",
      "\n"
     ]
    },
    {
     "name": "stderr",
     "output_type": "stream",
     "text": [
      " 49%|████▉     | 953/1951 [00:03<00:03, 306.02it/s]"
     ]
    },
    {
     "name": "stdout",
     "output_type": "stream",
     "text": [
      "1341622666234.log [inference: 214700 out of 380235\n",
      "\n"
     ]
    },
    {
     "name": "stderr",
     "output_type": "stream",
     "text": [
      " 54%|█████▍    | 1050/1951 [00:03<00:02, 305.54it/s]"
     ]
    },
    {
     "name": "stdout",
     "output_type": "stream",
     "text": [
      "1381622666234.log [inference: 211400 out of 377118\n",
      "\n"
     ]
    },
    {
     "name": "stderr",
     "output_type": "stream",
     "text": [
      " 57%|█████▋    | 1117/1951 [00:03<00:02, 313.75it/s]"
     ]
    },
    {
     "name": "stdout",
     "output_type": "stream",
     "text": [
      "1351622666234.log [inference: 199900 out of 449389\n",
      "\n",
      "1331622666234.log [inference: 204700 out of 452637\n",
      "\n"
     ]
    },
    {
     "name": "stderr",
     "output_type": "stream",
     "text": [
      " 62%|██████▏   | 1208/1951 [00:03<00:02, 277.03it/s]"
     ]
    },
    {
     "name": "stdout",
     "output_type": "stream",
     "text": [
      "4691622666237.log slurmstepd: error: *** STEP 7309478.0 ON cs289 CANCELLED AT 2021-06-04T16:37:27 DUE TO TIME LIMIT ***\n",
      "\n",
      "8051622666240.log slurmstepd: error: *** STEP 7309814.0 ON cs328 CANCELLED AT 2021-06-04T16:37:28 DUE TO TIME LIMIT ***\n",
      "\n"
     ]
    },
    {
     "name": "stderr",
     "output_type": "stream",
     "text": [
      " 70%|███████   | 1370/1951 [00:04<00:01, 302.67it/s]"
     ]
    },
    {
     "name": "stdout",
     "output_type": "stream",
     "text": [
      "1401622666234.log [inference: 202400 out of 682215\n",
      "\n"
     ]
    },
    {
     "name": "stderr",
     "output_type": "stream",
     "text": [
      " 80%|████████  | 1565/1951 [00:05<00:01, 317.62it/s]"
     ]
    },
    {
     "name": "stdout",
     "output_type": "stream",
     "text": [
      "1321622666234.log [inference: 217400 out of 379215\n",
      "\n",
      "1361622666234.log [inference: 199400 out of 451399\n",
      "\n",
      "1301622666234.log [inference: 216000 out of 378680\n",
      "\n",
      "4711622666237.log slurmstepd: error: *** STEP 7309480.0 ON cs289 CANCELLED AT 2021-06-04T16:37:27 DUE TO TIME LIMIT ***\n",
      "\n",
      "1371622666234.log [inference: 200300 out of 682102\n",
      "\n"
     ]
    },
    {
     "name": "stderr",
     "output_type": "stream",
     "text": [
      "100%|██████████| 1951/1951 [00:06<00:00, 306.24it/s]\n"
     ]
    }
   ],
   "source": [
    "# oom_counter = 0\n",
    "\n",
    "not_done = []\n",
    "log_path = '/scratch/spf248/twitter/data/user_timeline/bert_inferrred/MX/iter_6-mexrun_5GB-7309008/logs/'\n",
    "for count, filename in enumerate(tqdm(os.listdir(log_path))):\n",
    "    if not filename.endswith('.log'): continue    \n",
    "#     print(filename)\n",
    "    \n",
    "    lines = open(os.path.join(log_path, filename)).readlines()\n",
    "    \n",
    "    if 'done\\n' not in lines:\n",
    "#         print(filename)\n",
    "        not_done.append(filename)\n",
    "        print(filename, lines[-1])\n",
    "    \n",
    "#     break #DEBUG\n",
    "\n",
    "# print(oom_counter, count)"
   ]
  },
  {
   "cell_type": "code",
   "execution_count": 18,
   "id": "288020d4",
   "metadata": {},
   "outputs": [
    {
     "data": {
      "text/plain": [
       "True"
      ]
     },
     "execution_count": 18,
     "metadata": {},
     "output_type": "execute_result"
    }
   ],
   "source": [
    "'done\\n' in lines"
   ]
  },
  {
   "cell_type": "code",
   "execution_count": 23,
   "id": "825d4797",
   "metadata": {},
   "outputs": [
    {
     "name": "stdout",
     "output_type": "stream",
     "text": [
      "['6361622666239.log', '2661622666238.log', '1311622666234.log', '1421622666234.log', '10031622666244.log', '1391622666234.log', '1411622666234.log', '1291622666234.log', '1281622666234.log', '1271622666234.log', '1341622666234.log', '1381622666234.log', '1351622666234.log', '1331622666234.log', '4691622666237.log', '8051622666240.log', '1401622666234.log', '1321622666234.log', '1361622666234.log', '1301622666234.log', '4711622666237.log', '1371622666234.log']\n"
     ]
    }
   ],
   "source": [
    "print(not_done)"
   ]
  },
  {
   "cell_type": "code",
   "execution_count": 25,
   "id": "1077f3f4",
   "metadata": {},
   "outputs": [
    {
     "name": "stdout",
     "output_type": "stream",
     "text": [
      "22\n"
     ]
    }
   ],
   "source": [
    "print(len(not_done))"
   ]
  },
  {
   "cell_type": "code",
   "execution_count": null,
   "id": "1d335f49",
   "metadata": {},
   "outputs": [],
   "source": []
  },
  {
   "cell_type": "code",
   "execution_count": null,
   "id": "ebd15302",
   "metadata": {},
   "outputs": [],
   "source": []
  },
  {
   "cell_type": "code",
   "execution_count": null,
   "id": "8b005168",
   "metadata": {},
   "outputs": [],
   "source": []
  },
  {
   "cell_type": "code",
   "execution_count": null,
   "id": "47d454c1",
   "metadata": {},
   "outputs": [],
   "source": []
  },
  {
   "cell_type": "code",
   "execution_count": null,
   "id": "f09cd2f7",
   "metadata": {},
   "outputs": [],
   "source": []
  },
  {
   "cell_type": "code",
   "execution_count": null,
   "id": "781674b4",
   "metadata": {},
   "outputs": [],
   "source": []
  },
  {
   "cell_type": "code",
   "execution_count": null,
   "id": "8e8fd649",
   "metadata": {},
   "outputs": [],
   "source": []
  }
 ],
 "metadata": {
  "kernelspec": {
   "display_name": "Python 3",
   "language": "python",
   "name": "python3"
  },
  "language_info": {
   "codemirror_mode": {
    "name": "ipython",
    "version": 3
   },
   "file_extension": ".py",
   "mimetype": "text/x-python",
   "name": "python",
   "nbconvert_exporter": "python",
   "pygments_lexer": "ipython3",
   "version": "3.6.9"
  }
 },
 "nbformat": 4,
 "nbformat_minor": 5
}
