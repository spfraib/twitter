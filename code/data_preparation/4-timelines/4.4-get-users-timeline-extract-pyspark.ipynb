{
 "cells": [
  {
   "cell_type": "code",
   "execution_count": 1,
   "metadata": {},
   "outputs": [],
   "source": [
    "import os\n",
    "import sys\n",
    "import socket\n",
    "import re\n",
    "import numpy as np\n",
    "import string\n",
    "import warnings\n",
    "from timeit import default_timer as timer\n",
    "from datetime import datetime\n",
    "\n",
    "from pyspark.sql import SparkSession\n",
    "from pyspark.sql.functions import udf,desc,row_number,col,year,month,dayofmonth,dayofweek,to_timestamp,size,isnan,when,count,col,count,lit,sum\n",
    "import pyspark.sql.functions as F\n",
    "from pyspark.sql.types import MapType, StringType, IntegerType, StructType, StructField, FloatType, ArrayType\n",
    "from py4j.java_gateway import java_import\n",
    "from functools import reduce\n",
    "from pyspark.sql import DataFrame"
   ]
  },
  {
   "cell_type": "markdown",
   "metadata": {},
   "source": [
    "Country: US\n",
    "Files: 37084\n",
    "Chunks: 10\n",
    "EXTRACT CHUNK 0\n",
    "TIME: 2606 SEC\n",
    "EXTRACT CHUNK 1\n",
    "ERROR WITH CHUNK 1\n",
    "EXTRACT CHUNK 2\n",
    "TIME: 1946 SEC\n",
    "EXTRACT CHUNK 3\n",
    "TIME: 2203 SEC\n",
    "EXTRACT CHUNK 4\n",
    "TIME: 2333 SEC\n",
    "EXTRACT CHUNK 5\n",
    "TIME: 3144 SEC\n",
    "EXTRACT CHUNK 6\n",
    "TIME: 3382 SEC\n",
    "EXTRACT CHUNK 7\n",
    "TIME: 2617 SEC\n",
    "EXTRACT CHUNK 8\n",
    "TIME: 1828 SEC\n",
    "EXTRACT CHUNK 9\n",
    "TIME: 2135 SEC"
   ]
  },
  {
   "cell_type": "markdown",
   "metadata": {},
   "source": [
    "# Config"
   ]
  },
  {
   "cell_type": "code",
   "execution_count": 2,
   "metadata": {},
   "outputs": [
    {
     "name": "stdout",
     "output_type": "stream",
     "text": [
      "Country: US\n"
     ]
    }
   ],
   "source": [
    "country_code=\"FR\"\n",
    "print('Country:', country_code)"
   ]
  },
  {
   "cell_type": "code",
   "execution_count": 3,
   "metadata": {},
   "outputs": [
    {
     "name": "stdout",
     "output_type": "stream",
     "text": [
      "Hostname: Samuels-MBP.home\n"
     ]
    }
   ],
   "source": [
    "try:\n",
    "    spark\n",
    "except NameError:\n",
    "    if 'samuel' in socket.gethostname().lower():\n",
    "        print('Create Local SparkSession')\n",
    "        spark=SparkSession.builder.config(\"spark.driver.host\", \"localhost\").appName(\"extract-timelines\").getOrCreate()\n",
    "    else:\n",
    "        print('Create Cluster SparkSession')\n",
    "        spark=SparkSession.builder.appName(\"extract-timelines\").getOrCreate()\n",
    "        \n",
    "spark.conf.set(\"spark.sql.files.ignoreCorruptFiles\", \"true\")\n",
    "spark.conf.set('spark.sql.session.timeZone', 'UTC')\n",
    "    \n",
    "print('Hostname:', socket.gethostname())\n",
    "if  'samuel' in socket.gethostname().lower():\n",
    "    path_to_data='../../data'\n",
    "else:\n",
    "    path_to_data='/user/spf248/twitter/data'"
   ]
  },
  {
   "cell_type": "code",
   "execution_count": null,
   "metadata": {},
   "outputs": [],
   "source": [
    "print('List files to be processed...')\n",
    "\n",
    "fs=spark._jvm.org.apache.hadoop.fs.FileSystem.get(spark._jsc.hadoopConfiguration())\n",
    "list_status=fs.listStatus(spark._jvm.org.apache.hadoop.fs.Path(os.path.join(path_to_data,'timelines','historical','API',country_code)))\n",
    "paths=[file.getPath().toString() for file in list_status]\n",
    "paths=[path.replace('hdfs://dumbo','') for path in paths if 'json.bz2' in path]\n",
    "np.random.seed(0)\n",
    "paths=np.random.permutation(sorted(paths))\n",
    "\n",
    "print('# Files:', len(paths))"
   ]
  },
  {
   "cell_type": "code",
   "execution_count": null,
   "metadata": {},
   "outputs": [],
   "source": [
    "n_chunks=10\n",
    "print('# Chunks:', n_chunks)\n",
    "paths_chunks=np.array_split(paths, n_chunks)"
   ]
  },
  {
   "cell_type": "markdown",
   "metadata": {},
   "source": [
    "# Process Data"
   ]
  },
  {
   "cell_type": "code",
   "execution_count": null,
   "metadata": {},
   "outputs": [],
   "source": [
    "def extract_chunk(i_chunk,paths_chunk):\n",
    "\n",
    "        df=spark.read.option(\n",
    "        \"compression\",\"bzip2\").option(\n",
    "        \"multiLine\",\"true\").option(\n",
    "        \"encoding\",\"UTF-8\").json(list(paths_chunk))\n",
    "        \n",
    "        df=df.select(\n",
    "        'id_str',\n",
    "        'created_at',\n",
    "        'full_text',\n",
    "        'lang',\n",
    "        'user.id_str',\n",
    "        'user.location',\n",
    "        'coordinates.coordinates',\n",
    "        'place.id',\n",
    "        )\n",
    "\n",
    "        df = df.toDF(*[\n",
    "        'tweet_id',\n",
    "        'created_at',\n",
    "        'text',\n",
    "        'tweet_lang',\n",
    "        'user_id',\n",
    "        'user_location',\n",
    "        'tweet_coordinates',\n",
    "        'place_id',\n",
    "        ])\n",
    "\n",
    "        df = df.withColumn('created_at', to_timestamp('created_at',\"EEE MMM dd HH:mm:ss ZZZZZ yyyy\"))\n",
    "        df = df.withColumn('tweet_longitude', F.col('tweet_coordinates').getItem(0))\n",
    "        df = df.withColumn('tweet_latitude',  F.col('tweet_coordinates').getItem(1))\n",
    "        df = df.drop('tweet_coordinates')\n",
    "\n",
    "        df.write.mode(\"overwrite\").parquet(os.path.join(path_to_data,'timelines','historical','chunks',country_code,str(i_chunk)))"
   ]
  },
  {
   "cell_type": "code",
   "execution_count": null,
   "metadata": {},
   "outputs": [],
   "source": [
    "for i_chunk,paths_chunk in enumerate(paths_chunks):\n",
    "    \n",
    "    try:\n",
    "\n",
    "        print('EXTRACT CHUNK', i_chunk)\n",
    "        start = timer()\n",
    "\n",
    "        extract_chunk(i_chunk,paths_chunk)\n",
    "\n",
    "        end = timer()\n",
    "        print('TIME:', round(end - start), 'SEC')\n",
    "\n",
    "    except:\n",
    "\n",
    "        print('ERROR WITH CHUNK', i_chunk)\n",
    "        print('\\n'.join(list(paths_chunk)))"
   ]
  }
 ],
 "metadata": {
  "kernelspec": {
   "display_name": "Python 3",
   "language": "python",
   "name": "python3"
  },
  "language_info": {
   "codemirror_mode": {
    "name": "ipython",
    "version": 3
   },
   "file_extension": ".py",
   "mimetype": "text/x-python",
   "name": "python",
   "nbconvert_exporter": "python",
   "pygments_lexer": "ipython3",
   "version": "3.7.7"
  }
 },
 "nbformat": 4,
 "nbformat_minor": 2
}
