{
 "cells": [
  {
   "cell_type": "code",
   "execution_count": 2,
   "metadata": {},
   "outputs": [],
   "source": [
    "import os\n",
    "import sys\n",
    "from timeit import default_timer as timer\n",
    "import socket\n",
    "import pandas as pd\n",
    "\n",
    "from pyspark.sql.functions import udf, desc, row_number, col\n",
    "import pyspark.sql.functions as F\n",
    "from pyspark.sql import Window\n",
    "from pyspark.sql import SparkSession\n",
    "from pyspark.sql.types import MapType, StringType, IntegerType, StructType, StructField, FloatType, ArrayType"
   ]
  },
  {
   "cell_type": "code",
   "execution_count": 3,
   "metadata": {},
   "outputs": [
    {
     "data": {
      "text/plain": [
       "1.4876475"
      ]
     },
     "execution_count": 3,
     "metadata": {},
     "output_type": "execute_result"
    }
   ],
   "source": [
    "(1576713912537-1576708557006)/(1000*3600)"
   ]
  },
  {
   "cell_type": "markdown",
   "metadata": {},
   "source": [
    "# Config"
   ]
  },
  {
   "cell_type": "code",
   "execution_count": 15,
   "metadata": {},
   "outputs": [
    {
     "name": "stdout",
     "output_type": "stream",
     "text": [
      "Hostname: Samuels-MBP\n"
     ]
    }
   ],
   "source": [
    "try:\n",
    "    spark\n",
    "except NameError:\n",
    "    if 'samuel' in socket.gethostname().lower():\n",
    "        print('Create Local SparkSession')\n",
    "        spark = SparkSession.builder.config(\n",
    "        \"spark.driver.host\", \"localhost\").appName(\n",
    "        \"get-users-by-account-location\").getOrCreate()\n",
    "    else:\n",
    "        print('Create Cluster SparkSession')\n",
    "        spark = SparkSession.builder.appName(\n",
    "        \"get-users-by-account-location\").getOrCreate()\n",
    "    \n",
    "# Local\n",
    "print('Hostname:', socket.gethostname())\n",
    "if 'samuel' in socket.gethostname().lower():\n",
    "    path_to_users     = '../../data/users/user-id-and-location/'\n",
    "    path_to_locations = '../../data/locations/profiles/'\n",
    "# Cluster\n",
    "else:\n",
    "    path_to_users     = '/user/spf248/twitter/data/users/user-id-and-location/'\n",
    "    path_to_locations = '/user/spf248/twitter/data/locations/profiles/'    "
   ]
  },
  {
   "cell_type": "markdown",
   "metadata": {},
   "source": [
    "# Import Data"
   ]
  },
  {
   "cell_type": "code",
   "execution_count": 22,
   "metadata": {},
   "outputs": [
    {
     "name": "stdout",
     "output_type": "stream",
     "text": [
      "Import User Id and Location:\n"
     ]
    }
   ],
   "source": [
    "print('Import User Id and Location:')\n",
    "\n",
    "schema = StructType([StructField('_c0', StringType(), True),\n",
    "                     StructField('USER ID', StringType(), True),\n",
    "                     StructField('USER LOCATION', StringType(), True)])\n",
    "\n",
    "df = spark.read.option(\n",
    "'compression', 'bzip2').option(\n",
    "'header','true').option(\n",
    "\"multiLine\", \"true\").option(\n",
    "\"mode\", \"DROPMALFORMED\").option(\n",
    "'escape','\"').option(\n",
    "\"encoding\", \"UTF-8\").schema(schema).csv(\n",
    "path_to_users+'user-id-and-location-from-decahose-partition-*-block-*.csv.bz2')\n",
    "\n",
    "df = df.drop('_c0')\n",
    "df = df.toDF(*['user_id','user_location'])"
   ]
  },
  {
   "cell_type": "code",
   "execution_count": null,
   "metadata": {},
   "outputs": [],
   "source": [
    "print('REPARTITION')\n",
    "df = df.repartition(1000)"
   ]
  },
  {
   "cell_type": "code",
   "execution_count": null,
   "metadata": {},
   "outputs": [],
   "source": [
    "print('CACHE')\n",
    "df.cache()"
   ]
  },
  {
   "cell_type": "code",
   "execution_count": 4,
   "metadata": {},
   "outputs": [
    {
     "name": "stdout",
     "output_type": "stream",
     "text": [
      "Import Identified Locations\n"
     ]
    }
   ],
   "source": [
    "print('Import Identified Locations')\n",
    "identified_locations = spark.read.option(\n",
    "'header','true').option(\n",
    "\"multiLine\", \"true\").csv(\n",
    "path_to_locations+'account-locations.csv').select('user_location')"
   ]
  },
  {
   "cell_type": "markdown",
   "metadata": {},
   "source": [
    "# Process Data"
   ]
  },
  {
   "cell_type": "code",
   "execution_count": 5,
   "metadata": {},
   "outputs": [
    {
     "name": "stdout",
     "output_type": "stream",
     "text": [
      "Select Rows in Identified Locations\n"
     ]
    }
   ],
   "source": [
    "print('Select Rows in Identified Locations')\n",
    "df = df.join(identified_locations, on=['user_location'], how='inner')"
   ]
  },
  {
   "cell_type": "code",
   "execution_count": 6,
   "metadata": {},
   "outputs": [
    {
     "name": "stdout",
     "output_type": "stream",
     "text": [
      "Select Most Frequent Location Per User\n"
     ]
    }
   ],
   "source": [
    "print('Select Most Frequent Location Per User')\n",
    "df = df.groupBy('user_id', 'user_location').count()\n",
    "window = Window.partitionBy(\"user_id\").orderBy(desc(\"count\"))\n",
    "df = df.withColumn('order', row_number().over(window)).where(col('order') == 1).drop(*['count','order'])"
   ]
  },
  {
   "cell_type": "code",
   "execution_count": 7,
   "metadata": {},
   "outputs": [
    {
     "name": "stdout",
     "output_type": "stream",
     "text": [
      "Group Lists of Users by Account Location:\n"
     ]
    }
   ],
   "source": [
    "print('Group Lists of Users by Account Location:')\n",
    "df = df.groupby(\"user_location\").agg(F.collect_set(\"user_id\").alias('user_id'))"
   ]
  },
  {
   "cell_type": "code",
   "execution_count": 8,
   "metadata": {},
   "outputs": [
    {
     "name": "stdout",
     "output_type": "stream",
     "text": [
      "+--------------------+--------------------+\n",
      "|       user_location|             user_id|\n",
      "+--------------------+--------------------+\n",
      "|  Caracas, Venezuela|[122252122, 41893...|\n",
      "|    الدوحة, دولة قطر|[8111604633126174...|\n",
      "|      Arequipa, Peru|[2331191766, 2288...|\n",
      "| Brisbane, Australia|[305328362, 21836...|\n",
      "|            England |[634877011, 69852...|\n",
      "|     Gainesville, FL|[4628365815, 1010...|\n",
      "|        Dos Hermanas|[174784862, 16563...|\n",
      "|                Utah|[156336275, 19429...|\n",
      "| Bayern, Deutschland|[3390705670, 7508...|\n",
      "|Ferrara, Emilia R...|[748290951030902784]|\n",
      "|        Virginia USA|[46503682, 289866...|\n",
      "|    Florencio Varela|[364920202, 23436...|\n",
      "|           Campinas |[135674103, 37131...|\n",
      "|    College Park, GA|[2388206209, 8053...|\n",
      "|       Jonesboro, AR|[370357130, 26916...|\n",
      "|       St George, UT|[1079062922, 8575...|\n",
      "|             türkiye|[195472635, 36772...|\n",
      "|            yokohama|[1699442040, 1255...|\n",
      "|      Luton, England|[31709525, 989204...|\n",
      "|       Côte d'Ivoire|[2570218329, 1272...|\n",
      "+--------------------+--------------------+\n",
      "only showing top 20 rows\n",
      "\n"
     ]
    }
   ],
   "source": [
    "# print(df.show(50))"
   ]
  },
  {
   "cell_type": "code",
   "execution_count": 9,
   "metadata": {},
   "outputs": [
    {
     "name": "stdout",
     "output_type": "stream",
     "text": [
      "SAVE TO PARQUET\n",
      "DONE IN 41 SEC\n"
     ]
    }
   ],
   "source": [
    "print('SAVE')\n",
    "start = timer()\n",
    "df.write.mode(\"overwrite\").json(path_to_users+'../user-ids-by-account-location')\n",
    "end = timer()\n",
    "print('DONE IN', round(end - start), 'SEC')"
   ]
  }
 ],
 "metadata": {
  "kernelspec": {
   "display_name": "Python 3",
   "language": "python",
   "name": "python3"
  },
  "language_info": {
   "codemirror_mode": {
    "name": "ipython",
    "version": 3
   },
   "file_extension": ".py",
   "mimetype": "text/x-python",
   "name": "python",
   "nbconvert_exporter": "python",
   "pygments_lexer": "ipython3",
   "version": "3.7.4"
  }
 },
 "nbformat": 4,
 "nbformat_minor": 2
}
