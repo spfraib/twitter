{
 "cells": [
  {
   "cell_type": "code",
   "execution_count": 1,
   "metadata": {},
   "outputs": [],
   "source": [
    "import os\n",
    "import sys\n",
    "import socket\n",
    "import re\n",
    "import numpy as np\n",
    "import string\n",
    "import warnings\n",
    "from timeit import default_timer as timer\n",
    "from datetime import datetime\n",
    "\n",
    "from pyspark.sql import SparkSession\n",
    "from pyspark.sql.functions import udf,desc,row_number,col,year,month,dayofmonth,dayofweek,to_timestamp,size,isnan\n",
    "import pyspark.sql.functions as F\n",
    "from pyspark.sql.types import MapType, StringType, IntegerType, StructType, StructField, FloatType, ArrayType\n",
    "from pyspark.sql import Window\n",
    "from pyspark.ml.feature import RegexTokenizer"
   ]
  },
  {
   "cell_type": "code",
   "execution_count": 12,
   "metadata": {},
   "outputs": [
    {
     "name": "stdout",
     "output_type": "stream",
     "text": [
      "1690 sec\n"
     ]
    }
   ],
   "source": [
    "print('1690 sec')"
   ]
  },
  {
   "cell_type": "markdown",
   "metadata": {},
   "source": [
    "# Config"
   ]
  },
  {
   "cell_type": "code",
   "execution_count": 3,
   "metadata": {},
   "outputs": [
    {
     "name": "stdout",
     "output_type": "stream",
     "text": [
      "Hostname: Samuels-MacBook-Pro.local\n"
     ]
    }
   ],
   "source": [
    "try:\n",
    "    spark\n",
    "except NameError:\n",
    "    if 'samuel' in socket.gethostname().lower():\n",
    "        print('Create Local SparkSession')\n",
    "        spark = SparkSession.builder.config(\n",
    "        \"spark.driver.host\", \"localhost\").appName(\n",
    "        \"extract-data-from-geolocated-tweets\").getOrCreate()\n",
    "    else:\n",
    "        print('Create Cluster SparkSession')\n",
    "        spark = SparkSession.builder.appName(\n",
    "        \"extract-data-from-geolocated-tweets\").getOrCreate()\n",
    "    \n",
    "# Local\n",
    "print('Hostname:', socket.gethostname())\n",
    "if  'samuel' in socket.gethostname().lower():\n",
    "    path_to_tweets   = '../data/tweets/tweets-with-geocoordinates-or-place/'\n",
    "# Cluster\n",
    "else:\n",
    "    path_to_tweets   = '/user/spf248/twitter/parsed/tweets/tweets-with-geocoordinates-or-place/'"
   ]
  },
  {
   "cell_type": "markdown",
   "metadata": {},
   "source": [
    "# Import Data"
   ]
  },
  {
   "cell_type": "code",
   "execution_count": 17,
   "metadata": {},
   "outputs": [
    {
     "name": "stdout",
     "output_type": "stream",
     "text": [
      "Import:\n",
      "Computing Time: 2 sec\n"
     ]
    }
   ],
   "source": [
    "print('Import:')\n",
    "start = timer()\n",
    "\n",
    "df = spark.read.option(\n",
    "'compression', 'bzip2').option(\n",
    "\"multiLine\", \"true\").option(\n",
    "\"encoding\", \"UTF-8\").option(\n",
    "\"mode\", \"FAILFAST\").json(\n",
    "path_to_tweets+'decahose/tweets-with-geocoordinates-or-place-from-decahose-partition-9-block-95.json.bz2')\n",
    "\n",
    "schema = df.schema\n",
    "\n",
    "# Getting Error Without Allowing For Multiline\n",
    "df = spark.read.option(\n",
    "'compression', 'bzip2').option(\n",
    "\"multiLine\", \"true\").option(\n",
    "\"encoding\", \"UTF-8\").option(\n",
    "\"mode\", \"FAILFAST\").schema(schema).json(\n",
    "path_to_tweets+'decahose/tweets-with-geocoordinates-or-place-from-decahose-partition-*-block-*.json.bz2')\n",
    "\n",
    "end = timer()\n",
    "print('Computing Time:', round(end - start), 'sec')"
   ]
  },
  {
   "cell_type": "code",
   "execution_count": 18,
   "metadata": {},
   "outputs": [
    {
     "data": {
      "text/plain": [
       "7582"
      ]
     },
     "execution_count": 18,
     "metadata": {},
     "output_type": "execute_result"
    }
   ],
   "source": [
    "df.count()"
   ]
  },
  {
   "cell_type": "markdown",
   "metadata": {},
   "source": [
    "# Select Fields"
   ]
  },
  {
   "cell_type": "code",
   "execution_count": 9,
   "metadata": {},
   "outputs": [
    {
     "name": "stdout",
     "output_type": "stream",
     "text": [
      "DROP DUPLICATE IDS\n",
      "GET FULL TEXT\n",
      "CLEAN TIME\n",
      "CLEAN COORDINATES\n"
     ]
    }
   ],
   "source": [
    "df = df.select(\n",
    "'id_str',\n",
    "'created_at',\n",
    "'text',\n",
    "'extended_tweet.full_text',\n",
    "'truncated',\n",
    "'lang',\n",
    "'user.id_str',\n",
    "'user.location',\n",
    "'coordinates.coordinates',\n",
    "'place.id',\n",
    ")\n",
    "\n",
    "df = df.toDF(*[\n",
    "'tweet_id',\n",
    "'created_at',\n",
    "'text',\n",
    "'full_text',\n",
    "'truncated',\n",
    "'tweet_lang',\n",
    "'user_id',\n",
    "'user_location',\n",
    "'tweet_coordinates',\n",
    "'place_id',\n",
    "])\n",
    "\n",
    "print(\"DROP DUPLICATE IDS\")\n",
    "df = df.drop_duplicates(subset=['tweet_id'])\n",
    "\n",
    "print(\"GET FULL TEXT\")\n",
    "def get_text(t,x,y):\n",
    "    if not t:\n",
    "        return x \n",
    "    else: \n",
    "        return y\n",
    "get_text_udf = udf(get_text, StringType())\n",
    "df = df.withColumn(\"text\", get_text_udf(\"truncated\",\"text\",\"full_text\")).drop('truncated','full_text')\n",
    "\n",
    "print(\"CLEAN TIME\")\n",
    "df = df.withColumn('created_at', to_timestamp('created_at',\"EEE MMM dd HH:mm:ss ZZZZZ yyyy\"))\n",
    "\n",
    "print('CLEAN COORDINATES')\n",
    "df = df.withColumn('tweet_longitude', F.col('tweet_coordinates').getItem(0))\n",
    "df = df.withColumn('tweet_latitude',  F.col('tweet_coordinates').getItem(1))\n",
    "df = df.drop('tweet_coordinates')"
   ]
  },
  {
   "cell_type": "code",
   "execution_count": 13,
   "metadata": {},
   "outputs": [
    {
     "name": "stdout",
     "output_type": "stream",
     "text": [
      "+------------------+-------------------+--------------------+----------+------------------+--------------------+----------------+---------------+--------------+\n",
      "|          tweet_id|         created_at|                text|tweet_lang|           user_id|       user_location|        place_id|tweet_longitude|tweet_latitude|\n",
      "+------------------+-------------------+--------------------+----------+------------------+--------------------+----------------+---------------+--------------+\n",
      "|812406766864658433|2016-12-23 16:17:21|Maquilladora Aino...|        es|         476810112|     Senija//Benissa|21b8315555fd34c4|           null|          null|\n",
      "|812409837086736384|2016-12-23 16:29:33|amem selena gomez...|        en|        2291154534|                null|012d81605af0416c|           null|          null|\n",
      "|812411569346932737|2016-12-23 16:36:26|Entre erros e ace...|        pt|         164508100|      Rio de Janeiro|5a4ba2b4cd9a0b2c|           null|          null|\n",
      "|812413133813874688|2016-12-23 16:42:39|@exuliane EITA QU...|        pt|         272225823|            Hell, MI|143d581cbe8b95af|           null|          null|\n",
      "|812413595157864450|2016-12-23 16:44:29|@jstephencooper Y...|        en|         228015335|              Austin|de599025180e2ee7|           null|          null|\n",
      "|812414706686119938|2016-12-23 16:48:54|Want to work in #...|        en|732227909243535360|                null|d378ed20e9e8e270|    -88.0563711|    43.0781371|\n",
      "|812416136910438401|2016-12-23 16:54:35|Papai Noel, ainda...|        pt|         274973095|   São Paulo, Brasil|35e1542602b65f19|           null|          null|\n",
      "|812416170469052416|2016-12-23 16:54:43|I'm at Silva's Ho...|        pt|        4758392536|       Paris, France|b1a5f3bbff698d24|   -43.42112268|  -22.77181969|\n",
      "|812417156159836160|2016-12-23 16:58:38|I really need a f...|        en|        1949798929|       derry ireland|5023e97768892734|           null|          null|\n",
      "|812418691258269696|2016-12-23 17:04:44|Savoir se coiffer...|        fr|        1160253043|                 B2R|3d91d5bf2791cbd1|           null|          null|\n",
      "|812418838058954752|2016-12-23 17:05:19|Meeting and colla...|        en|742468634052792321|       Salisbury, MD|d79e7771d4709522|           null|          null|\n",
      "|812419366528630785|2016-12-23 17:07:25|Agora é hora de m...|        pt|         189714282|     baile de favela|0f6f91a786cc81be|           null|          null|\n",
      "|812420427683393537|2016-12-23 17:11:38|Necesito irme ya ...|        es|735277445583015936|Monterrey, Nuevo ...|d1ec37eb74fb2830|           null|          null|\n",
      "|812420473824903168|2016-12-23 17:11:49|على وسع عينك ، عج...|        ar|         980392262|حفر الباطن, الممل...|002512c42b70384d|           null|          null|\n",
      "|812420771645652992|2016-12-23 17:13:00|@dricafg_ ih a lá...|        pt|         444014299|Rio de Janeiro, B...|97bcdfca1a2dca59|           null|          null|\n",
      "|812421354628808708|2016-12-23 17:15:19|@annah8syou I'd r...|        en|         321862986|          AK°     AZ|07179f4fe0500a32|           null|          null|\n",
      "|812422289966788608|2016-12-23 17:19:02|@RealBillWatters ...|        en|          29315646|                null|0a17baca7eb1caad|           null|          null|\n",
      "|812422520645320704|2016-12-23 17:19:57|@jbolio13 https:/...|       und|         302124082|Maryland | New Ha...|1c98b097b6fcb4d6|           null|          null|\n",
      "|812422541633617920|2016-12-23 17:20:02|@EWErickson damn ...|        en|          15018422|Atlanta, GA / San...|8173485c72e78ca5|           null|          null|\n",
      "|812422726157815809|2016-12-23 17:20:46|Credo kkk, açaí o...|        pt|         314026085|      Belo Horizonte|d9d978b087a92583|           null|          null|\n",
      "+------------------+-------------------+--------------------+----------+------------------+--------------------+----------------+---------------+--------------+\n",
      "only showing top 20 rows\n",
      "\n"
     ]
    }
   ],
   "source": [
    "df.show()"
   ]
  },
  {
   "cell_type": "code",
   "execution_count": 11,
   "metadata": {},
   "outputs": [
    {
     "name": "stdout",
     "output_type": "stream",
     "text": [
      "SAVE TO PARQUET\n",
      "DONE IN 18 SEC\n"
     ]
    }
   ],
   "source": [
    "print('SAVE TO PARQUET')\n",
    "start = timer()\n",
    "\n",
    "df.write.mode(\"overwrite\").parquet(path_to_tweets+'extract')\n",
    "\n",
    "end = timer()\n",
    "print('DONE IN', round(end - start), 'SEC')"
   ]
  },
  {
   "cell_type": "code",
   "execution_count": 2,
   "metadata": {},
   "outputs": [],
   "source": [
    "# print((df.count(), len(df.columns)))\n",
    "# (1419941194, 9)"
   ]
  },
  {
   "cell_type": "markdown",
   "metadata": {},
   "source": [
    "(1419941194, 9)   "
   ]
  },
  {
   "cell_type": "code",
   "execution_count": 3,
   "metadata": {},
   "outputs": [],
   "source": [
    "# df.where(col(\"tweet_latitude\").isNull()).count()\n",
    "# 622733742    "
   ]
  }
 ],
 "metadata": {
  "kernelspec": {
   "display_name": "Python 3",
   "language": "python",
   "name": "python3"
  },
  "language_info": {
   "codemirror_mode": {
    "name": "ipython",
    "version": 3
   },
   "file_extension": ".py",
   "mimetype": "text/x-python",
   "name": "python",
   "nbconvert_exporter": "python",
   "pygments_lexer": "ipython3",
   "version": "3.7.4"
  }
 },
 "nbformat": 4,
 "nbformat_minor": 2
}
