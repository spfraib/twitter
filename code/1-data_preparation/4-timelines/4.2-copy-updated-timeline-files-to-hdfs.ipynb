{
 "cells": [
  {
   "cell_type": "code",
   "execution_count": null,
   "metadata": {},
   "outputs": [],
   "source": [
    "import os\n",
    "import sys\n",
    "import subprocess\n",
    "\n",
    "# scratchdir is provided by user issuing the command\n",
    "scratchdir = sys.argv[1]\n",
    "hdfsdir = scratchdir.replace(\"/scratch\", \"/user\")\n",
    "\n",
    "(status1,output1) = subprocess.getstatusoutput('find %s -type f -exec ls -l {} +' % scratchdir)\n",
    "if status1 != 0: \n",
    "    print(\"The find command failed\")\n",
    "    sys.exit(1)\n",
    "(status2,output2) = subprocess.getstatusoutput('hdfs dfs -ls -R %s | grep -v \"^d\"' % hdfsdir)\n",
    "if status2 != 0: \n",
    "    print(\"The HDFS command failed\")\n",
    "    sys.exit(1)\n",
    "\n",
    "scratchfiles = {}\n",
    "hdfsfiles = {}\n",
    "for file in output1.splitlines():\n",
    "    items = file.split()\n",
    "    scratchfiles[items[8]] = items[4]\n",
    "for file in output2.splitlines():\n",
    "    items = file.split()\n",
    "    hdfsfiles[items[7]] = items[4]\n",
    "\n",
    "for sfile, ssize in scratchfiles.items():\n",
    "    hfile = sfile.replace(\"/scratch\", \"/user\")\n",
    "    if not hfile in hdfsfiles:\n",
    "        print(\"Found new file %s, copying to HDFS\" % sfile)\n",
    "        # os.system('hdfs dfs -put %s %s' %(sfile, hfile))\n",
    "    elif ssize != hdfsfiles[hfile]:\n",
    "        print(\"The file %s is updated, updating to HDFS\" % sfile)\n",
    "        # os.system('hdfs dfs -put -f %s %s' %(sfile, hfile))"
   ]
  }
 ],
 "metadata": {
  "kernelspec": {
   "display_name": "Python 3",
   "language": "python",
   "name": "python3"
  },
  "language_info": {
   "codemirror_mode": {
    "name": "ipython",
    "version": 3
   },
   "file_extension": ".py",
   "mimetype": "text/x-python",
   "name": "python",
   "nbconvert_exporter": "python",
   "pygments_lexer": "ipython3",
   "version": "3.7.7"
  }
 },
 "nbformat": 4,
 "nbformat_minor": 4
}
