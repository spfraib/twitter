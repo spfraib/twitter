{
 "cells": [
  {
   "cell_type": "code",
   "execution_count": 6,
   "metadata": {},
   "outputs": [],
   "source": [
    "import os\n",
    "import sys\n",
    "import socket\n",
    "import re\n",
    "import numpy as np\n",
    "import string\n",
    "import warnings\n",
    "from timeit import default_timer as timer\n",
    "from datetime import datetime\n",
    "from glob import glob\n",
    "\n",
    "from pyspark.sql import SparkSession\n",
    "from pyspark.sql.functions import udf,desc,row_number,col,year,month,dayofmonth,dayofweek,to_timestamp,size,isnan,when,count,col,count,lit,sum\n",
    "import pyspark.sql.functions as F\n",
    "from pyspark.sql.types import MapType,StringType,IntegerType,StructType,StructField,FloatType,ArrayType\n",
    "from py4j.java_gateway import java_import\n",
    "from functools import reduce\n",
    "from pyspark.sql import DataFrame"
   ]
  },
  {
   "cell_type": "markdown",
   "metadata": {},
   "source": [
    "Country: CO\n",
    "STATUSES: 775518930\n",
    "USERS: 1431978\n",
    "TWEETS: 190026981\n",
    "TOTAL STATUSES: 937030323\n",
    "DONE IN 2506 SEC"
   ]
  },
  {
   "cell_type": "markdown",
   "metadata": {},
   "source": [
    "Country: PK\n",
    "STATUSES: 260747819\n",
    "USERS: 592576\n",
    "TWEETS: 40024334\n",
    "TOTAL STATUSES: 294998468\n",
    "DONE IN 2652 SEC"
   ]
  },
  {
   "cell_type": "markdown",
   "metadata": {},
   "source": [
    "Country: AR\n",
    "STATUSES: 1831812575\n",
    "USERS: 2117579\n",
    "TWEETS: 468879229\n",
    "TOTAL STATUSES: 2254224324\n",
    "DONE IN 2446 SEC"
   ]
  },
  {
   "cell_type": "markdown",
   "metadata": {},
   "source": [
    "Country: MX\n",
    "STATUSES: 2012877755\n",
    "USERS: 2859873\n",
    "TWEETS: 343620495\n",
    "TOTAL STATUSES: 2099141219\n",
    "DONE IN 2250 SEC"
   ]
  },
  {
   "cell_type": "markdown",
   "metadata": {},
   "source": [
    "Country: BR\n",
    "STATUSES: 3084272754\n",
    "USERS: 3612651\n",
    "TWEETS: 890178660\n",
    "TOTAL STATUSES: 3900474181\n",
    "DONE IN 2380 SEC"
   ]
  },
  {
   "cell_type": "markdown",
   "metadata": {},
   "source": [
    "Country: US\n",
    "STATUSES: 11162126689\n",
    "USERS: 15674127\n",
    "TWEETS: 3908098415\n",
    "TOTAL STATUSES: 14693195710\n",
    "DONE IN 17194 SEC"
   ]
  },
  {
   "cell_type": "markdown",
   "metadata": {},
   "source": [
    "Country: FR\n",
    "STATUSES: 1011595428\n",
    "USERS: 1395265\n",
    "TWEETS: 338788179\n",
    "TOTAL STATUSES: 1318643551\n",
    "DONE IN 2171 SEC"
   ]
  },
  {
   "cell_type": "markdown",
   "metadata": {},
   "source": [
    "# Config"
   ]
  },
  {
   "cell_type": "code",
   "execution_count": 2,
   "metadata": {},
   "outputs": [
    {
     "name": "stdout",
     "output_type": "stream",
     "text": [
      "Country: US\n"
     ]
    }
   ],
   "source": [
    "country_code = \"FR\"\n",
    "print('Country:', country_code)"
   ]
  },
  {
   "cell_type": "code",
   "execution_count": null,
   "metadata": {},
   "outputs": [],
   "source": [
    "try:\n",
    "    spark\n",
    "except NameError:\n",
    "    if 'samuel' in socket.gethostname().lower():\n",
    "        print('Create Local SparkSession')\n",
    "        spark=SparkSession.builder.config(\"spark.driver.host\", \"localhost\").appName(\"extract-timelines\").getOrCreate()\n",
    "    else:\n",
    "        print('Create Cluster SparkSession')\n",
    "        spark=SparkSession.builder.appName(\"extract-timelines\").getOrCreate()\n",
    "        \n",
    "# IgnoreCorruptFiles\n",
    "spark.conf.set(\"spark.sql.files.ignoreCorruptFiles\", \"true\")\n",
    "    \n",
    "print('Hostname:', socket.gethostname())\n",
    "if  'samuel' in socket.gethostname().lower():\n",
    "    path_to_data='../../data'\n",
    "else:\n",
    "    path_to_data='/user/spf248/twitter/data'"
   ]
  },
  {
   "cell_type": "markdown",
   "metadata": {},
   "source": [
    "# Process Timelines"
   ]
  },
  {
   "cell_type": "code",
   "execution_count": null,
   "metadata": {},
   "outputs": [],
   "source": [
    "timelines=spark.read.parquet(os.path.join(path_to_data,'timelines','historical','chunks',country_code,'*/*.parquet'))\n",
    "print('STATUSES:', timelines.count())\n",
    "\n",
    "# print(\"DROP DUPLICATE IDS\")\n",
    "# timelines=timelines.drop_duplicates(subset=['tweet_id'])\n",
    "\n",
    "# users=timelines.select(\"user_id\").distinct()\n",
    "# users.cache()"
   ]
  },
  {
   "cell_type": "code",
   "execution_count": null,
   "metadata": {},
   "outputs": [],
   "source": [
    "start = timer()\n",
    "\n",
    "most_recent_date=timelines.groupby('user_id').agg(F.max('created_at').alias('created_at'))\n",
    "most_recent_id=timelines.join(most_recent_date,on=['user_id','created_at']).select('user_id','tweet_id','created_at')\n",
    "most_recent_id.write.mode(\"overwrite\").parquet(os.path.join(path_to_data,'timelines','historical','most_recent_id',country_code))\n",
    "print('USERS:', most_recent_id.count())\n",
    "\n",
    "end = timer()\n",
    "print('DONE IN', round(end - start), 'SEC')"
   ]
  },
  {
   "cell_type": "markdown",
   "metadata": {},
   "source": [
    "# Join Decahose Tweets"
   ]
  },
  {
   "cell_type": "code",
   "execution_count": null,
   "metadata": {},
   "outputs": [],
   "source": [
    "tweets=spark.read.parquet(os.path.join(path_to_data,'tweets/tweets-with-identified-location',country_code))\n",
    "print('TWEETS:', tweets.count())\n",
    "\n",
    "# tweets=tweets.join(F.broadcast(users),on='user_id')\n",
    "# print('TWEETS OF PANEL USERS:',tweets.count())\n",
    "\n",
    "df=(timelines.unionByName(tweets)).drop_duplicates(subset=['tweet_id'])\n",
    "print('TOTAL STATUSES:', df.count())\n",
    "\n",
    "df=df.withColumn('year',year('created_at').cast(\"string\"))\n",
    "df=df.withColumn('month',month('created_at').cast(\"string\"))"
   ]
  },
  {
   "cell_type": "code",
   "execution_count": null,
   "metadata": {},
   "outputs": [],
   "source": [
    "start = timer()\n",
    "\n",
    "df.write.partitionBy(\"year\", \"month\").mode(\"overwrite\").format(\"orc\").save(os.path.join(path_to_data,'timelines','historical','extract',country_code))\n",
    "\n",
    "end = timer()\n",
    "print('DONE IN', round(end - start), 'SEC')"
   ]
  },
  {
   "cell_type": "markdown",
   "metadata": {},
   "source": [
    "Country: US\n",
    "Create Cluster SparkSession\n",
    "Hostname: compute-1-7.local\n",
    "IMPORT\n",
    "REPARTITION\n",
    "DROP DUPLICATE IDS\n",
    "LIST USERS WITH TIMELINES\n",
    "STATUSES: 4550792893\n",
    "USERS: 5770200\n",
    "COUNT VALUES THAT ARE NON-NULL AND NON-NAN\n",
    "+----------+----------+----------+----------+-------------+---------+---------------+--------------+\n",
    "|  tweet_id|      text|tweet_lang|   user_id|user_location| place_id|tweet_longitude|tweet_latitude|\n",
    "+----------+----------+----------+----------+-------------+---------+---------------+--------------+\n",
    "|4550792893|4550792891|4550792893|4550792893|   4550792893|159080591|       61041033|      61041033|\n",
    "+----------+----------+----------+----------+-------------+---------+---------------+--------------+\n",
    "\n",
    "TWEETS: 3908098415\n",
    "TWEETS OF PANEL USERS: 481753540\n",
    "STATUSES: 4885224647\n",
    "SAVE\n",
    "DONE IN 13672 SEC\n",
    "Computing Time: 0.18"
   ]
  },
  {
   "cell_type": "markdown",
   "metadata": {},
   "source": [
    "Country: AR\n",
    "Create Cluster SparkSession\n",
    "Hostname: compute-1-9.local\n",
    "IMPORT\n",
    "REPARTITION\n",
    "DROP DUPLICATE IDS\n",
    "LIST USERS WITH TIMELINES\n",
    "STATUSES: 2038466535\n",
    "USERS: 2353925\n",
    "COUNT VALUES THAT ARE NON-NULL AND NON-NAN\n",
    "+----------+----------+----------+----------+-------------+--------+---------------+--------------+\n",
    "|  tweet_id|      text|tweet_lang|   user_id|user_location|place_id|tweet_longitude|tweet_latitude|\n",
    "+----------+----------+----------+----------+-------------+--------+---------------+--------------+\n",
    "|2038466535|2038466534|2038466535|2038466535|   2038466535|49475184|       14739186|      14739186|\n",
    "+----------+----------+----------+----------+-------------+--------+---------------+--------------+\n",
    "\n",
    "TWEETS: 468879229\n",
    "TWEETS OF PANEL USERS: 194885800\n",
    "STATUSES: 2181644169\n",
    "SAVE\n",
    "DONE IN 817 SEC\n"
   ]
  },
  {
   "cell_type": "markdown",
   "metadata": {},
   "source": [
    "Country: CO\n",
    "Create Cluster SparkSession\n",
    "Hostname: compute-2-5.local\n",
    "IMPORT\n",
    "REPARTITION\n",
    "DROP DUPLICATE IDS\n",
    "LIST USERS WITH TIMELINES\n",
    "STATUSES: 845684609\n",
    "USERS: 1560089\n",
    "COUNT VALUES THAT ARE NON-NULL AND NON-NAN\n",
    "+---------+---------+----------+---------+-------------+--------+---------------+--------------+\n",
    "| tweet_id|     text|tweet_lang|  user_id|user_location|place_id|tweet_longitude|tweet_latitude|\n",
    "+---------+---------+----------+---------+-------------+--------+---------------+--------------+\n",
    "|845684608|845684607| 845684608|845684608|    845684608|20974654|       11754234|      11754234|\n",
    "+---------+---------+----------+---------+-------------+--------+---------------+--------------+\n",
    "\n",
    "TWEETS: 190026981\n",
    "TWEETS OF PANEL USERS: 83965996\n",
    "STATUSES: 898531831\n",
    "SAVE\n",
    "DONE IN 489 SEC"
   ]
  },
  {
   "cell_type": "markdown",
   "metadata": {},
   "source": [
    "Country: BR\n",
    "Create Cluster SparkSession\n",
    "STATUSES: 3340729244\n",
    "USERS: 3902061\n",
    "COUNT VALUES THAT ARE NON-NULL AND NON-NAN\n",
    "+----------+----------+----------+----------+-------------+---------+---------------+--------------+\n",
    "|  tweet_id|      text|tweet_lang|   user_id|user_location| place_id|tweet_longitude|tweet_latitude|\n",
    "+----------+----------+----------+----------+-------------+---------+---------------+--------------+\n",
    "|3340729243|3340729238|3340729243|3340729243|   3340729243|132544972|       44658070|      44658070|\n",
    "+----------+----------+----------+----------+-------------+---------+---------------+--------------+\n",
    "\n",
    "TWEETS: 890178660\n",
    "TWEETS OF PANEL USERS: 262424772\n",
    "STATUSES: 3523016688\n",
    "SAVE\n",
    "DONE IN 1310 SEC"
   ]
  },
  {
   "cell_type": "markdown",
   "metadata": {},
   "source": [
    "Country: PK\n",
    "STATUSES: 263095367\n",
    "USERS: 596016\n",
    "COUNT VALUES THAT ARE NON-NULL AND NON-NAN\n",
    "+---------+---------+----------+---------+-------------+--------+---------------+--------------+\n",
    "| tweet_id|     text|tweet_lang|  user_id|user_location|place_id|tweet_longitude|tweet_latitude|\n",
    "+---------+---------+----------+---------+-------------+--------+---------------+--------------+\n",
    "|263095367|263095367| 263095367|263095367|    263095367| 4200737|         837962|        837962|\n",
    "+---------+---------+----------+---------+-------------+--------+---------------+--------------+\n",
    "\n",
    "TWEETS: 40024334\n",
    "TWEETS OF PANEL USERS: 18577578\n",
    "STATUSES: 275850653"
   ]
  }
 ],
 "metadata": {
  "kernelspec": {
   "display_name": "Python 3",
   "language": "python",
   "name": "python3"
  },
  "language_info": {
   "codemirror_mode": {
    "name": "ipython",
    "version": 3
   },
   "file_extension": ".py",
   "mimetype": "text/x-python",
   "name": "python",
   "nbconvert_exporter": "python",
   "pygments_lexer": "ipython3",
   "version": "3.7.7"
  }
 },
 "nbformat": 4,
 "nbformat_minor": 2
}
