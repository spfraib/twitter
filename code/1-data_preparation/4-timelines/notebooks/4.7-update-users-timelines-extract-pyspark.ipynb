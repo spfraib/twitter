{
 "cells": [
  {
   "cell_type": "code",
   "execution_count": null,
   "metadata": {},
   "outputs": [],
   "source": [
    "import os\n",
    "import sys\n",
    "import socket\n",
    "import re\n",
    "import numpy as np\n",
    "import string\n",
    "import warnings\n",
    "from timeit import default_timer as timer\n",
    "from datetime import datetime\n",
    "from glob import glob\n",
    "\n",
    "from pyspark.sql import SparkSession\n",
    "from pyspark.sql.functions import udf,desc,row_number,col,year,month,dayofmonth,dayofweek,to_timestamp,size,isnan,when,count,col,count,lit,sum\n",
    "import pyspark.sql.functions as F\n",
    "from pyspark.sql.types import MapType,StringType,IntegerType,StructType,StructField,FloatType,ArrayType\n",
    "from py4j.java_gateway import java_import\n",
    "from functools import reduce\n",
    "from pyspark.sql import DataFrame"
   ]
  },
  {
   "cell_type": "code",
   "execution_count": 1,
   "metadata": {},
   "outputs": [
    {
     "name": "stdout",
     "output_type": "stream",
     "text": [
      "Country: MX\n"
     ]
    }
   ],
   "source": [
    "country_code = \"MX\"\n",
    "print('Country:', country_code)\n",
    "\n",
    "this_batch = '062020'\n",
    "print('This batch:', this_batch)"
   ]
  },
  {
   "cell_type": "code",
   "execution_count": 2,
   "metadata": {},
   "outputs": [],
   "source": [
    "try:\n",
    "    spark\n",
    "except NameError:\n",
    "    print('Create Spark')\n",
    "    spark=SparkSession.builder.appName(\"\").getOrCreate()\n",
    "    \n",
    "# IgnoreCorruptFiles\n",
    "spark.conf.set(\"spark.sql.files.ignoreCorruptFiles\", \"true\")\n",
    " \n",
    "if os.getenv('CLUSTER')=='PRINCE':\n",
    "    path_to_data='/scratch/spf248/twitter/data'\n",
    "else:\n",
    "    path_to_data='/user/spf248/twitter/data'"
   ]
  },
  {
   "cell_type": "code",
   "execution_count": null,
   "metadata": {},
   "outputs": [],
   "source": [
    "df=spark.read.option(\n",
    "\"compression\",\"bzip2\").option(\n",
    "\"multiLine\",\"true\").option(\n",
    "\"encoding\",\"UTF-8\").json(os.path.join(path_to_data,'timelines',this_batch,'API',country_code,'*.json.bz2'))\n",
    "\n",
    "df=df.select(\n",
    "'id_str',\n",
    "'created_at',\n",
    "'full_text',\n",
    "'lang',\n",
    "'user.id_str',\n",
    "'user.location',\n",
    "'coordinates.coordinates',\n",
    "'place.id',\n",
    ")\n",
    "\n",
    "df = df.toDF(*[\n",
    "'tweet_id',\n",
    "'created_at',\n",
    "'text',\n",
    "'tweet_lang',\n",
    "'user_id',\n",
    "'user_location',\n",
    "'tweet_coordinates',\n",
    "'place_id',\n",
    "])\n",
    "\n",
    "df = df.drop_duplicates(subset=['tweet_id'])\n",
    "df = df.withColumn('created_at', to_timestamp('created_at',\"EEE MMM dd HH:mm:ss ZZZZZ yyyy\"))\n",
    "df = df.withColumn('tweet_longitude', F.col('tweet_coordinates').getItem(0))\n",
    "df = df.withColumn('tweet_latitude',  F.col('tweet_coordinates').getItem(1))\n",
    "df = df.drop('tweet_coordinates')\n",
    "df = df.withColumn('year',year('created_at').cast(\"string\"))\n",
    "df = df.withColumn('month',month('created_at').cast(\"string\"))"
   ]
  },
  {
   "cell_type": "code",
   "execution_count": null,
   "metadata": {},
   "outputs": [],
   "source": [
    "start = timer()\n",
    "most_recent_date = df.groupby('user_id').agg(F.max('created_at').alias('created_at'))\n",
    "most_recent_id = df.join(most_recent_date,on=['user_id','created_at']).select('user_id','tweet_id','created_at')\n",
    "print('USERS:', most_recent_id.count())\n",
    "most_recent_id.write.mode(\"overwrite\").parquet(os.path.join(path_to_data,'timelines',this_batch,'most_recent_id',country_code))\n",
    "end = timer()\n",
    "print('DONE IN', round(end - start), 'SEC')"
   ]
  },
  {
   "cell_type": "code",
   "execution_count": null,
   "metadata": {},
   "outputs": [],
   "source": [
    "start = timer()\n",
    "print('STATUSES:', df.count())\n",
    "df.write.partitionBy(\"year\", \"month\").mode(\"overwrite\").format(\"orc\").save(os.path.join(path_to_data,'timelines',this_batch,'extract',country_code))\n",
    "end = timer()\n",
    "print('DONE IN', round(end - start), 'SEC')"
   ]
  },
  {
   "cell_type": "markdown",
   "metadata": {},
   "source": [
    "Country: MX\n",
    "This batch: 062020\n",
    "USERS: 770861\n",
    "STATUSES: 165868130\n",
    "DONE IN 2135 SEC"
   ]
  },
  {
   "cell_type": "markdown",
   "metadata": {},
   "source": [
    "Country: BR\n",
    "This batch: 062020\n",
    "USERS: 893142\n",
    "STATUSES: 323572705\n",
    "DONE IN 2263 SEC"
   ]
  },
  {
   "cell_type": "code",
   "execution_count": null,
   "metadata": {},
   "outputs": [],
   "source": []
  }
 ],
 "metadata": {
  "kernelspec": {
   "display_name": "Python 3",
   "language": "python",
   "name": "python3"
  },
  "language_info": {
   "codemirror_mode": {
    "name": "ipython",
    "version": 3
   },
   "file_extension": ".py",
   "mimetype": "text/x-python",
   "name": "python",
   "nbconvert_exporter": "python",
   "pygments_lexer": "ipython3",
   "version": "3.7.7"
  }
 },
 "nbformat": 4,
 "nbformat_minor": 4
}
