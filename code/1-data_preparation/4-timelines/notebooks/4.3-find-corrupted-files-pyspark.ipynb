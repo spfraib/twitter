{
 "cells": [
  {
   "cell_type": "code",
   "execution_count": 3,
   "metadata": {},
   "outputs": [],
   "source": [
    "import os\n",
    "import sys\n",
    "import socket\n",
    "from timeit import default_timer as timer\n",
    "from pyspark.sql import SparkSession, Row\n",
    "from pyspark.sql.types import MapType, StringType, IntegerType, StructType, StructField, FloatType, ArrayType\n",
    "import numpy as np\n",
    "\n",
    "try:\n",
    "    spark\n",
    "except NameError:\n",
    "    if 'samuel' in socket.gethostname().lower():\n",
    "        print('Create Local SparkSession')\n",
    "        spark = SparkSession.builder.config(\n",
    "        \"spark.driver.host\", \"localhost\").appName(\n",
    "        \"get-bad-files\").getOrCreate()\n",
    "    else:\n",
    "        print('Create Cluster SparkSession')\n",
    "        spark = SparkSession.builder.appName(\n",
    "        \"get-bad-files\").getOrCreate()"
   ]
  },
  {
   "cell_type": "code",
   "execution_count": 4,
   "metadata": {},
   "outputs": [],
   "source": [
    "print('Hostname:', socket.gethostname())\n",
    "if  'samuel' in socket.gethostname().lower():\n",
    "    path_to_data='../../data'\n",
    "else:\n",
    "    path_to_data='/user/spf248/twitter/data'"
   ]
  },
  {
   "cell_type": "code",
   "execution_count": 5,
   "metadata": {},
   "outputs": [],
   "source": [
    "print('List files to be processed...')\n",
    "\n",
    "hadoop = spark.sparkContext._jvm.org.apache.hadoop\n",
    "fs = hadoop.fs.FileSystem\n",
    "conf = hadoop.conf.Configuration() \n",
    "path = hadoop.fs.Path(os.path.join(path_to_data,'timelines','historical','API','*','*.json.bz2'))\n",
    "fList = [ str(f.getPath()).replace('hdfs://dumbo','') for f in fs.get(conf).globStatus(path) ]\n",
    "np.random.seed(0)\n",
    "fList=np.random.permutation(sorted(fList))\n",
    "\n",
    "print('# Files:', len(fList))"
   ]
  },
  {
   "cell_type": "code",
   "execution_count": 6,
   "metadata": {
    "scrolled": false
   },
   "outputs": [],
   "source": [
    "# fList=[]\n",
    "# with open('missing_files.txt', 'r') as f:\n",
    "#     for line in f:\n",
    "#         fList.append(line)\n",
    "# fString='\\n'.join([x for x in ''.join(fList).split('\\n')])"
   ]
  },
  {
   "cell_type": "code",
   "execution_count": 42,
   "metadata": {
    "scrolled": true
   },
   "outputs": [
    {
     "name": "stdout",
     "output_type": "stream",
     "text": [
      "# Chunks: 140\n"
     ]
    }
   ],
   "source": [
    "n_chunks=len(fList)\n",
    "print('# Chunks:', n_chunks)\n",
    "chunks = np.array_split(fList, n_chunks)"
   ]
  },
  {
   "cell_type": "code",
   "execution_count": null,
   "metadata": {},
   "outputs": [],
   "source": [
    "def extract_chunk(i_chunk,chunk):\n",
    "    try:\n",
    "        print('Load Chunk:',i_chunk)\n",
    "        df=spark.read.option(\n",
    "        \"compression\",\"bzip2\").option(\n",
    "        \"multiLine\",\"true\").option(\n",
    "        \"encoding\",\"UTF-8\").json(list(chunk))\n",
    "    except:\n",
    "        print('Error with chunk', i_chunk)\n",
    "        print('\\n'.join(list(chunk)))"
   ]
  },
  {
   "cell_type": "code",
   "execution_count": null,
   "metadata": {},
   "outputs": [],
   "source": [
    "for i_chunk,chunk in enumerate(chunks):\n",
    "    start = timer()\n",
    "    print('Load Chunk:',i_chunk)\n",
    "    extract_chunk(i_chunk,chunk)\n",
    "    end = timer()\n",
    "    print('TIME:', round(end - start), 'SEC')"
   ]
  }
 ],
 "metadata": {
  "kernelspec": {
   "display_name": "Python 3",
   "language": "python",
   "name": "python3"
  },
  "language_info": {
   "codemirror_mode": {
    "name": "ipython",
    "version": 3
   },
   "file_extension": ".py",
   "mimetype": "text/x-python",
   "name": "python",
   "nbconvert_exporter": "python",
   "pygments_lexer": "ipython3",
   "version": "3.7.7"
  }
 },
 "nbformat": 4,
 "nbformat_minor": 4
}
