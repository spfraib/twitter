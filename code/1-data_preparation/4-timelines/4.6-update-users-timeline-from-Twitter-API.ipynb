{
 "cells": [
  {
   "cell_type": "code",
   "execution_count": 1,
   "metadata": {},
   "outputs": [],
   "source": [
    "from timeit import default_timer as timer\n",
    "import itertools\n",
    "import os\n",
    "import sys\n",
    "import uuid\n",
    "from glob import glob\n",
    "import json\n",
    "import tweepy\n",
    "import numpy as np\n",
    "import pandas as pd\n",
    "import multiprocessing as mp\n",
    "import psutil\n",
    "import socket\n",
    "from functools import partial\n",
    "import pyarrow.parquet as pq"
   ]
  },
  {
   "cell_type": "markdown",
   "metadata": {},
   "source": [
    "# Params"
   ]
  },
  {
   "cell_type": "code",
   "execution_count": 2,
   "metadata": {},
   "outputs": [
    {
     "name": "stdout",
     "output_type": "stream",
     "text": [
      "Save Data After Downloading 500 Timelines\n"
     ]
    }
   ],
   "source": [
    "cutoff = 1000\n",
    "print('Save Data After Downloading',cutoff,'Timelines')"
   ]
  },
  {
   "cell_type": "code",
   "execution_count": 4,
   "metadata": {},
   "outputs": [
    {
     "name": "stdout",
     "output_type": "stream",
     "text": [
      "Country: MX\n",
      "Last batch: historical\n",
      "This batch: 062020\n"
     ]
    }
   ],
   "source": [
    "country_codes=[\n",
    "# 'US',\n",
    "# 'ID',\n",
    "# 'BR',\n",
    "# 'TR',\n",
    "# 'MX',\n",
    "# 'AR',\n",
    "# 'PH',\n",
    "# 'CO',\n",
    "# 'MY',\n",
    "# 'VE',\n",
    "# 'TH',\n",
    "# 'PK',\n",
    "]\n",
    "\n",
    "country_code = \"US\"\n",
    "print('Country:', country_code)\n",
    "\n",
    "last_batch = '062020'\n",
    "print('Last batch:', last_batch)\n",
    "\n",
    "this_batch = '072020'\n",
    "print('This batch:', this_batch)"
   ]
  },
  {
   "cell_type": "code",
   "execution_count": 3,
   "metadata": {},
   "outputs": [
    {
     "name": "stdout",
     "output_type": "stream",
     "text": [
      "SLURM_JOB_ID : 9977110\n",
      "SLURM_ARRAY_TASK_ID : 0 (Default)\n",
      "SLURM_ARRAY_TASK_COUNT : 1 (Default)\n",
      "SLURM_JOB_CPUS_PER_NODE : 1\n"
     ]
    }
   ],
   "source": [
    "def get_env_var(varname,default):\n",
    "    \n",
    "    if os.environ.get(varname) != None:\n",
    "        var = int(os.environ.get(varname))\n",
    "        print(varname,':', var)\n",
    "    else:\n",
    "        var = default\n",
    "        print(varname,':', var,'(Default)')\n",
    "    return var\n",
    "\n",
    "# Choose Number of Nodes To Distribute Credentials: e.g. jobarray=0-4, cpu_per_task=20, credentials = 90 (<100)\n",
    "SLURM_JOB_ID            = get_env_var('SLURM_JOB_ID',0)\n",
    "SLURM_ARRAY_TASK_ID     = get_env_var('SLURM_ARRAY_TASK_ID',0)\n",
    "SLURM_ARRAY_TASK_COUNT  = get_env_var('SLURM_ARRAY_TASK_COUNT',1)\n",
    "SLURM_JOB_CPUS_PER_NODE = get_env_var('SLURM_JOB_CPUS_PER_NODE',mp.cpu_count())"
   ]
  },
  {
   "cell_type": "code",
   "execution_count": 18,
   "metadata": {},
   "outputs": [
    {
     "name": "stdout",
     "output_type": "stream",
     "text": [
      "/scratch/spf248/twitter/data/timelines/most_recent_id\n",
      "/scratch/spf248/twitter/data/keys/twitter\n",
      "/scratch/spf248/twitter/data/timelines/updates\n"
     ]
    }
   ],
   "source": [
    "if 'samuel' in socket.gethostname().lower():\n",
    "    path_to_data='../../data'\n",
    "else:\n",
    "    path_to_data='/scratch/spf248/twitter/data'\n",
    "\n",
    "path_to_users = os.path.join(path_to_data,'timelines',last_batch,'most_recent_id')\n",
    "path_to_keys = os.path.join(path_to_data,'keys','twitter')\n",
    "path_to_timelines = os.path.join(path_to_data,'timelines',this_batch,'API')\n",
    "os.makedirs(os.path.join(path_to_timelines, country_code), exist_ok=True)\n",
    "print(path_to_users)\n",
    "print(path_to_keys)\n",
    "print(path_to_timelines)"
   ]
  },
  {
   "cell_type": "markdown",
   "metadata": {},
   "source": [
    "# Credentials"
   ]
  },
  {
   "cell_type": "code",
   "execution_count": 6,
   "metadata": {},
   "outputs": [
    {
     "name": "stdout",
     "output_type": "stream",
     "text": [
      "Check environment variables:\n",
      "# Credentials ( 49 ) > # CPU ( 1 )\n",
      "Only keeping 1 credentials\n",
      "/scratch/spf248/twitter/data/keys/twitter/WorldBankGroup6-zohar.json\n"
     ]
    }
   ],
   "source": [
    "def get_key_files(SLURM_ARRAY_TASK_ID,SLURM_ARRAY_TASK_COUNT,SLURM_JOB_CPUS_PER_NODE):\n",
    "\n",
    "    # Randomize set of key files using constant seed\n",
    "    np.random.seed(0)\n",
    "    all_key_files = np.random.permutation(glob(os.path.join(path_to_keys,'*.json')))\n",
    "    \n",
    "    # Split file list by node\n",
    "    key_files = np.array_split(all_key_files,SLURM_ARRAY_TASK_COUNT)[SLURM_ARRAY_TASK_ID]\n",
    "    \n",
    "    # Check that node has more CPU than key file \n",
    "    if len(key_files) <= SLURM_JOB_CPUS_PER_NODE:\n",
    "        print('# Credentials Allocated To Node:', len(key_files)) \n",
    "    else:\n",
    "        print('Check environment variables:')\n",
    "        print('# Credentials (',len(key_files),') > # CPU (', SLURM_JOB_CPUS_PER_NODE,')')\n",
    "        print('Only keeping', SLURM_JOB_CPUS_PER_NODE, 'credentials')\n",
    "        key_files = key_files[:SLURM_JOB_CPUS_PER_NODE]\n",
    "        \n",
    "    return key_files\n",
    "\n",
    "key_files = get_key_files(SLURM_ARRAY_TASK_ID,SLURM_ARRAY_TASK_COUNT,SLURM_JOB_CPUS_PER_NODE)\n",
    "print('\\n'.join(key_files))"
   ]
  },
  {
   "cell_type": "code",
   "execution_count": 7,
   "metadata": {},
   "outputs": [
    {
     "name": "stdout",
     "output_type": "stream",
     "text": [
      "/scratch/spf248/twitter/data/keys/twitter/WorldBankGroup6-zohar.json : Authentication checked\n",
      "Credentials Checked!\n"
     ]
    }
   ],
   "source": [
    "def get_auth(key_file):\n",
    "    \n",
    "    # Import Key\n",
    "    with open(key_file) as f:\n",
    "        key = json.load(f)\n",
    "\n",
    "    # OAuth process, using the keys and tokens\n",
    "    auth = tweepy.OAuthHandler(key['consumer_key'], key['consumer_secret'])\n",
    "    auth.set_access_token(key['access_token'], key['access_token_secret'])\n",
    "\n",
    "    # Creation of the actual interface, using authentication\n",
    "    api = tweepy.API(auth, wait_on_rate_limit=True, wait_on_rate_limit_notify=True)\n",
    "    \n",
    "    try:\n",
    "        api.verify_credentials()\n",
    "        print(key_file,\": Authentication checked\")\n",
    "    except:\n",
    "        print(key_file,\": error during authentication\")\n",
    "        sys.exit('Exit')\n",
    "    \n",
    "    return api\n",
    "\n",
    "for key_file in key_files:\n",
    "    api=get_auth(key_file)\n",
    "print('Credentials Checked!')"
   ]
  },
  {
   "cell_type": "markdown",
   "metadata": {},
   "source": [
    "# User List"
   ]
  },
  {
   "cell_type": "code",
   "execution_count": 8,
   "metadata": {},
   "outputs": [
    {
     "name": "stdout",
     "output_type": "stream",
     "text": [
      "Select Users...\n",
      "# Users : 2619633\n",
      "Computing Time: 4 sec\n"
     ]
    }
   ],
   "source": [
    "start = timer()\n",
    "print('Select Users...')\n",
    "\n",
    "users=pq.ParquetDataset(glob(os.path.join(path_to_users,country_code,'*.parquet'))).read().to_pandas()\n",
    "\n",
    "# Randomize users\n",
    "users=users.sample(frac=1,random_state=0)\n",
    "\n",
    "print('# Users :', len(users)) \n",
    "\n",
    "end = timer()\n",
    "print('Computing Time:', round(end - start), 'sec')"
   ]
  },
  {
   "cell_type": "code",
   "execution_count": 9,
   "metadata": {},
   "outputs": [
    {
     "name": "stdout",
     "output_type": "stream",
     "text": [
      "Split Users Across Nodes...\n",
      "First user: 439466\n",
      "# Users for this node: 2619633\n",
      "First user for this node: 439466\n",
      "Computing Time: 0 sec\n"
     ]
    }
   ],
   "source": [
    "start = timer()\n",
    "print('Split Users Across Nodes...')\n",
    "\n",
    "print('First user:', users.index[0])\n",
    "users=np.array_split(users,SLURM_ARRAY_TASK_COUNT)[SLURM_ARRAY_TASK_ID]\n",
    "print('# Users for this node:', len(users)) \n",
    "print('First user for this node:', users.index[0])\n",
    "\n",
    "end = timer()\n",
    "print('Computing Time:', round(end - start), 'sec')"
   ]
  },
  {
   "cell_type": "code",
   "execution_count": 19,
   "metadata": {},
   "outputs": [
    {
     "name": "stdout",
     "output_type": "stream",
     "text": [
      "Remove users whose timeline were successfully downloaded...\n",
      "# downloaded timelines: 0\n",
      "Computing Time: 0 sec\n"
     ]
    }
   ],
   "source": [
    "start = timer()\n",
    "print('Remove users whose timeline were successfully downloaded...')\n",
    "\n",
    "def get_success(country_code):\n",
    "    \n",
    "    if not os.path.exists(os.path.join(path_to_timelines, country_code, 'success')):\n",
    "        return set()\n",
    "    else:\n",
    "        success = set()\n",
    "        with open(os.path.join(path_to_timelines, country_code, 'success'), 'r', encoding='utf-8') as file:\n",
    "            for line in file:\n",
    "                success.add(line.strip('\\n').split('\\t')[0])\n",
    "        return set(success)\n",
    "\n",
    "success=get_success(country_code)\n",
    "print('# Downloaded timelines:', len(success))\n",
    "\n",
    "users=users[-users.user_id.isin(success)].copy()\n",
    "print('# Users :', len(users)) \n",
    "\n",
    "end = timer()\n",
    "print('Computing Time:', round(end - start), 'sec')"
   ]
  },
  {
   "cell_type": "markdown",
   "metadata": {},
   "source": [
    "Nb of verified users in the US = 21,205,171"
   ]
  },
  {
   "cell_type": "markdown",
   "metadata": {},
   "source": [
    "# Get Timelines"
   ]
  },
  {
   "cell_type": "code",
   "execution_count": 20,
   "metadata": {},
   "outputs": [],
   "source": [
    "def get_timeline(user_id,tweet_id,api):\n",
    "    \n",
    "    timeline = []\n",
    "    error = None\n",
    "    \n",
    "    # Collect All Statuses in Timeline\n",
    "    try:\n",
    "        cursor = tweepy.Cursor(\n",
    "        api.user_timeline, \n",
    "        user_id=user_id, \n",
    "        since_id=tweet_id,\n",
    "        count=3200,\n",
    "        tweet_mode=\"extended\", \n",
    "        include_rts=True).items()\n",
    "        \n",
    "        for status in cursor:\n",
    "            timeline.append(status._json)\n",
    "     \n",
    "    except tweepy.error.TweepError as e:\n",
    "        error = str(e)\n",
    "        \n",
    "    return pd.DataFrame(timeline), error\n",
    "\n",
    "timeline = get_timeline('12','1266367509055209473',api)"
   ]
  },
  {
   "cell_type": "code",
   "execution_count": 35,
   "metadata": {},
   "outputs": [],
   "source": [
    "def download_timelines(index_key):\n",
    "\n",
    "    # Create Access For Block of Users\n",
    "    api = get_auth(key_files[index_key])\n",
    "    \n",
    "    # Select Block of Users\n",
    "    users_block = np.array_split(users,len(key_files))[index_key][['user_id','tweet_id']].values.tolist()\n",
    "    \n",
    "    # Initialize Output File ID\n",
    "    output_id = str(uuid.uuid4())\n",
    "    \n",
    "    # Initialize DataFrame\n",
    "    timelines = pd.DataFrame()\n",
    "    \n",
    "    # Initialize Downloaded User List\n",
    "    downloaded_ids = []\n",
    "    counter_ids = 0\n",
    "    \n",
    "    for (user_id,tweet_id) in users_block:\n",
    "        \n",
    "        # Try Downloading Timeline\n",
    "        timeline, error = get_timeline(user_id,tweet_id,api)\n",
    "        \n",
    "        if error!=None:\n",
    "#             print(user_id,index_key,error)\n",
    "            continue\n",
    "            \n",
    "        # Append\n",
    "        timelines = pd.concat([timelines, timeline],sort=False)\n",
    "        downloaded_ids.append(user_id)\n",
    "            \n",
    "        # Save after <cutoff> timelines or when reaching last user\n",
    "        if len(downloaded_ids) == cutoff or user_id == users_block[-1][0]:\n",
    "            \n",
    "            counter_ids += len(downloaded_ids)\n",
    "            \n",
    "            filename = \\\n",
    "            'timelines-'+\\\n",
    "            str(SLURM_JOB_ID)+'-'+\\\n",
    "            str(SLURM_ARRAY_TASK_ID)+'-'+\\\n",
    "            str(index_key)+'-'+\\\n",
    "            str(len(downloaded_ids))+'-'+\\\n",
    "            output_id+'.json.bz2'\n",
    "            \n",
    "            print('Process', index_key, 'downloaded', counter_ids, 'timelines with most recent output file:', \n",
    "            os.path.join(path_to_timelines,country_code,filename))\n",
    "            \n",
    "            # Save as list of dict discarding index\n",
    "            timelines.to_json(\n",
    "            os.path.join(path_to_timelines,country_code,filename),\n",
    "            orient='records',\n",
    "            force_ascii=False,\n",
    "            date_format=None,\n",
    "            double_precision=15)\n",
    "            \n",
    "            # Save User Id and File In Which Its Timeline Was Saved\n",
    "            with open(os.path.join(path_to_timelines,country_code,'success'), 'a', encoding='utf-8') as file:\n",
    "                for downloaded_id in downloaded_ids:\n",
    "                    file.write(downloaded_id+'\\t'+filename+'\\n')\n",
    "            \n",
    "            # Reset Output File ID, Data, and Downloaded Users\n",
    "            del timelines, downloaded_ids\n",
    "            output_id = str(uuid.uuid4())\n",
    "            timelines = pd.DataFrame()\n",
    "            downloaded_ids = []\n",
    "            \n",
    "    return 0"
   ]
  },
  {
   "cell_type": "code",
   "execution_count": 36,
   "metadata": {},
   "outputs": [
    {
     "name": "stdout",
     "output_type": "stream",
     "text": [
      "Extract Timelines...\n",
      "\n",
      "/scratch/spf248/twitter/data/keys/twitter/WorldBankGroup6-zohar.json : Authentication checked\n",
      "Process 0 saving 5 timelines with output file: /scratch/spf248/twitter/data/timelines/updates/MX/timelines-9977110-0-0-5-1bc17591-06c8-4ec1-af49-2bd9ee90f522.json.bz2\n"
     ]
    }
   ],
   "source": [
    "print('Extract Timelines...\\n')\n",
    "with mp.Pool() as pool:\n",
    "    pool.map(download_timelines, range(len(key_files)))"
   ]
  }
 ],
 "metadata": {
  "kernelspec": {
   "display_name": "Python 3",
   "language": "python",
   "name": "python3"
  },
  "language_info": {
   "codemirror_mode": {
    "name": "ipython",
    "version": 3
   },
   "file_extension": ".py",
   "mimetype": "text/x-python",
   "name": "python",
   "nbconvert_exporter": "python",
   "pygments_lexer": "ipython3",
   "version": "3.7.7"
  }
 },
 "nbformat": 4,
 "nbformat_minor": 2
}
