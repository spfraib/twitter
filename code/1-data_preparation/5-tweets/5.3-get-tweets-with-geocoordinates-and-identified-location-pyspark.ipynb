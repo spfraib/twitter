{
 "cells": [
  {
   "cell_type": "code",
   "execution_count": 1,
   "metadata": {},
   "outputs": [],
   "source": [
    "import os\n",
    "import sys\n",
    "import socket\n",
    "import re\n",
    "import numpy as np\n",
    "import string\n",
    "import warnings\n",
    "from timeit import default_timer as timer\n",
    "from datetime import datetime\n",
    "\n",
    "from pyspark.sql import SparkSession\n",
    "from pyspark.sql.functions import udf,desc,row_number,col,year,month,dayofmonth,dayofweek,to_timestamp,size,isnan\n",
    "import pyspark.sql.functions as F\n",
    "from pyspark.sql.types import MapType, StringType, IntegerType, StructType, StructField, FloatType, ArrayType"
   ]
  },
  {
   "cell_type": "code",
   "execution_count": null,
   "metadata": {},
   "outputs": [],
   "source": [
    "try:\n",
    "    spark\n",
    "except NameError:\n",
    "    if 'samuel' in socket.gethostname().lower():\n",
    "        print('Create Local SparkSession')\n",
    "        spark = SparkSession.builder.config(\n",
    "        \"spark.driver.host\", \"localhost\").appName(\n",
    "        \"extract-data-from-geolocated-tweets\").getOrCreate()\n",
    "    else:\n",
    "        print('Create Cluster SparkSession')\n",
    "        spark = SparkSession.builder.appName(\n",
    "        \"extract-data-from-geolocated-tweets\").getOrCreate()"
   ]
  },
  {
   "cell_type": "code",
   "execution_count": 6,
   "metadata": {},
   "outputs": [
    {
     "name": "stdout",
     "output_type": "stream",
     "text": [
      "Hostname: Samuels-MacBook-Pro.local\n"
     ]
    }
   ],
   "source": [
    "# Local\n",
    "print('Hostname:', socket.gethostname())\n",
    "if  'samuel' in socket.gethostname().lower():\n",
    "    path_to_tweets='../../data/tweets/tweets-with-geocoordinates-or-place/'\n",
    "    path_to_locations='../../data/locations/profiles/'\n",
    "# Cluster\n",
    "else:\n",
    "    path_to_tweets='/user/spf248/twitter/data/tweets/tweets-with-geocoordinates-or-place/'\n",
    "    path_to_locations='/user/spf248/twitter/data/locations/profiles/'  "
   ]
  },
  {
   "cell_type": "code",
   "execution_count": 28,
   "metadata": {},
   "outputs": [
    {
     "data": {
      "text/plain": [
       "DataFrame[tweet_id: string, created_at: timestamp, text: string, tweet_lang: string, user_id: string, user_location: string, place_id: string, tweet_longitude: double, tweet_latitude: double, rg_name: string, rg_admin1: string, rg_admin2: string, rg_cc: string]"
      ]
     },
     "execution_count": 28,
     "metadata": {},
     "output_type": "execute_result"
    }
   ],
   "source": [
    "df=spark.read.parquet(path_to_tweets+'geocoded')\n",
    "df.cache()"
   ]
  },
  {
   "cell_type": "code",
   "execution_count": 29,
   "metadata": {},
   "outputs": [],
   "source": [
    "locations=spark.read.option('header','true').option('multiLine','true').csv(\n",
    "path_to_locations+'account-locations.csv')\n",
    "locations=locations.selectExpr('user_location as user_location', 'country_short as cc')"
   ]
  },
  {
   "cell_type": "code",
   "execution_count": 30,
   "metadata": {},
   "outputs": [
    {
     "name": "stdout",
     "output_type": "stream",
     "text": [
      "# Tweets: 414\n",
      "# Users: 401\n"
     ]
    }
   ],
   "source": [
    "print('# Tweets:', df.count())\n",
    "print('# Users:', df.select('user_id').distinct().count())"
   ]
  },
  {
   "cell_type": "code",
   "execution_count": 31,
   "metadata": {},
   "outputs": [
    {
     "name": "stdout",
     "output_type": "stream",
     "text": [
      "SELECT TWEETS WITH IDENTIFIED LOCATION\n"
     ]
    }
   ],
   "source": [
    "print('SELECT TWEETS WITH IDENTIFIED LOCATION')\n",
    "df=df.join(locations, on=['user_location'], how='inner')"
   ]
  },
  {
   "cell_type": "code",
   "execution_count": 32,
   "metadata": {},
   "outputs": [
    {
     "name": "stdout",
     "output_type": "stream",
     "text": [
      "# Tweets: 233\n",
      "# Users: 226\n"
     ]
    }
   ],
   "source": [
    "print('# Tweets:', df.count())\n",
    "print('# Users:', df.select('user_id').distinct().count())"
   ]
  },
  {
   "cell_type": "code",
   "execution_count": 38,
   "metadata": {},
   "outputs": [
    {
     "name": "stdout",
     "output_type": "stream",
     "text": [
      "SELECT TWEETS IF GEOLOCATED IN A USER\"S COUNTRY\n"
     ]
    }
   ],
   "source": [
    "print('SELECT TWEETS IF GEOLOCATED IN A USER\"S COUNTRY')\n",
    "df=df.filter(df['rg_cc']==df['cc']).drop('cc')"
   ]
  },
  {
   "cell_type": "code",
   "execution_count": 39,
   "metadata": {},
   "outputs": [
    {
     "name": "stdout",
     "output_type": "stream",
     "text": [
      "# Tweets: 211\n",
      "# Users: 206\n"
     ]
    }
   ],
   "source": [
    "print('# Tweets:', df.count())\n",
    "print('# Users:', df.select('user_id').distinct().count())"
   ]
  },
  {
   "cell_type": "code",
   "execution_count": 40,
   "metadata": {},
   "outputs": [
    {
     "name": "stdout",
     "output_type": "stream",
     "text": [
      "+------------------+------------------+-------------------+--------------------+----------+------------------+----------------+---------------+--------------+--------------------+--------------------+--------------------+-----+\n",
      "|     user_location|          tweet_id|         created_at|                text|tweet_lang|           user_id|        place_id|tweet_longitude|tweet_latitude|             rg_name|           rg_admin1|           rg_admin2|rg_cc|\n",
      "+------------------+------------------+-------------------+--------------------+----------+------------------+----------------+---------------+--------------+--------------------+--------------------+--------------------+-----+\n",
      "|            London|812409988060684288|2016-12-23 16:30:09|#londonlife #desi...|        pt|          53126594|5de8cffc145c486b|        -0.1345|       51.5207|              London|             England|      Greater London|   GB|\n",
      "|            Brasil|812407198865391616|2016-12-23 16:19:04|#reuniaodefechame...|       und|         323292646|68e019afec7d0ba5|    -46.7362951|   -23.6427199|     Taboao da Serra|           Sao Paulo|     Taboao Da Serra|   BR|\n",
      "|         Venezuela|812437167163068420|2016-12-23 18:18:09|Just posted a pho...|        en|          63040282|01aae5bd62bae61d|   -62.69048037|    8.33252042|      Ciudad Guayana|             Bolivar|    Municipio Caroni|   VE|\n",
      "|          Colombia|812429231560880128|2016-12-23 17:46:37|📈 Con al menos 2...|        es|        1180020318|0161be1b3f98d6c3|       -74.1178|        4.6564|              Bogota|         Bogota D.C.|                    |   CO|\n",
      "|            México|812410030037278720|2016-12-23 16:30:19|Le toca baño ... ...|        es|          91639837|3993cb03878c3517|   -98.88336714|   19.51490393|     Texcoco de Mora|              Mexico|                    |   MX|\n",
      "|            México|812440501618024449|2016-12-23 18:31:24|#HappyBirthdayLou...|        es|        1181997601|bfc35dcc7e63252a|       -99.1329|       19.4319|         Mexico City|         Mexico City|                    |   MX|\n",
      "|            México|812438542878208001|2016-12-23 18:23:37|I'm at Plaza Saté...|        fr|         137137508|088bd1671a2e601a|    -99.2341303|   19.51051638|       Vista Hermosa|              Mexico|                    |   MX|\n",
      "|   Los Angeles, CA|812436055693500416|2016-12-23 18:13:44|See our latest 79...|        en|          22454941|07dccb89e8f25a8f|   -118.1527361|    33.9241469|              Downey|          California|  Los Angeles County|   US|\n",
      "|      New York, NY|812425712502239232|2016-12-23 17:32:38|#ReferscandoLaNoc...|       und|         179370248|01a9a39529b27f36|       -73.9675|       40.7779|           Manhattan|            New York|     New York County|   US|\n",
      "|       Chicago, IL|812413431605170176|2016-12-23 16:43:50|See our latest #C...|        en|          20831135|1d9a5370a355ab0c|    -87.6197056|    41.8839927|             Chicago|            Illinois|         Cook County|   US|\n",
      "|       Chicago, IL|812413523863093248|2016-12-23 16:44:12|MOOD @ Brooklyn B...|        en|         309786813|011add077f4d2da3|   -73.95753998|   40.72196325|    Long Island City|            New York|       Queens County|   US|\n",
      "|       Chicago, IL|812432205305810945|2016-12-23 17:58:26|The danger is rea...|        en|        2979739983|006b48995ede9bcc|  -111.72552478|    33.3218922|             Gilbert|             Arizona|     Maricopa County|   US|\n",
      "|            Canada|812442959492816896|2016-12-23 18:41:10|Go #Dodge Edmonto...|        en|780476339916713985|6a6d896ba1cb5dc4|   -113.4461162|    53.4833338|            Edmonton|             Alberta|                    |   CA|\n",
      "|            Canada|812410164238282755|2016-12-23 16:30:51|#NestersMarket Ba...|        en|780476339916713985|3a8d0d494d8cd990|   -115.5745393|    51.1759059|               Banff|             Alberta|                    |   CA|\n",
      "|         Guatemala|812437376861515776|2016-12-23 18:18:59|increible sol pla...|        es|         162273283|13d479b108707983|   -90.48104088|   13.89401138|             Taxisco|          Santa Rosa|Municipio de Taxisco|   GT|\n",
      "|        California|812425699944341504|2016-12-23 17:32:35|We're #hiring! Cl...|        en|          22533900|7d51c8dfbb08a9de|   -122.3916754|    40.5865396|             Redding|          California|       Shasta County|   US|\n",
      "|Jakarta, Indonesia|812430540150165504|2016-12-23 17:51:49|Abaikan muka bant...|        in|         546696286|67aa3f6a6bcbf0c4|        109.233|      -7.41667|          Purwokerto|        Central Java|                    |   ID|\n",
      "|               USA|812425339209072640|2016-12-23 17:31:09|If you're looking...|        en|          49552915|4185eba3c7183f0b|     -82.375311|    36.3397628|        Johnson City|           Tennessee|   Washington County|   US|\n",
      "|      Buenos Aires|812429843920986112|2016-12-23 17:49:03|I'm at Heladería ...|        es|          45149172|004b853c78703c20|   -58.54188135|  -34.58871694|  General San Martin|        Buenos Aires|Partido de Genera...|   AR|\n",
      "|   Santiago, Chile|812444775613923330|2016-12-23 18:48:23|20:48 en Peñalolé...|        es|        2186660646|01fb944c0dff3d86|       -70.5252|      -33.4779|Villa Presidente ...|Santiago Metropol...|Provincia de Sant...|   CL|\n",
      "+------------------+------------------+-------------------+--------------------+----------+------------------+----------------+---------------+--------------+--------------------+--------------------+--------------------+-----+\n",
      "only showing top 20 rows\n",
      "\n"
     ]
    }
   ],
   "source": [
    "df.show()"
   ]
  },
  {
   "cell_type": "code",
   "execution_count": 37,
   "metadata": {},
   "outputs": [
    {
     "name": "stdout",
     "output_type": "stream",
     "text": [
      "SAVE\n",
      "DONE IN 1 SEC\n"
     ]
    }
   ],
   "source": [
    "print('SAVE')\n",
    "start = timer()\n",
    "\n",
    "df.write.mode(\"overwrite\").parquet(path_to_tweets+'identified')\n",
    "\n",
    "end = timer()\n",
    "print('DONE IN', round(end - start), 'SEC')"
   ]
  }
 ],
 "metadata": {
  "kernelspec": {
   "display_name": "Python 3",
   "language": "python",
   "name": "python3"
  },
  "language_info": {
   "codemirror_mode": {
    "name": "ipython",
    "version": 3
   },
   "file_extension": ".py",
   "mimetype": "text/x-python",
   "name": "python",
   "nbconvert_exporter": "python",
   "pygments_lexer": "ipython3",
   "version": "3.7.7"
  }
 },
 "nbformat": 4,
 "nbformat_minor": 2
}
