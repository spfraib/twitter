{
 "cells": [
  {
   "cell_type": "code",
   "execution_count": 222,
   "metadata": {},
   "outputs": [],
   "source": [
    "from timeit import default_timer as timer\n",
    "import sys\n",
    "import os\n",
    "import numpy as np\n",
    "import pandas as pd\n",
    "from shapely.geometry import MultiPoint"
   ]
  },
  {
   "cell_type": "markdown",
   "metadata": {},
   "source": [
    "# Params"
   ]
  },
  {
   "cell_type": "code",
   "execution_count": 7,
   "metadata": {},
   "outputs": [
    {
     "name": "stdout",
     "output_type": "stream",
     "text": [
      "Tweets from Decahose: v4\n",
      "# Input Files: 94\n"
     ]
    }
   ],
   "source": [
    "path_to_input_files = '/scratch/spf248/twitter/data/tweets/tweets-with-geocoordinates/'\n",
    "path_to_output_files = '/scratch/spf248/twitter/data/locations/profiles/geocoding/'\n",
    "\n",
    "input_files = sorted([x for x in os.listdir(path_to_input_files) if '.pkl' in x and 'tweets' in x])\n",
    "print('# Input Files:', len(input_files))"
   ]
  },
  {
   "cell_type": "markdown",
   "metadata": {},
   "source": [
    "# Import Geolocated Tweets"
   ]
  },
  {
   "cell_type": "code",
   "execution_count": 3,
   "metadata": {},
   "outputs": [],
   "source": [
    "def import_data(input_file):\n",
    "    \n",
    "    return pd.read_pickle(\n",
    "    path_to_input_files+input_file,compression='xz')[['USER ID','USER LOCATION','LAT','LON']].dropna()"
   ]
  },
  {
   "cell_type": "code",
   "execution_count": 4,
   "metadata": {},
   "outputs": [
    {
     "name": "stdout",
     "output_type": "stream",
     "text": [
      "Import...\n",
      "# Tweets: 0\n",
      "Done in 4 sec\n"
     ]
    }
   ],
   "source": [
    "print(\"Import...\")\n",
    "start = timer()\n",
    "\n",
    "tweets = pd.DataFrame()\n",
    "\n",
    "for i,input_file in enumerate(input_files):\n",
    "    \n",
    "    tweets = pd.concat([tweets,import_data(input_file)])\n",
    "    \n",
    "    if not i%10:\n",
    "        print('# Tweets:', tweets.shape[0])\n",
    "\n",
    "print(\"Done in\", round(timer()-start), \"sec\")"
   ]
  },
  {
   "cell_type": "markdown",
   "metadata": {},
   "source": [
    "# Get Users Geolocation"
   ]
  },
  {
   "cell_type": "code",
   "execution_count": 5,
   "metadata": {},
   "outputs": [
    {
     "name": "stdout",
     "output_type": "stream",
     "text": [
      "Prepare data to be aggregated...\n",
      "# Tweets: 436444\n",
      "Done in 1 sec\n"
     ]
    }
   ],
   "source": [
    "print(\"Prepare data to be aggregated...\")\n",
    "start = timer()\n",
    "\n",
    "print('# Tweets:', tweets.shape[0])\n",
    "\n",
    "tweets['POINT'] = list(zip(tweets['LAT'], tweets['LON']))\n",
    "tweets.drop(['LAT','LON'],1,inplace=True)\n",
    "\n",
    "# Sort Once To Prepare Aggregation\n",
    "tweets.sort_values(by='USER ID',inplace=True)\n",
    "\n",
    "print(\"Done in\", round(timer()-start), \"sec\")"
   ]
  },
  {
   "cell_type": "code",
   "execution_count": 6,
   "metadata": {},
   "outputs": [
    {
     "data": {
      "text/html": [
       "<div>\n",
       "<style scoped>\n",
       "    .dataframe tbody tr th:only-of-type {\n",
       "        vertical-align: middle;\n",
       "    }\n",
       "\n",
       "    .dataframe tbody tr th {\n",
       "        vertical-align: top;\n",
       "    }\n",
       "\n",
       "    .dataframe thead th {\n",
       "        text-align: right;\n",
       "    }\n",
       "</style>\n",
       "<table border=\"1\" class=\"dataframe\">\n",
       "  <thead>\n",
       "    <tr style=\"text-align: right;\">\n",
       "      <th></th>\n",
       "      <th>USER ID</th>\n",
       "      <th>USER LOCATION</th>\n",
       "      <th>POINT</th>\n",
       "    </tr>\n",
       "  </thead>\n",
       "  <tbody>\n",
       "    <tr>\n",
       "      <th>70310</th>\n",
       "      <td>100001920</td>\n",
       "      <td>puebla, mexico</td>\n",
       "      <td>(17.54886728, -98.57749795)</td>\n",
       "    </tr>\n",
       "    <tr>\n",
       "      <th>23630</th>\n",
       "      <td>100002734</td>\n",
       "      <td>Taubaté - SP - Brazil</td>\n",
       "      <td>(-23.0418578, -45.55798539)</td>\n",
       "    </tr>\n",
       "    <tr>\n",
       "      <th>21569</th>\n",
       "      <td>100002734</td>\n",
       "      <td>Taubaté - SP - Brazil</td>\n",
       "      <td>(-23.0418578, -45.55798539)</td>\n",
       "    </tr>\n",
       "    <tr>\n",
       "      <th>9895</th>\n",
       "      <td>100002734</td>\n",
       "      <td>Taubaté - SP - Brazil</td>\n",
       "      <td>(-23.0418578, -45.55798539)</td>\n",
       "    </tr>\n",
       "    <tr>\n",
       "      <th>19360</th>\n",
       "      <td>100002734</td>\n",
       "      <td>Taubaté - SP - Brazil</td>\n",
       "      <td>(-23.0418578, -45.55798539)</td>\n",
       "    </tr>\n",
       "  </tbody>\n",
       "</table>\n",
       "</div>"
      ],
      "text/plain": [
       "         USER ID          USER LOCATION                        POINT\n",
       "70310  100001920         puebla, mexico  (17.54886728, -98.57749795)\n",
       "23630  100002734  Taubaté - SP - Brazil  (-23.0418578, -45.55798539)\n",
       "21569  100002734  Taubaté - SP - Brazil  (-23.0418578, -45.55798539)\n",
       "9895   100002734  Taubaté - SP - Brazil  (-23.0418578, -45.55798539)\n",
       "19360  100002734  Taubaté - SP - Brazil  (-23.0418578, -45.55798539)"
      ]
     },
     "execution_count": 6,
     "metadata": {},
     "output_type": "execute_result"
    }
   ],
   "source": [
    "tweets.head()"
   ]
  },
  {
   "cell_type": "code",
   "execution_count": 7,
   "metadata": {},
   "outputs": [],
   "source": [
    "def groupby_apply(df, func, sort=True):\n",
    "    \n",
    "    # Groupby name_key then apply func on the values in name_value\n",
    "    # Speed up pandas groupby a fractor of 10 ;)\n",
    "    \n",
    "    # Input a dataframe with columns [name_key, name_value]\n",
    "    name_key, name_value = df.columns\n",
    "    \n",
    "    if sort:\n",
    "        keys, values = df.sort_values(by=name_key).values.T\n",
    "    else:\n",
    "        keys, values = df.values.T\n",
    "        \n",
    "    # Extract Unique Keys And Index Of Transitions\n",
    "    unique_keys, index = np.unique(keys, True)\n",
    "    \n",
    "    # Split Values According to Transitions\n",
    "    arrays = np.split(values, index[1:])\n",
    "    \n",
    "    # Apply func to each array of values corresponding to a given key\n",
    "    return pd.Series([func(a) for a in arrays], name=name_value, index=pd.Index(unique_keys,name=name_key))"
   ]
  },
  {
   "cell_type": "code",
   "execution_count": 8,
   "metadata": {},
   "outputs": [
    {
     "name": "stdout",
     "output_type": "stream",
     "text": [
      "Groupby users...\n",
      "# Users: 167730\n",
      "Done in 2 sec\n"
     ]
    }
   ],
   "source": [
    "print(\"Groupby users...\")\n",
    "start = timer()\n",
    "\n",
    "users = pd.concat([\n",
    "groupby_apply(tweets[['USER ID','USER LOCATION']],lambda x:set(x),sort=False).rename('LOCATION'),\n",
    "groupby_apply(tweets[['USER ID','POINT']],lambda x:x.tolist(),sort=False),\n",
    "# tweets.groupby('USER ID')['POINT'].count().rename('N'),\n",
    "],1)\n",
    "\n",
    "del tweets\n",
    "\n",
    "print('# Users:',users.shape[0])\n",
    "\n",
    "print(\"Done in\", round(timer()-start), \"sec\")"
   ]
  },
  {
   "cell_type": "code",
   "execution_count": 9,
   "metadata": {},
   "outputs": [
    {
     "data": {
      "text/html": [
       "<div>\n",
       "<style scoped>\n",
       "    .dataframe tbody tr th:only-of-type {\n",
       "        vertical-align: middle;\n",
       "    }\n",
       "\n",
       "    .dataframe tbody tr th {\n",
       "        vertical-align: top;\n",
       "    }\n",
       "\n",
       "    .dataframe thead th {\n",
       "        text-align: right;\n",
       "    }\n",
       "</style>\n",
       "<table border=\"1\" class=\"dataframe\">\n",
       "  <thead>\n",
       "    <tr style=\"text-align: right;\">\n",
       "      <th></th>\n",
       "      <th>LOCATION</th>\n",
       "      <th>POINT</th>\n",
       "    </tr>\n",
       "    <tr>\n",
       "      <th>USER ID</th>\n",
       "      <th></th>\n",
       "      <th></th>\n",
       "    </tr>\n",
       "  </thead>\n",
       "  <tbody>\n",
       "    <tr>\n",
       "      <th>100001920</th>\n",
       "      <td>{puebla, mexico}</td>\n",
       "      <td>[(17.54886728, -98.57749795)]</td>\n",
       "    </tr>\n",
       "    <tr>\n",
       "      <th>100002734</th>\n",
       "      <td>{Taubaté - SP - Brazil}</td>\n",
       "      <td>[(-23.0418578, -45.55798539), (-23.0418578, -4...</td>\n",
       "    </tr>\n",
       "    <tr>\n",
       "      <th>100002918</th>\n",
       "      <td>{(;}</td>\n",
       "      <td>[(47.59587574, -52.68829447)]</td>\n",
       "    </tr>\n",
       "    <tr>\n",
       "      <th>100003297</th>\n",
       "      <td>{Daytona Beach, FL}</td>\n",
       "      <td>[(29.195698, -81.063029), (29.1987957, -81.042...</td>\n",
       "    </tr>\n",
       "    <tr>\n",
       "      <th>100006175</th>\n",
       "      <td>{}</td>\n",
       "      <td>[(-7.11710053, -34.83502584)]</td>\n",
       "    </tr>\n",
       "  </tbody>\n",
       "</table>\n",
       "</div>"
      ],
      "text/plain": [
       "                          LOCATION  \\\n",
       "USER ID                              \n",
       "100001920         {puebla, mexico}   \n",
       "100002734  {Taubaté - SP - Brazil}   \n",
       "100002918                     {(;}   \n",
       "100003297      {Daytona Beach, FL}   \n",
       "100006175                       {}   \n",
       "\n",
       "                                                       POINT  \n",
       "USER ID                                                       \n",
       "100001920                      [(17.54886728, -98.57749795)]  \n",
       "100002734  [(-23.0418578, -45.55798539), (-23.0418578, -4...  \n",
       "100002918                      [(47.59587574, -52.68829447)]  \n",
       "100003297  [(29.195698, -81.063029), (29.1987957, -81.042...  \n",
       "100006175                      [(-7.11710053, -34.83502584)]  "
      ]
     },
     "execution_count": 9,
     "metadata": {},
     "output_type": "execute_result"
    }
   ],
   "source": [
    "users.head()"
   ]
  },
  {
   "cell_type": "code",
   "execution_count": 10,
   "metadata": {},
   "outputs": [
    {
     "name": "stdout",
     "output_type": "stream",
     "text": [
      "Keep users with only one location...\n",
      "# Users: 161634\n",
      "Done in 0 sec\n"
     ]
    }
   ],
   "source": [
    "print(\"Keep users with only one location...\")\n",
    "start = timer()\n",
    "\n",
    "# Presumably users with multiple locations are harder to geolocate\n",
    "users = users.loc[users['LOCATION'].apply(len)==1].copy()\n",
    "users['LOCATION'] = users['LOCATION'].apply(lambda x:x.pop())\n",
    "print('# Users:',users.shape[0])\n",
    "\n",
    "print(\"Done in\", round(timer()-start), \"sec\")"
   ]
  },
  {
   "cell_type": "code",
   "execution_count": 11,
   "metadata": {},
   "outputs": [
    {
     "data": {
      "text/html": [
       "<div>\n",
       "<style scoped>\n",
       "    .dataframe tbody tr th:only-of-type {\n",
       "        vertical-align: middle;\n",
       "    }\n",
       "\n",
       "    .dataframe tbody tr th {\n",
       "        vertical-align: top;\n",
       "    }\n",
       "\n",
       "    .dataframe thead th {\n",
       "        text-align: right;\n",
       "    }\n",
       "</style>\n",
       "<table border=\"1\" class=\"dataframe\">\n",
       "  <thead>\n",
       "    <tr style=\"text-align: right;\">\n",
       "      <th></th>\n",
       "      <th>LOCATION</th>\n",
       "      <th>POINT</th>\n",
       "    </tr>\n",
       "    <tr>\n",
       "      <th>USER ID</th>\n",
       "      <th></th>\n",
       "      <th></th>\n",
       "    </tr>\n",
       "  </thead>\n",
       "  <tbody>\n",
       "    <tr>\n",
       "      <th>100001920</th>\n",
       "      <td>puebla, mexico</td>\n",
       "      <td>[(17.54886728, -98.57749795)]</td>\n",
       "    </tr>\n",
       "    <tr>\n",
       "      <th>100002734</th>\n",
       "      <td>Taubaté - SP - Brazil</td>\n",
       "      <td>[(-23.0418578, -45.55798539), (-23.0418578, -4...</td>\n",
       "    </tr>\n",
       "    <tr>\n",
       "      <th>100002918</th>\n",
       "      <td>(;</td>\n",
       "      <td>[(47.59587574, -52.68829447)]</td>\n",
       "    </tr>\n",
       "    <tr>\n",
       "      <th>100003297</th>\n",
       "      <td>Daytona Beach, FL</td>\n",
       "      <td>[(29.195698, -81.063029), (29.1987957, -81.042...</td>\n",
       "    </tr>\n",
       "    <tr>\n",
       "      <th>100006175</th>\n",
       "      <td></td>\n",
       "      <td>[(-7.11710053, -34.83502584)]</td>\n",
       "    </tr>\n",
       "  </tbody>\n",
       "</table>\n",
       "</div>"
      ],
      "text/plain": [
       "                        LOCATION  \\\n",
       "USER ID                            \n",
       "100001920         puebla, mexico   \n",
       "100002734  Taubaté - SP - Brazil   \n",
       "100002918                     (;   \n",
       "100003297      Daytona Beach, FL   \n",
       "100006175                          \n",
       "\n",
       "                                                       POINT  \n",
       "USER ID                                                       \n",
       "100001920                      [(17.54886728, -98.57749795)]  \n",
       "100002734  [(-23.0418578, -45.55798539), (-23.0418578, -4...  \n",
       "100002918                      [(47.59587574, -52.68829447)]  \n",
       "100003297  [(29.195698, -81.063029), (29.1987957, -81.042...  \n",
       "100006175                      [(-7.11710053, -34.83502584)]  "
      ]
     },
     "execution_count": 11,
     "metadata": {},
     "output_type": "execute_result"
    }
   ],
   "source": [
    "users.head()"
   ]
  },
  {
   "cell_type": "code",
   "execution_count": 12,
   "metadata": {},
   "outputs": [
    {
     "name": "stdout",
     "output_type": "stream",
     "text": [
      "Compute representative point per user...\n",
      "Done in 9 sec\n"
     ]
    }
   ],
   "source": [
    "print(\"Compute representative point per user...\")\n",
    "start = timer()\n",
    "\n",
    "users['POINT'] = users['POINT'].apply(lambda x: MultiPoint(x).representative_point())\n",
    "\n",
    "print(\"Done in\", round(timer()-start), \"sec\")"
   ]
  },
  {
   "cell_type": "markdown",
   "metadata": {},
   "source": [
    "# Get Account Locations' Geocoordinates"
   ]
  },
  {
   "cell_type": "code",
   "execution_count": 13,
   "metadata": {},
   "outputs": [
    {
     "name": "stdout",
     "output_type": "stream",
     "text": [
      "Sort by location...\n",
      "Done in 0 sec\n"
     ]
    }
   ],
   "source": [
    "print(\"Sort by location...\")\n",
    "start = timer()\n",
    "\n",
    "users.sort_values(by='LOCATION',inplace=True)\n",
    "\n",
    "print(\"Done in\", round(timer()-start), \"sec\")"
   ]
  },
  {
   "cell_type": "code",
   "execution_count": 14,
   "metadata": {},
   "outputs": [
    {
     "name": "stdout",
     "output_type": "stream",
     "text": [
      "Groupby location...\n",
      "# Locations: 82093\n",
      "Done in 1 sec\n"
     ]
    }
   ],
   "source": [
    "print(\"Groupby location...\")\n",
    "start = timer()\n",
    "\n",
    "locations = pd.concat([\n",
    "groupby_apply(users[['LOCATION','POINT']],lambda x:x.tolist(),sort=False),\n",
    "groupby_apply(users[['LOCATION','POINT']],lambda x:x.shape[0],sort=False).rename('N'),\n",
    "],1)\n",
    "\n",
    "del users\n",
    "\n",
    "print('# Locations:', locations.shape[0])\n",
    "\n",
    "locations.sort_values(by='N',ascending=False,inplace=True)\n",
    "locations.reset_index(inplace=True)\n",
    "\n",
    "print(\"Done in\", round(timer()-start), \"sec\")"
   ]
  },
  {
   "cell_type": "code",
   "execution_count": 15,
   "metadata": {},
   "outputs": [
    {
     "name": "stdout",
     "output_type": "stream",
     "text": [
      "Compute representative point per location...\n",
      "Done in 6 sec\n"
     ]
    }
   ],
   "source": [
    "print(\"Compute representative point per location...\")\n",
    "start = timer()\n",
    "\n",
    "locations['POINT'] = locations['POINT'].apply(\n",
    "lambda x:MultiPoint(x).representative_point()).apply(\n",
    "lambda point:(point.x,point.y))\n",
    "\n",
    "print(\"Done in\", round(timer()-start), \"sec\")"
   ]
  },
  {
   "cell_type": "code",
   "execution_count": 11,
   "metadata": {},
   "outputs": [
    {
     "data": {
      "text/html": [
       "<div>\n",
       "<style scoped>\n",
       "    .dataframe tbody tr th:only-of-type {\n",
       "        vertical-align: middle;\n",
       "    }\n",
       "\n",
       "    .dataframe tbody tr th {\n",
       "        vertical-align: top;\n",
       "    }\n",
       "\n",
       "    .dataframe thead th {\n",
       "        text-align: right;\n",
       "    }\n",
       "</style>\n",
       "<table border=\"1\" class=\"dataframe\">\n",
       "  <thead>\n",
       "    <tr style=\"text-align: right;\">\n",
       "      <th></th>\n",
       "      <th>LOCATION</th>\n",
       "      <th>POINT</th>\n",
       "      <th>N</th>\n",
       "    </tr>\n",
       "  </thead>\n",
       "  <tbody>\n",
       "    <tr>\n",
       "      <th>0</th>\n",
       "      <td></td>\n",
       "      <td>(25.299, -4.918)</td>\n",
       "      <td>11304513</td>\n",
       "    </tr>\n",
       "    <tr>\n",
       "      <th>1</th>\n",
       "      <td>Indonesia</td>\n",
       "      <td>(-5.53034, 106.54255)</td>\n",
       "      <td>98240</td>\n",
       "    </tr>\n",
       "    <tr>\n",
       "      <th>2</th>\n",
       "      <td>London</td>\n",
       "      <td>(49.01730709, 1.43906842)</td>\n",
       "      <td>88896</td>\n",
       "    </tr>\n",
       "    <tr>\n",
       "      <th>3</th>\n",
       "      <td>Brasil</td>\n",
       "      <td>(-17.99120486, -45.60141543)</td>\n",
       "      <td>70885</td>\n",
       "    </tr>\n",
       "    <tr>\n",
       "      <th>4</th>\n",
       "      <td>Jakarta</td>\n",
       "      <td>(-5.19392835, 103.92920358)</td>\n",
       "      <td>55842</td>\n",
       "    </tr>\n",
       "    <tr>\n",
       "      <th>5</th>\n",
       "      <td>Philippines</td>\n",
       "      <td>(14.604133, 120.017236)</td>\n",
       "      <td>51989</td>\n",
       "    </tr>\n",
       "    <tr>\n",
       "      <th>6</th>\n",
       "      <td>İstanbul</td>\n",
       "      <td>(40.78565557, 28.87995098)</td>\n",
       "      <td>50755</td>\n",
       "    </tr>\n",
       "    <tr>\n",
       "      <th>7</th>\n",
       "      <td>istanbul</td>\n",
       "      <td>(40.76090685, 28.8750945)</td>\n",
       "      <td>39241</td>\n",
       "    </tr>\n",
       "    <tr>\n",
       "      <th>8</th>\n",
       "      <td>indonesia</td>\n",
       "      <td>(-5.3072557, 106.6885)</td>\n",
       "      <td>39057</td>\n",
       "    </tr>\n",
       "    <tr>\n",
       "      <th>9</th>\n",
       "      <td>Argentina</td>\n",
       "      <td>(-31.9880371, -59.2789376)</td>\n",
       "      <td>36977</td>\n",
       "    </tr>\n",
       "  </tbody>\n",
       "</table>\n",
       "</div>"
      ],
      "text/plain": [
       "      LOCATION                         POINT         N\n",
       "0                           (25.299, -4.918)  11304513\n",
       "1    Indonesia         (-5.53034, 106.54255)     98240\n",
       "2       London     (49.01730709, 1.43906842)     88896\n",
       "3       Brasil  (-17.99120486, -45.60141543)     70885\n",
       "4      Jakarta   (-5.19392835, 103.92920358)     55842\n",
       "5  Philippines       (14.604133, 120.017236)     51989\n",
       "6     İstanbul    (40.78565557, 28.87995098)     50755\n",
       "7     istanbul     (40.76090685, 28.8750945)     39241\n",
       "8    indonesia        (-5.3072557, 106.6885)     39057\n",
       "9    Argentina    (-31.9880371, -59.2789376)     36977"
      ]
     },
     "execution_count": 11,
     "metadata": {},
     "output_type": "execute_result"
    }
   ],
   "source": [
    "locations.head(10)"
   ]
  },
  {
   "cell_type": "markdown",
   "metadata": {},
   "source": [
    "# Save"
   ]
  },
  {
   "cell_type": "code",
   "execution_count": 12,
   "metadata": {},
   "outputs": [
    {
     "name": "stdout",
     "output_type": "stream",
     "text": [
      "Save...\n",
      "Done in 5 sec\n"
     ]
    }
   ],
   "source": [
    "print(\"Save...\")\n",
    "start = timer()\n",
    "\n",
    "locations.to_pickle(path_to_output_files+'account-locations-with-geocoordinates.pkl')\n",
    "\n",
    "print(\"Done in\", round(timer()-start), \"sec\")"
   ]
  }
 ],
 "metadata": {
  "kernelspec": {
   "display_name": "Python 3",
   "language": "python",
   "name": "python3"
  },
  "language_info": {
   "codemirror_mode": {
    "name": "ipython",
    "version": 3
   },
   "file_extension": ".py",
   "mimetype": "text/x-python",
   "name": "python",
   "nbconvert_exporter": "python",
   "pygments_lexer": "ipython3",
   "version": "3.7.4"
  }
 },
 "nbformat": 4,
 "nbformat_minor": 2
}
