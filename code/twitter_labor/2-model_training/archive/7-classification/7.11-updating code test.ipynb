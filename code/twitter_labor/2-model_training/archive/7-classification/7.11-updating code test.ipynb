{
 "cells": [
  {
   "cell_type": "code",
   "execution_count": 3,
   "metadata": {},
   "outputs": [
    {
     "data": {
      "text/plain": [
       "'/home/da2734/miniconda3/envs/worldbank/lib/python3.7/site-packages/fast_bert/__init__.py'"
      ]
     },
     "execution_count": 3,
     "metadata": {},
     "output_type": "execute_result"
    }
   ],
   "source": [
    "import fast_bert\n",
    "fast_bert.__file__"
   ]
  },
  {
   "cell_type": "code",
   "execution_count": 5,
   "metadata": {},
   "outputs": [
    {
     "name": "stdout",
     "output_type": "stream",
     "text": [
      "def roc_auc(y_pred: Tensor, y_true: Tensor):\n",
      "    # ROC-AUC calcualation\n",
      "    # Compute ROC curve and ROC area for each class\n",
      "    fpr = dict()\n",
      "    tpr = dict()\n",
      "    roc_auc = dict()\n",
      "\n",
      "    y_true = y_true.detach().cpu().numpy()\n",
      "    y_pred = y_pred.detach().cpu().numpy()\n",
      "\n",
      "    print(y_true)\n",
      "    # Compute micro-average ROC curve and ROC area\n",
      " \n",
      "    fpr[\"micro\"], tpr[\"micro\"], _ = roc_curve(y_true.ravel(), y_pred.ravel())\n",
      "    roc_auc[\"micro\"] = auc(fpr[\"micro\"], tpr[\"micro\"])\n",
      "\n",
      "    print('roc_auc', roc_auc) \n",
      "    return roc_auc[\"micro\"]\n",
      "\n"
     ]
    }
   ],
   "source": [
    "from fast_bert.metrics import roc_auc\n",
    "import inspect\n",
    "roc_auc_code = inspect.getsource(roc_auc)\n",
    "print(roc_auc_code)"
   ]
  }
 ],
 "metadata": {
  "kernelspec": {
   "display_name": "Python 3",
   "language": "python",
   "name": "python3"
  },
  "language_info": {
   "codemirror_mode": {
    "name": "ipython",
    "version": 3
   },
   "file_extension": ".py",
   "mimetype": "text/x-python",
   "name": "python",
   "nbconvert_exporter": "python",
   "pygments_lexer": "ipython3",
   "version": "3.7.6"
  }
 },
 "nbformat": 4,
 "nbformat_minor": 2
}
