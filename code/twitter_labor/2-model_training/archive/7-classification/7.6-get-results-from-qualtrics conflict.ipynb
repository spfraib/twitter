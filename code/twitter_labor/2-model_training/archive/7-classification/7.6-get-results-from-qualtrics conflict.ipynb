{
 "cells": [
  {
   "cell_type": "code",
   "execution_count": 6,
   "metadata": {},
   "outputs": [],
   "source": [
    "import requests\n",
    "import zipfile\n",
    "import json\n",
    "import io, os\n",
    "import sys\n",
    "import re\n",
    "import socket\n",
    "import pandas as pd\n",
    "import matplotlib.pyplot as plt\n",
    "import geopandas as gpd\n",
    "import reverse_geocoder as rg"
   ]
  },
  {
   "cell_type": "code",
   "execution_count": 7,
   "metadata": {},
   "outputs": [],
   "source": [
    "def exportSurvey(apiToken,surveyId,dataCenter,fileFormat,fileName):\n",
    "\n",
    "    surveyId = surveyId\n",
    "    fileFormat = fileFormat\n",
    "    dataCenter = dataCenter \n",
    "\n",
    "    # Setting static parameters\n",
    "    requestCheckProgress = 0.0\n",
    "    progressStatus = \"inProgress\"\n",
    "    baseUrl = \"https://{0}.qualtrics.com/API/v3/surveys/{1}/export-responses/\".format(dataCenter, surveyId)\n",
    "    headers = {\n",
    "    \"content-type\": \"application/json\",\n",
    "    \"x-api-token\": apiToken,\n",
    "    }\n",
    "\n",
    "    # Step 1: Creating Data Export\n",
    "    downloadRequestUrl = baseUrl\n",
    "    downloadRequestPayload = '{\"format\":\"' + fileFormat + '\"}'\n",
    "    downloadRequestResponse = requests.request(\"POST\", downloadRequestUrl, data=downloadRequestPayload, headers=headers)\n",
    "    progressId = downloadRequestResponse.json()[\"result\"][\"progressId\"]\n",
    "    print(downloadRequestResponse.text)\n",
    "\n",
    "    # Step 2: Checking on Data Export Progress and waiting until export is ready\n",
    "    while progressStatus != \"complete\" and progressStatus != \"failed\":\n",
    "        print (\"progressStatus=\", progressStatus)\n",
    "        requestCheckUrl = baseUrl + progressId\n",
    "        requestCheckResponse = requests.request(\"GET\", requestCheckUrl, headers=headers)\n",
    "        requestCheckProgress = requestCheckResponse.json()[\"result\"][\"percentComplete\"]\n",
    "        print(\"Download is \" + str(requestCheckProgress) + \" complete\")\n",
    "        progressStatus = requestCheckResponse.json()[\"result\"][\"status\"]\n",
    "\n",
    "    #step 2.1: Check for error\n",
    "    if progressStatus is \"failed\":\n",
    "        raise Exception(\"export failed\")\n",
    "\n",
    "    fileId = requestCheckResponse.json()[\"result\"][\"fileId\"]\n",
    "\n",
    "    # Step 3: Downloading file\n",
    "    requestDownloadUrl = baseUrl + fileId + '/file'\n",
    "    requestDownload = requests.request(\"GET\", requestDownloadUrl, headers=headers, stream=True)\n",
    "\n",
    "    # Step 4: Unzipping the file\n",
    "    zipfile.ZipFile(io.BytesIO(requestDownload.content)).extractall(\n",
    "    os.path.join(path_to_data,\"classification\",country,fileName))\n",
    "    print('Complete')"
   ]
  },
  {
   "cell_type": "code",
   "execution_count": 8,
   "metadata": {},
   "outputs": [
    {
     "name": "stdout",
     "output_type": "stream",
     "text": [
      "Hostname: Samuels-MBP\n",
      "{\"result\":{\"progressId\":\"ES_bKoA6nD5Gz5KmBn\",\"percentComplete\":0.0,\"status\":\"inProgress\"},\"meta\":{\"requestId\":\"1e600583-06b9-4cd6-bfed-265b57899105\",\"httpStatus\":\"200 - OK\"}}\n",
      "progressStatus= inProgress\n",
      "Download is 0.0 complete\n",
      "progressStatus= inProgress\n",
      "Download is 100.0 complete\n",
      "Complete\n"
     ]
    }
   ],
   "source": [
    "country=\"US\"\n",
    "\n",
    "print('Hostname:', socket.gethostname())\n",
    "if 'samuel' in socket.gethostname().lower():\n",
    "    path_to_data='../../data'\n",
    "else:\n",
    "    path_to_data='/scratch/spf248/twitter/data'\n",
    "    \n",
    "# Setting user Parameters\n",
    "with open(os.path.join(path_to_data,'keys/qualtrics/apiToken'),'r') as f:\n",
    "    apiToken = eval(f.readline())\n",
    "dataCenter = \"nyu.ca1\"\n",
    "surveyId = \"SV_0dB80s8q5OhAV8x\"\n",
    "fileFormat = \"csv\" # [\"csv\", \"tsv\", \"spss\"]\n",
    "\n",
    "r = re.compile('^SV_.*')\n",
    "m = r.match(surveyId)\n",
    "if not m:\n",
    "    print(\"survey Id must match ^SV_.*\")\n",
    "else:\n",
    "    exportSurvey(apiToken, surveyId, dataCenter, fileFormat,\"qualtrics-download-v1\")"
   ]
  },
  {
   "cell_type": "markdown",
   "metadata": {},
   "source": [
    "# Analyse Results"
   ]
  },
  {
   "cell_type": "code",
   "execution_count": 328,
   "metadata": {},
   "outputs": [],
   "source": [
    "df=pd.read_csv(os.path.join(path_to_data,\"classification\",country,\"qualtrics-download-v1\",\"labor-market-tweets.csv\"))\n",
    "df.columns.name='question'"
   ]
  },
  {
   "cell_type": "code",
   "execution_count": 329,
   "metadata": {},
   "outputs": [
    {
     "name": "stdout",
     "output_type": "stream",
     "text": [
      "Median Duration: 727.0 sec\n"
     ]
    }
   ],
   "source": [
    "print('Median Duration:', df['Duration (in seconds)'].drop([0,1]).astype(int).median(),'sec')"
   ]
  },
  {
   "cell_type": "code",
   "execution_count": 330,
   "metadata": {},
   "outputs": [
    {
     "name": "stdout",
     "output_type": "stream",
     "text": [
      "Min Duration: 201 sec\n"
     ]
    }
   ],
   "source": [
    "print('Min Duration:', df['Duration (in seconds)'].drop([0,1]).astype(int).min(),'sec')"
   ]
  },
  {
   "cell_type": "code",
   "execution_count": 331,
   "metadata": {},
   "outputs": [
    {
     "name": "stdout",
     "output_type": "stream",
     "text": [
      "Max Duration: 21888 sec\n"
     ]
    }
   ],
   "source": [
    "print('Max Duration:', df['Duration (in seconds)'].drop([0,1]).astype(int).max(),'sec')"
   ]
  },
  {
   "cell_type": "code",
   "execution_count": 332,
   "metadata": {},
   "outputs": [
    {
     "name": "stdout",
     "output_type": "stream",
     "text": [
      "Non-unique ID: False\n"
     ]
    }
   ],
   "source": [
    "print('Non-unique ID:', df.QIDWorker.unique().shape[0]!=df.QIDWorker.shape[0])"
   ]
  },
  {
   "cell_type": "code",
   "execution_count": 333,
   "metadata": {},
   "outputs": [
    {
     "name": "stdout",
     "output_type": "stream",
     "text": [
      "# Workers Who Refused the Consent Form: 0\n"
     ]
    }
   ],
   "source": [
    "print('# Workers Who Refused the Consent Form:', (df.QIDConsent.drop([0,1]).astype(int)==0).sum())"
   ]
  },
  {
   "cell_type": "code",
   "execution_count": 334,
   "metadata": {},
   "outputs": [
    {
     "name": "stdout",
     "output_type": "stream",
     "text": [
      "# Workers Who Did Not Complete the Survey: 3\n"
     ]
    }
   ],
   "source": [
    "print('# Workers Who Did Not Complete the Survey:', (df.Finished.drop([0,1]).astype(int)==0).sum())"
   ]
  },
  {
   "cell_type": "code",
   "execution_count": 335,
   "metadata": {},
   "outputs": [
    {
     "data": {
      "text/plain": [
       "[OrderedDict([('lat', '42.57952'),\n",
       "              ('lon', '1.65362'),\n",
       "              ('name', 'El Tarter'),\n",
       "              ('admin1', 'Canillo'),\n",
       "              ('admin2', ''),\n",
       "              ('cc', 'AD')]),\n",
       " OrderedDict([('lat', '42.57952'),\n",
       "              ('lon', '1.65362'),\n",
       "              ('name', 'El Tarter'),\n",
       "              ('admin1', 'Canillo'),\n",
       "              ('admin2', ''),\n",
       "              ('cc', 'AD')]),\n",
       " OrderedDict([('lat', '42.57952'),\n",
       "              ('lon', '1.65362'),\n",
       "              ('name', 'El Tarter'),\n",
       "              ('admin1', 'Canillo'),\n",
       "              ('admin2', ''),\n",
       "              ('cc', 'AD')]),\n",
       " OrderedDict([('lat', '42.57952'),\n",
       "              ('lon', '1.65362'),\n",
       "              ('name', 'El Tarter'),\n",
       "              ('admin1', 'Canillo'),\n",
       "              ('admin2', ''),\n",
       "              ('cc', 'AD')]),\n",
       " OrderedDict([('lat', '42.57952'),\n",
       "              ('lon', '1.65362'),\n",
       "              ('name', 'El Tarter'),\n",
       "              ('admin1', 'Canillo'),\n",
       "              ('admin2', ''),\n",
       "              ('cc', 'AD')]),\n",
       " OrderedDict([('lat', '42.57952'),\n",
       "              ('lon', '1.65362'),\n",
       "              ('name', 'El Tarter'),\n",
       "              ('admin1', 'Canillo'),\n",
       "              ('admin2', ''),\n",
       "              ('cc', 'AD')]),\n",
       " OrderedDict([('lat', '42.57952'),\n",
       "              ('lon', '1.65362'),\n",
       "              ('name', 'El Tarter'),\n",
       "              ('admin1', 'Canillo'),\n",
       "              ('admin2', ''),\n",
       "              ('cc', 'AD')]),\n",
       " OrderedDict([('lat', '42.57952'),\n",
       "              ('lon', '1.65362'),\n",
       "              ('name', 'El Tarter'),\n",
       "              ('admin1', 'Canillo'),\n",
       "              ('admin2', ''),\n",
       "              ('cc', 'AD')]),\n",
       " OrderedDict([('lat', '42.57952'),\n",
       "              ('lon', '1.65362'),\n",
       "              ('name', 'El Tarter'),\n",
       "              ('admin1', 'Canillo'),\n",
       "              ('admin2', ''),\n",
       "              ('cc', 'AD')]),\n",
       " OrderedDict([('lat', '42.57952'),\n",
       "              ('lon', '1.65362'),\n",
       "              ('name', 'El Tarter'),\n",
       "              ('admin1', 'Canillo'),\n",
       "              ('admin2', ''),\n",
       "              ('cc', 'AD')]),\n",
       " OrderedDict([('lat', '42.57952'),\n",
       "              ('lon', '1.65362'),\n",
       "              ('name', 'El Tarter'),\n",
       "              ('admin1', 'Canillo'),\n",
       "              ('admin2', ''),\n",
       "              ('cc', 'AD')]),\n",
       " OrderedDict([('lat', '42.57952'),\n",
       "              ('lon', '1.65362'),\n",
       "              ('name', 'El Tarter'),\n",
       "              ('admin1', 'Canillo'),\n",
       "              ('admin2', ''),\n",
       "              ('cc', 'AD')]),\n",
       " OrderedDict([('lat', '42.57952'),\n",
       "              ('lon', '1.65362'),\n",
       "              ('name', 'El Tarter'),\n",
       "              ('admin1', 'Canillo'),\n",
       "              ('admin2', ''),\n",
       "              ('cc', 'AD')]),\n",
       " OrderedDict([('lat', '42.57952'),\n",
       "              ('lon', '1.65362'),\n",
       "              ('name', 'El Tarter'),\n",
       "              ('admin1', 'Canillo'),\n",
       "              ('admin2', ''),\n",
       "              ('cc', 'AD')]),\n",
       " OrderedDict([('lat', '42.57952'),\n",
       "              ('lon', '1.65362'),\n",
       "              ('name', 'El Tarter'),\n",
       "              ('admin1', 'Canillo'),\n",
       "              ('admin2', ''),\n",
       "              ('cc', 'AD')]),\n",
       " OrderedDict([('lat', '42.57952'),\n",
       "              ('lon', '1.65362'),\n",
       "              ('name', 'El Tarter'),\n",
       "              ('admin1', 'Canillo'),\n",
       "              ('admin2', ''),\n",
       "              ('cc', 'AD')]),\n",
       " OrderedDict([('lat', '42.57952'),\n",
       "              ('lon', '1.65362'),\n",
       "              ('name', 'El Tarter'),\n",
       "              ('admin1', 'Canillo'),\n",
       "              ('admin2', ''),\n",
       "              ('cc', 'AD')]),\n",
       " OrderedDict([('lat', '42.57952'),\n",
       "              ('lon', '1.65362'),\n",
       "              ('name', 'El Tarter'),\n",
       "              ('admin1', 'Canillo'),\n",
       "              ('admin2', ''),\n",
       "              ('cc', 'AD')]),\n",
       " OrderedDict([('lat', '42.57952'),\n",
       "              ('lon', '1.65362'),\n",
       "              ('name', 'El Tarter'),\n",
       "              ('admin1', 'Canillo'),\n",
       "              ('admin2', ''),\n",
       "              ('cc', 'AD')])]"
      ]
     },
     "execution_count": 335,
     "metadata": {},
     "output_type": "execute_result"
    }
   ],
   "source": [
    "rg.search([tuple(x) for x in df[['LocationLatitude','LocationLongitude']].drop([0,1]).astype(float).dropna().values.tolist()])"
   ]
  },
  {
   "cell_type": "code",
   "execution_count": 459,
   "metadata": {},
   "outputs": [
    {
     "data": {
      "text/plain": [
       "Index(['A1PUHCEBSOWETV', 'A2DNLHS1RSTF5R', 'A2UO3QJZNC2VOE'], dtype='object', name='QIDWorker')"
      ]
     },
     "execution_count": 459,
     "metadata": {},
     "output_type": "execute_result"
    }
   ],
   "source": [
    "to_drop=(df.drop([0,1]).set_index('QIDWorker').filter(regex='check-0').stack(\n",
    ").groupby('QIDWorker').apply(lambda x:'_'.join(x))=='1_1_2_2_2').where(lambda x:x!=True).dropna().index.union(\n",
    "(df.drop([0,1]).set_index('QIDWorker').filter(regex='check-1').stack(\n",
    ").groupby('QIDWorker').apply(lambda x:'_'.join(x))=='2_2_2_1_2').where(lambda x:x!=True).dropna().index)\n",
    "to_drop"
   ]
  },
  {
   "cell_type": "code",
   "execution_count": 460,
   "metadata": {},
   "outputs": [],
   "source": [
    "questions=sorted([x for x in df.columns[19:-1] if 'check' not in x])"
   ]
  },
  {
   "cell_type": "code",
   "execution_count": 461,
   "metadata": {},
   "outputs": [],
   "source": [
    "results=pd.concat([\n",
    "df.drop([0,1]).set_index('QIDWorker')[questions].rename(\n",
    "columns=lambda x:x.split('_')[0]).stack().groupby(\n",
    "['QIDWorker','question']).apply(\n",
    "lambda x:'_'.join(x)).drop(to_drop,level='QIDWorker').groupby(\n",
    "'question').count().rename('n_count'),\n",
    "df.drop([0,1]).set_index('QIDWorker')[questions].rename(\n",
    "columns=lambda x:x.split('_')[0]).stack().groupby(\n",
    "['QIDWorker','question']).apply(\n",
    "lambda x:'_'.join(x)).drop(to_drop,level='QIDWorker').groupby(\n",
    "'question').nunique().rename('n_unique')],1)"
   ]
  },
  {
   "cell_type": "code",
   "execution_count": 462,
   "metadata": {},
   "outputs": [
    {
     "data": {
      "text/plain": [
       "0.5348837209302325"
      ]
     },
     "execution_count": 462,
     "metadata": {},
     "output_type": "execute_result"
    }
   ],
   "source": [
    "results[(results['n_count']>1)&(results['n_unique']==1)].shape[0]/results.shape[0]"
   ]
  }
 ],
 "metadata": {
  "kernelspec": {
   "display_name": "Python 3",
   "language": "python",
   "name": "python3"
  },
  "language_info": {
   "codemirror_mode": {
    "name": "ipython",
    "version": 3
   },
   "file_extension": ".py",
   "mimetype": "text/x-python",
   "name": "python",
   "nbconvert_exporter": "python",
   "pygments_lexer": "ipython3",
   "version": "3.7.6"
  }
 },
 "nbformat": 4,
 "nbformat_minor": 4
}
