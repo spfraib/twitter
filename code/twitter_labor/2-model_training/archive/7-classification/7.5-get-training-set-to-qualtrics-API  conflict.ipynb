{
 "cells": [
  {
   "cell_type": "markdown",
   "metadata": {},
   "source": [
    "References:\n",
    "\n",
    "- https://api.qualtrics.com/docs\n",
    "- https://api.qualtrics.com/reference\n",
    "- https://researcher-help.prolific.co/hc/en-gb/articles/360009220993-Recording-participant-IDs-in-your-study-survey\n",
    "- https://blog.mturk.com/getting-great-survey-results-from-mturk-and-qualtrics-be1704ff9786\n",
    "- https://www.cloudresearch.com/resources/blog/workerid-and-all-mturk-fields-sent-to-qualtrics/\n",
    "- https://medium.com/@jlroo/integrating-a-qualtrics-survey-with-amazon-mechanical-turk-561cdeebe239\n",
    "- https://blog.mturk.com/tutorial-understanding-requirements-and-qualifications-99a26069fba2"
   ]
  },
  {
   "cell_type": "code",
   "execution_count": 2,
   "metadata": {},
   "outputs": [
    {
     "name": "stdout",
     "output_type": "stream",
     "text": [
      "Hostname: Samuels-MBP\n",
      "US\n",
      "# n_workers: 20\n",
      "block_size: 50\n"
     ]
    }
   ],
   "source": [
    "import socket\n",
    "import pandas as pd\n",
    "from timeit import default_timer as timer\n",
    "import os\n",
    "import requests\n",
    "import json\n",
    "import numpy as np\n",
    "import pyarrow.parquet as pq\n",
    "from glob import glob\n",
    "\n",
    "print('Hostname:', socket.gethostname())\n",
    "if 'samuel' in socket.gethostname().lower():\n",
    "    path_to_data='../../data'\n",
    "else:\n",
    "    path_to_data='/scratch/spf248/twitter/data'\n",
    "    \n",
    "# Setting user Parameters\n",
    "with open(os.path.join(path_to_data,'keys/qualtrics/apiToken'),'r') as f:\n",
    "    apiToken = eval(f.readline())\n",
    "dataCenter = \"nyu.ca1\"\n",
    "SurveyName = \"labor-market-tweets\"\n",
    "SurveySourceID = \"SV_4VMcMBs2MXU1tdz\"\n",
    "QuestionTemplateID = \"QID1\"\n",
    "QuestionConsentID = \"QID2\"\n",
    "QuestionWorkerID = \"QID3\"\n",
    "QuestionCompletionID = \"QID4\"\n",
    "QuestionDescriptionID = \"QID5\"\n",
    "\n",
    "country_code = \"US\"\n",
    "n_workers = 20 # Number of workers\n",
    "block_size = 50 # Number of tweets per worker\n",
    "print(country_code)\n",
    "print('# n_workers:', n_workers)\n",
    "print('block_size:', block_size)"
   ]
  },
  {
   "cell_type": "markdown",
   "metadata": {},
   "source": [
    "# Import Sample"
   ]
  },
  {
   "cell_type": "code",
   "execution_count": 3,
   "metadata": {},
   "outputs": [
    {
     "name": "stdout",
     "output_type": "stream",
     "text": [
      "Attention Checks:\n",
      "\n",
      "I lost my job today.\n",
      "I got hired today.\n"
     ]
    }
   ],
   "source": [
    "checks={'US':['I lost my job today.','I got hired today.']}[country_code]\n",
    "print('Attention Checks:\\n')\n",
    "print('\\n'.join(checks))"
   ]
  },
  {
   "cell_type": "code",
   "execution_count": 4,
   "metadata": {},
   "outputs": [
    {
     "name": "stdout",
     "output_type": "stream",
     "text": [
      "# Tweets (2 workers per tweets + 2 attention checks): 480\n",
      "# Unique Tweets: 480\n"
     ]
    }
   ],
   "source": [
    "n_tweets = n_workers*(block_size-len(checks))//2 \n",
    "print('# Tweets (2 workers per tweets + 2 attention checks):', n_tweets)\n",
    "\n",
    "tweets=pq.ParquetDataset(glob(os.path.join(path_to_data,'classification',country_code,'labeling','*.parquet'))).read().to_pandas()\n",
    "tweets=tweets.sample(n=n_tweets,random_state=0)\n",
    "print('# Unique Tweets:', tweets.drop_duplicates('tweet_id').shape[0])"
   ]
  },
  {
   "cell_type": "code",
   "execution_count": 5,
   "metadata": {},
   "outputs": [
    {
     "name": "stdout",
     "output_type": "stream",
     "text": [
      "Keywords:\n",
      "\n",
      "fired\n",
      "hired\n",
      "job\n",
      "laid_off\n",
      "position\n",
      "quit\n",
      "random\n",
      "unemployed\n",
      "work\n"
     ]
    }
   ],
   "source": [
    "keywords=sorted(tweets['keyword'].unique())\n",
    "print('Keywords:\\n')\n",
    "print('\\n'.join(keywords))"
   ]
  },
  {
   "cell_type": "code",
   "execution_count": 6,
   "metadata": {},
   "outputs": [
    {
     "name": "stdout",
     "output_type": "stream",
     "text": [
      "Targets:\n",
      "\n",
      "random\n",
      "target_anyone_hiring\n",
      "target_here_is_a_job_opportunity_you_might_be_interested_in\n",
      "target_i_am_currently_not_working\n",
      "target_i_am_searching_for_a_new_position\n",
      "target_i_got_hired_today\n",
      "target_i_lost_my_job_today\n",
      "target_i_recently_started_working_at_my_new_job\n",
      "target_i_was_fired_earlier_this_week\n",
      "target_looking_for_a_new_position\n",
      "target_now_i_am_unemployed\n"
     ]
    }
   ],
   "source": [
    "targets=sorted(tweets['target'].unique())\n",
    "print('Targets:\\n')\n",
    "print('\\n'.join(targets))"
   ]
  },
  {
   "cell_type": "code",
   "execution_count": 31,
   "metadata": {},
   "outputs": [],
   "source": [
    "tweets_0=tweets.sample(frac=1,random_state=0).set_index('tweet_id')['text']\n",
    "tweets_0.index=tweets_0.index.map(lambda x:x+'-v0')\n",
    "tweets_1=tweets.sample(frac=1,random_state=1).set_index('tweet_id')['text']\n",
    "tweets_1.index=tweets_1.index.map(lambda x:x+'-v1')\n",
    "\n",
    "# Split tweets into chunks with two labels per tweet\n",
    "chunks=np.array_split(pd.concat([tweets_0,tweets_1]),n_workers)"
   ]
  },
  {
   "cell_type": "code",
   "execution_count": 32,
   "metadata": {},
   "outputs": [],
   "source": [
    "# Add Attention Checks\n",
    "tweets_to_label=pd.concat([chunk.append(pd.Series({\n",
    "'check-0-worker-'+str(i):checks[0],\n",
    "'check-1-worker-'+str(i):checks[1]})).sample(frac=1,random_state=0) \n",
    "for i,chunk in enumerate(chunks)])"
   ]
  },
  {
   "cell_type": "code",
   "execution_count": 33,
   "metadata": {},
   "outputs": [
    {
     "name": "stdout",
     "output_type": "stream",
     "text": [
      "# Tweets to label: 1000\n"
     ]
    }
   ],
   "source": [
    "print('# Tweets to label:', tweets_to_label.shape[0])"
   ]
  },
  {
   "cell_type": "markdown",
   "metadata": {},
   "source": [
    "# Library"
   ]
  },
  {
   "cell_type": "code",
   "execution_count": 8,
   "metadata": {},
   "outputs": [],
   "source": [
    "def create_survey(SurveyName=\"MySurvey\", apiToken=apiToken, dataCenter=dataCenter):\n",
    "\n",
    "    baseUrl = \"https://{0}.qualtrics.com/API/v3/survey-definitions\".format(\n",
    "        dataCenter)\n",
    "    \n",
    "    headers = {\n",
    "        \"x-api-token\": apiToken,\n",
    "        \"content-type\": \"application/json\",\n",
    "        \"Accept\": \"application/json\"\n",
    "    }\n",
    "\n",
    "    data = {\n",
    "        \"SurveyName\": SurveyName,\n",
    "        \"Language\": \"EN\",\n",
    "        \"ProjectCategory\": \"CORE\"\n",
    "    }\n",
    "\n",
    "    response = requests.post(baseUrl, json=data, headers=headers)\n",
    "    \n",
    "    if json.loads(response.text)[\"meta\"][\"httpStatus\"] != '200 - OK':\n",
    "        print(json.loads(response.text)[\"meta\"][\"httpStatus\"])\n",
    "    \n",
    "    SurveyID = json.loads(response.text)['result']['SurveyID']\n",
    "    DefaultBlockID = json.loads(response.text)['result']['DefaultBlockID']\n",
    "\n",
    "    return SurveyID, DefaultBlockID"
   ]
  },
  {
   "cell_type": "code",
   "execution_count": 9,
   "metadata": {},
   "outputs": [],
   "source": [
    "def get_options(SurveyID, apiToken=apiToken, dataCenter=dataCenter):\n",
    "\n",
    "    baseUrl = \"https://{0}.qualtrics.com/API/v3/survey-definitions/{1}/options\".format(\n",
    "        dataCenter, SurveyID)\n",
    "    \n",
    "    headers = {\n",
    "        \"x-api-token\": apiToken,\n",
    "    }\n",
    "\n",
    "    response = requests.get(baseUrl, headers=headers)\n",
    "    \n",
    "    if json.loads(response.text)[\"meta\"][\"httpStatus\"] != '200 - OK':\n",
    "        print(json.loads(response.text)[\"meta\"][\"httpStatus\"])\n",
    "        \n",
    "    return json.loads(response.text)[\"result\"]"
   ]
  },
  {
   "cell_type": "code",
   "execution_count": 10,
   "metadata": {},
   "outputs": [],
   "source": [
    "def update_options(SurveyOptions, SurveyID, apiToken=apiToken, dataCenter=dataCenter):\n",
    "    \n",
    "    baseUrl = \"https://{0}.qualtrics.com/API/v3/survey-definitions/{1}/options\".format(\n",
    "        dataCenter, SurveyID)\n",
    "    \n",
    "    headers = {\n",
    "    'accept': \"application/json\",\n",
    "    \"content-type\": \"application/json\",\n",
    "    \"x-api-token\": apiToken,\n",
    "    }\n",
    "\n",
    "    response = requests.put(baseUrl, json=SurveyOptions, headers=headers)\n",
    "    \n",
    "    if json.loads(response.text)[\"meta\"][\"httpStatus\"] != '200 - OK':\n",
    "        print(json.loads(response.text)[\"meta\"][\"httpStatus\"])"
   ]
  },
  {
   "cell_type": "code",
   "execution_count": 11,
   "metadata": {},
   "outputs": [],
   "source": [
    "def get_flow(SurveyID, apiToken=apiToken, dataCenter=dataCenter):\n",
    "\n",
    "    baseUrl = \"https://{0}.qualtrics.com/API/v3/survey-definitions/{1}/flow\".format(\n",
    "        dataCenter, SurveyID)\n",
    "    \n",
    "    headers = {\n",
    "        \"x-api-token\": apiToken,\n",
    "    }\n",
    "\n",
    "    response = requests.get(baseUrl, headers=headers)\n",
    "    \n",
    "    if json.loads(response.text)[\"meta\"][\"httpStatus\"] != '200 - OK':\n",
    "        print(json.loads(response.text)[\"meta\"][\"httpStatus\"])\n",
    "        \n",
    "    return json.loads(response.text)[\"result\"]"
   ]
  },
  {
   "cell_type": "code",
   "execution_count": 12,
   "metadata": {},
   "outputs": [],
   "source": [
    "def update_flow(SurveyFlow, SurveyID, apiToken=apiToken, dataCenter=dataCenter):\n",
    "    \n",
    "    baseUrl = \"https://{0}.qualtrics.com/API/v3/survey-definitions/{1}/flow\".format(\n",
    "        dataCenter, SurveyID)\n",
    "    \n",
    "    headers = {\n",
    "    'accept': \"application/json\",\n",
    "    \"content-type\": \"application/json\",\n",
    "    \"x-api-token\": apiToken,\n",
    "    }\n",
    "\n",
    "    response = requests.put(baseUrl, json=SurveyFlow, headers=headers)\n",
    "    \n",
    "    if json.loads(response.text)[\"meta\"][\"httpStatus\"] != '200 - OK':\n",
    "        print(json.loads(response.text)[\"meta\"][\"httpStatus\"])"
   ]
  },
  {
   "cell_type": "code",
   "execution_count": 13,
   "metadata": {},
   "outputs": [],
   "source": [
    "def create_block(BlockName, SurveyID, apiToken=apiToken, dataCenter=dataCenter):\n",
    "    \n",
    "    baseUrl = \"https://{0}.qualtrics.com/API/v3/survey-definitions/{1}/blocks\".format(\n",
    "        dataCenter, SurveyID)\n",
    "\n",
    "    headers = {\n",
    "       'accept': \"application/json\",\n",
    "       'content-type': \"application/json\",\n",
    "       \"x-api-token\": apiToken,\n",
    "    }\n",
    "\n",
    "    BlockTemplate = {\n",
    "    \"Type\": \"Standard\",\n",
    "    \"Description\": BlockName,\n",
    "    }\n",
    "    \n",
    "    response = requests.post(baseUrl, json=BlockTemplate, headers=headers)\n",
    "    \n",
    "    if json.loads(response.text)[\"meta\"][\"httpStatus\"] != '200 - OK':\n",
    "        print(json.loads(response.text)[\"meta\"][\"httpStatus\"])\n",
    "    \n",
    "    BlockID = json.loads(response.text)['result']['BlockID']\n",
    "    FlowID = json.loads(response.text)['result']['FlowID']\n",
    "    \n",
    "    return BlockID, FlowID"
   ]
  },
  {
   "cell_type": "code",
   "execution_count": 14,
   "metadata": {},
   "outputs": [],
   "source": [
    "def get_block(BlockID, SurveyID, apiToken=apiToken, dataCenter=dataCenter):\n",
    "\n",
    "    baseUrl = \"https://{0}.qualtrics.com/API/v3/survey-definitions/{1}/blocks/{2}\".format(\n",
    "        dataCenter, SurveyID, BlockID)\n",
    "    \n",
    "    headers = {\n",
    "        \"x-api-token\": apiToken,\n",
    "    }\n",
    "\n",
    "    response = requests.get(baseUrl, headers=headers)\n",
    "    \n",
    "    if json.loads(response.text)[\"meta\"][\"httpStatus\"] != '200 - OK':\n",
    "        print(json.loads(response.text)[\"meta\"][\"httpStatus\"])\n",
    "        \n",
    "    return json.loads(response.text)[\"result\"]"
   ]
  },
  {
   "cell_type": "code",
   "execution_count": 15,
   "metadata": {},
   "outputs": [],
   "source": [
    "def update_block(BlockData, BlockID, SurveyID, apiToken=apiToken, dataCenter=dataCenter):\n",
    "\n",
    "    baseUrl = \"https://{0}.qualtrics.com/API/v3/survey-definitions/{1}/blocks/{2}\".format(\n",
    "        dataCenter, SurveyID, BlockID)\n",
    "\n",
    "    headers = {\n",
    "       'accept': \"application/json\",\n",
    "       'content-type': \"application/json\",\n",
    "       \"x-api-token\": apiToken,\n",
    "    }\n",
    "\n",
    "    response = requests.put(baseUrl, json=BlockData, headers=headers)\n",
    "    \n",
    "    if json.loads(response.text)[\"meta\"][\"httpStatus\"] != '200 - OK':\n",
    "        print(json.loads(response.text)[\"meta\"][\"httpStatus\"])"
   ]
  },
  {
   "cell_type": "code",
   "execution_count": 16,
   "metadata": {},
   "outputs": [],
   "source": [
    "def create_question(QuestionData, SurveyID, apiToken=apiToken, dataCenter=dataCenter):\n",
    "    \n",
    "    baseUrl = \"https://{0}.qualtrics.com/API/v3/survey-definitions/{1}/questions\".format(\n",
    "        dataCenter, SurveyID)\n",
    "\n",
    "    headers = {\n",
    "       'accept': \"application/json\",\n",
    "       'content-type': \"application/json\",\n",
    "       \"x-api-token\": apiToken,\n",
    "    }\n",
    "\n",
    "    response = requests.post(baseUrl, json=QuestionData, headers=headers)\n",
    "    \n",
    "    if json.loads(response.text)[\"meta\"][\"httpStatus\"] != '200 - OK':\n",
    "        print(json.loads(response.text)[\"meta\"][\"httpStatus\"])\n",
    "    \n",
    "    return json.loads(response.text)['result']['QuestionID']"
   ]
  },
  {
   "cell_type": "code",
   "execution_count": 17,
   "metadata": {},
   "outputs": [],
   "source": [
    "def get_question(QuestionID, SurveyID, apiToken=apiToken, dataCenter=dataCenter):\n",
    "\n",
    "    baseUrl = \"https://{0}.qualtrics.com/API/v3/survey-definitions/{1}/questions/{2}\".format(\n",
    "        dataCenter, SurveyID, QuestionID)\n",
    "    \n",
    "    headers = {\n",
    "        \"x-api-token\": apiToken,\n",
    "    }\n",
    "\n",
    "    response = requests.get(baseUrl, headers=headers)\n",
    "    \n",
    "    if json.loads(response.text)[\"meta\"][\"httpStatus\"] != '200 - OK':\n",
    "        print(json.loads(response.text)[\"meta\"][\"httpStatus\"])\n",
    "        \n",
    "    return json.loads(response.text)[\"result\"]"
   ]
  },
  {
   "cell_type": "code",
   "execution_count": 18,
   "metadata": {},
   "outputs": [],
   "source": [
    "def update_question(QuestionData, QuestionID, SurveyID, apiToken=apiToken, dataCenter=dataCenter):\n",
    "\n",
    "    baseUrl = \"https://{0}.qualtrics.com/API/v3/survey-definitions/{1}/questions/{2}\".format(\n",
    "        dataCenter, SurveyID, QuestionID)\n",
    "\n",
    "    headers = {\n",
    "       'accept': \"application/json\",\n",
    "       'content-type': \"application/json\",\n",
    "       \"x-api-token\": apiToken,\n",
    "    }\n",
    "\n",
    "    response = requests.put(baseUrl, json=QuestionData, headers=headers)\n",
    "    \n",
    "    if json.loads(response.text)[\"meta\"][\"httpStatus\"] != '200 - OK':\n",
    "        print(json.loads(response.text)[\"meta\"][\"httpStatus\"])"
   ]
  },
  {
   "cell_type": "markdown",
   "metadata": {},
   "source": [
    "# Create Survey"
   ]
  },
  {
   "cell_type": "code",
   "execution_count": 19,
   "metadata": {},
   "outputs": [
    {
     "name": "stdout",
     "output_type": "stream",
     "text": [
      "Create New Survey\n",
      "Done in 2 sec\n"
     ]
    }
   ],
   "source": [
    "print('Create New Survey')\n",
    "start = timer()\n",
    "\n",
    "SurveyID, BlockID = create_survey(SurveyName)\n",
    "\n",
    "print(\"Done in\", round(timer()-start), \"sec\")"
   ]
  },
  {
   "cell_type": "code",
   "execution_count": 20,
   "metadata": {},
   "outputs": [
    {
     "name": "stdout",
     "output_type": "stream",
     "text": [
      "Fetch Template Question\n"
     ]
    }
   ],
   "source": [
    "print('Fetch Template Question')\n",
    "QuestionTemplateData = get_question(QuestionTemplateID, SurveySourceID)"
   ]
  },
  {
   "cell_type": "code",
   "execution_count": 21,
   "metadata": {},
   "outputs": [
    {
     "name": "stdout",
     "output_type": "stream",
     "text": [
      "Create Questions\n",
      "Block 1\n",
      "Block 2\n",
      "Block 3\n",
      "Block 4\n",
      "Block 5\n",
      "Block 6\n",
      "Block 7\n",
      "Block 8\n",
      "Block 9\n",
      "Block 10\n",
      "Block 11\n",
      "Block 12\n",
      "Block 13\n",
      "Block 14\n",
      "Block 15\n",
      "Block 16\n",
      "Block 17\n",
      "Block 18\n",
      "Block 19\n",
      "Block 20\n",
      "Done in 1602 sec\n"
     ]
    }
   ],
   "source": [
    "start = timer()\n",
    "print(\"Create Questions\")\n",
    "\n",
    "for i,(tweet_id, tweet) in enumerate(tweets_to_label.iteritems()):\n",
    "    \n",
    "    if i%block_size==0:\n",
    "        \n",
    "        BlockData = get_block(BlockID, SurveyID)\n",
    "        BlockData['Type'] = 'Standard'\n",
    "        update_block(BlockData, BlockID, SurveyID)\n",
    "\n",
    "        print('Block', i//block_size+1)\n",
    "        BlockID, FlowID = create_block(\"Worker \"+str(i//block_size+1), SurveyID)\n",
    "        \n",
    "        BlockData = get_block(BlockID, SurveyID)\n",
    "        BlockData['Type'] = 'Default'\n",
    "        update_block(BlockData, BlockID, SurveyID)\n",
    "\n",
    "    text='Please answer the following questions about the following tweet:\\n\\n\"'+tweet+'\"\"'\n",
    "    QuestionID = create_question(QuestionTemplateData, SurveyID)\n",
    "    QuestionData = get_question(QuestionID, SurveyID)\n",
    "    QuestionData['QuestionText'] = tweet\n",
    "    QuestionData['QuestionDescription'] = tweet\n",
    "    QuestionData['QuestionText_Unsafe'] = tweet\n",
    "    QuestionData['DataExportTag'] = 'ID_'+tweet_id\n",
    "    update_question(QuestionData, QuestionID, SurveyID)\n",
    "    \n",
    "    if i%block_size==0:\n",
    "        \n",
    "        BlockData = get_block(BlockID, SurveyID)\n",
    "        BlockData['Options'] = {\n",
    "        \"BlockLocking\": \"false\",\n",
    "        \"RandomizeQuestions\": \"false\",\n",
    "        \"BlockVisibility\": \"Collapsed\",\n",
    "        }\n",
    "        update_block(BlockData, BlockID, SurveyID)\n",
    "        \n",
    "print(\"Done in\", round(timer()-start), \"sec\")"
   ]
  },
  {
   "cell_type": "code",
   "execution_count": 22,
   "metadata": {},
   "outputs": [
    {
     "name": "stdout",
     "output_type": "stream",
     "text": [
      "Create Completion Block\n",
      "Create Completion Question\n",
      "Close Block\n"
     ]
    }
   ],
   "source": [
    "BlockData = get_block(BlockID, SurveyID)\n",
    "BlockData['Type'] = 'Standard'\n",
    "update_block(BlockData, BlockID, SurveyID)\n",
    "\n",
    "print('Create Completion Block')\n",
    "BlockID, FlowID = create_block(\"Completion\", SurveyID)\n",
    "\n",
    "BlockData = get_block(BlockID, SurveyID)\n",
    "BlockData['Type'] = 'Default'\n",
    "update_block(BlockData, BlockID, SurveyID)\n",
    "\n",
    "print('Create Completion Question')\n",
    "QuestionCompletionData = get_question(QuestionCompletionID, SurveySourceID)\n",
    "QuestionID = create_question(QuestionCompletionData, SurveyID)\n",
    "QuestionData = get_question(QuestionID, SurveyID)\n",
    "QuestionData['DataExportTag'] = 'QIDCompletion'\n",
    "update_question(QuestionData, QuestionID, SurveyID)\n",
    "\n",
    "print('Close Block')\n",
    "BlockData = get_block(BlockID, SurveyID)\n",
    "BlockData['Options'] = {\n",
    "\"BlockLocking\": \"false\",\n",
    "\"RandomizeQuestions\": \"false\",\n",
    "\"BlockVisibility\": \"Collapsed\",\n",
    "}\n",
    "update_block(BlockData, BlockID, SurveyID)"
   ]
  },
  {
   "cell_type": "code",
   "execution_count": 23,
   "metadata": {},
   "outputs": [
    {
     "name": "stdout",
     "output_type": "stream",
     "text": [
      "Randomize Survey Flow\n",
      "Embbeded Worker ID\n"
     ]
    }
   ],
   "source": [
    "SurveyFlow = get_flow(SurveyID)\n",
    "\n",
    "print('Randomize Survey Flow')\n",
    "# Create a Randomizer Drawing One Block At Random Except Intro And Completion Block\n",
    "Randomizer = {\n",
    "'Type': 'BlockRandomizer',\n",
    "'FlowID': 'FL_'+str(max([int(el['FlowID'].split('_')[1]) for el in SurveyFlow['Flow']])+1),\n",
    "'SubSet': '1',\n",
    "'EvenPresentation': True,\n",
    "'Flow':SurveyFlow['Flow'][1:-1]}\n",
    "\n",
    "SurveyFlow['Flow'] = [\n",
    "SurveyFlow['Flow'][0],\n",
    "Randomizer,\n",
    "SurveyFlow['Flow'][-1],\n",
    "]\n",
    "\n",
    "SurveyFlow['Properties']['Count']+=1\n",
    "SurveyFlow['Properties'].update({'RemovedFieldsets': []})\n",
    "\n",
    "print('Embbeded Worker ID')\n",
    "EmbeddedData = {'Type': 'EmbeddedData',\n",
    " 'FlowID': 'FL_'+str(max([int(el['FlowID'].split('_')[1]) for el in SurveyFlow['Flow']])+1),\n",
    " 'EmbeddedData': [{'Description': 'Random ID',\n",
    "   'Type': 'Custom',\n",
    "   'Field': 'Random ID',\n",
    "   'VariableType': 'String',\n",
    "   'DataVisibility': [],\n",
    "   'AnalyzeText': False,\n",
    "   'Value': '${rand://int/1000000000:9999999999}'}]}\n",
    "\n",
    "SurveyFlow['Flow'] = [EmbeddedData]+SurveyFlow['Flow']\n",
    "SurveyFlow['Properties']['Count']+=1\n",
    "\n",
    "update_flow(SurveyFlow, SurveyID)"
   ]
  },
  {
   "cell_type": "code",
   "execution_count": 24,
   "metadata": {},
   "outputs": [
    {
     "name": "stdout",
     "output_type": "stream",
     "text": [
      "Add Consent Question\n",
      "Add Worker ID Question\n",
      "Add Description Question\n",
      "Close Intro Block\n"
     ]
    }
   ],
   "source": [
    "# Switch Default Block From Current ...\n",
    "BlockData = get_block(BlockID, SurveyID)\n",
    "BlockData['Type'] = 'Standard'\n",
    "update_block(BlockData, BlockID, SurveyID)\n",
    "\n",
    "# ... to Intro\n",
    "BlockID = SurveyFlow['Flow'][1]['ID']\n",
    "BlockData = get_block(BlockID, SurveyID)\n",
    "BlockData['Type'] = 'Default'\n",
    "update_block(BlockData, BlockID, SurveyID)\n",
    "\n",
    "print('Add Consent Question')\n",
    "QuestionConsentData = get_question(QuestionConsentID, SurveySourceID)\n",
    "QuestionID = create_question(QuestionConsentData, SurveyID)\n",
    "QuestionData = get_question(QuestionID, SurveyID)\n",
    "QuestionData['DataExportTag'] = 'QIDConsent'\n",
    "update_question(QuestionData, QuestionID, SurveyID)\n",
    "\n",
    "print('Add Worker ID Question')\n",
    "QuestionWorkerData = get_question(QuestionWorkerID, SurveySourceID)\n",
    "QuestionID = create_question(QuestionWorkerData, SurveyID)\n",
    "QuestionData = get_question(QuestionID, SurveyID)\n",
    "QuestionData['DataExportTag'] = 'QIDWorker'\n",
    "update_question(QuestionData, QuestionID, SurveyID)\n",
    "\n",
    "print('Add Description Question')\n",
    "QuestionDescriptionData = get_question(QuestionDescriptionID, SurveySourceID)\n",
    "QuestionID = create_question(QuestionDescriptionData, SurveyID)\n",
    "QuestionData = get_question(QuestionID, SurveyID)\n",
    "QuestionData['DataExportTag'] = 'QIDDescription'\n",
    "update_question(QuestionData, QuestionID, SurveyID)\n",
    "\n",
    "print('Close Intro Block')\n",
    "BlockData = get_block(BlockID, SurveyID)\n",
    "BlockData['Options'] = {\n",
    "\"BlockLocking\": \"false\",\n",
    "\"RandomizeQuestions\": \"false\",\n",
    "\"BlockVisibility\": \"Collapsed\",\n",
    "}\n",
    "BlockData['Description'] = 'Intro'\n",
    "update_block(BlockData, BlockID, SurveyID)"
   ]
  },
  {
   "cell_type": "code",
   "execution_count": 25,
   "metadata": {},
   "outputs": [
    {
     "name": "stdout",
     "output_type": "stream",
     "text": [
      "Update Survey Options\n"
     ]
    }
   ],
   "source": [
    "print('Update Survey Options')\n",
    "\n",
    "SurveyOptions = get_options(SurveyID)\n",
    "\n",
    "SurveyOptions.update({\n",
    " 'BackButton': 'false',\n",
    " 'SaveAndContinue': 'true',\n",
    " 'SurveyProtection': 'PublicSurvey',\n",
    " 'BallotBoxStuffingPrevention': 'true',\n",
    " 'NoIndex': 'Yes',\n",
    " 'SecureResponseFiles': 'true',\n",
    " 'SurveyExpiration': None,\n",
    " 'SurveyTermination': 'DefaultMessage',\n",
    " 'Header': '',\n",
    " 'Footer': '',\n",
    " 'ProgressBarDisplay': 'None',\n",
    " 'PartialData': '+3 days',\n",
    " 'PreviousButton': ' ← ',\n",
    " 'NextButton': ' → ',\n",
    " 'SkinLibrary': 'nyu',\n",
    " 'SkinType': 'templated',\n",
    " 'Skin': {'brandingId': None,\n",
    "  'templateId': '*base',\n",
    "  'overrides': {'contrast': 0.3, 'questionsContainer': {'on': True}}},\n",
    " 'NewScoring': 1,\n",
    " 'CustomStyles': [],\n",
    " 'QuestionsPerPage': '1',\n",
    " 'PageTransition': 'fade',\n",
    " 'EOSMessage': '',\n",
    " 'ShowExportTags': 'false',\n",
    " 'CollectGeoLocation': 'false',\n",
    " 'SurveyTitle': 'Online Survey Software | Qualtrics Survey Solutions',\n",
    " 'SurveyMetaDescription': 'Qualtrics sophisticated online survey software solutions make creating online surveys easy. Learn more about Research Suite and get a free account today.',\n",
    " 'PasswordProtection': 'No',\n",
    " 'AnonymizeResponse': 'No',\n",
    " 'Password': '',\n",
    " 'RefererCheck': 'No',\n",
    " 'RefererURL': 'http://',\n",
    " 'UseCustomSurveyLinkCompletedMessage': None,\n",
    " 'SurveyLinkCompletedMessage': '',\n",
    " 'SurveyLinkCompletedMessageLibrary': '',\n",
    " 'ResponseSummary': 'No',\n",
    " 'EOSMessageLibrary': '',\n",
    " 'EmailThankYou': 'false',\n",
    " 'ThankYouEmailMessageLibrary': None,\n",
    " 'ThankYouEmailMessage': None,\n",
    " 'ValidateMessage': 'false',\n",
    " 'ValidationMessageLibrary': None,\n",
    " 'InactiveSurvey': 'DefaultMessage',\n",
    " 'PartialDataCloseAfter': 'LastActivity',\n",
    " 'ActiveResponseSet': None,\n",
    " 'InactiveMessageLibrary': '',\n",
    " 'InactiveMessage': '',\n",
    " 'AvailableLanguages': {'EN': []},\n",
    " 'SurveyLanguage': 'EN',\n",
    " 'SurveyStartDate': None,\n",
    " 'SurveyExpirationDate': None})\n",
    "\n",
    "update_options(SurveyOptions, SurveyID)"
   ]
  }
 ],
 "metadata": {
  "kernelspec": {
   "display_name": "Python 3",
   "language": "python",
   "name": "python3"
  },
  "language_info": {
   "codemirror_mode": {
    "name": "ipython",
    "version": 3
   },
   "file_extension": ".py",
   "mimetype": "text/x-python",
   "name": "python",
   "nbconvert_exporter": "python",
   "pygments_lexer": "ipython3",
   "version": "3.7.6"
  }
 },
 "nbformat": 4,
 "nbformat_minor": 2
}
