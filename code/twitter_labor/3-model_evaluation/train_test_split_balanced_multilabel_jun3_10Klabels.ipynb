{
 "cells": [
  {
   "cell_type": "code",
   "execution_count": 33,
   "metadata": {},
   "outputs": [],
   "source": [
    "import pandas as pd"
   ]
  },
  {
   "cell_type": "code",
   "execution_count": 34,
   "metadata": {},
   "outputs": [],
   "source": [
    "def convert_labels_to_bool(label):\n",
    "    if label == 'yes':\n",
    "        return True\n",
    "    elif label == 'no':\n",
    "        return False"
   ]
  },
  {
   "cell_type": "code",
   "execution_count": 37,
   "metadata": {},
   "outputs": [],
   "source": [
    "all_data_df = pd.read_pickle('/home/manuto/Documents/world_bank/bert_twitter_labor/code/twitter/data/jun2_multilabel/labels.pkl')\n",
    "all_data_df.columns = ['tweet_id', 'text', 'is_unemployed', 'lost_job_1mo', 'job_search', 'is_hired_1mo','job_offer']\n",
    "all_data_df = all_data_df[['tweet_id', 'text', 'lost_job_1mo', 'is_unemployed', 'job_search', 'is_hired_1mo', 'job_offer']]\n",
    "# convert labels to int\n",
    "for label in ['is_unemployed', 'lost_job_1mo', 'job_search', 'is_hired_1mo', 'job_offer']:\n",
    "    all_data_df[label] = all_data_df[label].apply(convert_labels_to_bool)\n",
    "    all_data_df = all_data_df[all_data_df[label].notna()].reset_index(drop=True)"
   ]
  },
  {
   "cell_type": "code",
   "execution_count": 62,
   "metadata": {},
   "outputs": [
    {
     "data": {
      "text/html": [
       "<div>\n",
       "<style scoped>\n",
       "    .dataframe tbody tr th:only-of-type {\n",
       "        vertical-align: middle;\n",
       "    }\n",
       "\n",
       "    .dataframe tbody tr th {\n",
       "        vertical-align: top;\n",
       "    }\n",
       "\n",
       "    .dataframe thead th {\n",
       "        text-align: right;\n",
       "    }\n",
       "</style>\n",
       "<table border=\"1\" class=\"dataframe\">\n",
       "  <thead>\n",
       "    <tr style=\"text-align: right;\">\n",
       "      <th></th>\n",
       "      <th>tweet_id</th>\n",
       "      <th>text</th>\n",
       "      <th>lost_job_1mo</th>\n",
       "      <th>is_unemployed</th>\n",
       "      <th>job_search</th>\n",
       "      <th>is_hired_1mo</th>\n",
       "      <th>job_offer</th>\n",
       "    </tr>\n",
       "  </thead>\n",
       "  <tbody>\n",
       "    <tr>\n",
       "      <th>0</th>\n",
       "      <td>470867540739383296</td>\n",
       "      <td>Is it true? 47% of Unemployed Americans Have J...</td>\n",
       "      <td>False</td>\n",
       "      <td>False</td>\n",
       "      <td>False</td>\n",
       "      <td>False</td>\n",
       "      <td>False</td>\n",
       "    </tr>\n",
       "    <tr>\n",
       "      <th>1</th>\n",
       "      <td>360093342517837824</td>\n",
       "      <td>Unemployed, Under-Employed, Unhappily Employed...</td>\n",
       "      <td>False</td>\n",
       "      <td>False</td>\n",
       "      <td>False</td>\n",
       "      <td>False</td>\n",
       "      <td>True</td>\n",
       "    </tr>\n",
       "    <tr>\n",
       "      <th>2</th>\n",
       "      <td>458751933139132417</td>\n",
       "      <td>Currently Unemployed and Looking to Expand you...</td>\n",
       "      <td>False</td>\n",
       "      <td>False</td>\n",
       "      <td>False</td>\n",
       "      <td>False</td>\n",
       "      <td>False</td>\n",
       "    </tr>\n",
       "    <tr>\n",
       "      <th>3</th>\n",
       "      <td>703677501579497472</td>\n",
       "      <td>Been unemployed for awhile? Contracting can he...</td>\n",
       "      <td>False</td>\n",
       "      <td>False</td>\n",
       "      <td>False</td>\n",
       "      <td>False</td>\n",
       "      <td>True</td>\n",
       "    </tr>\n",
       "    <tr>\n",
       "      <th>4</th>\n",
       "      <td>375336349336739840</td>\n",
       "      <td>Unemployed, Under-Employed, Unhappily Employed...</td>\n",
       "      <td>False</td>\n",
       "      <td>False</td>\n",
       "      <td>False</td>\n",
       "      <td>False</td>\n",
       "      <td>True</td>\n",
       "    </tr>\n",
       "  </tbody>\n",
       "</table>\n",
       "</div>"
      ],
      "text/plain": [
       "             tweet_id                                               text  \\\n",
       "0  470867540739383296  Is it true? 47% of Unemployed Americans Have J...   \n",
       "1  360093342517837824  Unemployed, Under-Employed, Unhappily Employed...   \n",
       "2  458751933139132417  Currently Unemployed and Looking to Expand you...   \n",
       "3  703677501579497472  Been unemployed for awhile? Contracting can he...   \n",
       "4  375336349336739840  Unemployed, Under-Employed, Unhappily Employed...   \n",
       "\n",
       "  lost_job_1mo is_unemployed job_search is_hired_1mo job_offer  \n",
       "0        False         False      False        False     False  \n",
       "1        False         False      False        False      True  \n",
       "2        False         False      False        False     False  \n",
       "3        False         False      False        False      True  \n",
       "4        False         False      False        False      True  "
      ]
     },
     "execution_count": 62,
     "metadata": {},
     "output_type": "execute_result"
    }
   ],
   "source": [
    "all_data_df.head()"
   ]
  },
  {
   "cell_type": "code",
   "execution_count": 64,
   "metadata": {},
   "outputs": [
    {
     "data": {
      "text/html": [
       "<div>\n",
       "<style scoped>\n",
       "    .dataframe tbody tr th:only-of-type {\n",
       "        vertical-align: middle;\n",
       "    }\n",
       "\n",
       "    .dataframe tbody tr th {\n",
       "        vertical-align: top;\n",
       "    }\n",
       "\n",
       "    .dataframe thead th {\n",
       "        text-align: right;\n",
       "    }\n",
       "</style>\n",
       "<table border=\"1\" class=\"dataframe\">\n",
       "  <thead>\n",
       "    <tr style=\"text-align: right;\">\n",
       "      <th></th>\n",
       "      <th>tweet_id</th>\n",
       "      <th>text</th>\n",
       "      <th>lost_job_1mo</th>\n",
       "      <th>is_unemployed</th>\n",
       "      <th>job_search</th>\n",
       "      <th>is_hired_1mo</th>\n",
       "      <th>job_offer</th>\n",
       "    </tr>\n",
       "  </thead>\n",
       "  <tbody>\n",
       "    <tr>\n",
       "      <th>1</th>\n",
       "      <td>360093342517837824</td>\n",
       "      <td>Unemployed, Under-Employed, Unhappily Employed...</td>\n",
       "      <td>False</td>\n",
       "      <td>False</td>\n",
       "      <td>False</td>\n",
       "      <td>False</td>\n",
       "      <td>True</td>\n",
       "    </tr>\n",
       "    <tr>\n",
       "      <th>3</th>\n",
       "      <td>703677501579497472</td>\n",
       "      <td>Been unemployed for awhile? Contracting can he...</td>\n",
       "      <td>False</td>\n",
       "      <td>False</td>\n",
       "      <td>False</td>\n",
       "      <td>False</td>\n",
       "      <td>True</td>\n",
       "    </tr>\n",
       "    <tr>\n",
       "      <th>4</th>\n",
       "      <td>375336349336739840</td>\n",
       "      <td>Unemployed, Under-Employed, Unhappily Employed...</td>\n",
       "      <td>False</td>\n",
       "      <td>False</td>\n",
       "      <td>False</td>\n",
       "      <td>False</td>\n",
       "      <td>True</td>\n",
       "    </tr>\n",
       "    <tr>\n",
       "      <th>6</th>\n",
       "      <td>756003159357599744</td>\n",
       "      <td>Baby I'm a boss and yah man unemployed</td>\n",
       "      <td>False</td>\n",
       "      <td>True</td>\n",
       "      <td>False</td>\n",
       "      <td>False</td>\n",
       "      <td>False</td>\n",
       "    </tr>\n",
       "    <tr>\n",
       "      <th>7</th>\n",
       "      <td>342709055619477504</td>\n",
       "      <td>I wake up shower and put different pajamas bac...</td>\n",
       "      <td>False</td>\n",
       "      <td>True</td>\n",
       "      <td>False</td>\n",
       "      <td>False</td>\n",
       "      <td>False</td>\n",
       "    </tr>\n",
       "  </tbody>\n",
       "</table>\n",
       "</div>"
      ],
      "text/plain": [
       "             tweet_id                                               text  \\\n",
       "1  360093342517837824  Unemployed, Under-Employed, Unhappily Employed...   \n",
       "3  703677501579497472  Been unemployed for awhile? Contracting can he...   \n",
       "4  375336349336739840  Unemployed, Under-Employed, Unhappily Employed...   \n",
       "6  756003159357599744             Baby I'm a boss and yah man unemployed   \n",
       "7  342709055619477504  I wake up shower and put different pajamas bac...   \n",
       "\n",
       "  lost_job_1mo is_unemployed job_search is_hired_1mo job_offer  \n",
       "1        False         False      False        False      True  \n",
       "3        False         False      False        False      True  \n",
       "4        False         False      False        False      True  \n",
       "6        False          True      False        False     False  \n",
       "7        False          True      False        False     False  "
      ]
     },
     "execution_count": 64,
     "metadata": {},
     "output_type": "execute_result"
    }
   ],
   "source": [
    "index_at_least_one_positive = (all_data_df[['is_unemployed', 'lost_job_1mo', 'job_search', 'is_hired_1mo', 'job_offer']].any(1)).where(all_data_df[['is_unemployed', 'lost_job_1mo', 'job_search', 'is_hired_1mo', 'job_offer']].any(1)).dropna().index\n",
    "positive_df = all_data_df[all_data_df.index.isin(index_at_least_one_positive)]\n",
    "positive_df.head()"
   ]
  },
  {
   "cell_type": "code",
   "execution_count": 65,
   "metadata": {},
   "outputs": [
    {
     "data": {
      "text/plain": [
       "(4782, 7)"
      ]
     },
     "execution_count": 65,
     "metadata": {},
     "output_type": "execute_result"
    }
   ],
   "source": [
    "positive_df.shape"
   ]
  },
  {
   "cell_type": "code",
   "execution_count": 66,
   "metadata": {},
   "outputs": [
    {
     "data": {
      "text/html": [
       "<div>\n",
       "<style scoped>\n",
       "    .dataframe tbody tr th:only-of-type {\n",
       "        vertical-align: middle;\n",
       "    }\n",
       "\n",
       "    .dataframe tbody tr th {\n",
       "        vertical-align: top;\n",
       "    }\n",
       "\n",
       "    .dataframe thead th {\n",
       "        text-align: right;\n",
       "    }\n",
       "</style>\n",
       "<table border=\"1\" class=\"dataframe\">\n",
       "  <thead>\n",
       "    <tr style=\"text-align: right;\">\n",
       "      <th></th>\n",
       "      <th>tweet_id</th>\n",
       "      <th>text</th>\n",
       "      <th>lost_job_1mo</th>\n",
       "      <th>is_unemployed</th>\n",
       "      <th>job_search</th>\n",
       "      <th>is_hired_1mo</th>\n",
       "      <th>job_offer</th>\n",
       "    </tr>\n",
       "  </thead>\n",
       "  <tbody>\n",
       "    <tr>\n",
       "      <th>0</th>\n",
       "      <td>470867540739383296</td>\n",
       "      <td>Is it true? 47% of Unemployed Americans Have J...</td>\n",
       "      <td>False</td>\n",
       "      <td>False</td>\n",
       "      <td>False</td>\n",
       "      <td>False</td>\n",
       "      <td>False</td>\n",
       "    </tr>\n",
       "    <tr>\n",
       "      <th>2</th>\n",
       "      <td>458751933139132417</td>\n",
       "      <td>Currently Unemployed and Looking to Expand you...</td>\n",
       "      <td>False</td>\n",
       "      <td>False</td>\n",
       "      <td>False</td>\n",
       "      <td>False</td>\n",
       "      <td>False</td>\n",
       "    </tr>\n",
       "    <tr>\n",
       "      <th>5</th>\n",
       "      <td>552287219239878656</td>\n",
       "      <td>So I guess\"sports &amp;amp; fishing enthusiast\"is ...</td>\n",
       "      <td>False</td>\n",
       "      <td>False</td>\n",
       "      <td>False</td>\n",
       "      <td>False</td>\n",
       "      <td>False</td>\n",
       "    </tr>\n",
       "    <tr>\n",
       "      <th>8</th>\n",
       "      <td>568080447441375233</td>\n",
       "      <td>Why is my family always asking me for money ? ...</td>\n",
       "      <td>False</td>\n",
       "      <td>False</td>\n",
       "      <td>False</td>\n",
       "      <td>False</td>\n",
       "      <td>False</td>\n",
       "    </tr>\n",
       "    <tr>\n",
       "      <th>11</th>\n",
       "      <td>370964537878396928</td>\n",
       "      <td>BROWN RECLUSE IN THE BATHROOM AT WORK LETS JUS...</td>\n",
       "      <td>False</td>\n",
       "      <td>False</td>\n",
       "      <td>False</td>\n",
       "      <td>False</td>\n",
       "      <td>False</td>\n",
       "    </tr>\n",
       "  </tbody>\n",
       "</table>\n",
       "</div>"
      ],
      "text/plain": [
       "              tweet_id                                               text  \\\n",
       "0   470867540739383296  Is it true? 47% of Unemployed Americans Have J...   \n",
       "2   458751933139132417  Currently Unemployed and Looking to Expand you...   \n",
       "5   552287219239878656  So I guess\"sports &amp; fishing enthusiast\"is ...   \n",
       "8   568080447441375233  Why is my family always asking me for money ? ...   \n",
       "11  370964537878396928  BROWN RECLUSE IN THE BATHROOM AT WORK LETS JUS...   \n",
       "\n",
       "   lost_job_1mo is_unemployed job_search is_hired_1mo job_offer  \n",
       "0         False         False      False        False     False  \n",
       "2         False         False      False        False     False  \n",
       "5         False         False      False        False     False  \n",
       "8         False         False      False        False     False  \n",
       "11        False         False      False        False     False  "
      ]
     },
     "execution_count": 66,
     "metadata": {},
     "output_type": "execute_result"
    }
   ],
   "source": [
    "negative_df = all_data_df[~all_data_df.index.isin(index_at_least_one_positive)]\n",
    "negative_df.head()"
   ]
  },
  {
   "cell_type": "code",
   "execution_count": 67,
   "metadata": {},
   "outputs": [
    {
     "data": {
      "text/plain": [
       "(4765, 7)"
      ]
     },
     "execution_count": 67,
     "metadata": {},
     "output_type": "execute_result"
    }
   ],
   "source": [
    "negative_df.shape"
   ]
  },
  {
   "cell_type": "code",
   "execution_count": 61,
   "metadata": {},
   "outputs": [
    {
     "data": {
      "text/plain": [
       "(9547, 7)"
      ]
     },
     "execution_count": 61,
     "metadata": {},
     "output_type": "execute_result"
    }
   ],
   "source": [
    "all_data_df.shape"
   ]
  },
  {
   "cell_type": "code",
   "execution_count": 19,
   "metadata": {},
   "outputs": [
    {
     "data": {
      "text/plain": [
       "0       True\n",
       "1       True\n",
       "2       True\n",
       "3       True\n",
       "4       True\n",
       "        ... \n",
       "9542    True\n",
       "9543    True\n",
       "9544    True\n",
       "9545    True\n",
       "9546    True\n",
       "Length: 9547, dtype: bool"
      ]
     },
     "execution_count": 19,
     "metadata": {},
     "output_type": "execute_result"
    }
   ],
   "source": [
    "(~all_data_df.all(1))"
   ]
  },
  {
   "cell_type": "code",
   "execution_count": null,
   "metadata": {},
   "outputs": [],
   "source": []
  }
 ],
 "metadata": {
  "kernelspec": {
   "display_name": "Python 3",
   "language": "python",
   "name": "python3"
  },
  "language_info": {
   "codemirror_mode": {
    "name": "ipython",
    "version": 3
   },
   "file_extension": ".py",
   "mimetype": "text/x-python",
   "name": "python",
   "nbconvert_exporter": "python",
   "pygments_lexer": "ipython3",
   "version": "3.7.4"
  }
 },
 "nbformat": 4,
 "nbformat_minor": 2
}
