{
 "cells": [
  {
   "cell_type": "code",
   "execution_count": 1,
   "metadata": {},
   "outputs": [],
   "source": [
    "import pandas as pd\n",
    "import math"
   ]
  },
  {
   "cell_type": "code",
   "execution_count": 2,
   "metadata": {},
   "outputs": [],
   "source": [
    "def determine_threshold(tweet_number_start,tweet_number_end, df):\n",
    "    NB_TOTAL = 0\n",
    "    NB_POS = 0\n",
    "    score_list = []\n",
    "    for i in range(tweet_number_start, tweet_number_end):\n",
    "        if not math.isnan(df['label'][i]):\n",
    "            NB_TOTAL = NB_TOTAL + 1\n",
    "            NB_POS = NB_POS + df['label'][i]\n",
    "        score_list.append(df['pos_model'][i])\n",
    "    share_POS = NB_POS/NB_TOTAL\n",
    "    score_list.sort()\n",
    "    print('Tweet range ', tweet_number_start, \"-\", tweet_number_end)\n",
    "    print('Share of positive tweets: ', share_POS)\n",
    "    print('Threshold: ', score_list[int((tweet_number_end - tweet_number_start)/2)])"
   ]
  },
  {
   "cell_type": "markdown",
   "metadata": {},
   "source": [
    "## BERT filtered is_hired_1mo"
   ]
  },
  {
   "cell_type": "code",
   "execution_count": 8,
   "metadata": {},
   "outputs": [
    {
     "data": {
      "text/html": [
       "<div>\n",
       "<style scoped>\n",
       "    .dataframe tbody tr th:only-of-type {\n",
       "        vertical-align: middle;\n",
       "    }\n",
       "\n",
       "    .dataframe tbody tr th {\n",
       "        vertical-align: top;\n",
       "    }\n",
       "\n",
       "    .dataframe thead th {\n",
       "        text-align: right;\n",
       "    }\n",
       "</style>\n",
       "<table border=\"1\" class=\"dataframe\">\n",
       "  <thead>\n",
       "    <tr style=\"text-align: right;\">\n",
       "      <th></th>\n",
       "      <th>tweet_id</th>\n",
       "      <th>pos_model</th>\n",
       "      <th>text</th>\n",
       "      <th>label</th>\n",
       "    </tr>\n",
       "  </thead>\n",
       "  <tbody>\n",
       "    <tr>\n",
       "      <th>0</th>\n",
       "      <td>9,5729292936575E+017</td>\n",
       "      <td>0.972573</td>\n",
       "      <td>I start at my new job today, I’m very excited ...</td>\n",
       "      <td>1.0</td>\n",
       "    </tr>\n",
       "    <tr>\n",
       "      <th>1</th>\n",
       "      <td>4,65323644261245E+017</td>\n",
       "      <td>0.972140</td>\n",
       "      <td>One more week and I'll be back at my old job m...</td>\n",
       "      <td>0.0</td>\n",
       "    </tr>\n",
       "    <tr>\n",
       "      <th>2</th>\n",
       "      <td>7,92228637185601E+017</td>\n",
       "      <td>0.972117</td>\n",
       "      <td>Finna get my part time job back on the weekend...</td>\n",
       "      <td>1.0</td>\n",
       "    </tr>\n",
       "    <tr>\n",
       "      <th>3</th>\n",
       "      <td>4,58709319165301E+017</td>\n",
       "      <td>0.972028</td>\n",
       "      <td>I happily have a new job I’m starting at on Mo...</td>\n",
       "      <td>1.0</td>\n",
       "    </tr>\n",
       "    <tr>\n",
       "      <th>4</th>\n",
       "      <td>6,50868814968549E+017</td>\n",
       "      <td>0.971760</td>\n",
       "      <td>First night at my new job now, wish a rebel lu...</td>\n",
       "      <td>1.0</td>\n",
       "    </tr>\n",
       "  </tbody>\n",
       "</table>\n",
       "</div>"
      ],
      "text/plain": [
       "                tweet_id  pos_model  \\\n",
       "0   9,5729292936575E+017   0.972573   \n",
       "1  4,65323644261245E+017   0.972140   \n",
       "2  7,92228637185601E+017   0.972117   \n",
       "3  4,58709319165301E+017   0.972028   \n",
       "4  6,50868814968549E+017   0.971760   \n",
       "\n",
       "                                                text  label  \n",
       "0  I start at my new job today, I’m very excited ...    1.0  \n",
       "1  One more week and I'll be back at my old job m...    0.0  \n",
       "2  Finna get my part time job back on the weekend...    1.0  \n",
       "3  I happily have a new job I’m starting at on Mo...    1.0  \n",
       "4  First night at my new job now, wish a rebel lu...    1.0  "
      ]
     },
     "execution_count": 8,
     "metadata": {},
     "output_type": "execute_result"
    }
   ],
   "source": [
    "is_hired_1mo_bert_filtered_df = pd.read_csv(\"/home/manuto/Documents/world_bank/bert_twitter_labor/code/twitter/code/12-active_learning/threshold_determination/BERT_ST_filtered_ALL_is_hired_1mo_labelled.csv\")\n",
    "is_hired_1mo_bert_filtered_df.head()"
   ]
  },
  {
   "cell_type": "code",
   "execution_count": 9,
   "metadata": {},
   "outputs": [
    {
     "name": "stdout",
     "output_type": "stream",
     "text": [
      "Tweet range  0 - 100\n",
      "Share of positive tweets:  0.59\n",
      "Threshold:  0.9704547818365672\n"
     ]
    }
   ],
   "source": [
    "determine_threshold(0, 100, is_hired_1mo_bert_filtered_df)"
   ]
  },
  {
   "cell_type": "code",
   "execution_count": 10,
   "metadata": {},
   "outputs": [
    {
     "name": "stdout",
     "output_type": "stream",
     "text": [
      "Tweet range  100 - 200\n",
      "Share of positive tweets:  0.47\n",
      "Threshold:  0.9694666071952668\n"
     ]
    }
   ],
   "source": [
    "determine_threshold(100, 200, is_hired_1mo_bert_filtered_df)"
   ]
  },
  {
   "cell_type": "code",
   "execution_count": 11,
   "metadata": {},
   "outputs": [
    {
     "name": "stdout",
     "output_type": "stream",
     "text": [
      "Tweet range  200 - 300\n",
      "Share of positive tweets:  0.56\n",
      "Threshold:  0.9689253410732976\n"
     ]
    }
   ],
   "source": [
    "determine_threshold(200, 300, is_hired_1mo_bert_filtered_df)"
   ]
  },
  {
   "cell_type": "code",
   "execution_count": 12,
   "metadata": {},
   "outputs": [
    {
     "name": "stdout",
     "output_type": "stream",
     "text": [
      "Tweet range  300 - 400\n",
      "Share of positive tweets:  0.5151515151515151\n",
      "Threshold:  0.9684596151437846\n"
     ]
    }
   ],
   "source": [
    "determine_threshold(300, 400, is_hired_1mo_bert_filtered_df)"
   ]
  },
  {
   "cell_type": "markdown",
   "metadata": {},
   "source": [
    "## BERT filtered is_unemployed"
   ]
  },
  {
   "cell_type": "code",
   "execution_count": 17,
   "metadata": {},
   "outputs": [
    {
     "data": {
      "text/html": [
       "<div>\n",
       "<style scoped>\n",
       "    .dataframe tbody tr th:only-of-type {\n",
       "        vertical-align: middle;\n",
       "    }\n",
       "\n",
       "    .dataframe tbody tr th {\n",
       "        vertical-align: top;\n",
       "    }\n",
       "\n",
       "    .dataframe thead th {\n",
       "        text-align: right;\n",
       "    }\n",
       "</style>\n",
       "<table border=\"1\" class=\"dataframe\">\n",
       "  <thead>\n",
       "    <tr style=\"text-align: right;\">\n",
       "      <th></th>\n",
       "      <th>tweet_id</th>\n",
       "      <th>pos_model</th>\n",
       "      <th>text</th>\n",
       "      <th>label</th>\n",
       "    </tr>\n",
       "  </thead>\n",
       "  <tbody>\n",
       "    <tr>\n",
       "      <th>0</th>\n",
       "      <td>5,91045121585652E+017</td>\n",
       "      <td>0.939579</td>\n",
       "      <td>Hugo Sanchez got fired from Pachuca Lo</td>\n",
       "      <td>0.0</td>\n",
       "    </tr>\n",
       "    <tr>\n",
       "      <th>1</th>\n",
       "      <td>3,24967552113582E+017</td>\n",
       "      <td>0.939217</td>\n",
       "      <td>I got fired today.</td>\n",
       "      <td>1.0</td>\n",
       "    </tr>\n",
       "    <tr>\n",
       "      <th>2</th>\n",
       "      <td>6,10989385102721E+017</td>\n",
       "      <td>0.939095</td>\n",
       "      <td>i just got fired</td>\n",
       "      <td>1.0</td>\n",
       "    </tr>\n",
       "    <tr>\n",
       "      <th>3</th>\n",
       "      <td>7,49258332452651E+017</td>\n",
       "      <td>0.938995</td>\n",
       "      <td>Definitely got fired today</td>\n",
       "      <td>1.0</td>\n",
       "    </tr>\n",
       "    <tr>\n",
       "      <th>4</th>\n",
       "      <td>3,42795311279907E+017</td>\n",
       "      <td>0.938987</td>\n",
       "      <td>Wait George Karl got fired</td>\n",
       "      <td>0.0</td>\n",
       "    </tr>\n",
       "  </tbody>\n",
       "</table>\n",
       "</div>"
      ],
      "text/plain": [
       "                tweet_id  pos_model                                    text  \\\n",
       "0  5,91045121585652E+017   0.939579  Hugo Sanchez got fired from Pachuca Lo   \n",
       "1  3,24967552113582E+017   0.939217                      I got fired today.   \n",
       "2  6,10989385102721E+017   0.939095                        i just got fired   \n",
       "3  7,49258332452651E+017   0.938995              Definitely got fired today   \n",
       "4  3,42795311279907E+017   0.938987              Wait George Karl got fired   \n",
       "\n",
       "   label  \n",
       "0    0.0  \n",
       "1    1.0  \n",
       "2    1.0  \n",
       "3    1.0  \n",
       "4    0.0  "
      ]
     },
     "execution_count": 17,
     "metadata": {},
     "output_type": "execute_result"
    }
   ],
   "source": [
    "is_unemployed_bert_filtered_df = pd.read_csv(\"/home/manuto/Documents/world_bank/bert_twitter_labor/code/twitter/code/12-active_learning/threshold_determination/BERT_ST_filtered_ALL_is_unemployed_labelled.csv\")\n",
    "is_unemployed_bert_filtered_df.head()"
   ]
  },
  {
   "cell_type": "code",
   "execution_count": 18,
   "metadata": {},
   "outputs": [
    {
     "name": "stdout",
     "output_type": "stream",
     "text": [
      "Tweet range  0 - 100\n",
      "Share of positive tweets:  0.46464646464646464\n",
      "Threshold:  0.9344782497822344\n"
     ]
    }
   ],
   "source": [
    "determine_threshold(0, 100, is_unemployed_bert_filtered_df)"
   ]
  },
  {
   "cell_type": "code",
   "execution_count": 19,
   "metadata": {},
   "outputs": [
    {
     "name": "stdout",
     "output_type": "stream",
     "text": [
      "Tweet range  100 - 200\n",
      "Share of positive tweets:  0.574468085106383\n",
      "Threshold:  0.9290245287594178\n"
     ]
    }
   ],
   "source": [
    "determine_threshold(100, 200, is_unemployed_bert_filtered_df)"
   ]
  },
  {
   "cell_type": "code",
   "execution_count": 20,
   "metadata": {},
   "outputs": [
    {
     "name": "stdout",
     "output_type": "stream",
     "text": [
      "Tweet range  200 - 300\n",
      "Share of positive tweets:  0.5555555555555556\n",
      "Threshold:  0.9260840479194328\n"
     ]
    }
   ],
   "source": [
    "determine_threshold(200, 300, is_unemployed_bert_filtered_df)"
   ]
  },
  {
   "cell_type": "code",
   "execution_count": null,
   "metadata": {},
   "outputs": [],
   "source": []
  },
  {
   "cell_type": "markdown",
   "metadata": {},
   "source": [
    "## Job search"
   ]
  },
  {
   "cell_type": "code",
   "execution_count": 22,
   "metadata": {},
   "outputs": [
    {
     "data": {
      "text/html": [
       "<div>\n",
       "<style scoped>\n",
       "    .dataframe tbody tr th:only-of-type {\n",
       "        vertical-align: middle;\n",
       "    }\n",
       "\n",
       "    .dataframe tbody tr th {\n",
       "        vertical-align: top;\n",
       "    }\n",
       "\n",
       "    .dataframe thead th {\n",
       "        text-align: right;\n",
       "    }\n",
       "</style>\n",
       "<table border=\"1\" class=\"dataframe\">\n",
       "  <thead>\n",
       "    <tr style=\"text-align: right;\">\n",
       "      <th></th>\n",
       "      <th>tweet_id</th>\n",
       "      <th>pos_model</th>\n",
       "      <th>text</th>\n",
       "      <th>label</th>\n",
       "    </tr>\n",
       "  </thead>\n",
       "  <tbody>\n",
       "    <tr>\n",
       "      <th>0</th>\n",
       "      <td>7,70009655783354E+017</td>\n",
       "      <td>0.992344</td>\n",
       "      <td>i have a job interview in an hour and im a ner...</td>\n",
       "      <td>1.0</td>\n",
       "    </tr>\n",
       "    <tr>\n",
       "      <th>1</th>\n",
       "      <td>4,7788501398417E+017</td>\n",
       "      <td>0.992331</td>\n",
       "      <td>so i got two job interviews next week and im a...</td>\n",
       "      <td>1.0</td>\n",
       "    </tr>\n",
       "    <tr>\n",
       "      <th>2</th>\n",
       "      <td>9,18868142855565E+017</td>\n",
       "      <td>0.992232</td>\n",
       "      <td>Got my first job interview in almost 5 years. ...</td>\n",
       "      <td>1.0</td>\n",
       "    </tr>\n",
       "    <tr>\n",
       "      <th>3</th>\n",
       "      <td>7,30763066963579E+017</td>\n",
       "      <td>0.992214</td>\n",
       "      <td>If you know anybody hiring please let me know....</td>\n",
       "      <td>1.0</td>\n",
       "    </tr>\n",
       "    <tr>\n",
       "      <th>4</th>\n",
       "      <td>6,34028520667222E+017</td>\n",
       "      <td>0.992193</td>\n",
       "      <td>So many job interviews, so little time.</td>\n",
       "      <td>1.0</td>\n",
       "    </tr>\n",
       "    <tr>\n",
       "      <th>...</th>\n",
       "      <td>...</td>\n",
       "      <td>...</td>\n",
       "      <td>...</td>\n",
       "      <td>...</td>\n",
       "    </tr>\n",
       "    <tr>\n",
       "      <th>99</th>\n",
       "      <td>6,13929130782921E+017</td>\n",
       "      <td>0.991874</td>\n",
       "      <td>job searching more jobs in los angeles</td>\n",
       "      <td>1.0</td>\n",
       "    </tr>\n",
       "    <tr>\n",
       "      <th>100</th>\n",
       "      <td>5,98277246831436E+017</td>\n",
       "      <td>0.900000</td>\n",
       "      <td>The Perfect Job\\nA woman had been interviewing...</td>\n",
       "      <td>0.0</td>\n",
       "    </tr>\n",
       "    <tr>\n",
       "      <th>101</th>\n",
       "      <td>6,84425536915902E+017</td>\n",
       "      <td>0.900000</td>\n",
       "      <td>RT @kf: SCOWLING DISTRIBUTED SYSTEMS\\n\\nthat i...</td>\n",
       "      <td>NaN</td>\n",
       "    </tr>\n",
       "    <tr>\n",
       "      <th>102</th>\n",
       "      <td>7,93310885322392E+017</td>\n",
       "      <td>0.900001</td>\n",
       "      <td>RT @Logic301: Finaly got my costume for Hallow...</td>\n",
       "      <td>NaN</td>\n",
       "    </tr>\n",
       "    <tr>\n",
       "      <th>103</th>\n",
       "      <td>4,11591007118299E+017</td>\n",
       "      <td>0.900003</td>\n",
       "      <td>“@MsTamarShawnice: I should call my boss like ...</td>\n",
       "      <td>0.0</td>\n",
       "    </tr>\n",
       "  </tbody>\n",
       "</table>\n",
       "<p>104 rows × 4 columns</p>\n",
       "</div>"
      ],
      "text/plain": [
       "                  tweet_id  pos_model  \\\n",
       "0    7,70009655783354E+017   0.992344   \n",
       "1     4,7788501398417E+017   0.992331   \n",
       "2    9,18868142855565E+017   0.992232   \n",
       "3    7,30763066963579E+017   0.992214   \n",
       "4    6,34028520667222E+017   0.992193   \n",
       "..                     ...        ...   \n",
       "99   6,13929130782921E+017   0.991874   \n",
       "100  5,98277246831436E+017   0.900000   \n",
       "101  6,84425536915902E+017   0.900000   \n",
       "102  7,93310885322392E+017   0.900001   \n",
       "103  4,11591007118299E+017   0.900003   \n",
       "\n",
       "                                                  text  label  \n",
       "0    i have a job interview in an hour and im a ner...    1.0  \n",
       "1    so i got two job interviews next week and im a...    1.0  \n",
       "2    Got my first job interview in almost 5 years. ...    1.0  \n",
       "3    If you know anybody hiring please let me know....    1.0  \n",
       "4              So many job interviews, so little time.    1.0  \n",
       "..                                                 ...    ...  \n",
       "99              job searching more jobs in los angeles    1.0  \n",
       "100  The Perfect Job\\nA woman had been interviewing...    0.0  \n",
       "101  RT @kf: SCOWLING DISTRIBUTED SYSTEMS\\n\\nthat i...    NaN  \n",
       "102  RT @Logic301: Finaly got my costume for Hallow...    NaN  \n",
       "103  “@MsTamarShawnice: I should call my boss like ...    0.0  \n",
       "\n",
       "[104 rows x 4 columns]"
      ]
     },
     "execution_count": 22,
     "metadata": {},
     "output_type": "execute_result"
    }
   ],
   "source": [
    "job_search_df = pd.read_csv(\"/home/manuto/Documents/world_bank/bert_twitter_labor/code/twitter/code/12-active_learning/threshold_determination/archive/BERT_ST_filtered_ALL_job_search_labelled.csv\")\n",
    "job_search_df.head(n=104)"
   ]
  },
  {
   "cell_type": "code",
   "execution_count": 23,
   "metadata": {},
   "outputs": [
    {
     "name": "stdout",
     "output_type": "stream",
     "text": [
      "Tweet range  0 - 100\n",
      "Share of positive tweets:  0.96\n",
      "Threshold:  0.9920010636268158\n"
     ]
    }
   ],
   "source": [
    "determine_threshold(0, 100, job_search_df)"
   ]
  },
  {
   "cell_type": "code",
   "execution_count": 24,
   "metadata": {},
   "outputs": [
    {
     "name": "stdout",
     "output_type": "stream",
     "text": [
      "Tweet range  100 - 200\n",
      "Share of positive tweets:  0.033707865168539325\n",
      "Threshold:  0.8999998130395849\n"
     ]
    }
   ],
   "source": [
    "determine_threshold(100, 200, job_search_df)"
   ]
  },
  {
   "cell_type": "code",
   "execution_count": 25,
   "metadata": {},
   "outputs": [
    {
     "name": "stdout",
     "output_type": "stream",
     "text": [
      "Tweet range  200 - 300\n",
      "Share of positive tweets:  0.0449438202247191\n",
      "Threshold:  0.8000028462056282\n"
     ]
    }
   ],
   "source": [
    "determine_threshold(200, 300, job_search_df)"
   ]
  },
  {
   "cell_type": "markdown",
   "metadata": {},
   "source": [
    "## Job offer"
   ]
  },
  {
   "cell_type": "code",
   "execution_count": 26,
   "metadata": {},
   "outputs": [
    {
     "data": {
      "text/html": [
       "<div>\n",
       "<style scoped>\n",
       "    .dataframe tbody tr th:only-of-type {\n",
       "        vertical-align: middle;\n",
       "    }\n",
       "\n",
       "    .dataframe tbody tr th {\n",
       "        vertical-align: top;\n",
       "    }\n",
       "\n",
       "    .dataframe thead th {\n",
       "        text-align: right;\n",
       "    }\n",
       "</style>\n",
       "<table border=\"1\" class=\"dataframe\">\n",
       "  <thead>\n",
       "    <tr style=\"text-align: right;\">\n",
       "      <th></th>\n",
       "      <th>tweet_id</th>\n",
       "      <th>pos_model</th>\n",
       "      <th>text</th>\n",
       "      <th>label</th>\n",
       "    </tr>\n",
       "  </thead>\n",
       "  <tbody>\n",
       "    <tr>\n",
       "      <th>0</th>\n",
       "      <td>5,21889990939128E+017</td>\n",
       "      <td>0.916162</td>\n",
       "      <td>Recent #CDLjobs #GraduatesJobs , Iowa: Recent ...</td>\n",
       "      <td>1.0</td>\n",
       "    </tr>\n",
       "    <tr>\n",
       "      <th>1</th>\n",
       "      <td>5,17030063217578E+017</td>\n",
       "      <td>0.915846</td>\n",
       "      <td>Are you a Vans #Store #Manager (Kennesaw, GA) ...</td>\n",
       "      <td>1.0</td>\n",
       "    </tr>\n",
       "    <tr>\n",
       "      <th>2</th>\n",
       "      <td>5,17092935759045E+017</td>\n",
       "      <td>0.915625</td>\n",
       "      <td>Are you a Senior #Paralegal (Cigna-#HealthSpri...</td>\n",
       "      <td>1.0</td>\n",
       "    </tr>\n",
       "    <tr>\n",
       "      <th>3</th>\n",
       "      <td>5,19873700884406E+017</td>\n",
       "      <td>0.915558</td>\n",
       "      <td>Are you a Senior, #PMO Manager (#Logistics) in...</td>\n",
       "      <td>1.0</td>\n",
       "    </tr>\n",
       "    <tr>\n",
       "      <th>4</th>\n",
       "      <td>5,20556726316433E+017</td>\n",
       "      <td>0.915197</td>\n",
       "      <td>Are you a Strategic #Account #Manager (Seattle...</td>\n",
       "      <td>1.0</td>\n",
       "    </tr>\n",
       "  </tbody>\n",
       "</table>\n",
       "</div>"
      ],
      "text/plain": [
       "                tweet_id  pos_model  \\\n",
       "0  5,21889990939128E+017   0.916162   \n",
       "1  5,17030063217578E+017   0.915846   \n",
       "2  5,17092935759045E+017   0.915625   \n",
       "3  5,19873700884406E+017   0.915558   \n",
       "4  5,20556726316433E+017   0.915197   \n",
       "\n",
       "                                                text  label  \n",
       "0  Recent #CDLjobs #GraduatesJobs , Iowa: Recent ...    1.0  \n",
       "1  Are you a Vans #Store #Manager (Kennesaw, GA) ...    1.0  \n",
       "2  Are you a Senior #Paralegal (Cigna-#HealthSpri...    1.0  \n",
       "3  Are you a Senior, #PMO Manager (#Logistics) in...    1.0  \n",
       "4  Are you a Strategic #Account #Manager (Seattle...    1.0  "
      ]
     },
     "execution_count": 26,
     "metadata": {},
     "output_type": "execute_result"
    }
   ],
   "source": [
    "job_offer_df = pd.read_csv(\"/home/manuto/Documents/world_bank/bert_twitter_labor/code/twitter/code/12-active_learning/threshold_determination/archive/BERT_ST_filtered_ALL_job_offer_labelled.csv\")\n",
    "job_offer_df.head()"
   ]
  },
  {
   "cell_type": "code",
   "execution_count": 27,
   "metadata": {},
   "outputs": [
    {
     "name": "stdout",
     "output_type": "stream",
     "text": [
      "Tweet range  0 - 100\n",
      "Share of positive tweets:  1.0\n",
      "Threshold:  0.9125781871605114\n"
     ]
    }
   ],
   "source": [
    "determine_threshold(0, 100, job_offer_df)"
   ]
  },
  {
   "cell_type": "code",
   "execution_count": 28,
   "metadata": {},
   "outputs": [
    {
     "name": "stdout",
     "output_type": "stream",
     "text": [
      "Tweet range  100 - 200\n",
      "Share of positive tweets:  1.0\n",
      "Threshold:  0.8999929521189834\n"
     ]
    }
   ],
   "source": [
    "determine_threshold(100, 200, job_offer_df)"
   ]
  },
  {
   "cell_type": "code",
   "execution_count": 29,
   "metadata": {},
   "outputs": [
    {
     "name": "stdout",
     "output_type": "stream",
     "text": [
      "Tweet range  200 - 300\n",
      "Share of positive tweets:  0.6666666666666666\n",
      "Threshold:  0.8000014686167735\n"
     ]
    }
   ],
   "source": [
    "determine_threshold(200, 300, job_offer_df)"
   ]
  },
  {
   "cell_type": "code",
   "execution_count": 30,
   "metadata": {},
   "outputs": [
    {
     "name": "stdout",
     "output_type": "stream",
     "text": [
      "Tweet range  300 - 400\n",
      "Share of positive tweets:  0.05405405405405406\n",
      "Threshold:  0.7000012851171143\n"
     ]
    }
   ],
   "source": [
    "determine_threshold(300, 400, job_offer_df)"
   ]
  },
  {
   "cell_type": "code",
   "execution_count": 31,
   "metadata": {},
   "outputs": [
    {
     "name": "stdout",
     "output_type": "stream",
     "text": [
      "Tweet range  400 - 500\n",
      "Share of positive tweets:  0.028169014084507043\n",
      "Threshold:  0.6000016569328966\n"
     ]
    }
   ],
   "source": [
    "determine_threshold(400, 500, job_offer_df)"
   ]
  },
  {
   "cell_type": "code",
   "execution_count": 32,
   "metadata": {},
   "outputs": [
    {
     "name": "stdout",
     "output_type": "stream",
     "text": [
      "Tweet range  500 - 600\n",
      "Share of positive tweets:  0.0\n",
      "Threshold:  0.49999978\n"
     ]
    }
   ],
   "source": [
    "determine_threshold(500, 600, job_offer_df)"
   ]
  },
  {
   "cell_type": "code",
   "execution_count": 33,
   "metadata": {},
   "outputs": [
    {
     "name": "stdout",
     "output_type": "stream",
     "text": [
      "Tweet range  600 - 650\n",
      "Share of positive tweets:  0.030303030303030304\n",
      "Threshold:  0.40000005186596055\n"
     ]
    }
   ],
   "source": [
    "determine_threshold(600, 650, job_offer_df)"
   ]
  },
  {
   "cell_type": "markdown",
   "metadata": {},
   "source": [
    "## Lost_job_1mo"
   ]
  },
  {
   "cell_type": "code",
   "execution_count": 34,
   "metadata": {},
   "outputs": [
    {
     "data": {
      "text/html": [
       "<div>\n",
       "<style scoped>\n",
       "    .dataframe tbody tr th:only-of-type {\n",
       "        vertical-align: middle;\n",
       "    }\n",
       "\n",
       "    .dataframe tbody tr th {\n",
       "        vertical-align: top;\n",
       "    }\n",
       "\n",
       "    .dataframe thead th {\n",
       "        text-align: right;\n",
       "    }\n",
       "</style>\n",
       "<table border=\"1\" class=\"dataframe\">\n",
       "  <thead>\n",
       "    <tr style=\"text-align: right;\">\n",
       "      <th></th>\n",
       "      <th>tweet_id</th>\n",
       "      <th>pos_model</th>\n",
       "      <th>text</th>\n",
       "      <th>label</th>\n",
       "    </tr>\n",
       "  </thead>\n",
       "  <tbody>\n",
       "    <tr>\n",
       "      <th>0</th>\n",
       "      <td>3,23133718594208E+017</td>\n",
       "      <td>0.982899</td>\n",
       "      <td>so i got fired today</td>\n",
       "      <td>1.0</td>\n",
       "    </tr>\n",
       "    <tr>\n",
       "      <th>1</th>\n",
       "      <td>6,3969331850333E+017</td>\n",
       "      <td>0.982869</td>\n",
       "      <td>BTW, I quit my job today 😊😊</td>\n",
       "      <td>1.0</td>\n",
       "    </tr>\n",
       "    <tr>\n",
       "      <th>2</th>\n",
       "      <td>4,08745423265071E+017</td>\n",
       "      <td>0.982564</td>\n",
       "      <td>I quit my job today!</td>\n",
       "      <td>1.0</td>\n",
       "    </tr>\n",
       "    <tr>\n",
       "      <th>3</th>\n",
       "      <td>3,84349791045448E+017</td>\n",
       "      <td>0.982556</td>\n",
       "      <td>So I quit my job today..</td>\n",
       "      <td>1.0</td>\n",
       "    </tr>\n",
       "    <tr>\n",
       "      <th>4</th>\n",
       "      <td>9,79190354544091E+017</td>\n",
       "      <td>0.982344</td>\n",
       "      <td>I️ really quit my job today 😂 wow</td>\n",
       "      <td>1.0</td>\n",
       "    </tr>\n",
       "  </tbody>\n",
       "</table>\n",
       "</div>"
      ],
      "text/plain": [
       "                tweet_id  pos_model                               text  label\n",
       "0  3,23133718594208E+017   0.982899               so i got fired today    1.0\n",
       "1   6,3969331850333E+017   0.982869        BTW, I quit my job today 😊😊    1.0\n",
       "2  4,08745423265071E+017   0.982564               I quit my job today!    1.0\n",
       "3  3,84349791045448E+017   0.982556           So I quit my job today..    1.0\n",
       "4  9,79190354544091E+017   0.982344  I️ really quit my job today 😂 wow    1.0"
      ]
     },
     "execution_count": 34,
     "metadata": {},
     "output_type": "execute_result"
    }
   ],
   "source": [
    "lost_job_1mo_df = pd.read_csv(\"/home/manuto/Documents/world_bank/bert_twitter_labor/code/twitter/code/12-active_learning/threshold_determination/archive/BERT_ST_filtered_ALL_lost_job_1mo_labelled.csv\")\n",
    "lost_job_1mo_df.head()"
   ]
  },
  {
   "cell_type": "code",
   "execution_count": 35,
   "metadata": {},
   "outputs": [
    {
     "name": "stdout",
     "output_type": "stream",
     "text": [
      "Tweet range  0 - 100\n",
      "Share of positive tweets:  0.6404494382022472\n",
      "Threshold:  0.9803600722376238\n"
     ]
    }
   ],
   "source": [
    "determine_threshold(0, 100, lost_job_1mo_df)"
   ]
  },
  {
   "cell_type": "code",
   "execution_count": 36,
   "metadata": {},
   "outputs": [
    {
     "name": "stdout",
     "output_type": "stream",
     "text": [
      "Tweet range  100 - 200\n",
      "Share of positive tweets:  0.023529411764705882\n",
      "Threshold:  0.9000101625806953\n"
     ]
    }
   ],
   "source": [
    "determine_threshold(100, 200, lost_job_1mo_df)"
   ]
  },
  {
   "cell_type": "code",
   "execution_count": 37,
   "metadata": {},
   "outputs": [
    {
     "name": "stdout",
     "output_type": "stream",
     "text": [
      "Tweet range  200 - 300\n",
      "Share of positive tweets:  0.0\n",
      "Threshold:  0.8000049693745142\n"
     ]
    }
   ],
   "source": [
    "determine_threshold(200, 300, lost_job_1mo_df)"
   ]
  },
  {
   "cell_type": "code",
   "execution_count": null,
   "metadata": {},
   "outputs": [],
   "source": []
  }
 ],
 "metadata": {
  "kernelspec": {
   "display_name": "Python 3",
   "language": "python",
   "name": "python3"
  },
  "language_info": {
   "codemirror_mode": {
    "name": "ipython",
    "version": 3
   },
   "file_extension": ".py",
   "mimetype": "text/x-python",
   "name": "python",
   "nbconvert_exporter": "python",
   "pygments_lexer": "ipython3",
   "version": "3.7.4"
  }
 },
 "nbformat": 4,
 "nbformat_minor": 2
}
