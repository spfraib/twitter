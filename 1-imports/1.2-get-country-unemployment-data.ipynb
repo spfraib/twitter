{
 "cells": [
  {
   "cell_type": "code",
   "execution_count": 2,
   "metadata": {},
   "outputs": [],
   "source": [
    "import os\n",
    "import pandas as pd\n",
    "import socket"
   ]
  },
  {
   "cell_type": "code",
   "execution_count": 3,
   "metadata": {},
   "outputs": [],
   "source": [
    "if 'samuel' in socket.gethostname().lower():\n",
    "    path_to_data='../../data'\n",
    "else:\n",
    "    path_to_data='/scratch/spf248/twitter/data'"
   ]
  },
  {
   "cell_type": "code",
   "execution_count": 4,
   "metadata": {},
   "outputs": [],
   "source": [
    "df=pd.read_excel(os.path.join(path_to_data,'official','aggregates','haver_062020.xlsx'),sheet_name='NSA')"
   ]
  },
  {
   "cell_type": "code",
   "execution_count": 6,
   "metadata": {},
   "outputs": [],
   "source": [
    "country2code={\n",
    "'Argentina':'AR',\n",
    "'U.S.':'US',\n",
    "'Brazil':'BR',\n",
    "'Chile':'CL',\n",
    "'Colombia':'CO',\n",
    "'Indonesia':'ID',\n",
    "'Malaysia':'MY',\n",
    "'Peru':'PE',\n",
    "'Philippines':'PH',\n",
    "'Thailand':'TH',\n",
    "'Mexico':'MX',\n",
    "'Venezuela':'VE',\n",
    "}"
   ]
  },
  {
   "cell_type": "code",
   "execution_count": 9,
   "metadata": {},
   "outputs": [],
   "source": [
    "monthly=df.iloc[:,0:12].drop(['Unnamed: 2','200801 *M'],1,errors='ignore')\n",
    "monthly.columns=monthly.loc[0]\n",
    "monthly=monthly.iloc[9:].copy()\n",
    "monthly.index=monthly.iloc[:,0]\n",
    "monthly=monthly.iloc[:,1:].copy()\n",
    "monthly.rename(columns=lambda x:x.split(':')[0],inplace=True)\n",
    "monthly.rename(columns=lambda x:country2code[x],inplace=True)\n",
    "monthly.index.name='date'\n",
    "monthly=monthly.astype(float)\n",
    "monthly=monthly[monthly.index.notnull()].copy()\n",
    "monthly=monthly.sort_index(0).sort_index(1)\n",
    "monthly=monthly.truncate(before='1/1/2010')\n",
    "monthly.to_csv(os.path.join(path_to_data,'official','aggregates','monthly.csv'))"
   ]
  },
  {
   "cell_type": "code",
   "execution_count": 10,
   "metadata": {},
   "outputs": [],
   "source": [
    "quarterly=df.iloc[:,16:].copy()\n",
    "quarterly.columns=quarterly.loc[0]\n",
    "quarterly=quarterly.iloc[9:].copy()\n",
    "quarterly.index=quarterly.iloc[:,0]\n",
    "quarterly=quarterly.iloc[:,1:].copy()\n",
    "quarterly.rename(columns=lambda x:x.split(':')[0],inplace=True)\n",
    "quarterly.rename(columns=lambda x:country2code[x],inplace=True)\n",
    "quarterly.index.name='date'\n",
    "quarterly=quarterly.astype(float)\n",
    "quarterly=quarterly[quarterly.index.notnull()].copy()\n",
    "quarterly=quarterly.sort_index(0).sort_index(1)\n",
    "quarterly=quarterly.truncate(before='1/1/2010')\n",
    "quarterly.to_csv(os.path.join(path_to_data,'official','aggregates','quarterly.csv'))"
   ]
  },
  {
   "cell_type": "code",
   "execution_count": 11,
   "metadata": {},
   "outputs": [
    {
     "data": {
      "text/html": [
       "<div>\n",
       "<style scoped>\n",
       "    .dataframe tbody tr th:only-of-type {\n",
       "        vertical-align: middle;\n",
       "    }\n",
       "\n",
       "    .dataframe tbody tr th {\n",
       "        vertical-align: top;\n",
       "    }\n",
       "\n",
       "    .dataframe thead th {\n",
       "        text-align: right;\n",
       "    }\n",
       "</style>\n",
       "<table border=\"1\" class=\"dataframe\">\n",
       "  <thead>\n",
       "    <tr style=\"text-align: right;\">\n",
       "      <th></th>\n",
       "      <th>BR</th>\n",
       "      <th>CL</th>\n",
       "      <th>CO</th>\n",
       "      <th>MX</th>\n",
       "      <th>MY</th>\n",
       "      <th>PE</th>\n",
       "      <th>TH</th>\n",
       "      <th>US</th>\n",
       "      <th>VE</th>\n",
       "    </tr>\n",
       "    <tr>\n",
       "      <th>date</th>\n",
       "      <th></th>\n",
       "      <th></th>\n",
       "      <th></th>\n",
       "      <th></th>\n",
       "      <th></th>\n",
       "      <th></th>\n",
       "      <th></th>\n",
       "      <th></th>\n",
       "      <th></th>\n",
       "    </tr>\n",
       "  </thead>\n",
       "  <tbody>\n",
       "    <tr>\n",
       "      <th>2010-01-31</th>\n",
       "      <td>NaN</td>\n",
       "      <td>9.904</td>\n",
       "      <td>14.6</td>\n",
       "      <td>5.76</td>\n",
       "      <td>3.5</td>\n",
       "      <td>9.3</td>\n",
       "      <td>1.40</td>\n",
       "      <td>10.6</td>\n",
       "      <td>10.2</td>\n",
       "    </tr>\n",
       "    <tr>\n",
       "      <th>2010-02-28</th>\n",
       "      <td>NaN</td>\n",
       "      <td>9.330</td>\n",
       "      <td>12.6</td>\n",
       "      <td>5.28</td>\n",
       "      <td>3.5</td>\n",
       "      <td>10.5</td>\n",
       "      <td>1.00</td>\n",
       "      <td>10.4</td>\n",
       "      <td>8.6</td>\n",
       "    </tr>\n",
       "    <tr>\n",
       "      <th>2010-03-31</th>\n",
       "      <td>NaN</td>\n",
       "      <td>9.200</td>\n",
       "      <td>11.8</td>\n",
       "      <td>4.74</td>\n",
       "      <td>3.5</td>\n",
       "      <td>7.7</td>\n",
       "      <td>0.96</td>\n",
       "      <td>10.2</td>\n",
       "      <td>8.7</td>\n",
       "    </tr>\n",
       "    <tr>\n",
       "      <th>2010-04-30</th>\n",
       "      <td>NaN</td>\n",
       "      <td>8.800</td>\n",
       "      <td>12.2</td>\n",
       "      <td>5.35</td>\n",
       "      <td>3.0</td>\n",
       "      <td>8.8</td>\n",
       "      <td>1.18</td>\n",
       "      <td>9.5</td>\n",
       "      <td>8.2</td>\n",
       "    </tr>\n",
       "    <tr>\n",
       "      <th>2010-05-31</th>\n",
       "      <td>NaN</td>\n",
       "      <td>9.100</td>\n",
       "      <td>12.0</td>\n",
       "      <td>5.00</td>\n",
       "      <td>3.3</td>\n",
       "      <td>6.7</td>\n",
       "      <td>1.54</td>\n",
       "      <td>9.3</td>\n",
       "      <td>8.1</td>\n",
       "    </tr>\n",
       "  </tbody>\n",
       "</table>\n",
       "</div>"
      ],
      "text/plain": [
       "0           BR     CL    CO    MX   MY    PE    TH    US    VE\n",
       "date                                                          \n",
       "2010-01-31 NaN  9.904  14.6  5.76  3.5   9.3  1.40  10.6  10.2\n",
       "2010-02-28 NaN  9.330  12.6  5.28  3.5  10.5  1.00  10.4   8.6\n",
       "2010-03-31 NaN  9.200  11.8  4.74  3.5   7.7  0.96  10.2   8.7\n",
       "2010-04-30 NaN  8.800  12.2  5.35  3.0   8.8  1.18   9.5   8.2\n",
       "2010-05-31 NaN  9.100  12.0  5.00  3.3   6.7  1.54   9.3   8.1"
      ]
     },
     "execution_count": 11,
     "metadata": {},
     "output_type": "execute_result"
    }
   ],
   "source": [
    "monthly.head()"
   ]
  }
 ],
 "metadata": {
  "kernelspec": {
   "display_name": "Python 3",
   "language": "python",
   "name": "python3"
  },
  "language_info": {
   "codemirror_mode": {
    "name": "ipython",
    "version": 3
   },
   "file_extension": ".py",
   "mimetype": "text/x-python",
   "name": "python",
   "nbconvert_exporter": "python",
   "pygments_lexer": "ipython3",
   "version": "3.7.7"
  }
 },
 "nbformat": 4,
 "nbformat_minor": 4
}
