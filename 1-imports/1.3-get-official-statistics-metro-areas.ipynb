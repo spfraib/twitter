{
 "cells": [
  {
   "cell_type": "code",
   "execution_count": 1,
   "metadata": {},
   "outputs": [],
   "source": [
    "import os\n",
    "from timeit import default_timer as timer\n",
    "from glob import glob\n",
    "import pandas as pd\n",
    "import numpy as np\n",
    "import re"
   ]
  },
  {
   "cell_type": "code",
   "execution_count": 2,
   "metadata": {},
   "outputs": [],
   "source": [
    "country_code = \"US\"\n",
    "if os.getenv('CLUSTER')=='PRINCE':\n",
    "    path_to_data='/scratch/spf248/twitter/data'\n",
    "else:\n",
    "    path_to_data='../../data'"
   ]
  },
  {
   "cell_type": "markdown",
   "metadata": {},
   "source": [
    "# Geo id data"
   ]
  },
  {
   "cell_type": "code",
   "execution_count": 3,
   "metadata": {},
   "outputs": [],
   "source": [
    "user_location_2_geo_id=pd.read_csv(glob(os.path.join(path_to_data,'official','city',country_code,'*user_id.csv'))[0],index_col=0).drop('index',1,errors='ignore').rename(columns={'NAME':'metro_area_name','metro_area':'metro_area_name'})"
   ]
  },
  {
   "cell_type": "code",
   "execution_count": 4,
   "metadata": {},
   "outputs": [],
   "source": [
    "if country_code=='US':\n",
    "    # Create Geo Id of Metro Areas\n",
    "    user_location_2_geo_id.rename(columns={'geo_id':'geo_admin'},inplace=True)\n",
    "    metro_area_name_2_geo_id=user_location_2_geo_id.drop_duplicates(\n",
    "    'metro_area_name').reset_index(drop=True).reset_index(\n",
    "    ).set_index('metro_area_name')['index'].rename('geo_id')\n",
    "    user_location_2_geo_id['geo_id']=user_location_2_geo_id['metro_area_name'].apply(\n",
    "    lambda x:metro_area_name_2_geo_id[x])"
   ]
  },
  {
   "cell_type": "code",
   "execution_count": 5,
   "metadata": {},
   "outputs": [],
   "source": [
    "user_location_2_geo_id.to_csv(os.path.join(path_to_data,'official','city',country_code,'user_location_2_geo_id.csv'))"
   ]
  },
  {
   "cell_type": "code",
   "execution_count": 6,
   "metadata": {},
   "outputs": [
    {
     "data": {
      "text/html": [
       "<div>\n",
       "<style scoped>\n",
       "    .dataframe tbody tr th:only-of-type {\n",
       "        vertical-align: middle;\n",
       "    }\n",
       "\n",
       "    .dataframe tbody tr th {\n",
       "        vertical-align: top;\n",
       "    }\n",
       "\n",
       "    .dataframe thead th {\n",
       "        text-align: right;\n",
       "    }\n",
       "</style>\n",
       "<table border=\"1\" class=\"dataframe\">\n",
       "  <thead>\n",
       "    <tr style=\"text-align: right;\">\n",
       "      <th></th>\n",
       "      <th>user_location</th>\n",
       "      <th>geo_admin</th>\n",
       "      <th>metro_area_name</th>\n",
       "      <th>geo_id</th>\n",
       "    </tr>\n",
       "  </thead>\n",
       "  <tbody>\n",
       "    <tr>\n",
       "      <th>0</th>\n",
       "      <td>New York</td>\n",
       "      <td>CN3606100000000</td>\n",
       "      <td>New York</td>\n",
       "      <td>0</td>\n",
       "    </tr>\n",
       "    <tr>\n",
       "      <th>1</th>\n",
       "      <td>New York, NY</td>\n",
       "      <td>CN3606100000000</td>\n",
       "      <td>New York</td>\n",
       "      <td>0</td>\n",
       "    </tr>\n",
       "    <tr>\n",
       "      <th>2</th>\n",
       "      <td>NYC</td>\n",
       "      <td>CN3606100000000</td>\n",
       "      <td>New York</td>\n",
       "      <td>0</td>\n",
       "    </tr>\n",
       "    <tr>\n",
       "      <th>3</th>\n",
       "      <td>New York City</td>\n",
       "      <td>CN3606100000000</td>\n",
       "      <td>New York</td>\n",
       "      <td>0</td>\n",
       "    </tr>\n",
       "    <tr>\n",
       "      <th>4</th>\n",
       "      <td>NY</td>\n",
       "      <td>CN3606100000000</td>\n",
       "      <td>New York</td>\n",
       "      <td>0</td>\n",
       "    </tr>\n",
       "  </tbody>\n",
       "</table>\n",
       "</div>"
      ],
      "text/plain": [
       "   user_location        geo_admin metro_area_name  geo_id\n",
       "0       New York  CN3606100000000        New York       0\n",
       "1   New York, NY  CN3606100000000        New York       0\n",
       "2            NYC  CN3606100000000        New York       0\n",
       "3  New York City  CN3606100000000        New York       0\n",
       "4             NY  CN3606100000000        New York       0"
      ]
     },
     "execution_count": 6,
     "metadata": {},
     "output_type": "execute_result"
    }
   ],
   "source": [
    "user_location_2_geo_id.head()"
   ]
  },
  {
   "cell_type": "code",
   "execution_count": 7,
   "metadata": {},
   "outputs": [
    {
     "name": "stdout",
     "output_type": "stream",
     "text": [
      "<class 'pandas.core.frame.DataFrame'>\n",
      "Int64Index: 6244 entries, 0 to 6243\n",
      "Data columns (total 4 columns):\n",
      " #   Column           Non-Null Count  Dtype \n",
      "---  ------           --------------  ----- \n",
      " 0   user_location    6244 non-null   object\n",
      " 1   geo_admin        6244 non-null   object\n",
      " 2   metro_area_name  6244 non-null   object\n",
      " 3   geo_id           6244 non-null   int64 \n",
      "dtypes: int64(1), object(3)\n",
      "memory usage: 243.9+ KB\n"
     ]
    }
   ],
   "source": [
    "user_location_2_geo_id.info()"
   ]
  },
  {
   "cell_type": "markdown",
   "metadata": {},
   "source": [
    "# Population data"
   ]
  },
  {
   "cell_type": "code",
   "execution_count": 8,
   "metadata": {},
   "outputs": [],
   "source": [
    "pop_metro_areas=pd.read_csv(glob(os.path.join(path_to_data,'official','city',country_code,'*metro_areas_population*.csv'))[0],index_col='geo_id')\n",
    "if country_code==\"US\":\n",
    "    # Aggregate from admin 2 to metro areas\n",
    "    pop_metro_areas=pop_metro_areas.reset_index().rename(columns={'geo_id':'geo_admin'}).merge(user_location_2_geo_id,on='geo_admin').set_index('geo_id').filter(regex='pop').groupby('geo_id').sum()\n",
    "pop_metro_areas.drop([x for x in pop_metro_areas.columns if 'pop' not in x],1,inplace=True)\n",
    "pop_metro_areas.columns.name='year'\n",
    "pop_metro_areas=pop_metro_areas.rename(columns=lambda x:int(re.findall('(\\d+)',x)[0])).T.stack().sort_index().rename('pop').reset_index()\n",
    "pop_metro_areas.to_csv(os.path.join(path_to_data,'official','city',country_code,'pop_metro_areas.csv'))"
   ]
  },
  {
   "cell_type": "code",
   "execution_count": 9,
   "metadata": {},
   "outputs": [
    {
     "data": {
      "text/html": [
       "<div>\n",
       "<style scoped>\n",
       "    .dataframe tbody tr th:only-of-type {\n",
       "        vertical-align: middle;\n",
       "    }\n",
       "\n",
       "    .dataframe tbody tr th {\n",
       "        vertical-align: top;\n",
       "    }\n",
       "\n",
       "    .dataframe thead th {\n",
       "        text-align: right;\n",
       "    }\n",
       "</style>\n",
       "<table border=\"1\" class=\"dataframe\">\n",
       "  <thead>\n",
       "    <tr style=\"text-align: right;\">\n",
       "      <th></th>\n",
       "      <th>year</th>\n",
       "      <th>geo_id</th>\n",
       "      <th>pop</th>\n",
       "    </tr>\n",
       "  </thead>\n",
       "  <tbody>\n",
       "    <tr>\n",
       "      <th>0</th>\n",
       "      <td>2007</td>\n",
       "      <td>0</td>\n",
       "      <td>6.103865e+08</td>\n",
       "    </tr>\n",
       "    <tr>\n",
       "      <th>1</th>\n",
       "      <td>2007</td>\n",
       "      <td>1</td>\n",
       "      <td>3.919142e+09</td>\n",
       "    </tr>\n",
       "    <tr>\n",
       "      <th>2</th>\n",
       "      <td>2007</td>\n",
       "      <td>2</td>\n",
       "      <td>7.310571e+08</td>\n",
       "    </tr>\n",
       "    <tr>\n",
       "      <th>3</th>\n",
       "      <td>2007</td>\n",
       "      <td>3</td>\n",
       "      <td>4.864556e+07</td>\n",
       "    </tr>\n",
       "    <tr>\n",
       "      <th>4</th>\n",
       "      <td>2007</td>\n",
       "      <td>4</td>\n",
       "      <td>6.552245e+07</td>\n",
       "    </tr>\n",
       "  </tbody>\n",
       "</table>\n",
       "</div>"
      ],
      "text/plain": [
       "   year  geo_id           pop\n",
       "0  2007       0  6.103865e+08\n",
       "1  2007       1  3.919142e+09\n",
       "2  2007       2  7.310571e+08\n",
       "3  2007       3  4.864556e+07\n",
       "4  2007       4  6.552245e+07"
      ]
     },
     "execution_count": 9,
     "metadata": {},
     "output_type": "execute_result"
    }
   ],
   "source": [
    "pop_metro_areas.head()"
   ]
  },
  {
   "cell_type": "code",
   "execution_count": 10,
   "metadata": {},
   "outputs": [
    {
     "data": {
      "text/html": [
       "<div>\n",
       "<style scoped>\n",
       "    .dataframe tbody tr th:only-of-type {\n",
       "        vertical-align: middle;\n",
       "    }\n",
       "\n",
       "    .dataframe tbody tr th {\n",
       "        vertical-align: top;\n",
       "    }\n",
       "\n",
       "    .dataframe thead th {\n",
       "        text-align: right;\n",
       "    }\n",
       "</style>\n",
       "<table border=\"1\" class=\"dataframe\">\n",
       "  <thead>\n",
       "    <tr style=\"text-align: right;\">\n",
       "      <th></th>\n",
       "      <th>year</th>\n",
       "      <th>geo_id</th>\n",
       "      <th>pop</th>\n",
       "    </tr>\n",
       "  </thead>\n",
       "  <tbody>\n",
       "    <tr>\n",
       "      <th>count</th>\n",
       "      <td>4424.000000</td>\n",
       "      <td>4424.000000</td>\n",
       "      <td>4.424000e+03</td>\n",
       "    </tr>\n",
       "    <tr>\n",
       "      <th>mean</th>\n",
       "      <td>2013.500000</td>\n",
       "      <td>157.500000</td>\n",
       "      <td>3.045548e+07</td>\n",
       "    </tr>\n",
       "    <tr>\n",
       "      <th>std</th>\n",
       "      <td>4.031585</td>\n",
       "      <td>91.231197</td>\n",
       "      <td>2.358359e+08</td>\n",
       "    </tr>\n",
       "    <tr>\n",
       "      <th>min</th>\n",
       "      <td>2007.000000</td>\n",
       "      <td>0.000000</td>\n",
       "      <td>7.900888e+03</td>\n",
       "    </tr>\n",
       "    <tr>\n",
       "      <th>25%</th>\n",
       "      <td>2010.000000</td>\n",
       "      <td>78.750000</td>\n",
       "      <td>4.371324e+05</td>\n",
       "    </tr>\n",
       "    <tr>\n",
       "      <th>50%</th>\n",
       "      <td>2013.500000</td>\n",
       "      <td>157.500000</td>\n",
       "      <td>1.418567e+06</td>\n",
       "    </tr>\n",
       "    <tr>\n",
       "      <th>75%</th>\n",
       "      <td>2017.000000</td>\n",
       "      <td>236.250000</td>\n",
       "      <td>5.060050e+06</td>\n",
       "    </tr>\n",
       "    <tr>\n",
       "      <th>max</th>\n",
       "      <td>2020.000000</td>\n",
       "      <td>315.000000</td>\n",
       "      <td>4.121513e+09</td>\n",
       "    </tr>\n",
       "  </tbody>\n",
       "</table>\n",
       "</div>"
      ],
      "text/plain": [
       "              year       geo_id           pop\n",
       "count  4424.000000  4424.000000  4.424000e+03\n",
       "mean   2013.500000   157.500000  3.045548e+07\n",
       "std       4.031585    91.231197  2.358359e+08\n",
       "min    2007.000000     0.000000  7.900888e+03\n",
       "25%    2010.000000    78.750000  4.371324e+05\n",
       "50%    2013.500000   157.500000  1.418567e+06\n",
       "75%    2017.000000   236.250000  5.060050e+06\n",
       "max    2020.000000   315.000000  4.121513e+09"
      ]
     },
     "execution_count": 10,
     "metadata": {},
     "output_type": "execute_result"
    }
   ],
   "source": [
    "pop_metro_areas.describe()"
   ]
  },
  {
   "cell_type": "code",
   "execution_count": 11,
   "metadata": {},
   "outputs": [
    {
     "data": {
      "text/plain": [
       "1.0"
      ]
     },
     "execution_count": 11,
     "metadata": {},
     "output_type": "execute_result"
    }
   ],
   "source": [
    "pop_metro_areas.drop_duplicates(['year','geo_id']).shape[0]/pop_metro_areas.shape[0]"
   ]
  },
  {
   "cell_type": "code",
   "execution_count": 12,
   "metadata": {},
   "outputs": [
    {
     "name": "stdout",
     "output_type": "stream",
     "text": [
      "<class 'pandas.core.frame.DataFrame'>\n",
      "RangeIndex: 4424 entries, 0 to 4423\n",
      "Data columns (total 3 columns):\n",
      " #   Column  Non-Null Count  Dtype  \n",
      "---  ------  --------------  -----  \n",
      " 0   year    4424 non-null   int64  \n",
      " 1   geo_id  4424 non-null   int64  \n",
      " 2   pop     4424 non-null   float64\n",
      "dtypes: float64(1), int64(2)\n",
      "memory usage: 103.8 KB\n"
     ]
    }
   ],
   "source": [
    "pop_metro_areas.info()"
   ]
  },
  {
   "cell_type": "markdown",
   "metadata": {},
   "source": [
    "# Labor market data"
   ]
  },
  {
   "cell_type": "code",
   "execution_count": 13,
   "metadata": {},
   "outputs": [
    {
     "name": "stderr",
     "output_type": "stream",
     "text": [
      "/Users/samuelfraiberger/opt/anaconda3/lib/python3.7/site-packages/numpy/lib/arraysetops.py:569: FutureWarning: elementwise comparison failed; returning scalar instead, but in the future will perform elementwise comparison\n",
      "  mask |= (ar1 == a)\n"
     ]
    }
   ],
   "source": [
    "if country_code!='US':\n",
    "    labor_market_stats=pd.read_csv(os.path.join(path_to_data,'official','city',country_code,'labor_market_stats.csv'),sep={'AR':';','BR':',','CO':';','MX':','}[country_code])\n",
    "    labor_market_stats.rename(columns={'value':'unemployment_rate','NAME':'metro_area_name'},inplace=True)\n",
    "    labor_market_stats['date']=pd.to_datetime(labor_market_stats.apply(lambda x:str(x['year'])+'-Q'+str(x['quarter']),1)) + pd.offsets.QuarterEnd(0)\n",
    "    labor_market_stats['month'] = labor_market_stats['date'].apply(lambda x:x.month)\n",
    "    labor_market_stats = labor_market_stats[['year','month','geo_id','unemployment_rate']].sort_values(\n",
    "    by=['year','month','geo_id']).reset_index(drop=True)\n",
    "    if country_code =='CO':\n",
    "        labor_market_stats.unemployment_rate=labor_market_stats.unemployment_rate.apply(lambda x:np.float(x.replace(',','.'))/100)\n",
    "    labor_market_stats.to_csv(os.path.join(path_to_data,'official','city',country_code,'time_series_unemployment_rate.csv'))\n",
    "else:\n",
    "#     compute average rate across counties\n",
    "    labor_market_stats=pd.read_csv(os.path.join(path_to_data,'official','city',country_code,'labor_market_stats.csv'),index_col=0).rename(columns={'geo_id':'geo_admin'})\n",
    "    pop_admins=pd.read_csv(glob(os.path.join(path_to_data,'official','city',country_code,'*metro_areas_population*.csv'))[0]).rename(columns={'geo_id':'geo_admin','NAME':'metro_area_name'}).drop('UC_NM_LST',1,errors='ignore').sort_values(by=['metro_area_name','geo_admin']).set_index(['metro_area_name','geo_admin'])\n",
    "    pop_admins.drop([x for x in pop_admins.columns if 'pop' not in x],1,inplace=True)\n",
    "    pop_admins.columns.name='year'\n",
    "    pop_admins=pop_admins.rename(columns=lambda x:int(re.findall('(\\d+)',x)[0])).stack().sort_index().rename('pop').reset_index()\n",
    "    labor_market_stats=labor_market_stats.merge(pop_admins,on=['year','geo_admin']).drop('geo_admin',1)\n",
    "    labor_market_stats['unemployment_rate']=labor_market_stats['unemployment_rate'].multiply(labor_market_stats['pop'])\n",
    "    labor_market_stats=labor_market_stats.groupby(['year','month','metro_area_name']).sum()\n",
    "    labor_market_stats=labor_market_stats['unemployment_rate'].divide(labor_market_stats['pop']).rename('unemployment_rate')\n",
    "    labor_market_stats/=100\n",
    "    labor_market_stats=labor_market_stats.to_frame().reset_index()\n",
    "    labor_market_stats['geo_id']=labor_market_stats['metro_area_name'].apply(lambda x:metro_area_name_2_geo_id.get(x,np.nan))\n",
    "    labor_market_stats=labor_market_stats.sort_values(by=['year','month','geo_id']).reset_index(drop=True).drop(['metro_area_name'],1).dropna()\n",
    "    labor_market_stats['geo_id']=labor_market_stats['geo_id'].astype(int)\n",
    "    labor_market_stats=labor_market_stats[['year', 'month', 'geo_id', 'unemployment_rate']].copy()\n",
    "    labor_market_stats.to_csv(os.path.join(path_to_data,'official','city',country_code,'time_series_unemployment_rate.csv'))"
   ]
  },
  {
   "cell_type": "code",
   "execution_count": 14,
   "metadata": {},
   "outputs": [
    {
     "data": {
      "text/html": [
       "<div>\n",
       "<style scoped>\n",
       "    .dataframe tbody tr th:only-of-type {\n",
       "        vertical-align: middle;\n",
       "    }\n",
       "\n",
       "    .dataframe tbody tr th {\n",
       "        vertical-align: top;\n",
       "    }\n",
       "\n",
       "    .dataframe thead th {\n",
       "        text-align: right;\n",
       "    }\n",
       "</style>\n",
       "<table border=\"1\" class=\"dataframe\">\n",
       "  <thead>\n",
       "    <tr style=\"text-align: right;\">\n",
       "      <th></th>\n",
       "      <th>year</th>\n",
       "      <th>month</th>\n",
       "      <th>geo_id</th>\n",
       "      <th>unemployment_rate</th>\n",
       "    </tr>\n",
       "  </thead>\n",
       "  <tbody>\n",
       "    <tr>\n",
       "      <th>0</th>\n",
       "      <td>2007</td>\n",
       "      <td>1</td>\n",
       "      <td>0</td>\n",
       "      <td>0.049351</td>\n",
       "    </tr>\n",
       "    <tr>\n",
       "      <th>1</th>\n",
       "      <td>2007</td>\n",
       "      <td>1</td>\n",
       "      <td>1</td>\n",
       "      <td>0.049097</td>\n",
       "    </tr>\n",
       "    <tr>\n",
       "      <th>2</th>\n",
       "      <td>2007</td>\n",
       "      <td>1</td>\n",
       "      <td>2</td>\n",
       "      <td>0.052527</td>\n",
       "    </tr>\n",
       "    <tr>\n",
       "      <th>3</th>\n",
       "      <td>2007</td>\n",
       "      <td>1</td>\n",
       "      <td>3</td>\n",
       "      <td>0.045802</td>\n",
       "    </tr>\n",
       "    <tr>\n",
       "      <th>4</th>\n",
       "      <td>2007</td>\n",
       "      <td>1</td>\n",
       "      <td>4</td>\n",
       "      <td>0.034297</td>\n",
       "    </tr>\n",
       "  </tbody>\n",
       "</table>\n",
       "</div>"
      ],
      "text/plain": [
       "   year  month  geo_id  unemployment_rate\n",
       "0  2007      1       0           0.049351\n",
       "1  2007      1       1           0.049097\n",
       "2  2007      1       2           0.052527\n",
       "3  2007      1       3           0.045802\n",
       "4  2007      1       4           0.034297"
      ]
     },
     "execution_count": 14,
     "metadata": {},
     "output_type": "execute_result"
    }
   ],
   "source": [
    "labor_market_stats.head()"
   ]
  },
  {
   "cell_type": "code",
   "execution_count": 15,
   "metadata": {},
   "outputs": [
    {
     "data": {
      "text/html": [
       "<div>\n",
       "<style scoped>\n",
       "    .dataframe tbody tr th:only-of-type {\n",
       "        vertical-align: middle;\n",
       "    }\n",
       "\n",
       "    .dataframe tbody tr th {\n",
       "        vertical-align: top;\n",
       "    }\n",
       "\n",
       "    .dataframe thead th {\n",
       "        text-align: right;\n",
       "    }\n",
       "</style>\n",
       "<table border=\"1\" class=\"dataframe\">\n",
       "  <thead>\n",
       "    <tr style=\"text-align: right;\">\n",
       "      <th></th>\n",
       "      <th>year</th>\n",
       "      <th>month</th>\n",
       "      <th>geo_id</th>\n",
       "      <th>unemployment_rate</th>\n",
       "    </tr>\n",
       "  </thead>\n",
       "  <tbody>\n",
       "    <tr>\n",
       "      <th>count</th>\n",
       "      <td>49916.000000</td>\n",
       "      <td>49916.000000</td>\n",
       "      <td>49916.000000</td>\n",
       "      <td>49916.000000</td>\n",
       "    </tr>\n",
       "    <tr>\n",
       "      <th>mean</th>\n",
       "      <td>2013.174453</td>\n",
       "      <td>6.400232</td>\n",
       "      <td>157.703181</td>\n",
       "      <td>0.064470</td>\n",
       "    </tr>\n",
       "    <tr>\n",
       "      <th>std</th>\n",
       "      <td>3.852548</td>\n",
       "      <td>3.469944</td>\n",
       "      <td>91.472435</td>\n",
       "      <td>0.031079</td>\n",
       "    </tr>\n",
       "    <tr>\n",
       "      <th>min</th>\n",
       "      <td>2007.000000</td>\n",
       "      <td>1.000000</td>\n",
       "      <td>0.000000</td>\n",
       "      <td>0.011000</td>\n",
       "    </tr>\n",
       "    <tr>\n",
       "      <th>25%</th>\n",
       "      <td>2010.000000</td>\n",
       "      <td>3.000000</td>\n",
       "      <td>78.000000</td>\n",
       "      <td>0.041813</td>\n",
       "    </tr>\n",
       "    <tr>\n",
       "      <th>50%</th>\n",
       "      <td>2013.000000</td>\n",
       "      <td>6.000000</td>\n",
       "      <td>157.000000</td>\n",
       "      <td>0.057000</td>\n",
       "    </tr>\n",
       "    <tr>\n",
       "      <th>75%</th>\n",
       "      <td>2016.000000</td>\n",
       "      <td>9.000000</td>\n",
       "      <td>238.000000</td>\n",
       "      <td>0.080781</td>\n",
       "    </tr>\n",
       "    <tr>\n",
       "      <th>max</th>\n",
       "      <td>2020.000000</td>\n",
       "      <td>12.000000</td>\n",
       "      <td>315.000000</td>\n",
       "      <td>0.335000</td>\n",
       "    </tr>\n",
       "  </tbody>\n",
       "</table>\n",
       "</div>"
      ],
      "text/plain": [
       "               year         month        geo_id  unemployment_rate\n",
       "count  49916.000000  49916.000000  49916.000000       49916.000000\n",
       "mean    2013.174453      6.400232    157.703181           0.064470\n",
       "std        3.852548      3.469944     91.472435           0.031079\n",
       "min     2007.000000      1.000000      0.000000           0.011000\n",
       "25%     2010.000000      3.000000     78.000000           0.041813\n",
       "50%     2013.000000      6.000000    157.000000           0.057000\n",
       "75%     2016.000000      9.000000    238.000000           0.080781\n",
       "max     2020.000000     12.000000    315.000000           0.335000"
      ]
     },
     "execution_count": 15,
     "metadata": {},
     "output_type": "execute_result"
    }
   ],
   "source": [
    "labor_market_stats.describe()"
   ]
  },
  {
   "cell_type": "code",
   "execution_count": 16,
   "metadata": {},
   "outputs": [
    {
     "data": {
      "text/plain": [
       "1.0"
      ]
     },
     "execution_count": 16,
     "metadata": {},
     "output_type": "execute_result"
    }
   ],
   "source": [
    "labor_market_stats.drop_duplicates(['year','month','geo_id']).shape[0]/labor_market_stats.shape[0]"
   ]
  },
  {
   "cell_type": "code",
   "execution_count": 17,
   "metadata": {},
   "outputs": [
    {
     "name": "stdout",
     "output_type": "stream",
     "text": [
      "<class 'pandas.core.frame.DataFrame'>\n",
      "Int64Index: 49916 entries, 0 to 52935\n",
      "Data columns (total 4 columns):\n",
      " #   Column             Non-Null Count  Dtype  \n",
      "---  ------             --------------  -----  \n",
      " 0   year               49916 non-null  int64  \n",
      " 1   month              49916 non-null  int64  \n",
      " 2   geo_id             49916 non-null  int64  \n",
      " 3   unemployment_rate  49916 non-null  float64\n",
      "dtypes: float64(1), int64(3)\n",
      "memory usage: 1.9 MB\n"
     ]
    }
   ],
   "source": [
    "labor_market_stats.info()"
   ]
  }
 ],
 "metadata": {
  "kernelspec": {
   "display_name": "Python 3",
   "language": "python",
   "name": "python3"
  },
  "language_info": {
   "codemirror_mode": {
    "name": "ipython",
    "version": 3
   },
   "file_extension": ".py",
   "mimetype": "text/x-python",
   "name": "python",
   "nbconvert_exporter": "python",
   "pygments_lexer": "ipython3",
   "version": "3.7.7"
  }
 },
 "nbformat": 4,
 "nbformat_minor": 4
}
