{
 "cells": [
  {
   "cell_type": "code",
   "execution_count": 81,
   "metadata": {},
   "outputs": [],
   "source": [
    "import os\n",
    "from timeit import default_timer as timer\n",
    "from glob import glob\n",
    "import pandas as pd\n",
    "import numpy as np"
   ]
  },
  {
   "cell_type": "code",
   "execution_count": 127,
   "metadata": {},
   "outputs": [],
   "source": [
    "country_code = \"US\"\n",
    "if os.getenv('CLUSTER')=='PRINCE':\n",
    "    path_to_data='/scratch/spf248/twitter/data'\n",
    "else:\n",
    "    path_to_data='../../data'"
   ]
  },
  {
   "cell_type": "code",
   "execution_count": 125,
   "metadata": {},
   "outputs": [],
   "source": [
    "user_location_2_geo_id=pd.read_csv(os.path.join(path_to_data,'official','urban',country_code,'user_location_2_geo_id.csv'),index_col=0)\n",
    "user_location_2_geo_id=user_location_2_geo_id[['user_location','metro_area_name']].sort_values(by=['user_location']).reset_index(drop=True)\n",
    "user_location_2_geo_id.to_csv(os.path.join(path_to_data,'official','urban',country_code,'user_location_2_metro_area.csv'))"
   ]
  },
  {
   "cell_type": "code",
   "execution_count": 83,
   "metadata": {},
   "outputs": [],
   "source": [
    "if country_code!='US':\n",
    "    labor_market_stats=pd.read_csv(os.path.join(path_to_data,'official','urban',country_code,'labor_market_stats.csv'),sep=';')\n",
    "    labor_market_stats.rename(columns={'value':'unemployment_rate','NAME':'metro_area_name'},inplace=True)\n",
    "    labor_market_stats['date']=pd.to_datetime(labor_market_stats.apply(lambda x:str(x['year'])+'-Q'+str(x['quarter']),1)) + pd.offsets.QuarterEnd(0)\n",
    "    labor_market_stats['month'] = labor_market_stats['date'].apply(lambda x:x.month)\n",
    "    labor_market_stats = labor_market_stats[['year','month','metro_area_name','unemployment_rate']].sort_values(\n",
    "    by=['year','month','metro_area_name']).reset_index(drop=True)\n",
    "    if country_code =='CO':\n",
    "        labor_market_stats.unemployment_rate=labor_market_stats.unemployment_rate.apply(lambda x:np.float(x.replace(',','.'))/100)\n",
    "    labor_market_stats.to_csv(os.path.join(path_to_data,'official','urban',country_code,'time_series_unemployment_rate.csv'))"
   ]
  },
  {
   "cell_type": "markdown",
   "metadata": {},
   "source": [
    "# US - compute average rate across counties"
   ]
  },
  {
   "cell_type": "code",
   "execution_count": 142,
   "metadata": {},
   "outputs": [
    {
     "name": "stderr",
     "output_type": "stream",
     "text": [
      "/Users/samuelfraiberger/opt/anaconda3/lib/python3.7/site-packages/numpy/lib/arraysetops.py:569: FutureWarning: elementwise comparison failed; returning scalar instead, but in the future will perform elementwise comparison\n",
      "  mask |= (ar1 == a)\n"
     ]
    }
   ],
   "source": [
    "labor_market_stats=pd.read_csv(os.path.join(path_to_data,'official','urban',country_code,'labor_market_stats.csv'),index_col=0)\n",
    "pop_metro_area=pd.read_csv(os.path.join(path_to_data,'official','urban',country_code,'pop_metro_area.csv'),index_col=0)"
   ]
  },
  {
   "cell_type": "code",
   "execution_count": 187,
   "metadata": {},
   "outputs": [],
   "source": [
    "pop_metro_area=pop_metro_area.groupby(['metro_area_name','geo_id'],as_index=False)['pop'].mean()\n",
    "df=labor_market_stats.merge(pop_metro_area,on='geo_id')\n",
    "df['unemployment_rate']=df['unemployment_rate'].multiply(df['pop'])\n",
    "df=df.groupby(['year','month','metro_area_name']).sum()\n",
    "df=df['unemployment_rate'].divide(df['pop']).rename('unemployment_rate')\n",
    "df/=100\n",
    "df=df.to_frame().reset_index()\n",
    "df=df.sort_values(by=['year','month','metro_area_name']).reset_index(drop=True)\n",
    "df.to_csv(os.path.join(path_to_data,'official','urban',country_code,'time_series_unemployment_rate.csv'))"
   ]
  }
 ],
 "metadata": {
  "kernelspec": {
   "display_name": "Python 3",
   "language": "python",
   "name": "python3"
  },
  "language_info": {
   "codemirror_mode": {
    "name": "ipython",
    "version": 3
   },
   "file_extension": ".py",
   "mimetype": "text/x-python",
   "name": "python",
   "nbconvert_exporter": "python",
   "pygments_lexer": "ipython3",
   "version": "3.7.7"
  }
 },
 "nbformat": 4,
 "nbformat_minor": 4
}
