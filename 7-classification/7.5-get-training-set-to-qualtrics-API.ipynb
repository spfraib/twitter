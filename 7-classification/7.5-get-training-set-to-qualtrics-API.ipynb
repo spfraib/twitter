{
 "cells": [
  {
   "cell_type": "markdown",
   "metadata": {},
   "source": [
    "References:\n",
    "\n",
    "- https://api.qualtrics.com/docs\n",
    "- https://api.qualtrics.com/reference\n",
    "- https://researcher-help.prolific.co/hc/en-gb/articles/360009220993-Recording-participant-IDs-in-your-study-survey\n",
    "- https://blog.mturk.com/getting-great-survey-results-from-mturk-and-qualtrics-be1704ff9786\n",
    "- https://www.cloudresearch.com/resources/blog/workerid-and-all-mturk-fields-sent-to-qualtrics/\n",
    "- https://medium.com/@jlroo/integrating-a-qualtrics-survey-with-amazon-mechanical-turk-561cdeebe239\n",
    "- https://blog.mturk.com/tutorial-understanding-requirements-and-qualifications-99a26069fba2"
   ]
  },
  {
   "cell_type": "code",
   "execution_count": 1,
   "metadata": {},
   "outputs": [
    {
     "name": "stdout",
     "output_type": "stream",
     "text": [
      "Hostname: Samuels-MBP.home\n",
      "US\n",
      "# tweets per worker: 50\n",
      "Max. # tweets: 2400\n"
     ]
    }
   ],
   "source": [
    "import socket\n",
    "import pandas as pd\n",
    "from timeit import default_timer as timer\n",
    "import os\n",
    "import requests\n",
    "import json\n",
    "import numpy as np\n",
    "import pyarrow.parquet as pq\n",
    "from glob import glob\n",
    "\n",
    "print('Hostname:', socket.gethostname())\n",
    "if 'samuel' in socket.gethostname().lower():\n",
    "    path_to_data='../../data'\n",
    "else:\n",
    "    path_to_data='/scratch/spf248/twitter/data'\n",
    "    \n",
    "model='BERT'\n",
    "iteration='0'\n",
    "\n",
    "# Setting user Parameters\n",
    "with open(os.path.join(path_to_data,'keys/qualtrics/apiToken'),'r') as f:\n",
    "    apiToken = eval(f.readline())\n",
    "dataCenter = \"nyu.ca1\"\n",
    "SurveyName = \"labor-market-tweets\"\n",
    "SurveySourceID = \"SV_4VMcMBs2MXU1tdz\"\n",
    "QuestionTemplateID = \"QID1\"\n",
    "QuestionConsentID = \"QID2\"\n",
    "QuestionWorkerID = \"QID3\"\n",
    "QuestionCompletionID = \"QID4\"\n",
    "QuestionDescriptionID = \"QID5\"\n",
    "\n",
    "country_code = \"US\"\n",
    "print(country_code)\n",
    "\n",
    "block_size=50\n",
    "print('# tweets per worker:', block_size)\n",
    "\n",
    "max_tweets=2400\n",
    "print('Max. # tweets:', max_tweets)"
   ]
  },
  {
   "cell_type": "code",
   "execution_count": 2,
   "metadata": {},
   "outputs": [
    {
     "name": "stdout",
     "output_type": "stream",
     "text": [
      "SLURM_JOB_ID : 0 (Default)\n",
      "SLURM_ARRAY_TASK_ID : 0 (Default)\n",
      "SLURM_ARRAY_TASK_COUNT : 1 (Default)\n"
     ]
    }
   ],
   "source": [
    "def get_env_var(varname,default):\n",
    "    \n",
    "    if os.environ.get(varname) != None:\n",
    "        var = int(os.environ.get(varname))\n",
    "        print(varname,':', var)\n",
    "    else:\n",
    "        var = default\n",
    "        print(varname,':', var,'(Default)')\n",
    "    return var\n",
    "\n",
    "# Choose Number of Nodes To Distribute Credentials: e.g. jobarray=0-4, cpu_per_task=20, credentials = 90 (<100)\n",
    "SLURM_JOB_ID            = get_env_var('SLURM_JOB_ID',0)\n",
    "SLURM_ARRAY_TASK_ID     = get_env_var('SLURM_ARRAY_TASK_ID',0)\n",
    "SLURM_ARRAY_TASK_COUNT  = get_env_var('SLURM_ARRAY_TASK_COUNT',1)"
   ]
  },
  {
   "cell_type": "markdown",
   "metadata": {},
   "source": [
    "# Import Sample"
   ]
  },
  {
   "cell_type": "code",
   "execution_count": 3,
   "metadata": {},
   "outputs": [
    {
     "name": "stdout",
     "output_type": "stream",
     "text": [
      "Attention Checks:\n",
      "\n",
      "I lost my job today.\n",
      "I got hired today.\n"
     ]
    }
   ],
   "source": [
    "checks={'US':['I lost my job today.','I got hired today.']}[country_code]\n",
    "print('Attention Checks:\\n')\n",
    "print('\\n'.join(checks))"
   ]
  },
  {
   "cell_type": "code",
   "execution_count": 4,
   "metadata": {},
   "outputs": [
    {
     "name": "stdout",
     "output_type": "stream",
     "text": [
      "# tweets: 9800\n"
     ]
    }
   ],
   "source": [
    "tweets=pq.ParquetDataset(glob(os.path.join(path_to_data,'classification',country_code,'labeling',model,iteration,'sample','*.parquet'))).read().to_pandas()\n",
    "tweets=tweets.drop_duplicates('tweet_id')\n",
    "tweets.tweet_id=tweets.tweet_id.astype(str)\n",
    "tweets=np.array_split(tweets,SLURM_ARRAY_TASK_COUNT)[SLURM_ARRAY_TASK_ID]\n",
    "print('# tweets:', tweets.shape[0])"
   ]
  },
  {
   "cell_type": "code",
   "execution_count": 15,
   "metadata": {},
   "outputs": [
    {
     "name": "stdout",
     "output_type": "stream",
     "text": [
      "# labeled tweets: 9565\n",
      "# remaining tweets: 235\n"
     ]
    }
   ],
   "source": [
    "ids_labeled=list(pd.read_pickle(os.path.join(path_to_data,'classification',country_code,'labeling',model,iteration,'labels.pkl'))['tweet_id'].values)\n",
    "print('# labeled tweets:', len(ids_labeled))\n",
    "\n",
    "tweets=tweets[-tweets.tweet_id.isin(ids_labeled)].reset_index(drop=True)\n",
    "print('# remaining tweets:', tweets.shape[0])\n",
    "\n",
    "if tweets.shape[0]>=max_tweets:\n",
    "    tweets=tweets.sample(n=max_tweets,random_state=0)\n",
    "    print('# remaining tweets after sampling:', tweets.shape[0])"
   ]
  },
  {
   "cell_type": "code",
   "execution_count": 16,
   "metadata": {},
   "outputs": [
    {
     "name": "stdout",
     "output_type": "stream",
     "text": [
      "# workers (2 workers per tweets + 2 attention checks per worker): 8\n"
     ]
    }
   ],
   "source": [
    "n_workers=(tweets.shape[0]//(block_size-len(checks)))*2\n",
    "print('# workers (2 workers per tweets + 2 attention checks per worker):', n_workers)"
   ]
  },
  {
   "cell_type": "code",
   "execution_count": 17,
   "metadata": {},
   "outputs": [
    {
     "name": "stdout",
     "output_type": "stream",
     "text": [
      "# Tweets by chunk: 60.75\n",
      "# Tweets to label: 486\n"
     ]
    }
   ],
   "source": [
    "# Create two version of each tweet\n",
    "tweets_0=tweets.sample(frac=1,random_state=0).set_index('tweet_id')['text']\n",
    "tweets_0.index=tweets_0.index.map(lambda x:x+'-v0')\n",
    "tweets_1=tweets.sample(frac=1,random_state=1).set_index('tweet_id')['text']\n",
    "tweets_1.index=tweets_1.index.map(lambda x:x+'-v1')\n",
    "\n",
    "# Split tweets into chunks with two labels per tweet\n",
    "chunks=np.array_split(tweets_0,n_workers//2)+np.array_split(tweets_1,n_workers//2)\n",
    "\n",
    "# Add attention checks\n",
    "chunks=[chunk.append(pd.Series({\n",
    "'check-0-worker-'+str(i):checks[0],\n",
    "'check-1-worker-'+str(i):checks[1]})).sample(frac=1,random_state=0) \n",
    "for i,chunk in enumerate(chunks)]\n",
    "\n",
    "print('# Tweets by chunk:', np.mean([chunk.shape[0] for chunk in chunks]))\n",
    "print('# Tweets to label:', sum([chunk.shape[0] for chunk in chunks]))"
   ]
  },
  {
   "cell_type": "markdown",
   "metadata": {},
   "source": [
    "# Library"
   ]
  },
  {
   "cell_type": "code",
   "execution_count": null,
   "metadata": {},
   "outputs": [],
   "source": [
    "def create_survey(SurveyName=\"MySurvey\", apiToken=apiToken, dataCenter=dataCenter):\n",
    "\n",
    "    baseUrl = \"https://{0}.qualtrics.com/API/v3/survey-definitions\".format(\n",
    "        dataCenter)\n",
    "    \n",
    "    headers = {\n",
    "        \"x-api-token\": apiToken,\n",
    "        \"content-type\": \"application/json\",\n",
    "        \"Accept\": \"application/json\"\n",
    "    }\n",
    "\n",
    "    data = {\n",
    "        \"SurveyName\": SurveyName,\n",
    "        \"Language\": \"EN\",\n",
    "        \"ProjectCategory\": \"CORE\"\n",
    "    }\n",
    "\n",
    "    response = requests.post(baseUrl, json=data, headers=headers)\n",
    "    \n",
    "    if json.loads(response.text)[\"meta\"][\"httpStatus\"] != '200 - OK':\n",
    "        print(json.loads(response.text)[\"meta\"][\"httpStatus\"])\n",
    "    \n",
    "    SurveyID = json.loads(response.text)['result']['SurveyID']\n",
    "    DefaultBlockID = json.loads(response.text)['result']['DefaultBlockID']\n",
    "\n",
    "    return SurveyID, DefaultBlockID"
   ]
  },
  {
   "cell_type": "code",
   "execution_count": null,
   "metadata": {},
   "outputs": [],
   "source": [
    "def get_options(SurveyID, apiToken=apiToken, dataCenter=dataCenter):\n",
    "\n",
    "    baseUrl = \"https://{0}.qualtrics.com/API/v3/survey-definitions/{1}/options\".format(\n",
    "        dataCenter, SurveyID)\n",
    "    \n",
    "    headers = {\n",
    "        \"x-api-token\": apiToken,\n",
    "    }\n",
    "\n",
    "    response = requests.get(baseUrl, headers=headers)\n",
    "    \n",
    "    if json.loads(response.text)[\"meta\"][\"httpStatus\"] != '200 - OK':\n",
    "        print(json.loads(response.text)[\"meta\"][\"httpStatus\"])\n",
    "        \n",
    "    return json.loads(response.text)[\"result\"]"
   ]
  },
  {
   "cell_type": "code",
   "execution_count": null,
   "metadata": {},
   "outputs": [],
   "source": [
    "def update_options(SurveyOptions, SurveyID, apiToken=apiToken, dataCenter=dataCenter):\n",
    "    \n",
    "    baseUrl = \"https://{0}.qualtrics.com/API/v3/survey-definitions/{1}/options\".format(\n",
    "        dataCenter, SurveyID)\n",
    "    \n",
    "    headers = {\n",
    "    'accept': \"application/json\",\n",
    "    \"content-type\": \"application/json\",\n",
    "    \"x-api-token\": apiToken,\n",
    "    }\n",
    "\n",
    "    response = requests.put(baseUrl, json=SurveyOptions, headers=headers)\n",
    "    \n",
    "    if json.loads(response.text)[\"meta\"][\"httpStatus\"] != '200 - OK':\n",
    "        print(json.loads(response.text)[\"meta\"][\"httpStatus\"])"
   ]
  },
  {
   "cell_type": "code",
   "execution_count": null,
   "metadata": {},
   "outputs": [],
   "source": [
    "def get_flow(SurveyID, apiToken=apiToken, dataCenter=dataCenter):\n",
    "\n",
    "    baseUrl = \"https://{0}.qualtrics.com/API/v3/survey-definitions/{1}/flow\".format(\n",
    "        dataCenter, SurveyID)\n",
    "    \n",
    "    headers = {\n",
    "        \"x-api-token\": apiToken,\n",
    "    }\n",
    "\n",
    "    response = requests.get(baseUrl, headers=headers)\n",
    "    \n",
    "    if json.loads(response.text)[\"meta\"][\"httpStatus\"] != '200 - OK':\n",
    "        print(json.loads(response.text)[\"meta\"][\"httpStatus\"])\n",
    "        \n",
    "    return json.loads(response.text)[\"result\"]"
   ]
  },
  {
   "cell_type": "code",
   "execution_count": null,
   "metadata": {},
   "outputs": [],
   "source": [
    "def update_flow(SurveyFlow, SurveyID, apiToken=apiToken, dataCenter=dataCenter):\n",
    "    \n",
    "    baseUrl = \"https://{0}.qualtrics.com/API/v3/survey-definitions/{1}/flow\".format(\n",
    "        dataCenter, SurveyID)\n",
    "    \n",
    "    headers = {\n",
    "    'accept': \"application/json\",\n",
    "    \"content-type\": \"application/json\",\n",
    "    \"x-api-token\": apiToken,\n",
    "    }\n",
    "\n",
    "    response = requests.put(baseUrl, json=SurveyFlow, headers=headers)\n",
    "    \n",
    "    if json.loads(response.text)[\"meta\"][\"httpStatus\"] != '200 - OK':\n",
    "        print(json.loads(response.text)[\"meta\"][\"httpStatus\"])"
   ]
  },
  {
   "cell_type": "code",
   "execution_count": null,
   "metadata": {},
   "outputs": [],
   "source": [
    "def create_block(BlockName, SurveyID, apiToken=apiToken, dataCenter=dataCenter):\n",
    "    \n",
    "    baseUrl = \"https://{0}.qualtrics.com/API/v3/survey-definitions/{1}/blocks\".format(\n",
    "        dataCenter, SurveyID)\n",
    "\n",
    "    headers = {\n",
    "       'accept': \"application/json\",\n",
    "       'content-type': \"application/json\",\n",
    "       \"x-api-token\": apiToken,\n",
    "    }\n",
    "\n",
    "    BlockTemplate = {\n",
    "    \"Type\": \"Standard\",\n",
    "    \"Description\": BlockName,\n",
    "    }\n",
    "    \n",
    "    response = requests.post(baseUrl, json=BlockTemplate, headers=headers)\n",
    "    \n",
    "    if json.loads(response.text)[\"meta\"][\"httpStatus\"] != '200 - OK':\n",
    "        print(json.loads(response.text)[\"meta\"][\"httpStatus\"])\n",
    "    \n",
    "    BlockID = json.loads(response.text)['result']['BlockID']\n",
    "    FlowID = json.loads(response.text)['result']['FlowID']\n",
    "    \n",
    "    return BlockID, FlowID"
   ]
  },
  {
   "cell_type": "code",
   "execution_count": null,
   "metadata": {},
   "outputs": [],
   "source": [
    "def get_block(BlockID, SurveyID, apiToken=apiToken, dataCenter=dataCenter):\n",
    "\n",
    "    baseUrl = \"https://{0}.qualtrics.com/API/v3/survey-definitions/{1}/blocks/{2}\".format(\n",
    "        dataCenter, SurveyID, BlockID)\n",
    "    \n",
    "    headers = {\n",
    "        \"x-api-token\": apiToken,\n",
    "    }\n",
    "\n",
    "    response = requests.get(baseUrl, headers=headers)\n",
    "    \n",
    "    if json.loads(response.text)[\"meta\"][\"httpStatus\"] != '200 - OK':\n",
    "        print(json.loads(response.text)[\"meta\"][\"httpStatus\"])\n",
    "        \n",
    "    return json.loads(response.text)[\"result\"]"
   ]
  },
  {
   "cell_type": "code",
   "execution_count": null,
   "metadata": {},
   "outputs": [],
   "source": [
    "def update_block(BlockData, BlockID, SurveyID, apiToken=apiToken, dataCenter=dataCenter):\n",
    "\n",
    "    baseUrl = \"https://{0}.qualtrics.com/API/v3/survey-definitions/{1}/blocks/{2}\".format(\n",
    "        dataCenter, SurveyID, BlockID)\n",
    "\n",
    "    headers = {\n",
    "       'accept': \"application/json\",\n",
    "       'content-type': \"application/json\",\n",
    "       \"x-api-token\": apiToken,\n",
    "    }\n",
    "\n",
    "    response = requests.put(baseUrl, json=BlockData, headers=headers)\n",
    "    \n",
    "    if json.loads(response.text)[\"meta\"][\"httpStatus\"] != '200 - OK':\n",
    "        print(json.loads(response.text)[\"meta\"][\"httpStatus\"])"
   ]
  },
  {
   "cell_type": "code",
   "execution_count": null,
   "metadata": {},
   "outputs": [],
   "source": [
    "def create_question(QuestionData, SurveyID, apiToken=apiToken, dataCenter=dataCenter):\n",
    "    \n",
    "    baseUrl = \"https://{0}.qualtrics.com/API/v3/survey-definitions/{1}/questions\".format(\n",
    "        dataCenter, SurveyID)\n",
    "\n",
    "    headers = {\n",
    "       'accept': \"application/json\",\n",
    "       'content-type': \"application/json\",\n",
    "       \"x-api-token\": apiToken,\n",
    "    }\n",
    "\n",
    "    response = requests.post(baseUrl, json=QuestionData, headers=headers)\n",
    "    \n",
    "    if json.loads(response.text)[\"meta\"][\"httpStatus\"] != '200 - OK':\n",
    "        print(json.loads(response.text)[\"meta\"][\"httpStatus\"])\n",
    "    \n",
    "    return json.loads(response.text)['result']['QuestionID']"
   ]
  },
  {
   "cell_type": "code",
   "execution_count": null,
   "metadata": {},
   "outputs": [],
   "source": [
    "def get_question(QuestionID, SurveyID, apiToken=apiToken, dataCenter=dataCenter):\n",
    "\n",
    "    baseUrl = \"https://{0}.qualtrics.com/API/v3/survey-definitions/{1}/questions/{2}\".format(\n",
    "        dataCenter, SurveyID, QuestionID)\n",
    "    \n",
    "    headers = {\n",
    "        \"x-api-token\": apiToken,\n",
    "    }\n",
    "\n",
    "    response = requests.get(baseUrl, headers=headers)\n",
    "    \n",
    "    if json.loads(response.text)[\"meta\"][\"httpStatus\"] != '200 - OK':\n",
    "        print(json.loads(response.text)[\"meta\"][\"httpStatus\"])\n",
    "        \n",
    "    return json.loads(response.text)[\"result\"]"
   ]
  },
  {
   "cell_type": "code",
   "execution_count": null,
   "metadata": {},
   "outputs": [],
   "source": [
    "def update_question(QuestionData, QuestionID, SurveyID, apiToken=apiToken, dataCenter=dataCenter):\n",
    "\n",
    "    baseUrl = \"https://{0}.qualtrics.com/API/v3/survey-definitions/{1}/questions/{2}\".format(\n",
    "        dataCenter, SurveyID, QuestionID)\n",
    "\n",
    "    headers = {\n",
    "       'accept': \"application/json\",\n",
    "       'content-type': \"application/json\",\n",
    "       \"x-api-token\": apiToken,\n",
    "    }\n",
    "\n",
    "    response = requests.put(baseUrl, json=QuestionData, headers=headers)\n",
    "    \n",
    "    if json.loads(response.text)[\"meta\"][\"httpStatus\"] != '200 - OK':\n",
    "        print(json.loads(response.text)[\"meta\"][\"httpStatus\"])"
   ]
  },
  {
   "cell_type": "markdown",
   "metadata": {},
   "source": [
    "# Create Survey"
   ]
  },
  {
   "cell_type": "code",
   "execution_count": null,
   "metadata": {},
   "outputs": [],
   "source": [
    "print('Create New Survey')\n",
    "start = timer()\n",
    "\n",
    "SurveyID, BlockID = create_survey(SurveyName)\n",
    "\n",
    "print(\"Done in\", round(timer()-start), \"sec\")"
   ]
  },
  {
   "cell_type": "code",
   "execution_count": null,
   "metadata": {},
   "outputs": [],
   "source": [
    "print('Fetch Template Question')\n",
    "QuestionTemplateData = get_question(QuestionTemplateID, SurveySourceID)"
   ]
  },
  {
   "cell_type": "code",
   "execution_count": null,
   "metadata": {},
   "outputs": [],
   "source": [
    "start = timer()\n",
    "print(\"Create Questions\")\n",
    "\n",
    "for i,chunk in enumerate(chunks):\n",
    "    \n",
    "    BlockData = get_block(BlockID, SurveyID)\n",
    "    BlockData['Type'] = 'Standard'\n",
    "    update_block(BlockData, BlockID, SurveyID)\n",
    "\n",
    "    print('Worker', i+1)\n",
    "    BlockID, FlowID = create_block(\"Worker \"+str(i+1), SurveyID)\n",
    "\n",
    "    BlockData = get_block(BlockID, SurveyID)\n",
    "    BlockData['Type'] = 'Default'\n",
    "    update_block(BlockData, BlockID, SurveyID)\n",
    "    \n",
    "    for (tweet_id, tweet) in chunk.iteritems():\n",
    "    \n",
    "        text='Please answer the following questions about the following tweet:\\n\\n\"'+tweet+'\"\"'\n",
    "        QuestionID = create_question(QuestionTemplateData, SurveyID)\n",
    "        QuestionData = get_question(QuestionID, SurveyID)\n",
    "        QuestionData['QuestionText'] = tweet\n",
    "        QuestionData['QuestionDescription'] = tweet\n",
    "        QuestionData['QuestionText_Unsafe'] = tweet\n",
    "        QuestionData['DataExportTag'] = 'ID_'+tweet_id\n",
    "        update_question(QuestionData, QuestionID, SurveyID)\n",
    "    \n",
    "    BlockData = get_block(BlockID, SurveyID)\n",
    "    BlockData['Options'] = {\n",
    "    \"BlockLocking\": \"false\",\n",
    "    \"RandomizeQuestions\": \"false\",\n",
    "    \"BlockVisibility\": \"Collapsed\",\n",
    "    }\n",
    "    update_block(BlockData, BlockID, SurveyID)\n",
    "\n",
    "print(\"Done in\", round(timer()-start), \"sec\")"
   ]
  },
  {
   "cell_type": "code",
   "execution_count": null,
   "metadata": {},
   "outputs": [],
   "source": [
    "BlockData = get_block(BlockID, SurveyID)\n",
    "BlockData['Type'] = 'Standard'\n",
    "update_block(BlockData, BlockID, SurveyID)\n",
    "\n",
    "print('Create Completion Block')\n",
    "BlockID, FlowID = create_block(\"Completion\", SurveyID)\n",
    "\n",
    "BlockData = get_block(BlockID, SurveyID)\n",
    "BlockData['Type'] = 'Default'\n",
    "update_block(BlockData, BlockID, SurveyID)\n",
    "\n",
    "print('Create Completion Question')\n",
    "QuestionCompletionData = get_question(QuestionCompletionID, SurveySourceID)\n",
    "QuestionID = create_question(QuestionCompletionData, SurveyID)\n",
    "QuestionData = get_question(QuestionID, SurveyID)\n",
    "QuestionData['DataExportTag'] = 'QIDCompletion'\n",
    "update_question(QuestionData, QuestionID, SurveyID)\n",
    "\n",
    "print('Close Block')\n",
    "BlockData = get_block(BlockID, SurveyID)\n",
    "BlockData['Options'] = {\n",
    "\"BlockLocking\": \"false\",\n",
    "\"RandomizeQuestions\": \"false\",\n",
    "\"BlockVisibility\": \"Collapsed\",\n",
    "}\n",
    "update_block(BlockData, BlockID, SurveyID)"
   ]
  },
  {
   "cell_type": "code",
   "execution_count": null,
   "metadata": {},
   "outputs": [],
   "source": [
    "SurveyFlow = get_flow(SurveyID)\n",
    "\n",
    "print('Randomize Survey Flow')\n",
    "# Create a Randomizer Drawing One Block At Random Except Intro And Completion Block\n",
    "Randomizer = {\n",
    "'Type': 'BlockRandomizer',\n",
    "'FlowID': 'FL_'+str(max([int(el['FlowID'].split('_')[1]) for el in SurveyFlow['Flow']])+1),\n",
    "'SubSet': '1',\n",
    "'EvenPresentation': True,\n",
    "'Flow':SurveyFlow['Flow'][1:-1]}\n",
    "\n",
    "SurveyFlow['Flow'] = [\n",
    "SurveyFlow['Flow'][0],\n",
    "Randomizer,\n",
    "SurveyFlow['Flow'][-1],\n",
    "]\n",
    "\n",
    "SurveyFlow['Properties']['Count']+=1\n",
    "SurveyFlow['Properties'].update({'RemovedFieldsets': []})\n",
    "\n",
    "print('Embbeded Worker ID')\n",
    "EmbeddedData = {'Type': 'EmbeddedData',\n",
    " 'FlowID': 'FL_'+str(max([int(el['FlowID'].split('_')[1]) for el in SurveyFlow['Flow']])+1),\n",
    " 'EmbeddedData': [{'Description': 'Random ID',\n",
    "   'Type': 'Custom',\n",
    "   'Field': 'Random ID',\n",
    "   'VariableType': 'String',\n",
    "   'DataVisibility': [],\n",
    "   'AnalyzeText': False,\n",
    "   'Value': '${rand://int/1000000000:9999999999}'}]}\n",
    "\n",
    "SurveyFlow['Flow'] = [EmbeddedData]+SurveyFlow['Flow']\n",
    "SurveyFlow['Properties']['Count']+=1\n",
    "\n",
    "update_flow(SurveyFlow, SurveyID)"
   ]
  },
  {
   "cell_type": "code",
   "execution_count": null,
   "metadata": {},
   "outputs": [],
   "source": [
    "# Switch Default Block From Current ...\n",
    "BlockData = get_block(BlockID, SurveyID)\n",
    "BlockData['Type'] = 'Standard'\n",
    "update_block(BlockData, BlockID, SurveyID)\n",
    "\n",
    "# ... to Intro\n",
    "BlockID = SurveyFlow['Flow'][1]['ID']\n",
    "BlockData = get_block(BlockID, SurveyID)\n",
    "BlockData['Type'] = 'Default'\n",
    "update_block(BlockData, BlockID, SurveyID)\n",
    "\n",
    "print('Add Consent Question')\n",
    "QuestionConsentData = get_question(QuestionConsentID, SurveySourceID)\n",
    "QuestionID = create_question(QuestionConsentData, SurveyID)\n",
    "QuestionData = get_question(QuestionID, SurveyID)\n",
    "QuestionData['DataExportTag'] = 'QIDConsent'\n",
    "update_question(QuestionData, QuestionID, SurveyID)\n",
    "\n",
    "print('Add Worker ID Question')\n",
    "QuestionWorkerData = get_question(QuestionWorkerID, SurveySourceID)\n",
    "QuestionID = create_question(QuestionWorkerData, SurveyID)\n",
    "QuestionData = get_question(QuestionID, SurveyID)\n",
    "QuestionData['DataExportTag'] = 'QIDWorker'\n",
    "update_question(QuestionData, QuestionID, SurveyID)\n",
    "\n",
    "print('Add Description Question')\n",
    "QuestionDescriptionData = get_question(QuestionDescriptionID, SurveySourceID)\n",
    "QuestionID = create_question(QuestionDescriptionData, SurveyID)\n",
    "QuestionData = get_question(QuestionID, SurveyID)\n",
    "QuestionData['DataExportTag'] = 'QIDDescription'\n",
    "update_question(QuestionData, QuestionID, SurveyID)\n",
    "\n",
    "print('Close Intro Block')\n",
    "BlockData = get_block(BlockID, SurveyID)\n",
    "BlockData['Options'] = {\n",
    "\"BlockLocking\": \"false\",\n",
    "\"RandomizeQuestions\": \"false\",\n",
    "\"BlockVisibility\": \"Collapsed\",\n",
    "}\n",
    "BlockData['Description'] = 'Intro'\n",
    "update_block(BlockData, BlockID, SurveyID)"
   ]
  },
  {
   "cell_type": "code",
   "execution_count": null,
   "metadata": {},
   "outputs": [],
   "source": [
    "print('Update Survey Options')\n",
    "\n",
    "SurveyOptions = get_options(SurveyID)\n",
    "\n",
    "SurveyOptions.update({\n",
    " 'BackButton': 'false',\n",
    " 'SaveAndContinue': 'true',\n",
    " 'SurveyProtection': 'PublicSurvey',\n",
    " 'BallotBoxStuffingPrevention': 'true',\n",
    " 'NoIndex': 'Yes',\n",
    " 'SecureResponseFiles': 'true',\n",
    " 'SurveyExpiration': None,\n",
    " 'SurveyTermination': 'DefaultMessage',\n",
    " 'Header': '',\n",
    " 'Footer': '',\n",
    " 'ProgressBarDisplay': 'None',\n",
    " 'PartialData': '+3 days',\n",
    " 'PreviousButton': ' ← ',\n",
    " 'NextButton': ' → ',\n",
    " 'SkinLibrary': 'nyu',\n",
    " 'SkinType': 'templated',\n",
    " 'Skin': {'brandingId': None,\n",
    "  'templateId': '*base',\n",
    "  'overrides': {'contrast': 0.3, 'questionsContainer': {'on': True}}},\n",
    " 'NewScoring': 1,\n",
    " 'CustomStyles': [],\n",
    " 'QuestionsPerPage': '1',\n",
    " 'PageTransition': 'fade',\n",
    " 'EOSMessage': '',\n",
    " 'ShowExportTags': 'false',\n",
    " 'CollectGeoLocation': 'false',\n",
    " 'SurveyTitle': 'Online Survey Software | Qualtrics Survey Solutions',\n",
    " 'SurveyMetaDescription': 'Qualtrics sophisticated online survey software solutions make creating online surveys easy. Learn more about Research Suite and get a free account today.',\n",
    " 'PasswordProtection': 'No',\n",
    " 'AnonymizeResponse': 'No',\n",
    " 'Password': '',\n",
    " 'RefererCheck': 'No',\n",
    " 'RefererURL': 'http://',\n",
    " 'UseCustomSurveyLinkCompletedMessage': None,\n",
    " 'SurveyLinkCompletedMessage': '',\n",
    " 'SurveyLinkCompletedMessageLibrary': '',\n",
    " 'ResponseSummary': 'No',\n",
    " 'EOSMessageLibrary': '',\n",
    " 'EmailThankYou': 'false',\n",
    " 'ThankYouEmailMessageLibrary': None,\n",
    " 'ThankYouEmailMessage': None,\n",
    " 'ValidateMessage': 'false',\n",
    " 'ValidationMessageLibrary': None,\n",
    " 'InactiveSurvey': 'DefaultMessage',\n",
    " 'PartialDataCloseAfter': 'LastActivity',\n",
    " 'ActiveResponseSet': None,\n",
    " 'InactiveMessageLibrary': '',\n",
    " 'InactiveMessage': '',\n",
    " 'AvailableLanguages': {'EN': []},\n",
    " 'SurveyLanguage': 'EN',\n",
    " 'SurveyStartDate': None,\n",
    " 'SurveyExpirationDate': None})\n",
    "\n",
    "update_options(SurveyOptions, SurveyID)"
   ]
  }
 ],
 "metadata": {
  "kernelspec": {
   "display_name": "Python 3",
   "language": "python",
   "name": "python3"
  },
  "language_info": {
   "codemirror_mode": {
    "name": "ipython",
    "version": 3
   },
   "file_extension": ".py",
   "mimetype": "text/x-python",
   "name": "python",
   "nbconvert_exporter": "python",
   "pygments_lexer": "ipython3",
   "version": "3.7.7"
  }
 },
 "nbformat": 4,
 "nbformat_minor": 2
}
